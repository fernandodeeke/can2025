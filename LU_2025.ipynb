{
  "cells": [
    {
      "cell_type": "markdown",
      "metadata": {
        "id": "view-in-github",
        "colab_type": "text"
      },
      "source": [
        "<a href=\"https://colab.research.google.com/github/fernandodeeke/can2025/blob/main/LU_2025.ipynb\" target=\"_parent\"><img src=\"https://colab.research.google.com/assets/colab-badge.svg\" alt=\"Open In Colab\"/></a>"
      ]
    },
    {
      "cell_type": "markdown",
      "metadata": {
        "id": "ytYQuG2EKqNm"
      },
      "source": [
        "<center><h1></h1>\n",
        "<center><h1>Cálculo Numérico CAN0001</h1></center>\n",
        "<center><h2>2025/1</h2></center>\n",
        "<center><h3>Fernando Deeke Sasse</h3></center>\n",
        "<center><h3>CCT - UDESC</h3></center>\n",
        "<center><h2>Fatoração LU</h2></center>"
      ]
    },
    {
      "cell_type": "markdown",
      "metadata": {
        "id": "SQxfNqN0KqNo"
      },
      "source": [
        "### 1. Fatoração LU  - Introdução"
      ]
    },
    {
      "cell_type": "markdown",
      "metadata": {
        "id": "W7WdTSY9KqNo"
      },
      "source": [
        "É possível mostrar q qualquer matriz não singular $\\mathbf{A}$ pode ser decomposta uma matriz triangular inferior $\\mathbf{L}$, e matriz triangular superior $\\mathbf{U}$, ou seja,\n",
        "\n",
        "$$ A = LU $$\n",
        "\n",
        "com\n",
        "\n",
        "\\begin{equation}\n",
        "\\mathbf{A} = \\begin{pmatrix}a_{11}&a_{12}&\\ldots&a_{1n}\\\\a_{21}&\\ddots& &a_{2n}\\\\\\vdots& &\\ddots& \\vdots\\\\a_{n1}&...&...&a_{nn}\\end{pmatrix},\n",
        "\\mathbf{L} = \\begin{pmatrix}l_{11}&l_{12}&\\ldots&l_{1n}\\\\l_{21}&\\ddots& &l_{2n}\\\\\\vdots& &\\ddots& \\vdots\\\\l_{n1}&...&...&l_{nn}\\end{pmatrix},\\\\\n",
        "\\mathbf{U} = \\begin{pmatrix}u_{11}&u_{12}&\\ldots&u_{1n}\\\\u_{21}&\\ddots& &u_{2n}\\\\\\vdots& &\\ddots& \\vdots\\\\u_{n1}&...&...&u_{nn}\\end{pmatrix}.\n",
        "\\end{equation}\n",
        "\n",
        "O procedimento, como veremos a seguir, consiste no uso da eliminação gaussiana.\n",
        "Este é um dos métodos mais utilizados na prática para sistema lineares não esparsos (sistemas esparsos, ou seja com uma matriz de coefientes com a maior parte de componentes nulas, serão tratados mais adiante por meio de métodos iterativos.\n",
        "\n",
        "A ideia consiste no seguinte. Uma vez obtida a fatoração na forma $A = LU$ o sistema $AX=B$ passa a ser ter a forma $LUX=B$. Definindo $Y=UX$ o sistema agora tem a forma $LY=B$. Este sistema pode ser resolvido para $Y$ usando substituição avançada. Ou seja, determinamos $y_1$ a partir da primeira linha, $y_2$ a partir da segunda, e assim por diante. Uma vez obtido $Y$ o próximo passo consiste em resolver o sistema $UX=Y$, que pode ser resolvido para $X$ usando retrosubstituição.\n",
        "\n",
        "A vantagem deste procedimento torna-se aparente quando temos que resolver diversos sistemas de equações que têm a mesma matriz de coeficientes,\n",
        "\n",
        "$$\n",
        "AX_1=B_1, \\qquad AX_2=B_2,\\quad \\cdots \\quad,\\, AX_N=B_N\\,.\n",
        "$$\n",
        "\n",
        "Outra aplicação consiste na inversão de matrizes. Para inverter uma matriz $A$, de ordem $n \\times n$, devemos encontrar uma matriz inversa de $A$, denominada $A^{-1}$, que satisfaz a\n",
        "\n",
        "$$\n",
        "A A^{-1} = I,\n",
        "$$\n",
        "sendo $I$ a matriz identidade, $n \\times n$.\n",
        "\n",
        "Reescrevamos $I$ e $A^{-1}$ em termos de matrizes coluna, ou seja,  $I = [e_1 | e_2 | \\cdots e_n]$, e  $ A^{-1} = [v_1 | v_2 | \\cdots v_n]$. A determinação da matriz inversa agora consiste na resolução de $n$ sistemas lineares da forma\n",
        "\n",
        "$$\n",
        "A v_1 = e_1\\,, \\quad Av_2 = e_2\\,,\\cdots \\,,\\, Av_n=e_n\\,.\n",
        "$$\n",
        "\n",
        "A eliminação Gaussiana tem um custo operacional da ordem de $O(n^3)$ operações. Este é o mesmo custo da operação de fatoração de matrizes, com a diferença de que na fatoração LU a operação é feita somente uma vez no caso de termos que resolver vários sistemas com a mesma matriz de coeficientes. O custo das operações de substituição atrasada (retrosubstituição) e avançada é $O(n^2)$.\n",
        "\n",
        "A fatoração LU não é única, mas há três tipos que são mais utilizados:\n",
        "\n",
        "1. Fatoração de Doolittle: $l_1 = l_2 = \\ldots = l_n = 1$.\n",
        "2. Fatoração de Crout: $u_1 = u_2 = \\ldots = u_n = 1$.\n",
        "3. Fatoração de Cholesky: $L = U^T$ (quando a matriz $A$ é simétrica).\n",
        "\n",
        "Veremos a seguir o procedimento computacional para a fatoração de Doolittle.\n",
        "\n",
        "\n"
      ]
    },
    {
      "cell_type": "markdown",
      "metadata": {
        "id": "omKCUOH1KqNp"
      },
      "source": [
        "### 2. Procedimento operacional para fatoração de Doolittle"
      ]
    },
    {
      "cell_type": "markdown",
      "metadata": {
        "id": "5LFQ3EH5KqNp"
      },
      "source": [
        "Simplesmente realizamos a eliminação gaussiana sobre a matriz A para obter uma matriz triangular superior. Os multiplicadores $m_{ij}$ utilizados na eliminação dos elementos $a_{ij}$ de $A$ são exatamente as componentes abaixo da diagonal da matriz $L$, ou seja, $l_{ij}=m_{ij}$.\n",
        "\n",
        "Vejamos um exemplo, executando o procedimento passo a passo."
      ]
    },
    {
      "cell_type": "markdown",
      "metadata": {
        "id": "B8WTNOqJKqNp"
      },
      "source": [
        "Usaremos uma função que realiza operações elementares de linha:"
      ]
    },
    {
      "cell_type": "code",
      "execution_count": null,
      "metadata": {
        "id": "Qh2kFi8JKqNq"
      },
      "outputs": [],
      "source": [
        "def soma_linha(A,k,i,j):\n",
        "    \"Soma k vezes a linha j à linha i na matriz A\"\n",
        "    n=A.shape[0]\n",
        "    E=np.eye(n)\n",
        "    if i == j:\n",
        "        E[i,i] = k+1\n",
        "    else:\n",
        "        E[i,j] = k\n",
        "    return E@A"
      ]
    },
    {
      "cell_type": "code",
      "execution_count": null,
      "metadata": {
        "id": "v3g6M13lKqNq"
      },
      "outputs": [],
      "source": [
        "import numpy as np"
      ]
    },
    {
      "cell_type": "markdown",
      "metadata": {
        "id": "Bi7gO91HKqNq"
      },
      "source": [
        "Consideremos o sistema $AX=B$ com"
      ]
    },
    {
      "cell_type": "code",
      "execution_count": null,
      "metadata": {
        "id": "SuZTDcQPKqNr",
        "outputId": "079a9cfc-bbee-4d75-b61b-fccc28084430"
      },
      "outputs": [
        {
          "data": {
            "text/plain": [
              "array([[ 2.,  4.,  5.],\n",
              "       [ 5.,  9., -3.],\n",
              "       [ 3.,  5.,  1.]])"
            ]
          },
          "execution_count": 63,
          "metadata": {},
          "output_type": "execute_result"
        }
      ],
      "source": [
        "A = np.array([[2.,4.,5.], [5.,9.,-3.],[3.,5.,1.]])\n",
        "A"
      ]
    },
    {
      "cell_type": "code",
      "execution_count": null,
      "metadata": {
        "id": "b55iANkeKqNr",
        "outputId": "b9ca9967-5d1d-49d5-a82d-cbe91592c8b6"
      },
      "outputs": [
        {
          "data": {
            "text/plain": [
              "array([[2],\n",
              "       [3],\n",
              "       [1]])"
            ]
          },
          "execution_count": 65,
          "metadata": {},
          "output_type": "execute_result"
        }
      ],
      "source": [
        "B = np.array([[2,3,1]])\n",
        "B.T"
      ]
    },
    {
      "cell_type": "markdown",
      "metadata": {
        "id": "IO7tsz63KqNs"
      },
      "source": [
        "Realizemos o procedimento de eliminação gaussiana armazenando os multiplicadores."
      ]
    },
    {
      "cell_type": "code",
      "execution_count": null,
      "metadata": {
        "id": "28adF5YWKqNs",
        "outputId": "ccc88ece-8fb7-4075-9905-5a722f49a7ad"
      },
      "outputs": [
        {
          "data": {
            "text/plain": [
              "array([[  2. ,   4. ,   5. ],\n",
              "       [  0. ,  -1. , -15.5],\n",
              "       [  3. ,   5. ,   1. ]])"
            ]
          },
          "execution_count": 68,
          "metadata": {},
          "output_type": "execute_result"
        }
      ],
      "source": [
        "m10 = 5./2.\n",
        "A1 = soma_linha(A,-m10,1,0)\n",
        "A1"
      ]
    },
    {
      "cell_type": "code",
      "execution_count": null,
      "metadata": {
        "id": "ficX464-KqNs",
        "outputId": "427bcfec-92a7-4074-db98-d7ccad755ba4"
      },
      "outputs": [
        {
          "data": {
            "text/plain": [
              "array([[  2. ,   4. ,   5. ],\n",
              "       [  0. ,  -1. , -15.5],\n",
              "       [  0. ,  -1. ,  -6.5]])"
            ]
          },
          "execution_count": 70,
          "metadata": {},
          "output_type": "execute_result"
        }
      ],
      "source": [
        "m20 = 3./2.\n",
        "A2 = soma_linha(A1,-m20,2,0)\n",
        "A2"
      ]
    },
    {
      "cell_type": "code",
      "execution_count": null,
      "metadata": {
        "id": "mbb5SbUzKqNs",
        "outputId": "e25ca867-f8a0-4f8f-8505-70b6455bd820"
      },
      "outputs": [
        {
          "data": {
            "text/plain": [
              "array([[  2. ,   4. ,   5. ],\n",
              "       [  0. ,  -1. , -15.5],\n",
              "       [  0. ,   0. ,   9. ]])"
            ]
          },
          "execution_count": 72,
          "metadata": {},
          "output_type": "execute_result"
        }
      ],
      "source": [
        "m21 = 1.\n",
        "A3 = soma_linha(A2,-m21,2,1)\n",
        "A3"
      ]
    },
    {
      "cell_type": "markdown",
      "metadata": {
        "id": "j5aT71p8KqNs"
      },
      "source": [
        "A matriz escalonada é a matriz U"
      ]
    },
    {
      "cell_type": "code",
      "execution_count": null,
      "metadata": {
        "id": "_jK_MxNHKqNs",
        "outputId": "69884df4-3efd-455a-f178-758cc1ca3556"
      },
      "outputs": [
        {
          "data": {
            "text/plain": [
              "array([[  2. ,   4. ,   5. ],\n",
              "       [  0. ,  -1. , -15.5],\n",
              "       [  0. ,   0. ,   9. ]])"
            ]
          },
          "execution_count": 75,
          "metadata": {},
          "output_type": "execute_result"
        }
      ],
      "source": [
        "U = A3\n",
        "U"
      ]
    },
    {
      "cell_type": "markdown",
      "metadata": {
        "id": "tZTExGJ6KqNs"
      },
      "source": [
        "A matriz L é aquela com os multiplicadores abaixo da diagonal:"
      ]
    },
    {
      "cell_type": "code",
      "execution_count": null,
      "metadata": {
        "id": "eL1ig7SjKqNs",
        "outputId": "5a01211d-bc99-4d04-b773-af3fa49c62f3"
      },
      "outputs": [
        {
          "data": {
            "text/plain": [
              "array([[1. , 0. , 0. ],\n",
              "       [2.5, 1. , 0. ],\n",
              "       [1.5, 1. , 1. ]])"
            ]
          },
          "execution_count": 78,
          "metadata": {},
          "output_type": "execute_result"
        }
      ],
      "source": [
        "L=np.diag(np.array([1.,1.,1.]))\n",
        "L[1,0]=m10\n",
        "L[2,0]=m20\n",
        "L[2,1]=m21\n",
        "L"
      ]
    },
    {
      "cell_type": "markdown",
      "metadata": {
        "id": "zAXGIb9KKqNt"
      },
      "source": [
        "Podemos verificar que realmente $LU=A$:"
      ]
    },
    {
      "cell_type": "code",
      "execution_count": null,
      "metadata": {
        "id": "teV3SzW7KqNt",
        "outputId": "f0e3de29-7dcb-4197-e061-411230f9d62a"
      },
      "outputs": [
        {
          "data": {
            "text/plain": [
              "array([[0., 0., 0.],\n",
              "       [0., 0., 0.],\n",
              "       [0., 0., 0.]])"
            ]
          },
          "execution_count": 81,
          "metadata": {},
          "output_type": "execute_result"
        }
      ],
      "source": [
        "L@U-A"
      ]
    },
    {
      "cell_type": "markdown",
      "metadata": {
        "id": "kI4FRtBYKqNt"
      },
      "source": [
        "Definimos a função para substituição avançada:"
      ]
    },
    {
      "cell_type": "code",
      "execution_count": null,
      "metadata": {
        "id": "fvCS2ZWgKqNt"
      },
      "outputs": [],
      "source": [
        "def GaussAv(a, b):\n",
        "    n = len(b)\n",
        "    x = np.zeros_like(b, dtype=float)  # Garante o mesmo tipo de b\n",
        "    for k in range(n):\n",
        "        x[k] = (b[k] - np.dot(a[k, :k], x[:k]))\n",
        "    return x.reshape(-1, 1)"
      ]
    },
    {
      "cell_type": "markdown",
      "metadata": {
        "id": "YaXpeHIKKqNt"
      },
      "source": [
        "Resolvemos $LY=B$:"
      ]
    },
    {
      "cell_type": "code",
      "execution_count": null,
      "metadata": {
        "id": "f6PnFPzoKqNt",
        "outputId": "a2a6598e-1a63-4678-98ed-a6d7447d57af"
      },
      "outputs": [
        {
          "data": {
            "text/plain": [
              "array([[ 2.],\n",
              "       [-2.],\n",
              "       [ 0.]])"
            ]
          },
          "execution_count": 117,
          "metadata": {},
          "output_type": "execute_result"
        }
      ],
      "source": [
        "Y = GaussAv(L,B.T)\n",
        "Y"
      ]
    },
    {
      "cell_type": "markdown",
      "metadata": {
        "id": "gdHaFShtKqNt"
      },
      "source": [
        "Para resolver $UX=Y$ devemos usar a retrosubstituição:"
      ]
    },
    {
      "cell_type": "code",
      "execution_count": null,
      "metadata": {
        "id": "B2K2xdRWKqNt"
      },
      "outputs": [],
      "source": [
        "def GaussRetro(a, b):\n",
        "    n = len(b)\n",
        "    x = np.zeros_like(b)\n",
        "    # Retrosubstituição\n",
        "    for k in range(n-1, -1, -1):\n",
        "        x[k] = (b[k] - np.dot(a[k, k+1:], x[k+1:])) / a[k, k]\n",
        "    return x.reshape(-1, 1)"
      ]
    },
    {
      "cell_type": "code",
      "execution_count": null,
      "metadata": {
        "scrolled": true,
        "id": "Ah0HitLqKqNt",
        "outputId": "a16d5aa6-c739-4ecd-ea48-476b2bd14254"
      },
      "outputs": [
        {
          "data": {
            "text/plain": [
              "array([[-3.],\n",
              "       [ 2.],\n",
              "       [ 0.]])"
            ]
          },
          "execution_count": 129,
          "metadata": {},
          "output_type": "execute_result"
        }
      ],
      "source": [
        "X=GaussRetro(U,Y)\n",
        "X"
      ]
    },
    {
      "cell_type": "markdown",
      "metadata": {
        "id": "u7r3m4HdKqNu"
      },
      "source": [
        "Podemos verificar este resultado:"
      ]
    },
    {
      "cell_type": "code",
      "execution_count": null,
      "metadata": {
        "id": "vE5YruC7KqNu",
        "outputId": "6c3fee66-f5f8-4bfe-f21d-2c4df1b1a446"
      },
      "outputs": [
        {
          "data": {
            "text/plain": [
              "array([[0.],\n",
              "       [0.],\n",
              "       [0.]])"
            ]
          },
          "execution_count": 132,
          "metadata": {},
          "output_type": "execute_result"
        }
      ],
      "source": [
        "A@X-B.T"
      ]
    },
    {
      "cell_type": "markdown",
      "metadata": {
        "id": "cDqoJpWQKqNu"
      },
      "source": [
        "### 3.  Pseudocódigo para a fatoração LU de Doolittle\n",
        "\n",
        "Consideremos as matrizes:\n",
        "\n",
        "\\begin{equation}\n",
        "\\mathbf{A} = \\begin{pmatrix}a_{11}&a_{12}&\\ldots&a_{1n}\\\\a_{21}&\\ddots& &a_{2n}\\\\\\vdots& &\\ddots& \\vdots\\\\a_{n1}&...&...&a_{nn}\\end{pmatrix},\n",
        "\\mathbf{L} = \\begin{pmatrix}1&l_{12}&\\ldots&0\\\\l_{21}&\\ddots& &l_{2n}\\\\\\vdots& &\\ddots& \\vdots\\\\0&...&...&1\\end{pmatrix},\\\\\n",
        "\\mathbf{U} = \\begin{pmatrix}u_{11}&u_{12}&\\ldots&u_{1n}\\\\0&\\ddots& &u_{2n}\\\\\\vdots& &\\ddots& \\vdots\\\\0&...&...&u_{nn}\\end{pmatrix}\n",
        "\\end{equation}\n",
        "\n",
        "Podemos resumir o procedimento passo a passo para efetuar a fatoração Doolittle  LU de $A$ da no seguinte pseudocódigo:\n",
        "\n",
        "| Passos | |\n",
        "|--: | :-- |\n",
        "| 1. | Inicialize $\\mathbf{L}$ como uma matriz identidade, $\\mathbf{I}$ de dimensão $n\\times n$ e $\\mathbf{U = A}$.\n",
        "| 2. | Para $i = 1, \\ldots, n$ realize passo 3\n",
        "| 3. | $\\phantom{--}$ For $j=i+1, \\ldots, n$ realize passos 4-5\n",
        "| 4. | $\\phantom{----}$ Faça $l_{ji}=u_{ji}/u_{ii}$\n",
        "| 5. | $\\phantom{----}$ Determine $U_j = (U_j-l_{ji}U_i)$ (sendo $U_i, U_j$ as linhas $i$ e $j$ da matriz $\\mathbf{U}$, respectivamente.)"
      ]
    },
    {
      "cell_type": "markdown",
      "metadata": {
        "id": "CRu-0Y7dKqNu"
      },
      "source": [
        "### 4. Função em Python para fatoração de Doolittle\n",
        "Uma forma de implementar o pseudocódigo acima é o seguinte:"
      ]
    },
    {
      "cell_type": "code",
      "execution_count": null,
      "metadata": {
        "id": "oRbzNvk8KqNu"
      },
      "outputs": [],
      "source": [
        "def LU(A):\n",
        "    n = A.shape[0]\n",
        "    L = np.eye(n, dtype=float)  # L começa como matriz identidade\n",
        "    U = np.zeros_like(A, dtype=float)  # U começa como matriz nula\n",
        "\n",
        "    for k in range(n):  # Itera pelas colunas\n",
        "        # Calcula a linha k de U (parte triangular superior)\n",
        "        # Só precisamos calcular a partir da diagonal (k,k) pois os elementos antes são zero\n",
        "        for j in range(k, n):\n",
        "            U[k, j] = A[k, j] - np.dot(L[k, :k], U[:k, j])\n",
        "        if k < n - 1:\n",
        "            # Calcula os multiplicadores e armazena em L (abaixo da diagonal)\n",
        "            # Só calculamos para i > k pois os elementos acima da diagonal são zero\n",
        "            for i in range(k+1, n):\n",
        "                L[i, k] = (A[i, k] - np.dot(L[i, :k], U[:k, k])) / U[k, k]\n",
        "    return L, U"
      ]
    },
    {
      "cell_type": "markdown",
      "metadata": {
        "id": "05g3kpXaKqNu"
      },
      "source": [
        "### 5. Explicação Passo a Passo da Fatoração LU (Doolittle)\n",
        "\n",
        "A fatoração LU decompõe a matriz $A$ $n\\times n$  em $A=LU$:\n",
        "- `L` (triangular **inferior** com diagonal `1`)\n",
        "- `U` (triangular **superior**)\n",
        "\n",
        "A cada iteração $k$, atualizamos a linha $k$ de $U$ e a coluna $k$ de $L$:\n",
        "\n",
        "---\n",
        "\n",
        "#### **Iteração `k = 0` (Primeira linha e coluna)**\n",
        "1. **Cálculo de `U[0, :]`**:\n",
        "   - `U[0, j] = A[0, j] - (produto vazio) = A[0, j]` para `j ≥ 0`.\n",
        "   - Como `L[0, :0]` (antes da coluna 0) é vazio, o produto interno é zero.\n",
        "   - **Resultado**:  \n",
        "     $$\n",
        "     U[0, :] = \\begin{bmatrix} A_{00} & A_{01} & A_{02} & \\cdots \\end{bmatrix}\n",
        "     $$\n",
        "\n",
        "2. **Cálculo de `L[:, 0]`** (abaixo da diagonal):\n",
        "\n",
        "   $$\n",
        "   L[i, 0] = \\frac{A[i, 0]}{U[0, 0]},, \\quad i > 0.\n",
        "   $$\n",
        "\n",
        "   **Exemplo**:  \n",
        "     $$\n",
        "     L[1, 0] = \\frac{A_{10}}{U_{00}}, \\quad L[2, 0] = \\frac{A_{20}}{U_{00}}, \\quad \\dots\n",
        "     $$\n",
        "\n",
        "---\n",
        "\n",
        "#### **Iteração `k = 1` (Segunda linha e coluna)**\n",
        "1. **Cálculo de `U[1, 1:]`**:\n",
        "   $$ U[1, j] = A[1, j] - L[1, 0] \\cdot U[0, j]\\,\\quad j ≥ 1.$$\n",
        "   - **Exemplo**:  \n",
        "     $$\n",
        "     U_{11} = A_{11} - L_{10} \\cdot U_{01}, \\quad U_{12} = A_{12} - L_{10} \\cdot U_{02}, \\quad \\dots\n",
        "     $$\n",
        "\n",
        "2. **Cálculo de `L[:, 1]`** (abaixo da diagonal):\n",
        "   $$ L[i, 1] = \\frac{A[i, 1] - L[i, 0] \\cdot U[0, 1]}{U[1, 1]} \\,,\\quad i > 1$$\n",
        "**Exemplo**:  \n",
        "     $$\n",
        "     L_{21} = \\frac{A_{21} - L_{20} \\cdot U_{01}}{U_{11}}, \\quad L_{31} = \\frac{A_{31} - L_{30} \\cdot U_{01}}{U_{11}}, \\quad \\dots\n",
        "     $$\n",
        "\n",
        "---\n",
        "\n",
        "#### **Iteração `k = 2` (Terceira linha e coluna)**\n",
        "1. **Cálculo de `U[2, 2:]`**:\n",
        "   $$\n",
        "   U[2, j] = A[2, j] - (L[2, 0] \\cdot U[0, j] + L[2, 1] \\cdot U[1, j])\\,,\\quad j \\geq 2\n",
        "   $$\n",
        "**Exemplo**:  \n",
        "     $$\n",
        "     U_{22} = A_{22} - (L_{20} \\cdot U_{02} + L_{21} \\cdot U_{12})\n",
        "     $$\n",
        "\n",
        "3. **Cálculo de `L[:, 2]`** (abaixo da diagonal):\n",
        "   $$\n",
        "   L[i, 2] = \\frac{A[i, 2] - (L[i, 0] \\cdot U[0, 2] + L[i, 1] \\cdot U[1, 2])}{U[2, 2]} \\,,\\quad i > 2\n",
        "   $$\n",
        "\n",
        "---\n",
        "\n",
        "#### **Padrão Geral para Iteração `k`**\n",
        "1. **Linha `k` de `U`**:\n",
        "   $$\n",
        "   U_{kj} = A_{kj} - \\sum_{m=0}^{k-1} L_{km} \\cdot U_{mj} \\quad \\text{para} \\quad j \\geq k\n",
        "   $$\n",
        "\n",
        "2. **Coluna `k` de `L`** (abaixo da diagonal):\n",
        "   $$\n",
        "   L_{ik} = \\frac{A_{ik} - \\sum_{m=0}^{k-1} L_{im} \\cdot U_{mk}}{U_{kk}} \\quad \\text{para} \\quad i > k\n",
        "   $$\n",
        "\n",
        "---\n",
        "\n",
        "### **Observações**\n",
        "- **`L`**: Sempre tem diagonal `1` e zeros acima da diagonal.\n",
        "- **`U`**: Sempre tem zeros abaixo da diagonal.\n",
        "- Os somatórios são **vazios** para `k = 0`, simplificando os cálculos iniciais.\n"
      ]
    },
    {
      "cell_type": "markdown",
      "metadata": {
        "id": "M00ijDVHKqNu"
      },
      "source": [
        "### 6. Exemplos"
      ]
    },
    {
      "cell_type": "markdown",
      "metadata": {
        "id": "0-r4ASa6KqNu"
      },
      "source": [
        "Testemos a função:"
      ]
    },
    {
      "cell_type": "code",
      "execution_count": null,
      "metadata": {
        "id": "eljASlq7KqNv",
        "outputId": "b5ae4753-58e9-4785-e724-e26af6a3ca1d"
      },
      "outputs": [
        {
          "data": {
            "text/plain": [
              "array([[ 3.,  6.,  8.],\n",
              "       [ 5.,  4., -3.],\n",
              "       [ 3.,  5.,  1.]])"
            ]
          },
          "execution_count": 403,
          "metadata": {},
          "output_type": "execute_result"
        }
      ],
      "source": [
        "A = np.array([[3,6,8], [5,4,-3],[3,5,1]],dtype = float)\n",
        "A"
      ]
    },
    {
      "cell_type": "code",
      "execution_count": null,
      "metadata": {
        "id": "5PXG1c9pKqNv",
        "outputId": "63cbaa26-7e1b-4472-8b78-17aab850556d"
      },
      "outputs": [
        {
          "name": "stdout",
          "output_type": "stream",
          "text": [
            "[[1.         0.         0.        ]\n",
            " [1.66666667 1.         0.        ]\n",
            " [1.         0.16666667 1.        ]]\n",
            "[[  3.           6.           8.        ]\n",
            " [  0.          -6.         -16.33333333]\n",
            " [  0.           0.          -4.27777778]]\n"
          ]
        }
      ],
      "source": [
        "L, U = LU(A)\n",
        "print(L)\n",
        "print(U)"
      ]
    },
    {
      "cell_type": "code",
      "execution_count": null,
      "metadata": {
        "id": "CVnHh4RRKqNv",
        "outputId": "4b9bc9ff-9572-4f8f-c469-5d8c27b336fc"
      },
      "outputs": [
        {
          "data": {
            "text/plain": [
              "array([[ 3.,  6.,  8.],\n",
              "       [ 5.,  4., -3.],\n",
              "       [ 3.,  5.,  1.]])"
            ]
          },
          "execution_count": 407,
          "metadata": {},
          "output_type": "execute_result"
        }
      ],
      "source": [
        "A"
      ]
    },
    {
      "cell_type": "markdown",
      "metadata": {
        "id": "gXqwVm-IKqNv"
      },
      "source": [
        "Verifiquemos o resultado:"
      ]
    },
    {
      "cell_type": "code",
      "execution_count": null,
      "metadata": {
        "id": "XAFa6E6sKqNv",
        "outputId": "ae5a47a2-4832-4994-8ac3-eea8e1439b47"
      },
      "outputs": [
        {
          "data": {
            "text/plain": [
              "array([[ 0.00000000e+00,  0.00000000e+00,  0.00000000e+00],\n",
              "       [ 0.00000000e+00,  0.00000000e+00, -1.77635684e-15],\n",
              "       [ 0.00000000e+00,  0.00000000e+00,  0.00000000e+00]])"
            ]
          },
          "execution_count": 412,
          "metadata": {},
          "output_type": "execute_result"
        }
      ],
      "source": [
        "L@U-A"
      ]
    },
    {
      "cell_type": "markdown",
      "metadata": {
        "id": "JzY0dSOMKqNv"
      },
      "source": [
        "Podemos agora escrever a função completa:"
      ]
    },
    {
      "cell_type": "code",
      "execution_count": null,
      "metadata": {
        "id": "QlbA91HWKqNv"
      },
      "outputs": [],
      "source": [
        "def lu_solve1(A, b):\n",
        "    L, U = LU(A)\n",
        "    y = GaussAv(L, b)\n",
        "    return GaussRetro(U, y)"
      ]
    },
    {
      "cell_type": "markdown",
      "metadata": {
        "id": "1DwxoSjuKqNv"
      },
      "source": [
        "Testemos a função no mesmo sistema usado anteriormente:"
      ]
    },
    {
      "cell_type": "code",
      "execution_count": null,
      "metadata": {
        "id": "EmF9mJG2KqNw"
      },
      "outputs": [],
      "source": [
        "A = np.array([[2.,4.,5.], [5.,9.,-3.],[3.,5.,1.]])\n",
        "B = np.transpose(np.array([[2,3,1]]))"
      ]
    },
    {
      "cell_type": "code",
      "execution_count": null,
      "metadata": {
        "id": "XFtzTN6VKqNw",
        "outputId": "4e33c8f3-ab31-40d9-e376-3ed9ba9fc4c6"
      },
      "outputs": [
        {
          "data": {
            "text/plain": [
              "array([[-3.],\n",
              "       [ 2.],\n",
              "       [ 0.]])"
            ]
          },
          "execution_count": 432,
          "metadata": {},
          "output_type": "execute_result"
        }
      ],
      "source": [
        "X =lu_solve(A,B)\n",
        "X"
      ]
    },
    {
      "cell_type": "markdown",
      "metadata": {
        "id": "7uXBTduDKqNw"
      },
      "source": [
        "que é o resultado esperado. De fato,"
      ]
    },
    {
      "cell_type": "code",
      "execution_count": null,
      "metadata": {
        "id": "732hmPAWKqNw",
        "outputId": "1c55f941-fc6e-4221-bc31-faf0ea8c4afe"
      },
      "outputs": [
        {
          "data": {
            "text/plain": [
              "True"
            ]
          },
          "execution_count": 436,
          "metadata": {},
          "output_type": "execute_result"
        }
      ],
      "source": [
        "np.allclose(A @ X - B, np.zeros((3,)))"
      ]
    },
    {
      "cell_type": "markdown",
      "metadata": {
        "id": "X--tyWm7KqNw"
      },
      "source": [
        "Vejamos o tempo aproximado de CPU para realizar este cálculo."
      ]
    },
    {
      "cell_type": "code",
      "execution_count": null,
      "metadata": {
        "id": "L0mJrb55KqNw",
        "outputId": "8cf07f38-4d6b-4e63-bc6c-cfa576a245cd"
      },
      "outputs": [
        {
          "name": "stdout",
          "output_type": "stream",
          "text": [
            "20.9 μs ± 102 ns per loop (mean ± std. dev. of 7 runs, 10,000 loops each)\n"
          ]
        }
      ],
      "source": [
        "%timeit lu_solve(A,B)"
      ]
    },
    {
      "cell_type": "markdown",
      "metadata": {
        "id": "Tm4PRta4KqNw"
      },
      "source": [
        "### 7. Função geral LU"
      ]
    },
    {
      "cell_type": "markdown",
      "metadata": {
        "id": "mNLo6VRZKqNw"
      },
      "source": [
        "Podemos juntar as três funções anteriores (modificando os procedimentos de substituição) para obter uma função da seguinte forma:"
      ]
    },
    {
      "cell_type": "code",
      "execution_count": null,
      "metadata": {
        "id": "K-qAouUaKqNw"
      },
      "outputs": [],
      "source": [
        "import numpy as np\n",
        "\n",
        "def lu_solve_2(A, B):\n",
        "    \"\"\"\n",
        "    Resolve o sistema AX = B usando fatoração LU de Doolittle (sem pivoteamento).\n",
        "\n",
        "    Parâmetros:\n",
        "        A: Matriz de coeficientes (n x n)\n",
        "        B: Matriz/Vetor de termos independentes (n x m) ou (n,)\n",
        "\n",
        "    Retorna:\n",
        "        X: Solução do sistema (n x m) ou (n,)\n",
        "    \"\"\"\n",
        "    A = np.array(A, dtype=float)\n",
        "    B = np.array(B, dtype=float)\n",
        "\n",
        "    # Verifica se A é quadrada\n",
        "    if A.shape[0] != A.shape[1]:\n",
        "        raise ValueError(\"A matriz A deve ser quadrada.\")\n",
        "\n",
        "    n = A.shape[0]\n",
        "\n",
        "    # Fatoração LU (Doolittle)\n",
        "    L = np.eye(n)  # Inicializa L como identidade\n",
        "    U = np.zeros((n, n))  # Inicializa U como zeros\n",
        "\n",
        "    for k in range(n):\n",
        "        # Calcula a linha k de U\n",
        "        U[k, k:] = A[k, k:] - L[k, :k] @ U[:k, k:]\n",
        "\n",
        "        # Calcula a coluna k de L (após a diagonal)\n",
        "        if k < n - 1:\n",
        "            L[k+1:, k] = (A[k+1:, k] - L[k+1:, :k] @ U[:k, k]) / U[k, k]\n",
        "\n",
        "    # Verifica se U tem pivôs nulos (matriz singular)\n",
        "    if np.any(np.diag(U) == 0):\n",
        "        raise ValueError(\"Matriz singular (pivô zero detectado). Não é possível resolver o sistema.\")\n",
        "\n",
        "    # Resolve LY = B (substituição avançada)\n",
        "    Y = np.zeros_like(B)\n",
        "    for i in range(n):\n",
        "        Y[i] = B[i] - L[i, :i] @ Y[:i]\n",
        "\n",
        "    # Resolve UX = Y (retrosubstituição)\n",
        "    X = np.zeros_like(Y)\n",
        "    for i in range(n-1, -1, -1):\n",
        "        X[i] = (Y[i] - U[i, i+1:] @ X[i+1:]) / U[i, i]\n",
        "\n",
        "    return X"
      ]
    },
    {
      "cell_type": "markdown",
      "metadata": {
        "id": "LsxZodpCKqNx"
      },
      "source": [
        "Testemos a função em um sistema aleatório:"
      ]
    },
    {
      "cell_type": "code",
      "execution_count": null,
      "metadata": {
        "id": "urlJ83zeKqNx"
      },
      "outputs": [],
      "source": [
        "np.random.seed(22222)\n",
        "N = 4\n",
        "A = np.random.rand(N,N)\n",
        "B = np.random.rand(N,1)"
      ]
    },
    {
      "cell_type": "code",
      "execution_count": null,
      "metadata": {
        "id": "6HD71nDGKqNx",
        "outputId": "6f749e80-0ca0-486f-806e-dc7603632c24"
      },
      "outputs": [
        {
          "data": {
            "text/plain": [
              "array([[-0.05013332],\n",
              "       [ 0.68742662],\n",
              "       [ 0.4035997 ],\n",
              "       [ 0.37803803]])"
            ]
          },
          "execution_count": 463,
          "metadata": {},
          "output_type": "execute_result"
        }
      ],
      "source": [
        "X =lu_solve2(A,B)\n",
        "X"
      ]
    },
    {
      "cell_type": "markdown",
      "metadata": {
        "id": "WX98J_MlKqNx"
      },
      "source": [
        "Verifiquemos o resultado:"
      ]
    },
    {
      "cell_type": "code",
      "execution_count": null,
      "metadata": {
        "id": "PDieTyyEKqNx",
        "outputId": "95184039-77c6-4bda-bc29-5852eaa96dbf"
      },
      "outputs": [
        {
          "data": {
            "text/plain": [
              "True"
            ]
          },
          "execution_count": 465,
          "metadata": {},
          "output_type": "execute_result"
        }
      ],
      "source": [
        "np.allclose(A @ X - B, np.zeros((4,)))"
      ]
    },
    {
      "cell_type": "markdown",
      "metadata": {
        "id": "eI2N387zKqNx"
      },
      "source": [
        "ou"
      ]
    },
    {
      "cell_type": "code",
      "execution_count": null,
      "metadata": {
        "id": "4U6JikgUKqNx",
        "outputId": "9908f192-2175-4114-d9c7-083bfd7e4a55"
      },
      "outputs": [
        {
          "data": {
            "text/plain": [
              "2.220446049250313e-16"
            ]
          },
          "execution_count": 482,
          "metadata": {},
          "output_type": "execute_result"
        }
      ],
      "source": [
        "np.linalg.norm(res, ord=np.inf) # maior componente do vetor"
      ]
    },
    {
      "cell_type": "markdown",
      "metadata": {
        "id": "voIRZNdqKqNx"
      },
      "source": [
        "Calculemos o tempo de CPU para a realização do cálculo:"
      ]
    },
    {
      "cell_type": "code",
      "execution_count": null,
      "metadata": {
        "id": "NyAF8-wbKqNx",
        "outputId": "06409084-15a8-4513-c43f-859d3e447cf1"
      },
      "outputs": [
        {
          "name": "stdout",
          "output_type": "stream",
          "text": [
            "23.8 μs ± 73.3 ns per loop (mean ± std. dev. of 7 runs, 10,000 loops each)\n"
          ]
        }
      ],
      "source": [
        "%timeit lu_solve2(A,B)"
      ]
    },
    {
      "cell_type": "code",
      "execution_count": null,
      "metadata": {
        "id": "sBe9eMyNKqNy"
      },
      "outputs": [],
      "source": [
        "np.random.seed(22222) #use os primeiros 5 números do seu cpf\n",
        "N = 100\n",
        "A = np.random.rand(N,N)\n",
        "B = np.random.rand(N,1)"
      ]
    },
    {
      "cell_type": "markdown",
      "metadata": {
        "id": "wQs5RmNTKqNy"
      },
      "source": [
        "### 8. Exercícios"
      ]
    },
    {
      "cell_type": "markdown",
      "metadata": {
        "id": "PQq9d_BMKqNy"
      },
      "source": [
        "**1.** Resolva manualmente o sistema $AX = B$ com"
      ]
    },
    {
      "cell_type": "code",
      "execution_count": null,
      "metadata": {
        "id": "2CigITn_KqNy"
      },
      "outputs": [],
      "source": [
        "A = np.array([[0.,3.,6.,1.], [1.,5.,-5.,6],[4.,7.,-1.,5.],[-2., 4., 9., -3]])\n",
        "B = np.transpose(np.array([[-2.,4.,2.,5.]]))"
      ]
    },
    {
      "cell_type": "markdown",
      "metadata": {
        "id": "LF2jWAHkKqNy"
      },
      "source": [
        "**2.** Resolva o sistema acima manualmente, mas seguindo todos os passos do algoritmo, conforme explicado acima."
      ]
    },
    {
      "cell_type": "markdown",
      "metadata": {
        "id": "ZGuE9_m3KqNy"
      },
      "source": [
        "**3.** Teste o algoritmo LU para sistemas grandes (use um sistema aleatório com mais de 1000 equações). Verifique o tempo de CPU utilizado."
      ]
    },
    {
      "cell_type": "code",
      "execution_count": null,
      "metadata": {
        "id": "Yw-3PADYKqNy"
      },
      "outputs": [],
      "source": []
    }
  ],
  "metadata": {
    "kernelspec": {
      "display_name": "Python 3 (ipykernel)",
      "language": "python",
      "name": "python3"
    },
    "language_info": {
      "codemirror_mode": {
        "name": "ipython",
        "version": 3
      },
      "file_extension": ".py",
      "mimetype": "text/x-python",
      "name": "python",
      "nbconvert_exporter": "python",
      "pygments_lexer": "ipython3",
      "version": "3.12.4"
    },
    "colab": {
      "provenance": [],
      "include_colab_link": true
    }
  },
  "nbformat": 4,
  "nbformat_minor": 0
}