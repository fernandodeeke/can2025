{
  "cells": [
    {
      "cell_type": "markdown",
      "metadata": {
        "id": "view-in-github",
        "colab_type": "text"
      },
      "source": [
        "<a href=\"https://colab.research.google.com/github/fernandodeeke/can2025/blob/main/LU_Cholesky_QR_2025.ipynb\" target=\"_parent\"><img src=\"https://colab.research.google.com/assets/colab-badge.svg\" alt=\"Open In Colab\"/></a>"
      ]
    },
    {
      "cell_type": "markdown",
      "metadata": {
        "id": "cqKrEV2CjwSC"
      },
      "source": [
        "<center><h1></h1></center>\n",
        "<center><h1>Cálculo Numérico CAN0001</h1></center>\n",
        "<center><h2>2022/2</h2></center>\n",
        "<center><h3>Fernando Deeke Sasse</h3></center>\n",
        "<center><h3>CCT - UDESC</h3></center>\n",
        "<center><h2>Fatoração LU, Cholesky e QR</h2></center>"
      ]
    },
    {
      "cell_type": "markdown",
      "metadata": {
        "id": "Kb00xdKCjwSE"
      },
      "source": [
        "### 1.  Introdução"
      ]
    },
    {
      "cell_type": "markdown",
      "metadata": {
        "id": "5lOf4A_njwSE"
      },
      "source": [
        "É possível mostrar q qualquer matriz não singular $\\mathbf{A}$ pode ser decomposta uma matriz triangular inferior $\\mathbf{L}$, e matriz triangular superior $\\mathbf{U}$, ou seja,\n",
        "\n",
        "$$ A = LU, $$\n",
        "\n",
        "com\n",
        "\n",
        "\\begin{equation}\n",
        "\\mathbf{A} = \\begin{pmatrix}a_{11}&a_{12}&\\ldots&a_{1n}\\\\a_{21}&\\ddots& &a_{2n}\\\\\\vdots& &\\ddots& \\vdots\\\\a_{n1}&...&...&a_{nn}\\end{pmatrix},\n",
        "\\mathbf{L} = \\begin{pmatrix}l_{11}&0&\\ldots&0\\\\ l_{21}&\\ddots& &0\\\\\\vdots& &\\ddots& \\vdots\\\\l_{n1}&...&...&l_{nn}\\end{pmatrix},\\\\\n",
        "\\mathbf{U} = \\begin{pmatrix}u_{11}&u_{12}&\\ldots&u_{1n}\\\\0&\\ddots& &u_{2n}\\\\\\vdots& &\\ddots& \\vdots\\\\0&0&...&u_{nn}\\end{pmatrix}.\n",
        "\\end{equation}\n",
        "\n",
        "O procedimento, como veremos a seguir, consiste no uso da eliminação gaussiana.\n",
        "Este é um dos métodos mais utilizados na prática para sistema lineares não esparsos (sistemas esparsos, ou seja com uma matriz de coefientes com a maior parte de componentes nulas, serão tratados mais adiante por meio de métodos iterativos.\n",
        "\n",
        "A ideia consiste no seguinte. Uma vez obtida a fatoração na forma $A = LU$ o sistema $AX=B$ passa a ser ter a forma $LUX=B$. Definindo $Y=UX$ o sistema agora tem a forma $LY=B$. Este sistema pode ser resolvido para $Y$ usando substituição avançada. Ou seja, determinamos $y_1$ a partir da primeira linha, $y_2$ a partir da segunda, e assim por diante. Uma vez obtido $Y$ o próximo passo consiste em resolver o sistema $UX=Y$, que pode ser resolvido para $X$ usando retrosubstituição.\n",
        "\n",
        "A vantagem deste procedimento torna-se aparente quando temos que resolver diversos sistemas de equações que têm a mesma matriz de coeficientes,\n",
        "\n",
        "$$\n",
        "AX_1=B_1, \\qquad AX_2=B_2,\\quad \\cdots \\quad,\\, AX_N=B_N\\,.\n",
        "$$\n",
        "\n",
        "Outra aplicação consiste na inversão de matrizes. Para inverter uma matriz $A$, de ordem $n \\times n$, devemos encontrar uma matriz inversa de $A$, denominada $A^{-1}$, que satisfaz a\n",
        "\n",
        "$$\n",
        "A A^{-1} = I,\n",
        "$$\n",
        "sendo $I$ a matriz identidade, $n \\times n$.\n",
        "\n",
        "Reescrevamos $I$ e $A^{-1}$ em termos de matrizes coluna, ou seja,  $I = [e_1 | e_2 | \\cdots e_n]$, e  $ A^{-1} = [v_1 | v_2 | \\cdots v_n]$. A determinação da matriz inversa agora consiste na resolução de $n$ sistemas lineares da forma\n",
        "\n",
        "$$\n",
        "A v_1 = e_1\\,, \\quad Av_2 = e_2\\,,\\cdots \\,,\\, Av_n=e_n\\,.\n",
        "$$\n",
        "\n",
        "A eliminação Gaussiana tem um custo operacional da ordem de $O(n^3)$ operações. Este é o mesmo custo da operação de fatoração de matrizes, com a diferença de que na fatoração LU a operação é feita somente uma vez no caso de termos que resolver vários sistemas com a mesma matriz de coeficientes. O custo das operações de substituição atrasada (retrosubstituição) e avançada é $O(n^2)$.\n",
        "\n",
        "A fatoração LU não é única, mas há três tipos que são mais utilizados:\n",
        "\n",
        "1. Fatoração de Doolittle: $l_1 = l_2 = \\ldots = l_n = 1$.\n",
        "2. Fatoração de Crout: $u_1 = u_2 = \\ldots = u_n = 1$.\n",
        "3. Fatoração de Cholesky: $L = U^T$ (quando a matriz $A$ é simétrica).\n",
        "\n",
        "Veremos a seguir o procedimento computacional para a fatoração de Doolittle."
      ]
    },
    {
      "cell_type": "markdown",
      "metadata": {
        "id": "GBxdGLwJjwSF"
      },
      "source": [
        "### 2. Procedimento operacional para fatoração de Doolittle"
      ]
    },
    {
      "cell_type": "markdown",
      "metadata": {
        "id": "ev2_AUOsjwSF"
      },
      "source": [
        "Simplesmente realizamos a eliminação gaussiana sobre a matriz A para obter uma matriz triangular superior. Os multiplicadores $m_{ij}$ utilizados na eliminação dos elementos $a_{ij}$ de $A$ são exatamente as componentes abaixo da diagonal da matriz $L$, ou seja, $l_{ij}=m_{ij}$.\n",
        "\n",
        "Vejamos um exemplo, executando o procedimento passo a passo."
      ]
    },
    {
      "cell_type": "code",
      "execution_count": 4,
      "metadata": {
        "colab": {
          "base_uri": "https://localhost:8080/"
        },
        "id": "8kcrwZ0-jwSF",
        "outputId": "59161ca9-47c0-4fe5-dfd7-baad1e9e2965"
      },
      "outputs": [
        {
          "output_type": "stream",
          "name": "stdout",
          "text": [
            "Collecting wikipedia\n",
            "  Downloading wikipedia-1.4.0.tar.gz (27 kB)\n",
            "  Preparing metadata (setup.py) ... \u001b[?25l\u001b[?25hdone\n",
            "Requirement already satisfied: beautifulsoup4 in /usr/local/lib/python3.11/dist-packages (from wikipedia) (4.13.3)\n",
            "Requirement already satisfied: requests<3.0.0,>=2.0.0 in /usr/local/lib/python3.11/dist-packages (from wikipedia) (2.32.3)\n",
            "Requirement already satisfied: charset-normalizer<4,>=2 in /usr/local/lib/python3.11/dist-packages (from requests<3.0.0,>=2.0.0->wikipedia) (3.4.1)\n",
            "Requirement already satisfied: idna<4,>=2.5 in /usr/local/lib/python3.11/dist-packages (from requests<3.0.0,>=2.0.0->wikipedia) (3.10)\n",
            "Requirement already satisfied: urllib3<3,>=1.21.1 in /usr/local/lib/python3.11/dist-packages (from requests<3.0.0,>=2.0.0->wikipedia) (2.3.0)\n",
            "Requirement already satisfied: certifi>=2017.4.17 in /usr/local/lib/python3.11/dist-packages (from requests<3.0.0,>=2.0.0->wikipedia) (2025.1.31)\n",
            "Requirement already satisfied: soupsieve>1.2 in /usr/local/lib/python3.11/dist-packages (from beautifulsoup4->wikipedia) (2.6)\n",
            "Requirement already satisfied: typing-extensions>=4.0.0 in /usr/local/lib/python3.11/dist-packages (from beautifulsoup4->wikipedia) (4.13.0)\n",
            "Building wheels for collected packages: wikipedia\n",
            "  Building wheel for wikipedia (setup.py) ... \u001b[?25l\u001b[?25hdone\n",
            "  Created wheel for wikipedia: filename=wikipedia-1.4.0-py3-none-any.whl size=11678 sha256=cf2884c9f469f3dd98e36825e585136fddb2a67e1555043c5e026f771421e4d6\n",
            "  Stored in directory: /root/.cache/pip/wheels/8f/ab/cb/45ccc40522d3a1c41e1d2ad53b8f33a62f394011ec38cd71c6\n",
            "Successfully built wikipedia\n",
            "Installing collected packages: wikipedia\n",
            "Successfully installed wikipedia-1.4.0\n"
          ]
        }
      ],
      "source": [
        "!pip install wikipedia\n",
        "import wikipedia"
      ]
    },
    {
      "cell_type": "code",
      "execution_count": 7,
      "metadata": {
        "colab": {
          "base_uri": "https://localhost:8080/",
          "height": 143
        },
        "id": "PsmpcdZ-jwSG",
        "outputId": "8d18515e-5fbc-4967-904f-cd39562e270e"
      },
      "outputs": [
        {
          "output_type": "execute_result",
          "data": {
            "text/plain": [
              "'In numerical analysis and linear algebra, lower–upper (LU) decomposition or factorization factors a matrix as the product of a lower triangular matrix and an upper triangular matrix (see matrix multiplication and matrix decomposition). The product sometimes includes a permutation matrix as well. LU decomposition can be viewed as the matrix form of Gaussian elimination. Computers usually solve square systems of linear equations using LU decomposition, and it is also a key step when inverting a matrix or computing the determinant of a matrix. It is also sometimes referred to as LR decomposition (factors into left and right triangular matrices). The LU decomposition was introduced by the Polish astronomer Tadeusz Banachiewicz in 1938.\\n\\n'"
            ],
            "application/vnd.google.colaboratory.intrinsic+json": {
              "type": "string"
            }
          },
          "metadata": {},
          "execution_count": 7
        }
      ],
      "source": [
        "result = wikipedia.summary(\"LU Doolittle\")\n",
        "result"
      ]
    },
    {
      "cell_type": "markdown",
      "metadata": {
        "id": "Ol_kDBSQjwSH"
      },
      "source": [
        "Usaremos uma função que realiza operações elementares de linha:"
      ]
    },
    {
      "cell_type": "code",
      "execution_count": 1,
      "metadata": {
        "id": "pQDnE6ZBjwSH"
      },
      "outputs": [],
      "source": [
        "def soma_linha(A,k,i,j):\n",
        "    \"Soma k vezes a linha j à linha i na matriz A\"\n",
        "    n=A.shape[0]\n",
        "    E=np.eye(n)\n",
        "    if i == j:\n",
        "        E[i,i] = k+1\n",
        "    else:\n",
        "        E[i,j] = k\n",
        "    return E@A"
      ]
    },
    {
      "cell_type": "code",
      "execution_count": 2,
      "metadata": {
        "id": "SrbeVMQ-jwSH"
      },
      "outputs": [],
      "source": [
        "import numpy as np"
      ]
    },
    {
      "cell_type": "markdown",
      "metadata": {
        "id": "72UYPv-0jwSH"
      },
      "source": [
        "Consideremos o sistema $AX=B$ com"
      ]
    },
    {
      "cell_type": "code",
      "execution_count": 3,
      "metadata": {
        "colab": {
          "base_uri": "https://localhost:8080/"
        },
        "id": "joLxXsP0jwSH",
        "outputId": "9f8578de-1546-4e3e-928f-6c379327b354"
      },
      "outputs": [
        {
          "output_type": "execute_result",
          "data": {
            "text/plain": [
              "array([[ 2.,  4.,  5.],\n",
              "       [ 5.,  9., -3.],\n",
              "       [ 3.,  5.,  1.]])"
            ]
          },
          "metadata": {},
          "execution_count": 3
        }
      ],
      "source": [
        "A = np.array([[2.,4.,5.], [5.,9.,-3.],[3.,5.,1.]])\n",
        "A"
      ]
    },
    {
      "cell_type": "code",
      "execution_count": 4,
      "metadata": {
        "colab": {
          "base_uri": "https://localhost:8080/"
        },
        "id": "hUg4TuxWjwSI",
        "outputId": "c36e92d0-8cfa-49b5-a577-93a14f434864"
      },
      "outputs": [
        {
          "output_type": "execute_result",
          "data": {
            "text/plain": [
              "array([[2],\n",
              "       [3],\n",
              "       [1]])"
            ]
          },
          "metadata": {},
          "execution_count": 4
        }
      ],
      "source": [
        "B = np.array([[2,3,1]])\n",
        "B.T"
      ]
    },
    {
      "cell_type": "markdown",
      "metadata": {
        "id": "tlW3g4T9jwSI"
      },
      "source": [
        "Realizemos o procedimento de eliminação gaussiana armazenando os multiplicadores."
      ]
    },
    {
      "cell_type": "code",
      "execution_count": 5,
      "metadata": {
        "colab": {
          "base_uri": "https://localhost:8080/"
        },
        "id": "nJcV_9C-jwSI",
        "outputId": "1fd2b085-bdc7-4065-bf07-8bae4c886a97"
      },
      "outputs": [
        {
          "output_type": "execute_result",
          "data": {
            "text/plain": [
              "array([[  2. ,   4. ,   5. ],\n",
              "       [  0. ,  -1. , -15.5],\n",
              "       [  3. ,   5. ,   1. ]])"
            ]
          },
          "metadata": {},
          "execution_count": 5
        }
      ],
      "source": [
        "m10 = 5./2.\n",
        "A1 = soma_linha(A,-m10,1,0)\n",
        "A1"
      ]
    },
    {
      "cell_type": "code",
      "execution_count": 6,
      "metadata": {
        "colab": {
          "base_uri": "https://localhost:8080/"
        },
        "id": "HE-X2uSkjwSI",
        "outputId": "08bcb6d3-0e30-497f-bab0-9063517b272f"
      },
      "outputs": [
        {
          "output_type": "execute_result",
          "data": {
            "text/plain": [
              "array([[  2. ,   4. ,   5. ],\n",
              "       [  0. ,  -1. , -15.5],\n",
              "       [  0. ,  -1. ,  -6.5]])"
            ]
          },
          "metadata": {},
          "execution_count": 6
        }
      ],
      "source": [
        "m20 = 3./2.\n",
        "A2 = soma_linha(A1,-m20,2,0)\n",
        "A2"
      ]
    },
    {
      "cell_type": "code",
      "execution_count": 7,
      "metadata": {
        "colab": {
          "base_uri": "https://localhost:8080/"
        },
        "id": "7V55nuMJjwSI",
        "outputId": "745123c5-8f76-4a9d-d3e3-a11efb204106"
      },
      "outputs": [
        {
          "output_type": "execute_result",
          "data": {
            "text/plain": [
              "array([[  2. ,   4. ,   5. ],\n",
              "       [  0. ,  -1. , -15.5],\n",
              "       [  0. ,   0. ,   9. ]])"
            ]
          },
          "metadata": {},
          "execution_count": 7
        }
      ],
      "source": [
        "m21 = 1.\n",
        "A3 = soma_linha(A2,-m21,2,1)\n",
        "A3"
      ]
    },
    {
      "cell_type": "markdown",
      "metadata": {
        "id": "qk6fcX7OjwSI"
      },
      "source": [
        "A matriz escalonada é a matriz U"
      ]
    },
    {
      "cell_type": "code",
      "execution_count": 8,
      "metadata": {
        "colab": {
          "base_uri": "https://localhost:8080/"
        },
        "id": "q2ATWvIcjwSI",
        "outputId": "a5898390-68a3-416f-bd91-e08e2ac3a55f"
      },
      "outputs": [
        {
          "output_type": "execute_result",
          "data": {
            "text/plain": [
              "array([[  2. ,   4. ,   5. ],\n",
              "       [  0. ,  -1. , -15.5],\n",
              "       [  0. ,   0. ,   9. ]])"
            ]
          },
          "metadata": {},
          "execution_count": 8
        }
      ],
      "source": [
        "U = A3\n",
        "U"
      ]
    },
    {
      "cell_type": "markdown",
      "metadata": {
        "id": "n9eBAoCGjwSJ"
      },
      "source": [
        "A matriz L é aquela com os multiplicadores abaixo da diagonal:"
      ]
    },
    {
      "cell_type": "code",
      "execution_count": 9,
      "metadata": {
        "colab": {
          "base_uri": "https://localhost:8080/"
        },
        "id": "wGvCGPPJjwSJ",
        "outputId": "2d107a48-21a2-4120-a687-d6987faa8bb2"
      },
      "outputs": [
        {
          "output_type": "execute_result",
          "data": {
            "text/plain": [
              "array([[1. , 0. , 0. ],\n",
              "       [2.5, 1. , 0. ],\n",
              "       [1.5, 1. , 1. ]])"
            ]
          },
          "metadata": {},
          "execution_count": 9
        }
      ],
      "source": [
        "L=np.diag(np.array([1.,1.,1.]))\n",
        "L[1,0]=m10\n",
        "L[2,0]=m20\n",
        "L[2,1]=m21\n",
        "L"
      ]
    },
    {
      "cell_type": "markdown",
      "metadata": {
        "id": "h6h72DQwjwSJ"
      },
      "source": [
        "Podemos verificar que realmente $LU=A$:"
      ]
    },
    {
      "cell_type": "code",
      "execution_count": 10,
      "metadata": {
        "colab": {
          "base_uri": "https://localhost:8080/"
        },
        "id": "AbwPnzzQjwSJ",
        "outputId": "feebf174-c89b-4920-e491-c0bed151f744"
      },
      "outputs": [
        {
          "output_type": "execute_result",
          "data": {
            "text/plain": [
              "array([[0., 0., 0.],\n",
              "       [0., 0., 0.],\n",
              "       [0., 0., 0.]])"
            ]
          },
          "metadata": {},
          "execution_count": 10
        }
      ],
      "source": [
        "L@U-A"
      ]
    },
    {
      "cell_type": "markdown",
      "metadata": {
        "id": "ScH0IuzAjwSJ"
      },
      "source": [
        "Definimos a função para substituição avançada:"
      ]
    },
    {
      "cell_type": "code",
      "execution_count": 13,
      "metadata": {
        "id": "Lhrrz8B1jwSJ"
      },
      "outputs": [],
      "source": [
        "def GaussAv(a, b):\n",
        "    n = len(b)\n",
        "    x = np.zeros(n)\n",
        "    x[0] = b[0].item()  # ou float(b[0])\n",
        "    for k in range(1, n):\n",
        "        x[k] = (b[k] - np.dot(a[k, 0:k], x[0:k])).item()\n",
        "    return np.transpose([x])"
      ]
    },
    {
      "cell_type": "markdown",
      "metadata": {
        "id": "Ioeo9BoTjwSJ"
      },
      "source": [
        "Resolvemos $LY=B$:"
      ]
    },
    {
      "cell_type": "code",
      "execution_count": 14,
      "metadata": {
        "colab": {
          "base_uri": "https://localhost:8080/"
        },
        "id": "QH-oHHEAjwSJ",
        "outputId": "5657a70b-f7b7-4f44-c74d-3b5b8666dc6e"
      },
      "outputs": [
        {
          "output_type": "execute_result",
          "data": {
            "text/plain": [
              "array([[ 2.],\n",
              "       [-2.],\n",
              "       [ 0.]])"
            ]
          },
          "metadata": {},
          "execution_count": 14
        }
      ],
      "source": [
        "Y = GaussAv(L,B.T)\n",
        "Y"
      ]
    },
    {
      "cell_type": "markdown",
      "metadata": {
        "id": "RbjgBXqljwSJ"
      },
      "source": [
        "Para resolver $UX=Y$ devemos usar a retrosubstituição:"
      ]
    },
    {
      "cell_type": "code",
      "source": [
        "def GaussRetro(a, b):\n",
        "    n = len(b)\n",
        "    x = np.zeros(n)\n",
        "    for k in range(n - 1, -1, -1):\n",
        "        x[k] = ((b[k] - np.dot(a[k, k + 1:], x[k + 1:])) / a[k, k]).item()\n",
        "    return np.transpose([x])  # vetor coluna"
      ],
      "metadata": {
        "id": "Fb8ON0AjskQC"
      },
      "execution_count": 17,
      "outputs": []
    },
    {
      "cell_type": "code",
      "execution_count": 18,
      "metadata": {
        "scrolled": true,
        "colab": {
          "base_uri": "https://localhost:8080/"
        },
        "id": "yNvz2lsdjwSK",
        "outputId": "206f1691-db07-45f2-d867-2aad28d7b740"
      },
      "outputs": [
        {
          "output_type": "execute_result",
          "data": {
            "text/plain": [
              "array([[-3.],\n",
              "       [ 2.],\n",
              "       [ 0.]])"
            ]
          },
          "metadata": {},
          "execution_count": 18
        }
      ],
      "source": [
        "X=GaussRetro(U,Y)\n",
        "X"
      ]
    },
    {
      "cell_type": "markdown",
      "metadata": {
        "id": "f0o4buamjwSK"
      },
      "source": [
        "Podemos verificar este resultado:"
      ]
    },
    {
      "cell_type": "code",
      "execution_count": 19,
      "metadata": {
        "colab": {
          "base_uri": "https://localhost:8080/"
        },
        "id": "kWwKJeSjjwSK",
        "outputId": "d50b4e7f-5b03-4568-82ec-993d33dbde4e"
      },
      "outputs": [
        {
          "output_type": "execute_result",
          "data": {
            "text/plain": [
              "array([[0.],\n",
              "       [0.],\n",
              "       [0.]])"
            ]
          },
          "metadata": {},
          "execution_count": 19
        }
      ],
      "source": [
        "A@X-B.T"
      ]
    },
    {
      "cell_type": "markdown",
      "metadata": {
        "id": "pHFxJLLqjwSK"
      },
      "source": [
        "### 3.  Pseudocódigo para a fatoração LU de Doolittle\n",
        "\n",
        "Consideremos as matrizes:\n",
        "\n",
        "\\begin{equation}\n",
        "\\mathbf{A} = \\begin{pmatrix}a_{11}&a_{12}&\\ldots&a_{1n}\\\\a_{21}&\\ddots& &a_{2n}\\\\\\vdots& &\\ddots& \\vdots\\\\a_{n1}&...&...&a_{nn}\\end{pmatrix},\n",
        "\\mathbf{L} = \\begin{pmatrix}l_{11}&l_{12}&\\ldots&l_{1n}\\\\l_{21}&\\ddots& &l_{2n}\\\\\\vdots& &\\ddots& \\vdots\\\\l_{n1}&...&...&l_{nn}\\end{pmatrix},\\\\\n",
        "\\mathbf{U} = \\begin{pmatrix}u_{11}&u_{12}&\\ldots&u_{1n}\\\\u_{21}&\\ddots& &u_{2n}\\\\\\vdots& &\\ddots& \\vdots\\\\u_{n1}&...&...&u_{nn}\\end{pmatrix}\n",
        "\\end{equation}\n",
        "\n",
        "| Passos | |\n",
        "|--: | :-- |\n",
        "| 1. | Inicialize $\\mathbf{L}$ como uma matriz identidade, $\\mathbf{I}$ de dimensão $n\\times n$ e $\\mathbf{U = A}$.\n",
        "| 2. | Para $i = 1, \\ldots, n$ realize passo 3\n",
        "| 3. | $\\phantom{--}$ For $j=i+1, \\ldots, n$ realize passos 4-5\n",
        "| 4. | $\\phantom{----}$ Faça $l_{ji}=u_{ji}/u_{ii}$\n",
        "| 5. | $\\phantom{----}$ Determine $U_j = (U_j-l_{ji}U_i)$ (sendo $U_i, U_j$ as linhas $i$ e $j$ da matriz $\\mathbf{U}$, respectivamente.)"
      ]
    },
    {
      "cell_type": "markdown",
      "metadata": {
        "id": "Ju57WVMWjwSK"
      },
      "source": [
        "### 4. Função em Python para fatoração de Doolittle"
      ]
    },
    {
      "cell_type": "code",
      "execution_count": 20,
      "metadata": {
        "id": "26ASMhIPjwSK"
      },
      "outputs": [],
      "source": [
        "def lu(A):\n",
        "    #Calcula o número de linhas\n",
        "    n = A.shape[0]\n",
        "    U = A.copy()\n",
        "    L = np.eye(n, dtype=np.double)\n",
        "    #Loop sobre as linhas\n",
        "    for i in range(n):\n",
        "        factor = U[i+1:, i] / U[i, i]\n",
        "        L[i+1:, i] = factor\n",
        "        U[i+1:] -= factor[:, np.newaxis] * U[i]\n",
        "    return L, U"
      ]
    },
    {
      "cell_type": "markdown",
      "metadata": {
        "id": "JMz0Z3eYjwSK"
      },
      "source": [
        "Nota: uso de np.newaxis:"
      ]
    },
    {
      "cell_type": "code",
      "execution_count": 48,
      "metadata": {
        "colab": {
          "base_uri": "https://localhost:8080/"
        },
        "id": "InU5RLD8jwSK",
        "outputId": "3b8653dd-9257-4f3d-f788-f7f6a4b26f31"
      },
      "outputs": [
        {
          "output_type": "execute_result",
          "data": {
            "text/plain": [
              "array([0, 1, 2, 3])"
            ]
          },
          "metadata": {},
          "execution_count": 48
        }
      ],
      "source": [
        "import numpy as np\n",
        "x1 = np.arange(4)\n",
        "x1"
      ]
    },
    {
      "cell_type": "code",
      "execution_count": 49,
      "metadata": {
        "colab": {
          "base_uri": "https://localhost:8080/"
        },
        "id": "pxm5yG8PjwSK",
        "outputId": "4d7c8dcc-b5f3-4077-96f9-b3e21bf67fab"
      },
      "outputs": [
        {
          "output_type": "execute_result",
          "data": {
            "text/plain": [
              "(4,)"
            ]
          },
          "metadata": {},
          "execution_count": 49
        }
      ],
      "source": [
        "x1.shape"
      ]
    },
    {
      "cell_type": "code",
      "execution_count": 50,
      "metadata": {
        "id": "DYsAI3-kjwSL"
      },
      "outputs": [],
      "source": [
        "X1 = x1[np.newaxis, :]"
      ]
    },
    {
      "cell_type": "code",
      "execution_count": 51,
      "metadata": {
        "colab": {
          "base_uri": "https://localhost:8080/"
        },
        "id": "zhrw6Aw9jwSL",
        "outputId": "d072b70c-82d3-4cbb-faa7-5d4023d3bb2c"
      },
      "outputs": [
        {
          "output_type": "execute_result",
          "data": {
            "text/plain": [
              "(1, 4)"
            ]
          },
          "metadata": {},
          "execution_count": 51
        }
      ],
      "source": [
        "X1.shape"
      ]
    },
    {
      "cell_type": "code",
      "execution_count": 52,
      "metadata": {
        "colab": {
          "base_uri": "https://localhost:8080/"
        },
        "id": "EyHAYk05jwSM",
        "outputId": "6a9af9fb-05c8-4c14-a837-081af4129d32"
      },
      "outputs": [
        {
          "output_type": "execute_result",
          "data": {
            "text/plain": [
              "array([[0],\n",
              "       [1],\n",
              "       [2],\n",
              "       [3]])"
            ]
          },
          "metadata": {},
          "execution_count": 52
        }
      ],
      "source": [
        "X1.T"
      ]
    },
    {
      "cell_type": "markdown",
      "source": [
        "Outro modo de definir tal função é o seguinte:"
      ],
      "metadata": {
        "id": "ymrKwLQkuGO_"
      }
    },
    {
      "cell_type": "code",
      "execution_count": 21,
      "metadata": {
        "id": "4NSQwaRVjwSM"
      },
      "outputs": [],
      "source": [
        "import numpy as np\n",
        "\n",
        "def lu(A):\n",
        "    n = A.shape[0]\n",
        "    U = A.copy().astype(np.double)\n",
        "    L = np.eye(n, dtype=np.double)\n",
        "\n",
        "    for i in range(n):\n",
        "        if np.isclose(U[i, i], 0.0):\n",
        "            raise ValueError(f\"Pivô nulo na linha {i}. Use PLU com pivotamento.\")\n",
        "\n",
        "        # Eliminação de Gauss\n",
        "        for j in range(i + 1, n):\n",
        "            factor = U[j, i] / U[i, i]\n",
        "            L[j, i] = factor\n",
        "            U[j, :] -= factor * U[i, :]  # broadcasting\n",
        "\n",
        "    return L, U"
      ]
    },
    {
      "cell_type": "markdown",
      "source": [
        "Vejamos um exemplo:"
      ],
      "metadata": {
        "id": "cSXjFY6juMZ5"
      }
    },
    {
      "cell_type": "code",
      "execution_count": 22,
      "metadata": {
        "colab": {
          "base_uri": "https://localhost:8080/"
        },
        "id": "Hlj6_l8GjwSM",
        "outputId": "056b00f5-fd39-4689-ea1b-75a25ce0b809"
      },
      "outputs": [
        {
          "output_type": "execute_result",
          "data": {
            "text/plain": [
              "array([[ 2.,  4.,  5.],\n",
              "       [ 5.,  9., -3.],\n",
              "       [ 3.,  5.,  1.]])"
            ]
          },
          "metadata": {},
          "execution_count": 22
        }
      ],
      "source": [
        "A"
      ]
    },
    {
      "cell_type": "code",
      "execution_count": 23,
      "metadata": {
        "colab": {
          "base_uri": "https://localhost:8080/"
        },
        "id": "3ZFgWd_qjwSM",
        "outputId": "93c0d587-75f6-42a5-e8f3-d3cb58f0baf5"
      },
      "outputs": [
        {
          "output_type": "execute_result",
          "data": {
            "text/plain": [
              "(array([[1. , 0. , 0. ],\n",
              "        [2.5, 1. , 0. ],\n",
              "        [1.5, 1. , 1. ]]),\n",
              " array([[  2. ,   4. ,   5. ],\n",
              "        [  0. ,  -1. , -15.5],\n",
              "        [  0. ,   0. ,   9. ]]))"
            ]
          },
          "metadata": {},
          "execution_count": 23
        }
      ],
      "source": [
        "lu(A)"
      ]
    },
    {
      "cell_type": "markdown",
      "metadata": {
        "id": "e2tnsFgzjwSM"
      },
      "source": [
        "Este é o mesmo resultado obtido anteriormente, passo a passo."
      ]
    },
    {
      "cell_type": "markdown",
      "metadata": {
        "id": "1JDOathqjwSM"
      },
      "source": [
        "Podemos agora escrever a função completa que resolve o sistema $AX=b$:"
      ]
    },
    {
      "cell_type": "code",
      "execution_count": 24,
      "metadata": {
        "id": "Ml6kJUWJjwSM"
      },
      "outputs": [],
      "source": [
        "def lu_solve(A, b):\n",
        "    L, U = lu(A)\n",
        "    y = GaussAv(L, b)\n",
        "    return GaussRetro(U, y)"
      ]
    },
    {
      "cell_type": "markdown",
      "metadata": {
        "id": "TIs_3S7KjwSM"
      },
      "source": [
        "Testemos a função no mesmo sistema usado anteriormente:"
      ]
    },
    {
      "cell_type": "code",
      "execution_count": 25,
      "metadata": {
        "id": "K4GXaG5FjwSM"
      },
      "outputs": [],
      "source": [
        "A = np.array([[2.,4.,5.], [5.,9.,-3.],[3.,5.,1.]])\n",
        "B = np.transpose(np.array([[2,3,1]]))"
      ]
    },
    {
      "cell_type": "code",
      "execution_count": 26,
      "metadata": {
        "colab": {
          "base_uri": "https://localhost:8080/"
        },
        "id": "hJm_VWTOjwSM",
        "outputId": "7c8b5e9a-7ddb-49fc-f147-7ca52cc47b39"
      },
      "outputs": [
        {
          "output_type": "execute_result",
          "data": {
            "text/plain": [
              "array([[-3.],\n",
              "       [ 2.],\n",
              "       [ 0.]])"
            ]
          },
          "metadata": {},
          "execution_count": 26
        }
      ],
      "source": [
        "lu_solve(A,B)"
      ]
    },
    {
      "cell_type": "markdown",
      "metadata": {
        "id": "s2XwrftFjwSN"
      },
      "source": [
        "Este é o resultado correto."
      ]
    },
    {
      "cell_type": "markdown",
      "metadata": {
        "id": "ZsTQiJemjwSN"
      },
      "source": [
        "### 4. Fatoração PLU"
      ]
    },
    {
      "cell_type": "markdown",
      "metadata": {
        "id": "mBB1NUhajwSN"
      },
      "source": [
        "O algoritmo de fatoração LU que vimos acima falhará se em algum ponto tivermos  $a_{ii}=0$.  Para evitar tal problema, devemos modificar o algoritmos para que, quando tal evento ocorrer haja uma troca desta linha com outra com valor não nulo na coluna $i$.\n",
        "\n",
        "Várias estratégias podem ser utilizadas, tais como pivotação parcial de linhas ou colunas. No entanto, por simplicidade faremos aqui somente uma troca de qualquer linha que contenha um elemento nulo na diagonal pela primeira linha abaixo desta que contenha um elemento não nulo nesta coluna.\n",
        "\n",
        "Como estamos trocando linhas somente da matriz de coeficientes, é necessário manter um histórico das trocas de linhas para depois realizá-las no lado direito de uma equação $AX=B$. Para isso criamos uma matriz de permutação multiplicativa $P$ que consiste de uma matriz identidade com as mesmas linhas trocadas.  No final, teremos uma solução para o sistema $PA X = PB$.\n"
      ]
    },
    {
      "cell_type": "markdown",
      "metadata": {
        "id": "pcv-tTWQjwSN"
      },
      "source": [
        "### 5. Pseudocódigo para Fatoração PLU\n",
        "\n",
        "Consideremos as matrizes:\n",
        "\n",
        "\\begin{equation}\n",
        "\\mathbf{A} = \\begin{bmatrix}a_{11}&a_{12}&\\ldots&a_{1n}\\\\a_{21}&\\ddots& &a_{2n}\\\\\\vdots& &\\ddots& \\vdots\\\\a_{n1}&\\ldots&\\ldots&a_{nn}\\end{bmatrix},\n",
        "\\mathbf{L} = \\begin{bmatrix}l_{11}&l_{12}&\\ldots&l_{1n}\\\\l_{21}&\\ddots& &l_{2n}\\\\\\vdots& &\\ddots& \\vdots\\\\l_{n1}&\\ldots&\\ldots&l_{nn}\\end{bmatrix}, \\\\\n",
        "\\mathbf{U} = \\begin{bmatrix}u_{11}&u_{12}&\\ldots&u_{1n}\\\\u_{21}&\\ddots& &u_{2n}\\\\\\vdots& &\\ddots& \\vdots\\\\u_{n1}&\\ldots&\\ldots&u_{nn}\\end{bmatrix},\n",
        "\\mathbf{P} = \\begin{bmatrix}p_{11}&p_{12}&\\ldots&p_{1n}\\\\p_{21}&\\ddots& &p_{2n}\\\\\\vdots& &\\ddots& \\vdots\\\\p_{n1}&\\ldots&\\ldots&p_{nn}\\end{bmatrix}\n",
        "\\end{equation}\n",
        "\n",
        "| Passos | |\n",
        "| --:   | :-- |\n",
        "|   1.  | Inicialize $\\mathbf{L = P = I}$ de dimensão $n \\times n$ e $\\mathbf{U = A}$ |\n",
        "|   2.  | Para $i = 1, \\ldots, n$ realize passos 3-4, 8 |\n",
        "|   3.  | $\\phantom{--}$ Faça $k = i$, |\n",
        "|   4.  | $\\phantom{--}$ Enquanto $u_{ii}=0$, realize passos 5-7 |\n",
        "|   5.  | $\\phantom{----}$ Troque linha $U_i$ pela linha $U_{ k+1 }$ |\n",
        "|   6.  | $\\phantom{----}$ Troque linha $P_i$ pela linha $P_{ k+1 }$ |\n",
        "|   7.  | $\\phantom{----}$ Incremente $k$ em $1$. |\n",
        "|   8.  | $\\phantom{--}$ Para $j = i+1, \\ldots, n$ realize passos 9-10 |\n",
        "|   9.  | $\\phantom{----}$ Faça $l_{ji} = u_{ ji }/ u_{ ii }$ |\n",
        "|  10.  | $\\phantom{----}$ Calcule $U_{ j }=U_{j} - l_{ji} U_{ i }$ (sendo $U_i, U_j$ as linhas $i$ e $j$ da matriz $\\mathbf{U}$, respectivamente.)"
      ]
    },
    {
      "cell_type": "markdown",
      "metadata": {
        "id": "FFDTQ06qjwSN"
      },
      "source": [
        "### 6. Implementação em Python do Algoritmo PLU"
      ]
    },
    {
      "cell_type": "code",
      "execution_count": 27,
      "metadata": {
        "id": "aS52Ekt3jwSN"
      },
      "outputs": [],
      "source": [
        "def plu(A):\n",
        "    n = A.shape[0]\n",
        "    U = A.copy().astype(np.double)\n",
        "    L = np.eye(n, dtype=np.double)\n",
        "    P = np.eye(n, dtype=np.double)\n",
        "\n",
        "    for i in range(n):\n",
        "        # Encontra o índice do maior pivô em valor absoluto\n",
        "        max_row = np.argmax(np.abs(U[i:, i])) + i\n",
        "\n",
        "        if np.isclose(U[max_row, i], 0.0):\n",
        "            raise ValueError(\"Matriz singular, não pode ser decomposta.\")\n",
        "\n",
        "        if max_row != i:\n",
        "            # Troca as linhas em U\n",
        "            U[[i, max_row], :] = U[[max_row, i], :]\n",
        "            # Troca as linhas em P\n",
        "            P[[i, max_row], :] = P[[max_row, i], :]\n",
        "            # Troca as linhas em L (somente colunas já processadas)\n",
        "            if i > 0:\n",
        "                L[[i, max_row], :i] = L[[max_row, i], :i]\n",
        "\n",
        "        # Eliminação de Gauss\n",
        "        for j in range(i+1, n):\n",
        "            factor = U[j, i] / U[i, i]\n",
        "            L[j, i] = factor\n",
        "            U[j, :] -= factor * U[i, :]\n",
        "\n",
        "    return P, L, U\n",
        "\n",
        "    return P, L, U"
      ]
    },
    {
      "cell_type": "markdown",
      "metadata": {
        "id": "K2Q_NBS5jwSN"
      },
      "source": [
        "Testemos tal implementação num exemplo simples:"
      ]
    },
    {
      "cell_type": "code",
      "source": [
        "import numpy as np"
      ],
      "metadata": {
        "id": "ybiak9hTkrcE"
      },
      "execution_count": 28,
      "outputs": []
    },
    {
      "cell_type": "code",
      "execution_count": 29,
      "metadata": {
        "colab": {
          "base_uri": "https://localhost:8080/"
        },
        "id": "KHyoAwayjwSN",
        "outputId": "994368aa-7253-492f-cf90-6114d0c15dfe"
      },
      "outputs": [
        {
          "output_type": "execute_result",
          "data": {
            "text/plain": [
              "(array([[0., 1., 0.],\n",
              "        [0., 0., 1.],\n",
              "        [1., 0., 0.]]),\n",
              " array([[ 1. ,  0. ,  0. ],\n",
              "        [ 0.5,  1. ,  0. ],\n",
              "        [-0.5, -0.2,  1. ]]),\n",
              " array([[ -4. ,   6. ,   3. ],\n",
              "        [  0. , -10. ,   6.5],\n",
              "        [  0. ,   0. ,   0.8]]))"
            ]
          },
          "metadata": {},
          "execution_count": 29
        }
      ],
      "source": [
        "A = np.array([[2, -1, -2],[-4, 6, 3],[-2, -7, 8]], dtype=float)\n",
        "[P,L,U] = plu(A)\n",
        "P,L,U"
      ]
    },
    {
      "cell_type": "markdown",
      "metadata": {
        "id": "RvMfC724jwSN"
      },
      "source": [
        "Verifiquemos o resultado:"
      ]
    },
    {
      "cell_type": "code",
      "execution_count": 30,
      "metadata": {
        "colab": {
          "base_uri": "https://localhost:8080/"
        },
        "id": "RNEMOG6mjwSN",
        "outputId": "ac9633f5-3e00-4509-bf2f-72a19ef79318"
      },
      "outputs": [
        {
          "output_type": "execute_result",
          "data": {
            "text/plain": [
              "array([[ 0.00000000e+00,  0.00000000e+00,  0.00000000e+00],\n",
              "       [ 0.00000000e+00,  0.00000000e+00,  0.00000000e+00],\n",
              "       [ 0.00000000e+00, -1.11022302e-16,  0.00000000e+00]])"
            ]
          },
          "metadata": {},
          "execution_count": 30
        }
      ],
      "source": [
        "P@A-L@U"
      ]
    },
    {
      "cell_type": "markdown",
      "metadata": {
        "id": "gaIIoqQ4jwSO"
      },
      "source": [
        "Podemos agora construir a função que resolve um sistema linear:"
      ]
    },
    {
      "cell_type": "code",
      "execution_count": 31,
      "metadata": {
        "id": "fKB1c4MmjwSO"
      },
      "outputs": [],
      "source": [
        "def plu_solve(A, b):\n",
        "    P, L, U = plu(A)\n",
        "    y = GaussAv(L, np.dot(P, b))\n",
        "    return GaussRetro(U, y)"
      ]
    },
    {
      "cell_type": "markdown",
      "metadata": {
        "id": "Ht07c8TDjwSO"
      },
      "source": [
        "Testemos em um exemplo:"
      ]
    },
    {
      "cell_type": "code",
      "execution_count": 32,
      "metadata": {
        "id": "MslCpMGSjwSO"
      },
      "outputs": [],
      "source": [
        "A = np.array([[0.,4.,5.], [5.,9.,-3.],[3.,5.,1.]])\n",
        "B = np.transpose(np.array([[2,3,1]]))"
      ]
    },
    {
      "cell_type": "code",
      "execution_count": 33,
      "metadata": {
        "colab": {
          "base_uri": "https://localhost:8080/"
        },
        "id": "qWs4t3AZjwSO",
        "outputId": "11292143-05e5-424f-d684-748c307208b0"
      },
      "outputs": [
        {
          "output_type": "execute_result",
          "data": {
            "text/plain": [
              "array([[-0.81818182],\n",
              "       [ 0.72727273],\n",
              "       [-0.18181818]])"
            ]
          },
          "metadata": {},
          "execution_count": 33
        }
      ],
      "source": [
        "X1 = plu_solve(A,B)\n",
        "X1"
      ]
    },
    {
      "cell_type": "markdown",
      "metadata": {
        "id": "ktC-XQt_jwSO"
      },
      "source": [
        "Podemos verificar que esta é realmente a solução:"
      ]
    },
    {
      "cell_type": "code",
      "execution_count": 34,
      "metadata": {
        "colab": {
          "base_uri": "https://localhost:8080/"
        },
        "id": "ZMMJJqWAjwSO",
        "outputId": "6aa64f61-1a54-4ae1-bdac-9cad882aa512"
      },
      "outputs": [
        {
          "output_type": "execute_result",
          "data": {
            "text/plain": [
              "array([[ 0.0000000e+00],\n",
              "       [ 0.0000000e+00],\n",
              "       [-4.4408921e-16]])"
            ]
          },
          "metadata": {},
          "execution_count": 34
        }
      ],
      "source": [
        "A@X1-B"
      ]
    },
    {
      "cell_type": "markdown",
      "metadata": {
        "id": "KBG8D36CjwSO"
      },
      "source": [
        "### 7. PLU com Scipy"
      ]
    },
    {
      "cell_type": "markdown",
      "metadata": {
        "id": "cxeUutTjjwSO"
      },
      "source": [
        "Há um pacote em Scipy capaz de resolver um sistema usando fatoração PLU."
      ]
    },
    {
      "cell_type": "code",
      "execution_count": 37,
      "metadata": {
        "id": "WaonFB_-jwSO"
      },
      "outputs": [],
      "source": [
        "from scipy.linalg import lu_factor, lu_solve\n",
        "import numpy as np"
      ]
    },
    {
      "cell_type": "markdown",
      "source": [
        "Testemos este pacote num exemplo:"
      ],
      "metadata": {
        "id": "5gcyzUvPuxMF"
      }
    },
    {
      "cell_type": "code",
      "execution_count": 38,
      "metadata": {
        "id": "ciZ088RujwSO"
      },
      "outputs": [],
      "source": [
        "A = np.array([[0.,4.,5.,5.], [5.,9.,-3.,-1.],[2.,3.,5.,1.],[3,5.,6.,-3.]])\n",
        "B = np.transpose(np.array([[2,3,1,3]]))"
      ]
    },
    {
      "cell_type": "markdown",
      "metadata": {
        "id": "_Vy2sId1jwSP"
      },
      "source": [
        "Inicialmente fatoramos a matriz"
      ]
    },
    {
      "cell_type": "code",
      "execution_count": 39,
      "metadata": {
        "colab": {
          "base_uri": "https://localhost:8080/"
        },
        "id": "fn9jZBbIjwSP",
        "outputId": "20475eb1-205f-4976-c516-1815ea899340"
      },
      "outputs": [
        {
          "output_type": "execute_result",
          "data": {
            "text/plain": [
              "(array([[ 5.        ,  9.        , -3.        , -1.        ],\n",
              "        [ 0.        ,  4.        ,  5.        ,  5.        ],\n",
              "        [ 0.6       , -0.1       ,  8.3       , -1.9       ],\n",
              "        [ 0.4       , -0.15      ,  0.8373494 ,  3.74096386]]),\n",
              " array([1, 1, 3, 3], dtype=int32))"
            ]
          },
          "metadata": {},
          "execution_count": 39
        }
      ],
      "source": [
        "lu = lu_factor(A)\n",
        "lu"
      ]
    },
    {
      "cell_type": "markdown",
      "metadata": {
        "id": "pO6ryZWOjwSP"
      },
      "source": [
        "Foi realizada a fatoração de Doolittle, com a primeira linha trocada pela segunda. Esta saída é da forma [L\\U], sendo que a parte abaixo da diagonal corresponde à matriz L e o resto é a matriz U. O próximo passo consiste em usar o comando lu_solve:"
      ]
    },
    {
      "cell_type": "code",
      "execution_count": 40,
      "metadata": {
        "colab": {
          "base_uri": "https://localhost:8080/"
        },
        "id": "NjG1QeetjwSP",
        "outputId": "17655400-0705-4dce-d04b-b19a5a8dff3e"
      },
      "outputs": [
        {
          "output_type": "execute_result",
          "data": {
            "text/plain": [
              "array([[-0.70853462],\n",
              "       [ 0.7294686 ],\n",
              "       [ 0.10305958],\n",
              "       [-0.28663446]])"
            ]
          },
          "metadata": {},
          "execution_count": 40
        }
      ],
      "source": [
        "x = lu_solve(lu, B)\n",
        "x"
      ]
    },
    {
      "cell_type": "markdown",
      "metadata": {
        "id": "R0-y61UojwSP"
      },
      "source": [
        "Calculemos o resíduo:"
      ]
    },
    {
      "cell_type": "code",
      "execution_count": 41,
      "metadata": {
        "colab": {
          "base_uri": "https://localhost:8080/"
        },
        "id": "TKy0dPD8jwSP",
        "outputId": "aeaa46d8-826e-410f-a978-84ad59c37ec7"
      },
      "outputs": [
        {
          "output_type": "execute_result",
          "data": {
            "text/plain": [
              "array([[0.0000000e+00],\n",
              "       [4.4408921e-16],\n",
              "       [0.0000000e+00],\n",
              "       [8.8817842e-16]])"
            ]
          },
          "metadata": {},
          "execution_count": 41
        }
      ],
      "source": [
        "R = A@x-B\n",
        "R"
      ]
    },
    {
      "cell_type": "markdown",
      "source": [
        "ou"
      ],
      "metadata": {
        "id": "zOyXHptywV63"
      }
    },
    {
      "cell_type": "code",
      "execution_count": 42,
      "metadata": {
        "id": "oklaopvkjwSP"
      },
      "outputs": [],
      "source": [
        "import numpy.linalg as la"
      ]
    },
    {
      "cell_type": "code",
      "execution_count": 43,
      "metadata": {
        "colab": {
          "base_uri": "https://localhost:8080/"
        },
        "id": "q4Mf8Fv0jwSP",
        "outputId": "a03b78f3-e729-48a3-f15c-f373ef6b1334"
      },
      "outputs": [
        {
          "output_type": "execute_result",
          "data": {
            "text/plain": [
              "np.float64(8.881784197001252e-16)"
            ]
          },
          "metadata": {},
          "execution_count": 43
        }
      ],
      "source": [
        "NR = la.norm(R, np.inf)\n",
        "NR"
      ]
    },
    {
      "cell_type": "markdown",
      "metadata": {
        "id": "yT3LXkLbjwSP"
      },
      "source": [
        "Outro modo usual de verificar se o resíduo é satisfatoriamente próximo a zero é por meio do comando:"
      ]
    },
    {
      "cell_type": "code",
      "execution_count": 44,
      "metadata": {
        "colab": {
          "base_uri": "https://localhost:8080/"
        },
        "id": "L1LquXOmjwSP",
        "outputId": "27835124-e8f4-464e-848a-590350c1857a"
      },
      "outputs": [
        {
          "output_type": "execute_result",
          "data": {
            "text/plain": [
              "True"
            ]
          },
          "metadata": {},
          "execution_count": 44
        }
      ],
      "source": [
        "np.allclose(A @ x - B, np.zeros((4,)))"
      ]
    },
    {
      "cell_type": "markdown",
      "metadata": {
        "id": "-xsnCshRjwSP"
      },
      "source": [
        "A solução pelo método LU pode ser realizada no Scipy com pivotação de linhas. Este processo busca a linha com elemento  pivot ($a_{ii}$), e a promove como linha seguinte a ser trabalhada. Isso evita o aparecimento de multiplicadores muito grandes. Neste cado o procedimento toma a forma:"
      ]
    },
    {
      "cell_type": "code",
      "execution_count": 45,
      "metadata": {
        "id": "J2N9Bx-ejwSP"
      },
      "outputs": [],
      "source": [
        "A = np.array([[0.,4.,5.,5.,6.,4.], [5.,9.,-3.,-1.,2.,2.],[2.,3.,5.,1.,-9,3.],[3,5.,6.,-3.,4,.4],[2.,3., 4, 5., -3, 3.], [3.,4., -5.,2., 1., 4.]])\n",
        "B = np.transpose(np.array([[2.,3.,1.,3.,5.,4.]]))"
      ]
    },
    {
      "cell_type": "code",
      "execution_count": 46,
      "metadata": {
        "colab": {
          "base_uri": "https://localhost:8080/"
        },
        "id": "X1ON608JjwSQ",
        "outputId": "a75f231d-b0d3-4069-8b1a-77287aba776a"
      },
      "outputs": [
        {
          "output_type": "execute_result",
          "data": {
            "text/plain": [
              "array([[ 5.        ,  9.        , -3.        , -1.        ,  2.        ,\n",
              "         2.        ],\n",
              "       [ 0.        ,  4.        ,  5.        ,  5.        ,  6.        ,\n",
              "         4.        ],\n",
              "       [ 0.6       , -0.1       ,  8.3       , -1.9       ,  3.4       ,\n",
              "        -0.4       ],\n",
              "       [ 0.4       , -0.15      ,  0.71686747,  7.51204819, -5.3373494 ,\n",
              "         3.08674699],\n",
              "       [ 0.4       , -0.15      ,  0.8373494 ,  0.49799519, -9.08901363,\n",
              "         1.59775461],\n",
              "       [ 0.6       , -0.35      , -0.1746988 ,  0.53488372, -0.58849479,\n",
              "         3.41934004]])"
            ]
          },
          "metadata": {},
          "execution_count": 46
        }
      ],
      "source": [
        "lu1, piv1 = lu_factor(A)\n",
        "lu1"
      ]
    },
    {
      "cell_type": "code",
      "execution_count": 47,
      "metadata": {
        "colab": {
          "base_uri": "https://localhost:8080/"
        },
        "id": "TPhASdwRjwSQ",
        "outputId": "32e189e9-fb80-4d12-e4ee-c20588b506bc"
      },
      "outputs": [
        {
          "output_type": "execute_result",
          "data": {
            "text/plain": [
              "array([1, 1, 3, 4, 4, 5], dtype=int32)"
            ]
          },
          "metadata": {},
          "execution_count": 47
        }
      ],
      "source": [
        "piv1"
      ]
    },
    {
      "cell_type": "code",
      "execution_count": 48,
      "metadata": {
        "colab": {
          "base_uri": "https://localhost:8080/"
        },
        "id": "QULYd7yCjwSQ",
        "outputId": "9783ddf5-b746-40ff-97b6-0bab81769fcd"
      },
      "outputs": [
        {
          "output_type": "execute_result",
          "data": {
            "text/plain": [
              "array([[ 2.40682444],\n",
              "       [-0.93047571],\n",
              "       [ 0.19329735],\n",
              "       [ 0.62074375],\n",
              "       [ 0.28505372],\n",
              "       [-0.01465625]])"
            ]
          },
          "metadata": {},
          "execution_count": 48
        }
      ],
      "source": [
        "x = lu_solve((lu1,piv1), B)\n",
        "x"
      ]
    },
    {
      "cell_type": "code",
      "execution_count": 49,
      "metadata": {
        "colab": {
          "base_uri": "https://localhost:8080/"
        },
        "id": "mmehDj_fjwSQ",
        "outputId": "882a7af4-85f7-4449-955f-a0944e257699"
      },
      "outputs": [
        {
          "output_type": "execute_result",
          "data": {
            "text/plain": [
              "True"
            ]
          },
          "metadata": {},
          "execution_count": 49
        }
      ],
      "source": [
        "np.allclose(A @ x - B, np.zeros((6,)))"
      ]
    },
    {
      "cell_type": "markdown",
      "metadata": {
        "id": "YdFrsK1_jwSQ"
      },
      "source": [
        "Vejamos o tempo aproximado de CPU para realizar este cálculo e façamos uma comparação com o cálculo sem pivotação."
      ]
    },
    {
      "cell_type": "code",
      "execution_count": 50,
      "metadata": {
        "colab": {
          "base_uri": "https://localhost:8080/"
        },
        "id": "7xU9XFUKjwSQ",
        "outputId": "cb3550ee-bcd2-47f3-8d2a-0fd7104b0c28"
      },
      "outputs": [
        {
          "output_type": "stream",
          "name": "stdout",
          "text": [
            "8.54 µs ± 1.59 µs per loop (mean ± std. dev. of 7 runs, 100000 loops each)\n"
          ]
        }
      ],
      "source": [
        "%timeit lu_solve((lu1,piv1), B)"
      ]
    },
    {
      "cell_type": "code",
      "execution_count": 51,
      "metadata": {
        "id": "RzNSG1ygjwSQ"
      },
      "outputs": [],
      "source": [
        "lu2 = lu_factor(A)"
      ]
    },
    {
      "cell_type": "code",
      "execution_count": 52,
      "metadata": {
        "colab": {
          "base_uri": "https://localhost:8080/"
        },
        "id": "R_zI2I1QjwSQ",
        "outputId": "23d3228f-8d36-4e1b-c82f-8f0baa0831d8"
      },
      "outputs": [
        {
          "output_type": "stream",
          "name": "stdout",
          "text": [
            "7.2 µs ± 217 ns per loop (mean ± std. dev. of 7 runs, 100000 loops each)\n"
          ]
        }
      ],
      "source": [
        "%timeit lu_solve(lu2, B)"
      ]
    },
    {
      "cell_type": "markdown",
      "metadata": {
        "id": "rmlhyxzxjwSQ"
      },
      "source": [
        "Nesta ordem não há significativa diferença."
      ]
    },
    {
      "cell_type": "markdown",
      "metadata": {
        "id": "euSKX9YmjwSQ"
      },
      "source": [
        "### 8. Fatoração de Cholesky"
      ]
    },
    {
      "cell_type": "markdown",
      "metadata": {
        "id": "M1yDsPKhjwSQ"
      },
      "source": [
        "O chamado método de Cholesky é um tipo de fatoração LU usando em alguns casos em que a matriz de coeficientes $A$ é simétrica. Uma matriz positivo definida se ela é simétrica e todos seus autovalores são positivos. Equivalentemente, uma matriz positivo definida é aquela na qual os pivots (os elementos na diagonal após o escalonamento) são positivos."
      ]
    },
    {
      "cell_type": "markdown",
      "metadata": {
        "id": "VDmfHcNIjwSQ"
      },
      "source": [
        "É possível mostrar que uma matriz $A$ positivo definida pode ser decomposta como\n",
        "\n",
        "$$\n",
        "A = G G^T,\n",
        "$$\n",
        "\n",
        "sendo $G$ a matriz triangular inferior com elementos da diagonal positivos."
      ]
    },
    {
      "cell_type": "markdown",
      "metadata": {
        "id": "VsK1SydejwSR"
      },
      "source": [
        "Para construir o método de determinação de $G$ tomemos $n=4$:\n",
        "\n",
        "\\begin{equation}\n",
        "\\mathbf{A} =\n",
        "\\begin{pmatrix}\n",
        "a_{11}&a_{12}&a_{13}&a_{14}\\\\\n",
        "a_{21}&a_{22}&a_{23}&a_{24}\\\\\n",
        "a_{31}&a_{32}&a_{33}&a_{34}\\\\\n",
        "a_{41}&a_{42}&a_{43}&a_{44}\n",
        "\\end{pmatrix}\n",
        "  =\n",
        "  \\begin{pmatrix}\n",
        "g_{11}&0&0&0\\\\\n",
        "g_{21}&g_{22}&0&0\\\\\n",
        "g_{31}&g_{32}&g_{34}&0\\\\\n",
        "g_{41}&g_{42}&g_{43}&g_{44}\n",
        "\\end{pmatrix}\n",
        "  \\begin{pmatrix}\n",
        "g_{11}&g_{21}&g_{31}&g_{14}\\\\\n",
        "0&g_{22}&g_{32}&g_{42}\\\\\n",
        "0&0&g_{33}&g_{43}\\\\\n",
        "0&0&0&g_{44}\n",
        "\\end{pmatrix}\n",
        "\\end{equation}"
      ]
    },
    {
      "cell_type": "markdown",
      "metadata": {
        "id": "ULuU7vQKjwSR"
      },
      "source": [
        "Portanto, para os elementos da diagonal temos\n",
        "\n",
        "\\begin{eqnarray}\n",
        "a_{11} = &g_{11}^2\\\\\n",
        "a_{22}=& \\,g_{21}^2+g_{22}^2\\\\\n",
        "a_{33}=& \\,g_{31}^2+g_{32}^2+g_{33}^2\\\\\n",
        "a_{44}=& \\,g_{41}^2+g_{42}^2+g_{43}^2+g_{44}^2 .\n",
        "\\end{eqnarray}"
      ]
    },
    {
      "cell_type": "markdown",
      "metadata": {
        "id": "LcUliEJhjwSR"
      },
      "source": [
        "De modo geral, para uma dimensão $n$ qualquer,\n",
        "\n",
        "$$\n",
        "a_{nn} = g_{n1}^2+g_{n2}^2+\\cdots + g_{nn}^2\n",
        "$$"
      ]
    },
    {
      "cell_type": "markdown",
      "metadata": {
        "id": "94sW8FbkjwSR"
      },
      "source": [
        "Portanto,\n",
        "\n",
        "\\begin{eqnarray}\n",
        "g_{11}=&\\sqrt{a_{11}},\\\\\n",
        "g_{ii}=&&\\sqrt{a_{ii}-\\sum_{k=1}^{i-1}g_{kk}^2}\\,,\\qquad i=2, \\ldots, n\\,.\n",
        "\\end{eqnarray}"
      ]
    },
    {
      "cell_type": "markdown",
      "metadata": {
        "id": "SO9QfJgzjwSR"
      },
      "source": [
        "Para os elementos fora da diagonal (basta levar em conta as componentes abaixo da diagonal) temos:\n",
        "\n",
        "(i) Primeira coluna:\n",
        "\\begin{eqnarray}\n",
        "a_{21} = &g_{21}g_{11}\\\\\n",
        "a_{31} = &g_{31}g_{11}\\\\\n",
        "a_{41} = &g_{41}g_{11}\\\\\n",
        "\\end{eqnarray}"
      ]
    },
    {
      "cell_type": "markdown",
      "metadata": {
        "id": "reDzHTjHjwSR"
      },
      "source": [
        "de modo geral,\n",
        "\n",
        "$$\n",
        "g_{i1}=\\frac{a_{i1}}{g_{11}}\\,,\\qquad i=2, \\ldots , n\\,.\n",
        "$$"
      ]
    },
    {
      "cell_type": "markdown",
      "metadata": {
        "id": "--hhyOoojwSR"
      },
      "source": [
        "(ii) Segunda coluna:"
      ]
    },
    {
      "cell_type": "markdown",
      "metadata": {
        "id": "4ZKwA9XQjwSR"
      },
      "source": [
        "\\begin{eqnarray}\n",
        "a_{32} = &g_{31}g_{21}+g_{32}g_{22}\\\\\n",
        "a_{42} = &g_{41}g_{21}+g_{42}g_{22}.\n",
        "\\end{eqnarray}\n",
        "\n",
        "De modo geral,\n",
        "\n",
        "$$\n",
        "a_{i2}=g_{i1}g_{21}+g_{i2}g_{22},\\qquad i=3, \\ldots, n\\,.\n",
        "$$\n",
        "\n",
        "ou\n",
        "\n",
        "$$\n",
        "g_{i2}=\\frac{a_{i2}-g_{i1}g_{21}}{g_{22}},\\qquad i=3, \\ldots, n\\,.\n",
        "$$"
      ]
    },
    {
      "cell_type": "markdown",
      "metadata": {
        "id": "gK4y3ZpFjwSR"
      },
      "source": [
        "(iii) Terceira coluna:"
      ]
    },
    {
      "cell_type": "markdown",
      "metadata": {
        "id": "zMRIVjFHjwSR"
      },
      "source": [
        "$$\n",
        "a_{43}= g_{41}g_{31}+g_{42}g_{32}+g_{43}g_{33}\\,,\n",
        "$$\n",
        "\n",
        "de modo que\n",
        "\n",
        "$$\n",
        "g_{43}=\\frac{a_{43}-g_{41}g_{31}-g_{42}g_{32}}{g_{33}}\\,.\n",
        "$$"
      ]
    },
    {
      "cell_type": "markdown",
      "metadata": {
        "id": "kgsNmS8rjwSR"
      },
      "source": [
        "Em geral,\n",
        "\n",
        "$$\n",
        "g_{ij} = \\frac{a_{ij}-\\sum_{k=1}^{j-1}g_{ik}g_{jk}}{g_{jj}}\\,,\\qquad j=2,\\ldots, i-1\\,.\n",
        "$$"
      ]
    },
    {
      "cell_type": "markdown",
      "metadata": {
        "id": "FK_oEKN3jwSR"
      },
      "source": [
        "Implementemos este método:"
      ]
    },
    {
      "cell_type": "code",
      "execution_count": null,
      "metadata": {
        "id": "CfcCDNTPjwSR"
      },
      "outputs": [],
      "source": [
        "def cholesky(a):\n",
        "    n = A.shape[0]\n",
        "    g = np.zeros((n, n), dtype=np.double)\n",
        "    for k in range(n):\n",
        "        g[k, k] = np.sqrt(a[k, k] - np.sum(g[k, :]**2))\n",
        "        g[(k+1):, k] = (a[(k+1):,k] - g[(k+1):,:]@g[:,k])/g[k, k]\n",
        "    return g"
      ]
    },
    {
      "cell_type": "markdown",
      "metadata": {
        "id": "CWBMhamijwSS"
      },
      "source": [
        "Testemos esta implementação:"
      ]
    },
    {
      "cell_type": "code",
      "execution_count": null,
      "metadata": {
        "id": "YIRz1IBpjwSS"
      },
      "outputs": [],
      "source": [
        "import numpy as np"
      ]
    },
    {
      "cell_type": "code",
      "execution_count": null,
      "metadata": {
        "id": "1OXjj4pZjwSS",
        "outputId": "f60a043a-1b89-4d5d-f163-11a14b0c4f19"
      },
      "outputs": [
        {
          "data": {
            "text/plain": [
              "array([[ 2., -1.,  0.],\n",
              "       [-1.,  2., -1.],\n",
              "       [ 0., -1.,  2.]])"
            ]
          },
          "execution_count": 13,
          "metadata": {},
          "output_type": "execute_result"
        }
      ],
      "source": [
        "A = np.array([[2, -1, 0],[-1, 2, -1.], [0, -1, 2.]])\n",
        "A"
      ]
    },
    {
      "cell_type": "code",
      "execution_count": null,
      "metadata": {
        "id": "ahB-oB3HjwSS",
        "outputId": "5c872af7-a8fc-44fc-a1e1-38ac817772d9"
      },
      "outputs": [
        {
          "data": {
            "text/plain": [
              "array([[ 1.41421356,  0.        ,  0.        ],\n",
              "       [-0.70710678,  1.22474487,  0.        ],\n",
              "       [ 0.        , -0.81649658,  1.15470054]])"
            ]
          },
          "execution_count": 7,
          "metadata": {},
          "output_type": "execute_result"
        }
      ],
      "source": [
        "G = cholesky(A)\n",
        "G"
      ]
    },
    {
      "cell_type": "markdown",
      "metadata": {
        "id": "cgerR5h8jwSS"
      },
      "source": [
        "De fato,"
      ]
    },
    {
      "cell_type": "code",
      "execution_count": null,
      "metadata": {
        "id": "s_F6IJKWjwSS",
        "outputId": "184041a6-b3e2-4057-89b3-9d5713d36ff5"
      },
      "outputs": [
        {
          "data": {
            "text/plain": [
              "array([[ 2., -1.,  0.],\n",
              "       [-1.,  2., -1.],\n",
              "       [ 0., -1.,  2.]])"
            ]
          },
          "execution_count": 12,
          "metadata": {},
          "output_type": "execute_result"
        }
      ],
      "source": [
        "G@G.T"
      ]
    },
    {
      "cell_type": "markdown",
      "metadata": {
        "id": "MHF8cOZRjwSS"
      },
      "source": [
        "Usando o com  ando do numpy:"
      ]
    },
    {
      "cell_type": "code",
      "execution_count": null,
      "metadata": {
        "id": "sOhbVHOFjwSS"
      },
      "outputs": [],
      "source": [
        "import numpy.linalg as la"
      ]
    },
    {
      "cell_type": "code",
      "execution_count": null,
      "metadata": {
        "id": "PqQz6Ng0jwSS",
        "outputId": "88d6e362-cef2-468f-f275-dc55384c5477"
      },
      "outputs": [
        {
          "data": {
            "text/plain": [
              "array([[ 1.41421356,  0.        ,  0.        ],\n",
              "       [-0.70710678,  1.22474487,  0.        ],\n",
              "       [ 0.        , -0.81649658,  1.15470054]])"
            ]
          },
          "execution_count": 17,
          "metadata": {},
          "output_type": "execute_result"
        }
      ],
      "source": [
        "G2 = la.cholesky(A)\n",
        "G2"
      ]
    },
    {
      "cell_type": "markdown",
      "metadata": {
        "id": "iweKAjdOjwSS"
      },
      "source": [
        "Antes de tentar resolver um sistema usando o método de Cholesky devemos testar se esta matriz é positivo definida. Para isso, caso a matriz não seja muito grande, podemos verificar se os determinantes dos menores principais desta matriz são todos positivos:"
      ]
    },
    {
      "cell_type": "markdown",
      "metadata": {
        "id": "TwjcybbtjwSS"
      },
      "source": [
        "Vejamos um exemplo:"
      ]
    },
    {
      "cell_type": "code",
      "execution_count": null,
      "metadata": {
        "id": "GAukO-imjwST",
        "outputId": "db03c273-0fa2-4ed3-aeb9-75d0e5d3b758"
      },
      "outputs": [
        {
          "data": {
            "text/plain": [
              "array([[ 2., -1.,  1.],\n",
              "       [-1.,  2., -1.],\n",
              "       [ 1., -1.,  2.]])"
            ]
          },
          "execution_count": 52,
          "metadata": {},
          "output_type": "execute_result"
        }
      ],
      "source": [
        "A = np.array([[2, -1, 1],[-1, 2, -1.], [1, -1, 2.]])\n",
        "A"
      ]
    },
    {
      "cell_type": "code",
      "execution_count": null,
      "metadata": {
        "id": "CIhI-mKZjwST",
        "outputId": "32c948f2-0175-4277-e930-ef1db126ce39"
      },
      "outputs": [
        {
          "data": {
            "text/plain": [
              "2.0"
            ]
          },
          "execution_count": 53,
          "metadata": {},
          "output_type": "execute_result"
        }
      ],
      "source": [
        "M1=np.array([[A[0,0]]])\n",
        "np.linalg.det(M1)"
      ]
    },
    {
      "cell_type": "code",
      "execution_count": null,
      "metadata": {
        "id": "WyKO3kA2jwST",
        "outputId": "66ebe729-1164-449d-f4b8-167a547bd8d0"
      },
      "outputs": [
        {
          "data": {
            "text/plain": [
              "array([[ 2., -1.],\n",
              "       [-1.,  2.]])"
            ]
          },
          "execution_count": 54,
          "metadata": {},
          "output_type": "execute_result"
        }
      ],
      "source": [
        "M2 = A[0:2,0:2]\n",
        "M2"
      ]
    },
    {
      "cell_type": "code",
      "execution_count": null,
      "metadata": {
        "id": "vq29r7o8jwST",
        "outputId": "2e606558-5ac9-484b-866b-1d3334b091c3"
      },
      "outputs": [
        {
          "data": {
            "text/plain": [
              "2.9999999999999996"
            ]
          },
          "execution_count": 55,
          "metadata": {},
          "output_type": "execute_result"
        }
      ],
      "source": [
        "np.linalg.det(M2)"
      ]
    },
    {
      "cell_type": "code",
      "execution_count": null,
      "metadata": {
        "id": "c4Tulm2AjwST",
        "outputId": "93d5168e-f316-43a0-b042-14b91d768d12"
      },
      "outputs": [
        {
          "data": {
            "text/plain": [
              "array([[ 2., -1.,  1.],\n",
              "       [-1.,  2., -1.],\n",
              "       [ 1., -1.,  2.]])"
            ]
          },
          "execution_count": 56,
          "metadata": {},
          "output_type": "execute_result"
        }
      ],
      "source": [
        "M3 = A[0:3,0:3]\n",
        "M3"
      ]
    },
    {
      "cell_type": "code",
      "execution_count": null,
      "metadata": {
        "id": "80ihDcxhjwST",
        "outputId": "ea168035-e65a-4015-fd59-5921ce2a0c90"
      },
      "outputs": [
        {
          "data": {
            "text/plain": [
              "3.999999999999999"
            ]
          },
          "execution_count": 57,
          "metadata": {},
          "output_type": "execute_result"
        }
      ],
      "source": [
        "np.linalg.det(M3)"
      ]
    },
    {
      "cell_type": "markdown",
      "metadata": {
        "id": "cmxdzq0LjwST"
      },
      "source": [
        "Como todos os determinantes são positivos, a matriz é positivo definida. Uma implementação deste teste é apresentada a seguir:"
      ]
    },
    {
      "cell_type": "code",
      "execution_count": null,
      "metadata": {
        "id": "ZngL8_hzjwST"
      },
      "outputs": [],
      "source": [
        "def isPD(a):\n",
        "  row = a.shape [0]\n",
        "  i = 0\n",
        "  j = 0\n",
        "  for i in range(row+1) :\n",
        "    M = a[:i,:j]\n",
        "    j+=1\n",
        "    i+=1\n",
        "    det = np.linalg.det(M)\n",
        "    if det > 0 :\n",
        "        continue\n",
        "    else :\n",
        "        return (\"Não é positivo definida\")\n",
        "  return (\"Positivo definida\")"
      ]
    },
    {
      "cell_type": "code",
      "execution_count": null,
      "metadata": {
        "id": "sxubbrG3jwST",
        "outputId": "0604ac13-545a-4607-9c78-0a773d3112e4"
      },
      "outputs": [
        {
          "data": {
            "text/plain": [
              "'Positivo definida'"
            ]
          },
          "execution_count": 62,
          "metadata": {},
          "output_type": "execute_result"
        }
      ],
      "source": [
        "isPD(A)"
      ]
    },
    {
      "cell_type": "markdown",
      "metadata": {
        "id": "w8obN7rvjwST"
      },
      "source": [
        "### 9. Fatoração QR"
      ]
    },
    {
      "cell_type": "markdown",
      "metadata": {
        "id": "mTj8fO-3jwST"
      },
      "source": [
        "A chamada decomposição (ou fatoração) QR de uma matriz, é uma decomposição da forma:\n",
        "\n",
        "$$\n",
        "A = QR,\n",
        "$$\n",
        "\n",
        "sendo $Q$ uma matriz ortogonal ($QQ^T = I$) e $R$ uma matriz triangular superior.\n",
        "\n",
        "Esta decomposição será usada  para resolver o problemas envolvendo o método de mínimos quadrados a no problema de determinação de autovalores e autovetores.\n",
        "\n",
        "Se $A$ é não singular é possível mostrar que esta fatoração é única. Um dos métodos práticos para realizar a fatoração $QR$ é com o uso do método de ortogonalização de Gram-Schmidt, que descreveremos a seguir. Vamos escrever a matriz $A$, de ordem $n \\times n$ na seguinte forma\n",
        "\n",
        "$$\n",
        "A = [a_1\\,|\\, a_2\\,|\\, a_3, \\cdots |a_n],\n",
        "$$\n",
        "\n",
        "sendo $a_i = [a_{i1} a_{i2} a_{i3} \\cdots a_{in}]^T$ o vetor correspondente à i-ésima coluna de $A$. A ideia do método consiste em usar o fato de que, como $A$ é não singular por hipótese, os vetores $\\{a_i, \\, i=1\\, \\ldots, n\\}$ definem uma base. Ao definir outra base $\\{u_i/\\|u_i\\|, \\, i=1\\, \\ldots, n\\}$ pelo processo de Gram-Schmidt, agora ortonormal, definimos a matriz ortogonal\n",
        "\n",
        "$$\n",
        "Q = [e_1\\,|\\, e_2\\,|\\, e_3| \\cdots |e_n].\n",
        "$$\n",
        "\n",
        "O processo de Gram-Schmidt é iniciado a seguir:\n",
        "\n",
        "$$\n",
        "u_1=a_1,\\,\\qquad e_1= \\frac{u_1}{\\|u_1\\|}.\n",
        "$$\n",
        "\n",
        "$$\n",
        "u_2 = a_2 - (a_2 \\cdot e_1)e_1\\,\\qquad e_2= \\frac{u_2}{\\|u_2\\|}.\n",
        "$$\n",
        "\n",
        "Notemos que\n",
        "\n",
        "$$\n",
        "u_1 \\cdot u_2 =u_1\\cdot a_2 - (a_2 \\cdot e_1)(\\underbrace{u_1\\cdot e_1}_{\\|u_1\\|})=0\\,.\n",
        "$$\n",
        "\n",
        "Prosseguindo,\n",
        "\n",
        "$$\n",
        "u_3 = a_3 - (a_3 \\cdot e_1)e_1 - (a_3 \\cdot e_2)e_2\\,\\qquad e_3= \\frac{u_3}{\\|u_3\\|}.\n",
        "$$\n",
        "\n",
        "O último vetor é da forma\n",
        "\n",
        "$$\n",
        "u_n = a_n - (a_n \\cdot e_1)e_1 - (a_n \\cdot e_2)e_2 - \\cdots - (a_n \\cdot e_{n-1})e_{n-1}\\,\\qquad e_n= \\frac{u_n}{\\|u_n\\|}.\n",
        "$$\n",
        "\n",
        "Podemos agora reescrever $A$ na forma:\n",
        "\n",
        "$$\n",
        "A = [a_1\\,|\\, a_2\\,|\\, a_3, \\cdots |a_n]=\n",
        "[e_1\\,|\\, e_2\\,|\\, e_3| \\cdots |e_n]\\begin{pmatrix}a_1\\cdot e_1& a_2\\cdot e_1&\n",
        "a_3\\cdot e_1& \\cdots &a_n \\cdot e_1\\\\\n",
        "0 & a_2\\cdot e_2&\n",
        "a_3\\cdot e_2& \\cdots &a_n \\cdot e_2\\\\\n",
        "0& 0&a_3\\cdot e_3& \\cdots &a_n \\cdot e_3\\\\\n",
        "\\vdots& \\vdots&\\vdots& \\cdots &\\vdots\\\\\n",
        "0& 0&0& \\cdots &a_n \\cdot e_n\n",
        "\\end{pmatrix}.\n",
        "$$\n",
        "\n",
        "Vejamos um exemplo:"
      ]
    },
    {
      "cell_type": "code",
      "execution_count": null,
      "metadata": {
        "id": "cXFoOmiPjwSU"
      },
      "outputs": [],
      "source": [
        "import numpy as np\n",
        "import numpy.linalg as la"
      ]
    },
    {
      "cell_type": "code",
      "execution_count": null,
      "metadata": {
        "id": "3IPYhS2VjwSU",
        "outputId": "136456ee-ca10-4c5d-9d86-a250c20d7e8c"
      },
      "outputs": [
        {
          "data": {
            "text/plain": [
              "array([[ 2.,  4.,  3.],\n",
              "       [-4.,  3.,  7.],\n",
              "       [-1.,  2.,  9.]])"
            ]
          },
          "execution_count": 83,
          "metadata": {},
          "output_type": "execute_result"
        }
      ],
      "source": [
        "A = np.array([[2.,4.,3.], [-4.,3.,7.], [-1.,2., 9.]])\n",
        "A"
      ]
    },
    {
      "cell_type": "markdown",
      "metadata": {
        "id": "sd77w7UtjwSU"
      },
      "source": [
        "Aqui"
      ]
    },
    {
      "cell_type": "code",
      "execution_count": null,
      "metadata": {
        "id": "dzzlzNcMjwSU",
        "outputId": "19781441-469b-4d77-bcb2-3b9c254ad15f"
      },
      "outputs": [
        {
          "name": "stdout",
          "output_type": "stream",
          "text": [
            "[ 2. -4. -1.]\n",
            "[4. 3. 2.]\n",
            "[3. 7. 9.]\n"
          ]
        }
      ],
      "source": [
        "a1 = A[:,0]\n",
        "a2 = A[:,1]\n",
        "a3 = A[:,2]\n",
        "print(a1)\n",
        "print(a2)\n",
        "print(a3)"
      ]
    },
    {
      "cell_type": "code",
      "execution_count": null,
      "metadata": {
        "id": "sj9kIFpqjwSU",
        "outputId": "00b1a682-997b-4bc6-f601-fa15df2d4e54"
      },
      "outputs": [
        {
          "data": {
            "text/plain": [
              "array([ 0.43643578, -0.87287156, -0.21821789])"
            ]
          },
          "execution_count": 85,
          "metadata": {},
          "output_type": "execute_result"
        }
      ],
      "source": [
        "u1 = a1\n",
        "e1 = u1/la.norm(u1)\n",
        "e1"
      ]
    },
    {
      "cell_type": "code",
      "execution_count": null,
      "metadata": {
        "id": "syYyMnISjwSU",
        "outputId": "8ea5519e-cf75-4cd1-d63c-a0d75d27474a"
      },
      "outputs": [
        {
          "data": {
            "text/plain": [
              "array([0.87515358, 0.35553114, 0.32818259])"
            ]
          },
          "execution_count": 86,
          "metadata": {},
          "output_type": "execute_result"
        }
      ],
      "source": [
        "u2 = a2-np.dot(a2,e1)*e1\n",
        "e2 = u2/la.norm(u2)\n",
        "e2"
      ]
    },
    {
      "cell_type": "code",
      "execution_count": null,
      "metadata": {
        "id": "bdxGbrwIjwSU",
        "outputId": "293d1600-22d3-4116-9452-e2d58d381630"
      },
      "outputs": [
        {
          "data": {
            "text/plain": [
              "array([-0.208878  , -0.33420479,  0.91906318])"
            ]
          },
          "execution_count": 87,
          "metadata": {},
          "output_type": "execute_result"
        }
      ],
      "source": [
        "u3 = a3-np.dot(a3,e1)*e1-np.dot(a3,e2)*e2\n",
        "e3 = u3/la.norm(u3)\n",
        "e3"
      ]
    },
    {
      "cell_type": "code",
      "execution_count": null,
      "metadata": {
        "id": "7kCJw4_ZjwSU",
        "outputId": "70ba9fd2-93db-4c20-f6dd-e170808f34d2"
      },
      "outputs": [
        {
          "data": {
            "text/plain": [
              "array([[ 0.43643578,  0.87515358, -0.208878  ],\n",
              "       [-0.87287156,  0.35553114, -0.33420479],\n",
              "       [-0.21821789,  0.32818259,  0.91906318]])"
            ]
          },
          "execution_count": 88,
          "metadata": {},
          "output_type": "execute_result"
        }
      ],
      "source": [
        "Q1= np.vstack(([e1],[e2],[e3]))\n",
        "Q = Q1.T\n",
        "Q"
      ]
    },
    {
      "cell_type": "markdown",
      "metadata": {
        "id": "-YGt-2fUjwSU"
      },
      "source": [
        "Podemos verificar que $Q$ é realmente ortogonal:"
      ]
    },
    {
      "cell_type": "code",
      "execution_count": null,
      "metadata": {
        "id": "vf2WMA81jwSU",
        "outputId": "2e45fdf3-b701-4e6d-bf73-0b1cfcf29154"
      },
      "outputs": [
        {
          "data": {
            "text/plain": [
              "array([[1.00000000e+00, 4.06255488e-17, 4.51017873e-17],\n",
              "       [4.06255488e-17, 1.00000000e+00, 2.78432194e-16],\n",
              "       [4.51017873e-17, 2.78432194e-16, 1.00000000e+00]])"
            ]
          },
          "execution_count": 89,
          "metadata": {},
          "output_type": "execute_result"
        }
      ],
      "source": [
        "Q.T@Q"
      ]
    },
    {
      "cell_type": "code",
      "execution_count": null,
      "metadata": {
        "id": "wu4WZyL-jwSU",
        "outputId": "58c822db-8bda-4519-ddf0-3154cd43d830"
      },
      "outputs": [
        {
          "data": {
            "text/plain": [
              "array([[ 4.58257569, -1.30930734, -6.7647546 ],\n",
              "       [ 0.        ,  5.22357294,  8.06782208],\n",
              "       [ 0.        ,  0.        ,  5.30550111]])"
            ]
          },
          "execution_count": 90,
          "metadata": {},
          "output_type": "execute_result"
        }
      ],
      "source": [
        "R = np.array([[np.dot(a1,e1),np.dot(a2,e1), np.dot(a3,e1)],\n",
        "              [0,np.dot(a2,e2), np.dot(a3,e2)],\n",
        "               [0,0, np.dot(a3,e3)]])\n",
        "R"
      ]
    },
    {
      "cell_type": "markdown",
      "metadata": {
        "id": "tf4W4ICsjwSV"
      },
      "source": [
        "Podemos verificar que esta decomposição é correta:"
      ]
    },
    {
      "cell_type": "code",
      "execution_count": null,
      "metadata": {
        "id": "Tqw41WtfjwSV",
        "outputId": "b0c7e96b-5dbe-4d2c-98b6-6c24a04c8d75"
      },
      "outputs": [
        {
          "data": {
            "text/plain": [
              "array([[ 4.44089210e-16, -4.44089210e-16, -4.44089210e-16],\n",
              "       [-8.88178420e-16,  0.00000000e+00, -8.88178420e-16],\n",
              "       [-2.22044605e-16,  0.00000000e+00,  1.77635684e-15]])"
            ]
          },
          "execution_count": 91,
          "metadata": {},
          "output_type": "execute_result"
        }
      ],
      "source": [
        "Q@R-A"
      ]
    },
    {
      "cell_type": "markdown",
      "metadata": {
        "id": "BrX-0796jwSV"
      },
      "source": [
        "Podemos obter o mesmo resultado usando comandos da biblioteca Scipy:"
      ]
    },
    {
      "cell_type": "code",
      "execution_count": null,
      "metadata": {
        "id": "58LbWKFdjwSV"
      },
      "outputs": [],
      "source": [
        "import pprint\n",
        "import numpy.linalg as la"
      ]
    },
    {
      "cell_type": "code",
      "execution_count": null,
      "metadata": {
        "id": "UeLayQNVjwSV"
      },
      "outputs": [],
      "source": [
        "A = np.array([[2.,4.,3.], [-4.,3.,7.], [-1.,2., 9.]])"
      ]
    },
    {
      "cell_type": "code",
      "execution_count": null,
      "metadata": {
        "id": "jDLGTG3djwSV"
      },
      "outputs": [],
      "source": [
        "Q, R = la.qr(A)"
      ]
    },
    {
      "cell_type": "code",
      "execution_count": null,
      "metadata": {
        "id": "sYLNCHyqjwSV",
        "outputId": "ffb9a6b2-2683-4854-bbcf-b325fd797982"
      },
      "outputs": [
        {
          "name": "stdout",
          "output_type": "stream",
          "text": [
            "A:\n",
            "array([[ 2.,  4.,  3.],\n",
            "       [-4.,  3.,  7.],\n",
            "       [-1.,  2.,  9.]])\n",
            "Q:\n",
            "array([[-0.43643578, -0.87515358, -0.208878  ],\n",
            "       [ 0.87287156, -0.35553114, -0.33420479],\n",
            "       [ 0.21821789, -0.32818259,  0.91906318]])\n",
            "R:\n",
            "array([[-4.58257569,  1.30930734,  6.7647546 ],\n",
            "       [ 0.        , -5.22357294, -8.06782208],\n",
            "       [ 0.        ,  0.        ,  5.30550111]])\n"
          ]
        }
      ],
      "source": [
        "print(\"A:\")\n",
        "pprint.pprint(A)\n",
        "\n",
        "print(\"Q:\")\n",
        "pprint.pprint(Q)\n",
        "\n",
        "print(\"R:\")\n",
        "pprint.pprint(R)"
      ]
    },
    {
      "cell_type": "code",
      "execution_count": null,
      "metadata": {
        "id": "acEtyNS-jwSV",
        "outputId": "82a6ddde-b5ce-45bb-e999-dafc30424f9e"
      },
      "outputs": [
        {
          "name": "stdout",
          "output_type": "stream",
          "text": [
            "In linear algebra, a QR decomposition, also known as a QR factorization or QU factorization, is a decomposition of a matrix A into a product A = QR of an orthogonal matrix Q and an upper triangular matrix R. QR decomposition is often used to solve the linear least squares problem and is the basis for a particular eigenvalue algorithm, the QR algorithm.\n"
          ]
        }
      ],
      "source": [
        "result = wikipedia.summary(\"QR decomposition\")\n",
        "print(result)"
      ]
    },
    {
      "cell_type": "markdown",
      "metadata": {
        "id": "KhBLcbpIjwSV"
      },
      "source": [
        "### 10. Exercícios"
      ]
    },
    {
      "cell_type": "markdown",
      "metadata": {
        "id": "Bb_kOcvtjwSV"
      },
      "source": [
        "**1.** Resolva passo a passo, usando o método LU de Doolittle, 0 sistema aleatório gerado usando os seguinte comandos do numpy:"
      ]
    },
    {
      "cell_type": "code",
      "execution_count": null,
      "metadata": {
        "id": "a_fuCkrpjwSV"
      },
      "outputs": [],
      "source": [
        "np.random.seed(22222) #use os primeiros 5 números do seu cpf\n",
        "N = 3\n",
        "A = np.random.rand(N,N)\n",
        "B = np.random.rand(N,1)"
      ]
    },
    {
      "cell_type": "markdown",
      "metadata": {
        "id": "f4u6mxnCjwSV"
      },
      "source": [
        "**2.** Construa uma procedimento para inverter uma matriz qualquer, usando fatoração LU de Doolittle. Use ou modifique a função lu_solve definida acima. Teste o procedimento."
      ]
    },
    {
      "cell_type": "markdown",
      "metadata": {
        "id": "9esYG4U6jwSV"
      },
      "source": [
        "**3.** Resolva passo a passo  o sistema $AX = B$, usando fatoração LU, com"
      ]
    },
    {
      "cell_type": "code",
      "execution_count": null,
      "metadata": {
        "id": "hL8ERbuEjwSW"
      },
      "outputs": [],
      "source": [
        "A = np.array([[0.,3.,6.,1.], [1.,5.,-5.,6],[4.,7.,-1.,5.],[-2., 4., 9., -3]])\n",
        "B = np.transpose(np.array([[-2.,4.,2.,5.]]))"
      ]
    },
    {
      "cell_type": "markdown",
      "metadata": {
        "id": "W_QlouVMjwSW"
      },
      "source": [
        "**4.** Resolva o sistema do problema 3 usando a função python plu definida acima."
      ]
    },
    {
      "cell_type": "markdown",
      "metadata": {
        "id": "7vvWGhpSjwSW"
      },
      "source": [
        "**5.** Verifique o quanto o tempo de CPU muda usando *pivotação* na função de fatoração LU do scipy. Use um sistema aleatório de 500 linhas para fazer o teste."
      ]
    },
    {
      "cell_type": "markdown",
      "metadata": {
        "id": "jzTBsOX-jwSW"
      },
      "source": [
        "**6.** Gere uma matriz positivo definida de ordem $n \\times n$ da seguinte forma: gere uma matriz aleatória $M$ e depois defina uma matriz positivo definida $A=M M^T$. Estude o desempenho dos algoritmos LU e Cholesky para para resolver sistemas lineares da forma $AX=B$. Examine o tempo de execução para diversos valores grandes de $n$."
      ]
    },
    {
      "cell_type": "markdown",
      "metadata": {
        "id": "yup9JcbyjwSW"
      },
      "source": [
        "**7.** Defina uma matriz positivo definida aleatória de ordem 4 e defina um sistema linear qualquer da forma $AX=B$. Resolva o sistema usando o método de Cholesky, passo a passo (o Python pode ser usado passo a passo)."
      ]
    },
    {
      "cell_type": "markdown",
      "metadata": {
        "id": "WhV-btfVjwSW"
      },
      "source": [
        "**8.** Faça a decomposição $QR$ da matriz\n",
        "\n",
        "$$\n",
        "\\begin{pmatrix}\n",
        "3& -5&2&3\\\\\n",
        "-3&8&2&1\\\\\n",
        "6&7&21&-3\n",
        "\\end{pmatrix}\n",
        "$$"
      ]
    },
    {
      "cell_type": "markdown",
      "metadata": {
        "id": "MFXVYEU-jwSW"
      },
      "source": [
        "**9.** Faça a decomposição QR de uma matriz aleatória $100 \\times 100$ usando comandos do sistema."
      ]
    }
  ],
  "metadata": {
    "kernelspec": {
      "display_name": "Python 3",
      "language": "python",
      "name": "python3"
    },
    "language_info": {
      "codemirror_mode": {
        "name": "ipython",
        "version": 3
      },
      "file_extension": ".py",
      "mimetype": "text/x-python",
      "name": "python",
      "nbconvert_exporter": "python",
      "pygments_lexer": "ipython3",
      "version": "3.8.5"
    },
    "colab": {
      "provenance": [],
      "include_colab_link": true
    }
  },
  "nbformat": 4,
  "nbformat_minor": 0
}