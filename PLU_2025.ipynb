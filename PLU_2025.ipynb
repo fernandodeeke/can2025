{
  "nbformat": 4,
  "nbformat_minor": 0,
  "metadata": {
    "colab": {
      "provenance": [],
      "authorship_tag": "ABX9TyMHzCbiN1E7tGYrU3VLX2ek",
      "include_colab_link": true
    },
    "kernelspec": {
      "name": "python3",
      "display_name": "Python 3"
    },
    "language_info": {
      "name": "python"
    }
  },
  "cells": [
    {
      "cell_type": "markdown",
      "metadata": {
        "id": "view-in-github",
        "colab_type": "text"
      },
      "source": [
        "<a href=\"https://colab.research.google.com/github/fernandodeeke/can2025/blob/main/PLU_2025.ipynb\" target=\"_parent\"><img src=\"https://colab.research.google.com/assets/colab-badge.svg\" alt=\"Open In Colab\"/></a>"
      ]
    },
    {
      "cell_type": "markdown",
      "source": [
        "<center><h1> <h2></h2></h1></center>\n",
        "<center><h1>Análise Numérica</h1></center>\n",
        "<center><h2>2025/1</h2></center>\n",
        "<center><h3>Fernando Deeke Sasse</h3></center>\n",
        "<center><h3>CCT - UDESC</h3></center>\n",
        "<center><h2>Fatoração PLU </h2></center>"
      ],
      "metadata": {
        "id": "a9LqJtkn_QOy"
      }
    },
    {
      "cell_type": "markdown",
      "source": [
        "Construiremos agora o algoritmo de fatoração LU que realiza pivotação. O método é chamado PLU, pois uma vez feita a fatoração a matriz de permutação de linhas $P$ deve ser tal que  $PA = LU$. O código abaixo é semelhante àquele para a fatoração LU."
      ],
      "metadata": {
        "id": "GnZQDxAYeGnG"
      }
    },
    {
      "cell_type": "code",
      "source": [
        "import numpy as np\n",
        "\n",
        "def PLU(A):\n",
        "    n = A.shape[0]\n",
        "    L = np.eye(n, dtype=float)  # L começa como matriz identidade\n",
        "    U = np.zeros_like(A, dtype=float)  # U começa como matriz nula\n",
        "    P = np.eye(n, dtype=float)  # P começa como matriz identidade\n",
        "\n",
        "    # Cria uma cópia de A para não modificar a matriz original\n",
        "    A = A.copy()\n",
        "\n",
        "    for k in range(n):  # Itera pelas colunas\n",
        "        # Encontra o índice da linha com o maior valor absoluto na coluna k\n",
        "        max_row = np.argmax(np.abs(A[k:, k])) + k\n",
        "        if A[max_row, k] == 0:\n",
        "            raise ValueError(\"Matriz singular, não pode ser decomposta.\")\n",
        "\n",
        "        # Realiza a troca de linhas em A e P, se necessário\n",
        "        if max_row != k:\n",
        "            A[[k, max_row], :] = A[[max_row, k], :]\n",
        "            P[[k, max_row], :] = P[[max_row, k], :]\n",
        "\n",
        "        # Calcula a linha k de U (parte triangular superior)\n",
        "        for j in range(k, n):\n",
        "            U[k, j] = A[k, j] - np.dot(L[k, :k], U[:k, j])\n",
        "\n",
        "        # Calcula os multiplicadores de L (abaixo da diagonal)\n",
        "        if k < n - 1:\n",
        "            for i in range(k + 1, n):\n",
        "                L[i, k] = (A[i, k] - np.dot(L[i, :k], U[:k, k])) / U[k, k]\n",
        "\n",
        "    return P, L, U"
      ],
      "metadata": {
        "id": "oBhVlaUSp-In"
      },
      "execution_count": 10,
      "outputs": []
    },
    {
      "cell_type": "markdown",
      "source": [
        "Vejamos um exemplo:"
      ],
      "metadata": {
        "id": "cbCbb4OCfBgu"
      }
    },
    {
      "cell_type": "code",
      "source": [
        "A = np.array([[2, -1, -2],[-4, 6, 3],[-2, -7, 8]], dtype=float)"
      ],
      "metadata": {
        "id": "bXAR8ASpmjJJ"
      },
      "execution_count": 11,
      "outputs": []
    },
    {
      "cell_type": "code",
      "source": [
        "P, L, U = PLU(A)\n",
        "print(\"P:\\n\", P)\n",
        "print(\"L:\\n\", L)\n",
        "print(\"U:\\n\", U)"
      ],
      "metadata": {
        "colab": {
          "base_uri": "https://localhost:8080/"
        },
        "id": "_CAOWS8gnrLm",
        "outputId": "424ecc5b-7903-4edc-c2bd-496c4bea10b4"
      },
      "execution_count": 25,
      "outputs": [
        {
          "output_type": "stream",
          "name": "stdout",
          "text": [
            "P:\n",
            " [[0. 1. 0.]\n",
            " [0. 0. 1.]\n",
            " [1. 0. 0.]]\n",
            "L:\n",
            " [[ 1.   0.   0. ]\n",
            " [ 0.5  1.   0. ]\n",
            " [-0.5 -0.2  1. ]]\n",
            "U:\n",
            " [[ -4.    6.    3. ]\n",
            " [  0.  -10.    6.5]\n",
            " [  0.    0.    0.8]]\n"
          ]
        }
      ]
    },
    {
      "cell_type": "markdown",
      "source": [
        "Verifiquemos o reultado:"
      ],
      "metadata": {
        "id": "9IO0-ao4fGor"
      }
    },
    {
      "cell_type": "code",
      "source": [
        "np.linalg.norm(P@A-L@U, ord=np.inf)"
      ],
      "metadata": {
        "colab": {
          "base_uri": "https://localhost:8080/"
        },
        "id": "7osNM0kLf3CN",
        "outputId": "264325b8-c520-43a0-94d0-26ece98330ea"
      },
      "execution_count": 34,
      "outputs": [
        {
          "output_type": "execute_result",
          "data": {
            "text/plain": [
              "np.float64(1.1102230246251565e-16)"
            ]
          },
          "metadata": {},
          "execution_count": 34
        }
      ]
    },
    {
      "cell_type": "markdown",
      "source": [
        "Expliquemos o comando:"
      ],
      "metadata": {
        "id": "rIpQO5xky4mD"
      }
    },
    {
      "cell_type": "code",
      "source": [
        "A = np.array([[2, -1, -2],[-4, 6, 3],[-2, -7, 8]], dtype=float)\n",
        "for k in range(3):\n",
        "    max_row = np.argmax(np.abs(A[k:, k])) + k\n",
        "\n",
        "max_row"
      ],
      "metadata": {
        "colab": {
          "base_uri": "https://localhost:8080/"
        },
        "id": "QwtHqZBbt1cV",
        "outputId": "42772085-a0db-4abe-cc58-64171ba409ed"
      },
      "execution_count": null,
      "outputs": [
        {
          "output_type": "execute_result",
          "data": {
            "text/plain": [
              "np.int64(2)"
            ]
          },
          "metadata": {},
          "execution_count": 70
        }
      ]
    },
    {
      "cell_type": "markdown",
      "source": [
        "Vamos analisar o código passo a passo para determinar o valor de `max_row` após a execução do laço `for k in range(3)` com a matriz fornecida:\n",
        "\n",
        "```python\n",
        "A = np.array([[2, -1, -2], [-4, 6, 3], [-2, -7, 8]], dtype=float)\n",
        "for k in range(3):\n",
        "    max_row = np.argmax(np.abs(A[k:, k])) + k\n",
        "```\n",
        "\n",
        "A matriz $ A $ é:\n",
        "\n",
        "$$\n",
        "A = \\begin{bmatrix}\n",
        "2 & -1 & -2 \\\\\n",
        "-4 & 6 & 3 \\\\\n",
        "-2 & -7 & 8\n",
        "\\end{bmatrix}\n",
        "$$\n",
        "\n",
        "O laço itera sobre $ k = 0, 1, 2 $, e em cada iteração, `max_row` é atualizado com o índice da linha que contém o maior valor absoluto na subcoluna $ A[k:, k] $ (a partir da linha $ k $ até o final da coluna $ k $), ajustado pelo deslocamento $ k $. Vamos calcular isso para cada valor de $ k $:\n",
        "\n",
        "### Iteração 1: $ k = 0 $\n",
        "- Subcoluna: $ A[0:, 0] = [2, -4, -2] $ (coluna 0 inteira).\n",
        "- Valores absolutos: $ |2| = 2 $, $ |-4| = 4 $, $ |-2| = 2 $.\n",
        "- `np.argmax([2, 4, 2])` retorna $ 1 $ (índice do maior valor, 4).\n",
        "- `max_row = 1 + 0 = 1`.\n",
        "\n",
        "### Iteração 2: $ k = 1 $\n",
        "- Subcoluna: $ A[1:, 1] = [6, -7] $ (coluna 1 a partir da linha 1).\n",
        "- Valores absolutos: $ |6| = 6 $, $ |-7| = 7 $.\n",
        "- `np.argmax([6, 7])` retorna $ 1 $ (índice do maior valor, 7).\n",
        "- `max_row = 1 + 1 = 2`.\n",
        "\n",
        "### Iteração 3: $ k = 2 $\n",
        "- Subcoluna: $ A[2:, 2] = [8] $ (coluna 2 a partir da linha 2, apenas um elemento).\n",
        "- Valor absoluto: $ |8| = 8 $.\n",
        "- `np.argmax([8])` retorna $ 0 $ (único elemento).\n",
        "- `max_row = 0 + 2 = 2`.\n",
        "\n",
        "Após o laço, o valor final de `max_row` é o calculado na última iteração, ou seja, $ k = 2 $.\n",
        "\n",
        "### Resposta\n",
        "O valor de `max_row` após a execução do código é:\n",
        "\n",
        "\\[\n",
        "2\n",
        "\\]"
      ],
      "metadata": {
        "id": "37KxftTMwPDf"
      }
    },
    {
      "cell_type": "markdown",
      "source": [
        "**Exercício.** Seja o sistema $AX=B$, sendo\n",
        "\n",
        "$$\n",
        "A = \\begin{bmatrix}\n",
        "1 & -1 & -2 \\\\\n",
        "-4 & 1/2 & 3 \\\\\n",
        "-2 & -7 & 8\n",
        "\\end{bmatrix}\\,,\\quad\n",
        "B = \\begin{bmatrix}\n",
        "1  \\\\\n",
        "4 \\\\\n",
        "9  \n",
        "\\end{bmatrix}\\,.\n",
        "$$\n",
        "\n",
        "(i) Resolva o sistema passo a passo, usando fatoração PLU, manualmente.\n",
        "\n",
        "(ii) Resolva passo a passo, usando fatoração PLU, seguindo o algoritmo acima.\n",
        "\n",
        "(iii) Resolva usando diretamente o algoritmo PLU.\n",
        "\n",
        "\n"
      ],
      "metadata": {
        "id": "rWymWrtBwJTo"
      }
    }
  ]
}