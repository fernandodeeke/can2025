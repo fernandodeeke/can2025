{
  "cells": [
    {
      "cell_type": "markdown",
      "metadata": {
        "id": "view-in-github",
        "colab_type": "text"
      },
      "source": [
        "<a href=\"https://colab.research.google.com/github/fernandodeeke/can2025/blob/main/bisection_2025.ipynb\" target=\"_parent\"><img src=\"https://colab.research.google.com/assets/colab-badge.svg\" alt=\"Open In Colab\"/></a>"
      ]
    },
    {
      "cell_type": "markdown",
      "metadata": {
        "id": "d-74mVxT1Mce"
      },
      "source": [
        "<center><h1></h1></center>\n",
        "<center><h1>Numerical Calculus</h1></center>\n",
        "<center><h2>2025/2</h2></center>\n",
        "<center><h3>Fernando Deeke Sasse</h3></center>\n",
        "<center><h3>CCT - UDESC</h3></center>\n",
        "<center><h2>Bisection Method</h2></center>"
      ]
    },
    {
      "cell_type": "markdown",
      "metadata": {
        "id": "kr9IgJEk1Mcf"
      },
      "source": [
        "### 1. Method"
      ]
    },
    {
      "cell_type": "markdown",
      "metadata": {
        "id": "VuW9J3uJ1Mcg"
      },
      "source": [
        "The general problem of finding roots is: given the function $f(x)$ we want to find $c$ such that $f(c) = 0$. This problem can only be solved exactly in some particular cases. For example, in the case of polynomials $P_n(x)=a_0+a_1x+a_x^2+\\cdots+a_nx^n$, the exact solution only exists up to the fourth order ($n=4$). Even for $n=3.4$ the formulas are so long that they are rarely used. Another example is the equation $\\cos x+x+1=0$. In these cases we must look for an approximate numerical solution, either real or complex. In our initial approach we will focus only on real solutions. The first approach to finding the real roots of an algebraic equation is to graph it."
      ]
    },
    {
      "cell_type": "markdown",
      "metadata": {
        "id": "C00662uH1Mcg"
      },
      "source": [
        "Let us determine the approximate position of the real roots of $\\cos x+x+1=0$ (if any) graphically:"
      ]
    },
    {
      "cell_type": "code",
      "execution_count": null,
      "metadata": {
        "id": "XVIuE_Yi1Mch"
      },
      "outputs": [],
      "source": [
        "from matplotlib.pyplot import *\n",
        "from sympy import *\n",
        "init_printing()"
      ]
    },
    {
      "cell_type": "code",
      "execution_count": null,
      "metadata": {
        "id": "vlFFBJe41Mch",
        "outputId": "d7622de0-b57c-4809-aee1-372570e219bb"
      },
      "outputs": [
        {
          "data": {
            "image/png": "[encoded data removed]",
            "text/latex": [
              "$\\displaystyle x + \\cos{\\left(x \\right)} + 1$"
            ],
            "text/plain": [
              "x + cos(x) + 1"
            ]
          },
          "execution_count": 2,
          "metadata": {},
          "output_type": "execute_result"
        }
      ],
      "source": [
        "x=symbols('x')\n",
        "f= Lambda(x, cos(x)+x+1)\n",
        "f(x)"
      ]
    },
    {
      "cell_type": "code",
      "execution_count": null,
      "metadata": {
        "id": "t2habMgr1Mci",
        "outputId": "83722a65-8c8c-4e79-a60e-7ab52f94c8c5"
      },
      "outputs": [
        {
          "data": {
            "image/png": "[encoded data removed]",
            "text/plain": [
              "<Figure size 640x480 with 1 Axes>"
            ]
          },
          "metadata": {},
          "output_type": "display_data"
        },
        {
          "data": {
            "text/plain": [
              "<sympy.plotting.plot.Plot at 0x7f801a1753d0>"
            ]
          },
          "execution_count": 3,
          "metadata": {},
          "output_type": "execute_result"
        }
      ],
      "source": [
        "plot(f(x),(x,-6,6))"
      ]
    },
    {
      "cell_type": "markdown",
      "metadata": {
        "id": "3hAEkWPc1Mcj"
      },
      "source": [
        "From this graph we see that this equation has only one real root, located in the interval $(-2,-1/2)$. We will now see some numerical methods that allow the determination of a root with great accuracy and precision. The *bisection method* idea is intuitive:"
      ]
    },
    {
      "cell_type": "markdown",
      "metadata": {
        "id": "0tXv5ab81Mcj"
      },
      "source": [
        "Let $f(x)$ be a continuous function on $[a,b]$, such that $f(a)f(b) < 0$. Then there is real $c$ in $(a,b)$ such that $f(c) = 0$."
      ]
    },
    {
      "cell_type": "markdown",
      "metadata": {
        "id": "_NN702kC1Mcj"
      },
      "source": [
        "The general idea of the method is as follows:\n",
        "\n",
        "* Choose an initial interval $[a,b]$ such that $f(a)f(b) < 0$\n",
        "* Determine the midpoint of the interval $m = (a+b)/2$\n",
        "* Determine if $f(m) > 0$ or $f(m) < 0$\n",
        "* Choose the new interval to be $[a,m]$ if $f(a)f(m) < 0$. Otherwise choose $[m,b]$.\n",
        "* Repeat the process until the gap size is smaller than a pre-set tolerance $\\epsilon$ or a maximum number of iterations $N$."
      ]
    },
    {
      "cell_type": "markdown",
      "metadata": {
        "id": "ktlRg5Kq1Mcj"
      },
      "source": [
        "### 2. Implementation"
      ]
    },
    {
      "cell_type": "markdown",
      "metadata": {
        "id": "_P3wTNvE1Mcj"
      },
      "source": [
        "Suppose we want to find the real roots of the equation $x^4-\\sin x-1=0$. We initially defined the variable *x* as being symbolic. Initially, we load the immediately needed libraries, which are the graphics library and the symbolic math library:"
      ]
    },
    {
      "cell_type": "code",
      "execution_count": null,
      "metadata": {
        "id": "qnCyzaJz1Mck"
      },
      "outputs": [],
      "source": [
        "from matplotlib.pyplot import *\n",
        "from sympy import *\n",
        "init_printing()"
      ]
    },
    {
      "cell_type": "code",
      "execution_count": null,
      "metadata": {
        "id": "wZXcokbm1Mck"
      },
      "outputs": [],
      "source": [
        "x=symbols('x')"
      ]
    },
    {
      "cell_type": "code",
      "execution_count": null,
      "metadata": {
        "id": "okF_wLtG1Mck",
        "outputId": "8307ab2d-50c1-45ff-dd06-3ff03339f31d"
      },
      "outputs": [
        {
          "data": {
            "image/png": "[encoded data removed]",
            "text/latex": [
              "$\\displaystyle x^{4} - \\sin{\\left(x \\right)} - 1$"
            ],
            "text/plain": [
              " 4             \n",
              "x  - sin(x) - 1"
            ]
          },
          "execution_count": 26,
          "metadata": {},
          "output_type": "execute_result"
        }
      ],
      "source": [
        "f= Lambda(x, x**4-sin(x)-1)\n",
        "f(x)"
      ]
    },
    {
      "cell_type": "markdown",
      "metadata": {
        "id": "WMXxocYn1Mck"
      },
      "source": [
        "Let's graph this function:"
      ]
    },
    {
      "cell_type": "code",
      "execution_count": null,
      "metadata": {
        "id": "hGvTI5ES1Mck",
        "outputId": "562158da-11e3-4796-95a9-0e5907d4eca8"
      },
      "outputs": [
        {
          "data": {
            "image/png": "[encoded data removed]",
            "text/plain": [
              "<Figure size 640x480 with 1 Axes>"
            ]
          },
          "metadata": {},
          "output_type": "display_data"
        },
        {
          "data": {
            "text/plain": [
              "<sympy.plotting.plot.Plot at 0x7f7fe9492640>"
            ]
          },
          "execution_count": 27,
          "metadata": {},
          "output_type": "execute_result"
        }
      ],
      "source": [
        "plot(f(x),(x,-1.5,1.5))"
      ]
    },
    {
      "cell_type": "markdown",
      "metadata": {
        "id": "bWqVWDgh1Mck"
      },
      "source": [
        "Let us first determine the negative root. From the graph we know that it is in the range $[-1.0]$. Let's start the iterative process and do 30 repetitions, without worrying about the tolerance:"
      ]
    },
    {
      "cell_type": "code",
      "execution_count": null,
      "metadata": {
        "id": "84nVaAR31Mck",
        "outputId": "1226d959-9b45-4df0-9be3-909b6ad785f2"
      },
      "outputs": [
        {
          "name": "stdout",
          "output_type": "stream",
          "text": [
            "-0.7508072983473539\n"
          ]
        }
      ],
      "source": [
        "a=-1\n",
        "b=0\n",
        "for n in range(1, 30):\n",
        "    m1=(a+b)/2\n",
        "    if f(m1)*f(a)<0:\n",
        "        b=m1\n",
        "    else:\n",
        "        a=m1\n",
        "print(m1)"
      ]
    },
    {
      "cell_type": "markdown",
      "metadata": {
        "id": "1SxyMKwt1Mck"
      },
      "source": [
        "Let's check the result:"
      ]
    },
    {
      "cell_type": "code",
      "execution_count": null,
      "metadata": {
        "id": "E-P4u8cJ1Mcl",
        "outputId": "c84f1f78-9c9d-4bb6-a310-5c89f5d00847"
      },
      "outputs": [
        {
          "data": {
            "image/png": "[encoded data removed]",
            "text/latex": [
              "$\\displaystyle -3.81776721347649 \\cdot 10^{-9}$"
            ],
            "text/plain": [
              "-3.81776721347649e-9"
            ]
          },
          "execution_count": 29,
          "metadata": {},
          "output_type": "execute_result"
        }
      ],
      "source": [
        "f(m1)"
      ]
    },
    {
      "cell_type": "markdown",
      "metadata": {
        "id": "VMRqpq0f1Mcl"
      },
      "source": [
        "The positive root is in the interval $[1,1.5]$. Let's run the iterative process again:"
      ]
    },
    {
      "cell_type": "code",
      "execution_count": null,
      "metadata": {
        "id": "V7bK_iIK1Mcl",
        "outputId": "87fcec1d-6af0-49b8-c6dc-f10b69b2e555"
      },
      "outputs": [
        {
          "name": "stdout",
          "output_type": "stream",
          "text": [
            "1.1777034858241677\n"
          ]
        }
      ],
      "source": [
        "a=1\n",
        "b=1.5\n",
        "for n in range(1, 30):\n",
        "    m2=(a+b)/2\n",
        "    if f(m2)*f(a)<0:\n",
        "        b=m2\n",
        "    else:\n",
        "        a=m2\n",
        "print(m2)"
      ]
    },
    {
      "cell_type": "raw",
      "metadata": {
        "id": "K6cs0WBV1Mcl"
      },
      "source": [
        "Let's check the result:"
      ]
    },
    {
      "cell_type": "code",
      "execution_count": null,
      "metadata": {
        "id": "Pagt-D0s1Mcl",
        "outputId": "ccbc627f-7c46-42fa-c79b-1d139d3c1e05"
      },
      "outputs": [
        {
          "data": {
            "image/png": "[encoded data removed]",
            "text/latex": [
              "$\\displaystyle 2.91599655533048 \\cdot 10^{-9}$"
            ],
            "text/plain": [
              "2.91599655533048e-9"
            ]
          },
          "execution_count": 31,
          "metadata": {},
          "output_type": "execute_result"
        }
      ],
      "source": [
        "f(m2)"
      ]
    },
    {
      "cell_type": "markdown",
      "metadata": {
        "id": "QfOVut0d1Mcl"
      },
      "source": [
        "We can encapsulate the above commands in a function that has as inputs the function $f$ whose zeros we want to find, the extremes $A$ and $B$ of the initial interval and the number of iterations $N$, where the root is the output ."
      ]
    },
    {
      "cell_type": "code",
      "execution_count": null,
      "metadata": {
        "id": "PM7rnQZh1Mcl"
      },
      "outputs": [],
      "source": [
        "def bisect1(f,A,B,N):\n",
        "    a=A\n",
        "    b=B\n",
        "    if f(a)*f(b)>=0:\n",
        "        print('The method failed')\n",
        "        return None\n",
        "    for n in range(1, N+1):\n",
        "        m=(a+b)/2\n",
        "        if f(a)*f(m)<0:\n",
        "            b=m\n",
        "        else:\n",
        "            a=m\n",
        "    return (a+b)/2"
      ]
    },
    {
      "cell_type": "markdown",
      "metadata": {
        "id": "qDvSLPDc1Mcl"
      },
      "source": [
        "Let's apply this procedure to find the real roots of $ x^4-\\sin(x)-1$:"
      ]
    },
    {
      "cell_type": "code",
      "execution_count": null,
      "metadata": {
        "id": "7R7fBxah1Mcm",
        "outputId": "014ad132-5432-4db9-b8ac-ede3340c9c66"
      },
      "outputs": [
        {
          "data": {
            "image/png": "[encoded data removed]",
            "text/latex": [
              "$\\displaystyle -0.750807285308838$"
            ],
            "text/plain": [
              "-0.7508072853088379"
            ]
          },
          "execution_count": 33,
          "metadata": {},
          "output_type": "execute_result"
        }
      ],
      "source": [
        "r1=bisect1(f,-1,0,20)\n",
        "r1"
      ]
    },
    {
      "cell_type": "code",
      "execution_count": null,
      "metadata": {
        "id": "BfIPoZw51Mcm",
        "outputId": "c406bef5-b423-4198-8943-4ac811f21e00"
      },
      "outputs": [
        {
          "data": {
            "image/png": "[encoded data removed]",
            "text/latex": [
              "$\\displaystyle 1.17770290374756$"
            ],
            "text/plain": [
              "1.1777029037475586"
            ]
          },
          "execution_count": 34,
          "metadata": {},
          "output_type": "execute_result"
        }
      ],
      "source": [
        "r2=bisect1(f,0,2,20)\n",
        "r2"
      ]
    },
    {
      "cell_type": "markdown",
      "metadata": {
        "id": "5cOJANpk1Mcm"
      },
      "source": [
        "Such results agree with what we calculated previously. Let's now build a procedure that has as inputs function $f$ whose zeros we want to find, the extremes $A$ and $B$ of the initial interval, the maximum number of iterations $N$ and the tolerance $\\epsilon$ of the interval that contains the root. As output we have the root and the number of iterations performed."
      ]
    },
    {
      "cell_type": "code",
      "execution_count": null,
      "metadata": {
        "id": "bVkSE-5w1Mcm"
      },
      "outputs": [],
      "source": [
        "def bisect2(f,A,B,Nmax, epsilon):\n",
        "    a=A\n",
        "    b=B\n",
        "    erro=1\n",
        "    n=0\n",
        "    while erro>epsilon and n<Nmax:\n",
        "        if f(a)*f(b)>=0:\n",
        "            print('The method failed')\n",
        "            return None\n",
        "        m=(a+b)/2\n",
        "        if f(a)*f(m)<0:\n",
        "            b=m\n",
        "        else:\n",
        "            a=m\n",
        "        erro=abs(a-b)\n",
        "        n=n+1\n",
        "    return (a+b)/2,n"
      ]
    },
    {
      "cell_type": "code",
      "execution_count": null,
      "metadata": {
        "id": "y7qeGv991Mcm",
        "outputId": "205ad89e-4790-4546-e203-0ccc1431db00"
      },
      "outputs": [
        {
          "data": {
            "image/png": "[encoded data removed]",
            "text/latex": [
              "$\\displaystyle \\left( -0.750807299948065, \\  34\\right)$"
            ],
            "text/plain": [
              "(-0.7508072999480646, 34)"
            ]
          },
          "execution_count": 36,
          "metadata": {},
          "output_type": "execute_result"
        }
      ],
      "source": [
        "r1=bisect2(f,-1,0,40,10**(-10))\n",
        "r1"
      ]
    },
    {
      "cell_type": "markdown",
      "metadata": {
        "id": "9kp8tIxe1Mcm"
      },
      "source": [
        "The root value can be selected as follows:"
      ]
    },
    {
      "cell_type": "code",
      "execution_count": null,
      "metadata": {
        "id": "x3ieA_ty1Mcm",
        "outputId": "64d38dcb-3699-4b96-d3ac-b50f6aab82cb"
      },
      "outputs": [
        {
          "data": {
            "image/png": "[encoded data removed]",
            "text/latex": [
              "$\\displaystyle -0.750807299948065$"
            ],
            "text/plain": [
              "-0.7508072999480646"
            ]
          },
          "execution_count": 37,
          "metadata": {},
          "output_type": "execute_result"
        }
      ],
      "source": [
        "R1=r1[0]\n",
        "R1"
      ]
    },
    {
      "cell_type": "markdown",
      "metadata": {
        "id": "iuS4ZhFd1Mcm"
      },
      "source": [
        "Let's check the accuracy of the result:"
      ]
    },
    {
      "cell_type": "code",
      "execution_count": null,
      "metadata": {
        "id": "QHcDgx8B1Mcn",
        "outputId": "40eb8c49-63ba-4a09-f18d-03906cbc8096"
      },
      "outputs": [
        {
          "data": {
            "image/png": "[encoded data removed]",
            "text/latex": [
              "$\\displaystyle 6.2505001174884 \\cdot 10^{-11}$"
            ],
            "text/plain": [
              "6.25050011748840e-11"
            ]
          },
          "execution_count": 38,
          "metadata": {},
          "output_type": "execute_result"
        }
      ],
      "source": [
        "f(R1)"
      ]
    },
    {
      "cell_type": "markdown",
      "metadata": {
        "id": "_-PVMuY41Mcn"
      },
      "source": [
        "Similarly for the positive root:"
      ]
    },
    {
      "cell_type": "code",
      "execution_count": null,
      "metadata": {
        "id": "yhmxe0CS1Mcn",
        "outputId": "09a04606-c125-4559-f8c8-306b3169f880"
      },
      "outputs": [
        {
          "data": {
            "image/png": "[encoded data removed]",
            "text/latex": [
              "$\\displaystyle \\left( 1.1777034853294, \\  35\\right)$"
            ],
            "text/plain": [
              "(1.1777034853294026, 35)"
            ]
          },
          "execution_count": 39,
          "metadata": {},
          "output_type": "execute_result"
        }
      ],
      "source": [
        "r2=bisect2(f,0,2,40,10**(-10))\n",
        "r2"
      ]
    },
    {
      "cell_type": "code",
      "execution_count": null,
      "metadata": {
        "id": "NHWFnQ831Mcn",
        "outputId": "103786a5-b638-42fa-d9bf-36bfd979d440"
      },
      "outputs": [
        {
          "data": {
            "image/png": "[encoded data removed]",
            "text/latex": [
              "$\\displaystyle 1.1777034853294$"
            ],
            "text/plain": [
              "1.1777034853294026"
            ]
          },
          "execution_count": 40,
          "metadata": {},
          "output_type": "execute_result"
        }
      ],
      "source": [
        "R2=r2[0]\n",
        "R2"
      ]
    },
    {
      "cell_type": "code",
      "execution_count": null,
      "metadata": {
        "id": "1fK6ehrf1Mcn",
        "outputId": "6cf0ba05-1c7c-4934-d3c5-6fe93ec71fec"
      },
      "outputs": [
        {
          "data": {
            "image/png": "[encoded data removed]",
            "text/latex": [
              "$\\displaystyle -1.2719669761907 \\cdot 10^{-10}$"
            ],
            "text/plain": [
              "-1.27196697619070e-10"
            ]
          },
          "execution_count": 41,
          "metadata": {},
          "output_type": "execute_result"
        }
      ],
      "source": [
        "f(R2)"
      ]
    },
    {
      "cell_type": "markdown",
      "metadata": {
        "id": "h8lYCKoX1Mcn"
      },
      "source": [
        "Let's examine the average CPU time for determining the root $R1$:"
      ]
    },
    {
      "cell_type": "code",
      "execution_count": null,
      "metadata": {
        "id": "ZceGTXUA1Mcn",
        "outputId": "1200d671-f104-4f67-b9bc-edc0bf74ff59"
      },
      "outputs": [
        {
          "name": "stdout",
          "output_type": "stream",
          "text": [
            "4.08 ms ± 27.2 µs per loop (mean ± std. dev. of 7 runs, 100 loops each)\n"
          ]
        }
      ],
      "source": [
        "%%timeit\n",
        "bisect2(f,-1,0,40,10**(-10))"
      ]
    },
    {
      "cell_type": "markdown",
      "metadata": {
        "id": "Xn68msUc1Mco"
      },
      "source": [
        "Although our program is not optimized to be fast, the time required to determine a root with great accuracy is reasonably small."
      ]
    },
    {
      "cell_type": "markdown",
      "metadata": {
        "id": "QtmVlBON1Mco"
      },
      "source": [
        "### 3. Relationship between accuracy and number of iterations"
      ]
    },
    {
      "cell_type": "markdown",
      "metadata": {
        "id": "fG2Hs4qa1Mco"
      },
      "source": [
        "After the first iteration of the bisection method, the size $\\epsilon_1$ of the new interval that contains the root is the size of the original interval $|a-b|$ divided by 2, that is,\n",
        "\n",
        "$$\n",
        "\\epsilon_1=\\frac{|a-b|}{2}\\,.\n",
        "$$\n",
        "\n",
        "After $n$ repetitions of the process the size of the interval is\n",
        "\n",
        "$$\n",
        "\\epsilon_n=\\frac{|a-b|}{2^n}\\,.\n",
        "$$\n"
      ]
    },
    {
      "cell_type": "markdown",
      "metadata": {
        "id": "OTDLVlPQ1Mco"
      },
      "source": [
        "Therefore, for any bisection process, given the desired accuracy range $\\epsilon_n$, we can determine in advance the number of required iterations:\n",
        "\n",
        "$$\n",
        "n = \\log_2\\left(\\frac{|a-b|}{\\epsilon_n}\\right)\\,.\n",
        "$$"
      ]
    },
    {
      "cell_type": "markdown",
      "metadata": {
        "id": "5LuFiGM-1Mco"
      },
      "source": [
        "Since the interval is divided by 2 at each iteration, we say that the convergence of the bisection method is linear. For example, for an accuracy interval of at most $10^{-10}$ and initial interval of size 2, we have:"
      ]
    },
    {
      "cell_type": "code",
      "execution_count": null,
      "metadata": {
        "id": "uM1rPAq61Mco"
      },
      "outputs": [],
      "source": [
        "import numpy as np"
      ]
    },
    {
      "cell_type": "code",
      "execution_count": null,
      "metadata": {
        "id": "jZ27xTwz1Mco",
        "outputId": "f0115d4c-15ca-475c-e2c8-2c9f9e546f10"
      },
      "outputs": [
        {
          "data": {
            "image/png": "[encoded data removed]",
            "text/latex": [
              "$\\displaystyle 34.2192809488736$"
            ],
            "text/plain": [
              "34.219280948873624"
            ]
          },
          "execution_count": 44,
          "metadata": {},
          "output_type": "execute_result"
        }
      ],
      "source": [
        "n = np.log2(2/10**(-10))\n",
        "n"
      ]
    },
    {
      "cell_type": "markdown",
      "metadata": {
        "id": "vi5CMXXu1Mco"
      },
      "source": [
        "To get the integer approximation rounded up (important when defining a function) we use"
      ]
    },
    {
      "cell_type": "code",
      "execution_count": null,
      "metadata": {
        "id": "X8QM2JRl1Mco",
        "outputId": "909df388-cc1b-44d7-a70c-a442556acc76"
      },
      "outputs": [
        {
          "data": {
            "image/png": "[encoded data removed]",
            "text/latex": [
              "$\\displaystyle 35$"
            ],
            "text/plain": [
              "35"
            ]
          },
          "execution_count": 45,
          "metadata": {},
          "output_type": "execute_result"
        }
      ],
      "source": [
        "int(np.ceil(n))"
      ]
    },
    {
      "cell_type": "markdown",
      "metadata": {
        "id": "eQfaXkqL1Mco"
      },
      "source": [
        "so we must choose $n=35$ to obtain an accuracy interval smaller than $10^{-10}$."
      ]
    },
    {
      "cell_type": "markdown",
      "metadata": {
        "id": "mins1Q4R1Mco"
      },
      "source": [
        "Let's define a function that takes as input the function, the range, and the range accuracy:"
      ]
    },
    {
      "cell_type": "code",
      "execution_count": null,
      "metadata": {
        "id": "nKeTum-31Mcp"
      },
      "outputs": [],
      "source": [
        "def bisect3(f,A,B,epsilon):\n",
        "    a=A\n",
        "    b=B\n",
        "    n = int(np.ceil(np.log2(abs(b-a)/epsilon)))\n",
        "    for i in range(1, n+1):\n",
        "        if f(a)*f(b)>=0:\n",
        "            print('The method failed')\n",
        "            return None\n",
        "        m=(a+b)/2\n",
        "        if f(a)*f(m)<0:\n",
        "            b=m\n",
        "        else:\n",
        "            a=m\n",
        "    return (a+b)/2,n"
      ]
    },
    {
      "cell_type": "markdown",
      "metadata": {
        "id": "yOaKcs681Mcp"
      },
      "source": [
        "Let's test our function:"
      ]
    },
    {
      "cell_type": "code",
      "execution_count": null,
      "metadata": {
        "id": "hMm66nRo1Mcp",
        "outputId": "c749a1c0-98e6-41cd-e81f-5e10529b7d93"
      },
      "outputs": [
        {
          "data": {
            "image/png": "[encoded data removed]",
            "text/latex": [
              "$\\displaystyle \\left( 1.1777034853294, \\  35\\right)$"
            ],
            "text/plain": [
              "(1.1777034853294026, 35)"
            ]
          },
          "execution_count": 47,
          "metadata": {},
          "output_type": "execute_result"
        }
      ],
      "source": [
        "bisect3(f,0,2,10**(-10))"
      ]
    },
    {
      "cell_type": "markdown",
      "metadata": {
        "id": "-x0ekd-T1Mcp"
      },
      "source": [
        "### 4. Final considerations"
      ]
    },
    {
      "cell_type": "markdown",
      "metadata": {
        "id": "BZXM_y9c1Mcp"
      },
      "source": [
        "Advantages of the bisection method:\n",
        "\n",
        "* The method is always convergent and can be used as a starter for more accurate methods.\n",
        "* Since the intervals containing the root are halved at each iteration, we can predict the error in the solution.\n",
        "\n",
        "Disadvantages of the bisection method:\n",
        "\n",
        "* Convergence is slow (linear), because at each step the interval containing the root is only reduced by half.\n",
        "* The method does not work for determining multiple roots.\n"
      ]
    },
    {
      "cell_type": "markdown",
      "metadata": {
        "id": "O8MC61pG1Mcp"
      },
      "source": [
        "### 5. Exercises"
      ]
    },
    {
      "cell_type": "markdown",
      "metadata": {
        "id": "BAFwDElf1Mcp"
      },
      "source": [
        "<bf>1.</bf> In the items below, graph each function to determine the real roots (if any) and their number. Then determine each one of them through the bisection method, with an interval accuracy of $10^{-11}$, determining the necessary number of iterations.\n",
        "\n",
        "(i) $\\mbox{e}^x+x+1=0$,\n",
        "\n",
        "(ii) $\\mbox{e}^{-x}+x=0$,\n",
        "\n",
        "(iii) $x^3-9x^2-x-4\\sin x+2 =0$.\n",
        "\n",
        "<bf>2.</bf> Determine how many real solutions the equation $\\sin x-\\cos(x^2) = 0$ has in the interval $[0,4]$ and how many in the interval $[4,6] $.\n",
        "Numerically determine the largest roots in each interval, with an interval accuracy of $10^{-7}$."
      ]
    },
    {
      "cell_type": "markdown",
      "metadata": {
        "id": "jJaDUBzR1Mcp"
      },
      "source": [
        "### Some solutions"
      ]
    },
    {
      "cell_type": "markdown",
      "metadata": {
        "id": "hv8F_ZnD1Mcp"
      },
      "source": [
        "1. (i) Let's use the sympy library, as well as the matplotlib graphics library:"
      ]
    },
    {
      "cell_type": "code",
      "execution_count": null,
      "metadata": {
        "id": "FyOFA4NP1Mcp"
      },
      "outputs": [],
      "source": [
        "from matplotlib.pyplot import *\n",
        "from sympy import *\n",
        "init_printing()"
      ]
    },
    {
      "cell_type": "code",
      "execution_count": null,
      "metadata": {
        "id": "GJ0nMvp01Mcp",
        "outputId": "a3bb72ed-ac73-43bc-9e52-7e5d1f06c427"
      },
      "outputs": [
        {
          "data": {
            "image/png": "[encoded data removed]",
            "text/latex": [
              "$\\displaystyle \\left( x \\mapsto x + e^{x} + 1 \\right)$"
            ],
            "text/plain": [
              "         x    \n",
              "x ↦ x + ℯ  + 1"
            ]
          },
          "execution_count": 49,
          "metadata": {},
          "output_type": "execute_result"
        }
      ],
      "source": [
        "x=symbols('x')\n",
        "f= Lambda(x, exp(x)+x+1)\n",
        "f"
      ]
    },
    {
      "cell_type": "code",
      "execution_count": null,
      "metadata": {
        "id": "9TWhtvZS1Mcq",
        "outputId": "7da20662-8bbd-415d-9618-cc50f28929e0"
      },
      "outputs": [
        {
          "data": {
            "image/png": "[encoded data removed]",
            "text/plain": [
              "<Figure size 640x480 with 1 Axes>"
            ]
          },
          "metadata": {},
          "output_type": "display_data"
        },
        {
          "data": {
            "text/plain": [
              "<sympy.plotting.plot.Plot at 0x7f8009051d60>"
            ]
          },
          "execution_count": 50,
          "metadata": {},
          "output_type": "execute_result"
        }
      ],
      "source": [
        "plot(f(x),(x,-2,1))"
      ]
    },
    {
      "cell_type": "markdown",
      "metadata": {
        "id": "7VqiaKn91Mcq"
      },
      "source": [
        "We have a single real root, in the interval [-2,-1]."
      ]
    },
    {
      "cell_type": "markdown",
      "metadata": {
        "id": "bwg237mA1Mcq"
      },
      "source": [
        "Let's use the bisect3 function, defined earlier:"
      ]
    },
    {
      "cell_type": "code",
      "execution_count": null,
      "metadata": {
        "id": "iaVk3B6f1Mcq"
      },
      "outputs": [],
      "source": [
        "import numpy as np"
      ]
    },
    {
      "cell_type": "code",
      "execution_count": null,
      "metadata": {
        "id": "HOzIq4fx1Mcq"
      },
      "outputs": [],
      "source": [
        "def bisect3(f,A,B,epsilon):\n",
        "    a=A\n",
        "    b=B\n",
        "    n = int(np.ceil(np.log2(abs(b-a)/epsilon)))\n",
        "    for i in range(1, n+1):\n",
        "        if f(a)*f(b)>=0:\n",
        "            print('The method failed')\n",
        "            return None\n",
        "        m=(a+b)/2\n",
        "        if f(a)*f(m)<0:\n",
        "            b=m\n",
        "        else:\n",
        "            a=m\n",
        "    return (a+b)/2,n"
      ]
    },
    {
      "cell_type": "code",
      "execution_count": null,
      "metadata": {
        "id": "cy0j_ZuQ1Mcq",
        "outputId": "34083840-f93f-47b4-d319-10803309bea9"
      },
      "outputs": [
        {
          "data": {
            "image/png": "[encoded data removed]",
            "text/latex": [
              "$\\displaystyle \\left( -1.27846454276369, \\  37\\right)$"
            ],
            "text/plain": [
              "(-1.278464542763686, 37)"
            ]
          },
          "execution_count": 53,
          "metadata": {},
          "output_type": "execute_result"
        }
      ],
      "source": [
        "bisect3(f,-2,-1,10**(-11))"
      ]
    },
    {
      "cell_type": "markdown",
      "metadata": {
        "id": "2lEZj8mJ1Mcq"
      },
      "source": [
        "so 37 iterations were required."
      ]
    },
    {
      "cell_type": "code",
      "execution_count": null,
      "metadata": {
        "id": "q03FISFG1Mcq"
      },
      "outputs": [],
      "source": [
        "(r,n) = bisect3(f,-2,-1,10**(-11))"
      ]
    },
    {
      "cell_type": "code",
      "execution_count": null,
      "metadata": {
        "id": "yAt1DdEd1Mcq",
        "outputId": "aefa8e1f-f952-4978-dcf9-99e1fb2f9ae3"
      },
      "outputs": [
        {
          "data": {
            "image/png": "[encoded data removed]",
            "text/latex": [
              "$\\displaystyle -1.27846454276369$"
            ],
            "text/plain": [
              "-1.278464542763686"
            ]
          },
          "execution_count": 57,
          "metadata": {},
          "output_type": "execute_result"
        }
      ],
      "source": [
        "r"
      ]
    },
    {
      "cell_type": "markdown",
      "metadata": {
        "id": "QKkWHSUO1Mcq"
      },
      "source": [
        "Let's check the result:"
      ]
    },
    {
      "cell_type": "code",
      "execution_count": null,
      "metadata": {
        "id": "yH0bXz6a1Mcq",
        "outputId": "427c2b79-a63f-42a5-dc2e-62bbe2c68713"
      },
      "outputs": [
        {
          "data": {
            "image/png": "[encoded data removed]",
            "text/latex": [
              "$\\displaystyle -3.33966188037493 \\cdot 10^{-12}$"
            ],
            "text/plain": [
              "-3.33966188037493e-12"
            ]
          },
          "execution_count": 58,
          "metadata": {},
          "output_type": "execute_result"
        }
      ],
      "source": [
        "f(r)"
      ]
    }
  ],
  "metadata": {
    "kernelspec": {
      "display_name": "Python 3 (ipykernel)",
      "language": "python",
      "name": "python3"
    },
    "language_info": {
      "codemirror_mode": {
        "name": "ipython",
        "version": 3
      },
      "file_extension": ".py",
      "mimetype": "text/x-python",
      "name": "python",
      "nbconvert_exporter": "python",
      "pygments_lexer": "ipython3",
      "version": "3.9.13"
    },
    "colab": {
      "provenance": [],
      "include_colab_link": true
    }
  },
  "nbformat": 4,
  "nbformat_minor": 0
}