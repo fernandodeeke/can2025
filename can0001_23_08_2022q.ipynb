{
 "cells": [
  {
   "cell_type": "markdown",
   "metadata": {},
   "source": [
    "<center>\n",
    "    <h2>Raízes de Funções</h2>\n",
    "</center>"
   ]
  },
  {
   "cell_type": "markdown",
   "metadata": {},
   "source": [
    "### Exemplo\n",
    "Determine as raízes reais de $f(x)=\\cos x + x+1$."
   ]
  },
  {
   "cell_type": "code",
   "execution_count": 7,
   "metadata": {},
   "outputs": [],
   "source": [
    "from sympy import *\n",
    "from sympy.plotting import plot "
   ]
  },
  {
   "cell_type": "code",
   "execution_count": 8,
   "metadata": {},
   "outputs": [
    {
     "data": {
      "text/latex": [
       "$\\displaystyle x + \\cos{\\left(x \\right)} + 1$"
      ],
      "text/plain": [
       "x + cos(x) + 1"
      ]
     },
     "execution_count": 8,
     "metadata": {},
     "output_type": "execute_result"
    }
   ],
   "source": [
    "x= symbols('x')\n",
    "f = Lambda(x,cos(x)+x+1)\n",
    "f(x)"
   ]
  },
  {
   "cell_type": "code",
   "execution_count": 11,
   "metadata": {},
   "outputs": [
    {
     "data": {
      "image/png": "[encoded data removed]",
      "text/plain": [
       "<Figure size 432x288 with 1 Axes>"
      ]
     },
     "metadata": {
      "needs_background": "light"
     },
     "output_type": "display_data"
    },
    {
     "data": {
      "text/plain": [
       "<sympy.plotting.plot.Plot at 0x21db6ac6888>"
      ]
     },
     "execution_count": 11,
     "metadata": {},
     "output_type": "execute_result"
    }
   ],
   "source": [
    "plot(f(x),(x,-2,0))"
   ]
  },
  {
   "cell_type": "code",
   "execution_count": 15,
   "metadata": {},
   "outputs": [
    {
     "name": "stdout",
     "output_type": "stream",
     "text": [
      "-1.2834281921386719\n",
      "3.814697265625e-06\n"
     ]
    }
   ],
   "source": [
    "a= -2\n",
    "b= 0\n",
    "for n in range(1,20):\n",
    "    m = (a+b)/2\n",
    "    if f(m)*f(a)>0:\n",
    "        a = m\n",
    "    else:\n",
    "        b = m\n",
    "    erro = abs(a-b)\n",
    "print(m)\n",
    "print(erro)"
   ]
  },
  {
   "cell_type": "code",
   "execution_count": 18,
   "metadata": {},
   "outputs": [],
   "source": [
    "def bisseccao1(f,A,B,N):\n",
    "    a=A\n",
    "    b=B\n",
    "    if f(a)*f(b)>=0:\n",
    "        print('O método falhou')\n",
    "        return None\n",
    "    for n in range(1, N+1):\n",
    "        m = (a+b)/2\n",
    "        if f(m)*f(a)>0:\n",
    "            a = m\n",
    "        else:\n",
    "            b = m\n",
    "    return (a+b)/2"
   ]
  },
  {
   "cell_type": "code",
   "execution_count": 19,
   "metadata": {},
   "outputs": [
    {
     "data": {
      "text/plain": [
       "-1.2834291458129883"
      ]
     },
     "execution_count": 19,
     "metadata": {},
     "output_type": "execute_result"
    }
   ],
   "source": [
    "r = bisseccao1(f,-2,0,20)\n",
    "r"
   ]
  },
  {
   "cell_type": "code",
   "execution_count": 22,
   "metadata": {},
   "outputs": [],
   "source": [
    "def bisseccao2(f,A,B,N):\n",
    "    a=A\n",
    "    b=B\n",
    "    if f(a)*f(b)>=0:\n",
    "        print('O método falhou')\n",
    "        return None\n",
    "    for n in range(1, N+1):\n",
    "        m = (a+b)/2\n",
    "        if f(m)*f(a)>0:\n",
    "            a = m\n",
    "        else:\n",
    "            b = m\n",
    "        erro = abs(a-b)\n",
    "    return (a+b)/2, erro"
   ]
  },
  {
   "cell_type": "code",
   "execution_count": null,
   "metadata": {},
   "outputs": [],
   "source": []
  },
  {
   "cell_type": "code",
   "execution_count": 24,
   "metadata": {},
   "outputs": [],
   "source": [
    "r, e1 = bisseccao2(f,-2,0,20)"
   ]
  },
  {
   "cell_type": "code",
   "execution_count": 27,
   "metadata": {},
   "outputs": [
    {
     "data": {
      "text/plain": [
       "-1.2834291458129883"
      ]
     },
     "execution_count": 27,
     "metadata": {},
     "output_type": "execute_result"
    }
   ],
   "source": [
    "r"
   ]
  },
  {
   "cell_type": "code",
   "execution_count": 28,
   "metadata": {},
   "outputs": [
    {
     "data": {
      "text/plain": [
       "1.9073486328125e-06"
      ]
     },
     "execution_count": 28,
     "metadata": {},
     "output_type": "execute_result"
    }
   ],
   "source": [
    "e1"
   ]
  },
  {
   "cell_type": "markdown",
   "metadata": {},
   "source": [
    "Queremos determinar quantas iterações necessitamos para obter um tamanho de intervalo  final não maior que um dado valor especificado. Por exemplo, se $\\epsilon =10^{-6}$ e o intervalo inicial tiver tamanho $L=2$, teremos:"
   ]
  },
  {
   "cell_type": "code",
   "execution_count": 30,
   "metadata": {},
   "outputs": [],
   "source": [
    "import numpy as np"
   ]
  },
  {
   "cell_type": "code",
   "execution_count": 31,
   "metadata": {},
   "outputs": [
    {
     "data": {
      "text/plain": [
       "20.931568569324174"
      ]
     },
     "execution_count": 31,
     "metadata": {},
     "output_type": "execute_result"
    }
   ],
   "source": [
    "L = 2.\n",
    "epsilon = 10.**(-6)\n",
    "n = np.log2(L/epsilon)\n",
    "n"
   ]
  },
  {
   "cell_type": "code",
   "execution_count": 35,
   "metadata": {},
   "outputs": [
    {
     "data": {
      "text/plain": [
       "21"
      ]
     },
     "execution_count": 35,
     "metadata": {},
     "output_type": "execute_result"
    }
   ],
   "source": [
    "int(np.ceil(n))"
   ]
  },
  {
   "cell_type": "markdown",
   "metadata": {},
   "source": [
    "Portanto, devemos usar 21 interações. "
   ]
  },
  {
   "cell_type": "code",
   "execution_count": 40,
   "metadata": {},
   "outputs": [],
   "source": [
    "def bisseccao3(f,A,B,epsilon):\n",
    "    a=A\n",
    "    b=B\n",
    "    L = abs(a-b)\n",
    "    N = int(np.ceil(np.log2(L/epsilon)))\n",
    "    if f(a)*f(b)>=0:\n",
    "        print('O método falhou')\n",
    "        return None\n",
    "    for n in range(1, N+1):\n",
    "        m = (a+b)/2\n",
    "        if f(m)*f(a)>0:\n",
    "            a = m\n",
    "        else:\n",
    "            b = m\n",
    "        erro = abs(a-b)\n",
    "    return (a+b)/2, erro"
   ]
  },
  {
   "cell_type": "code",
   "execution_count": 41,
   "metadata": {},
   "outputs": [],
   "source": [
    "r, e1 = bisseccao3(f,-2,0,10**(-6))"
   ]
  },
  {
   "cell_type": "code",
   "execution_count": 42,
   "metadata": {},
   "outputs": [
    {
     "data": {
      "text/plain": [
       "-1.28342866897583"
      ]
     },
     "execution_count": 42,
     "metadata": {},
     "output_type": "execute_result"
    }
   ],
   "source": [
    "r"
   ]
  },
  {
   "cell_type": "code",
   "execution_count": 43,
   "metadata": {},
   "outputs": [
    {
     "data": {
      "text/plain": [
       "9.5367431640625e-07"
      ]
     },
     "execution_count": 43,
     "metadata": {},
     "output_type": "execute_result"
    }
   ],
   "source": [
    "e1"
   ]
  },
  {
   "cell_type": "code",
   "execution_count": 44,
   "metadata": {},
   "outputs": [
    {
     "name": "stdout",
     "output_type": "stream",
     "text": [
      "O método falhou\n"
     ]
    }
   ],
   "source": [
    " bisseccao3(f,-2,-1.5,10**(-6))"
   ]
  },
  {
   "cell_type": "markdown",
   "metadata": {},
   "source": [
    "#### Exercício. \n",
    "\n",
    "Determine as raízes reais de \n",
    "\n",
    "$$ \n",
    "x^3-9x^2-x-4\\sin x+1=0 \n",
    "$$\n",
    "\n",
    "com uma acurácia de intervalo de $10^{-11}$. "
   ]
  },
  {
   "cell_type": "code",
   "execution_count": null,
   "metadata": {},
   "outputs": [],
   "source": []
  }
 ],
 "metadata": {
  "kernelspec": {
   "display_name": "Python 3",
   "language": "python",
   "name": "python3"
  },
  "language_info": {
   "codemirror_mode": {
    "name": "ipython",
    "version": 3
   },
   "file_extension": ".py",
   "mimetype": "text/x-python",
   "name": "python",
   "nbconvert_exporter": "python",
   "pygments_lexer": "ipython3",
   "version": "3.7.4"
  }
 },
 "nbformat": 4,
 "nbformat_minor": 2
}
