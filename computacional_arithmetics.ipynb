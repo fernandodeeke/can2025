{
 "cells": [
  {
   "cell_type": "markdown",
   "metadata": {},
   "source": [
    "<center>  </center>\n",
    "<center><h1>Numerical Analysis</h1></center>\n",
    "<center><h2>ANN0001 2023/1</h2></center>\n",
    "<center><h3>Prof. Fernando Deeke Sasse - CCT, UDESC</h3></center>    \n",
    "<center><h2>Computacional Arithmetics</h2> </center>"
   ]
  },
  {
   "cell_type": "markdown",
   "metadata": {},
   "source": [
    "## 1. A brief introduction to number systems in computing"
   ]
  },
  {
   "cell_type": "markdown",
   "metadata": {},
   "source": [
    "The objective of this introduction is to motivate the student to understand the functioning of a computational floating point system, which in almost all numerical systems is carried out directly on the processor, in binary format. It is called hardware floating-point arithmetic. It is possible to perform numerical calculations in the decimal system, with arbitrary precision (software floating point arithmetic). This is typical in computer algebraic systems like Maple and Mathematica, in Matlab's symbolic module. However, the price for greater accuracy and error-free binary-to-decimal conversion is computation time. Hardware floating point arithmetic is much faster. The approach here is basic, but it will give an idea about the origin of some possible numerical errors in computer numerical calculations, which originate from binary-decimal conversion and finite precision used in hardware arithmetic. \n",
    "\n",
    "Let's do a simple experiment in Python consisting of the sum of two large numbers:"
   ]
  },
  {
   "cell_type": "code",
   "execution_count": 57,
   "metadata": {},
   "outputs": [
    {
     "data": {
      "text/plain": [
       "1.0"
      ]
     },
     "execution_count": 57,
     "metadata": {},
     "output_type": "execute_result"
    }
   ],
   "source": [
    "1e15+1-1e15"
   ]
  },
  {
   "cell_type": "markdown",
   "metadata": {},
   "source": [
    "As expected, the result is 1. However, let's now take numbers an order of magnitude higher:"
   ]
  },
  {
   "cell_type": "code",
   "execution_count": 58,
   "metadata": {},
   "outputs": [
    {
     "data": {
      "text/plain": [
       "0.0"
      ]
     },
     "execution_count": 58,
     "metadata": {},
     "output_type": "execute_result"
    }
   ],
   "source": [
    "1e16+1-1e16"
   ]
  },
  {
   "cell_type": "markdown",
   "metadata": {},
   "source": [
    "On the other hand,"
   ]
  },
  {
   "cell_type": "code",
   "execution_count": 59,
   "metadata": {},
   "outputs": [
    {
     "data": {
      "text/plain": [
       "1.0"
      ]
     },
     "execution_count": 59,
     "metadata": {},
     "output_type": "execute_result"
    }
   ],
   "source": [
    "(1e16-1e16)+1"
   ]
  },
  {
   "cell_type": "markdown",
   "metadata": {},
   "source": [
    "This shows that we can run into problems in computing when we add numbers with very different magnitudes. This is not a problem with Python, but with the floating-point arithmetic implemented in the computer's processor. Let's look at another example."
   ]
  },
  {
   "cell_type": "markdown",
   "metadata": {},
   "source": [
    "Mathematically we know that equality holds\n",
    "\n",
    "$$\n",
    "\\frac{1}{\\sqrt{1+x}-\\sqrt{x}} = \\sqrt{1+x}+\\sqrt{x}\n",
    "$$\n",
    "\n",
    "Let's examine this identity computationally. We define the function (which mathematically is identically zero):\n",
    "\n",
    "$$\n",
    "f(x) = \\frac{1}{\\sqrt{1+x}-\\sqrt{x}} - \\left(\\sqrt{1+x}+\\sqrt{x}\\right)\n",
    "$$\n"
   ]
  },
  {
   "cell_type": "code",
   "execution_count": 60,
   "metadata": {},
   "outputs": [],
   "source": [
    "from math import sqrt"
   ]
  },
  {
   "cell_type": "code",
   "execution_count": 61,
   "metadata": {},
   "outputs": [],
   "source": [
    "def f(x):\n",
    "    f1 = sqrt(1+x)+sqrt(x)\n",
    "    f2 = sqrt(1+x)-sqrt(x)\n",
    "    return 1/f2-f1"
   ]
  },
  {
   "cell_type": "markdown",
   "metadata": {},
   "source": [
    "Let us evaluate this function for different values of $x$: "
   ]
  },
  {
   "cell_type": "code",
   "execution_count": 62,
   "metadata": {},
   "outputs": [
    {
     "data": {
      "text/plain": [
       "-4.440892098500626e-16"
      ]
     },
     "execution_count": 62,
     "metadata": {},
     "output_type": "execute_result"
    }
   ],
   "source": [
    "f(1.)"
   ]
  },
  {
   "cell_type": "code",
   "execution_count": 63,
   "metadata": {},
   "outputs": [
    {
     "data": {
      "text/plain": [
       "0.0"
      ]
     },
     "execution_count": 63,
     "metadata": {},
     "output_type": "execute_result"
    }
   ],
   "source": [
    "f(0)"
   ]
  },
  {
   "cell_type": "markdown",
   "metadata": {},
   "source": [
    "When $x$ is relatively large, we start to see problems:"
   ]
  },
  {
   "cell_type": "code",
   "execution_count": 64,
   "metadata": {},
   "outputs": [
    {
     "data": {
      "text/plain": [
       "-0.00027235326342633925"
      ]
     },
     "execution_count": 64,
     "metadata": {},
     "output_type": "execute_result"
    }
   ],
   "source": [
    "f(1e8)"
   ]
  },
  {
   "cell_type": "markdown",
   "metadata": {},
   "source": [
    "This number is no longer so close to zero. When $x$ gets even bigger the problems get catastrophically worse:"
   ]
  },
  {
   "cell_type": "code",
   "execution_count": 65,
   "metadata": {},
   "outputs": [
    {
     "data": {
      "text/plain": [
       "-9558462.003367603"
      ]
     },
     "execution_count": 65,
     "metadata": {},
     "output_type": "execute_result"
    }
   ],
   "source": [
    "f(1e+15)"
   ]
  },
  {
   "cell_type": "code",
   "execution_count": 66,
   "metadata": {},
   "outputs": [
    {
     "ename": "ZeroDivisionError",
     "evalue": "float division by zero",
     "output_type": "error",
     "traceback": [
      "\u001b[0;31m---------------------------------------------------------------------------\u001b[0m",
      "\u001b[0;31mZeroDivisionError\u001b[0m                         Traceback (most recent call last)",
      "\u001b[0;32m/var/folders/dw/zdjlpzhx1tz2yqtvgn23qlkm0000gn/T/ipykernel_18184/1771417837.py\u001b[0m in \u001b[0;36m<module>\u001b[0;34m\u001b[0m\n\u001b[0;32m----> 1\u001b[0;31m \u001b[0mf\u001b[0m\u001b[0;34m(\u001b[0m\u001b[0;36m1e+16\u001b[0m\u001b[0;34m)\u001b[0m\u001b[0;34m\u001b[0m\u001b[0;34m\u001b[0m\u001b[0m\n\u001b[0m",
      "\u001b[0;32m/var/folders/dw/zdjlpzhx1tz2yqtvgn23qlkm0000gn/T/ipykernel_18184/1049033256.py\u001b[0m in \u001b[0;36mf\u001b[0;34m(x)\u001b[0m\n\u001b[1;32m      2\u001b[0m     \u001b[0mf1\u001b[0m \u001b[0;34m=\u001b[0m \u001b[0msqrt\u001b[0m\u001b[0;34m(\u001b[0m\u001b[0;36m1\u001b[0m\u001b[0;34m+\u001b[0m\u001b[0mx\u001b[0m\u001b[0;34m)\u001b[0m\u001b[0;34m+\u001b[0m\u001b[0msqrt\u001b[0m\u001b[0;34m(\u001b[0m\u001b[0mx\u001b[0m\u001b[0;34m)\u001b[0m\u001b[0;34m\u001b[0m\u001b[0;34m\u001b[0m\u001b[0m\n\u001b[1;32m      3\u001b[0m     \u001b[0mf2\u001b[0m \u001b[0;34m=\u001b[0m \u001b[0msqrt\u001b[0m\u001b[0;34m(\u001b[0m\u001b[0;36m1\u001b[0m\u001b[0;34m+\u001b[0m\u001b[0mx\u001b[0m\u001b[0;34m)\u001b[0m\u001b[0;34m-\u001b[0m\u001b[0msqrt\u001b[0m\u001b[0;34m(\u001b[0m\u001b[0mx\u001b[0m\u001b[0;34m)\u001b[0m\u001b[0;34m\u001b[0m\u001b[0;34m\u001b[0m\u001b[0m\n\u001b[0;32m----> 4\u001b[0;31m     \u001b[0;32mreturn\u001b[0m \u001b[0;36m1\u001b[0m\u001b[0;34m/\u001b[0m\u001b[0mf2\u001b[0m\u001b[0;34m-\u001b[0m\u001b[0mf1\u001b[0m\u001b[0;34m\u001b[0m\u001b[0;34m\u001b[0m\u001b[0m\n\u001b[0m",
      "\u001b[0;31mZeroDivisionError\u001b[0m: float division by zero"
     ]
    }
   ],
   "source": [
    "f(1e+16)"
   ]
  },
  {
   "cell_type": "markdown",
   "metadata": {},
   "source": [
    "In this last evaluation the result was an error caused by division by zero."
   ]
  },
  {
   "cell_type": "markdown",
   "metadata": {},
   "source": [
    "## 2. Floating point systems in general"
   ]
  },
  {
   "cell_type": "markdown",
   "metadata": {},
   "source": [
    "In general, floating point numbers are represented as follows:\n",
    "\n",
    "$$\n",
    "\\pm 1.m \\times 2^p\n",
    "$$\n",
    "\n",
    "where $m$ is the mantissa and $p$ is the exponent. In general, in so-called normalized floating point systems the mantissa has the following restriction on values:\n",
    "\n",
    "$$\n",
    "\\frac{1}{2} \\leq m \\leq 1\\,.\n",
    "$$\n",
    "\n",
    "In the computer, the representation is made by means of binary numbers $0$ or $1$. A mantissa is therefore characterized by a sequence of $N$ binary digits:\n",
    "\n",
    "$$\n",
    "m = (\\mu_1 \\mu_2 \\cdots \\mu_N)_2.\n",
    "$$\n",
    "\n",
    "This notation has a similar meaning to what we normally use:\n",
    "\n",
    "$$\n",
    "m= \\mu_1 \\times 2^{-1} +\\mu_2 \\times 2^{-1} +\\cdots \\cdots \\mu_N\\times 2^{-N}\n",
    "$$\n",
    "\n",
    "The exponential part is an integer with $E$ number of digits, characterized by $E+1$ bits:\n",
    "\n",
    "$$\n",
    "p = (\\nu_0 |\\nu_1 \\nu_2 \\cdots \\nu_{E})_2\\,,\n",
    "$$\n",
    "\n",
    "where $\\nu_0$ is the sign bit, with 1 corresponding to the negative sign. In other words,\n",
    "\n",
    "$$\n",
    "p = \\pm (\\nu_{E}+\\nu_{E-1}\\times 2+\\cdots + \\nu_1 \\times 2^E)\n",
    "$$\n",
    "\n"
   ]
  },
  {
   "cell_type": "markdown",
   "metadata": {},
   "source": [
    "A binary word, representing a number is represented by a sequence of $N+E+2$ bits:\n",
    "\n",
    "$$\n",
    "[s|\\mu_1 \\mu_2 \\cdots \\mu_N|\\nu_0| \\nu_1 \\nu_2 \\cdots \\nu_{E}],\n",
    "$$\n",
    "\n",
    "where $s$ is a sign bit, and $s=1$ corresponding to a negative number."
   ]
  },
  {
   "cell_type": "markdown",
   "metadata": {},
   "source": [
    "We can designate a binary floating point system by $F(2,N,E)$. For example in the system $F(2,5, 3)$ the largest number in magnitude is\n",
    "\n",
    "$$\n",
    "(1.1 1 1 1 1)_2 \\times 2^{(1 1 1)_2} = (1+1\\times 2^{-1}+1\\times 2^{-2}+1\\times 2^{-3}+1\\times 2^{-4}+1\\times 2^{-5})\\times 2^7=252.\n",
    "$$\n",
    "\n",
    "The smallest number in magnitude is given by\n",
    "\n",
    "$$\n",
    "(1.0 0 0 0 0)_2 \\times 2^{-(1 1 1)_2} = 1\\times 2^{-7}=\\frac{1}{128}. = 0.0078125\\,.\n",
    "$$\n",
    "\n",
    "The region corresponding to the interval $(-0.0078125, 0.0078125)$ is called the underflow region, while the region with numbers greater than $252$ and less than $-252$ is called the overflow region.\n",
    "\n",
    "A typical number in this system is represented by a 10-bit binary word:\n",
    "\n",
    "$$ \n",
    "[s|\\mu_1 \\mu_2 \\mu_3 \\mu_5 \\mu_5|\\nu_0| \\nu_1 \\nu_2\\nu_3]\n",
    "$$\n",
    "\n",
    "Thus, the binary word $[1| 01011 |1|011]$ corresponds to the number\n",
    "\n",
    "$$\n",
    "(-1)^1(1+2^{-2}+2^{-4}+2^{-5})\\times 2^{-3}= \\frac{43}{256} = 0.16796875.\n",
    "$$\n",
    "\n",
    "## 3. Normalized floating point system\n",
    "\n",
    "We can have a normalized number system. In this case the exponent sign bit is built into the number and a bias is introduced, so that the highest binary exponential for normal numbers is $[1 1 \\cdots 10]$ and the lowest is $[0 0 \\cdots 01] $. The exponents corresponding to $[11\\cdots 11]$ and $[0 0 \\cdots 0 0]$ are associated with special numbers.\n",
    "\n",
    "In the previous example, with $F(2,5, 3)$, the binary word in the corresponding normalized system is now denoted by\n",
    "\n",
    "$$ \n",
    "[s|\\mu_1 \\mu_2 \\mu_3 \\mu_5 \\mu_5| \\nu_1 \\nu_2\\nu_3 \\nu_4]\\,,\n",
    "$$\n",
    "\n",
    "with bias $-7$, for example. The largest exponent for normal numbers corresponds to $[1 1 1 0]$, biased by $-7$ resulting in\n",
    "\n",
    "$$\n",
    "(1 1 1 0)_2 -7 = 2^3+2^2+2 - 7 = 7\n",
    "$$\n",
    "\n",
    "and the smallest exponent for normal numbers corresponds to $[0 0 0 1]$ biased by $-7$, resulting in\n",
    "\n",
    "$$\n",
    "(0 0 0 1)_2 -7 = 1 - 7 = -6\n",
    "$$\n",
    "\n",
    "The exponents corresponding to $[1111]$ and $[0 0 0 0]$ are reserved for special numbers. Now, the binary word $[1| 01011 |0100]$ matches the number\n",
    "\n",
    "$$\n",
    "(-1)^1(1+2^{-2}+2^{-4}+2^{-5})\\times 2^{2^2-7}= \\frac{43}{32} \\times 2^{-3}= \\frac{43}{256}\n",
    "$$\n",
    "\n",
    "The highest magnitude number in this now normalized system is still of the form\n",
    "\n",
    "$$\n",
    "(1.1 1 1 1 1)_2 \\times 2^7=252.\n",
    "$$\n",
    "\n",
    "The smallest magnitude number in this system is now of the form\n",
    "\n",
    "$$\n",
    "(1.1 1 1 1 1)_2 \\times 2^{-6} =\\frac{63}{2048} \\approx 0.030\\,.\n",
    "$$\n",
    "\n",
    "Note that when talking about precision in the floating point system, it is correct to mention binary precision, that is, the number of bits in the mantissa. To convert this precision to the decimal system we must solve the equation\n",
    "$2^6=10^x$, resulting in $x \\approx 1.8$, which shows that numbers from this system in the decimal system cannot be well represented, in general, with more than two significant digits. Note, however, that the number of significant bits of the mantissa is 5, since the integer part is already predefined. "
   ]
  },
  {
   "cell_type": "markdown",
   "metadata": {},
   "source": [
    "## 4.  Determining all numbers of a floating point system"
   ]
  },
  {
   "cell_type": "markdown",
   "metadata": {},
   "source": [
    "Let's consider the unnormalized binary system of the form $F(2,4,3)$. Determine all numbers representable exactly in this system, in decimal form.  "
   ]
  },
  {
   "cell_type": "code",
   "execution_count": 67,
   "metadata": {},
   "outputs": [],
   "source": [
    "import sympy\n",
    "from sympy.utilities.iterables import multiset_permutations"
   ]
  },
  {
   "cell_type": "markdown",
   "metadata": {},
   "source": [
    "Let us initially find all possible combinations for the mantissa:"
   ]
  },
  {
   "cell_type": "code",
   "execution_count": 68,
   "metadata": {},
   "outputs": [],
   "source": [
    "t1 = [0,1,0,0]\n",
    "t2 = [1,1,0,0]\n",
    "t3 = [1,1,1,0]\n",
    "L4 = [1,1,1,1]\n",
    "L5 = [0,0,0,0]"
   ]
  },
  {
   "cell_type": "code",
   "execution_count": 69,
   "metadata": {},
   "outputs": [
    {
     "data": {
      "text/plain": [
       "[[0, 0, 0, 1], [0, 0, 1, 0], [0, 1, 0, 0], [1, 0, 0, 0]]"
      ]
     },
     "execution_count": 69,
     "metadata": {},
     "output_type": "execute_result"
    }
   ],
   "source": [
    "L1 = list(multiset_permutations(t1))\n",
    "L1"
   ]
  },
  {
   "cell_type": "code",
   "execution_count": 70,
   "metadata": {},
   "outputs": [
    {
     "data": {
      "text/plain": [
       "[[0, 0, 1, 1],\n",
       " [0, 1, 0, 1],\n",
       " [0, 1, 1, 0],\n",
       " [1, 0, 0, 1],\n",
       " [1, 0, 1, 0],\n",
       " [1, 1, 0, 0]]"
      ]
     },
     "execution_count": 70,
     "metadata": {},
     "output_type": "execute_result"
    }
   ],
   "source": [
    "L2 = list(multiset_permutations(t2))\n",
    "L2"
   ]
  },
  {
   "cell_type": "code",
   "execution_count": 71,
   "metadata": {},
   "outputs": [
    {
     "data": {
      "text/plain": [
       "[[0, 0, 1, 1],\n",
       " [0, 1, 0, 1],\n",
       " [0, 1, 1, 0],\n",
       " [1, 0, 0, 1],\n",
       " [1, 0, 1, 0],\n",
       " [1, 1, 0, 0]]"
      ]
     },
     "execution_count": 71,
     "metadata": {},
     "output_type": "execute_result"
    }
   ],
   "source": [
    "L3 = list(multiset_permutations(t2))\n",
    "L3"
   ]
  },
  {
   "cell_type": "markdown",
   "metadata": {},
   "source": [
    "Let's concatenate the lists to get all the combinations:"
   ]
  },
  {
   "cell_type": "code",
   "execution_count": 72,
   "metadata": {},
   "outputs": [
    {
     "data": {
      "text/plain": [
       "[[0, 0, 0, 1],\n",
       " [0, 0, 1, 0],\n",
       " [0, 1, 0, 0],\n",
       " [1, 0, 0, 0],\n",
       " [0, 0, 1, 1],\n",
       " [0, 1, 0, 1],\n",
       " [0, 1, 1, 0],\n",
       " [1, 0, 0, 1],\n",
       " [1, 0, 1, 0],\n",
       " [1, 1, 0, 0],\n",
       " [0, 0, 1, 1],\n",
       " [0, 1, 0, 1],\n",
       " [0, 1, 1, 0],\n",
       " [1, 0, 0, 1],\n",
       " [1, 0, 1, 0],\n",
       " [1, 1, 0, 0],\n",
       " [1, 1, 1, 1],\n",
       " [0, 0, 0, 0]]"
      ]
     },
     "execution_count": 72,
     "metadata": {},
     "output_type": "execute_result"
    }
   ],
   "source": [
    "L = L1+L2+L3+[L4]+[L5]\n",
    "L"
   ]
  },
  {
   "cell_type": "markdown",
   "metadata": {},
   "source": [
    "We have 18 elements in this list:"
   ]
  },
  {
   "cell_type": "code",
   "execution_count": 73,
   "metadata": {},
   "outputs": [
    {
     "data": {
      "text/plain": [
       "18"
      ]
     },
     "execution_count": 73,
     "metadata": {},
     "output_type": "execute_result"
    }
   ],
   "source": [
    "n = len(L)\n",
    "n"
   ]
  },
  {
   "cell_type": "code",
   "execution_count": 74,
   "metadata": {},
   "outputs": [],
   "source": [
    "import numpy as np"
   ]
  },
  {
   "cell_type": "code",
   "execution_count": 75,
   "metadata": {},
   "outputs": [
    {
     "data": {
      "text/plain": [
       "array([0., 0., 0., 0., 0., 0., 0., 0., 0., 0., 0., 0., 0., 0., 0., 0., 0.,\n",
       "       0.])"
      ]
     },
     "execution_count": 75,
     "metadata": {},
     "output_type": "execute_result"
    }
   ],
   "source": [
    "D = np.zeros(n)\n",
    "D"
   ]
  },
  {
   "cell_type": "markdown",
   "metadata": {},
   "source": [
    "Each sublist L[i] , i =1:n, contains 4 elements. We convert each L[i], added to 1, to decimal form: "
   ]
  },
  {
   "cell_type": "code",
   "execution_count": 76,
   "metadata": {},
   "outputs": [],
   "source": [
    "for i in range(0,n):\n",
    "    D[i]= 1+L[i][0]*2**(-1)+L[i][1]*2**(-2)+L[i][2]*2**(-3)+L[i][3]*2**(-4)"
   ]
  },
  {
   "cell_type": "markdown",
   "metadata": {},
   "source": [
    "The 18 numbers are given by:"
   ]
  },
  {
   "cell_type": "code",
   "execution_count": 77,
   "metadata": {},
   "outputs": [
    {
     "data": {
      "text/plain": [
       "array([1.0625, 1.125 , 1.25  , 1.5   , 1.1875, 1.3125, 1.375 , 1.5625,\n",
       "       1.625 , 1.75  , 1.1875, 1.3125, 1.375 , 1.5625, 1.625 , 1.75  ,\n",
       "       1.9375, 1.    ])"
      ]
     },
     "execution_count": 77,
     "metadata": {},
     "output_type": "execute_result"
    }
   ],
   "source": [
    "D"
   ]
  },
  {
   "cell_type": "markdown",
   "metadata": {},
   "source": [
    "Let us now consider the exponential part $2^p$. As the system is not normalized, the exponent has a maximum magnitude $(111)_2=3$, so that $-3\\leq p \\leq 3$. Again, we form sublists:"
   ]
  },
  {
   "cell_type": "code",
   "execution_count": 78,
   "metadata": {},
   "outputs": [],
   "source": [
    "N1 = D*2**(-3)\n",
    "N2 = D*2**(-2)\n",
    "N3 = D*2**(-1)\n",
    "N4 = D*2**(0)\n",
    "N5 = D*2**(1)\n",
    "N6 = D*2**(2)\n",
    "N7 = D*2**(3)"
   ]
  },
  {
   "cell_type": "markdown",
   "metadata": {},
   "source": [
    "We now concatenate the lists:"
   ]
  },
  {
   "cell_type": "code",
   "execution_count": 79,
   "metadata": {},
   "outputs": [
    {
     "data": {
      "text/plain": [
       "array([ 0.1328125,  0.140625 ,  0.15625  ,  0.1875   ,  0.1484375,\n",
       "        0.1640625,  0.171875 ,  0.1953125,  0.203125 ,  0.21875  ,\n",
       "        0.1484375,  0.1640625,  0.171875 ,  0.1953125,  0.203125 ,\n",
       "        0.21875  ,  0.2421875,  0.125    ,  0.265625 ,  0.28125  ,\n",
       "        0.3125   ,  0.375    ,  0.296875 ,  0.328125 ,  0.34375  ,\n",
       "        0.390625 ,  0.40625  ,  0.4375   ,  0.296875 ,  0.328125 ,\n",
       "        0.34375  ,  0.390625 ,  0.40625  ,  0.4375   ,  0.484375 ,\n",
       "        0.25     ,  0.53125  ,  0.5625   ,  0.625    ,  0.75     ,\n",
       "        0.59375  ,  0.65625  ,  0.6875   ,  0.78125  ,  0.8125   ,\n",
       "        0.875    ,  0.59375  ,  0.65625  ,  0.6875   ,  0.78125  ,\n",
       "        0.8125   ,  0.875    ,  0.96875  ,  0.5      ,  1.0625   ,\n",
       "        1.125    ,  1.25     ,  1.5      ,  1.1875   ,  1.3125   ,\n",
       "        1.375    ,  1.5625   ,  1.625    ,  1.75     ,  1.1875   ,\n",
       "        1.3125   ,  1.375    ,  1.5625   ,  1.625    ,  1.75     ,\n",
       "        1.9375   ,  1.       ,  2.125    ,  2.25     ,  2.5      ,\n",
       "        3.       ,  2.375    ,  2.625    ,  2.75     ,  3.125    ,\n",
       "        3.25     ,  3.5      ,  2.375    ,  2.625    ,  2.75     ,\n",
       "        3.125    ,  3.25     ,  3.5      ,  3.875    ,  2.       ,\n",
       "        4.25     ,  4.5      ,  5.       ,  6.       ,  4.75     ,\n",
       "        5.25     ,  5.5      ,  6.25     ,  6.5      ,  7.       ,\n",
       "        4.75     ,  5.25     ,  5.5      ,  6.25     ,  6.5      ,\n",
       "        7.       ,  7.75     ,  4.       ,  8.5      ,  9.       ,\n",
       "       10.       , 12.       ,  9.5      , 10.5      , 11.       ,\n",
       "       12.5      , 13.       , 14.       ,  9.5      , 10.5      ,\n",
       "       11.       , 12.5      , 13.       , 14.       , 15.5      ,\n",
       "        8.       ])"
      ]
     },
     "execution_count": 79,
     "metadata": {},
     "output_type": "execute_result"
    }
   ],
   "source": [
    "NN = np.concatenate((N1,N2,N3,N4,N5,N6,N7))\n",
    "NN"
   ]
  },
  {
   "cell_type": "markdown",
   "metadata": {},
   "source": [
    "Let's sort the list in ascending order to visualize it in a graph: "
   ]
  },
  {
   "cell_type": "code",
   "execution_count": 80,
   "metadata": {},
   "outputs": [],
   "source": [
    "def selection_sort(x):\n",
    "    for i in range(len(x)):\n",
    "        swap = i + np.argmin(x[i:])\n",
    "        (x[i], x[swap]) = (x[swap], x[i])\n",
    "    return x"
   ]
  },
  {
   "cell_type": "markdown",
   "metadata": {},
   "source": [
    "Let's eliminate the repeated elements:"
   ]
  },
  {
   "cell_type": "code",
   "execution_count": 81,
   "metadata": {},
   "outputs": [
    {
     "data": {
      "text/plain": [
       "[0.125,\n",
       " 0.1328125,\n",
       " 0.140625,\n",
       " 0.1484375,\n",
       " 0.15625,\n",
       " 0.1640625,\n",
       " 0.171875,\n",
       " 0.1875,\n",
       " 0.1953125,\n",
       " 0.203125,\n",
       " 0.21875,\n",
       " 0.2421875,\n",
       " 0.25,\n",
       " 0.265625,\n",
       " 0.28125,\n",
       " 0.296875,\n",
       " 0.3125,\n",
       " 0.328125,\n",
       " 0.34375,\n",
       " 0.375,\n",
       " 0.390625,\n",
       " 0.40625,\n",
       " 0.4375,\n",
       " 0.484375,\n",
       " 0.5,\n",
       " 0.53125,\n",
       " 0.5625,\n",
       " 0.59375,\n",
       " 0.625,\n",
       " 0.65625,\n",
       " 0.6875,\n",
       " 0.75,\n",
       " 0.78125,\n",
       " 0.8125,\n",
       " 0.875,\n",
       " 0.96875,\n",
       " 1.0,\n",
       " 1.0625,\n",
       " 1.125,\n",
       " 1.1875,\n",
       " 1.25,\n",
       " 1.3125,\n",
       " 1.375,\n",
       " 1.5,\n",
       " 1.5625,\n",
       " 1.625,\n",
       " 1.75,\n",
       " 1.9375,\n",
       " 2.0,\n",
       " 2.125,\n",
       " 2.25,\n",
       " 2.375,\n",
       " 2.5,\n",
       " 2.625,\n",
       " 2.75,\n",
       " 3.0,\n",
       " 3.125,\n",
       " 3.25,\n",
       " 3.5,\n",
       " 3.875,\n",
       " 4.0,\n",
       " 4.25,\n",
       " 4.5,\n",
       " 4.75,\n",
       " 5.0,\n",
       " 5.25,\n",
       " 5.5,\n",
       " 6.0,\n",
       " 6.25,\n",
       " 6.5,\n",
       " 7.0,\n",
       " 7.75,\n",
       " 8.0,\n",
       " 8.5,\n",
       " 9.0,\n",
       " 9.5,\n",
       " 10.0,\n",
       " 10.5,\n",
       " 11.0,\n",
       " 12.0,\n",
       " 12.5,\n",
       " 13.0,\n",
       " 14.0,\n",
       " 15.5]"
      ]
     },
     "execution_count": 81,
     "metadata": {},
     "output_type": "execute_result"
    }
   ],
   "source": [
    "Ns = selection_sort(list(set(NN)))\n",
    "Ns"
   ]
  },
  {
   "cell_type": "code",
   "execution_count": 82,
   "metadata": {},
   "outputs": [],
   "source": [
    "t=np.linspace(0,len(Ns)-1,len(Ns))"
   ]
  },
  {
   "cell_type": "code",
   "execution_count": 83,
   "metadata": {},
   "outputs": [],
   "source": [
    "import matplotlib.pyplot as plt"
   ]
  },
  {
   "cell_type": "code",
   "execution_count": 110,
   "metadata": {},
   "outputs": [
    {
     "data": {
      "text/plain": [
       "Text(0, 0.5, 'N')"
      ]
     },
     "execution_count": 110,
     "metadata": {},
     "output_type": "execute_result"
    },
    {
     "data": {
      "image/png": "[encoded data removed]",
      "text/plain": [
       "<Figure size 640x480 with 1 Axes>"
      ]
     },
     "metadata": {},
     "output_type": "display_data"
    }
   ],
   "source": [
    "plt.plot(t,Ns,'r.')\n",
    "plt.grid(True)\n",
    "plt.title(\"Numbers in the non-normalized system $F(2,5,3)$\");\n",
    "plt.xlabel('n')\n",
    "plt.ylabel('N')"
   ]
  },
  {
   "cell_type": "markdown",
   "metadata": {},
   "source": [
    "Note that zero is not defined in the above set. Let's do some calculations involving representable numbers in this system. Let's take the sum of two decimal numbers with exact representation in the system: $2+2.75 = 4.75$. This is a number that belongs to the system. In fact, $4.75 = (100.11)_2= (1.0011)_2 2^{-2}$ On the other hand $2+2.125=4.125$ does not belong to the system. In practice such numbers could be approximated to the nearest system number. In this case the system number would be $4.25$. "
   ]
  },
  {
   "cell_type": "markdown",
   "metadata": {},
   "source": [
    "## 5. Machine epsilon\n",
    "\n",
    "The smallest number that added to 1 gives a result other than 1 is called machine epsilon, $\\epsilon_m$.\n",
    "Let's consider normalized floating-point system $F(2,7,7)$, bias $-63$. The smallest number in the system is given by\n",
    "\n",
    "$$\n",
    "(1,000 000 0)_2^{1-63} \\approx 10^{-19}\n",
    "$$\n",
    "On the other hand, the smallest number that added to 1 results in a number different from 1 is given by\n",
    "$$\n",
    "\\epsilon_m = (0.00000001)_2 = 1.0000000 \\times 2^{-8}= \\frac{1}{256}\n",
    "$$\n",
    "\n",
    "The lowest system number depends on how many bits can be stored in the exponent, whereas $\\epsilon_m$ depends on how many bits are in the mantissa.\n"
   ]
  },
  {
   "cell_type": "markdown",
   "metadata": {},
   "source": [
    "## 6. The IEEE 754 standard\n",
    "\n",
    "When in 1985 Intel decided to introduce a floating point coprocessor for its new 8086 microprocessor, named 8087 FPU, a new binary floating point system was introduced (Kahn, Coonan, Stone), being soon adopted as a standard by the IEEE (Institute for Electrical and Electronic Engineers). We will consider formats called simple, double (used in most computer systems). More details can be found in references [1-6].  "
   ]
  },
  {
   "cell_type": "markdown",
   "metadata": {},
   "source": [
    "### 6.1 Simple format\n",
    "\n",
    "The IEEE 754 simple format, called binary32 or single precision, called \"float\" in C, is defined such that each number is stored in a 32-bit word (4 bytes) in the following form:\n",
    "\n",
    "$$\n",
    "(-1)^s 2^{E-127}\\left(1+\\sum_{i=1}^{23}2^{-i}\\right),\n",
    "$$\n",
    "\n",
    "where the bit distribution is given by\n",
    "\n",
    "<img src=\"IEEE-32bit.png\" style=\"height:110px\">\n",
    "\n",
    "Let's examine the exponent. Normal numbers in plain format have the maximum exponential part $(1111 1110)_2=254$ and minimum exponential part $(0000 0001)_2=1$. Therefore, as the bias is $-127$, the exponent of the number is limited as follows:\n",
    "\n",
    "$$\n",
    "-126<E-127<127\\,.\n",
    "$$\n",
    "\n",
    "The number of significant digits of the fractional part of the mantissa, representable in decimal base is given by solving the equation $2^{23}=10^x$, which results in $x= \\log_{10}(2^{23}) = 23 \\log_{10}2\\approx 6.9$, ie approximately less than 8 significant digits. In practice, incorporating the integer part, we will have 8 digits presented to the user, but not all of them will be significant. In this case, it is safe to present only 6 significant decimal digits. The simple format is not available in Python, although it is in C, C++, Fortran and Matlab, for example.\n",
    "\n",
    "The largest normalized (positive) number of this representation is given by\n",
    "$[0] [1111\\, 1110] [1] . [1111\\, 1111 \\,1111 \\,1111 \\,1111\\, 111]$, that is,"
   ]
  },
  {
   "cell_type": "code",
   "execution_count": 85,
   "metadata": {},
   "outputs": [
    {
     "name": "stdout",
     "output_type": "stream",
     "text": [
      "3.4028232635611926e+38\n"
     ]
    }
   ],
   "source": [
    "s=0\n",
    "for i in range(1,23):\n",
    "    s += 2**(-i)\n",
    "n = (1+s)*2**(127)\n",
    "print(n)"
   ]
  },
  {
   "cell_type": "markdown",
   "metadata": {},
   "source": [
    "This means that the largest number in single precision is $3.402823 \\times 10^{38}$.\n",
    "\n",
    "The smallest positive normal number in single precision has the form $[0] [0000\\, 0001] [1] . [0000\\, 0000\\, 0000\\, 0000 \\,0000 \\,000]$, that is, "
   ]
  },
  {
   "cell_type": "code",
   "execution_count": 86,
   "metadata": {},
   "outputs": [
    {
     "data": {
      "text/plain": [
       "1.1754943508222875e-38"
      ]
     },
     "execution_count": 86,
     "metadata": {},
     "output_type": "execute_result"
    }
   ],
   "source": [
    "2**(-126)"
   ]
  },
  {
   "cell_type": "markdown",
   "metadata": {},
   "source": [
    "This means that the largest number in single precision is $1.175494 \\times 10^{-38}$."
   ]
  },
  {
   "cell_type": "markdown",
   "metadata": {},
   "source": [
    "Since $(128)_2 = (1000 000)_2$, the machine epsilon is $[0] [0100\\,0000] [1] . [0000\\, 0000\\, 0000\\, 0000 \\,0000 \\,001]$, that is,"
   ]
  },
  {
   "cell_type": "code",
   "execution_count": 87,
   "metadata": {},
   "outputs": [
    {
     "data": {
      "text/plain": [
       "1.1920928955078125e-07"
      ]
     },
     "execution_count": 87,
     "metadata": {},
     "output_type": "execute_result"
    }
   ],
   "source": [
    "epsilon = 2**(-23)\n",
    "epsilon"
   ]
  },
  {
   "cell_type": "markdown",
   "metadata": {},
   "source": [
    "Therefore, $\\epsilon_m = 1.192093 \\times 10^{-7}$."
   ]
  },
  {
   "cell_type": "markdown",
   "metadata": {},
   "source": [
    "Zero is not represented directly, due to the intrinsic bit that always has a value of 1. The special floating point values allowed in the IEEE 754, binary32 standard are summarized below:\n",
    "\n",
    "<img src=\"IEEE-32bit_especiais.png\" style=\"height:160px\">"
   ]
  },
  {
   "cell_type": "markdown",
   "metadata": {},
   "source": [
    "### 6.2 Double format"
   ]
  },
  {
   "cell_type": "markdown",
   "metadata": {},
   "source": [
    "Known in C as \"double\", this format is implemented in 64 bits (8 bytes) as follows:\n",
    "\n",
    "\n",
    "$$\n",
    "(-1)^s 2^{E-1023}\\left(1+\\sum_{i=1}^{52}2^{-i}\\right).\n",
    "$$"
   ]
  },
  {
   "cell_type": "markdown",
   "metadata": {},
   "source": [
    "Its distribution is as follows:"
   ]
  },
  {
   "cell_type": "markdown",
   "metadata": {},
   "source": [
    "<img src=\"IEEE-64bit.png\" style=\"height:105px\">"
   ]
  },
  {
   "cell_type": "markdown",
   "metadata": {},
   "source": [
    "Let's examine the exponent. Normal numbers in plain format have the maximum exponential part $(1111 1111 110)_2=2046$ and minimum exponential part $(0000 0000 001)_2=1$. Therefore, as the bias is $-1023$, the exponent of the number is limited as follows:\n",
    "\n",
    "$$\n",
    "-1022<E-1023<1023\\,.\n",
    "$$\n",
    "\n",
    "The number of significant digits of the fractional part of the mantissa, representable in decimal base is given by solving the equation $2^{52}=10^x$, which results in $x= \\log_{10}(2^{52}) = 23 \\log_{10}2\\approx 15.6$, ie approximately less than 15 significant digits. In practice, incorporating the integer part, we will have 16 digits presented to the user, but not all of them will always be significant. In this case, there is complete assurance of accuracy with 15 significant decimal digits. The dual format is the one used in all numerical computing systems.\n",
    "\n",
    "The largest normalized (positive) number of this representation is given by\n",
    "$[0] [1111\\,1111\\, 110] [1] . [1111 \\cdots 1111\\, 111]$, that is,"
   ]
  },
  {
   "cell_type": "code",
   "execution_count": 88,
   "metadata": {},
   "outputs": [
    {
     "name": "stdout",
     "output_type": "stream",
     "text": [
      "1.7976931348623155e+308\n"
     ]
    }
   ],
   "source": [
    "s=0\n",
    "for i in range(1,52):\n",
    "    s += 2**(-i)\n",
    "n = (1+s)*2**(1023)\n",
    "print(n)"
   ]
  },
  {
   "cell_type": "code",
   "execution_count": 89,
   "metadata": {},
   "outputs": [],
   "source": [
    "import numpy as np"
   ]
  },
  {
   "cell_type": "code",
   "execution_count": 90,
   "metadata": {},
   "outputs": [
    {
     "data": {
      "text/plain": [
       "0.9092974268256817"
      ]
     },
     "execution_count": 90,
     "metadata": {},
     "output_type": "execute_result"
    }
   ],
   "source": [
    "np.sin(2.)"
   ]
  },
  {
   "cell_type": "markdown",
   "metadata": {},
   "source": [
    "This means that the largest number in double precision is $1.7976931348623155 \\times 10^{-302}$. We can prove that Python uses double precision. For example, the following number is acceptable by the system: "
   ]
  },
  {
   "cell_type": "code",
   "execution_count": 91,
   "metadata": {},
   "outputs": [
    {
     "data": {
      "text/plain": [
       "1.7976931e+308"
      ]
     },
     "execution_count": 91,
     "metadata": {},
     "output_type": "execute_result"
    }
   ],
   "source": [
    "1.7976931e+308"
   ]
  },
  {
   "cell_type": "markdown",
   "metadata": {},
   "source": [
    "Now let's see if a number just a little bigger than this already causes overflow: "
   ]
  },
  {
   "cell_type": "code",
   "execution_count": 92,
   "metadata": {},
   "outputs": [
    {
     "data": {
      "text/plain": [
       "inf"
      ]
     },
     "execution_count": 92,
     "metadata": {},
     "output_type": "execute_result"
    }
   ],
   "source": [
    "1.7976932e+308"
   ]
  },
  {
   "cell_type": "markdown",
   "metadata": {},
   "source": [
    "The smallest positive normal number in single precision has the form $[0] [0000\\, 0001] [1] . [0000\\, \\cdots 0000 \\,0000 \\,000]$, that is,"
   ]
  },
  {
   "cell_type": "code",
   "execution_count": 93,
   "metadata": {},
   "outputs": [
    {
     "data": {
      "text/plain": [
       "2.2250738585072014e-308"
      ]
     },
     "execution_count": 93,
     "metadata": {},
     "output_type": "execute_result"
    }
   ],
   "source": [
    "2**(-1022)"
   ]
  },
  {
   "cell_type": "markdown",
   "metadata": {},
   "source": [
    "In practice, the IEEE 754 standard admits non-normalized numbers (called subnormals, which we will not discuss here) smaller than this. The smallest admissible subnormal number in this pattern is $5 \\times 10^{-324}$. In fact, "
   ]
  },
  {
   "cell_type": "code",
   "execution_count": 94,
   "metadata": {},
   "outputs": [
    {
     "data": {
      "text/plain": [
       "5e-324"
      ]
     },
     "execution_count": 94,
     "metadata": {},
     "output_type": "execute_result"
    }
   ],
   "source": [
    "2.5e-324"
   ]
  },
  {
   "cell_type": "code",
   "execution_count": 95,
   "metadata": {},
   "outputs": [
    {
     "data": {
      "text/plain": [
       "0.0"
      ]
     },
     "execution_count": 95,
     "metadata": {},
     "output_type": "execute_result"
    }
   ],
   "source": [
    "2.e-324"
   ]
  },
  {
   "cell_type": "markdown",
   "metadata": {},
   "source": [
    "The machine epsilon here is given approximately by:"
   ]
  },
  {
   "cell_type": "code",
   "execution_count": 96,
   "metadata": {},
   "outputs": [
    {
     "data": {
      "text/plain": [
       "2.220446049250313e-16"
      ]
     },
     "execution_count": 96,
     "metadata": {},
     "output_type": "execute_result"
    }
   ],
   "source": [
    "epsilon = 2**(-52)\n",
    "epsilon"
   ]
  },
  {
   "cell_type": "markdown",
   "metadata": {},
   "source": [
    "This number, in decimal format, is unreliable in a sum like this, as"
   ]
  },
  {
   "cell_type": "code",
   "execution_count": 97,
   "metadata": {},
   "outputs": [
    {
     "data": {
      "text/plain": [
       "1.0000000000000002"
      ]
     },
     "execution_count": 97,
     "metadata": {},
     "output_type": "execute_result"
    }
   ],
   "source": [
    "2.220446049250313e-16+1"
   ]
  },
  {
   "cell_type": "markdown",
   "metadata": {},
   "source": [
    "On the other hand,"
   ]
  },
  {
   "cell_type": "code",
   "execution_count": 98,
   "metadata": {},
   "outputs": [
    {
     "data": {
      "text/plain": [
       "1.0000000000000004"
      ]
     },
     "execution_count": 98,
     "metadata": {},
     "output_type": "execute_result"
    }
   ],
   "source": [
    "5e-16+1"
   ]
  },
  {
   "cell_type": "markdown",
   "metadata": {},
   "source": [
    "## 8. Decimal arithmetic in Python"
   ]
  },
  {
   "cell_type": "markdown",
   "metadata": {},
   "source": [
    "It is possible to perform some calculations using a floating point system in Python with arbitrary precision using the decimal library. "
   ]
  },
  {
   "cell_type": "code",
   "execution_count": 119,
   "metadata": {},
   "outputs": [],
   "source": [
    "from decimal import *\n",
    "from math import *"
   ]
  },
  {
   "cell_type": "markdown",
   "metadata": {},
   "source": [
    "If we want precision to 100 decimal digits, we declare:"
   ]
  },
  {
   "cell_type": "code",
   "execution_count": 120,
   "metadata": {},
   "outputs": [],
   "source": [
    " getcontext().prec = 100"
   ]
  },
  {
   "cell_type": "markdown",
   "metadata": {},
   "source": [
    "Let us examine an example: "
   ]
  },
  {
   "cell_type": "code",
   "execution_count": 121,
   "metadata": {},
   "outputs": [
    {
     "data": {
      "text/plain": [
       "Decimal('1.285714285714285714285714285714285714285714285714285714285714285714285714285714285714285714285714286')"
      ]
     },
     "execution_count": 121,
     "metadata": {},
     "output_type": "execute_result"
    }
   ],
   "source": [
    "Decimal(9) / Decimal(7)"
   ]
  },
  {
   "cell_type": "markdown",
   "metadata": {},
   "source": [
    "Note that here the precision 56 is used, independently of the precision setting, if we use a fraction in the argument of Decimal:"
   ]
  },
  {
   "cell_type": "code",
   "execution_count": 122,
   "metadata": {},
   "outputs": [
    {
     "data": {
      "text/plain": [
       "Decimal('1.2857142857142858094476878250134177505970001220703125')"
      ]
     },
     "execution_count": 122,
     "metadata": {},
     "output_type": "execute_result"
    }
   ],
   "source": [
    "n = Decimal(9/7)\n",
    "n"
   ]
  },
  {
   "cell_type": "markdown",
   "metadata": {},
   "source": [
    "Note that we do not have a consistent precision if performing arithmetic operations under the Decimal library"
   ]
  },
  {
   "cell_type": "code",
   "execution_count": 123,
   "metadata": {},
   "outputs": [],
   "source": [
    "getcontext().prec = 100"
   ]
  },
  {
   "cell_type": "code",
   "execution_count": 124,
   "metadata": {},
   "outputs": [
    {
     "data": {
      "text/plain": [
       "Decimal('0.76190476190476186246769429999403655529022216796875')"
      ]
     },
     "execution_count": 124,
     "metadata": {},
     "output_type": "execute_result"
    }
   ],
   "source": [
    "Decimal(1/3+3/7)"
   ]
  },
  {
   "cell_type": "code",
   "execution_count": 125,
   "metadata": {},
   "outputs": [
    {
     "data": {
      "text/plain": [
       "Decimal('0.761904761904761862467694299994036555290222167968750000')"
      ]
     },
     "execution_count": 125,
     "metadata": {},
     "output_type": "execute_result"
    }
   ],
   "source": [
    "Decimal(1/3)+Decimal(3/7)"
   ]
  },
  {
   "cell_type": "code",
   "execution_count": 126,
   "metadata": {},
   "outputs": [
    {
     "data": {
      "text/plain": [
       "Decimal('0.7619047619047619047619047619047619047619047619047619047619047619047619047619047619047619047619047619')"
      ]
     },
     "execution_count": 126,
     "metadata": {},
     "output_type": "execute_result"
    }
   ],
   "source": [
    "Decimal(1)/Decimal(3)+Decimal(3)/Decimal(7)"
   ]
  },
  {
   "cell_type": "markdown",
   "metadata": {},
   "source": [
    "Here is another example:"
   ]
  },
  {
   "cell_type": "code",
   "execution_count": 127,
   "metadata": {},
   "outputs": [
    {
     "data": {
      "text/plain": [
       "Decimal('-0.7171686950001527974129583720198569086730215900858908592756372615232973453720248625641437016940180095')"
      ]
     },
     "execution_count": 127,
     "metadata": {},
     "output_type": "execute_result"
    }
   ],
   "source": [
    "a = Decimal(sin(pi**2))/Decimal(3/5)\n",
    "a"
   ]
  },
  {
   "cell_type": "markdown",
   "metadata": {},
   "source": [
    "We can convert the decimal number to double precision floating point: "
   ]
  },
  {
   "cell_type": "code",
   "execution_count": 128,
   "metadata": {},
   "outputs": [
    {
     "data": {
      "text/plain": [
       "-0.7171686950001528"
      ]
     },
     "execution_count": 128,
     "metadata": {},
     "output_type": "execute_result"
    }
   ],
   "source": [
    "float(a)"
   ]
  },
  {
   "cell_type": "markdown",
   "metadata": {},
   "source": [
    "In fact,"
   ]
  },
  {
   "cell_type": "code",
   "execution_count": 129,
   "metadata": {},
   "outputs": [
    {
     "data": {
      "text/plain": [
       "-0.7171686950001528"
      ]
     },
     "execution_count": 129,
     "metadata": {},
     "output_type": "execute_result"
    }
   ],
   "source": [
    "sin(pi**2)/(3./5.)"
   ]
  },
  {
   "cell_type": "markdown",
   "metadata": {},
   "source": [
    "Let us examine another example:"
   ]
  },
  {
   "cell_type": "code",
   "execution_count": 130,
   "metadata": {},
   "outputs": [],
   "source": [
    " getcontext().prec = 50"
   ]
  },
  {
   "cell_type": "code",
   "execution_count": 134,
   "metadata": {},
   "outputs": [],
   "source": [
    "a = Decimal(sin(pi**2)/3)"
   ]
  },
  {
   "cell_type": "code",
   "execution_count": 135,
   "metadata": {},
   "outputs": [],
   "source": [
    "b = Decimal(6/7)"
   ]
  },
  {
   "cell_type": "code",
   "execution_count": 138,
   "metadata": {},
   "outputs": [
    {
     "data": {
      "text/plain": [
       "Decimal('-0.17152741648163787482731421176541195822159611236397')"
      ]
     },
     "execution_count": 138,
     "metadata": {},
     "output_type": "execute_result"
    }
   ],
   "source": [
    "x = (a*b-b**2)/5\n",
    "x"
   ]
  },
  {
   "cell_type": "code",
   "execution_count": 139,
   "metadata": {},
   "outputs": [
    {
     "name": "stdout",
     "output_type": "stream",
     "text": [
      "(a*b-b**2)/5 =   -0.17152741648163787482731421176541195822159611236397\n"
     ]
    }
   ],
   "source": [
    "print (\"(a*b-b**2)/5 =  \", x)"
   ]
  },
  {
   "cell_type": "markdown",
   "metadata": {},
   "source": [
    "## 7. Exercises\n",
    "\n",
    "1. Let the denormalized floating-point system be $F(2, 3,5)$. Determine the largest and smallest number representable in this system in binary form and in decimal form. Determine the machine epsilon.\n",
    "\n",
    "2. Solve the previous problem assuming that the system is normalized.\n",
    "\n",
    "3. Convert the number $-212,125$ to single-precision (32-bit) IEEE 754 floating point format.\n",
    "\n",
    "4. Convert the number $2.221225\\times 10^4$ to single precision IEEE 754 floating point format.\n",
    "\n",
    "5. Convert the number $-4.2345245 \\times 10^6$ to double precision IEEE 754 floating point format.\n",
    "\n",
    "6. Convert the number $-4.2345245 \\times 10^6$ to extended precision IEEE 754 floating point format.\n",
    "\n",
    "7. Solve the equation $3x^2+x/2+4=0$ with precision of 60 digits. \n",
    "\n",
    "                            \n",
    "Note: Use the calculator at http://weitz.de/ieee/ [7] to check your results in questions 3 to 5 (which must be solved step by step)."
   ]
  },
  {
   "cell_type": "markdown",
   "metadata": {},
   "source": [
    "## References\n",
    "\n",
    "1.  IEEE Computer Society (1985) IEEE Standard for Binary Floating-Point Aritmetic, IEEE Std 754-1985.\n",
    "2.  Comparing floating point numbers, Bruce Dawson. http://www.cygnus-software.com/papers\n",
    "3. W. Kahan, Lecture Notes on the Status of. IEEE Standard 754 for Binary Floating-Point Arithmetic, www.cs.berkeley.edu/~wkahan/ieee754status/ieee754.ps\n",
    "4. Prof. W. Kahan's web pages, www.cs.berkeley.edu/~wkahan/\n",
    "5. An Interview with the Old Man of Floating-Point, http://www.cs.berkeley.edu/~wkahan/ieee754status/754story.html\n",
    "6. W. Kahan, IEEE Standard 754 for Binary Floating-Point Arithmetic, www.cs.berkeley.edu/~wkahan/ieee754status/ieee754.ps\n",
    "7. Calculator IEEE 754: http://weitz.de/ieee/\n"
   ]
  }
 ],
 "metadata": {
  "kernelspec": {
   "display_name": "Python 3",
   "language": "python",
   "name": "python3"
  },
  "language_info": {
   "codemirror_mode": {
    "name": "ipython",
    "version": 3
   },
   "file_extension": ".py",
   "mimetype": "text/x-python",
   "name": "python",
   "nbconvert_exporter": "python",
   "pygments_lexer": "ipython3",
   "version": "3.8.5"
  }
 },
 "nbformat": 4,
 "nbformat_minor": 4
}
