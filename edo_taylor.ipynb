{
 "cells": [
  {
   "cell_type": "markdown",
   "metadata": {},
   "source": [
    "<center><h1>Análise Numérica</h1></center>\n",
    "<center><h2>2022/1</h2></center> \n",
    "<center><h3>Método da Série de Taylor</h3></center>\n",
    "<center><h4>Prof. Fernando Deeke Sasse - CCT, UDESC</h4></center>"
   ]
  },
  {
   "cell_type": "markdown",
   "metadata": {},
   "source": [
    "### 1. Introdução"
   ]
  },
  {
   "cell_type": "markdown",
   "metadata": {},
   "source": [
    "O método da série de Taylor é uma generalização imediata do método de Euler simples para ordens superiores. Dado um PVI do tipo\n",
    "\n",
    "$$\n",
    "y'= f(t,y(t))\\,\\qquad y(t_0)=y_0\\,,\n",
    "$$\n",
    "\n",
    "buscamos uma aproximação do tipo: \n",
    "\n",
    "\n",
    "$$\n",
    "y(t+h)\\approx y(t)+h \\frac{dy(t)}{dt}+\\frac{h^2}{2}\\frac{d^2y(t)}{dt^2}+ \\cdots +\\frac{h^k}{k!} \\frac{d^ky(t)}{dt^k}\\,.\n",
    "$$"
   ]
  },
  {
   "cell_type": "markdown",
   "metadata": {},
   "source": [
    "### 2. Método de segunda ordem"
   ]
  },
  {
   "cell_type": "markdown",
   "metadata": {},
   "source": [
    "O método da série de Taylor de segunda ordem consiste em manter os termos até a segunda derivada de $y(t)$. O erro local será de ordem $O(h^3)$ e o global $O(h^2)$. Portanto, definimos o processo iterativo:\n",
    "\n",
    "\\begin{align}\n",
    "y(t+h):= &\\,u(t)+hf(t,y(t))+\\frac{h^2}{2}\\frac{df(t,y(t))}{dt}\\\\\n",
    " :=&\\,u(t)+hf(t,y(t))+\\frac{h^2}{2}\\left[\\frac{\\partial f(t,y(t))}{\\partial t}+\\frac{\\partial f(t,y(t))}{\\partial y}f(t,y(t))\\right]\n",
    "\\end{align}\n"
   ]
  },
  {
   "cell_type": "markdown",
   "metadata": {},
   "source": [
    "### Exemplo 2.1\n",
    "Verifiquemos o desempenho do método da série de Taylor resolvendo um caso para o qual conhecemos a solução exata. Consideremos o problema de valor inicial\n",
    "\n",
    "$$\n",
    "y' +y-ty^3=0\\,,\\qquad y(0)=1\\,\n",
    "$$\n",
    "\n",
    "e determinemos a solução no intervalo $[0.2]$ com subintervalos $h=0.005$. \n",
    "Esta é uma equação de Bernoulli, e a solução para o PVI é dada por \n",
    "\n",
    "$$\n",
    "y = \\frac{2}{\\sqrt{2+4t+2 \\mbox{e}^{2t}}}\n",
    "$$\n",
    "\n",
    "Aqui \n",
    "\n",
    "$$\n",
    "y' = f(t,y(t)) = -y+ty^3,\n",
    "$$\n",
    "\n",
    "e\n",
    "\n",
    "\\begin{align}\n",
    "\\frac{df}{dt} &= -\\frac{dy}{dt}+y^3+t3y^2\\frac{dy}{dt}\\\\\n",
    "&= y-4ty^3+y^3+3t^2y^5\\,.\n",
    "\\end{align}\n",
    "\n",
    "O processo iterativo é então dado por \n",
    "\n",
    "$$\n",
    "y(t+h) = y(t) + h\\left[-y(t)+ty(t)^3\\right]+\\frac{h^2}{2}\\left[y(t)-4ty(t)^3+y(t)^3+3t^2y(t)^5\\right]\\,.\n",
    "$$"
   ]
  },
  {
   "cell_type": "code",
   "execution_count": 1,
   "metadata": {},
   "outputs": [],
   "source": [
    "import matplotlib.pyplot as plt\n",
    "import numpy as np"
   ]
  },
  {
   "cell_type": "markdown",
   "metadata": {},
   "source": [
    "Definimos $f(t,y(t)$ e sua derivada total $df/dt$:"
   ]
  },
  {
   "cell_type": "code",
   "execution_count": 2,
   "metadata": {},
   "outputs": [],
   "source": [
    "f = lambda x,y: -y+x*y**3"
   ]
  },
  {
   "cell_type": "code",
   "execution_count": 3,
   "metadata": {},
   "outputs": [],
   "source": [
    "df = lambda x,y: y+y**3-4*x*y**3+3*x**2*y**5"
   ]
  },
  {
   "cell_type": "markdown",
   "metadata": {},
   "source": [
    "A função que realiza o processo iterativo é uma simples generalização da função já construída para o método de Euler simples:"
   ]
  },
  {
   "cell_type": "code",
   "execution_count": 4,
   "metadata": {},
   "outputs": [],
   "source": [
    "def odeTaylor2(f,df,t,y0):\n",
    "    y = np.zeros(len(t))\n",
    "    y[0] = y0\n",
    "    h = t[1] - t[0]\n",
    "    for n in range(0,len(t)-1):\n",
    "        y[n+1] = y[n] + h*f(t[n],y[n])+h**2/2*df(t[n],y[n])\n",
    "    return y"
   ]
  },
  {
   "cell_type": "markdown",
   "metadata": {},
   "source": [
    "Definimos o valor inicial e a malha: "
   ]
  },
  {
   "cell_type": "code",
   "execution_count": 5,
   "metadata": {},
   "outputs": [],
   "source": [
    "y0 = 1"
   ]
  },
  {
   "cell_type": "code",
   "execution_count": 6,
   "metadata": {},
   "outputs": [],
   "source": [
    "t = np.linspace(0,2,41)"
   ]
  },
  {
   "cell_type": "markdown",
   "metadata": {},
   "source": [
    "Notemos que $h=0.05$:"
   ]
  },
  {
   "cell_type": "code",
   "execution_count": 7,
   "metadata": {},
   "outputs": [
    {
     "data": {
      "text/plain": [
       "0.05"
      ]
     },
     "execution_count": 7,
     "metadata": {},
     "output_type": "execute_result"
    }
   ],
   "source": [
    "t[1]-t[0]"
   ]
  },
  {
   "cell_type": "markdown",
   "metadata": {},
   "source": [
    "Podemos agora calcular os valores de $y(t)$ nesta malha:"
   ]
  },
  {
   "cell_type": "code",
   "execution_count": 8,
   "metadata": {},
   "outputs": [],
   "source": [
    "Y = odeTaylor2(f,df,t,y0)"
   ]
  },
  {
   "cell_type": "markdown",
   "metadata": {},
   "source": [
    "Façamos um gráfico do resultado: "
   ]
  },
  {
   "cell_type": "code",
   "execution_count": 9,
   "metadata": {},
   "outputs": [
    {
     "data": {
      "text/plain": [
       "Text(0, 0.5, 'y')"
      ]
     },
     "execution_count": 9,
     "metadata": {},
     "output_type": "execute_result"
    },
    {
     "data": {
      "image/png": "[encoded data removed]",
      "text/plain": [
       "<Figure size 432x288 with 1 Axes>"
      ]
     },
     "metadata": {
      "needs_background": "light"
     },
     "output_type": "display_data"
    }
   ],
   "source": [
    "plt.plot(t,Y,'r.-')\n",
    "plt.axis([0,2.1,0.,1.1])\n",
    "plt.grid(True)\n",
    "plt.title(\"Solução de $y'=-y+ty^3,\\, y(0)=1$\");\n",
    "plt.xlabel('t')\n",
    "plt.ylabel('y')"
   ]
  },
  {
   "cell_type": "markdown",
   "metadata": {},
   "source": [
    "Para avaliar a acurácia do método podemos comparar o resultado numérico com o analítico:"
   ]
  },
  {
   "cell_type": "code",
   "execution_count": 10,
   "metadata": {},
   "outputs": [],
   "source": [
    "yexata = lambda t: 2/(2+4*t+2*np.exp(2*t))**(1/2)"
   ]
  },
  {
   "cell_type": "code",
   "execution_count": 11,
   "metadata": {},
   "outputs": [
    {
     "data": {
      "text/plain": [
       "<matplotlib.legend.Legend at 0x20d4998aee0>"
      ]
     },
     "execution_count": 11,
     "metadata": {},
     "output_type": "execute_result"
    },
    {
     "data": {
      "image/png": "[encoded data removed]",
      "text/plain": [
       "<Figure size 432x288 with 1 Axes>"
      ]
     },
     "metadata": {
      "needs_background": "light"
     },
     "output_type": "display_data"
    }
   ],
   "source": [
    "plt.plot(t,yexata(t),'b-')\n",
    "plt.plot(t,Y,'r.-')\n",
    "plt.axis([0,2.1,0.,1.1])\n",
    "plt.grid(True)\n",
    "plt.title(\"Solução de $y'=-y+ty^3,\\, y(0)=1$\");\n",
    "plt.xlabel('t')\n",
    "plt.ylabel('y')\n",
    "plt.legend([\"Solução exata\", \"solução numérica\"])"
   ]
  },
  {
   "cell_type": "markdown",
   "metadata": {},
   "source": [
    "Visualmente não há diferença. Para quantificar o erro na aproximação numérica podemos fazer um gráfico do erro em cada ponto: "
   ]
  },
  {
   "cell_type": "code",
   "execution_count": 12,
   "metadata": {},
   "outputs": [
    {
     "data": {
      "text/plain": [
       "Text(0, 0.5, 'erro')"
      ]
     },
     "execution_count": 12,
     "metadata": {},
     "output_type": "execute_result"
    },
    {
     "data": {
      "image/png": "[encoded data removed]",
      "text/plain": [
       "<Figure size 432x288 with 1 Axes>"
      ]
     },
     "metadata": {
      "needs_background": "light"
     },
     "output_type": "display_data"
    }
   ],
   "source": [
    "plt.plot(t,abs(yexata(t)-Y),'b-')\n",
    "plt.grid(True)\n",
    "plt.title(\"Erro no método da série de Taylor de segunda ordem\");\n",
    "plt.xlabel('t')\n",
    "plt.ylabel('erro')"
   ]
  },
  {
   "cell_type": "markdown",
   "metadata": {},
   "source": [
    "Temos um erro da ordem de $5 \\times 10^{-6}$."
   ]
  },
  {
   "cell_type": "markdown",
   "metadata": {},
   "source": [
    "### 3. Método de terceira ordem"
   ]
  },
  {
   "cell_type": "markdown",
   "metadata": {},
   "source": [
    "O procedimento anterior pode ser facilmente generalizado para terceira ordem. "
   ]
  },
  {
   "cell_type": "markdown",
   "metadata": {},
   "source": [
    "### Exemplo 3.1\n",
    "Consideremos novamente o PVI do Exemplo 2.1. A segunda derivada de $f(t,y(t))$ foi calculada com Maple. "
   ]
  },
  {
   "cell_type": "code",
   "execution_count": 87,
   "metadata": {},
   "outputs": [],
   "source": [
    "f = lambda x,y: -y+x*y**3"
   ]
  },
  {
   "cell_type": "code",
   "execution_count": 88,
   "metadata": {},
   "outputs": [],
   "source": [
    "df1 = lambda x,y: y+y**3-4*x*y**3+3*x**2*y**5"
   ]
  },
  {
   "cell_type": "code",
   "execution_count": 89,
   "metadata": {},
   "outputs": [],
   "source": [
    "df2 = lambda t,Y: -Y+t*Y**3-Y**3-3*t*Y**2*(t*Y**3-Y)+6*Y**2*(t*Y**3-Y)+6*t*Y*(t*Y**3-Y)**2+3*t*Y**2*(Y-t*Y**3+Y**3+3*t*Y**2*(t*Y**3-Y))"
   ]
  },
  {
   "cell_type": "markdown",
   "metadata": {},
   "source": [
    "A única modificação na função definida anteriormente é a adição do termo de segunda ordem:"
   ]
  },
  {
   "cell_type": "code",
   "execution_count": 90,
   "metadata": {},
   "outputs": [],
   "source": [
    "def odeTaylor3(f,df,t,y0):\n",
    "    y = np.zeros(len(t))\n",
    "    y[0] = y0\n",
    "    for n in range(0,len(t)-1):\n",
    "        h = t[n+1] - t[n]\n",
    "        y[n+1] = y[n] + h*f(t[n],y[n])+h**2/2*df1(t[n],y[n])+(h**3/6)*df2(t[n],y[n])\n",
    "    return y"
   ]
  },
  {
   "cell_type": "code",
   "execution_count": 91,
   "metadata": {},
   "outputs": [],
   "source": [
    "Y3 = odeTaylor3(f,df,t,y0)"
   ]
  },
  {
   "cell_type": "code",
   "execution_count": 97,
   "metadata": {},
   "outputs": [
    {
     "data": {
      "text/plain": [
       "<matplotlib.legend.Legend at 0x7fe1bbb4eba8>"
      ]
     },
     "execution_count": 97,
     "metadata": {},
     "output_type": "execute_result"
    },
    {
     "data": {
      "image/png": "[encoded data removed]",
      "text/plain": [
       "<Figure size 432x288 with 1 Axes>"
      ]
     },
     "metadata": {
      "needs_background": "light"
     },
     "output_type": "display_data"
    }
   ],
   "source": [
    "plt.plot(t,yexata(t),'b-')\n",
    "plt.plot(t,Y3,'r.-')\n",
    "plt.axis([0,2.1,0.,1.1])\n",
    "plt.grid(True)\n",
    "plt.title(\"Segunda ordem\");\n",
    "plt.xlabel('t')\n",
    "plt.ylabel('y')\n",
    "plt.legend([\"Solução exata\", \"solução numérica\"])"
   ]
  },
  {
   "cell_type": "markdown",
   "metadata": {},
   "source": [
    "Façamos o gráfico do erro:"
   ]
  },
  {
   "cell_type": "code",
   "execution_count": 94,
   "metadata": {},
   "outputs": [
    {
     "data": {
      "text/plain": [
       "Text(0, 0.5, 'erro')"
      ]
     },
     "execution_count": 94,
     "metadata": {},
     "output_type": "execute_result"
    },
    {
     "data": {
      "image/png": "[encoded data removed]",
      "text/plain": [
       "<Figure size 432x288 with 1 Axes>"
      ]
     },
     "metadata": {
      "needs_background": "light"
     },
     "output_type": "display_data"
    }
   ],
   "source": [
    "plt.plot(t,abs(yexata(t)-Y3),'b-')\n",
    "plt.grid(True)\n",
    "plt.title(\"Terceira ordem\");\n",
    "plt.xlabel('t')\n",
    "plt.ylabel('erro')"
   ]
  },
  {
   "cell_type": "markdown",
   "metadata": {},
   "source": [
    "Temos agora um erro da ordem de $3\\times 10^{-8}$."
   ]
  },
  {
   "cell_type": "markdown",
   "metadata": {},
   "source": [
    "### Código em Maple para o cálculo de derivadas"
   ]
  },
  {
   "cell_type": "markdown",
   "metadata": {},
   "source": [
    "Estes são os comandos para gerar derivadas de ordens superiores de $f(t,y(t))$: \n",
    "\n",
    "<code>\n",
    "f:=-y(t)+t*y(t)^3;\n",
    "F:=subs(y(t)=Y,f);\n",
    "Calculemos  a primeira derivada \n",
    "dy2:=diff(f,t);\n",
    "dy2:=subs(diff(y(t),t)=f,dy2);\n",
    "Dy2:=subs(y(t)=Y,dy2);\n",
    "DY2:=unapply(Dy2,t,Y);\n",
    "Para o cálculo da terceira derivada o processo é repetido: \n",
    "dy3:=diff(dy2,t);\n",
    "dy3:=subs(diff(y(t),t)=f,dy3);\n",
    "Dy3:=subs(y(t)=Y,dy3);\n",
    "DY3:=unapply(Dy3,t,Y);\n",
    "</code>"
   ]
  },
  {
   "cell_type": "markdown",
   "metadata": {},
   "source": [
    "## 4. Exercícios"
   ]
  },
  {
   "cell_type": "markdown",
   "metadata": {},
   "source": [
    "1. Resolva os problemas de valor inicial abaixo usando o método da série de Taylor de segunda ordem, no intervalo indicado. Apresente cada solução graficamente.\n",
    "\n",
    "\\begin{align}\n",
    "(i) & \\qquad y'+ y \\sin y -ty=3\\,,\\qquad y(0)=1,\\,\\,t\\in [0,2].\\\\\n",
    "(ii) & \\qquad y''+t y'+4y = \\sin(4t),\\qquad y(0)=1\\,, y'(0) = -1,\\,t\\in [0,4].\\\\\n",
    "\\end{align}\n",
    "\n",
    "2. Resolva o problema 1 usando o método da série de Taylor de terceira ordem. "
   ]
  }
 ],
 "metadata": {
  "kernelspec": {
   "display_name": "Python 3 (ipykernel)",
   "language": "python",
   "name": "python3"
  },
  "language_info": {
   "codemirror_mode": {
    "name": "ipython",
    "version": 3
   },
   "file_extension": ".py",
   "mimetype": "text/x-python",
   "name": "python",
   "nbconvert_exporter": "python",
   "pygments_lexer": "ipython3",
   "version": "3.9.7"
  }
 },
 "nbformat": 4,
 "nbformat_minor": 4
}
