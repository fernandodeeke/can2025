{
  "cells": [
    {
      "cell_type": "markdown",
      "metadata": {
        "id": "view-in-github",
        "colab_type": "text"
      },
      "source": [
        "<a href=\"https://colab.research.google.com/github/fernandodeeke/can2025/blob/main/eliminacaoGaussiana2.ipynb\" target=\"_parent\"><img src=\"https://colab.research.google.com/assets/colab-badge.svg\" alt=\"Open In Colab\"/></a>"
      ]
    },
    {
      "cell_type": "markdown",
      "metadata": {
        "id": "bfgC_K-LvJGt"
      },
      "source": [
        "<center><h1> <h2></h2></h1></center>\n",
        "<center><h1>Análise Numérica</h1></center>\n",
        "<center><h2>2025/1</h2></center>\n",
        "<center><h3>Fernando Deeke Sasse</h3></center>\n",
        "<center><h3>CCT - UDESC</h3></center>\n",
        "<center><h2>Eliminação de Gauss - 2</h2></center>"
      ]
    },
    {
      "cell_type": "markdown",
      "metadata": {
        "id": "Xy9WAMN-vJGu"
      },
      "source": [
        "### 1. Uma visão diferente do método de eliminação de Gauss\n",
        "\n",
        "Como vimos anteriormente, o método de eliminação de Gauss é o método direto mais amplamente utilizado para resolver sistemas lineares e é a base para todas as variantes dos métodos de eliminação. Vamos agora revisitar os dois passos básicos:\n",
        "\n",
        "1. **Fase de eliminação**: realizamos a eliminação dos elementos abaixo da diagonal principal da matriz aumentada $[A|B]$ por meio de operações elementares nas linhas, até obtermos a forma escalonada.\n",
        "2. **Substituição retroativa**: resolvemos recursivamente as equações resultantes de trás para frente.\n",
        "\n",
        "Descrevemos cada um desses passos abaixo, agora utilizando fatores de eliminação, mais adequados para a implementação algorítmica do método."
      ]
    },
    {
      "cell_type": "markdown",
      "metadata": {
        "id": "0APfcHJpvJGv"
      },
      "source": [
        "### 2. Fase de eliminação\n",
        "Chamamos de *linha pivô* a linha acima da qual todos os elementos abaixo da diagonal principal já foram zerados.\n",
        "Na matriz aumentada, seja a linha pivô $L_k$ e uma linha típica $L_i$ abaixo dela a ser transformada, para zerar o elemento $a_{ik}$. Para isso, devemos multiplicar a linha pivô por $\\lambda = a_{ik}/a_{kk}$ e subtrair o resultado de $L_i$, ou seja,\n",
        "\n",
        "$$\n",
        "L_i \\rightarrow L_i - \\lambda L_k\\,.\n",
        "$$\n",
        "\n",
        "Os elementos da linha $L_i$ são atualizados da seguinte forma:\n",
        "\n",
        "\\begin{align}\n",
        "&a_{ij} \\leftarrow a_{ij} - \\lambda a_{kj}\\,\\qquad j=k, \\ldots , n\\\\\n",
        "&b_i \\leftarrow b_i - \\lambda b_k\\,.\n",
        "\\end{align}\n",
        "\n",
        "Como $a_{ik}=0$ por construção, para economizar tempo computacional, ele não precisa ser calculado, então podemos usar $j=k+1, \\ldots , n$.\n",
        "\n",
        "O índice $k$ é o índice da linha pivô, de modo que $k=1, \\ldots, n-1$. O índice $i$ designa a linha a ser transformada, de modo que $i=k+1,\\ \\ldots, n$."
      ]
    },
    {
      "cell_type": "markdown",
      "metadata": {
        "id": "iEJrIXnbvJGv"
      },
      "source": [
        "Lembre-se de que, ao usar range(i,j), o intervalo real é $1, 2, \\ldots, j-1$. Por exemplo,"
      ]
    },
    {
      "cell_type": "code",
      "execution_count": null,
      "metadata": {
        "colab": {
          "base_uri": "https://localhost:8080/"
        },
        "id": "65nNi1psvJGw",
        "outputId": "89fa47c1-137f-4e5e-fafa-95a83e2a71ba"
      },
      "outputs": [
        {
          "output_type": "stream",
          "name": "stdout",
          "text": [
            "1\n",
            "4\n"
          ]
        }
      ],
      "source": [
        "import numpy as np\n",
        "c=np.array([1,2,3,4])\n",
        "print(c[0])\n",
        "print(c[-1])"
      ]
    },
    {
      "cell_type": "code",
      "execution_count": null,
      "metadata": {
        "scrolled": true,
        "colab": {
          "base_uri": "https://localhost:8080/"
        },
        "id": "R-HNDo6DvJGx",
        "outputId": "225990ff-6f9e-4d67-c28d-195a8668ce65"
      },
      "outputs": [
        {
          "output_type": "stream",
          "name": "stdout",
          "text": [
            "1\n",
            "2\n",
            "3\n"
          ]
        }
      ],
      "source": [
        "for j in range(0,3):\n",
        "    print(c[j])"
      ]
    },
    {
      "cell_type": "markdown",
      "metadata": {
        "id": "DD3r5xEYvJGx"
      },
      "source": [
        "### 3. Algoritmo de eliminação de Gauss\n",
        "\n",
        "O pseudocódigo é o seguinte (supondo índices de 1 a n):\n",
        "\n",
        "eliminacaoGaussiana(A, b)\n",
        "    # A é a matriz de coeficientes (n × n)\n",
        "    # b é o vetor de termos independentes (n × 1)\n",
        "    n = len(b)\n",
        "    for k = 1 to n-1 do          # k é a linha pivô\n",
        "        for i = k+1 to n do      # i é a linha a ser eliminada\n",
        "            m = A[i,k] / A[k,k]  # calcula o multiplicador\n",
        "            for j = k+1 to n do  # atualiza os elementos da linha i\n",
        "                A[i,j] = A[i,j] - m * A[k,j]\n",
        "            end do\n",
        "            A[i,k] = 0  # define o elemento abaixo do pivô como zero\n",
        "            b[i] = b[i] - m * b[k]  # atualiza o termo independente\n",
        "        end do\n",
        "    end do\n",
        "    return [A|b]  # retorna a matriz aumentada com A e b concatenados\n"
      ]
    },
    {
      "cell_type": "markdown",
      "metadata": {
        "id": "WxhB6xLevJGx"
      },
      "source": [
        "O algoritmo de eliminação pode ser implementado em Python como mostrado abaixo. Observe que o último elemento da matriz a tem índice n-1 e que range(0,n) vai de 0 a n-1."
      ]
    },
    {
      "cell_type": "code",
      "execution_count": null,
      "metadata": {
        "id": "v4vCnSr7vJGy"
      },
      "outputs": [],
      "source": [
        "def GaussElimin(a,b):\n",
        "    n = len(a)\n",
        "    for k in range(0,n): # define o índice do elemento pivô\n",
        "        for i in range(k+1,n): # percorre a linha abaixo da linha pivô até n-1 (última linha)\n",
        "            lam = a[i,k]/a[k,k]\n",
        "            a[i,k+1:n] = a[i,k+1:n] - lam*a[k,k+1:n] # atualiza os elementos da linha i\n",
        "            a[i,k]=0\n",
        "            b[i] = b[i] - lam*b[k]\n",
        "    return  np.hstack([a,b])"
      ]
    },
    {
      "cell_type": "markdown",
      "metadata": {
        "id": "WE9z7dWwvJGy"
      },
      "source": [
        "Vamos testar a função:"
      ]
    },
    {
      "cell_type": "code",
      "execution_count": null,
      "metadata": {
        "colab": {
          "base_uri": "https://localhost:8080/"
        },
        "id": "joTaqgLhvJGy",
        "outputId": "5015d20a-ffcc-4fd0-b89b-8cf4ccad93ea"
      },
      "outputs": [
        {
          "output_type": "stream",
          "name": "stdout",
          "text": [
            "[[ 6.  1.  2.  4.  6.]\n",
            " [ 5. 11. -3.  2.  2.]\n",
            " [-3.  4.  3.  5. -3.]\n",
            " [ 5.  2.  8. -3.  3.]\n",
            " [ 2.  5.  6.  5.  9.]]\n"
          ]
        }
      ],
      "source": [
        "A = np.array([[6.,1.,2.,4.,6],[5.,11.,-3.,2.,2],[-3.,4.,3.,5.,-3],[5.,2.,8.,-3,3.],[2,5,6,5,9.]])\n",
        "print(A)"
      ]
    },
    {
      "cell_type": "code",
      "execution_count": null,
      "metadata": {
        "colab": {
          "base_uri": "https://localhost:8080/"
        },
        "id": "OBkKg-SvvJGy",
        "outputId": "5015d20a-ffcc-4fd0-b89b-8cf4ccad93ea"
      },
      "outputs": [
        {
          "output_type": "stream",
          "name": "stdout",
          "text": [
            "[[ 2.]\n",
            " [-4.]\n",
            " [ 3.]\n",
            " [-7.]\n",
            " [ 3.]]\n"
          ]
        }
      ],
      "source": [
        "B = np.transpose(np.array([[2.,-4.,3.,-7.,3.]]))\n",
        "print(B)"
      ]
    },
    {
      "cell_type": "markdown",
      "metadata": {
        "id": "PRHbwtcjvJGy"
      },
      "source": [
        "Vamos formar a matriz aumentada $M$:"
      ]
    },
    {
      "cell_type": "code",
      "execution_count": null,
      "metadata": {
        "colab": {
          "base_uri": "https://localhost:8080/"
        },
        "id": "KVbPqzHJvJGy",
        "outputId": "e8aa2df3-d6dc-49a5-caab-eb16a4603d59"
      },
      "outputs": [
        {
          "output_type": "stream",
          "name": "stdout",
          "text": [
            "[[ 6.  1.  2.  4.  6.  2.]\n",
            " [ 5. 11. -3.  2.  2. -4.]\n",
            " [-3.  4.  3.  5. -3.  3.]\n",
            " [ 5.  2.  8. -3.  3. -7.]\n",
            " [ 2.  5.  6.  5.  9.  3.]]\n"
          ]
        }
      ],
      "source": [
        "M = np.hstack([A,B])\n",
        "print(M)"
      ]
    },
    {
      "cell_type": "markdown",
      "metadata": {
        "id": "Vpof1ncfvJGz"
      },
      "source": [
        "Realize a eliminação de Gauss:"
      ]
    },
    {
      "cell_type": "code",
      "execution_count": null,
      "metadata": {
        "colab": {
          "base_uri": "https://localhost:8080/"
        },
        "id": "Ufbts-1mvJGz",
        "outputId": "8901200d-1c21-4866-fc54-7d6aac7262eb"
      },
      "outputs": [
        {
          "output_type": "stream",
          "name": "stdout",
          "text": [
            "[[  6.           1.           2.           4.           6.\n",
            "    2.        ]\n",
            " [  0.          10.16666667  -4.66666667  -1.33333333  -3.\n",
            "   -5.66666667]\n",
            " [  0.           0.           6.06557377   7.59016393   1.32786885\n",
            "    6.50819672]\n",
            " [  0.           0.           0.         -14.77567568  -3.15945946\n",
            "  -15.38648649]\n",
            " [  0.           0.           0.           0.           7.82586428\n",
            "    2.19901226]]\n"
          ]
        }
      ],
      "source": [
        "M1=GaussElimin(A,B)\n",
        "print(M1)"
      ]
    },
    {
      "cell_type": "markdown",
      "metadata": {
        "id": "W5S8U3BevJGz"
      },
      "source": [
        "### 4. Fase de substituição retroativa\n",
        "\n",
        "Começamos resolvendo a última equação correspondente do sistema reduzido, ou seja,\n",
        "\n",
        "$$\n",
        "x_n=\\frac{b_n}{a_{nn}}\\,.\n",
        "$$\n",
        "\n",
        "Consideremos agora a etapa de substituição retroativa onde $x_n, x_{n-1}, \\ldots , x_{k+1} $ já foram calculados e devemos calcular $x_k$ a partir da equação $k$:\n",
        "\n",
        "$$\n",
        "a_{kk}x_k+a_{k k+1} x_{k+1}+ \\cdots + a_{k n}x_n=b_k\\,.\n",
        "$$\n",
        "\n",
        "Resolvendo para $x_k$, obtemos\n",
        "\n",
        "$$\n",
        "x_k=\\frac{1}{a_{kk}}\\left(b_k-a_{k k+1} x_{k+1}- \\cdots - a_{k n}x_n\\right)= \\frac{1}{ a_{kk}}\\left(b_k-\\sum_{j=k+1}^n a_{kj}x_j\\right)\\,.\n",
        "$$\n",
        "\n",
        "Vamos implementar essa função em Python."
      ]
    },
    {
      "cell_type": "markdown",
      "metadata": {
        "id": "9hbPq4vyvJGz"
      },
      "source": [
        "### 5. Algoritmo de substituição retroativa\n",
        "A função a seguir toma como entrada uma matriz de coeficientes na forma escalonada e a matriz-coluna da parte homogênea. A saída é a solução do sistema linear correspondente."
      ]
    },
    {
      "cell_type": "code",
      "execution_count": null,
      "metadata": {
        "id": "smYoA6BTvJGz"
      },
      "outputs": [],
      "source": [
        "def GaussRetro(a, b):\n",
        "    n = len(b)\n",
        "    x = np.zeros(n)\n",
        "    x[n-1] = (b[n-1] / a[n-1, n-1]).item()\n",
        "    for k in range(n-2, -1, -1):\n",
        "        x[k] = ((b[k] - np.dot(a[k, k+1:n], x[k+1:n])) / a[k, k]).item()\n",
        "    return np.transpose([x])"
      ]
    },
    {
      "cell_type": "markdown",
      "metadata": {
        "id": "L8t_0ODGvJGz"
      },
      "source": [
        "Para entender o uso do comando np.dot acima, devemos notar que, para cada $k$, tanto $a[k,k+1:n]$ quanto $x[k+1:n]$ são vetores computacionais de comprimento $n-k$. O comando np.dot faz com que os componentes respectivos sejam multiplicados e somados, como no produto escalar usual. O comando range(n-1,-1,-1) faz com que os valores de $k$ comecem em $n-1$ e diminuam até chegar a $k=0$ (que precede -1). O método .item() extrai o valor escalar da quantidade."
      ]
    },
    {
      "cell_type": "markdown",
      "metadata": {
        "id": "3tkE5awlvJGz"
      },
      "source": [
        "Vamos usar o exemplo acima. Inicialmente, dividimos a matriz aumentada. A matriz de coeficientes é dada por"
      ]
    },
    {
      "cell_type": "code",
      "execution_count": null,
      "metadata": {
        "colab": {
          "base_uri": "https://localhost:8080/"
        },
        "id": "ggSeBAywvJGz",
        "outputId": "daa44786-bc22-423a-ae67-d8dee75b5a09"
      },
      "outputs": [
        {
          "output_type": "execute_result",
          "data": {
            "text/plain": [
              "array([[  6.        ,   1.        ,   2.        ,   4.        ,\n",
              "          6.        ],\n",
              "       [  0.        ,  10.16666667,  -4.66666667,  -1.33333333,\n",
              "         -3.        ],\n",
              "       [  0.        ,   0.        ,   6.06557377,   7.59016393,\n",
              "          1.32786885],\n",
              "       [  0.        ,   0.        ,   0.        , -14.77567568,\n",
              "         -3.15945946],\n",
              "       [  0.        ,   0.        ,   0.        ,   0.        ,\n",
              "          7.82586428]])"
            ]
          },
          "metadata": {},
          "execution_count": 42
        }
      ],
      "source": [
        "A1 = M1[:,0:5]\n",
        "A1"
      ]
    },
    {
      "cell_type": "markdown",
      "metadata": {
        "id": "CCmMrUNFvJGz"
      },
      "source": [
        "A parte não homogênea é dada por:"
      ]
    },
    {
      "cell_type": "code",
      "execution_count": null,
      "metadata": {
        "colab": {
          "base_uri": "https://localhost:8080/"
        },
        "id": "2mCiUibgvJGz",
        "outputId": "26ee958b-fe4e-4516-894b-54f9757466c7"
      },
      "outputs": [
        {
          "output_type": "execute_result",
          "data": {
            "text/plain": [
              "array([  2.        ,  -5.66666667,   6.50819672, -15.38648649,\n",
              "         2.19901226])"
            ]
          },
          "metadata": {},
          "execution_count": 43
        }
      ],
      "source": [
        "B1= M1[:,5]\n",
        "B1"
      ]
    },
    {
      "cell_type": "code",
      "execution_count": null,
      "metadata": {
        "id": "GSNLYhT2o8_-"
      },
      "outputs": [],
      "source": [
        "B1v = np.reshape(B1,(5,1))"
      ]
    },
    {
      "cell_type": "markdown",
      "metadata": {
        "id": "utMzBgAkvJG0"
      },
      "source": [
        "Vamos agora aplicar a função que realiza a substituição retroativa:"
      ]
    },
    {
      "cell_type": "code",
      "execution_count": null,
      "metadata": {
        "colab": {
          "base_uri": "https://localhost:8080/"
        },
        "id": "Gwy2JtXOvJG0",
        "outputId": "f789b492-acab-4c40-8cd8-dbb739801613"
      },
      "outputs": [
        {
          "output_type": "execute_result",
          "data": {
            "text/plain": [
              "array([[-0.45549738],\n",
              "       [-0.44511967],\n",
              "       [-0.21643605],\n",
              "       [ 0.98125467],\n",
              "       [ 0.28099289]])"
            ]
          },
          "metadata": {},
          "execution_count": 45
        }
      ],
      "source": [
        "X1 = GaussRetro(A1,B1v)\n",
        "X1"
      ]
    },
    {
      "cell_type": "markdown",
      "metadata": {
        "id": "xj3TNa4FwftR"
      },
      "source": [
        "Vamos verificar o resultado:"
      ]
    },
    {
      "cell_type": "code",
      "execution_count": null,
      "metadata": {
        "colab": {
          "base_uri": "https://localhost:8080/"
        },
        "id": "P7OKRjW4vJG0",
        "outputId": "98c0b23e-c47c-48c9-dd2a-8f952e09e1ca"
      },
      "outputs": [
        {
          "output_type": "execute_result",
          "data": {
            "text/plain": [
              "array([[ 0.0000000e+00],\n",
              "       [-8.8817842e-16],\n",
              "       [ 0.0000000e+00],\n",
              "       [ 0.0000000e+00],\n",
              "       [ 0.0000000e+00]])"
            ]
          },
          "metadata": {},
          "execution_count": 46
        }
      ],
      "source": [
        "A@X1-B"
      ]
    },
    {
      "cell_type": "markdown",
      "metadata": {
        "id": "czufT4ltvJG0"
      },
      "source": [
        "Podemos resolver sistemas lineares com métodos diretos usando o comando solve do numpy:"
      ]
    },
    {
      "cell_type": "code",
      "execution_count": null,
      "metadata": {
        "id": "yR07RcqPvJG0"
      },
      "outputs": [],
      "source": [
        "import numpy.linalg as la"
      ]
    },
    {
      "cell_type": "code",
      "execution_count": null,
      "metadata": {
        "colab": {
          "base_uri": "https://localhost:8080/"
        },
        "id": "ZzGHYRA9vJG0",
        "outputId": "d574a676-6a66-4a6c-ac95-dbb97aa73901"
      },
      "outputs": [
        {
          "output_type": "stream",
          "name": "stdout",
          "text": [
            "[[-0.45549738]\n",
            " [-0.44511967]\n",
            " [-0.21643605]\n",
            " [ 0.98125467]\n",
            " [ 0.28099289]]\n"
          ]
        }
      ],
      "source": [
        "x = la.solve(A,B)\n",
        "print(x)"
      ]
    },
    {
      "cell_type": "markdown",
      "metadata": {
        "id": "tn_ostTRvJG1"
      },
      "source": [
        "### 6. Algoritmo completo de eliminação de Gauss"
      ]
    },
    {
      "cell_type": "markdown",
      "metadata": {
        "id": "uVBuHn6LvJG1"
      },
      "source": [
        "Vamos combinar as duas funções em uma única. A atribuição a[i,k]=0 agora pode ser removida porque é irrelevante:"
      ]
    },
    {
      "cell_type": "code",
      "execution_count": null,
      "metadata": {
        "id": "9XtPIzrivJG1"
      },
      "outputs": [],
      "source": [
        "import numpy as np"
      ]
    },
    {
      "cell_type": "code",
      "execution_count": null,
      "metadata": {
        "id": "Qo39WRm-vJG1"
      },
      "outputs": [],
      "source": [
        "def GaussSolve(a, b):\n",
        "    n = len(a)\n",
        "    a = a.copy()  # Trabalha com uma cópia para preservar a matriz original\n",
        "    b = b.copy()  # Trabalha com uma cópia para preservar o vetor original\n",
        "    x = np.zeros(n)\n",
        "    for k in range(0, n-1):\n",
        "        for i in range(k+1, n):\n",
        "            lam = a[i, k] / a[k, k]\n",
        "            a[i, k+1:n] = a[i, k+1:n] - lam * a[k, k+1:n]\n",
        "            b[i] = b[i] - lam * b[k]\n",
        "    x[n-1] = b[n-1] / a[n-1, n-1]\n",
        "    for k in range(n-2, -1, -1):\n",
        "        x[k] = (b[k] - np.dot(a[k, k+1:n], x[k+1:n])) / a[k, k]\n",
        "    return x"
      ]
    },
    {
      "cell_type": "markdown",
      "metadata": {
        "id": "tz8sq7FovJG1"
      },
      "source": [
        "Vamos testar o algoritmo completo no sistema linear anterior."
      ]
    },
    {
      "cell_type": "code",
      "execution_count": null,
      "metadata": {
        "id": "k0liGlwMvJG1"
      },
      "outputs": [],
      "source": [
        "A = np.array([[6., 1., 2., 4.], [5., 11., -3., 2.], [-3., 4., 3., 5.], [5., 2., 8., 3.]])\n",
        "B = np.array([2., -4., 3., -7.])"
      ]
    },
    {
      "cell_type": "code",
      "execution_count": null,
      "metadata": {
        "colab": {
          "base_uri": "https://localhost:8080/"
        },
        "id": "uVLrPH8zvJG1",
        "outputId": "8c09487b-610a-4b01-d6c2-bafeed007729"
      },
      "outputs": [
        {
          "output_type": "execute_result",
          "data": {
            "text/plain": [
              "array([-0.32152756, -0.84200801, -1.1210348 ,  1.75331075])"
            ]
          },
          "metadata": {},
          "execution_count": 87
        }
      ],
      "source": [
        "X =  GaussSolve(A,B)\n",
        "X"
      ]
    },
    {
      "cell_type": "markdown",
      "metadata": {
        "id": "DoAxXUV1vJG1"
      },
      "source": [
        "Vamos verificar:"
      ]
    },
    {
      "cell_type": "code",
      "execution_count": null,
      "metadata": {
        "colab": {
          "base_uri": "https://localhost:8080/"
        },
        "id": "1PQ4ctxUqCk7",
        "outputId": "3bf3083d-8d67-4cd4-9b01-d6c7f93a9998"
      },
      "outputs": [
        {
          "output_type": "execute_result",
          "data": {
            "text/plain": [
              "array([ 0.00000000e+00, -8.88178420e-16,  8.88178420e-16, -3.55271368e-15])"
            ]
          },
          "metadata": {},
          "execution_count": 88
        }
      ],
      "source": [
        "residual = A @ X - B  # Calcula o resíduo\n",
        "residual"
      ]
    },
    {
      "cell_type": "code",
      "execution_count": null,
      "metadata": {
        "colab": {
          "base_uri": "https://localhost:8080/"
        },
        "id": "rWMe1v7yuD-y",
        "outputId": "cf98963f-781d-47cf-a5dd-10ae861f18c6"
      },
      "outputs": [
        {
          "output_type": "stream",
          "name": "stdout",
          "text": [
            "\n",
            "Norma Infinita do Resíduo:\n",
            "3.552713678800501e-15\n"
          ]
        }
      ],
      "source": [
        "norm_inf = np.linalg.norm(residual, ord=np.inf)\n",
        "print(\"\\nNorma Infinita do Resíduo:\")\n",
        "print(norm_inf)"
      ]
    },
    {
      "cell_type": "markdown",
      "metadata": {
        "id": "O6_oWlJQvJG1"
      },
      "source": [
        "### 7. Exemplo com sistemas grandes"
      ]
    },
    {
      "cell_type": "markdown",
      "metadata": {
        "id": "R6fhJ2F9vJG2"
      },
      "source": [
        "Vamos testar sistemas aleatórios maiores"
      ]
    },
    {
      "cell_type": "code",
      "execution_count": null,
      "metadata": {
        "id": "2plbcRN5vJG2"
      },
      "outputs": [],
      "source": [
        "np.random.seed(43453)\n",
        "N = 10\n",
        "A3 = np.random.rand(N,N)\n",
        "B3 = np.random.rand(N)\n",
        "B3a = B3.reshape(N,1)"
      ]
    },
    {
      "cell_type": "markdown",
      "metadata": {
        "id": "8G7vKA8e0c8n"
      },
      "source": [
        "Note que"
      ]
    },
    {
      "cell_type": "code",
      "execution_count": null,
      "metadata": {
        "colab": {
          "base_uri": "https://localhost:8080/"
        },
        "id": "TTyJGnwV0M7-",
        "outputId": "9a6ef05c-8f46-45b9-e852-77e3c328c211"
      },
      "outputs": [
        {
          "output_type": "execute_result",
          "data": {
            "text/plain": [
              "array([0.79296977, 0.19843862, 0.88683062, 0.02492198, 0.43015755,\n",
              "       0.19245975, 0.47326455, 0.0801523 , 0.45018061, 0.84562416])"
            ]
          },
          "metadata": {},
          "execution_count": 69
        }
      ],
      "source": [
        "B3"
      ]
    },
    {
      "cell_type": "code",
      "execution_count": null,
      "metadata": {
        "colab": {
          "base_uri": "https://localhost:8080/"
        },
        "id": "9-mSSFkd0Pd9",
        "outputId": "0976fe6f-06d7-4be6-da00-fb5ed6c0d5e1"
      },
      "outputs": [
        {
          "output_type": "execute_result",
          "data": {
            "text/plain": [
              "array([[0.79296977],\n",
              "       [0.19843862],\n",
              "       [0.88683062],\n",
              "       [0.02492198],\n",
              "       [0.43015755],\n",
              "       [0.19245975],\n",
              "       [0.47326455],\n",
              "       [0.0801523 ],\n",
              "       [0.45018061],\n",
              "       [0.84562416]])"
            ]
          },
          "metadata": {},
          "execution_count": 70
        }
      ],
      "source": [
        "B3a"
      ]
    },
    {
      "cell_type": "code",
      "execution_count": null,
      "metadata": {
        "colab": {
          "base_uri": "https://localhost:8080/"
        },
        "id": "QFOjf7Q-vJG2",
        "outputId": "99ef207d-2859-4d5a-ad6b-7b69990015d9"
      },
      "outputs": [
        {
          "output_type": "execute_result",
          "data": {
            "text/plain": [
              "array([[-0.78014194],\n",
              "       [ 1.64411949],\n",
              "       [-1.13319994],\n",
              "       [-0.72833755],\n",
              "       [-2.02054919],\n",
              "       [ 1.06249775],\n",
              "       [-0.78987105],\n",
              "       [ 2.26036594],\n",
              "       [ 2.07989874],\n",
              "       [-0.4584725 ]])"
            ]
          },
          "metadata": {},
          "execution_count": 62
        }
      ],
      "source": [
        "X3 = GaussSolve(A3,B3)\n",
        "X3"
      ]
    },
    {
      "cell_type": "code",
      "execution_count": null,
      "metadata": {
        "id": "vP7om6IJzgnM"
      },
      "outputs": [],
      "source": [
        "np.random.seed(43453)\n",
        "N = 10\n",
        "A3 = np.random.rand(N,N)"
      ]
    },
    {
      "cell_type": "markdown",
      "metadata": {
        "id": "poi0YvXpvJG2"
      },
      "source": [
        "Vamos verificar a resposta calculando o resíduo:"
      ]
    },
    {
      "cell_type": "code",
      "execution_count": null,
      "metadata": {
        "colab": {
          "base_uri": "https://localhost:8080/"
        },
        "id": "uh47Kn4pyHtx",
        "outputId": "87fd0046-c2dc-41d7-e444-13622a61ba84"
      },
      "outputs": [
        {
          "output_type": "execute_result",
          "data": {
            "text/plain": [
              "array([[-4.44089210e-16],\n",
              "       [-3.33066907e-16],\n",
              "       [-5.10702591e-15],\n",
              "       [-7.32747196e-15],\n",
              "       [-2.22044605e-15],\n",
              "       [ 2.10942375e-15],\n",
              "       [-4.44089210e-16],\n",
              "       [-3.21964677e-15],\n",
              "       [-1.99840144e-15],\n",
              "       [ 7.77156117e-16]])"
            ]
          },
          "metadata": {},
          "execution_count": 76
        }
      ],
      "source": [
        "R = A3@X3-B3a\n",
        "R"
      ]
    },
    {
      "cell_type": "markdown",
      "metadata": {
        "id": "1H5EY7iGvJG2"
      },
      "source": [
        "Se o sistema for muito grande, é difícil inspecionar todos os componentes. Em geral, avaliamos o resíduo calculando uma norma do vetor correspondente. A norma mais comumente usada é a norma infinita, definida como sendo a maior magnitude entre os componentes:\n",
        "\n",
        "$$\n",
        "|\\mathbf{u}|_{\\infty}=\\max_i\\{{|u_i|},i=1,\\ldots,n\\}.\n",
        "$$\n",
        "\n",
        "No nosso caso,"
      ]
    },
    {
      "cell_type": "code",
      "execution_count": null,
      "metadata": {
        "id": "IKa-fX00vJG2"
      },
      "outputs": [],
      "source": [
        "import numpy.linalg as la"
      ]
    },
    {
      "cell_type": "code",
      "execution_count": null,
      "metadata": {
        "colab": {
          "base_uri": "https://localhost:8080/"
        },
        "id": "731NnGXgvJG2",
        "outputId": "2266bbb9-62f1-4b80-d6d4-88db1d59256c"
      },
      "outputs": [
        {
          "output_type": "execute_result",
          "data": {
            "text/plain": [
              "7.327471962526033e-15"
            ]
          },
          "metadata": {},
          "execution_count": 78
        }
      ],
      "source": [
        "NR = la.norm(R, np.inf)\n",
        "NR"
      ]
    },
    {
      "cell_type": "markdown",
      "metadata": {
        "id": "DLH-A0C2vJG2"
      },
      "source": [
        "Vamos testar o desempenho do programa que escrevemos com sistemas grandes."
      ]
    },
    {
      "cell_type": "code",
      "execution_count": null,
      "metadata": {
        "id": "RidxqD8jvJG2"
      },
      "outputs": [],
      "source": [
        "np.random.seed(43453)\n",
        "N = 300\n",
        "A4 = np.random.rand(N,N)\n",
        "B4 = np.random.rand(N)"
      ]
    },
    {
      "cell_type": "code",
      "execution_count": null,
      "metadata": {
        "id": "5MVNfIxEvJG3"
      },
      "outputs": [],
      "source": [
        "X4 = GaussSolve(A4,B4)"
      ]
    },
    {
      "cell_type": "markdown",
      "metadata": {
        "id": "OZgaY-plvJG3"
      },
      "source": [
        "Vamos calcular o resíduo:"
      ]
    },
    {
      "cell_type": "code",
      "execution_count": null,
      "metadata": {
        "id": "mLLPNVL8vJG3"
      },
      "outputs": [],
      "source": [
        "np.random.seed(43453)\n",
        "N = 300\n",
        "A4 = np.random.rand(N,N)\n",
        "B4 = np.random.rand(N,1)"
      ]
    },
    {
      "cell_type": "code",
      "execution_count": null,
      "metadata": {
        "colab": {
          "base_uri": "https://localhost:8080/"
        },
        "id": "v7FtFvzovJG3",
        "outputId": "787b890b-3145-47aa-a02f-ba669666f0be"
      },
      "outputs": [
        {
          "output_type": "execute_result",
          "data": {
            "text/plain": [
              "6.478706460200101e-12"
            ]
          },
          "metadata": {},
          "execution_count": 84
        }
      ],
      "source": [
        "NR = la.norm(A4@X4-B4,np.inf)\n",
        "NR"
      ]
    },
    {
      "cell_type": "markdown",
      "metadata": {
        "id": "3qprwkOFvJG3"
      },
      "source": [
        "Vamos estimar o tempo de CPU necessário para resolver este sistema:"
      ]
    },
    {
      "cell_type": "code",
      "execution_count": null,
      "metadata": {
        "id": "NPC1Pa-lvJG3"
      },
      "outputs": [],
      "source": [
        "np.random.seed(43453)\n",
        "N = 300\n",
        "A4 = np.random.rand(N,N)\n",
        "B4 = np.random.rand(N)"
      ]
    },
    {
      "cell_type": "code",
      "execution_count": null,
      "metadata": {
        "colab": {
          "base_uri": "https://localhost:8080/"
        },
        "id": "EqSWIsBXvJG3",
        "outputId": "7dd8dfce-c031-460b-c9c3-83a7c47cfc70"
      },
      "outputs": [
        {
          "output_type": "stream",
          "name": "stdout",
          "text": [
            "249 ms ± 46.4 ms por loop (média ± desv. padrão de 7 execuções, 1 loop cada)\n"
          ]
        }
      ],
      "source": [
        "%%timeit\n",
        "GaussSolve(A4,B4)"
      ]
    },
    {
      "cell_type": "markdown",
      "metadata": {
        "id": "D2O6aHWFvJG4"
      },
      "source": [
        "O tempo de CPU necessário usando a função solve do numpy é dado por:"
      ]
    },
    {
      "cell_type": "code",
      "execution_count": null,
      "metadata": {
        "id": "HSkcv-1HvJG4"
      },
      "outputs": [],
      "source": [
        "np.random.seed(43453)\n",
        "N = 300\n",
        "A4 = np.random.rand(N,N)\n",
        "B4 = np.random.rand(N)"
      ]
    },
    {
      "cell_type": "code",
      "execution_count": null,
      "metadata": {
        "colab": {
          "base_uri": "https://localhost:8080/"
        },
        "id": "myE80L8qvJG4",
        "outputId": "bcc5aa37-caa4-4515-e9a3-5a06b0a58ee1"
      },
      "outputs": [
        {
          "output_type": "stream",
          "name": "stdout",
          "text": [
            "6.3 µs ± 1.65 µs por loop (média ± desv. padrão de 7 execuções, 100000 loops cada)\n"
          ]
        }
      ],
      "source": [
        "%%timeit\n",
        "la.solve(A,B)"
      ]
    },
    {
      "cell_type": "markdown",
      "metadata": {
        "id": "USoKUU8CvJG4"
      },
      "source": [
        "Como esperado, o solver é muito mais rápido que nosso algoritmo pedagógico, por quase quatro ordens de grandeza."
      ]
    },
    {
      "cell_type": "markdown",
      "metadata": {
        "id": "VPlhrYH5vJG4"
      },
      "source": [
        "### 8. Exercícios"
      ]
    },
    {
      "cell_type": "markdown",
      "metadata": {
        "id": "XnNsKCHQvJG4"
      },
      "source": [
        "**1.** Resolva passo a passo um sistema linear aleatório $4 \\times 4$ (use os primeiros 4 dígitos do seu CPF como semente), descrevendo cada etapa dos algoritmos GaussElimin e GaussRetro. Verifique a resposta calculando o resíduo.\n",
        "\n",
        "**2.** Resolva um sistema aleatório $500 \\times 500$ usando o algoritmo GaussSolve (não mostre o resultado). Verifique a correção do resultado calculando a norma do resíduo e compare o tempo de CPU necessário. Repita o procedimento usando o solver do numpy.\n",
        "\n",
        "**3.** O **número de condição** de uma matriz $ A $, denotado por $ \\kappa(A) $, mede a sensibilidade da solução de um sistema linear $ A \\mathbf{x} = \\mathbf{b} $ a pequenas perturbações na matriz $ A $ ou no vetor $ \\mathbf{b} $. Ele é definido como:\n",
        "$$\n",
        "\\kappa(A) = \\|A\\| \\cdot \\|A^{-1}\\|,\n",
        "$$\n",
        "onde $ \\|A\\| $ é a norma da matriz (geralmente a norma 2). Um número de condição alto indica que o sistema é mal condicionado, ou seja, pequenas mudanças nos dados podem causar grandes variações na solução. Um exemplo de matriz mal condicionada é a matriz de Hilbert $H_n$ de ordem $n$, definida por\n",
        "$$\n",
        "H_{ij} = \\frac{1}{i + j + 1}, \\quad i, j = 0, 1, \\dots, n.\n",
        "$$\n",
        "\n",
        "Podemos definir em Python como segue:"
      ]
    },
    {
      "cell_type": "code",
      "execution_count": null,
      "metadata": {
        "id": "VNftbWmYvJG5"
      },
      "outputs": [],
      "source": [
        "def hilb(n):\n",
        "    return np.array([[1/(i+j+1) for i in range(n)] for j in range(n)])\n",
        "    return np.array([[1/(i+j+1) for i in range(n)] for j in range(n)])"
      ]
    },
    {
      "cell_type": "markdown",
      "metadata": {
        "id": "QuMHM2P8vJG5"
      },
      "source": [
        "Por exemplo,"
      ]
    },
    {
      "cell_type": "code",
      "execution_count": null,
      "metadata": {
        "id": "0L-nGisovJG5",
        "outputId": "2255c846-d846-4135-b29f-f3abf0821bcb"
      },
      "outputs": [
        {
          "data": {
            "text/plain": [
              "array([[1.        , 0.5       , 0.33333333, 0.25      ],\n",
              "       [0.5       , 0.33333333, 0.25      , 0.2       ],\n",
              "       [0.33333333, 0.25      , 0.2       , 0.16666667],\n",
              "       [0.25      , 0.2       , 0.16666667, 0.14285714]])"
            ]
          },
          "execution_count": 5,
          "metadata": {},
          "output_type": "execute_result"
        }
      ],
      "source": [
        "hilb(4)"
      ]
    },
    {
      "cell_type": "markdown",
      "metadata": {
        "id": "vRlsNR-rvJG5"
      },
      "source": [
        "(i) Resolva o sistema linear $HX=B$, onde $H$ é a matriz de Hilbert $H(30)$, $30 \\times 30$, e $B$ é uma matriz-coluna com todos os elementos iguais a 1. Use o algoritmo de eliminação de Gauss desenvolvido anteriormente para resolver o sistema. Calcule o resíduo em ambos os casos.\n",
        "\n",
        "(ii) Compare o número de condição de $H$ com o de uma matriz aleatória $30 \\times 30$.\n",
        "\n",
        "(iii) Mostre que uma pequena perturbação em um componente de $H(30)$ faz com que a solução do sistema definido em (i) mude drasticamente.\n"
      ]
    },
    {
      "cell_type": "markdown",
      "metadata": {
        "id": "xVrkt2MMvJG5"
      },
      "source": [
        "**4.** Estude a instabilidade de sistemas com matrizes de Hilbert $n \\times n$. Por exemplo, varie ligeiramente o valor de um coeficiente de $B$, ou adicione um pequeno termo à matriz $H$. Use o solver do Numpy.\n",
        "\n",
        "**5.** Defina um sistema $GX=B$, $n \\times n$, com $G=[g_{ij}]$ e $g_{ij}=1/(1+i+2j)$. Verifique se tal sistema também é instável. Varie $n$. Use o solver do Numpy."
      ]
    },
    {
      "cell_type": "code",
      "execution_count": null,
      "metadata": {
        "id": "fZp7Snh1vJG5"
      },
      "outputs": [],
      "source": [
        "import numpy as np\n",
        "def m5(n):\n",
        "    return np.array([[1/(i+2*j+1) for i in range(n)] for j in range(n)])"
      ]
    },
    {
      "cell_type": "code",
      "execution_count": null,
      "metadata": {
        "id": "WPOC9ZtlvJG5",
        "outputId": "8f4d4d70-a45f-4732-91a9-f057a6254477"
      },
      "outputs": [
        {
          "data": {
            "text/plain": [
              "array([[1.        , 0.5       , 0.33333333, 0.25      , 0.2       ],\n",
              "       [0.33333333, 0.25      , 0.2       , 0.16666667, 0.14285714],\n",
              "       [0.2       , 0.16666667, 0.14285714, 0.125     , 0.11111111],\n",
              "       [0.14285714, 0.125     , 0.11111111, 0.1       , 0.09090909],\n",
              "       [0.11111111, 0.1       , 0.09090909, 0.08333333, 0.07692308]])"
            ]
          },
          "execution_count": 3,
          "metadata": {},
          "output_type": "execute_result"
        }
      ],
      "source": [
        "m5(5)"
      ]
    }
  ],
  "metadata": {
    "kernelspec": {
      "display_name": "Python 3",
      "language": "python",
      "name": "python3"
    },
    "language_info": {
      "codemirror_mode": {
        "name": "ipython",
        "version": 3
      },
      "file_extension": ".py",
      "mimetype": "text/x-python",
      "name": "python",
      "nbconvert_exporter": "python",
      "pygments_lexer": "ipython3",
      "version": "3.11.2"
    },
    "colab": {
      "provenance": [],
      "include_colab_link": true
    }
  },
  "nbformat": 4,
  "nbformat_minor": 0
}