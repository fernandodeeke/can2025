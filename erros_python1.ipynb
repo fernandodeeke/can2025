{
 "cells": [
  {
   "cell_type": "markdown",
   "metadata": {},
   "source": [
    "# Tutorial: Erros Numéricos em Python\n",
    "\n",
    "Este tutorial, com duração aproximada de 2,5 horas, foi planejado para uma aula de Cálculo Numérico. Nele abordaremos os principais tipos de erros numéricos que ocorrem em cálculos computacionais, como erros de arredondamento, cancelamento e truncamento, com diversos exemplos práticos em Python."
   ]
  },
  {
   "cell_type": "markdown",
   "metadata": {},
   "source": [
    "## Agenda\n",
    "\n",
    "- **Introdução e Contextualização** (15 min): Conceitos básicos e importância dos erros numéricos.\n",
    "- **Erro de Arredondamento** (30 min): Exemplos práticos e explicação do problema da representação de números em ponto flutuante.\n",
    "- **Erro de Cancelamento** (30 min): Análise de situações em que ocorre perda de significância e seus impactos.\n",
    "- **Erro de Truncamento** (30 min): Demonstração com séries e métodos iterativos, evidenciando o erro por truncamento de processos infinitos.\n",
    "- **Mitigação de Erros Numéricos** (30 min): Técnicas e boas práticas, como reordenação de somas, uso do módulo `decimal` e algoritmos estáveis.\n",
    "- **Resumo e Discussão** (15 min): Revisão dos conceitos, discussão e sessão de perguntas e respostas.\n"
   ]
  },
  {
   "cell_type": "markdown",
   "metadata": {},
   "source": [
    "## 1. Introdução aos Erros Numéricos\n",
    "\n",
    "Os erros numéricos surgem devido à representação finita dos números nos computadores e às limitações dos algoritmos de aproximação. Compreender esses erros é fundamental para garantir a precisão em cálculos numéricos e para o desenvolvimento de algoritmos robustos."
   ]
  },
  {
   "cell_type": "code",
   "metadata": {},
   "execution_count": null,
   "outputs": [],
   "source": [
    "# Exemplo 1: Demonstração do erro de representação\n",
    "print('0.1 + 0.2 =', 0.1 + 0.2)\n",
    "print('0.1 + 0.2 == 0.3?', 0.1 + 0.2 == 0.3)"
   ]
  },
  {
   "cell_type": "markdown",
   "metadata": {},
   "source": [
    "## 2. Erro de Arredondamento\n",
    "\n",
    "O erro de arredondamento ocorre quando um número não pode ser representado com exatidão no sistema de ponto flutuante. Por exemplo, o número 0.1 não possui representação exata em binário, o que pode levar a pequenas imprecisões."
   ]
  },
  {
   "cell_type": "code",
   "metadata": {},
   "execution_count": null,
   "outputs": [],
   "source": [
    "# Exemplo 2: Observando o erro de arredondamento com NumPy\n",
    "import numpy as np\n",
    "\n",
    "a = np.float64(0.1)\n",
    "b = np.float64(0.2)\n",
    "print('Representação de 0.1:', a)\n",
    "print('Soma 0.1 + 0.2:', a + b)"
   ]
  },
  {
   "cell_type": "markdown",
   "metadata": {},
   "source": [
    "## 3. Erro de Cancelamento\n",
    "\n",
    "O erro de cancelamento acontece quando se subtraem números muito próximos, o que pode resultar em perda de dígitos significativos. Esse problema é particularmente crítico em operações que envolvem a subtração de termos quase iguais."
   ]
  },
  {
   "cell_type": "code",
   "metadata": {},
   "execution_count": null,
   "outputs": [],
   "source": [
    "# Exemplo 3: Erro de cancelamento\n",
    "\n",
    "# Diferença entre números quase iguais\n",
    "a = 1.0000001\n",
    "b = 1.0000000\n",
    "print('Diferença (a - b):', a - b)\n",
    "\n",
    "# Exemplo com funções: cancelamento na aproximação de exp(x) para x pequeno\n",
    "import math\n",
    "x = 1e-8\n",
    "f_approx = math.exp(x) - 1\n",
    "print('Aproximação de exp(x) - 1:', f_approx)\n",
    "print('Valor esperado (x):', x)"
   ]
  },
  {
   "cell_type": "markdown",
   "metadata": {},
   "source": [
    "## 4. Erro de Truncamento\n",
    "\n",
    "O erro de truncamento surge quando um processo infinito é substituído por uma versão finita. Um exemplo clássico é a aproximação de funções por meio de séries de Taylor, onde apenas um número finito de termos é usado."
   ]
  },
  {
   "cell_type": "code",
   "metadata": {},
   "execution_count": null,
   "outputs": [],
   "source": [
    "# Exemplo 4: Aproximação de e^x usando a série de Taylor\n",
    "import math\n",
    "\n",
    "x = 1.0\n",
    "soma = 0\n",
    "n_termos = 10\n",
    "\n",
    "for n in range(n_termos):\n",
    "    termo = x**n / math.factorial(n)\n",
    "    soma += termo\n",
    "\n",
    "print('Aproximação de e^1 com', n_termos, 'termos:', soma)\n",
    "print('Valor real de e^1:', math.e)"
   ]
  },
  {
   "cell_type": "markdown",
   "metadata": {},
   "source": [
    "## 5. Precisão da Máquina e Epsilon de Máquina\n",
    "\n",
    "O _epsilon_ de máquina é a menor diferença entre 1 e o menor número maior que 1 que pode ser representado pelo sistema. Em Python, podemos acessar esse valor através de `sys.float_info.epsilon`."
   ]
  },
  {
   "cell_type": "code",
   "metadata": {},
   "execution_count": null,
   "outputs": [],
   "source": [
    "import sys\n",
    "print('Epsilon de máquina:', sys.float_info.epsilon)"
   ]
  },
  {
   "cell_type": "markdown",
   "metadata": {},
   "source": [
    "## 6. Mitigando Erros Numéricos\n",
    "\n",
    "Algumas estratégias para reduzir os erros numéricos incluem:\n",
    "\n",
    "- **Uso de bibliotecas de precisão estendida:** Como o módulo `decimal` do Python, que permite controlar a precisão dos cálculos.\n",
    "- **Reordenação de somas:** Alterar a ordem de somatória para minimizar a perda de precisão.\n",
    "- **Algoritmos numericamente estáveis:** Selecionar métodos que sejam menos sensíveis aos erros de arredondamento e cancelamento.\n"
   ]
  },
  {
   "cell_type": "code",
   "metadata": {},
   "execution_count": null,
   "outputs": [],
   "source": [
    "# Exemplo 5: Uso do módulo decimal para maior precisão\n",
    "from decimal import Decimal, getcontext\n",
    "\n",
    "# Ajusta a precisão para 28 dígitos\n",
    "getcontext().prec = 28\n",
    "\n",
    "a = Decimal('0.1')\n",
    "b = Decimal('0.2')\n",
    "c = a + b\n",
    "print('Soma com Decimal:', c)"
   ]
  },
  {
   "cell_type": "markdown",
   "metadata": {},
   "source": [
    "## 7. Exemplos Adicionais\n",
    "\n",
    "### 7.1 Soma em Ordem Diferente\n",
    "\n",
    "A ordem em que os números são somados pode afetar o resultado final, devido ao acúmulo de erros de arredondamento."
   ]
  },
  {
   "cell_type": "code",
   "metadata": {},
   "execution_count": null,
   "outputs": [],
   "source": [
    "# Exemplo 6: Comparação da soma em ordem direta e reversa\n",
    "import numpy as np\n",
    "\n",
    "# Gerando um array de 1 milhão de números aleatórios\n",
    "numeros = np.random.random(1000000)\n",
    "\n",
    "soma_direta = np.sum(numeros)\n",
    "soma_reversa = np.sum(numeros[::-1])\n",
    "\n",
    "print('Soma direta:', soma_direta)\n",
    "print('Soma reversa:', soma_reversa)"
   ]
  },
  {
   "cell_type": "markdown",
   "metadata": {},
   "source": [
    "### 7.2 Erro na Interpolação Numérica\n",
    "\n",
    "Ao realizar interpolação, principalmente com polinômios, os erros numéricos podem se acumular e afetar a qualidade da aproximação. A seguir, um exemplo utilizando o polinômio de Lagrange."
   ]
  },
  {
   "cell_type": "code",
   "metadata": {},
   "execution_count": null,
   "outputs": [],
   "source": [
    "# Exemplo 7: Interpolação usando o polinômio de Lagrange\n",
    "import numpy as np\n",
    "import matplotlib.pyplot as plt\n",
    "\n",
    "def lagrange_interpolation(x, y, x_new):\n",
    "    n = len(x)\n",
    "    y_new = 0\n",
    "    for i in range(n):\n",
    "        term = y[i]\n",
    "        for j in range(n):\n",
    "            if i != j:\n",
    "                term *= (x_new - x[j]) / (x[i] - x[j])\n",
    "        y_new += term\n",
    "    return y_new\n",
    "\n",
    "# Dados de exemplo\n",
    "x = np.linspace(0, 1, 10)\n",
    "y = np.sin(2 * np.pi * x)\n",
    "\n",
    "# Interpolação em um ponto específico\n",
    "x_new = 0.55\n",
    "y_new = lagrange_interpolation(x, y, x_new)\n",
    "print('Valor interpolado:', y_new)\n",
    "\n",
    "# Visualização da interpolação\n",
    "plt.scatter(x, y, color='red', label='Dados')\n",
    "x_dense = np.linspace(0, 1, 100)\n",
    "y_dense = [lagrange_interpolation(x, y, xi) for xi in x_dense]\n",
    "plt.plot(x_dense, y_dense, label='Interpolação')\n",
    "plt.legend()\n",
    "plt.show()"
   ]
  },
  {
   "cell_type": "markdown",
   "metadata": {},
   "source": [
    "## 8. Conclusão\n",
    "\n",
    "Neste tutorial, exploramos os principais erros numéricos em cálculos computacionais, incluindo:\n",
    "\n",
    "- **Erros de Arredondamento:** Problemas decorrentes da representação limitada dos números em ponto flutuante.\n",
    "- **Erros de Cancelamento:** Perda de significância ao subtrair números próximos.\n",
    "- **Erros de Truncamento:** Aproximações em séries e métodos iterativos.\n",
    "\n",
    "Também discutimos técnicas para mitigar esses erros, utilizando ferramentas como o módulo `decimal` e escolhendo algoritmos numericamente estáveis. Esperamos que os exemplos e a discussão ajudem a compreender os desafios e soluções na computação numérica."
   ]
  },
  {
   "cell_type": "markdown",
   "metadata": {},
   "source": [
    "### Referências e Leituras Adicionais\n",
    "\n",
    "- **Livro:** _Numerical Analysis_ de Richard L. Burden e J. Douglas Faires.\n",
    "- **Documentação do Python (módulo decimal):** [Python Decimal](https://docs.python.org/3/library/decimal.html)\n",
    "- **Documentação do NumPy:** [NumPy](https://numpy.org/doc/)\n"
   ]
  }
 ],
 "metadata": {
  "colab": {
   "name": "Tutorial_Erros_Numericos.ipynb",
   "provenance": []
  },
  "kernelspec": {
   "display_name": "Python 3",
   "language": "python",
   "name": "python3"
  },
  "language_info": {
   "name": "python",
   "version": "3.x"
  }
 },
 "nbformat": 4,
 "nbformat_minor": 2
}
