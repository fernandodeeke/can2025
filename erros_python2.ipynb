{
  "cells": [
    {
      "cell_type": "markdown",
      "metadata": {},
      "source": [
        "# Tutorial: Erros Numéricos em Python\n",
        "**Objetivo:** Introduzir erros numéricos (arredondamento, truncamento, cancelamento) e estratégias de mitigação usando exemplos em Python.\n",
        "\n",
        "---"
      ]
    },
    {
      "cell_type": "markdown",
      "metadata": {},
      "source": [
        "## 1. Introdução aos Erros Numéricos (15 min)\n",
        "**Conceitos-chave:**\n",
        "- Representação de ponto flutuante (IEEE 754).\n",
        "- Diferença entre erros de arredondamento e truncamento.\n",
        "- Importância em cálculos científicos."
      ]
    },
    {
      "cell_type": "code",
      "execution_count": null,
      "metadata": {},
      "outputs": [],
      "source": [
        "# Exemplo 1: Problemas com ponto flutuante\n",
        "print(0.1 + 0.2)  # Resultado: 0.30000000000000004\n",
        "print(1.1 * 3)    # Resultado: 3.3000000000000003"
      ]
    },
    {
      "cell_type": "markdown",
      "metadata": {},
      "source": [
        "**Exercício 1:** Some `0.1` dez vezes e verifique se o resultado é igual a `1.0`."
      ]
    },
    {
      "cell_type": "markdown",
      "metadata": {},
      "source": [
        "## 2. Erros de Arredondamento (35 min)\n",
        "**Conceitos-chave:**\n",
        "- Precisão limitada de números de ponto flutuante.\n",
        "- Acúmulo de erros em cálculos iterativos."
      ]
    },
    {
      "cell_type": "code",
      "execution_count": null,
      "metadata": {},
      "outputs": [],
      "source": [
        "# Exemplo 2: Acúmulo de erros\n",
        "soma = 0.0\n",
        "for _ in range(10):\n",
        "    soma += 0.1\n",
        "print(soma == 1.0)  # False"
      ]
    },
    {
      "cell_type": "markdown",
      "metadata": {},
      "source": [
        "**Exercício 2:** Calcule `1e-16 + 1 - 1` e explique o resultado."
      ]
    },
    {
      "cell_type": "markdown",
      "metadata": {},
      "source": [
        "## 3. Erros de Truncamento (35 min)\n",
        "**Conceitos-chave:**\n",
        "- Aproximações em processos matemáticos (ex: séries de Taylor)."
      ]
    },
    {
      "cell_type": "code",
      "execution_count": null,
      "metadata": {},
      "outputs": [],
      "source": [
        "# Exemplo 4: Aproximação de e^x com série de Taylor\n",
        "import math\n",
        "\n",
        "def taylor_exp(x, termos):\n",
        "    resultado = 0.0\n",
        "    for n in range(termos):\n",
        "        resultado += x**n / math.factorial(n)\n",
        "    return resultado\n",
        "\n",
        "print(taylor_exp(1, 10))  # ~2.718281828459045\n",
        "print(math.exp(1))        # Valor real"
      ]
    },
    {
      "cell_type": "markdown",
      "metadata": {},
      "source": [
        "## 4. Cancelamento Catastrófico (20 min)\n",
        "**Conceitos-chave:**\n",
        "- Perda de precisão ao subtrair números próximos."
      ]
    },
    {
      "cell_type": "code",
      "execution_count": null,
      "metadata": {},
      "outputs": [],
      "source": [
        "# Exemplo 6: Reformulação para evitar cancelamento\n",
        "x = 1e-16\n",
        "print(math.sqrt(x**2 + 1) - 1)  # 0.0 (errado)\n",
        "print((x**2)/(math.sqrt(x**2 + 1) + 1))  # Reformulação estável"
      ]
    },
    {
      "cell_type": "markdown",
      "metadata": {},
      "source": [
        "## 5. Estratégias de Mitigação (20 min)\n",
        "**Conceitos-chave:**\n",
        "- Rearranjo de algoritmos.\n",
        "- Uso de precisão arbitrária."
      ]
    },
    {
      "cell_type": "code",
      "execution_count": null,
      "metadata": {},
      "outputs": [],
      "source": [
        "# Exemplo 8: Módulo decimal para precisão arbitrária\n",
        "from decimal import Decimal, getcontext\n",
        "getcontext().prec = 50\n",
        "print(Decimal('0.1') + Decimal('0.2'))  # 0.3 exato"
      ]
    },
    {
      "cell_type": "markdown",
      "metadata": {},
      "source": [
        "## 6. Exercícios Práticos (25 min)\n",
        "1. **Exercício 5:** Calcule a soma de 1/n de 1 a 1e6 em ordem crescente e decrescente\n",
        "2. **Exercício 6:** Implemente a derivada central e compare com a diferença progressiva\n",
        "3. **Exercício 7:** Reformule log(1+x) para x pequeno"
      ]
    },
    {
      "cell_type": "markdown",
      "metadata": {},
      "source": [
        "---\n",
        "**Materiais Necessários:**\n",
        "- Ambiente Python (recomenda-se Jupyter Notebook)\n",
        "- Bibliotecas: math, struct, decimal\n",
        "\n",
        "**Resultados Esperados:**\n",
        "- Capacidade de diagnosticar erros numéricos\n",
        "- Implementação de algoritmos numericamente estáveis"
      ]
    }
  ],
  "metadata": {
    "kernelspec": {
      "display_name": "Python 3",
      "language": "python",
      "name": "python3"
    },
    "language_info": {
      "codemirror_mode": {
        "name": "ipython",
        "version": 3
      },
      "file_extension": ".py",
      "mimetype": "text/x-python",
      "name": "python",
      "nbconvert_exporter": "python",
      "pygments_lexer": "ipython3",
      "version": "3.8.5"
    }
  },
  "nbformat": 4,
  "nbformat_minor": 4
}