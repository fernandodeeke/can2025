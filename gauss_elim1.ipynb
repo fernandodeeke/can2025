{
  "cells": [
    {
      "cell_type": "markdown",
      "metadata": {
        "id": "view-in-github",
        "colab_type": "text"
      },
      "source": [
        "<a href=\"https://colab.research.google.com/github/fernandodeeke/can2025/blob/main/gauss_elim1.ipynb\" target=\"_parent\"><img src=\"https://colab.research.google.com/assets/colab-badge.svg\" alt=\"Open In Colab\"/></a>"
      ]
    },
    {
      "cell_type": "markdown",
      "metadata": {
        "id": "AVyQzJ32Yt6O"
      },
      "source": [
        "<center> <h1> </h1>    </center>\n",
        "<center><h1>Análise Numérica</h1></center>\n",
        "<center><h2>2025/1</h2></center>\n",
        "<center><h3>Eliminação Gaussiana - Parte 1</h3></center>\n",
        "<center><h4>Prof. Fernando Deeke Sasse - CCT, UDESC</h4></center>\n",
        "<center><h3>04 de março de 2025</h3></center>"
      ]
    },
    {
      "cell_type": "markdown",
      "metadata": {
        "id": "d-DtCiaWYt6R"
      },
      "source": [
        "### 1.  Sistemas Lineares - Introdução\n",
        "\n",
        "Definiremos funções em Python que realizam as operações elementares sobre linhas de uma matriz que serão úteis para resolver sistemas de equações lineares ou simplesmente, sistemas lineares.  Um [sistema linear](https://pt.wikipedia.org/wiki/Sistema_de_equações_lineares) é um conjunto de equações lineares acopladas entre por meio de variáveis $x_1,\\ldots, x_n$, da forma:\n",
        "\n",
        "\\begin{align}\n",
        "a_{11}x_1 + a_{12}x_2 + \\cdots + a_{1n}x_n & = b_1 \\\\\\\n",
        "a_{10}x_1 + a_{22}x_2 + \\cdots + a_{2n}x_n & = b_2 \\\\\\\n",
        "& \\vdots \\\\\\\n",
        "a_{m1}x_1 + a_{m1}x_2 + \\cdots + a_{mn}x_n & = b_m \\\\\\\n",
        "\\end{align}\n",
        "\n",
        "Em notação matricial o sistema linear de $n$ equações  e $n$ incógnitas é representado na forma\n",
        " $A X= B$, sendo\n",
        "\n",
        "$$\n",
        "A = \\begin{bmatrix}\n",
        "a_{11} & a_{12} & \\cdots & a_{1n} \\\\\n",
        "a_{21} & a_{22} & \\cdots & a_{2n} \\\\\n",
        "\\vdots & & & \\vdots \\\\\\\n",
        "a_{n 1} & a_{n 2} & \\cdots & a_{n n} \\\\\n",
        "\\end{bmatrix}\n",
        " \\ \\ , \\ \\\n",
        "X = \\begin{bmatrix}\n",
        "x_1 \\\\\\ x_2 \\\\ \\vdots \\\\ x_n\n",
        "\\end{bmatrix}\n",
        " \\ \\ , \\ \\\n",
        "B = \\begin{bmatrix}\n",
        "b_1 \\\\\\ b_2 \\\\\\ \\vdots \\\\ b_n\n",
        "\\end{bmatrix}\n",
        "$$\n",
        "\n",
        "O que chamamos de matriz ampliada associada ao sistema linear $AX=B$ é a matriz definida por\n",
        "\n",
        "$$\n",
        "[A|B] = \\begin{bmatrix}\n",
        "a_{11} & a_{12} & \\cdots & a_{1n}& b_{1} \\\\\n",
        "a_{21} & a_{22} & \\cdots & a_{1n}& b_{2} \\\\\n",
        "\\vdots & & & \\vdots \\\\\n",
        "a_{n1} & a_{n2} & \\cdots & a_{nn} & b_{n}\\\\\n",
        "\\end{bmatrix}\n",
        "$$\n",
        "\n",
        "O método da eliminação gaussiana para sistemas lineares, que trataremos a seguir faz uso da matriz ampliada.\n"
      ]
    },
    {
      "cell_type": "markdown",
      "metadata": {
        "id": "7kmup1dZYt6R"
      },
      "source": [
        "### 2. Eliminação Gaussiana - Introdução\n",
        "\n",
        "O chamado método da eliminação gaussiana é o método direto mais utilizado para resolver sistemas lineares e é a base para todas as variantes de métodos de eliminação. O método descrito aqui é também chamado *eliminação gaussiana simples*, para distingui-lo de outros mais aperfeiçoados (mas computacionalmente mais lentos).  Ele consiste de duas etapas:\n",
        "\n",
        "1. Fase de eliminação: realizamos a eliminação dos elementos abaixo da diagonal principal da matriz ampliada $[A|B]$ por meio de transformações elementares sobre matrizes, até obtermos a forma escalonada.\n",
        "2. Retrosubstituição.\n",
        "\n",
        "Descreveremos a seguir cada uma destas etapas:"
      ]
    },
    {
      "cell_type": "markdown",
      "metadata": {
        "id": "xptc3aoeYt6S"
      },
      "source": [
        "#### (a) Fase de eliminação\n",
        "Nesta fase usamos as chamadas *operações elementares sobre linhas* da matriz ampliada. A ideia é que as linhas da matriz podem ser multiplicadas por fatores, somadas entre si e trocadas de ordem, sem que a solução do correspondente sistema linear seja alterada. A ideia consiste em realizar operações elementares de modo o colocar a matriz na forma escalalonada:\n",
        "\n",
        "$$\n",
        "[A|B] = \\begin{bmatrix}\n",
        "a_{11} & a_{12} & \\cdots & a_{1n}& b_{1} \\\\\n",
        "0 & a_{22} & \\cdots & a_{2n}& b_{2} \\\\\n",
        "\\vdots & & & \\vdots & \\vdots \\\\\n",
        "0 & 0 & \\cdots & a_{nn} & b_{n}\\\\\n",
        "\\end{bmatrix}\n",
        "$$\n",
        "\n",
        "O correspondente sistema agora tem a forma geral:\n",
        "\n",
        "\\begin{align}\n",
        "a_{11}x_1 + a_{12}x_2 + \\cdots + a_{1n}x_n & = b_1 \\\\\\\n",
        " a_{22}x_2 + \\cdots + a_{2n}x_n & = b_2 \\\\\\\n",
        "& \\vdots \\\\\\\n",
        " a_{nn}x_n & = b_n \\\\\\\n",
        "\\end{align}\n",
        "\n",
        "Nesta forma a solução pode ser facilmente obtida por meio do processo de retrosubstituição, descrito a seguir:"
      ]
    },
    {
      "cell_type": "markdown",
      "metadata": {
        "id": "ubd0LP41Yt6S"
      },
      "source": [
        "#### (b) Fase de retrosubstituição\n",
        "\n",
        "Começamos a resolver a corresponde última equação do sistema reduzido, ou seja,\n",
        "\n",
        "$$\n",
        "x_n=\\frac{b_n}{a_{nn}}\\,.\n",
        "$$\n",
        "\n",
        "Consideremos agora o estágio da retrosubstituição onde $x_n, x_{n-1}, \\ldots , x_{k+1} $ já foram computados e devemos computar $x_k$,  a partir da equação $k$:\n",
        "\n",
        "$$\n",
        "a_{kk}x_k+a_{k k+1} x_{k+1}+ \\cdots + a_{k n}x_n=b_k\\,.\n",
        "$$\n",
        "\n",
        "Resolvendo para $x_k$ obtemos\n",
        "\n",
        "$$\n",
        "x_k=\\frac{1}{a_{kk}}\\left(b_k-a_{k k+1} x_{k+1}- \\cdots - a_{k n}x_n\\right)= \\frac{1}{a_{kk}}\\left(b_k-\\sum_{j=k+1}^n a_{kj}x_j\\right)\\,.\n",
        "$$"
      ]
    },
    {
      "cell_type": "markdown",
      "metadata": {
        "id": "nu_tmA7AYt6S"
      },
      "source": [
        "A implementação deste método em Python será abordada mais adiante. Antes disso examinaremos com mais detalhe o processo de operações elementares sobre linhas em Python."
      ]
    },
    {
      "cell_type": "markdown",
      "metadata": {
        "id": "rTw2Gm29Yt6S"
      },
      "source": [
        "### 3. Operações Elementares sobre Linhas"
      ]
    },
    {
      "cell_type": "markdown",
      "metadata": {
        "id": "ObljjrVHYt6S"
      },
      "source": [
        "[Operações elementares sobre linhas](https://pt.wikipedia.org/wiki/Operação_elementar_(matrizes)) incluem:\n",
        "\n",
        "1. Adicionar $\\lambda$ vezes a linha $j$ à linha $i$.\n",
        "2. Multiplicar a linha $i$ pelo escalar $\\lambda$.\n",
        "3. Trocar entre si as linhas $i$ e $j$.\n",
        "\n",
        "Cada uma das operações elementares de linha pode ser entendida como o  resultado de uma multiplicação matricial à esquerda por uma matriz elementar.\n",
        "\n",
        "Para adicionar $k$ vezes a linha $i$ à linha $j$ em uma matriz $A$, multiplicamos $A$ pela matriz $E$ sendo $E$ igual à matriz identidade, exceto pela componente  $E_{ij} = k$.\n",
        "\n",
        "Por exemplo, se $A$ é a matriz ampliada dada por\n",
        "\n",
        "$$\n",
        "A = \\begin{bmatrix}\n",
        "6 & 1 & 2 & 3\\\\\\\n",
        "5 & 11 & -3 & 5\\\\\\\n",
        "-3 & 4 & 3 & 7\n",
        "\\end{bmatrix}\n",
        "$$\n",
        "\n",
        "e queremos adicionar 2 vezes a linha 2 à linha 0, então devemos calcular $E_1A$, sendo\n",
        "\n",
        "$$\n",
        "E_1 = \\begin{bmatrix}\n",
        "1 & 0 & 2 \\\\\\\n",
        "0 & 1 & 0 \\\\\\\n",
        "0 & 0 & 1\n",
        "\\end{bmatrix}\n",
        "$$\n",
        "\n",
        "De fato,"
      ]
    },
    {
      "cell_type": "code",
      "execution_count": null,
      "metadata": {
        "id": "CPROcr6ZYt6T"
      },
      "outputs": [],
      "source": [
        "import numpy as np"
      ]
    },
    {
      "cell_type": "code",
      "execution_count": null,
      "metadata": {
        "id": "OP22BRh6Yt6U",
        "outputId": "4d456565-ad07-42c5-a336-b46078cf410f"
      },
      "outputs": [
        {
          "name": "stdout",
          "output_type": "stream",
          "text": [
            "[[ 6  1  2  3]\n",
            " [ 5 11 -3  5]\n",
            " [-3  4  3  7]]\n"
          ]
        }
      ],
      "source": [
        "A = np.array([[6,1,2,3],[5,11,-3,5],[-3,4,3,7]])\n",
        "print(A)"
      ]
    },
    {
      "cell_type": "code",
      "execution_count": null,
      "metadata": {
        "id": "ZXciRFflYt6U",
        "outputId": "f30f6035-a8e2-4271-a9ef-6b7da1beb36d"
      },
      "outputs": [
        {
          "name": "stdout",
          "output_type": "stream",
          "text": [
            "[[1 0 2]\n",
            " [0 1 0]\n",
            " [0 0 1]]\n"
          ]
        }
      ],
      "source": [
        "E1 = np.array([[1,0,2],[0,1,0],[0,0,1]])\n",
        "print(E1)"
      ]
    },
    {
      "cell_type": "code",
      "execution_count": null,
      "metadata": {
        "id": "C0VJ5uKTYt6U",
        "outputId": "6c875c1e-4130-45b3-e66c-c5d4f04edff6"
      },
      "outputs": [
        {
          "data": {
            "text/plain": [
              "array([[ 0,  9,  8, 17],\n",
              "       [ 5, 11, -3,  5],\n",
              "       [-3,  4,  3,  7]])"
            ]
          },
          "execution_count": 12,
          "metadata": {},
          "output_type": "execute_result"
        }
      ],
      "source": [
        "E1@A"
      ]
    },
    {
      "cell_type": "markdown",
      "metadata": {
        "id": "t6QiyHYlYt6V"
      },
      "source": [
        "Suponhamos que queremos permutar as linhas 2 e 1 da matriz $A$. Para isso basta calcular $E_2A$, com\n",
        "\n",
        "$$\n",
        "E_2 = \\begin{bmatrix}\n",
        "1 & 0 & 0 \\\\\\\n",
        "0 & 0 & 1 \\\\\\\n",
        "0 & 1 & 0\n",
        "\\end{bmatrix}\\,.\n",
        "$$\n",
        "\n",
        "De fato,"
      ]
    },
    {
      "cell_type": "code",
      "execution_count": null,
      "metadata": {
        "id": "Rsw1ViJ5Yt6V",
        "outputId": "4757536f-a2df-4f32-9ce4-d92f9761c724"
      },
      "outputs": [
        {
          "name": "stdout",
          "output_type": "stream",
          "text": [
            "[[1 0 0]\n",
            " [0 0 1]\n",
            " [0 1 0]]\n"
          ]
        }
      ],
      "source": [
        "E2 = np.array([[1,0,0],[0,0,1],[0,1,0]])\n",
        "print(E2)"
      ]
    },
    {
      "cell_type": "code",
      "execution_count": null,
      "metadata": {
        "id": "7iOeYdv3Yt6V",
        "outputId": "9ff909e3-1965-4ca6-b3db-3e602f5f1c19"
      },
      "outputs": [
        {
          "data": {
            "text/plain": [
              "array([[ 6,  1,  2,  3],\n",
              "       [-3,  4,  3,  7],\n",
              "       [ 5, 11, -3,  5]])"
            ]
          },
          "execution_count": 14,
          "metadata": {},
          "output_type": "execute_result"
        }
      ],
      "source": [
        "E2 @ A"
      ]
    },
    {
      "cell_type": "markdown",
      "metadata": {
        "id": "KhMNQKTDYt6V"
      },
      "source": [
        "### 4. Funções em Python para as Operações Elementares sobre Linhas"
      ]
    },
    {
      "cell_type": "markdown",
      "metadata": {
        "id": "5iKtsymXYt6V"
      },
      "source": [
        "A seguir definiremos as funções que implementam as operações elementares sobre linhas por meio de multiplicação matricial."
      ]
    },
    {
      "cell_type": "markdown",
      "metadata": {
        "id": "EBpKKjAuYt6V"
      },
      "source": [
        "#### 4.1 Soma de linhas"
      ]
    },
    {
      "cell_type": "markdown",
      "metadata": {
        "id": "uyoEaSsPYt6V"
      },
      "source": [
        "Definimos uma função chamado soma_linhas que tem como entradas a matriz $A$, índices $k$, $i$ e $j$ e como saída a matriz que resulta da soma da linha $j$ multiplicada por $k$ com a linha $i$. Se $i=i$, basta definir $E_{ii}=k+1$."
      ]
    },
    {
      "cell_type": "code",
      "execution_count": null,
      "metadata": {
        "id": "1dkucHjqYt6V"
      },
      "outputs": [],
      "source": [
        "def soma_linha(A,k,i,j):\n",
        "    \"Soma k vezes a linha j à linha i na matriz A\"\n",
        "    n=A.shape[0]\n",
        "    E=np.eye(n)\n",
        "    if i == j:\n",
        "        E[i,i] = k+1\n",
        "    else:\n",
        "        E[i,j] = k\n",
        "    return E@A"
      ]
    },
    {
      "cell_type": "markdown",
      "metadata": {
        "id": "9Z90FBaFYt6V"
      },
      "source": [
        "Testemos a função para a redução de uma matriz à forma triangular superior."
      ]
    },
    {
      "cell_type": "code",
      "execution_count": null,
      "metadata": {
        "id": "160e2qaLYt6V",
        "outputId": "46b3fe66-1d69-4e64-caae-974f30a3ad6d"
      },
      "outputs": [
        {
          "data": {
            "text/plain": [
              "array([[ 1,  2,  3,  8],\n",
              "       [ 4,  5,  6, 10],\n",
              "       [ 7,  8,  4, 11]])"
            ]
          },
          "execution_count": 22,
          "metadata": {},
          "output_type": "execute_result"
        }
      ],
      "source": [
        "M=np.array([[1,2,3,8],[4,5,6,10], [7,8,4,11]])\n",
        "M"
      ]
    },
    {
      "cell_type": "code",
      "execution_count": null,
      "metadata": {
        "id": "92FjtGPyYt6V",
        "outputId": "90990e19-e417-415b-c1ed-2c83d21e6145"
      },
      "outputs": [
        {
          "data": {
            "text/plain": [
              "array([[  1.,   2.,   3.,   8.],\n",
              "       [  0.,  -3.,  -6., -22.],\n",
              "       [  0.,   0.,  -5.,  -1.]])"
            ]
          },
          "execution_count": 23,
          "metadata": {},
          "output_type": "execute_result"
        }
      ],
      "source": [
        "M1 = soma_linha(M,-4,1,0)\n",
        "M2 = soma_linha(M1,-7,2,0)\n",
        "M3 = soma_linha(M2,-2,2,1)\n",
        "M3"
      ]
    },
    {
      "cell_type": "markdown",
      "metadata": {
        "id": "ZISAHhmwYt6W"
      },
      "source": [
        "#### 4.2 Reescala de linhas"
      ]
    },
    {
      "cell_type": "markdown",
      "metadata": {
        "id": "7OHwodc8Yt6W"
      },
      "source": [
        "Vamos definir uma função chamada escala_linha que tem como entradas a matriz $A$ e os índices $k$ e $i$ e como saída a matriz que resulta da multiplicação por $k$ da linha $i$ de $A$."
      ]
    },
    {
      "cell_type": "code",
      "execution_count": null,
      "metadata": {
        "id": "D7vNAjF_Yt6W"
      },
      "outputs": [],
      "source": [
        "def escala_linha(A,k,i):\n",
        "    \"Multiplica a linha i por k na matriz A\"\n",
        "    n=A.shape[0]\n",
        "    E=np.eye(n)\n",
        "    E[i,i] = k\n",
        "    return E@A"
      ]
    },
    {
      "cell_type": "markdown",
      "metadata": {
        "id": "e9lDAJx6Yt6W"
      },
      "source": [
        "Consideremos novamente a matriz $M$:"
      ]
    },
    {
      "cell_type": "code",
      "execution_count": null,
      "metadata": {
        "id": "lMpavJAvYt6W",
        "outputId": "4c25e301-f0df-45ef-877a-1575f7f87a9e"
      },
      "outputs": [
        {
          "data": {
            "text/plain": [
              "array([[ 1,  2,  3,  8],\n",
              "       [ 4,  5,  6, 10],\n",
              "       [ 7,  8,  4, 11]])"
            ]
          },
          "execution_count": 25,
          "metadata": {},
          "output_type": "execute_result"
        }
      ],
      "source": [
        "M"
      ]
    },
    {
      "cell_type": "markdown",
      "metadata": {
        "id": "UQ2WHn5XYt6W"
      },
      "source": [
        "Multipliquemos a segunda linha por 1/4:"
      ]
    },
    {
      "cell_type": "code",
      "execution_count": null,
      "metadata": {
        "id": "bG2FZ2MsYt6W",
        "outputId": "20bdf32a-28d7-4e80-ab05-403019051e73"
      },
      "outputs": [
        {
          "data": {
            "text/plain": [
              "array([[ 1.  ,  2.  ,  3.  ,  8.  ],\n",
              "       [ 1.  ,  1.25,  1.5 ,  2.5 ],\n",
              "       [ 7.  ,  8.  ,  4.  , 11.  ]])"
            ]
          },
          "execution_count": 26,
          "metadata": {},
          "output_type": "execute_result"
        }
      ],
      "source": [
        "escala_linha(M,1/4,1)"
      ]
    },
    {
      "cell_type": "markdown",
      "metadata": {
        "id": "b9VJXxnNYt6W"
      },
      "source": [
        "#### 4.3 Troca de linhas"
      ]
    },
    {
      "cell_type": "markdown",
      "metadata": {
        "id": "nAP0Fl_gYt6W"
      },
      "source": [
        "Vamos definir uma função chamada troca_linhas que tem como entradas a matriz $A$ e os índices $i$ e $j$ e como saída a matriz resultante da troca das linhas $i$ e $j$ de $A$."
      ]
    },
    {
      "cell_type": "code",
      "execution_count": null,
      "metadata": {
        "id": "b3OBTzDZYt6W"
      },
      "outputs": [],
      "source": [
        "def troca_linhas(A,i,j):\n",
        "    \"Troca as linhas i e j de A\"\n",
        "    n=A.shape[0]\n",
        "    E=np.eye(n)\n",
        "    E[i,i]=0\n",
        "    E[j,j]=0\n",
        "    E[i,j]=1\n",
        "    E[j,i]=1\n",
        "    return E@A"
      ]
    },
    {
      "cell_type": "markdown",
      "metadata": {
        "id": "nolpPsqdYt6W"
      },
      "source": [
        "Consideremos novamente a matriz $M$:"
      ]
    },
    {
      "cell_type": "code",
      "execution_count": null,
      "metadata": {
        "id": "f49PJWUhYt6W",
        "outputId": "b693286e-4340-4bb2-863c-6b1a14f40ee8"
      },
      "outputs": [
        {
          "data": {
            "text/plain": [
              "array([[ 1,  2,  3,  8],\n",
              "       [ 4,  5,  6, 10],\n",
              "       [ 7,  8,  4, 11]])"
            ]
          },
          "execution_count": 28,
          "metadata": {},
          "output_type": "execute_result"
        }
      ],
      "source": [
        "M"
      ]
    },
    {
      "cell_type": "markdown",
      "metadata": {
        "id": "y31TKBq3Yt6W"
      },
      "source": [
        "Troquemos a primeira pela terceira linha:"
      ]
    },
    {
      "cell_type": "code",
      "execution_count": null,
      "metadata": {
        "id": "uz1RxwkwYt6X",
        "outputId": "3fbb4a15-7a53-4b58-dc70-053fe43fa2f0"
      },
      "outputs": [
        {
          "data": {
            "text/plain": [
              "array([[ 2.,  7.,  8.],\n",
              "       [ 8.,  7., 12.],\n",
              "       [ 6., 15.,  1.]])"
            ]
          },
          "execution_count": 29,
          "metadata": {},
          "output_type": "execute_result"
        }
      ],
      "source": [
        "troca_linhas(A,0,2)"
      ]
    },
    {
      "cell_type": "markdown",
      "metadata": {
        "id": "CkDR3lLzYt6X"
      },
      "source": [
        "### 5. Exemplo de Solução de um Sistema Linear com Eliminação Gaussiana\n",
        "\n",
        "Usemos eliminação de Gauss para resolver o sistema $A X = B$, com $A$ e $B$ definidos abaixo:"
      ]
    },
    {
      "cell_type": "code",
      "execution_count": null,
      "metadata": {
        "id": "XaeH1oyAYt6X",
        "outputId": "0e1d633b-bf5f-4c8b-e565-5a97cd51d478"
      },
      "outputs": [
        {
          "name": "stdout",
          "output_type": "stream",
          "text": [
            "[[ 6 15  1]\n",
            " [ 8  7 12]\n",
            " [ 2  7  8]]\n"
          ]
        }
      ],
      "source": [
        "A = np.array([[6,15,1],[8,7,12],[2,7,8]])\n",
        "print(A)"
      ]
    },
    {
      "cell_type": "code",
      "execution_count": null,
      "metadata": {
        "id": "SlOaKJZkYt6i",
        "outputId": "82446f90-6c26-42bf-96ea-374a507b2ff7"
      },
      "outputs": [
        {
          "name": "stdout",
          "output_type": "stream",
          "text": [
            "[[ 2]\n",
            " [14]\n",
            " [10]]\n"
          ]
        }
      ],
      "source": [
        "B = np.array([[2],[14],[10]])\n",
        "print(B)"
      ]
    },
    {
      "cell_type": "markdown",
      "metadata": {
        "id": "pE5nYfBrYt6i"
      },
      "source": [
        "Formemos a matriz aumentada $M$:"
      ]
    },
    {
      "cell_type": "code",
      "execution_count": null,
      "metadata": {
        "id": "xliZZXVBYt6i",
        "outputId": "2dfb0325-1c39-4f41-a75d-f98fd00986da"
      },
      "outputs": [
        {
          "name": "stdout",
          "output_type": "stream",
          "text": [
            "[[ 6 15  1  2]\n",
            " [ 8  7 12 14]\n",
            " [ 2  7  8 10]]\n"
          ]
        }
      ],
      "source": [
        "M = np.hstack([A,B])\n",
        "print(M)"
      ]
    },
    {
      "cell_type": "markdown",
      "metadata": {
        "id": "xTcPilW9Yt6i"
      },
      "source": [
        "Façamos agora as operações elementares sobre linhas:"
      ]
    },
    {
      "cell_type": "code",
      "execution_count": null,
      "metadata": {
        "id": "ALAfnahHYt6i",
        "outputId": "da3d44ec-c599-4734-ee9a-ca3fc0c56caa"
      },
      "outputs": [
        {
          "name": "stdout",
          "output_type": "stream",
          "text": [
            "[[  6.          15.           1.           2.        ]\n",
            " [  0.         -13.          10.66666667  11.33333333]\n",
            " [  2.           7.           8.          10.        ]]\n"
          ]
        }
      ],
      "source": [
        "M1 = soma_linha(M,-M[1,0]/M[0,0],1,0)\n",
        "print(M1)"
      ]
    },
    {
      "cell_type": "code",
      "execution_count": null,
      "metadata": {
        "id": "AyEaRov4Yt6i",
        "outputId": "3183f786-290a-4f88-8cd7-450ba6ca91dd"
      },
      "outputs": [
        {
          "name": "stdout",
          "output_type": "stream",
          "text": [
            "[[  6.          15.           1.           2.        ]\n",
            " [  0.         -13.          10.66666667  11.33333333]\n",
            " [  0.           2.           7.66666667   9.33333333]]\n"
          ]
        }
      ],
      "source": [
        "M2 = soma_linha(M1,-M1[2,0]/M1[0,0],2,0)\n",
        "print(M2)"
      ]
    },
    {
      "cell_type": "code",
      "execution_count": null,
      "metadata": {
        "id": "f5VgnBjAYt6i",
        "outputId": "f43f7576-4cee-4257-e532-0960f61b66ee"
      },
      "outputs": [
        {
          "name": "stdout",
          "output_type": "stream",
          "text": [
            "[[  6.          15.           1.           2.        ]\n",
            " [  0.         -13.          10.66666667  11.33333333]\n",
            " [  0.           0.           9.30769231  11.07692308]]\n"
          ]
        }
      ],
      "source": [
        "M3 = soma_linha(M2,-M2[2,1]/M2[1,1],2,1)\n",
        "print(M3)"
      ]
    },
    {
      "cell_type": "markdown",
      "metadata": {
        "id": "ncX0ZZS8Yt6i"
      },
      "source": [
        "Portanto, realizando a retrosubstituição obtemos"
      ]
    },
    {
      "cell_type": "code",
      "execution_count": null,
      "metadata": {
        "id": "G1RlBgK3Yt6i",
        "outputId": "674c9746-fa6b-48cb-c9f4-0c7b8e069b83"
      },
      "outputs": [
        {
          "data": {
            "text/plain": [
              "1.1900826446280992"
            ]
          },
          "execution_count": 65,
          "metadata": {},
          "output_type": "execute_result"
        }
      ],
      "source": [
        "x2 = M3[2,3]/M3[2,2]\n",
        "x2"
      ]
    },
    {
      "cell_type": "code",
      "execution_count": null,
      "metadata": {
        "id": "rUaT8pN2Yt6i",
        "outputId": "67ca2867-2c46-42cf-b55e-be847e16837b"
      },
      "outputs": [
        {
          "data": {
            "text/plain": [
              "0.10468319559228649"
            ]
          },
          "execution_count": 66,
          "metadata": {},
          "output_type": "execute_result"
        }
      ],
      "source": [
        "x1 = 1./M3[1,1]*(M3[1,3]-M3[1,2]*x2)\n",
        "x1"
      ]
    },
    {
      "cell_type": "code",
      "execution_count": null,
      "metadata": {
        "id": "vkbXz60uYt6i",
        "outputId": "964981a7-dcf4-495c-c1b9-86a157447745"
      },
      "outputs": [
        {
          "data": {
            "text/plain": [
              "-0.12672176308539942"
            ]
          },
          "execution_count": 67,
          "metadata": {},
          "output_type": "execute_result"
        }
      ],
      "source": [
        "x0 = 1./M3[0,0]*(M3[0,3]-M3[0,1]*x1-M3[0,2]*x2)\n",
        "x0"
      ]
    },
    {
      "cell_type": "markdown",
      "metadata": {
        "id": "oXDKRe4ZYt6i"
      },
      "source": [
        "Ou seja, a solução é dada por"
      ]
    },
    {
      "cell_type": "code",
      "execution_count": null,
      "metadata": {
        "id": "8pekzuyXYt6i",
        "outputId": "6c005dc8-66b2-4f74-88c2-3ef87ea0e93f"
      },
      "outputs": [
        {
          "data": {
            "text/plain": [
              "array([[-0.12672176],\n",
              "       [ 0.1046832 ],\n",
              "       [ 1.19008264]])"
            ]
          },
          "execution_count": 76,
          "metadata": {},
          "output_type": "execute_result"
        }
      ],
      "source": [
        "x = np.transpose(np.array([[x0,x1,x2]]))\n",
        "x"
      ]
    },
    {
      "cell_type": "markdown",
      "metadata": {
        "id": "zIW18OkIYt6j"
      },
      "source": [
        "Verifiquemos o resultado calculando o resíduo."
      ]
    },
    {
      "cell_type": "code",
      "execution_count": null,
      "metadata": {
        "id": "twEv-0kbYt6j",
        "outputId": "4c6425b4-b771-4f78-8e30-f6da50a01e08"
      },
      "outputs": [
        {
          "data": {
            "text/plain": [
              "array([[0.],\n",
              "       [0.],\n",
              "       [0.]])"
            ]
          },
          "execution_count": 77,
          "metadata": {},
          "output_type": "execute_result"
        }
      ],
      "source": [
        "A@x-B"
      ]
    },
    {
      "cell_type": "markdown",
      "metadata": {
        "id": "9dnb1uu-Yt6j"
      },
      "source": [
        "Este resultado pode ser obtido diretamente usando o comando do numpy:"
      ]
    },
    {
      "cell_type": "code",
      "execution_count": null,
      "metadata": {
        "id": "vDmUspDBYt6j",
        "outputId": "7870f880-bf6c-4439-e23e-0a5509130e51"
      },
      "outputs": [
        {
          "name": "stdout",
          "output_type": "stream",
          "text": [
            "[[-0.12672176]\n",
            " [ 0.1046832 ]\n",
            " [ 1.19008264]]\n"
          ]
        }
      ],
      "source": [
        "x = np.linalg.solve(A,B)\n",
        "print(x)"
      ]
    },
    {
      "cell_type": "markdown",
      "metadata": {
        "id": "fWbXqX3QYt6j"
      },
      "source": [
        "### 6.  Exercício"
      ]
    },
    {
      "cell_type": "markdown",
      "metadata": {
        "id": "JeHTeH7uYt6j"
      },
      "source": [
        "Use eliminação gaussiana passo a passo, usando opereções elementares sobre linhas, para resolver o sistema o sistema linear $AX=B$ com\n",
        "\n",
        "$$\n",
        "A = \\begin{bmatrix}\n",
        "0 & 2 & 3& 5 \\\\\n",
        "4 & -5 & 6& -3 \\\\\n",
        "1 & 5 & 2 & 1\\\\\n",
        "2 & -4 & 1 & 3\n",
        "\\end{bmatrix}\\,,\n",
        "\\qquad\n",
        "B =\n",
        "\\begin{bmatrix}\n",
        "1  \\\\\n",
        "-4  \\\\\n",
        "2\\\\\n",
        "3\\\\\n",
        "\\end{bmatrix}\\,.\n",
        "$$\n",
        "\n",
        "Verifique a validade do resultado calculando o resíduo e obtenha o mesmo resultado usando o solver do numpy.\n"
      ]
    }
  ],
  "metadata": {
    "kernelspec": {
      "display_name": "Python 3 (ipykernel)",
      "language": "python",
      "name": "python3"
    },
    "language_info": {
      "codemirror_mode": {
        "name": "ipython",
        "version": 3
      },
      "file_extension": ".py",
      "mimetype": "text/x-python",
      "name": "python",
      "nbconvert_exporter": "python",
      "pygments_lexer": "ipython3",
      "version": "3.9.13"
    },
    "colab": {
      "provenance": [],
      "include_colab_link": true
    }
  },
  "nbformat": 4,
  "nbformat_minor": 0
}