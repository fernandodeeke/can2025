{
  "cells": [
    {
      "cell_type": "markdown",
      "metadata": {
        "id": "view-in-github",
        "colab_type": "text"
      },
      "source": [
        "<a href=\"https://colab.research.google.com/github/fernandodeeke/can2025/blob/main/gauss_elim_2.ipynb\" target=\"_parent\"><img src=\"https://colab.research.google.com/assets/colab-badge.svg\" alt=\"Open In Colab\"/></a>"
      ]
    },
    {
      "cell_type": "markdown",
      "metadata": {
        "id": "Iaz7EdvAZ8D6"
      },
      "source": [
        "<center><h1></h1></center>\n",
        "<center><h1>Análise Numérica</h1></center>\n",
        "<center><h2>2025/1</h2></center>\n",
        "<center><h3>Eliminação Gaussiana - Parte 2</h3></center>\n",
        "<center><h4>Prof. Fernando Deeke Sasse - CCT, UDESC</h4></center>\n",
        "<center><h3>2025</h3></center>"
      ]
    },
    {
      "cell_type": "markdown",
      "metadata": {
        "id": "BC6tXSxhZ8D8"
      },
      "source": [
        "### 1. Eliminação gaussiana simples - Revisão\n",
        "\n",
        "Já descrevemos anteriormente as operações elementares de linha, essenciais no processo de eliminação gaussiana simples. Nosso objetivo agora é automatizar o processo definindo uma função em Python capaz de realizar essas etapas de uma só vez. Consideraremos novamente um [sistema linear](https://pt.wikipedia.org/wiki/Sistema_de_equações_lineares) com $n$ equações e $n$ incógnitas para as variáveis $x_1,\\ldots, x_n$, da forma:\n",
        "\n",
        "\\begin{align}\n",
        "a_{11}x_1 + a_{12}x_2 + \\cdots + a_{1n}x_n & = b_1 \\\\\\\n",
        "a_{21}x_1 + a_{22}x_2 + \\cdots + a_{2n}x_n & = b_2 \\\\\\\n",
        "& \\vdots \\\\\\\n",
        "a_{n1}x_1 + a_{m1}x_2 + \\cdots + a_{nn}x_n & = b_n\n",
        "\\end{align}\n",
        "\n",
        " Em notação matricial o sistema linear é representado na forma\n",
        " $A X= B$, sendo\n",
        "\n",
        "$$\n",
        "A = \\begin{bmatrix}\n",
        "a_{11} & a_{12} & \\cdots & a_{1n} \\\\\\\n",
        "a_{21} & a_{22} & \\cdots & a_{2n} \\\\\\\n",
        "\\vdots & & & \\vdots \\\\\\\n",
        "a_{n1} & a_{n2} & \\cdots & a_{nn}\n",
        "\\end{bmatrix}\n",
        " \\ \\ , \\ \\\n",
        "X = \\begin{bmatrix}\n",
        "x_1 \\\\\\ x_2 \\\\\\ \\vdots \\\\\\ x_n\n",
        "\\end{bmatrix}\n",
        " \\ \\ , \\ \\\n",
        "B = \\begin{bmatrix}\n",
        "b_1 \\\\\\ b_2 \\\\\\ \\vdots \\\\\\ b_n\n",
        "\\end{bmatrix}\n",
        "$$"
      ]
    },
    {
      "cell_type": "markdown",
      "metadata": {
        "id": "Ug7slQOgZ8D8"
      },
      "source": [
        "O chamado método da eliminação gaussiana simples é o método direto mais utilizado para resolver sistemas lineares e é a base para todas as variantes de métodos de eliminação. Ele consiste de duas etapas:\n",
        "\n",
        "1. Fase de eliminação: realizamos a eliminação dos elementos abaixo da diagonal principal da matriz ampliada $[A|B]$ por meio de transformações elementares sobre matrizes, até obtermos a forma escalonada.\n",
        "2. Retrosubstituição.\n",
        "\n",
        "Descreveremos a seguir cada uma destas etapas, já definindo uma função em Python que realizada cada etapa:"
      ]
    },
    {
      "cell_type": "markdown",
      "metadata": {
        "id": "bNNqPkhWZ8D8"
      },
      "source": [
        "### 2. Fase de eliminação\n",
        "Chamamos *linha pivot* a linha acima da qual todos os elementos abaixo da diagonal principal já foram zerados.\n",
        "Na matriz ampliada, seja a  linha pivot $L_k$ e uma típica linha $L_i$ abaixo a ser transformada, de modo a zerar o elemento $a_{ik}$. Para isso devemos multiplicar a linha pivot  por $\\lambda = a_{ik}/a_{kk}$ e subtrair o resultado de $L_i$, ou seja,\n",
        "\n",
        "$$\n",
        "L_i \\rightarrow L_i - \\lambda L_k\\,.\n",
        "$$\n",
        "\n",
        "Os elementos da linha $L_i$ são atualizados da seguinte forma:\n",
        "\n",
        "\\begin{align}\n",
        "&a_{ij} \\leftarrow a_{ij} - \\lambda a_{kj}\\,\\qquad j=k, \\ldots , n\\\\\n",
        "&b_i \\leftarrow b_i - \\lambda b_k\\,.\n",
        "\\end{align}\n",
        "\n",
        "Como $a_{ik}=0$ por construção, para economizar tempo computacional, ele não precisa ser calculado, de modo podemos tomar $j=k+1, \\ldots , n$.\n",
        "\n",
        "O índice $k$ é  o índice da linha pivot, de modo que $k=1,  \\ldots, n-1$ O índice $i$ designa a linha a ser transformada, de modo que $i=k+1,\\ldots, n$."
      ]
    },
    {
      "cell_type": "markdown",
      "metadata": {
        "id": "VSezOnxAZ8D9"
      },
      "source": [
        "É conveniente lembrar o modo de indexação do Python. O primeiro índice é zero:"
      ]
    },
    {
      "cell_type": "code",
      "execution_count": 1,
      "metadata": {
        "id": "C8SFIOU7Z8D9"
      },
      "outputs": [],
      "source": [
        "import numpy as np"
      ]
    },
    {
      "cell_type": "code",
      "execution_count": 2,
      "metadata": {
        "id": "8Q2ccJevZ8D9",
        "outputId": "eb3e6c37-817b-4122-f115-833bd69edbb3",
        "colab": {
          "base_uri": "https://localhost:8080/"
        }
      },
      "outputs": [
        {
          "output_type": "execute_result",
          "data": {
            "text/plain": [
              "array([1, 2, 3, 4])"
            ]
          },
          "metadata": {},
          "execution_count": 2
        }
      ],
      "source": [
        "c=np.array([1,2,3,4])\n",
        "c"
      ]
    },
    {
      "cell_type": "code",
      "execution_count": 3,
      "metadata": {
        "id": "LzlTRcKBZ8D-",
        "outputId": "9fb635f7-47a3-4fb7-d879-7416d2194b83",
        "colab": {
          "base_uri": "https://localhost:8080/"
        }
      },
      "outputs": [
        {
          "output_type": "execute_result",
          "data": {
            "text/plain": [
              "1"
            ]
          },
          "metadata": {},
          "execution_count": 3
        }
      ],
      "source": [
        "c[0]"
      ]
    },
    {
      "cell_type": "code",
      "execution_count": 4,
      "metadata": {
        "id": "EOBTiowKZ8D-",
        "outputId": "208cfe2b-95da-45b0-db22-ab5b717a5582",
        "colab": {
          "base_uri": "https://localhost:8080/"
        }
      },
      "outputs": [
        {
          "output_type": "execute_result",
          "data": {
            "text/plain": [
              "4"
            ]
          },
          "metadata": {},
          "execution_count": 4
        }
      ],
      "source": [
        "c[3]"
      ]
    },
    {
      "cell_type": "markdown",
      "metadata": {
        "id": "GVVYQV6OZ8D-"
      },
      "source": [
        "Quando usamos range(i,j), o valor de j não é incluído. Por exemplo,"
      ]
    },
    {
      "cell_type": "code",
      "execution_count": 5,
      "metadata": {
        "id": "LIfrUKASZ8D-",
        "outputId": "b266d272-d162-45e5-9b08-732f24aa6999",
        "colab": {
          "base_uri": "https://localhost:8080/"
        }
      },
      "outputs": [
        {
          "output_type": "stream",
          "name": "stdout",
          "text": [
            "1\n",
            "2\n",
            "3\n"
          ]
        }
      ],
      "source": [
        "for j in range(0,3):\n",
        "    print(c[j])"
      ]
    },
    {
      "cell_type": "markdown",
      "metadata": {
        "id": "Ryqs2P3sZ8D_"
      },
      "source": [
        "Notemos que c[3] não foi selecionado."
      ]
    },
    {
      "cell_type": "markdown",
      "metadata": {
        "id": "uxc7k-RNZ8D_"
      },
      "source": [
        "O elemento c definido acima é formalmente um array 1-dimensional, ou uma matriz com somente uma linha. Seu comprimento é o número de elementos:"
      ]
    },
    {
      "cell_type": "code",
      "execution_count": 6,
      "metadata": {
        "id": "5DZwaUTvZ8D_",
        "outputId": "e29c0325-2ab5-4ab4-e20a-2558456c606b",
        "colab": {
          "base_uri": "https://localhost:8080/"
        }
      },
      "outputs": [
        {
          "output_type": "execute_result",
          "data": {
            "text/plain": [
              "4"
            ]
          },
          "metadata": {},
          "execution_count": 6
        }
      ],
      "source": [
        "len(c)"
      ]
    },
    {
      "cell_type": "markdown",
      "metadata": {
        "id": "jnpWA3I4Z8D_"
      },
      "source": [
        "Se tentarmos calcular a transposta de c usando um comando de atribuição, não haverá efeito:  "
      ]
    },
    {
      "cell_type": "code",
      "execution_count": 7,
      "metadata": {
        "id": "gy0nISZmZ8D_",
        "outputId": "4b6ef0fc-ec8e-4860-f112-39f53b4d189f",
        "colab": {
          "base_uri": "https://localhost:8080/"
        }
      },
      "outputs": [
        {
          "output_type": "execute_result",
          "data": {
            "text/plain": [
              "array([1, 2, 3, 4])"
            ]
          },
          "metadata": {},
          "execution_count": 7
        }
      ],
      "source": [
        "np.transpose(c)"
      ]
    },
    {
      "cell_type": "markdown",
      "metadata": {
        "id": "0qbKlEzDZ8D_"
      },
      "source": [
        "Podemos usar a alternativa:"
      ]
    },
    {
      "cell_type": "code",
      "execution_count": 8,
      "metadata": {
        "id": "NK-fBtv-Z8D_",
        "outputId": "965d21b0-4a3a-4cfe-f8a8-f0494f1b0fd9",
        "colab": {
          "base_uri": "https://localhost:8080/"
        }
      },
      "outputs": [
        {
          "output_type": "execute_result",
          "data": {
            "text/plain": [
              "array([[1],\n",
              "       [2],\n",
              "       [3],\n",
              "       [4]])"
            ]
          },
          "metadata": {},
          "execution_count": 8
        }
      ],
      "source": [
        "cT = np.transpose([c])\n",
        "cT"
      ]
    },
    {
      "cell_type": "markdown",
      "metadata": {
        "id": "S00fd6faZ8D_"
      },
      "source": [
        "Notemos que"
      ]
    },
    {
      "cell_type": "code",
      "execution_count": 9,
      "metadata": {
        "id": "c5j13WpLZ8D_",
        "outputId": "7155cbcb-e028-4d88-8f20-f73b39041ab8",
        "colab": {
          "base_uri": "https://localhost:8080/"
        }
      },
      "outputs": [
        {
          "output_type": "execute_result",
          "data": {
            "text/plain": [
              "4"
            ]
          },
          "metadata": {},
          "execution_count": 9
        }
      ],
      "source": [
        "len(cT)"
      ]
    },
    {
      "cell_type": "markdown",
      "metadata": {
        "id": "Kx7gvUwWZ8D_"
      },
      "source": [
        "Alternativamente poderíamos ter definido:"
      ]
    },
    {
      "cell_type": "code",
      "execution_count": 10,
      "metadata": {
        "id": "JWa2hYoKZ8D_",
        "outputId": "01eb8f36-bc5d-46ba-d88b-8f5d5e561f79",
        "colab": {
          "base_uri": "https://localhost:8080/"
        }
      },
      "outputs": [
        {
          "output_type": "execute_result",
          "data": {
            "text/plain": [
              "array([[2, 3, 4, 5]])"
            ]
          },
          "metadata": {},
          "execution_count": 10
        }
      ],
      "source": [
        "c = np.array([[2,3,4,5]])\n",
        "c"
      ]
    },
    {
      "cell_type": "markdown",
      "metadata": {
        "id": "Qb7DS7u0Z8EA"
      },
      "source": [
        "de modo que"
      ]
    },
    {
      "cell_type": "code",
      "execution_count": 11,
      "metadata": {
        "id": "eV6qK_tKZ8EA",
        "outputId": "33cec894-9b80-43b8-e035-7c2778d46fe6",
        "colab": {
          "base_uri": "https://localhost:8080/"
        }
      },
      "outputs": [
        {
          "output_type": "execute_result",
          "data": {
            "text/plain": [
              "array([[2],\n",
              "       [3],\n",
              "       [4],\n",
              "       [5]])"
            ]
          },
          "metadata": {},
          "execution_count": 11
        }
      ],
      "source": [
        "c.T"
      ]
    },
    {
      "cell_type": "markdown",
      "metadata": {
        "id": "E2CF9IEDZ8EA"
      },
      "source": [
        "Para uma matriz, o comprimento é número de linhas (listas) que ela contém:"
      ]
    },
    {
      "cell_type": "code",
      "execution_count": 12,
      "metadata": {
        "id": "6MPGZcUxZ8EA",
        "outputId": "92e9f5b5-2c70-4281-b39a-3858b8746d80",
        "colab": {
          "base_uri": "https://localhost:8080/"
        }
      },
      "outputs": [
        {
          "output_type": "execute_result",
          "data": {
            "text/plain": [
              "array([[2, 3, 4],\n",
              "       [3, 4, 5],\n",
              "       [2, 3, 7],\n",
              "       [3, 4, 1]])"
            ]
          },
          "metadata": {},
          "execution_count": 12
        }
      ],
      "source": [
        "M = np.array([[2,3,4], [3, 4, 5], [2, 3, 7], [3, 4, 1]])\n",
        "M"
      ]
    },
    {
      "cell_type": "code",
      "execution_count": 13,
      "metadata": {
        "id": "JXkz7fYSZ8EA",
        "outputId": "a99c60dc-c92e-4987-9cc0-41954fd65033",
        "colab": {
          "base_uri": "https://localhost:8080/"
        }
      },
      "outputs": [
        {
          "output_type": "execute_result",
          "data": {
            "text/plain": [
              "4"
            ]
          },
          "metadata": {},
          "execution_count": 13
        }
      ],
      "source": [
        "len(M)"
      ]
    },
    {
      "cell_type": "markdown",
      "metadata": {
        "id": "SJJ8ZmxQZ8EA"
      },
      "source": [
        "O algoritmo  de eliminação pode ser realizado em Python da seguinte forma:"
      ]
    },
    {
      "cell_type": "code",
      "execution_count": 106,
      "metadata": {
        "id": "vBpCqxmXZ8EA"
      },
      "outputs": [],
      "source": [
        "import numpy as np\n",
        "\n",
        "def GaussElimin(A, b):\n",
        "    # Cria cópias dos arrays para não modificar os originais\n",
        "    A = A.copy()\n",
        "    b = b.copy()\n",
        "    n = A.shape[0]\n",
        "\n",
        "    # Eliminação para frente\n",
        "    for k in range(n - 1):\n",
        "        # Calcula os multiplicadores para as linhas abaixo do pivot\n",
        "        lam = A[k+1:, k] / A[k, k]\n",
        "        # Atualiza a submatriz para as linhas k+1 até n-1 e colunas k+1 até n-1\n",
        "        A[k+1:, k+1:] -= lam[:, None] * A[k, k+1:]\n",
        "        # Define os elementos abaixo do pivot como zero\n",
        "        A[k+1:, k] = 0\n",
        "        # Atualiza o vetor do lado direito\n",
        "        b[k+1:] -= lam * b[k]\n",
        "\n",
        "    # Converte b em vetor coluna e concatena com A horizontalmente\n",
        "    M = np.hstack([A, b.reshape(-1, 1)])\n",
        "    return M\n"
      ]
    },
    {
      "cell_type": "markdown",
      "metadata": {
        "id": "G5Hahi8lZ8EA"
      },
      "source": [
        "Testemos a função."
      ]
    },
    {
      "cell_type": "code",
      "execution_count": 111,
      "metadata": {
        "id": "NzERj7qPZ8EA",
        "outputId": "58f8f4a1-1012-44ab-a86a-bd19eba3811c",
        "colab": {
          "base_uri": "https://localhost:8080/"
        }
      },
      "outputs": [
        {
          "output_type": "execute_result",
          "data": {
            "text/plain": [
              "array([[ 6.,  1.,  2.,  4.],\n",
              "       [ 5., 11., -3.,  2.],\n",
              "       [-3.,  4.,  3.,  5.],\n",
              "       [ 5.,  2.,  8.,  3.]])"
            ]
          },
          "metadata": {},
          "execution_count": 111
        }
      ],
      "source": [
        "A = np.array([[6.,1.,2.,4.],[5.,11.,-3.,2.],[-3.,4.,3.,5.],[5.,2.,8.,3.]])\n",
        "A"
      ]
    },
    {
      "cell_type": "code",
      "execution_count": 112,
      "metadata": {
        "id": "MMOoXia7Z8EB",
        "outputId": "debb32ea-4809-443f-b34e-51c173701221",
        "colab": {
          "base_uri": "https://localhost:8080/"
        }
      },
      "outputs": [
        {
          "output_type": "stream",
          "name": "stdout",
          "text": [
            "[ 2. -4.  3. -7.]\n"
          ]
        }
      ],
      "source": [
        "B = np.array([2.,-4.,3.,-7.])\n",
        "print(B)"
      ]
    },
    {
      "cell_type": "markdown",
      "metadata": {
        "id": "z_jhOuJvZ8EB"
      },
      "source": [
        " Formemos a matriz aumentada $M$:"
      ]
    },
    {
      "cell_type": "code",
      "source": [
        "M = np.hstack([A, B.reshape(-1, 1)])\n",
        "M"
      ],
      "metadata": {
        "id": "yn9gdKL_lQ08",
        "outputId": "db29de1d-03fd-4a5c-e4ea-0109950c503a",
        "colab": {
          "base_uri": "https://localhost:8080/"
        }
      },
      "execution_count": 115,
      "outputs": [
        {
          "output_type": "execute_result",
          "data": {
            "text/plain": [
              "array([[ 6.,  1.,  2.,  4.,  2.],\n",
              "       [ 5., 11., -3.,  2., -4.],\n",
              "       [-3.,  4.,  3.,  5.,  3.],\n",
              "       [ 5.,  2.,  8.,  3., -7.]])"
            ]
          },
          "metadata": {},
          "execution_count": 115
        }
      ]
    },
    {
      "cell_type": "markdown",
      "source": [
        "A expressão B.reshape(-1, 1) transforma o array unidimensional B em um array bidimensional (ou matriz) com uma única coluna. O -1 indica que o NumPy deve calcular automaticamente o número de linhas com base no tamanho original do array."
      ],
      "metadata": {
        "id": "Y2dRcgZzltPL"
      }
    },
    {
      "cell_type": "markdown",
      "metadata": {
        "id": "z0RVrKI3Z8EB"
      },
      "source": [
        "Realizemos a eliminação gaussiana:"
      ]
    },
    {
      "cell_type": "code",
      "execution_count": 114,
      "metadata": {
        "id": "TmfL_wRHZ8EB",
        "outputId": "b0a83230-0102-4964-a410-72a28f0ede84",
        "colab": {
          "base_uri": "https://localhost:8080/"
        }
      },
      "outputs": [
        {
          "output_type": "execute_result",
          "data": {
            "text/plain": [
              "array([[  6.        ,   1.        ,   2.        ,   4.        ,\n",
              "          2.        ],\n",
              "       [  0.        ,  10.16666667,  -4.66666667,  -1.33333333,\n",
              "         -5.66666667],\n",
              "       [  0.        ,   0.        ,   6.06557377,   7.59016393,\n",
              "          6.50819672],\n",
              "       [  0.        ,   0.        ,   0.        ,  -8.77567568,\n",
              "        -15.38648649]])"
            ]
          },
          "metadata": {},
          "execution_count": 114
        }
      ],
      "source": [
        "M1=GaussElimin(A,B)\n",
        "M1"
      ]
    },
    {
      "cell_type": "markdown",
      "metadata": {
        "id": "hHGin4Q-Z8EB"
      },
      "source": [
        "### 3.  Fase de retrosubstituição\n",
        "\n",
        "Começamos a resolver a corresponde última equação do sistema reduzido, ou seja,\n",
        "\n",
        "$$\n",
        "x_n=\\frac{b_n}{a_{nn}}\\,.\n",
        "$$\n",
        "\n",
        "Consideremos agora o estágio da retrosubstituição onde $x_n, x_{n-1}, \\ldots , x_{k+1} $ já foram computados e devemos computar $x_k$ a partir da equação $k$:\n",
        "\n",
        "$$\n",
        "a_{kk}x_k+a_{k k+1} x_{k+1}+ \\cdots + a_{k n}x_n=b_k\\,.\n",
        "$$\n",
        "\n",
        "Resolvendo para $k_k$ obtemos\n",
        "\n",
        "$$\n",
        "x_k=\\frac{1}{a_{kk}}\\left(b_k-a_{k k+1} x_{k+1}- \\cdots - a_{k n}x_n\\right)= \\frac{1}{a_{kk}}\\left(b_k-\\sum_{j=k+1}^n a_{kj}x_j\\right)\\,.\n",
        "$$\n",
        "\n",
        "Implementemos esta função no Python."
      ]
    },
    {
      "cell_type": "markdown",
      "metadata": {
        "id": "RQb9jNKuZ8EB"
      },
      "source": [
        "A seguinte função tem como entrada uma matriz de coeficientes na forma escalonada e a matriz coluna da parte homogênea. A saída é solução do correspondente sistema linear."
      ]
    },
    {
      "cell_type": "markdown",
      "metadata": {
        "id": "QAGJH7duZ8EB"
      },
      "source": []
    },
    {
      "cell_type": "code",
      "execution_count": 116,
      "metadata": {
        "id": "3OsEO0ZBZ8EB"
      },
      "outputs": [],
      "source": [
        "# Retrosubstituição\n",
        "def GaussRetro(a, b):\n",
        "    n = len(b)\n",
        "    x = np.empty(n, dtype=a.dtype)\n",
        "    # Calcula o último elemento\n",
        "    x[-1] = b[-1] / a[-1, -1]\n",
        "    # Realiza a substituição regressiva a partir do penúltimo elemento\n",
        "    for k in range(n - 2, -1, -1):\n",
        "        x[k] = (b[k] - np.dot(a[k, k+1:], x[k+1:])) / a[k, k]\n",
        "    # Retorna x como vetor coluna\n",
        "    return x.reshape(-1, 1)"
      ]
    },
    {
      "cell_type": "markdown",
      "metadata": {
        "id": "8G7t_9iBZ8EC"
      },
      "source": [
        " Usemos o exemplo acima. Inicialmente fatiamos a matriz ampliada. A matriz de coeficientes é dada por"
      ]
    },
    {
      "cell_type": "code",
      "execution_count": 117,
      "metadata": {
        "id": "qnuYKRhFZ8EC",
        "outputId": "71ab28bc-835a-40d9-b7a9-121c805a21d2",
        "colab": {
          "base_uri": "https://localhost:8080/"
        }
      },
      "outputs": [
        {
          "output_type": "execute_result",
          "data": {
            "text/plain": [
              "array([[ 6.        ,  1.        ,  2.        ,  4.        ],\n",
              "       [ 0.        , 10.16666667, -4.66666667, -1.33333333],\n",
              "       [ 0.        ,  0.        ,  6.06557377,  7.59016393],\n",
              "       [ 0.        ,  0.        ,  0.        , -8.77567568]])"
            ]
          },
          "metadata": {},
          "execution_count": 117
        }
      ],
      "source": [
        "A1 = M1[:,0:4]\n",
        "A1"
      ]
    },
    {
      "cell_type": "markdown",
      "metadata": {
        "id": "8vnLdCDzZ8EC"
      },
      "source": [
        "A parte não homogênea é dada por:"
      ]
    },
    {
      "cell_type": "code",
      "execution_count": 118,
      "metadata": {
        "id": "PTxbJZXOZ8EC",
        "outputId": "41568151-efb5-44df-8cfd-dfe32a4e9f92",
        "colab": {
          "base_uri": "https://localhost:8080/"
        }
      },
      "outputs": [
        {
          "output_type": "execute_result",
          "data": {
            "text/plain": [
              "array([  2.        ,  -5.66666667,   6.50819672, -15.38648649])"
            ]
          },
          "metadata": {},
          "execution_count": 118
        }
      ],
      "source": [
        "B1= M1[:,4]\n",
        "B1"
      ]
    },
    {
      "cell_type": "markdown",
      "metadata": {
        "id": "yG0WsLfoZ8EC"
      },
      "source": [
        "Apliquemos agora a função que realiza a retrosubstituição:"
      ]
    },
    {
      "cell_type": "code",
      "execution_count": 119,
      "metadata": {
        "id": "c1YRBg0rZ8EC",
        "outputId": "4f620153-6b91-4d19-cd2e-e63ac72a145a",
        "colab": {
          "base_uri": "https://localhost:8080/"
        }
      },
      "outputs": [
        {
          "output_type": "execute_result",
          "data": {
            "text/plain": [
              "array([[-0.32152756],\n",
              "       [-0.84200801],\n",
              "       [-1.1210348 ],\n",
              "       [ 1.75331075]])"
            ]
          },
          "metadata": {},
          "execution_count": 119
        }
      ],
      "source": [
        "X1 = GaussRetro(A1,B1)\n",
        "X1"
      ]
    },
    {
      "cell_type": "markdown",
      "metadata": {
        "id": "vc0lQ3IUZ8EC"
      },
      "source": [
        "Podemos verificar que este resultado é correto. É importante definir novamente o sistema original, uma vez que as matrizes A e B foram modificadas ao longo do processo. Este procedimento é fundamental em Python."
      ]
    },
    {
      "cell_type": "code",
      "execution_count": 120,
      "metadata": {
        "id": "I7_lj9WpZ8EC"
      },
      "outputs": [],
      "source": [
        "A = np.array([[6.,1.,2.,4.],[5.,11.,-3.,2.],[-3.,4.,3.,5.],[5.,2.,8.,3.]])\n",
        "B = np.transpose(np.array([[2.,-4.,3.,-7.]]))"
      ]
    },
    {
      "cell_type": "code",
      "execution_count": 121,
      "metadata": {
        "id": "RnYM-52EZ8EC",
        "outputId": "d1e498a1-a361-4b4f-ec78-362902bcf6b2",
        "colab": {
          "base_uri": "https://localhost:8080/"
        }
      },
      "outputs": [
        {
          "output_type": "execute_result",
          "data": {
            "text/plain": [
              "array([[ 0.00000000e+00],\n",
              "       [-8.88178420e-16],\n",
              "       [ 8.88178420e-16],\n",
              "       [-3.55271368e-15]])"
            ]
          },
          "metadata": {},
          "execution_count": 121
        }
      ],
      "source": [
        "A@X1-B"
      ]
    },
    {
      "cell_type": "markdown",
      "metadata": {
        "id": "aPVBN5JKZ8EC"
      },
      "source": [
        "Podemos resolver sistemas lineares com métodos diretos usando  comando solve do numpy:"
      ]
    },
    {
      "cell_type": "code",
      "execution_count": 26,
      "metadata": {
        "id": "yTnjgM5YZ8EC"
      },
      "outputs": [],
      "source": [
        "import numpy.linalg as la"
      ]
    },
    {
      "cell_type": "code",
      "execution_count": 27,
      "metadata": {
        "id": "H1qfxGgSZ8ED",
        "outputId": "8c3400e4-37fe-4741-f266-9ad0806dcd2a",
        "colab": {
          "base_uri": "https://localhost:8080/"
        }
      },
      "outputs": [
        {
          "output_type": "stream",
          "name": "stdout",
          "text": [
            "[[-0.32152756]\n",
            " [-0.84200801]\n",
            " [-1.1210348 ]\n",
            " [ 1.75331075]]\n"
          ]
        }
      ],
      "source": [
        "x = la.solve(A,B)\n",
        "print(x)"
      ]
    },
    {
      "cell_type": "markdown",
      "metadata": {
        "id": "jEF558OiZ8ED"
      },
      "source": [
        "### 4.  Algoritmo de eliminação gaussiana simples completo"
      ]
    },
    {
      "cell_type": "markdown",
      "metadata": {
        "id": "8106V2X2Z8ED"
      },
      "source": [
        "Juntemos as duas funções numa só. A atribuição a[i,k]=0 agora pode ser removida pois é irrelevante:"
      ]
    },
    {
      "cell_type": "code",
      "execution_count": 122,
      "metadata": {
        "id": "wrfNQzDRZ8ED"
      },
      "outputs": [],
      "source": [
        "def GaussSolve(A, b):\n",
        "    \"\"\"\n",
        "    Resolve o sistema linear Ax = b usando eliminação gaussiana sem pivoteamento.\n",
        "\n",
        "    Parâmetros:\n",
        "      A : matriz n x n (numpy.array)\n",
        "      b : vetor 1D com n elementos (numpy.array)\n",
        "\n",
        "    Retorna:\n",
        "      x : vetor coluna com a solução do sistema.\n",
        "    \"\"\"\n",
        "    # Cria cópias para preservar os dados originais\n",
        "    A = A.copy()\n",
        "    b = b.copy()\n",
        "    n = A.shape[0]\n",
        "\n",
        "    # Eliminação para frente (transforma A em uma matriz triangular superior)\n",
        "    for k in range(n - 1):\n",
        "        # Calcula os multiplicadores para as linhas abaixo do pivot\n",
        "        lam = A[k+1:, k] / A[k, k]\n",
        "        # Atualiza as linhas abaixo do pivot utilizando a vetorização\n",
        "        A[k+1:, k+1:] -= lam[:, None] * A[k, k+1:]\n",
        "        # Zera os elementos abaixo do pivot\n",
        "        A[k+1:, k] = 0\n",
        "        # Atualiza o vetor do lado direito\n",
        "        b[k+1:] -= lam * b[k]\n",
        "\n",
        "    # Substituição regressiva (back substitution)\n",
        "    x = np.empty(n, dtype=A.dtype)\n",
        "    # Calcula o último elemento da solução\n",
        "    x[-1] = b[-1] / A[-1, -1]\n",
        "    # Calcula os demais elementos de trás para frente\n",
        "    for k in range(n - 2, -1, -1):\n",
        "        x[k] = (b[k] - np.dot(A[k, k+1:], x[k+1:])) / A[k, k]\n",
        "\n",
        "    # Retorna a solução como vetor coluna\n",
        "    return x.reshape(-1, 1)\n"
      ]
    },
    {
      "cell_type": "markdown",
      "metadata": {
        "id": "BrgMufPdZ8ED"
      },
      "source": [
        "Testemos o algoritmo completo no sistema linear anterior."
      ]
    },
    {
      "cell_type": "code",
      "execution_count": 123,
      "metadata": {
        "id": "Zw1bGCWTZ8ED"
      },
      "outputs": [],
      "source": [
        "A = np.array([[6.,1.,2.,4.],[5.,11.,-3.,2.],[-3.,4.,3.,5.],[5.,2.,8.,3.]])\n",
        "B = np.transpose(np.array([2.,-4.,3.,-7.]))"
      ]
    },
    {
      "cell_type": "code",
      "execution_count": 124,
      "metadata": {
        "id": "GQIDAtLBZ8ED",
        "outputId": "2f41664e-1916-43d8-f973-8e479855436f",
        "colab": {
          "base_uri": "https://localhost:8080/"
        }
      },
      "outputs": [
        {
          "output_type": "execute_result",
          "data": {
            "text/plain": [
              "array([[-0.32152756],\n",
              "       [-0.84200801],\n",
              "       [-1.1210348 ],\n",
              "       [ 1.75331075]])"
            ]
          },
          "metadata": {},
          "execution_count": 124
        }
      ],
      "source": [
        "X1=  GaussSolve(A,B)\n",
        "X1"
      ]
    },
    {
      "cell_type": "markdown",
      "metadata": {
        "id": "OnsHiQKoZ8ED"
      },
      "source": [
        "que é o mesmo resultado obtido anteriormente"
      ]
    },
    {
      "cell_type": "markdown",
      "metadata": {
        "id": "MI8-693-Z8ED"
      },
      "source": [
        "### 5. Exemplo com sistemas grandes aleatórios"
      ]
    },
    {
      "cell_type": "code",
      "execution_count": 136,
      "metadata": {
        "id": "nkluUP8dZ8ED"
      },
      "outputs": [],
      "source": [
        "np.random.seed(43453)\n",
        "N = 10\n",
        "A3 = np.random.rand(N,N)\n",
        "B3 = np.random.rand(N)"
      ]
    },
    {
      "cell_type": "code",
      "execution_count": 137,
      "metadata": {
        "id": "R8G_7G8vZ8ED",
        "outputId": "ac6f9bab-eeed-4dbf-83fb-0ab6cb69c50c",
        "colab": {
          "base_uri": "https://localhost:8080/"
        }
      },
      "outputs": [
        {
          "output_type": "execute_result",
          "data": {
            "text/plain": [
              "array([[-0.78014194],\n",
              "       [ 1.64411949],\n",
              "       [-1.13319994],\n",
              "       [-0.72833755],\n",
              "       [-2.02054919],\n",
              "       [ 1.06249775],\n",
              "       [-0.78987105],\n",
              "       [ 2.26036594],\n",
              "       [ 2.07989874],\n",
              "       [-0.4584725 ]])"
            ]
          },
          "metadata": {},
          "execution_count": 137
        }
      ],
      "source": [
        "X3 = GaussSolve(A3,B3)\n",
        "X3"
      ]
    },
    {
      "cell_type": "markdown",
      "metadata": {
        "id": "voPs0eMrZ8ED"
      },
      "source": [
        "Verifiquemos a resposta, calculando o resíduo:"
      ]
    },
    {
      "cell_type": "code",
      "execution_count": 140,
      "metadata": {
        "id": "Jo8ZPcYyZ8EE",
        "outputId": "105d991e-58c6-4a38-8d9a-4f47dbb0223d",
        "colab": {
          "base_uri": "https://localhost:8080/"
        }
      },
      "outputs": [
        {
          "output_type": "execute_result",
          "data": {
            "text/plain": [
              "array([[-4.44089210e-16],\n",
              "       [-3.33066907e-16],\n",
              "       [-5.10702591e-15],\n",
              "       [-7.32747196e-15],\n",
              "       [-2.22044605e-15],\n",
              "       [ 2.10942375e-15],\n",
              "       [-4.44089210e-16],\n",
              "       [-3.21964677e-15],\n",
              "       [-1.99840144e-15],\n",
              "       [ 7.77156117e-16]])"
            ]
          },
          "metadata": {},
          "execution_count": 140
        }
      ],
      "source": [
        "R=A3@X3-B3.reshape(-1, 1)\n",
        "R"
      ]
    },
    {
      "cell_type": "markdown",
      "metadata": {
        "id": "GVBDokgRZ8EE"
      },
      "source": [
        "Se o sistema é muito grande é difícil inspecionar todas as componentes. Em geral avaliamos o resíduo calculando uma norma do vetor correspondente. A norma mais usada é a norma infinito, é definida como sendo a maior magnitude entre as componentes:  \n",
        "\n",
        "$$\n",
        "|\\mathbf{u}|_{\\infty}=\\max_i\\{{|u_i|},i=1,\\ldots,n\\}.\n",
        "$$\n",
        "\n",
        "No nosso caso,"
      ]
    },
    {
      "cell_type": "code",
      "execution_count": 141,
      "metadata": {
        "id": "uZtpQ78FZ8EE"
      },
      "outputs": [],
      "source": [
        "import numpy.linalg as la"
      ]
    },
    {
      "cell_type": "code",
      "execution_count": 142,
      "metadata": {
        "id": "xEydMYAYZ8EE",
        "outputId": "a2ee1293-3d46-4bf2-ec04-735d64ff930c",
        "colab": {
          "base_uri": "https://localhost:8080/"
        }
      },
      "outputs": [
        {
          "output_type": "execute_result",
          "data": {
            "text/plain": [
              "7.327471962526033e-15"
            ]
          },
          "metadata": {},
          "execution_count": 142
        }
      ],
      "source": [
        "NR = la.norm(R, np.inf)\n",
        "NR"
      ]
    },
    {
      "cell_type": "markdown",
      "metadata": {
        "id": "PxCm3Z43Z8EE"
      },
      "source": [
        "Testemos o desempenho do programa que escrevemos com sistemas grandes."
      ]
    },
    {
      "cell_type": "code",
      "execution_count": 143,
      "metadata": {
        "id": "ihFzrGYGZ8EE"
      },
      "outputs": [],
      "source": [
        "np.random.seed(43453)\n",
        "N = 300\n",
        "A4 = np.random.rand(N,N)\n",
        "B4 = np.random.rand(N)"
      ]
    },
    {
      "cell_type": "code",
      "execution_count": 144,
      "metadata": {
        "id": "wADvEWzXZ8EE"
      },
      "outputs": [],
      "source": [
        "X4 = GaussSolve(A4,B4)"
      ]
    },
    {
      "cell_type": "markdown",
      "metadata": {
        "id": "58jB7DXSZ8EE"
      },
      "source": [
        "Calculemos o resíduo:"
      ]
    },
    {
      "cell_type": "code",
      "execution_count": 145,
      "metadata": {
        "id": "m-TRXWz3Z8EE",
        "outputId": "ffc9ba01-286f-4284-8ec6-d9bef25c1954",
        "colab": {
          "base_uri": "https://localhost:8080/"
        }
      },
      "outputs": [
        {
          "output_type": "execute_result",
          "data": {
            "text/plain": [
              "6.478706460200101e-12"
            ]
          },
          "metadata": {},
          "execution_count": 145
        }
      ],
      "source": [
        "NR = la.norm(A4@X4-B4.reshape(-1, 1),np.inf)\n",
        "NR"
      ]
    },
    {
      "cell_type": "markdown",
      "metadata": {
        "id": "wo7iDKnrZ8EE"
      },
      "source": [
        "Examinemos o tempo de CPU necessário para resolver este sistema:"
      ]
    },
    {
      "cell_type": "code",
      "execution_count": 146,
      "metadata": {
        "id": "j2h9jWs7Z8EE"
      },
      "outputs": [],
      "source": [
        "np.random.seed(43453)\n",
        "N = 300\n",
        "A4 = np.random.rand(N,N)\n",
        "B4 = np.random.rand(N)"
      ]
    },
    {
      "cell_type": "code",
      "execution_count": 147,
      "metadata": {
        "id": "9U_ySgymZ8EE",
        "outputId": "87449e30-beb6-4abb-d2e5-321f0e6a32a1",
        "colab": {
          "base_uri": "https://localhost:8080/"
        }
      },
      "outputs": [
        {
          "output_type": "stream",
          "name": "stdout",
          "text": [
            "36.5 ms ± 3.59 ms per loop (mean ± std. dev. of 7 runs, 10 loops each)\n"
          ]
        }
      ],
      "source": [
        "%%timeit\n",
        "GaussSolve(A4,B4)"
      ]
    },
    {
      "cell_type": "markdown",
      "metadata": {
        "id": "9I4vq0sSZ8EE"
      },
      "source": [
        "O tempo de CPU necessário usando a função solve do numpy é dado por:"
      ]
    },
    {
      "cell_type": "code",
      "execution_count": 148,
      "metadata": {
        "id": "C0tPxXHDZ8EE"
      },
      "outputs": [],
      "source": [
        "np.random.seed(43453)\n",
        "N = 300\n",
        "A4 = np.random.rand(N,N)\n",
        "B4 = np.random.rand(N)"
      ]
    },
    {
      "cell_type": "code",
      "execution_count": 149,
      "metadata": {
        "id": "L4AThDGNZ8EE",
        "outputId": "c132c491-b889-4584-a7cd-19276af745de",
        "colab": {
          "base_uri": "https://localhost:8080/"
        }
      },
      "outputs": [
        {
          "output_type": "stream",
          "name": "stdout",
          "text": [
            "6.52 µs ± 1.6 µs per loop (mean ± std. dev. of 7 runs, 100000 loops each)\n"
          ]
        }
      ],
      "source": [
        "%%timeit\n",
        "la.solve(A,B)"
      ]
    },
    {
      "cell_type": "code",
      "source": [
        "la.solve(A,B)"
      ],
      "metadata": {
        "id": "9Cpruw6XoYcZ",
        "outputId": "a9f55590-c46d-41f9-9f65-5897f0270408",
        "colab": {
          "base_uri": "https://localhost:8080/"
        }
      },
      "execution_count": 150,
      "outputs": [
        {
          "output_type": "execute_result",
          "data": {
            "text/plain": [
              "array([-0.32152756, -0.84200801, -1.1210348 ,  1.75331075])"
            ]
          },
          "metadata": {},
          "execution_count": 150
        }
      ]
    },
    {
      "cell_type": "markdown",
      "metadata": {
        "id": "kvB0zsPeZ8EF"
      },
      "source": [
        "Como esperado, o solver é muito mais rápido do que nosso algoritmo pedagógico."
      ]
    },
    {
      "cell_type": "markdown",
      "metadata": {
        "id": "OXCTuKFpZ8EF"
      },
      "source": [
        "### 6. Exercícios"
      ]
    },
    {
      "cell_type": "markdown",
      "metadata": {
        "id": "S38O00mNZ8EF"
      },
      "source": [
        "1. Resolva passo a passo um sistema linear $4 \\times 4$ aleatório (use os 4 primeiros dígitos do seu cpf para o seed), descrevendo cada passo do algoritmo GaussElimin e GaussRetro. Verifique a resposta calculando o resíduo.\n",
        "<p>\n",
        "2. Resolva um sistema aleatório $500 \\times 500$ usando o algoritmo GaussSolve (não mostre o resultado). Verifique a correção do resultado calculando a norma do resíduo e compare o tempo de CPU necessário. Repita o procedimento usando o solver do numpy."
      ]
    },
    {
      "cell_type": "markdown",
      "metadata": {
        "id": "mMTBLAYkZ8EF"
      },
      "source": [
        "3. O **número de condição** de uma matriz $ A $, denotado por $ \\kappa(A) $, mede a sensibilidade da solução de um sistema linear $ A \\mathbf{x} = \\mathbf{b} $ a tais pequenas perturbações na matriz $ A $ ou no vetor $ \\mathbf{b} $. Ele é definido como:\n",
        "$$\n",
        "\\kappa(A) = \\|A\\| \\cdot \\|A^{-1}\\|,\n",
        "$$\n",
        "onde $ \\|A\\| $ é a norma da matriz (normalmente a norma 2). Um número de condição alto indica que o sistema é mal condicionado, ou seja, pequenas mudanças nos dados podem causar grandes variações na solução.\n",
        "Um exemplo de mal condicionada é a matriz de Hilbert $ H_n $ de ordem $ n $,  definida por\n",
        "$$\n",
        "H_{ij} = \\frac{1}{i + j + 1}, \\quad i, j = 0, 1, \\dots, n.\n",
        "$$\n",
        "\n",
        "Podemos defini-la no Python da seguinte forma:"
      ]
    },
    {
      "cell_type": "code",
      "execution_count": null,
      "metadata": {
        "id": "iZy31ZCPZ8EF"
      },
      "outputs": [],
      "source": [
        "def hilb(n):\n",
        "    return np.array([[1/(i+j+1) for i in range(n)] for j in range(n)])"
      ]
    },
    {
      "cell_type": "markdown",
      "metadata": {
        "id": "9UGo7V7IZ8EF"
      },
      "source": [
        "Por exemplo,"
      ]
    },
    {
      "cell_type": "code",
      "execution_count": null,
      "metadata": {
        "colab": {
          "base_uri": "https://localhost:8080/"
        },
        "id": "JV_Ug8yCZ8EF",
        "outputId": "494f5188-8779-4399-87d0-70293a5c38de"
      },
      "outputs": [
        {
          "output_type": "execute_result",
          "data": {
            "text/plain": [
              "array([[1.        , 0.5       , 0.33333333, 0.25      ],\n",
              "       [0.5       , 0.33333333, 0.25      , 0.2       ],\n",
              "       [0.33333333, 0.25      , 0.2       , 0.16666667],\n",
              "       [0.25      , 0.2       , 0.16666667, 0.14285714]])"
            ]
          },
          "metadata": {},
          "execution_count": 8
        }
      ],
      "source": [
        "hilb(4)"
      ]
    },
    {
      "cell_type": "markdown",
      "metadata": {
        "id": "y0x9CtZSZ8EF"
      },
      "source": [
        "(i) Resolva o sistema linear $HX=B$, sendo $H$ a matriz de Hilbert $H(30)$, $30 \\times 30$ e B uma matriz coluna com todos elementos de valor 1. Use o algoritmo de eliminação gaussiana desenvolvido anteriormente para resolver o sistema.  Calcule o resíduo em ambos os casos."
      ]
    },
    {
      "cell_type": "markdown",
      "metadata": {
        "id": "62_95wiQZ8EF"
      },
      "source": [
        "(ii) Compare o número de condição de $H$ com aquele de uma matriz aleatória $30 \\times 30$."
      ]
    },
    {
      "cell_type": "markdown",
      "metadata": {
        "id": "6MQRoh5HZ8EF"
      },
      "source": [
        "(iii) Mostre que uma pequena perturbação em uma componente de $H(30)$ faz com que a solução do sistema definido em (i) muda drasticamente."
      ]
    }
  ],
  "metadata": {
    "kernelspec": {
      "display_name": "Python 3",
      "language": "python",
      "name": "python3"
    },
    "language_info": {
      "codemirror_mode": {
        "name": "ipython",
        "version": 3
      },
      "file_extension": ".py",
      "mimetype": "text/x-python",
      "name": "python",
      "nbconvert_exporter": "python",
      "pygments_lexer": "ipython3",
      "version": "3.8.5"
    },
    "colab": {
      "provenance": [],
      "include_colab_link": true
    }
  },
  "nbformat": 4,
  "nbformat_minor": 0
}
