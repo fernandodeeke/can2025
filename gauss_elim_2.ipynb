{
  "cells": [
    {
      "cell_type": "markdown",
      "metadata": {
        "id": "view-in-github",
        "colab_type": "text"
      },
      "source": [
        "<a href=\"https://colab.research.google.com/github/fernandodeeke/can2025/blob/main/gauss_elim_2.ipynb\" target=\"_parent\"><img src=\"https://colab.research.google.com/assets/colab-badge.svg\" alt=\"Open In Colab\"/></a>"
      ]
    },
    {
      "cell_type": "markdown",
      "metadata": {
        "id": "Iaz7EdvAZ8D6"
      },
      "source": [
        "<center><h1></h1></center>\n",
        "<center><h1>Análise Numérica</h1></center>\n",
        "<center><h2>2025/1</h2></center>\n",
        "<center><h3>Eliminação Gaussiana - Parte 2</h3></center>\n",
        "<center><h4>Prof. Fernando Deeke Sasse - CCT, UDESC</h4></center>\n",
        "<center><h3>2025</h3></center>"
      ]
    },
    {
      "cell_type": "markdown",
      "metadata": {
        "id": "BC6tXSxhZ8D8"
      },
      "source": [
        "### 1. Eliminação gaussiana simples - Revisão\n",
        "\n",
        "Já descrevemos anteriormente as operações elementares de linha, essenciais no processo de eliminação gaussiana simples. Nosso objetivo agora é automatizar o processo definindo uma função em Python capaz de realizar essas etapas de uma só vez. Consideraremos novamente um [sistema linear](https://pt.wikipedia.org/wiki/Sistema_de_equações_lineares) com $n$ equações e $n$ incógnitas para as variáveis $x_1,\\ldots, x_n$, da forma:\n",
        "\n",
        "\\begin{align}\n",
        "a_{11}x_1 + a_{12}x_2 + \\cdots + a_{1n}x_n & = b_1 \\\\\\\n",
        "a_{21}x_1 + a_{22}x_2 + \\cdots + a_{2n}x_n & = b_2 \\\\\\\n",
        "& \\vdots \\\\\\\n",
        "a_{n1}x_1 + a_{m1}x_2 + \\cdots + a_{nn}x_n & = b_n\n",
        "\\end{align}\n",
        "\n",
        " Em notação matricial o sistema linear é representado na forma\n",
        " $A X= B$, sendo\n",
        "\n",
        "$$\n",
        "A = \\begin{bmatrix}\n",
        "a_{11} & a_{12} & \\cdots & a_{1n} \\\\\\\n",
        "a_{21} & a_{22} & \\cdots & a_{2n} \\\\\\\n",
        "\\vdots & & & \\vdots \\\\\\\n",
        "a_{n1} & a_{n2} & \\cdots & a_{nn}\n",
        "\\end{bmatrix}\n",
        " \\ \\ , \\ \\\n",
        "X = \\begin{bmatrix}\n",
        "x_1 \\\\\\ x_2 \\\\\\ \\vdots \\\\\\ x_n\n",
        "\\end{bmatrix}\n",
        " \\ \\ , \\ \\\n",
        "B = \\begin{bmatrix}\n",
        "b_1 \\\\\\ b_2 \\\\\\ \\vdots \\\\\\ b_n\n",
        "\\end{bmatrix}\n",
        "$$"
      ]
    },
    {
      "cell_type": "markdown",
      "metadata": {
        "id": "Ug7slQOgZ8D8"
      },
      "source": [
        "O chamado método da eliminação gaussiana simples é o método direto mais utilizado para resolver sistemas lineares e é a base para todas as variantes de métodos de eliminação. Ele consiste de duas etapas:\n",
        "\n",
        "1. Fase de eliminação: realizamos a eliminação dos elementos abaixo da diagonal principal da matriz ampliada $[A|B]$ por meio de transformações elementares sobre matrizes, até obtermos a forma escalonada.\n",
        "2. Retrosubstituição.\n",
        "\n",
        "Descreveremos a seguir cada uma destas etapas, já definindo uma função em Python que realizada cada etapa:"
      ]
    },
    {
      "cell_type": "markdown",
      "metadata": {
        "id": "bNNqPkhWZ8D8"
      },
      "source": [
        "### 2. Fase de eliminação\n",
        "Chamamos *linha pivot* a linha acima da qual todos os elementos abaixo da diagonal principal já foram zerados.\n",
        "Na matriz ampliada, seja a  linha pivot $L_k$ e uma típica linha $L_i$ abaixo a ser transformada, de modo a zerar o elemento $a_{ik}$. Para isso devemos multiplicar a linha pivot  por $\\lambda = a_{ik}/a_{kk}$ e subtrair o resultado de $L_i$, ou seja,\n",
        "\n",
        "$$\n",
        "L_i \\rightarrow L_i - \\lambda L_k\\,.\n",
        "$$\n",
        "\n",
        "Os elementos da linha $L_i$ são atualizados da seguinte forma:\n",
        "\n",
        "\\begin{align}\n",
        "&a_{ij} \\leftarrow a_{ij} - \\lambda a_{kj}\\,\\qquad j=k, \\ldots , n\\\\\n",
        "&b_i \\leftarrow b_i - \\lambda b_k\\,.\n",
        "\\end{align}\n",
        "\n",
        "Como $a_{ik}=0$ por construção, para economizar tempo computacional, ele não precisa ser calculado, de modo podemos tomar $j=k+1, \\ldots , n$.\n",
        "\n",
        "O índice $k$ é  o índice da linha pivot, de modo que $k=1,  \\ldots, n-1$ O índice $i$ designa a linha a ser transformada, de modo que $i=k+1,\\ldots, n$."
      ]
    },
    {
      "cell_type": "markdown",
      "metadata": {
        "id": "VSezOnxAZ8D9"
      },
      "source": [
        "É conveniente lembrar o modo de indexação do Python. O primeiro índice é zero:"
      ]
    },
    {
      "cell_type": "code",
      "execution_count": null,
      "metadata": {
        "id": "C8SFIOU7Z8D9"
      },
      "outputs": [],
      "source": [
        "import numpy as np"
      ]
    },
    {
      "cell_type": "code",
      "execution_count": null,
      "metadata": {
        "id": "8Q2ccJevZ8D9",
        "outputId": "a241dcc9-6744-4e71-a784-1ec4a07f0660"
      },
      "outputs": [
        {
          "data": {
            "text/plain": [
              "array([1, 2, 3, 4])"
            ]
          },
          "execution_count": 319,
          "metadata": {},
          "output_type": "execute_result"
        }
      ],
      "source": [
        "c=np.array([1,2,3,4])\n",
        "c"
      ]
    },
    {
      "cell_type": "code",
      "execution_count": null,
      "metadata": {
        "id": "LzlTRcKBZ8D-",
        "outputId": "d52ead82-b1c3-4421-8d3a-ab4df1ffe432"
      },
      "outputs": [
        {
          "data": {
            "text/plain": [
              "1"
            ]
          },
          "execution_count": 320,
          "metadata": {},
          "output_type": "execute_result"
        }
      ],
      "source": [
        "c[0]"
      ]
    },
    {
      "cell_type": "code",
      "execution_count": null,
      "metadata": {
        "id": "EOBTiowKZ8D-",
        "outputId": "e281e815-eb22-4613-93e8-d75f702dae8b"
      },
      "outputs": [
        {
          "data": {
            "text/plain": [
              "4"
            ]
          },
          "execution_count": 321,
          "metadata": {},
          "output_type": "execute_result"
        }
      ],
      "source": [
        "c[3]"
      ]
    },
    {
      "cell_type": "markdown",
      "metadata": {
        "id": "GVVYQV6OZ8D-"
      },
      "source": [
        "Quando usamos range(i,j), o valor de j não é incluído. Por exemplo,"
      ]
    },
    {
      "cell_type": "code",
      "execution_count": null,
      "metadata": {
        "id": "LIfrUKASZ8D-",
        "outputId": "9d9783e3-cb51-4414-96f1-0960bc26220c"
      },
      "outputs": [
        {
          "name": "stdout",
          "output_type": "stream",
          "text": [
            "1\n",
            "2\n",
            "3\n"
          ]
        }
      ],
      "source": [
        "for j in range(0,3):\n",
        "    print(c[j])"
      ]
    },
    {
      "cell_type": "markdown",
      "metadata": {
        "id": "Ryqs2P3sZ8D_"
      },
      "source": [
        "Notemos que c[3] não foi selecionado."
      ]
    },
    {
      "cell_type": "markdown",
      "metadata": {
        "id": "uxc7k-RNZ8D_"
      },
      "source": [
        "O elemento c definido acima é formalmente um array 1-dimensional, ou uma matriz com somente uma linha. Seu comprimento é o número de elementos:"
      ]
    },
    {
      "cell_type": "code",
      "execution_count": null,
      "metadata": {
        "id": "5DZwaUTvZ8D_",
        "outputId": "d0b3a26a-20c5-4872-dbdf-e0875b42ae96"
      },
      "outputs": [
        {
          "data": {
            "text/plain": [
              "4"
            ]
          },
          "execution_count": 323,
          "metadata": {},
          "output_type": "execute_result"
        }
      ],
      "source": [
        "len(c)"
      ]
    },
    {
      "cell_type": "markdown",
      "metadata": {
        "id": "jnpWA3I4Z8D_"
      },
      "source": [
        "Se tentarmos calcular a transposta de c usando um comando de atribuição, não haverá efeito:  "
      ]
    },
    {
      "cell_type": "code",
      "execution_count": null,
      "metadata": {
        "id": "gy0nISZmZ8D_",
        "outputId": "1a7415a8-ad33-4df8-b04a-68e8a0d9ced7"
      },
      "outputs": [
        {
          "data": {
            "text/plain": [
              "array([1, 2, 3, 4])"
            ]
          },
          "execution_count": 324,
          "metadata": {},
          "output_type": "execute_result"
        }
      ],
      "source": [
        "np.transpose(c)"
      ]
    },
    {
      "cell_type": "markdown",
      "metadata": {
        "id": "0qbKlEzDZ8D_"
      },
      "source": [
        "Podemos usar a alternativa:"
      ]
    },
    {
      "cell_type": "code",
      "execution_count": null,
      "metadata": {
        "id": "NK-fBtv-Z8D_",
        "outputId": "012148ed-b4a1-4b9b-95c1-357035b72c3f"
      },
      "outputs": [
        {
          "data": {
            "text/plain": [
              "array([[1],\n",
              "       [2],\n",
              "       [3],\n",
              "       [4]])"
            ]
          },
          "execution_count": 325,
          "metadata": {},
          "output_type": "execute_result"
        }
      ],
      "source": [
        "cT = np.transpose([c])\n",
        "cT"
      ]
    },
    {
      "cell_type": "markdown",
      "metadata": {
        "id": "S00fd6faZ8D_"
      },
      "source": [
        "Notemos que"
      ]
    },
    {
      "cell_type": "code",
      "execution_count": null,
      "metadata": {
        "id": "c5j13WpLZ8D_",
        "outputId": "7adf7e3f-c79c-44df-b7cc-8b5df0e9cfd4"
      },
      "outputs": [
        {
          "data": {
            "text/plain": [
              "4"
            ]
          },
          "execution_count": 326,
          "metadata": {},
          "output_type": "execute_result"
        }
      ],
      "source": [
        "len(cT)"
      ]
    },
    {
      "cell_type": "markdown",
      "metadata": {
        "id": "Kx7gvUwWZ8D_"
      },
      "source": [
        "Alternativamente poderíamos ter definido:"
      ]
    },
    {
      "cell_type": "code",
      "execution_count": null,
      "metadata": {
        "id": "JWa2hYoKZ8D_",
        "outputId": "fbf88afa-af33-4c64-8d53-72ecdc5a1b7d"
      },
      "outputs": [
        {
          "data": {
            "text/plain": [
              "array([[2, 3, 4, 5]])"
            ]
          },
          "execution_count": 327,
          "metadata": {},
          "output_type": "execute_result"
        }
      ],
      "source": [
        "c = np.array([[2,3,4,5]])\n",
        "c"
      ]
    },
    {
      "cell_type": "markdown",
      "metadata": {
        "id": "Qb7DS7u0Z8EA"
      },
      "source": [
        "de modo que"
      ]
    },
    {
      "cell_type": "code",
      "execution_count": null,
      "metadata": {
        "id": "eV6qK_tKZ8EA",
        "outputId": "d710134d-f2ec-454c-e8cc-3ffaaf09f48c"
      },
      "outputs": [
        {
          "data": {
            "text/plain": [
              "array([[2],\n",
              "       [3],\n",
              "       [4],\n",
              "       [5]])"
            ]
          },
          "execution_count": 328,
          "metadata": {},
          "output_type": "execute_result"
        }
      ],
      "source": [
        "c.T"
      ]
    },
    {
      "cell_type": "markdown",
      "metadata": {
        "id": "E2CF9IEDZ8EA"
      },
      "source": [
        "Para uma matriz, o comprimento é número de linhas (listas) que ela contém:"
      ]
    },
    {
      "cell_type": "code",
      "execution_count": null,
      "metadata": {
        "id": "6MPGZcUxZ8EA",
        "outputId": "bbd51948-df5d-4d20-c4b9-eb2f0e30322b"
      },
      "outputs": [
        {
          "data": {
            "text/plain": [
              "array([[2, 3, 4],\n",
              "       [3, 4, 5],\n",
              "       [2, 3, 7],\n",
              "       [3, 4, 1]])"
            ]
          },
          "execution_count": 329,
          "metadata": {},
          "output_type": "execute_result"
        }
      ],
      "source": [
        "M = np.array([[2,3,4], [3, 4, 5], [2, 3, 7], [3, 4, 1]])\n",
        "M"
      ]
    },
    {
      "cell_type": "code",
      "execution_count": null,
      "metadata": {
        "id": "JXkz7fYSZ8EA",
        "outputId": "93439039-e6ea-477e-eeb9-fd985653983d"
      },
      "outputs": [
        {
          "data": {
            "text/plain": [
              "4"
            ]
          },
          "execution_count": 330,
          "metadata": {},
          "output_type": "execute_result"
        }
      ],
      "source": [
        "len(M)"
      ]
    },
    {
      "cell_type": "markdown",
      "metadata": {
        "id": "SJJ8ZmxQZ8EA"
      },
      "source": [
        "O algoritmo  de eliminação pode ser realizado em Python da seguinte forma:"
      ]
    },
    {
      "cell_type": "code",
      "execution_count": null,
      "metadata": {
        "id": "vBpCqxmXZ8EA"
      },
      "outputs": [],
      "source": [
        "def GaussElimin(a,b):\n",
        "    n = len(a)\n",
        "    for k in range(0,n-1): # Define o índice do elemento pivot (0,1,2 para n = 4)\n",
        "        for i in range(k+1,n): # Percorre a linha abaixo da linha do pivot e vai até a linha n-1 (3 para n=4)\n",
        "            lam = a[i,k]/a[k,k]\n",
        "            a[i,k+1:n] = a[i,k+1:n] - lam*a[k,k+1:n] # Atualiza os elementos da linha i\n",
        "            a[i,k]=0\n",
        "            b[i] = b[i] - lam*b[k]\n",
        "    return  np.hstack([a,b])"
      ]
    },
    {
      "cell_type": "markdown",
      "metadata": {
        "id": "G5Hahi8lZ8EA"
      },
      "source": [
        "Testemos a função."
      ]
    },
    {
      "cell_type": "code",
      "execution_count": null,
      "metadata": {
        "id": "NzERj7qPZ8EA",
        "outputId": "05f2b62c-3df0-4bbb-fadb-f045f65a0748"
      },
      "outputs": [
        {
          "name": "stdout",
          "output_type": "stream",
          "text": [
            "[[ 6.  1.  2.  4.]\n",
            " [ 5. 11. -3.  2.]\n",
            " [-3.  4.  3.  5.]\n",
            " [ 5.  2.  8.  3.]]\n"
          ]
        }
      ],
      "source": [
        "A = np.array([[6.,1.,2.,4.],[5.,11.,-3.,2.],[-3.,4.,3.,5.],[5.,2.,8.,3.]])\n",
        "print(A)"
      ]
    },
    {
      "cell_type": "code",
      "execution_count": null,
      "metadata": {
        "id": "MMOoXia7Z8EB",
        "outputId": "5188f151-f9d7-401f-ede4-fea165ae0996"
      },
      "outputs": [
        {
          "name": "stdout",
          "output_type": "stream",
          "text": [
            "[[ 2.]\n",
            " [-4.]\n",
            " [ 3.]\n",
            " [-7.]]\n"
          ]
        }
      ],
      "source": [
        "B = np.transpose(np.array([[2.,-4.,3.,-7.]]))\n",
        "print(B)"
      ]
    },
    {
      "cell_type": "markdown",
      "metadata": {
        "id": "BDi8y092Z8EB"
      },
      "source": [
        "É importante notar que as os números dados nas entradas são terminados por um ponto, para informa que ele é do tipo *float* e não *integer*. Outra opção seria usar uma entrada da forma:"
      ]
    },
    {
      "cell_type": "code",
      "execution_count": null,
      "metadata": {
        "id": "7rIxal2dZ8EB"
      },
      "outputs": [],
      "source": [
        "A = np.array([[6,1,2,4],[5,11,-3,2],[-3,4,3,5],[5,2,8,3]],dtype=float)\n",
        "B = np.transpose(np.array([[2,-4,3,-7]],dtype=float))"
      ]
    },
    {
      "cell_type": "markdown",
      "metadata": {
        "id": "z_jhOuJvZ8EB"
      },
      "source": [
        " Formemos a matriz aumentada $M$:"
      ]
    },
    {
      "cell_type": "code",
      "execution_count": null,
      "metadata": {
        "id": "zEdKsSQPZ8EB",
        "outputId": "197fe921-e232-41a5-b743-b394f38f5122"
      },
      "outputs": [
        {
          "name": "stdout",
          "output_type": "stream",
          "text": [
            "[[ 6.  1.  2.  4.  2.]\n",
            " [ 5. 11. -3.  2. -4.]\n",
            " [-3.  4.  3.  5.  3.]\n",
            " [ 5.  2.  8.  3. -7.]]\n"
          ]
        }
      ],
      "source": [
        "M = np.hstack([A,B])\n",
        "print(M)"
      ]
    },
    {
      "cell_type": "markdown",
      "metadata": {
        "id": "z0RVrKI3Z8EB"
      },
      "source": [
        "Realizemos a eliminação gaussiana:"
      ]
    },
    {
      "cell_type": "code",
      "execution_count": null,
      "metadata": {
        "id": "TmfL_wRHZ8EB",
        "outputId": "7f50b2ea-da74-45fd-e552-2c8082403ea7"
      },
      "outputs": [
        {
          "name": "stdout",
          "output_type": "stream",
          "text": [
            "[[  6.           1.           2.           4.           2.        ]\n",
            " [  0.          10.16666667  -4.66666667  -1.33333333  -5.66666667]\n",
            " [  0.           0.           6.06557377   7.59016393   6.50819672]\n",
            " [  0.           0.           0.          -8.77567568 -15.38648649]]\n"
          ]
        }
      ],
      "source": [
        "M1=GaussElimin(A,B)\n",
        "print(M1)"
      ]
    },
    {
      "cell_type": "markdown",
      "metadata": {
        "id": "hHGin4Q-Z8EB"
      },
      "source": [
        "### 3.  Fase de retrosubstituição\n",
        "\n",
        "Começamos a resolver a corresponde última equação do sistema reduzido, ou seja,\n",
        "\n",
        "$$\n",
        "x_n=\\frac{b_n}{a_{nn}}\\,.\n",
        "$$\n",
        "\n",
        "Consideremos agora o estágio da retrosubstituição onde $x_n, x_{n-1}, \\ldots , x_{k+1} $ já foram computados e devemos computar $x_k$ a partir da equação $k$:\n",
        "\n",
        "$$\n",
        "a_{kk}x_k+a_{k k+1} x_{k+1}+ \\cdots + a_{k n}x_n=b_k\\,.\n",
        "$$\n",
        "\n",
        "Resolvendo para $k_k$ obtemos\n",
        "\n",
        "$$\n",
        "x_k=\\frac{1}{a_{kk}}\\left(b_k-a_{k k+1} x_{k+1}- \\cdots - a_{k n}x_n\\right)= \\frac{1}{a_{kk}}\\left(b_k-\\sum_{j=k+1}^n a_{kj}x_j\\right)\\,.\n",
        "$$\n",
        "\n",
        "Implementemos esta função no Python."
      ]
    },
    {
      "cell_type": "markdown",
      "metadata": {
        "id": "RQb9jNKuZ8EB"
      },
      "source": [
        "A seguinte função tem como entrada uma matriz de coeficientes na forma escalonada e a matriz coluna da parte homogênea. A saída é solução do correspondente sistema linear."
      ]
    },
    {
      "cell_type": "markdown",
      "metadata": {
        "id": "QAGJH7duZ8EB"
      },
      "source": []
    },
    {
      "cell_type": "code",
      "execution_count": null,
      "metadata": {
        "id": "3OsEO0ZBZ8EB"
      },
      "outputs": [],
      "source": [
        "# Retrosubstituição\n",
        "def GaussRetro(a,b):\n",
        "    n = len(b)\n",
        "    x=np.zeros(n)\n",
        "    x[n-1]=b[n-1]/a[n-1,n-1]\n",
        "    for k in range(n-1,-1,-1):\n",
        "        x[k] = (b[k] - np.dot(a[k,k+1:n],x[k+1:n]))/a[k,k]\n",
        "    return np.transpose([x])"
      ]
    },
    {
      "cell_type": "markdown",
      "metadata": {
        "id": "8xPjo9WCZ8EC"
      },
      "source": [
        "Para entender o uso do comando np.dot acima devemos notar que para cada $k$, tanto $a[k,k+1:n]$ quanto $b[k+1:n]$ são vetores computacionais de comprimento $n-k$. O comando np.dot faz com que as respectivas componentes sejam multiplicadas e somadas, tal como no produto escalar usual. O comando range(n-1,-1,-1) faz com que os valores de k comecem em n-1 e sigam de modo descrescente até chegar em k=0 (que antecede -1)."
      ]
    },
    {
      "cell_type": "markdown",
      "metadata": {
        "id": "8G7t_9iBZ8EC"
      },
      "source": [
        " Usemos o exemplo acima. Inicialmente fatiamos a matriz ampliada. A matriz de coeficientes é dada por"
      ]
    },
    {
      "cell_type": "code",
      "execution_count": null,
      "metadata": {
        "id": "qnuYKRhFZ8EC",
        "outputId": "ba1bfd73-1ad4-44b6-e425-502d173f2a94"
      },
      "outputs": [
        {
          "data": {
            "text/plain": [
              "array([[ 6.        ,  1.        ,  2.        ,  4.        ],\n",
              "       [ 0.        , 10.16666667, -4.66666667, -1.33333333],\n",
              "       [ 0.        ,  0.        ,  6.06557377,  7.59016393],\n",
              "       [ 0.        ,  0.        ,  0.        , -8.77567568]])"
            ]
          },
          "execution_count": 349,
          "metadata": {},
          "output_type": "execute_result"
        }
      ],
      "source": [
        "A1 = M1[:,0:4]\n",
        "A1"
      ]
    },
    {
      "cell_type": "markdown",
      "metadata": {
        "id": "8vnLdCDzZ8EC"
      },
      "source": [
        "A parte não homogênea é dada por:"
      ]
    },
    {
      "cell_type": "code",
      "execution_count": null,
      "metadata": {
        "id": "PTxbJZXOZ8EC",
        "outputId": "391b7787-afda-4aa0-d749-67550d9a0647"
      },
      "outputs": [
        {
          "data": {
            "text/plain": [
              "array([  2.        ,  -5.66666667,   6.50819672, -15.38648649])"
            ]
          },
          "execution_count": 357,
          "metadata": {},
          "output_type": "execute_result"
        }
      ],
      "source": [
        "B1= M1[:,4]\n",
        "B1"
      ]
    },
    {
      "cell_type": "markdown",
      "metadata": {
        "id": "yG0WsLfoZ8EC"
      },
      "source": [
        "Apliquemos agora a função que realiza a retrosubstituição:"
      ]
    },
    {
      "cell_type": "code",
      "execution_count": null,
      "metadata": {
        "id": "c1YRBg0rZ8EC",
        "outputId": "d0f1ea31-ce21-4221-ba9d-69bbd575120d"
      },
      "outputs": [
        {
          "data": {
            "text/plain": [
              "array([[-0.32152756],\n",
              "       [-0.84200801],\n",
              "       [-1.1210348 ],\n",
              "       [ 1.75331075]])"
            ]
          },
          "execution_count": 358,
          "metadata": {},
          "output_type": "execute_result"
        }
      ],
      "source": [
        "X1 = GaussRetro(A1,B1)\n",
        "X1"
      ]
    },
    {
      "cell_type": "markdown",
      "metadata": {
        "id": "vc0lQ3IUZ8EC"
      },
      "source": [
        "Podemos verificar que este resultado é correto. É importante definir novamente o sistema original, uma vez que as matrizes A e B foram modificadas ao longo do processo. Este procedimento é fundamental em Python."
      ]
    },
    {
      "cell_type": "code",
      "execution_count": null,
      "metadata": {
        "id": "I7_lj9WpZ8EC"
      },
      "outputs": [],
      "source": [
        "A = np.array([[6.,1.,2.,4.],[5.,11.,-3.,2.],[-3.,4.,3.,5.],[5.,2.,8.,3.]])\n",
        "B = np.transpose(np.array([[2.,-4.,3.,-7.]]))"
      ]
    },
    {
      "cell_type": "code",
      "execution_count": null,
      "metadata": {
        "id": "RnYM-52EZ8EC",
        "outputId": "c18ebfb9-b7f7-4427-f96e-ff53eee5391f"
      },
      "outputs": [
        {
          "data": {
            "text/plain": [
              "array([[-4.44089210e-16],\n",
              "       [-8.88178420e-16],\n",
              "       [ 8.88178420e-16],\n",
              "       [-3.55271368e-15]])"
            ]
          },
          "execution_count": 366,
          "metadata": {},
          "output_type": "execute_result"
        }
      ],
      "source": [
        "A@X1-B"
      ]
    },
    {
      "cell_type": "markdown",
      "metadata": {
        "id": "aPVBN5JKZ8EC"
      },
      "source": [
        "Podemos resolver sistemas lineares com métodos diretos usando  comando solve do numpy:"
      ]
    },
    {
      "cell_type": "code",
      "execution_count": null,
      "metadata": {
        "id": "yTnjgM5YZ8EC"
      },
      "outputs": [],
      "source": [
        "import numpy.linalg as la"
      ]
    },
    {
      "cell_type": "code",
      "execution_count": null,
      "metadata": {
        "id": "H1qfxGgSZ8ED",
        "outputId": "fbe3a769-a8f4-4bbe-c67e-23c8f3640b29"
      },
      "outputs": [
        {
          "name": "stdout",
          "output_type": "stream",
          "text": [
            "[[-0.32152756]\n",
            " [-0.84200801]\n",
            " [-1.1210348 ]\n",
            " [ 1.75331075]]\n"
          ]
        }
      ],
      "source": [
        "x = la.solve(A,B)\n",
        "print(x)"
      ]
    },
    {
      "cell_type": "markdown",
      "metadata": {
        "id": "jEF558OiZ8ED"
      },
      "source": [
        "### 4.  Algoritmo de eliminação gaussiana simples completo"
      ]
    },
    {
      "cell_type": "markdown",
      "metadata": {
        "id": "8106V2X2Z8ED"
      },
      "source": [
        "Juntemos as duas funções numa só. A atribuição a[i,k]=0 agora pode ser removida pois é irrelevante:"
      ]
    },
    {
      "cell_type": "code",
      "execution_count": null,
      "metadata": {
        "id": "wrfNQzDRZ8ED"
      },
      "outputs": [],
      "source": [
        "def GaussSolve(a,b):\n",
        "    n = len(a)\n",
        "    x=np.zeros(n)\n",
        "    for k in range(0,n-1):\n",
        "        for i in range(k+1,n):\n",
        "            lam = a[i,k]/a[k,k]\n",
        "            a[i,k+1:n] = a[i,k+1:n] - lam*a[k,k+1:n]\n",
        "            b[i] = b[i] - lam*b[k]\n",
        "    x[n-1]=b[n-1]/a[n-1,n-1]\n",
        "    for k in range(n-2,-1,-1):\n",
        "        x[k] = (b[k] - np.dot(a[k,k+1:n],x[k+1:n]))/a[k,k]\n",
        "    return np.transpose([x])"
      ]
    },
    {
      "cell_type": "markdown",
      "metadata": {
        "id": "BrgMufPdZ8ED"
      },
      "source": [
        "Testemos o algoritmo completo no sistema linear anterior."
      ]
    },
    {
      "cell_type": "code",
      "execution_count": null,
      "metadata": {
        "id": "Zw1bGCWTZ8ED"
      },
      "outputs": [],
      "source": [
        "A = np.array([[6.,1.,2.,4.],[5.,11.,-3.,2.],[-3.,4.,3.,5.],[5.,2.,8.,3.]])\n",
        "B = np.transpose(np.array([[2.,-4.,3.,-7.]]))"
      ]
    },
    {
      "cell_type": "code",
      "execution_count": null,
      "metadata": {
        "id": "GQIDAtLBZ8ED",
        "outputId": "247250d9-3907-4f24-c084-713c8beb818c"
      },
      "outputs": [
        {
          "data": {
            "text/plain": [
              "array([[-0.32152756],\n",
              "       [-0.84200801],\n",
              "       [-1.1210348 ],\n",
              "       [ 1.75331075]])"
            ]
          },
          "execution_count": 371,
          "metadata": {},
          "output_type": "execute_result"
        }
      ],
      "source": [
        "X1=  GaussSolve(A,B)\n",
        "X1"
      ]
    },
    {
      "cell_type": "markdown",
      "metadata": {
        "id": "OnsHiQKoZ8ED"
      },
      "source": [
        "que é o mesmo resultado obtido anteriormente"
      ]
    },
    {
      "cell_type": "markdown",
      "metadata": {
        "id": "MI8-693-Z8ED"
      },
      "source": [
        "### 5. Exemplo com sistemas grandes"
      ]
    },
    {
      "cell_type": "code",
      "execution_count": null,
      "metadata": {
        "id": "slZ0fYjpZ8ED"
      },
      "outputs": [],
      "source": [
        "Façamos testes em sistemas grandes aleatórios"
      ]
    },
    {
      "cell_type": "code",
      "execution_count": null,
      "metadata": {
        "id": "nkluUP8dZ8ED"
      },
      "outputs": [],
      "source": [
        "np.random.seed(43453)\n",
        "N = 10\n",
        "A3 = np.random.rand(N,N)\n",
        "B3 = np.random.rand(N,1)"
      ]
    },
    {
      "cell_type": "code",
      "execution_count": null,
      "metadata": {
        "id": "R8G_7G8vZ8ED",
        "outputId": "170e21f2-d855-4c52-8423-9e890213bc85"
      },
      "outputs": [
        {
          "data": {
            "text/plain": [
              "array([[-0.78014194],\n",
              "       [ 1.64411949],\n",
              "       [-1.13319994],\n",
              "       [-0.72833755],\n",
              "       [-2.02054919],\n",
              "       [ 1.06249775],\n",
              "       [-0.78987105],\n",
              "       [ 2.26036594],\n",
              "       [ 2.07989874],\n",
              "       [-0.4584725 ]])"
            ]
          },
          "execution_count": 373,
          "metadata": {},
          "output_type": "execute_result"
        }
      ],
      "source": [
        "X3 = GaussSolve(A3,B3)\n",
        "X3"
      ]
    },
    {
      "cell_type": "markdown",
      "metadata": {
        "id": "voPs0eMrZ8ED"
      },
      "source": [
        "Verifiquemos a resposta, calculando o resíduo:"
      ]
    },
    {
      "cell_type": "code",
      "execution_count": null,
      "metadata": {
        "id": "FI8-hJXkZ8ED"
      },
      "outputs": [],
      "source": [
        "np.random.seed(43453)\n",
        "N = 10\n",
        "A3 = np.random.rand(N,N)\n",
        "B3 = np.random.rand(N,1)"
      ]
    },
    {
      "cell_type": "code",
      "execution_count": null,
      "metadata": {
        "id": "Jo8ZPcYyZ8EE",
        "outputId": "76be18f7-a0d3-44d1-93eb-b08aa180640f"
      },
      "outputs": [
        {
          "data": {
            "text/plain": [
              "array([[ 2.22044605e-16],\n",
              "       [-5.55111512e-17],\n",
              "       [-2.33146835e-15],\n",
              "       [-6.38378239e-15],\n",
              "       [-2.44249065e-15],\n",
              "       [ 1.11022302e-15],\n",
              "       [-2.77555756e-16],\n",
              "       [-6.66133815e-15],\n",
              "       [-5.21804822e-15],\n",
              "       [-1.22124533e-15]])"
            ]
          },
          "execution_count": 379,
          "metadata": {},
          "output_type": "execute_result"
        }
      ],
      "source": [
        "R=A3@X3-B3\n",
        "R"
      ]
    },
    {
      "cell_type": "markdown",
      "metadata": {
        "id": "GVBDokgRZ8EE"
      },
      "source": [
        "Se o sistema é muito grande é difícil inspecionar todas as componentes. Em geral avaliamos o resíduo calculando uma norma do vetor correspondente. A norma mais usada é a norma infinito, é definida como sendo a maior magnitude entre as componentes:  \n",
        "\n",
        "$$\n",
        "|\\mathbf{u}|_{\\infty}=\\max_i\\{{|u_i|},i=1,\\ldots,n\\}.\n",
        "$$\n",
        "\n",
        "No nosso caso,"
      ]
    },
    {
      "cell_type": "code",
      "execution_count": null,
      "metadata": {
        "id": "uZtpQ78FZ8EE"
      },
      "outputs": [],
      "source": [
        "import numpy.linalg as la"
      ]
    },
    {
      "cell_type": "code",
      "execution_count": null,
      "metadata": {
        "id": "xEydMYAYZ8EE",
        "outputId": "7ebdba2a-e09b-4190-9f22-8900b8554ad6"
      },
      "outputs": [
        {
          "data": {
            "text/plain": [
              "6.661338147750939e-15"
            ]
          },
          "execution_count": 381,
          "metadata": {},
          "output_type": "execute_result"
        }
      ],
      "source": [
        "NR = la.norm(R, np.inf)\n",
        "NR"
      ]
    },
    {
      "cell_type": "markdown",
      "metadata": {
        "id": "PxCm3Z43Z8EE"
      },
      "source": [
        "Testemos o desempenho do programa que escrevemos com sistemas grandes."
      ]
    },
    {
      "cell_type": "code",
      "execution_count": null,
      "metadata": {
        "id": "ihFzrGYGZ8EE"
      },
      "outputs": [],
      "source": [
        "np.random.seed(43453)\n",
        "N = 300\n",
        "A4 = np.random.rand(N,N)\n",
        "B4 = np.random.rand(N,1)"
      ]
    },
    {
      "cell_type": "code",
      "execution_count": null,
      "metadata": {
        "id": "wADvEWzXZ8EE"
      },
      "outputs": [],
      "source": [
        "X4 = GaussSolve(A4,B4)"
      ]
    },
    {
      "cell_type": "markdown",
      "metadata": {
        "id": "58jB7DXSZ8EE"
      },
      "source": [
        "Calculemos o resíduo:"
      ]
    },
    {
      "cell_type": "code",
      "execution_count": null,
      "metadata": {
        "id": "LEZc1p_2Z8EE"
      },
      "outputs": [],
      "source": [
        "np.random.seed(43453)\n",
        "N = 300\n",
        "A4 = np.random.rand(N,N)\n",
        "B4 = np.random.rand(N,1)"
      ]
    },
    {
      "cell_type": "code",
      "execution_count": null,
      "metadata": {
        "id": "m-TRXWz3Z8EE",
        "outputId": "7e073bc1-5a87-449a-f84a-231cb78ba949"
      },
      "outputs": [
        {
          "data": {
            "text/plain": [
              "6.33038066411018e-12"
            ]
          },
          "execution_count": 388,
          "metadata": {},
          "output_type": "execute_result"
        }
      ],
      "source": [
        "NR = la.norm(A4@X4-B4,np.inf)\n",
        "NR"
      ]
    },
    {
      "cell_type": "markdown",
      "metadata": {
        "id": "wo7iDKnrZ8EE"
      },
      "source": [
        "Examinemos o tempo de CPU necessário para resolver este sistema:"
      ]
    },
    {
      "cell_type": "code",
      "execution_count": null,
      "metadata": {
        "id": "j2h9jWs7Z8EE"
      },
      "outputs": [],
      "source": [
        "np.random.seed(43453)\n",
        "N = 300\n",
        "A4 = np.random.rand(N,N)\n",
        "B4 = np.random.rand(N,1)"
      ]
    },
    {
      "cell_type": "code",
      "execution_count": null,
      "metadata": {
        "id": "9U_ySgymZ8EE",
        "outputId": "b0ae494e-1b92-462b-8035-65cd96a7471e"
      },
      "outputs": [
        {
          "name": "stdout",
          "output_type": "stream",
          "text": [
            "277 ms ± 1.7 ms per loop (mean ± std. dev. of 7 runs, 1 loop each)\n"
          ]
        }
      ],
      "source": [
        "%%timeit\n",
        "GaussSolve(A4,B4)"
      ]
    },
    {
      "cell_type": "markdown",
      "metadata": {
        "id": "9I4vq0sSZ8EE"
      },
      "source": [
        "O tempo de CPU necessário usando a função solve do numpy é dado por:"
      ]
    },
    {
      "cell_type": "code",
      "execution_count": null,
      "metadata": {
        "id": "C0tPxXHDZ8EE"
      },
      "outputs": [],
      "source": [
        "np.random.seed(43453)\n",
        "N = 300\n",
        "A4 = np.random.rand(N,N)\n",
        "B4 = np.random.rand(N,1)"
      ]
    },
    {
      "cell_type": "code",
      "execution_count": null,
      "metadata": {
        "id": "L4AThDGNZ8EE",
        "outputId": "cdcbb766-f114-47b1-9101-dccb8dc37975"
      },
      "outputs": [
        {
          "name": "stdout",
          "output_type": "stream",
          "text": [
            "7.15 µs ± 78.6 ns per loop (mean ± std. dev. of 7 runs, 100000 loops each)\n"
          ]
        }
      ],
      "source": [
        "%%timeit\n",
        "la.solve(A,B)"
      ]
    },
    {
      "cell_type": "markdown",
      "metadata": {
        "id": "kvB0zsPeZ8EF"
      },
      "source": [
        "Como esperado, o solver é muito mais rápido do que nosso algoritmo pedagógico, por uma ordem de:"
      ]
    },
    {
      "cell_type": "code",
      "execution_count": null,
      "metadata": {
        "id": "8VXTIw_TZ8EF",
        "outputId": "4f58ff28-cccd-4777-93a8-5ab4be6738a6"
      },
      "outputs": [
        {
          "data": {
            "text/plain": [
              "38741.258741258745"
            ]
          },
          "execution_count": 394,
          "metadata": {},
          "output_type": "execute_result"
        }
      ],
      "source": [
        "277*10**(-3)/(7.15*10**(-6))"
      ]
    },
    {
      "cell_type": "markdown",
      "metadata": {
        "id": "OXCTuKFpZ8EF"
      },
      "source": [
        "### 6. Exercícios"
      ]
    },
    {
      "cell_type": "markdown",
      "metadata": {
        "id": "S38O00mNZ8EF"
      },
      "source": [
        "1. Resolva passo a passo um sistema linear $4 \\times 4$ aleatório (use os 4 primeiros dígitos do seu cpf para o seed), descrevendo cada passo do algoritmo GaussElimin e GaussRetro. Verifique a resposta calculando o resíduo.\n",
        "<p>\n",
        "2. Resolva um sistema aleatório $500 \\times 500$ usando o algoritmo GaussSolve (não mostre o resultado). Verifique a correção do resultado calculando a norma do resíduo e compare o tempo de CPU necessário. Repita o procedimento usando o solver do numpy."
      ]
    },
    {
      "cell_type": "markdown",
      "metadata": {
        "id": "mMTBLAYkZ8EF"
      },
      "source": [
        "3. A matriz de Hilbert $ H_n $ de ordem $ n $ é definida como:\n",
        "$$\n",
        "H_{ij} = \\frac{1}{i + j + 1}, \\quad i, j = 0, 1, \\dots, n.\n",
        "$$\n",
        "\n",
        "Podemos defini-la no Python da seguinte forma:"
      ]
    },
    {
      "cell_type": "code",
      "execution_count": 7,
      "metadata": {
        "id": "iZy31ZCPZ8EF"
      },
      "outputs": [],
      "source": [
        "def hilb(n):\n",
        "    return np.array([[1/(i+j+1) for i in range(n)] for j in range(n)])"
      ]
    },
    {
      "cell_type": "markdown",
      "metadata": {
        "id": "9UGo7V7IZ8EF"
      },
      "source": [
        "Por exemplo,"
      ]
    },
    {
      "cell_type": "code",
      "execution_count": 8,
      "metadata": {
        "colab": {
          "base_uri": "https://localhost:8080/"
        },
        "id": "JV_Ug8yCZ8EF",
        "outputId": "494f5188-8779-4399-87d0-70293a5c38de"
      },
      "outputs": [
        {
          "output_type": "execute_result",
          "data": {
            "text/plain": [
              "array([[1.        , 0.5       , 0.33333333, 0.25      ],\n",
              "       [0.5       , 0.33333333, 0.25      , 0.2       ],\n",
              "       [0.33333333, 0.25      , 0.2       , 0.16666667],\n",
              "       [0.25      , 0.2       , 0.16666667, 0.14285714]])"
            ]
          },
          "metadata": {},
          "execution_count": 8
        }
      ],
      "source": [
        "hilb(4)"
      ]
    },
    {
      "cell_type": "markdown",
      "metadata": {
        "id": "2Vd2ateIZ8EF"
      },
      "source": [
        "Matrizes de Hilbert são um clássico de exemplo de matrizes denominadas ma- condicionadas , no sentido de que pequenas perturbações na entrada geram soluções muito diferentes. O **número de condição** de uma matriz $ A $, denotado por $ \\kappa(A) $, mede a sensibilidade da solução de um sistema linear $ A \\mathbf{x} = \\mathbf{b} $ a tais pequenas perturbações na matriz $ A $ ou no vetor $ \\mathbf{b} $. Ele é definido como:\n",
        "$$\n",
        "\\kappa(A) = \\|A\\| \\cdot \\|A^{-1}\\|,\n",
        "$$\n",
        "onde $ \\|A\\| $ é a norma da matriz (normalmente a norma 2). Um número de condição alto indica que o sistema é mal condicionado, ou seja, pequenas mudanças nos dados podem causar grandes variações na solução."
      ]
    },
    {
      "cell_type": "markdown",
      "metadata": {
        "id": "y0x9CtZSZ8EF"
      },
      "source": [
        "(i) Resolva o sistema linear $HX=B$, sendo $H$ a matriz de Hilbert 30 x 30 e B uma matriz coluna formada por 1. Use o algoritmo desenvolvido anteriormente para resolver o sistema.  Calcule o resíduo em ambos os casos."
      ]
    },
    {
      "cell_type": "markdown",
      "metadata": {
        "id": "62_95wiQZ8EF"
      },
      "source": [
        "(ii) Estude a instabilidade de sistemas com matrizes de Hilbert $n \\times n$. Por exemplo, varie um pouco o valor de um coeficiente de B, ou adicione um pequeno termo na matriz H."
      ]
    },
    {
      "cell_type": "markdown",
      "metadata": {
        "id": "6MQRoh5HZ8EF"
      },
      "source": [
        "(iii) Defina um sistema $GX=B$, $n \\times n$, com $G=[g_{ij}]$ e $g_{ij}=1/(1+i+2j)$. Verifique se tal sistema também é instável. Varie $n$. Use o solver no Numpy, por exemplo,"
      ]
    },
    {
      "cell_type": "code",
      "source": [
        "# Calculando o número de condição\n",
        "condicao = np.linalg.cond(hilb(4))\n",
        "print(f\"Número de condição da matriz de Hilbert: {cond_H}\")"
      ],
      "metadata": {
        "colab": {
          "base_uri": "https://localhost:8080/"
        },
        "id": "DbfZ7zlA4TrH",
        "outputId": "2309f152-5cf7-4296-c865-85db9390e31c"
      },
      "execution_count": 9,
      "outputs": [
        {
          "output_type": "stream",
          "name": "stdout",
          "text": [
            "Número de condição da matriz de Hilbert: 15513.73873892924\n"
          ]
        }
      ]
    },
    {
      "cell_type": "code",
      "source": [
        "### Código Inicial\n",
        "import numpy as np\n",
        "from scipy.linalg import hilbert\n",
        "\n",
        "# Definindo a matriz de Hilbert\n",
        "n = 10\n",
        "H = hilbert(n)\n",
        "b = np.ones(n)\n",
        "\n",
        "# Calculando o número de condição\n",
        "cond_H = np.linalg.cond(H)\n",
        "print(f\"Número de condição da matriz de Hilbert: {cond_H}\")"
      ],
      "metadata": {
        "colab": {
          "base_uri": "https://localhost:8080/"
        },
        "id": "JA4r-xOl4gBo",
        "outputId": "1d8f7cd9-bb36-42ca-a761-f205bf1aff88"
      },
      "execution_count": 2,
      "outputs": [
        {
          "output_type": "stream",
          "name": "stdout",
          "text": [
            "Número de condição da matriz de Hilbert: 16024416987428.36\n"
          ]
        }
      ]
    },
    {
      "cell_type": "code",
      "source": [],
      "metadata": {
        "id": "36gSG9i94iHB"
      },
      "execution_count": null,
      "outputs": []
    }
  ],
  "metadata": {
    "kernelspec": {
      "display_name": "Python 3",
      "language": "python",
      "name": "python3"
    },
    "language_info": {
      "codemirror_mode": {
        "name": "ipython",
        "version": 3
      },
      "file_extension": ".py",
      "mimetype": "text/x-python",
      "name": "python",
      "nbconvert_exporter": "python",
      "pygments_lexer": "ipython3",
      "version": "3.8.5"
    },
    "colab": {
      "provenance": [],
      "include_colab_link": true
    }
  },
  "nbformat": 4,
  "nbformat_minor": 0
}