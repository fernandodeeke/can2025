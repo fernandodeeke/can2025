{
 "cells": [
  {
   "cell_type": "markdown",
   "metadata": {},
   "source": [
    "<center><h1>Numerical Analysis</h1></center>\n",
    "<center><h2>2023/1</h2></center>\n",
    "<center><h3>Fernando Deeke Sasse</h3></center>\n",
    "<center><h3>CCT - UDESC</h3></center>\n",
    "<center><h2>Gaussian Elimination - 1</h2></center>\n"
   ]
  },
  {
   "cell_type": "markdown",
   "metadata": {},
   "source": [
    "### 1.  Linear Systems \n",
    "\n",
    "We will define functions in Python that perform elementary operations on rows of a matrix that will be useful for solving systems of linear equations or simply, linear systems.  A [linear system of equations](http://bitly.ws/ChoF) is a set of linear equations coupled together by means of variables $x_0,\\ldots, x_n$, as follows:\n",
    "\n",
    "\\begin{align}\n",
    "a_{00}x_0 + a_{01}x_2 + \\cdots + a_{0n}x_n & = b_0 \\\\\\\n",
    "a_{10}x_0 + a_{11}x_2 + \\cdots + a_{1n}x_n & = b_1 \\\\\\\n",
    "& \\vdots \\\\\\\n",
    "a_{m0}x_0 + a_{m1}x_2 + \\cdots + a_{mn}x_n & = b_m \\\\\\\n",
    "\\end{align}\n",
    "\n",
    "Unlike the more common indicial notation, which starts at 1, we will use the convention in use in Python, where the first index is 0. In matrix notation the linear system of $n+1$ and $n+1$ unknowns is represented in the form \n",
    " $A X= B$, where\n",
    " \n",
    " $$\n",
    "A = \\begin{bmatrix}\n",
    "a_{00} & a_{01} & \\cdots & a_{0n} \\\\\n",
    "a_{10} & a_{11} & \\cdots & a_{1n} \\\\\n",
    "\\vdots & & & \\vdots \\\\\\\n",
    "a_{n 0} & a_{n 1} & \\cdots & a_{n n} \\\\\n",
    "\\end{bmatrix}\n",
    " \\ \\ , \\ \\\n",
    "X = \\begin{bmatrix}\n",
    "x_0 \\\\\\ x_1 \\\\ \\vdots \\\\ x_n\n",
    "\\end{bmatrix}\n",
    " \\ \\ , \\ \\\n",
    "B = \\begin{bmatrix}\n",
    "b_0 \\\\\\ b_1 \\\\\\ \\vdots \\\\ b_n\n",
    "\\end{bmatrix} \n",
    "$$\n",
    "\n",
    "What we call the augmented matrix associated with the linear system $AX=B$ is the matrix defined by\n",
    "\n",
    "$$\n",
    "[A|B] = \\begin{bmatrix}\n",
    "a_{00} & a_{01} & \\cdots & a_{0n}& b_{0} \\\\\n",
    "a_{10} & a_{11} & \\cdots & a_{1n}& b_{1} \\\\\n",
    "\\vdots & & & \\vdots \\\\\n",
    "a_{n0} & a_{n1} & \\cdots & a_{nn} & b_{2}\\\\\n",
    "\\end{bmatrix}\n",
    "$$\n",
    "\n",
    "The Gaussian elimination method for linear systems, which we will deal with below, makes use of the augmented matrix."
   ]
  },
  {
   "cell_type": "markdown",
   "metadata": {},
   "source": [
    "### 2. Gaussian Elimination - Introduction \n",
    "\n",
    "The so-called Gaussian elimination method is the most widely used direct method for solving linear systems and is the basis for all variants of elimination methods. The method described here is also called *simple Gaussian elimination*, to distinguish it from more improved (but computationally slower) ones.  It consists of two steps:\n",
    "\n",
    "1. Elimination phase: we perform the elimination of the elements below the main diagonal of the enlarged matrix $[A| B]$ by means of elementary transformations on matrices, until we obtain the staggered form. \n",
    "2. Backsubstitution.\n",
    "\n",
    "We will describe each of these steps below: "
   ]
  },
  {
   "cell_type": "markdown",
   "metadata": {},
   "source": [
    "#### (a) Elimination phase\n",
    "In this phase we use the so-called *elementary operations on lines* of the enlarged matrix. The idea is that the rows of the matrix can be multiplied by factors, summed together and exchanged in order, without the solution of the corresponding linear system being changed. The idea is to perform elementary operations in order to place the matrix in the so called echelon form:\n",
    "\n",
    "$$\n",
    "[A|B] = \\begin{bmatrix}\n",
    "a_{00} & a_{01} & \\cdots & a_{0n}& b_{0} \\\\\n",
    "0 & a_{11} & \\cdots & a_{1n}& b_{1} \\\\\n",
    "\\vdots & & & \\vdots & \\vdots \\\\\n",
    "0 & 0 & \\cdots & a_{n} & b_{m}\\\\\n",
    "\\end{bmatrix}\n",
    "$$\n",
    "\n",
    "The corresponding system now has the general form:\n",
    "\n",
    "\\begin{align}\n",
    "a_{00}x_0 + a_{01}x_2 + \\cdots + a_{0n}x_n & = b_0 \\\\\\\n",
    " a_{11}x_2 + \\cdots + a_{1n}x_n & = b_1 \\\\\\\n",
    "& \\vdots \\\\\\\n",
    " a_{n}x_n & = b_n \\\\\\\n",
    "\\end{align}\n",
    "\n",
    "In this way the solution can be easily obtained through the back-replacement process, described below:"
   ]
  },
  {
   "cell_type": "markdown",
   "metadata": {},
   "source": [
    "#### (b) Back-substitution phase\n",
    "\n",
    "We start solving the corresponding last equation of the reduced system, i.e. \n",
    "\n",
    "$$\n",
    "x_n=\\frac{b_n}{a_{nn}},.\n",
    "$$\n",
    "\n",
    "Let us now consider the stage of back-substitution where $x_n, x_{n-1}, \\ldots , x_{k+1} $ have already been computed and we must compute $x_k$, from the equation $k$: \n",
    "\n",
    "$$\n",
    "a_{kk}x_k+a_{k k+1} x_{k+1}+ \\cdots + a_{k n}x_n=b_k\\,.\n",
    "$$\n",
    "\n",
    "Solving for $x_k$ we get\n",
    "\n",
    "$$ \n",
    "x_k=\\frac{1}{a_{kk}}\\left(b_k-a_{k k+1} x_{k+1}- \\cdots - a_{k n}x_n\\right)= \\frac{1}{a_{kk}}\\left(b_k-\\sum_{j=k+1}^n a_{kj}x_j\\right)\\,.\n",
    "$$"
   ]
  },
  {
   "cell_type": "markdown",
   "metadata": {},
   "source": [
    "The implementation of this method in Python will be covered later. Before that we will examine in more detail the process of elementary operations on lines in Python. "
   ]
  },
  {
   "cell_type": "markdown",
   "metadata": {},
   "source": [
    "### 3. Elementary row operations"
   ]
  },
  {
   "cell_type": "markdown",
   "metadata": {},
   "source": [
    "[Elementary row operations](http://bitly.ws/Chon) include:\n",
    "\n",
    "1. Add $\\lambda$ times to the $j$ line to the $i$ line.\n",
    "2. Multiply the line $i$ by the scale $\\lambda$.\n",
    "3. Exchange the lines $i$ and $j$ with each other.\n",
    "\n",
    "Each of the elementary line operations can be understood as the result of a matrix multiplication to the left by an elementary matrix.\n",
    "\n",
    "To add $k$ times the $i$ row to the $j$ row in a $A$ array, we multiply $A$ by the $E$ array by $E$ being equal to the identity array, except for the component $E_{ij} = k$.\n",
    "\n",
    "For example, if $A$ is the enlarged array given by\n",
    "\n",
    "$$\n",
    "A = \\begin{bmatrix}\n",
    "6 & 1 & 2 & 3\\\\\\\n",
    "5 & 11 & -3 & 5\\\\\\\n",
    "-3 & 4 & 3 & 7\n",
    "\\end{bmatrix}\\,.\n",
    "$$\n",
    "\n",
    "Now we want to add 2 times the line 2 to line 0, so we must calculate $E_1A$, being\n",
    "\n",
    "$$\n",
    "E_1 = \\begin{bmatrix}\n",
    "1 & 0 & 2 \\\\\\\n",
    "0 & 1 & 0 \\\\\\\n",
    "0 & 0 & 1\n",
    "\\end{bmatrix}\\,.\n",
    "$$\n",
    "\n",
    "In fact, "
   ]
  },
  {
   "cell_type": "code",
   "execution_count": 1,
   "metadata": {},
   "outputs": [],
   "source": [
    "import numpy as np"
   ]
  },
  {
   "cell_type": "code",
   "execution_count": 10,
   "metadata": {},
   "outputs": [
    {
     "name": "stdout",
     "output_type": "stream",
     "text": [
      "[[ 6  1  2  3]\n",
      " [ 5 11 -3  5]\n",
      " [-3  4  3  7]]\n"
     ]
    }
   ],
   "source": [
    "A = np.array([[6,1,2,3],[5,11,-3,5],[-3,4,3,7]])\n",
    "print(A)"
   ]
  },
  {
   "cell_type": "code",
   "execution_count": 11,
   "metadata": {},
   "outputs": [
    {
     "name": "stdout",
     "output_type": "stream",
     "text": [
      "[[1 0 2]\n",
      " [0 1 0]\n",
      " [0 0 1]]\n"
     ]
    }
   ],
   "source": [
    "E1 = np.array([[1,0,2],[0,1,0],[0,0,1]])\n",
    "print(E1)"
   ]
  },
  {
   "cell_type": "code",
   "execution_count": 12,
   "metadata": {},
   "outputs": [
    {
     "data": {
      "text/plain": [
       "array([[ 0,  9,  8, 17],\n",
       "       [ 5, 11, -3,  5],\n",
       "       [-3,  4,  3,  7]])"
      ]
     },
     "execution_count": 12,
     "metadata": {},
     "output_type": "execute_result"
    }
   ],
   "source": [
    "E1@A"
   ]
  },
  {
   "cell_type": "markdown",
   "metadata": {},
   "source": [
    "Suppose we want to exchange rows 2 and 1 of the array $A$. To do this, simply calculate $E_2A$, with\n",
    "\n",
    "$$\n",
    "E_2 = \\begin{bmatrix}\n",
    "1 & 0 & 0 \\\\\\\n",
    "0 & 0 & 1 \\\\\\\n",
    "0 & 1 & 0\n",
    "\\end{bmatrix}\\,.\n",
    "$$\n",
    "\n",
    "In fact,"
   ]
  },
  {
   "cell_type": "code",
   "execution_count": 13,
   "metadata": {},
   "outputs": [
    {
     "name": "stdout",
     "output_type": "stream",
     "text": [
      "[[1 0 0]\n",
      " [0 0 1]\n",
      " [0 1 0]]\n"
     ]
    }
   ],
   "source": [
    "E2 = np.array([[1,0,0],[0,0,1],[0,1,0]])\n",
    "print(E2)"
   ]
  },
  {
   "cell_type": "code",
   "execution_count": 14,
   "metadata": {},
   "outputs": [
    {
     "data": {
      "text/plain": [
       "array([[ 6,  1,  2,  3],\n",
       "       [-3,  4,  3,  7],\n",
       "       [ 5, 11, -3,  5]])"
      ]
     },
     "execution_count": 14,
     "metadata": {},
     "output_type": "execute_result"
    }
   ],
   "source": [
    "E2 @ A"
   ]
  },
  {
   "cell_type": "markdown",
   "metadata": {},
   "source": [
    "### 4. Python functions for elementary row operations"
   ]
  },
  {
   "cell_type": "markdown",
   "metadata": {},
   "source": [
    "Next, we will define the functions that implement elementary operations on lines by means of matrix multiplication."
   ]
  },
  {
   "cell_type": "markdown",
   "metadata": {},
   "source": [
    "#### 4.1 Adding rows"
   ]
  },
  {
   "cell_type": "markdown",
   "metadata": {},
   "source": [
    "We define a function called *soma_linhas* that has as inputs the matrix $A$, \n",
    "indexes $k$, $i$ and $j$ and as output the matrix that results from the sum of the line $j$ multiplied by $k$ with the line $i$. If $i=i$, just set $E_{ii}=k+1$. "
   ]
  },
  {
   "cell_type": "code",
   "execution_count": 21,
   "metadata": {},
   "outputs": [],
   "source": [
    "def sum_rows(A,k,i,j):\n",
    "    \"Add k times row j to row i\"\n",
    "    n=A.shape[0]\n",
    "    E=np.eye(n)\n",
    "    if i == j:\n",
    "        E[i,i] = k+1\n",
    "    else:\n",
    "        E[i,j] = k\n",
    "    return E@A"
   ]
  },
  {
   "cell_type": "markdown",
   "metadata": {},
   "source": [
    "Let us test the function for the reduction of a matrix to the upper triangular shape."
   ]
  },
  {
   "cell_type": "code",
   "execution_count": 22,
   "metadata": {},
   "outputs": [
    {
     "data": {
      "text/plain": [
       "array([[ 1,  2,  3,  8],\n",
       "       [ 4,  5,  6, 10],\n",
       "       [ 7,  8,  4, 11]])"
      ]
     },
     "execution_count": 22,
     "metadata": {},
     "output_type": "execute_result"
    }
   ],
   "source": [
    "M=np.array([[1,2,3,8],[4,5,6,10], [7,8,4,11]])\n",
    "M"
   ]
  },
  {
   "cell_type": "code",
   "execution_count": 23,
   "metadata": {},
   "outputs": [
    {
     "data": {
      "text/plain": [
       "array([[  1.,   2.,   3.,   8.],\n",
       "       [  0.,  -3.,  -6., -22.],\n",
       "       [  0.,   0.,  -5.,  -1.]])"
      ]
     },
     "execution_count": 23,
     "metadata": {},
     "output_type": "execute_result"
    }
   ],
   "source": [
    "M1 = sum_rows(M,-4,1,0)\n",
    "M2 = sum_rows(M1,-7,2,0)\n",
    "M3 = sum_rows(M2,-2,2,1)\n",
    "M3"
   ]
  },
  {
   "cell_type": "markdown",
   "metadata": {},
   "source": [
    "#### 4.2 Row rescaling"
   ]
  },
  {
   "cell_type": "markdown",
   "metadata": {},
   "source": [
    "Let's define a function called escala_linha that has as inputs the matrix $A$ and the indices $k$ and $i$ and as output the matrix that results from the multiplication by $k$ of the line $i$ of $A$."
   ]
  },
  {
   "cell_type": "code",
   "execution_count": 24,
   "metadata": {},
   "outputs": [],
   "source": [
    "def scale_row(A,k,i):\n",
    "    \"Multiply row i by k\"\n",
    "    n=A.shape[0]\n",
    "    E=np.eye(n)\n",
    "    E[i,i] = k\n",
    "    return E@A"
   ]
  },
  {
   "cell_type": "markdown",
   "metadata": {},
   "source": [
    "Let's consider again the $M$ matrix:"
   ]
  },
  {
   "cell_type": "code",
   "execution_count": 25,
   "metadata": {},
   "outputs": [
    {
     "data": {
      "text/plain": [
       "array([[ 1,  2,  3,  8],\n",
       "       [ 4,  5,  6, 10],\n",
       "       [ 7,  8,  4, 11]])"
      ]
     },
     "execution_count": 25,
     "metadata": {},
     "output_type": "execute_result"
    }
   ],
   "source": [
    "M"
   ]
  },
  {
   "cell_type": "markdown",
   "metadata": {},
   "source": [
    "We now multiply the second line by 1/4:"
   ]
  },
  {
   "cell_type": "code",
   "execution_count": 26,
   "metadata": {},
   "outputs": [
    {
     "data": {
      "text/plain": [
       "array([[ 1.  ,  2.  ,  3.  ,  8.  ],\n",
       "       [ 1.  ,  1.25,  1.5 ,  2.5 ],\n",
       "       [ 7.  ,  8.  ,  4.  , 11.  ]])"
      ]
     },
     "execution_count": 26,
     "metadata": {},
     "output_type": "execute_result"
    }
   ],
   "source": [
    "scale_row(M,1/4,1)"
   ]
  },
  {
   "cell_type": "markdown",
   "metadata": {},
   "source": [
    "#### 4.3 Row swap"
   ]
  },
  {
   "cell_type": "markdown",
   "metadata": {},
   "source": [
    "Let's define a function that has as inputs the matrix $A$ and the indices $i$ and $j$ and as output the matrix resulting from the exchange of the rows $i$ and $j$ of $A$."
   ]
  },
  {
   "cell_type": "code",
   "execution_count": 27,
   "metadata": {},
   "outputs": [],
   "source": [
    "def swap_rows(A,i,j):\n",
    "    \"Swap rows i and j\"\n",
    "    n=A.shape[0]\n",
    "    E=np.eye(n)\n",
    "    E[i,i]=0\n",
    "    E[j,j]=0\n",
    "    E[i,j]=1\n",
    "    E[j,i]=1\n",
    "    return E@A"
   ]
  },
  {
   "cell_type": "markdown",
   "metadata": {},
   "source": [
    "Let's consider again the $M$ matrix:"
   ]
  },
  {
   "cell_type": "code",
   "execution_count": 28,
   "metadata": {},
   "outputs": [
    {
     "data": {
      "text/plain": [
       "array([[ 1,  2,  3,  8],\n",
       "       [ 4,  5,  6, 10],\n",
       "       [ 7,  8,  4, 11]])"
      ]
     },
     "execution_count": 28,
     "metadata": {},
     "output_type": "execute_result"
    }
   ],
   "source": [
    "M"
   ]
  },
  {
   "cell_type": "markdown",
   "metadata": {},
   "source": [
    "Let's swap the first line for the third line:"
   ]
  },
  {
   "cell_type": "code",
   "execution_count": 29,
   "metadata": {},
   "outputs": [
    {
     "data": {
      "text/plain": [
       "array([[ 2.,  7.,  8.],\n",
       "       [ 8.,  7., 12.],\n",
       "       [ 6., 15.,  1.]])"
      ]
     },
     "execution_count": 29,
     "metadata": {},
     "output_type": "execute_result"
    }
   ],
   "source": [
    "swap_rows(A,0,2)"
   ]
  },
  {
   "cell_type": "markdown",
   "metadata": {},
   "source": [
    "### 5. Solution of a linear system using Gaussian elimination\n",
    "\n",
    "Let's use Gauss elimination to solve the system $A X = B$, with $A$ and $B$ defined below:"
   ]
  },
  {
   "cell_type": "code",
   "execution_count": 59,
   "metadata": {},
   "outputs": [
    {
     "name": "stdout",
     "output_type": "stream",
     "text": [
      "[[ 6 15  1]\n",
      " [ 8  7 12]\n",
      " [ 2  7  8]]\n"
     ]
    }
   ],
   "source": [
    "A = np.array([[6,15,1],[8,7,12],[2,7,8]])\n",
    "print(A)"
   ]
  },
  {
   "cell_type": "code",
   "execution_count": 60,
   "metadata": {},
   "outputs": [
    {
     "name": "stdout",
     "output_type": "stream",
     "text": [
      "[[ 2]\n",
      " [14]\n",
      " [10]]\n"
     ]
    }
   ],
   "source": [
    "B = np.array([[2],[14],[10]])\n",
    "print(B)"
   ]
  },
  {
   "cell_type": "markdown",
   "metadata": {},
   "source": [
    "Let us form the augmented matrix $M$:"
   ]
  },
  {
   "cell_type": "code",
   "execution_count": 61,
   "metadata": {},
   "outputs": [
    {
     "name": "stdout",
     "output_type": "stream",
     "text": [
      "[[ 6 15  1  2]\n",
      " [ 8  7 12 14]\n",
      " [ 2  7  8 10]]\n"
     ]
    }
   ],
   "source": [
    "M = np.hstack([A,B])\n",
    "print(M)"
   ]
  },
  {
   "cell_type": "markdown",
   "metadata": {},
   "source": [
    "Let us now do the elementary row operations:"
   ]
  },
  {
   "cell_type": "code",
   "execution_count": 62,
   "metadata": {},
   "outputs": [
    {
     "name": "stdout",
     "output_type": "stream",
     "text": [
      "[[  6.          15.           1.           2.        ]\n",
      " [  0.         -13.          10.66666667  11.33333333]\n",
      " [  2.           7.           8.          10.        ]]\n"
     ]
    }
   ],
   "source": [
    "M1 = sum_rows(M,-M[1,0]/M[0,0],1,0)\n",
    "print(M1)"
   ]
  },
  {
   "cell_type": "code",
   "execution_count": 63,
   "metadata": {},
   "outputs": [
    {
     "name": "stdout",
     "output_type": "stream",
     "text": [
      "[[  6.          15.           1.           2.        ]\n",
      " [  0.         -13.          10.66666667  11.33333333]\n",
      " [  0.           2.           7.66666667   9.33333333]]\n"
     ]
    }
   ],
   "source": [
    "M2 = sum_rows(M1,-M1[2,0]/M1[0,0],2,0)\n",
    "print(M2)"
   ]
  },
  {
   "cell_type": "code",
   "execution_count": 64,
   "metadata": {},
   "outputs": [
    {
     "name": "stdout",
     "output_type": "stream",
     "text": [
      "[[  6.          15.           1.           2.        ]\n",
      " [  0.         -13.          10.66666667  11.33333333]\n",
      " [  0.           0.           9.30769231  11.07692308]]\n"
     ]
    }
   ],
   "source": [
    "M3 = sum_rows(M2,-M2[2,1]/M2[1,1],2,1)\n",
    "print(M3)"
   ]
  },
  {
   "cell_type": "markdown",
   "metadata": {},
   "source": [
    "Therefore, performing the backsubstitution we obtain"
   ]
  },
  {
   "cell_type": "code",
   "execution_count": 65,
   "metadata": {},
   "outputs": [
    {
     "data": {
      "text/plain": [
       "1.1900826446280992"
      ]
     },
     "execution_count": 65,
     "metadata": {},
     "output_type": "execute_result"
    }
   ],
   "source": [
    "x2 = M3[2,3]/M3[2,2]\n",
    "x2"
   ]
  },
  {
   "cell_type": "code",
   "execution_count": 66,
   "metadata": {},
   "outputs": [
    {
     "data": {
      "text/plain": [
       "0.10468319559228649"
      ]
     },
     "execution_count": 66,
     "metadata": {},
     "output_type": "execute_result"
    }
   ],
   "source": [
    "x1 = 1./M3[1,1]*(M3[1,3]-M3[1,2]*x2)\n",
    "x1"
   ]
  },
  {
   "cell_type": "code",
   "execution_count": 67,
   "metadata": {},
   "outputs": [
    {
     "data": {
      "text/plain": [
       "-0.12672176308539942"
      ]
     },
     "execution_count": 67,
     "metadata": {},
     "output_type": "execute_result"
    }
   ],
   "source": [
    "x0 = 1./M3[0,0]*(M3[0,3]-M3[0,1]*x1-M3[0,2]*x2)\n",
    "x0"
   ]
  },
  {
   "cell_type": "markdown",
   "metadata": {},
   "source": [
    "That is, the solution is given by"
   ]
  },
  {
   "cell_type": "code",
   "execution_count": 76,
   "metadata": {},
   "outputs": [
    {
     "data": {
      "text/plain": [
       "array([[-0.12672176],\n",
       "       [ 0.1046832 ],\n",
       "       [ 1.19008264]])"
      ]
     },
     "execution_count": 76,
     "metadata": {},
     "output_type": "execute_result"
    }
   ],
   "source": [
    "x = np.transpose(np.array([[x0,x1,x2]]))\n",
    "x"
   ]
  },
  {
   "cell_type": "markdown",
   "metadata": {},
   "source": [
    "Let us check the result by calculating the residue:"
   ]
  },
  {
   "cell_type": "code",
   "execution_count": 77,
   "metadata": {},
   "outputs": [
    {
     "data": {
      "text/plain": [
       "array([[0.],\n",
       "       [0.],\n",
       "       [0.]])"
      ]
     },
     "execution_count": 77,
     "metadata": {},
     "output_type": "execute_result"
    }
   ],
   "source": [
    "A@x-B"
   ]
  },
  {
   "cell_type": "markdown",
   "metadata": {},
   "source": [
    "This result can be obtained directly using numpy's command:"
   ]
  },
  {
   "cell_type": "code",
   "execution_count": 45,
   "metadata": {
    "scrolled": true
   },
   "outputs": [
    {
     "name": "stdout",
     "output_type": "stream",
     "text": [
      "[[-0.12672176]\n",
      " [ 0.1046832 ]\n",
      " [ 1.19008264]]\n"
     ]
    }
   ],
   "source": [
    "x = np.linalg.solve(A,B)\n",
    "print(x)"
   ]
  },
  {
   "cell_type": "markdown",
   "metadata": {},
   "source": [
    "### 6.  Exercise"
   ]
  },
  {
   "cell_type": "markdown",
   "metadata": {},
   "source": [
    "Consider the linear system $AX=B$, with\n",
    "\n",
    "$$\n",
    "A = \\begin{bmatrix}\n",
    "0 & 2 & 3& 5 \\\\\n",
    "4 & -5 & 6& -3 \\\\\n",
    "1 & 5 & 2 & 1\\\\\n",
    "2 & -4 & 1 & 3\n",
    "\\end{bmatrix}\\,,\n",
    "\\qquad\n",
    "B = \n",
    "\\begin{bmatrix}\n",
    "1  \\\\\n",
    "-4  \\\\\n",
    "2\\\\\n",
    "3\n",
    "\\end{bmatrix}\\,.\n",
    "$$\n",
    "\n",
    "(i) Find the echelon form of the augmented matrix, step by step, defining a elementary operation matrix at each step.\n",
    "\n",
    "(ii) Solve the system using the elementary operation functions defined above and verify that the echelon matrix obtained is the same as in (i).\n",
    "\n",
    "(iii) Perform backsubstitution to find the solution and check the result by calculating the residue. \n",
    "\n",
    "(iv) Obtain the solution using numpy solver. \n"
   ]
  },
  {
   "cell_type": "code",
   "execution_count": null,
   "metadata": {},
   "outputs": [],
   "source": []
  }
 ],
 "metadata": {
  "kernelspec": {
   "display_name": "Python 3 (ipykernel)",
   "language": "python",
   "name": "python3"
  },
  "language_info": {
   "codemirror_mode": {
    "name": "ipython",
    "version": 3
   },
   "file_extension": ".py",
   "mimetype": "text/x-python",
   "name": "python",
   "nbconvert_exporter": "python",
   "pygments_lexer": "ipython3",
   "version": "3.9.13"
  }
 },
 "nbformat": 4,
 "nbformat_minor": 2
}
