{
 "cells": [
  {
   "cell_type": "markdown",
   "metadata": {},
   "source": [
    "<center><h1>Numerical Analysis</h1></center>\n",
    "<center><h2>2023/1</h2></center>\n",
    "<center><h3>Fernando Deeke Sasse</h3></center>\n",
    "<center><h3>CCT - UDESC</h3></center>\n",
    "<center><h2>Gaussian Elimination - 2</h2></center>"
   ]
  },
  {
   "cell_type": "markdown",
   "metadata": {},
   "source": [
    "### 1. A different view of the Gaussian elimination method\n",
    "\n",
    "As we have seen previously the Gaussian elimination method is the most widely used direct method for solving linear systems and is the basis for all variants of elimination methods. We will now look again at the two basic steps:\n",
    "\n",
    "1. Elimination phase: we perform the elimination of the elements below the main diagonal of the augmented matrix $[A|B]$ by means of elementary row operations, until we obtain the echelon form.\n",
    "2. Backsubstitution: we simply start solving recursively the resulting equations backwards.\n",
    "\n",
    "We describe each of these steps below, now using elimination factors, better suited for the algorithmic implementation of the method. "
   ]
  },
  {
   "cell_type": "markdown",
   "metadata": {},
   "source": [
    "### 2. Elimination phase\n",
    "We call *pivot row* the row above which all elements below the main diagonal have already been zeroed.\n",
    "In the expanded matrix, let the pivot row be $L_k$ and a typical line $L_i$ below to be transformed, in order to zero the element $a_{ik}$. To do so, we must multiply the pivot row by $\\lambda = a_{ik}/a_{kk}$ and subtract the result from $L_i$, that is,\n",
    "\n",
    "$$\n",
    "L_i \\rightarrow L_i - \\lambda L_k\\,.\n",
    "$$\n",
    "\n",
    "The row elements $L_i$ are updated as follows:\n",
    "\n",
    "\\begin{align}\n",
    "&a_{ij} \\leftarrow a_{ij} - \\lambda a_{kj}\\,\\qquad j=k, \\ldots , n\\\\\n",
    "&b_i \\leftarrow b_i - \\lambda b_k\\,.\n",
    "\\end{align}\n",
    "\n",
    "As $a_{ik}=0$ by construction, to save computational time, it doesn't need to be calculated, so we can take $j=k+1, \\ldots , n$.\n",
    "\n",
    "The index $k$ is the index of the pivot row, so that $k=1, \\ldots, n-1$ The index $i$ designates the row to be transformed, so that $i=k+1,\\ \\ldots, n$."
   ]
  },
  {
   "cell_type": "markdown",
   "metadata": {},
   "source": [
    "Remember that when using range(i,j), the actual range is $1, 2, \\ldots, j-1$. For example,"
   ]
  },
  {
   "cell_type": "code",
   "execution_count": null,
   "metadata": {},
   "outputs": [
    {
     "ename": "ModuleNotFoundError",
     "evalue": "No module named 'numpy'",
     "output_type": "error",
     "traceback": [
      "\u001b[0;31m---------------------------------------------------------------------------\u001b[0m",
      "\u001b[0;31mModuleNotFoundError\u001b[0m                       Traceback (most recent call last)",
      "Cell \u001b[0;32mIn[2], line 1\u001b[0m\n\u001b[0;32m----> 1\u001b[0m \u001b[38;5;28;01mimport\u001b[39;00m \u001b[38;5;21;01mnumpy\u001b[39;00m \u001b[38;5;28;01mas\u001b[39;00m \u001b[38;5;21;01mnp\u001b[39;00m\n\u001b[1;32m      2\u001b[0m c\u001b[38;5;241m=\u001b[39mnp\u001b[38;5;241m.\u001b[39marray([\u001b[38;5;241m1\u001b[39m,\u001b[38;5;241m2\u001b[39m,\u001b[38;5;241m3\u001b[39m,\u001b[38;5;241m4\u001b[39m])\n\u001b[1;32m      3\u001b[0m c[\u001b[38;5;241m0\u001b[39m]\n",
      "\u001b[0;31mModuleNotFoundError\u001b[0m: No module named 'numpy'"
     ]
    }
   ],
   "source": [
    "import numpy as np\n",
    "c=np.array([1,2,3,4])\n",
    "print(c[0])\n",
    "print(c[-1])"
   ]
  },
  {
   "cell_type": "code",
   "execution_count": 2,
   "metadata": {
    "scrolled": true
   },
   "outputs": [
    {
     "ename": "NameError",
     "evalue": "name 'c' is not defined",
     "output_type": "error",
     "traceback": [
      "\u001b[0;31m---------------------------------------------------------------------------\u001b[0m",
      "\u001b[0;31mNameError\u001b[0m                                 Traceback (most recent call last)",
      "Cell \u001b[0;32mIn[2], line 2\u001b[0m\n\u001b[1;32m      1\u001b[0m \u001b[38;5;28;01mfor\u001b[39;00m j \u001b[38;5;129;01min\u001b[39;00m \u001b[38;5;28mrange\u001b[39m(\u001b[38;5;241m0\u001b[39m,\u001b[38;5;241m3\u001b[39m):\n\u001b[0;32m----> 2\u001b[0m     \u001b[38;5;28mprint\u001b[39m(\u001b[43mc\u001b[49m[j])\n",
      "\u001b[0;31mNameError\u001b[0m: name 'c' is not defined"
     ]
    }
   ],
   "source": [
    "for j in range(0,3):\n",
    "    print(c[j])"
   ]
  },
  {
   "cell_type": "markdown",
   "metadata": {},
   "source": [
    "### 3. Gaussian elimination algorithm"
   ]
  },
  {
   "cell_type": "markdown",
   "metadata": {},
   "source": [
    "The elimination algorithm can be performed in Python as follows:"
   ]
  },
  {
   "cell_type": "code",
   "execution_count": 331,
   "metadata": {},
   "outputs": [],
   "source": [
    "def GaussElimin(a,b):\n",
    "    n = len(a)\n",
    "    for k in range(0,n-1): # define the index of the pivot element\n",
    "        for i in range(k+1,n): # goes along the row below the pivot row and goes up to n-1 \n",
    "            lam = a[i,k]/a[k,k]\n",
    "            a[i,k+1:n] = a[i,k+1:n] - lam*a[k,k+1:n] # update the elements of row i\n",
    "            a[i,k]=0\n",
    "            b[i] = b[i] - lam*b[k]\n",
    "    return  np.hstack([a,b])"
   ]
  },
  {
   "cell_type": "markdown",
   "metadata": {},
   "source": [
    "Let us test the function:"
   ]
  },
  {
   "cell_type": "code",
   "execution_count": 13,
   "metadata": {},
   "outputs": [
    {
     "name": "stdout",
     "output_type": "stream",
     "text": [
      "[[ 6.  1.  2.  4.]\n",
      " [ 5. 11. -3.  2.]\n",
      " [-3.  4.  3.  5.]\n",
      " [ 5.  2.  8.  3.]]\n"
     ]
    }
   ],
   "source": [
    "A = np.array([[6.,1.,2.,4.],[5.,11.,-3.,2.],[-3.,4.,3.,5.],[5.,2.,8.,3.]])\n",
    "print(A)"
   ]
  },
  {
   "cell_type": "code",
   "execution_count": 14,
   "metadata": {},
   "outputs": [
    {
     "name": "stdout",
     "output_type": "stream",
     "text": [
      "[[ 2.]\n",
      " [-4.]\n",
      " [ 3.]\n",
      " [-7.]]\n"
     ]
    }
   ],
   "source": [
    "B = np.transpose(np.array([[2.,-4.,3.,-7.]]))\n",
    "print(B)"
   ]
  },
  {
   "cell_type": "markdown",
   "metadata": {},
   "source": [
    "Let's form the augmented matrix $M$:"
   ]
  },
  {
   "cell_type": "code",
   "execution_count": 334,
   "metadata": {},
   "outputs": [
    {
     "name": "stdout",
     "output_type": "stream",
     "text": [
      "[[ 6.  1.  2.  4.  2.]\n",
      " [ 5. 11. -3.  2. -4.]\n",
      " [-3.  4.  3.  5.  3.]\n",
      " [ 5.  2.  8.  3. -7.]]\n"
     ]
    }
   ],
   "source": [
    "M = np.hstack([A,B])\n",
    "print(M)"
   ]
  },
  {
   "cell_type": "markdown",
   "metadata": {},
   "source": [
    "Perform the Gaussian elimination:"
   ]
  },
  {
   "cell_type": "code",
   "execution_count": 335,
   "metadata": {},
   "outputs": [
    {
     "name": "stdout",
     "output_type": "stream",
     "text": [
      "[[  6.           1.           2.           4.           2.        ]\n",
      " [  0.          10.16666667  -4.66666667  -1.33333333  -5.66666667]\n",
      " [  0.           0.           6.06557377   7.59016393   6.50819672]\n",
      " [  0.           0.           0.          -8.77567568 -15.38648649]]\n"
     ]
    }
   ],
   "source": [
    "M1=GaussElimin(A,B)\n",
    "print(M1)"
   ]
  },
  {
   "cell_type": "markdown",
   "metadata": {},
   "source": [
    "### 4. Backsubstitution phase\n",
    "\n",
    "We begin to solve the corresponding last equation of the reduced system, that is,\n",
    "\n",
    "$$\n",
    "x_n=\\frac{b_n}{a_{nn}}\\,.\n",
    "$$\n",
    "\n",
    "Let us now consider the backsubstitution stage where $x_n, x_{n-1}, \\ldots , x_{k+1} $ have already been computed and we must compute $x_k$ from the equation $k$:\n",
    "\n",
    "$$\n",
    "a_{kk}x_k+a_{k k+1} x_{k+1}+ \\cdots + a_{k n}x_n=b_k\\,.\n",
    "$$\n",
    "\n",
    "Solving for $k_k$ we get\n",
    "\n",
    "$$\n",
    "x_k=\\frac{1}{a_{kk}}\\left(b_k-a_{k k+1} x_{k+1}- \\cdots - a_{k n}x_n\\right)= \\frac{1}{ a_{kk}}\\left(b_k-\\sum_{j=k+1}^n a_{kj}x_j\\right)\\,.\n",
    "$$\n",
    "\n",
    "Let's implement this function in Python."
   ]
  },
  {
   "cell_type": "markdown",
   "metadata": {},
   "source": [
    "### 5. Backsubstitution algorithm\n",
    "The following function takes as input a matrix of coefficients in echelon form and the column matrix of the homogeneous part. The output is the solution of the corresponding linear system."
   ]
  },
  {
   "cell_type": "code",
   "execution_count": 348,
   "metadata": {},
   "outputs": [],
   "source": [
    "def GaussRetro(a,b):\n",
    "    n = len(b)\n",
    "    x=np.zeros(n)\n",
    "    x[n-1]=b[n-1]/a[n-1,n-1]\n",
    "    for k in range(n-1,-1,-1):\n",
    "        x[k] = (b[k] - np.dot(a[k,k+1:n],x[k+1:n]))/a[k,k]\n",
    "    return np.transpose([x])"
   ]
  },
  {
   "cell_type": "markdown",
   "metadata": {},
   "source": [
    "To understand the use of the np.dot command above we should note that for each $k$, both $a[k,k+1:n]$ and $b[k+1:n]$ are computational vectors of length $n-k $. The np.dot command causes the respective components to be multiplied and added, just like in the usual dot product. The command range(n-1,-1,-1) causes the values of $k$ to start at $n-1$ and proceed downwards until reaching $k=0$ (which precedes -1)."
   ]
  },
  {
   "cell_type": "markdown",
   "metadata": {},
   "source": [
    " Let's use the example above. Initially we slice the enlarged matrix. The matrix of coefficients is given by"
   ]
  },
  {
   "cell_type": "code",
   "execution_count": 349,
   "metadata": {},
   "outputs": [
    {
     "data": {
      "text/plain": [
       "array([[ 6.        ,  1.        ,  2.        ,  4.        ],\n",
       "       [ 0.        , 10.16666667, -4.66666667, -1.33333333],\n",
       "       [ 0.        ,  0.        ,  6.06557377,  7.59016393],\n",
       "       [ 0.        ,  0.        ,  0.        , -8.77567568]])"
      ]
     },
     "execution_count": 349,
     "metadata": {},
     "output_type": "execute_result"
    }
   ],
   "source": [
    "A1 = M1[:,0:4]\n",
    "A1"
   ]
  },
  {
   "cell_type": "markdown",
   "metadata": {},
   "source": [
    "he non-homogeneous part is given by:"
   ]
  },
  {
   "cell_type": "code",
   "execution_count": 357,
   "metadata": {},
   "outputs": [
    {
     "data": {
      "text/plain": [
       "array([  2.        ,  -5.66666667,   6.50819672, -15.38648649])"
      ]
     },
     "execution_count": 357,
     "metadata": {},
     "output_type": "execute_result"
    }
   ],
   "source": [
    "B1= M1[:,4]\n",
    "B1"
   ]
  },
  {
   "cell_type": "markdown",
   "metadata": {},
   "source": [
    "Let us now apply the function that performs the backsubstitution: "
   ]
  },
  {
   "cell_type": "code",
   "execution_count": 358,
   "metadata": {},
   "outputs": [
    {
     "data": {
      "text/plain": [
       "array([[-0.32152756],\n",
       "       [-0.84200801],\n",
       "       [-1.1210348 ],\n",
       "       [ 1.75331075]])"
      ]
     },
     "execution_count": 358,
     "metadata": {},
     "output_type": "execute_result"
    }
   ],
   "source": [
    "X1 = GaussRetro(A1,B1)\n",
    "X1"
   ]
  },
  {
   "cell_type": "markdown",
   "metadata": {},
   "source": [
    "We can verify that this result is correct. It is important to redefine the original system, since matrices A and B have been modified throughout the process. This procedure is fundamental in Python. "
   ]
  },
  {
   "cell_type": "code",
   "execution_count": 365,
   "metadata": {},
   "outputs": [],
   "source": [
    "A = np.array([[6.,1.,2.,4.],[5.,11.,-3.,2.],[-3.,4.,3.,5.],[5.,2.,8.,3.]])\n",
    "B = np.transpose(np.array([[2.,-4.,3.,-7.]]))"
   ]
  },
  {
   "cell_type": "code",
   "execution_count": 366,
   "metadata": {},
   "outputs": [
    {
     "data": {
      "text/plain": [
       "array([[-4.44089210e-16],\n",
       "       [-8.88178420e-16],\n",
       "       [ 8.88178420e-16],\n",
       "       [-3.55271368e-15]])"
      ]
     },
     "execution_count": 366,
     "metadata": {},
     "output_type": "execute_result"
    }
   ],
   "source": [
    "A@X1-B"
   ]
  },
  {
   "cell_type": "markdown",
   "metadata": {},
   "source": [
    "We can solve linear systems with direct methods using numpy's solve command:"
   ]
  },
  {
   "cell_type": "code",
   "execution_count": 360,
   "metadata": {},
   "outputs": [],
   "source": [
    "import numpy.linalg as la"
   ]
  },
  {
   "cell_type": "code",
   "execution_count": 361,
   "metadata": {},
   "outputs": [
    {
     "name": "stdout",
     "output_type": "stream",
     "text": [
      "[[-0.32152756]\n",
      " [-0.84200801]\n",
      " [-1.1210348 ]\n",
      " [ 1.75331075]]\n"
     ]
    }
   ],
   "source": [
    "x = la.solve(A,B)\n",
    "print(x)"
   ]
  },
  {
   "cell_type": "markdown",
   "metadata": {},
   "source": [
    "### 6.  Complete Gaussian elimination algorithm"
   ]
  },
  {
   "cell_type": "markdown",
   "metadata": {},
   "source": [
    "Let's merge the two functions into one. The attribution a[i,k]=0 can now be removed because it is irrelevant: "
   ]
  },
  {
   "cell_type": "code",
   "execution_count": 4,
   "metadata": {},
   "outputs": [],
   "source": [
    "import numpy as np"
   ]
  },
  {
   "cell_type": "code",
   "execution_count": 5,
   "metadata": {},
   "outputs": [],
   "source": [
    "def GaussSolve(a,b):\n",
    "    n = len(a)\n",
    "    x=np.zeros(n)\n",
    "    for k in range(0,n-1):\n",
    "        for i in range(k+1,n):\n",
    "            lam = a[i,k]/a[k,k]\n",
    "            a[i,k+1:n] = a[i,k+1:n] - lam*a[k,k+1:n]\n",
    "            b[i] = b[i] - lam*b[k]\n",
    "    x[n-1]=b[n-1]/a[n-1,n-1]\n",
    "    for k in range(n-2,-1,-1):\n",
    "        x[k] = (b[k] - np.dot(a[k,k+1:n],x[k+1:n]))/a[k,k]\n",
    "    return np.transpose([x])      "
   ]
  },
  {
   "cell_type": "markdown",
   "metadata": {},
   "source": [
    "Let's test the complete algorithm in the previous linear system."
   ]
  },
  {
   "cell_type": "code",
   "execution_count": 6,
   "metadata": {},
   "outputs": [],
   "source": [
    "A = np.array([[6.,1.,2.,4.],[5.,11.,-3.,2.],[-3.,4.,3.,5.],[5.,2.,8.,3.]])\n",
    "B = np.transpose(np.array([[2.,-4.,3.,-7.]]))"
   ]
  },
  {
   "cell_type": "code",
   "execution_count": 7,
   "metadata": {},
   "outputs": [
    {
     "data": {
      "text/plain": [
       "array([[-0.32152756],\n",
       "       [-0.84200801],\n",
       "       [-1.1210348 ],\n",
       "       [ 1.75331075]])"
      ]
     },
     "execution_count": 7,
     "metadata": {},
     "output_type": "execute_result"
    }
   ],
   "source": [
    "X1=  GaussSolve(A,B)\n",
    "X1"
   ]
  },
  {
   "cell_type": "markdown",
   "metadata": {},
   "source": [
    "which is the same result obtained previously."
   ]
  },
  {
   "cell_type": "markdown",
   "metadata": {},
   "source": [
    "### 7. Example with large systems"
   ]
  },
  {
   "cell_type": "markdown",
   "metadata": {},
   "source": [
    "Let's test larger random systems"
   ]
  },
  {
   "cell_type": "code",
   "execution_count": 8,
   "metadata": {},
   "outputs": [],
   "source": [
    "np.random.seed(43453)\n",
    "N = 10\n",
    "A3 = np.random.rand(N,N)\n",
    "B3 = np.random.rand(N,1)"
   ]
  },
  {
   "cell_type": "code",
   "execution_count": 9,
   "metadata": {},
   "outputs": [
    {
     "data": {
      "text/plain": [
       "array([[-0.78014194],\n",
       "       [ 1.64411949],\n",
       "       [-1.13319994],\n",
       "       [-0.72833755],\n",
       "       [-2.02054919],\n",
       "       [ 1.06249775],\n",
       "       [-0.78987105],\n",
       "       [ 2.26036594],\n",
       "       [ 2.07989874],\n",
       "       [-0.4584725 ]])"
      ]
     },
     "execution_count": 9,
     "metadata": {},
     "output_type": "execute_result"
    }
   ],
   "source": [
    "X3 = GaussSolve(A3,B3)\n",
    "X3"
   ]
  },
  {
   "cell_type": "markdown",
   "metadata": {},
   "source": [
    "Let's check the answer by calculating the residue:"
   ]
  },
  {
   "cell_type": "code",
   "execution_count": 10,
   "metadata": {},
   "outputs": [],
   "source": [
    "np.random.seed(43453)\n",
    "N = 10\n",
    "A3 = np.random.rand(N,N)\n",
    "B3 = np.random.rand(N,1)"
   ]
  },
  {
   "cell_type": "code",
   "execution_count": 11,
   "metadata": {},
   "outputs": [
    {
     "data": {
      "text/plain": [
       "array([[ 0.00000000e+00],\n",
       "       [-1.11022302e-16],\n",
       "       [ 8.88178420e-16],\n",
       "       [-2.88657986e-15],\n",
       "       [-7.77156117e-16],\n",
       "       [ 1.11022302e-15],\n",
       "       [ 2.22044605e-16],\n",
       "       [-7.54951657e-15],\n",
       "       [-6.32827124e-15],\n",
       "       [-3.10862447e-15]])"
      ]
     },
     "execution_count": 11,
     "metadata": {},
     "output_type": "execute_result"
    }
   ],
   "source": [
    "R=A3@X3-B3\n",
    "R"
   ]
  },
  {
   "cell_type": "markdown",
   "metadata": {},
   "source": [
    "If the system is too large it is difficult to inspect all the components. In general, we evaluate the residue by calculating a norm of the corresponding vector. The most commonly used standard is the infinite norm, it is defined as being the highest magnitude among the components:  \n",
    "\n",
    "$$\n",
    "|\\mathbf{u}|_{\\infty}=\\max_i\\{{|u_i|},i=1,\\ldots,n\\}.\n",
    "$$\n",
    "\n",
    "In our case,  "
   ]
  },
  {
   "cell_type": "code",
   "execution_count": 12,
   "metadata": {},
   "outputs": [],
   "source": [
    "import numpy.linalg as la"
   ]
  },
  {
   "cell_type": "code",
   "execution_count": 13,
   "metadata": {},
   "outputs": [
    {
     "data": {
      "text/plain": [
       "7.549516567451064e-15"
      ]
     },
     "execution_count": 13,
     "metadata": {},
     "output_type": "execute_result"
    }
   ],
   "source": [
    "NR = la.norm(R, np.inf)\n",
    "NR"
   ]
  },
  {
   "cell_type": "markdown",
   "metadata": {},
   "source": [
    "Let's test the performance of the program we write with large systems."
   ]
  },
  {
   "cell_type": "code",
   "execution_count": 14,
   "metadata": {},
   "outputs": [],
   "source": [
    "np.random.seed(43453)\n",
    "N = 300\n",
    "A4 = np.random.rand(N,N)\n",
    "B4 = np.random.rand(N,1)"
   ]
  },
  {
   "cell_type": "code",
   "execution_count": 15,
   "metadata": {},
   "outputs": [],
   "source": [
    "X4 = GaussSolve(A4,B4)"
   ]
  },
  {
   "cell_type": "markdown",
   "metadata": {},
   "source": [
    "Let's calculate the residue:"
   ]
  },
  {
   "cell_type": "code",
   "execution_count": 16,
   "metadata": {},
   "outputs": [],
   "source": [
    "np.random.seed(43453)\n",
    "N = 300\n",
    "A4 = np.random.rand(N,N)\n",
    "B4 = np.random.rand(N,1)"
   ]
  },
  {
   "cell_type": "code",
   "execution_count": 17,
   "metadata": {},
   "outputs": [
    {
     "data": {
      "text/plain": [
       "8.250622407501851e-12"
      ]
     },
     "execution_count": 17,
     "metadata": {},
     "output_type": "execute_result"
    }
   ],
   "source": [
    "NR = la.norm(A4@X4-B4,np.inf)\n",
    "NR"
   ]
  },
  {
   "cell_type": "markdown",
   "metadata": {},
   "source": [
    "Let's estimate the CPU time required to solve this system:"
   ]
  },
  {
   "cell_type": "code",
   "execution_count": 18,
   "metadata": {},
   "outputs": [],
   "source": [
    "np.random.seed(43453)\n",
    "N = 300\n",
    "A4 = np.random.rand(N,N)\n",
    "B4 = np.random.rand(N,1)"
   ]
  },
  {
   "cell_type": "code",
   "execution_count": 19,
   "metadata": {},
   "outputs": [
    {
     "name": "stdout",
     "output_type": "stream",
     "text": [
      "221 ms ± 414 µs per loop (mean ± std. dev. of 7 runs, 1 loop each)\n"
     ]
    }
   ],
   "source": [
    "%%timeit\n",
    "GaussSolve(A4,B4)"
   ]
  },
  {
   "cell_type": "markdown",
   "metadata": {},
   "source": [
    "The CPU time required using numpy's solve function is given by:"
   ]
  },
  {
   "cell_type": "code",
   "execution_count": 20,
   "metadata": {},
   "outputs": [],
   "source": [
    "np.random.seed(43453)\n",
    "N = 300\n",
    "A4 = np.random.rand(N,N)\n",
    "B4 = np.random.rand(N,1)"
   ]
  },
  {
   "cell_type": "code",
   "execution_count": 21,
   "metadata": {},
   "outputs": [
    {
     "name": "stdout",
     "output_type": "stream",
     "text": [
      "4.16 µs ± 8.14 ns per loop (mean ± std. dev. of 7 runs, 100000 loops each)\n"
     ]
    }
   ],
   "source": [
    "%%timeit\n",
    "la.solve(A,B)"
   ]
  },
  {
   "cell_type": "markdown",
   "metadata": {},
   "source": [
    "As expected, the solver is much faster than our pedagogical algorithm, by almost four orders of magnitude."
   ]
  },
  {
   "cell_type": "markdown",
   "metadata": {},
   "source": [
    "### 8. Exercises"
   ]
  },
  {
   "cell_type": "markdown",
   "metadata": {},
   "source": [
    "**1.** Solve step by step a random $4 \\times 4$ linear system (use the first 4 digits of your cpf for the seed), describing each step of the GaussElimin and GaussRetro algorithm. Check the answer by calculating the residue.\n",
    "\n",
    "**2.** Solve a random system $500 \\times 500$ using the GaussSolve algorithm (do not show the result). Check the correctness of the result by calculating the residue norm and compare the required CPU time. Repeat the procedure using numpy's solver.  \n",
    "\n",
    "**3** The **condition number** of a matrix $ A $, denoted by $ \\kappa(A) $, measures the sensitivity of the solution of a linear system $ A \\mathbf{x} = \\mathbf{b} $ to such small perturbations in the matrix $ A $ or in the vector $ \\mathbf{b} $. It is defined as:\n",
    "$$\n",
    "\\kappa(A) = \\|A\\| \\cdot \\|A^{-1}\\|,\n",
    "$$\n",
    "where $ \\|A\\| $ is the norm of the matrix (usually the 2-norm). A high condition number indicates that the system is ill-conditioned, i.e., small changes in the data can cause large variations in the solution. An example of an ill-conditioned matrix is ​​the Hilbert matrix $H_n$ of order $n$, defined by\n",
    "$$\n",
    "H_{ij} = \\frac{1}{i + j + 1}, \\quad i, j = 0, 1, \\dots, n.\n",
    "$$\n",
    "\n",
    "We can define Python as follows:"
   ]
  },
  {
   "cell_type": "code",
   "execution_count": 1,
   "metadata": {},
   "outputs": [],
   "source": [
    "def hilb(n):\n",
    "    return np.array([[1/(i+j+1) for i in range(n)] for j in range(n)])\n",
    "    return np.array([[1/(i+j+1) for i in range(n)] for j in range(n)])"
   ]
  },
  {
   "cell_type": "markdown",
   "metadata": {},
   "source": [
    "For example,"
   ]
  },
  {
   "cell_type": "code",
   "execution_count": 5,
   "metadata": {},
   "outputs": [
    {
     "data": {
      "text/plain": [
       "array([[1.        , 0.5       , 0.33333333, 0.25      ],\n",
       "       [0.5       , 0.33333333, 0.25      , 0.2       ],\n",
       "       [0.33333333, 0.25      , 0.2       , 0.16666667],\n",
       "       [0.25      , 0.2       , 0.16666667, 0.14285714]])"
      ]
     },
     "execution_count": 5,
     "metadata": {},
     "output_type": "execute_result"
    }
   ],
   "source": [
    "hilb(4)"
   ]
  },
  {
   "cell_type": "markdown",
   "metadata": {},
   "source": [
    "(i) Solve the linear system $HX=B$, where $H$ is the Hilbert matrix $H(30)$, $30 \\times 30$ and B is a column matrix with all elements having the value 1. Use the Gaussian elimination algorithm developed earlier to solve the system. Calculate the residual in both cases.\n",
    "\n",
    "(ii) Compare the condition number of $H$ with that of a random matrix $30 \\times 30$. Use the command \n",
    "\n",
    "(iii) Show that a small perturbation in one component of $H(30)$ causes the solution of the system defined in (i) to change drastically.\n"
   ]
  },
  {
   "cell_type": "markdown",
   "metadata": {},
   "source": [
    "**4.** Study system instability with Hilbert matrices $n \\times n$. For example, vary the value of a coefficient of B slightly, or add a small term to the matrix H. Use the solver in Numpy.\n",
    "\n",
    "**5.** Define a system $GX=B$, $n \\times n$, with $G=[g_{ij}]$ and $g_{ij}=1/(1+i+2j)$. Check if such a system is also unstable. Vary $n$. Use the solver in Numpy."
   ]
  },
  {
   "cell_type": "code",
   "execution_count": 2,
   "metadata": {},
   "outputs": [],
   "source": [
    "import numpy as np\n",
    "def m5(n):\n",
    "    return np.array([[1/(i+2*j+1) for i in range(n)] for j in range(n)])"
   ]
  },
  {
   "cell_type": "code",
   "execution_count": 3,
   "metadata": {},
   "outputs": [
    {
     "data": {
      "text/plain": [
       "array([[1.        , 0.5       , 0.33333333, 0.25      , 0.2       ],\n",
       "       [0.33333333, 0.25      , 0.2       , 0.16666667, 0.14285714],\n",
       "       [0.2       , 0.16666667, 0.14285714, 0.125     , 0.11111111],\n",
       "       [0.14285714, 0.125     , 0.11111111, 0.1       , 0.09090909],\n",
       "       [0.11111111, 0.1       , 0.09090909, 0.08333333, 0.07692308]])"
      ]
     },
     "execution_count": 3,
     "metadata": {},
     "output_type": "execute_result"
    }
   ],
   "source": [
    "m5(5)"
   ]
  }
 ],
 "metadata": {
  "kernelspec": {
   "display_name": "Python 3",
   "language": "python",
   "name": "python3"
  },
  "language_info": {
   "codemirror_mode": {
    "name": "ipython",
    "version": 3
   },
   "file_extension": ".py",
   "mimetype": "text/x-python",
   "name": "python",
   "nbconvert_exporter": "python",
   "pygments_lexer": "ipython3",
   "version": "3.11.2"
  }
 },
 "nbformat": 4,
 "nbformat_minor": 2
}
