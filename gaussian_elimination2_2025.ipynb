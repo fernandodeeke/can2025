{
  "cells": [
    {
      "cell_type": "markdown",
      "metadata": {
        "id": "view-in-github",
        "colab_type": "text"
      },
      "source": [
        "<a href=\"https://colab.research.google.com/github/fernandodeeke/can2025/blob/main/gaussian_elimination2_2025.ipynb\" target=\"_parent\"><img src=\"https://colab.research.google.com/assets/colab-badge.svg\" alt=\"Open In Colab\"/></a>"
      ]
    },
    {
      "cell_type": "markdown",
      "metadata": {
        "id": "bfgC_K-LvJGt"
      },
      "source": [
        "<<center><h1> <h2></h2></h1></center>\n",
        "<center><h1>Numerical Analysis</h1></center>\n",
        "<center><h2>2025/1</h2></center>\n",
        "<center><h3>Fernando Deeke Sasse</h3></center>\n",
        "<center><h3>CCT - UDESC</h3></center>\n",
        "<center><h2>Gaussian Elimination - 2</h2></center>"
      ]
    },
    {
      "cell_type": "markdown",
      "metadata": {
        "id": "Xy9WAMN-vJGu"
      },
      "source": [
        "### 1. A different view of the Gaussian elimination method\n",
        "\n",
        "As we have seen previously the Gaussian elimination method is the most widely used direct method for solving linear systems and is the basis for all variants of elimination methods. We will now look again at the two basic steps:\n",
        "\n",
        "1. Elimination phase: we perform the elimination of the elements below the main diagonal of the augmented matrix $[A|B]$ by means of elementary row operations, until we obtain the echelon form.\n",
        "2. Backsubstitution: we simply start solving recursively the resulting equations backwards.\n",
        "\n",
        "We describe each of these steps below, now using elimination factors, better suited for the algorithmic implementation of the method."
      ]
    },
    {
      "cell_type": "markdown",
      "metadata": {
        "id": "0APfcHJpvJGv"
      },
      "source": [
        "### 2. Elimination phase\n",
        "We call *pivot row* the row above which all elements below the main diagonal have already been zeroed.\n",
        "In the expanded matrix, let the pivot row be $L_k$ and a typical line $L_i$ below to be transformed, in order to zero the element $a_{ik}$. To do so, we must multiply the pivot row by $\\lambda = a_{ik}/a_{kk}$ and subtract the result from $L_i$, that is,\n",
        "\n",
        "$$\n",
        "L_i \\rightarrow L_i - \\lambda L_k\\,.\n",
        "$$\n",
        "\n",
        "The row elements $L_i$ are updated as follows:\n",
        "\n",
        "\\begin{align}\n",
        "&a_{ij} \\leftarrow a_{ij} - \\lambda a_{kj}\\,\\qquad j=k, \\ldots , n\\\\\n",
        "&b_i \\leftarrow b_i - \\lambda b_k\\,.\n",
        "\\end{align}\n",
        "\n",
        "As $a_{ik}=0$ by construction, to save computational time, it doesn't need to be calculated, so we can take $j=k+1, \\ldots , n$.\n",
        "\n",
        "The index $k$ is the index of the pivot row, so that $k=1, \\ldots, n-1$ The index $i$ designates the row to be transformed, so that $i=k+1,\\ \\ldots, n$."
      ]
    },
    {
      "cell_type": "markdown",
      "metadata": {
        "id": "iEJrIXnbvJGv"
      },
      "source": [
        "Remember that when using range(i,j), the actual range is $1, 2, \\ldots, j-1$. For example,"
      ]
    },
    {
      "cell_type": "code",
      "execution_count": null,
      "metadata": {
        "colab": {
          "base_uri": "https://localhost:8080/"
        },
        "id": "65nNi1psvJGw",
        "outputId": "005ef1fa-9805-485e-d48a-057af5d1bdaf"
      },
      "outputs": [
        {
          "output_type": "stream",
          "name": "stdout",
          "text": [
            "1\n",
            "4\n"
          ]
        }
      ],
      "source": [
        "import numpy as np\n",
        "c=np.array([1,2,3,4])\n",
        "print(c[0])\n",
        "print(c[-1])"
      ]
    },
    {
      "cell_type": "code",
      "execution_count": null,
      "metadata": {
        "scrolled": true,
        "colab": {
          "base_uri": "https://localhost:8080/"
        },
        "id": "R-HNDo6DvJGx",
        "outputId": "9ceb6fdc-ef33-4bb2-fc3d-6ecd9d2bbcc2"
      },
      "outputs": [
        {
          "output_type": "stream",
          "name": "stdout",
          "text": [
            "1\n",
            "2\n",
            "3\n"
          ]
        }
      ],
      "source": [
        "for j in range(0,3):\n",
        "    print(c[j])"
      ]
    },
    {
      "cell_type": "markdown",
      "metadata": {
        "id": "DD3r5xEYvJGx"
      },
      "source": [
        "### 3. Gaussian elimination algorithm"
      ]
    },
    {
      "cell_type": "markdown",
      "metadata": {
        "id": "WxhB6xLevJGx"
      },
      "source": [
        "The elimination algorithm can be performed in Python as follows:"
      ]
    },
    {
      "cell_type": "code",
      "execution_count": null,
      "metadata": {
        "id": "v4vCnSr7vJGy"
      },
      "outputs": [],
      "source": [
        "def GaussElimin(a,b):\n",
        "    n = len(a)\n",
        "    for k in range(0,n-1): # define the index of the pivot element\n",
        "        for i in range(k+1,n): # goes along the row below the pivot row and goes up to n-1\n",
        "            lam = a[i,k]/a[k,k]\n",
        "            a[i,k+1:n] = a[i,k+1:n] - lam*a[k,k+1:n] # update the elements of row i\n",
        "            a[i,k]=0\n",
        "            b[i] = b[i] - lam*b[k]\n",
        "    return  np.hstack([a,b])"
      ]
    },
    {
      "cell_type": "markdown",
      "metadata": {
        "id": "WE9z7dWwvJGy"
      },
      "source": [
        "Let us test the function:"
      ]
    },
    {
      "cell_type": "code",
      "execution_count": null,
      "metadata": {
        "colab": {
          "base_uri": "https://localhost:8080/"
        },
        "id": "joTaqgLhvJGy",
        "outputId": "1ab0bf5e-1938-41f3-e734-11f8e627aee4"
      },
      "outputs": [
        {
          "output_type": "stream",
          "name": "stdout",
          "text": [
            "[[ 6.  1.  2.  4.]\n",
            " [ 5. 11. -3.  2.]\n",
            " [-3.  4.  3.  5.]\n",
            " [ 5.  2.  8.  3.]]\n"
          ]
        }
      ],
      "source": [
        "A = np.array([[6.,1.,2.,4.],[5.,11.,-3.,2.],[-3.,4.,3.,5.],[5.,2.,8.,3.]])\n",
        "print(A)"
      ]
    },
    {
      "cell_type": "code",
      "execution_count": null,
      "metadata": {
        "colab": {
          "base_uri": "https://localhost:8080/"
        },
        "id": "OBkKg-SvvJGy",
        "outputId": "31b606bc-3288-40f3-9d0b-5b64c0bb01e9"
      },
      "outputs": [
        {
          "output_type": "stream",
          "name": "stdout",
          "text": [
            "[[ 2.]\n",
            " [-4.]\n",
            " [ 3.]\n",
            " [-7.]]\n"
          ]
        }
      ],
      "source": [
        "B = np.transpose(np.array([[2.,-4.,3.,-7.]]))\n",
        "print(B)"
      ]
    },
    {
      "cell_type": "markdown",
      "metadata": {
        "id": "PRHbwtcjvJGy"
      },
      "source": [
        "Let's form the augmented matrix $M$:"
      ]
    },
    {
      "cell_type": "code",
      "execution_count": null,
      "metadata": {
        "colab": {
          "base_uri": "https://localhost:8080/"
        },
        "id": "KVbPqzHJvJGy",
        "outputId": "15534bdc-4448-4965-c8c3-28d9a5beb407"
      },
      "outputs": [
        {
          "output_type": "stream",
          "name": "stdout",
          "text": [
            "[[ 6.  1.  2.  4.  2.]\n",
            " [ 5. 11. -3.  2. -4.]\n",
            " [-3.  4.  3.  5.  3.]\n",
            " [ 5.  2.  8.  3. -7.]]\n"
          ]
        }
      ],
      "source": [
        "M = np.hstack([A,B])\n",
        "print(M)"
      ]
    },
    {
      "cell_type": "markdown",
      "metadata": {
        "id": "Vpof1ncfvJGz"
      },
      "source": [
        "Perform the Gaussian elimination:"
      ]
    },
    {
      "cell_type": "code",
      "execution_count": null,
      "metadata": {
        "colab": {
          "base_uri": "https://localhost:8080/"
        },
        "id": "Ufbts-1mvJGz",
        "outputId": "b54015f3-13e5-4f64-9e48-58688ce4c273"
      },
      "outputs": [
        {
          "output_type": "stream",
          "name": "stdout",
          "text": [
            "[[  6.           1.           2.           4.           2.        ]\n",
            " [  0.          10.16666667  -4.66666667  -1.33333333  -5.66666667]\n",
            " [  0.           0.           6.06557377   7.59016393   6.50819672]\n",
            " [  0.           0.           0.          -8.77567568 -15.38648649]]\n"
          ]
        }
      ],
      "source": [
        "M1=GaussElimin(A,B)\n",
        "print(M1)"
      ]
    },
    {
      "cell_type": "markdown",
      "metadata": {
        "id": "W5S8U3BevJGz"
      },
      "source": [
        "### 4. Backsubstitution phase\n",
        "\n",
        "We begin to solve the corresponding last equation of the reduced system, that is,\n",
        "\n",
        "$$\n",
        "x_n=\\frac{b_n}{a_{nn}}\\,.\n",
        "$$\n",
        "\n",
        "Let us now consider the backsubstitution stage where $x_n, x_{n-1}, \\ldots , x_{k+1} $ have already been computed and we must compute $x_k$ from the equation $k$:\n",
        "\n",
        "$$\n",
        "a_{kk}x_k+a_{k k+1} x_{k+1}+ \\cdots + a_{k n}x_n=b_k\\,.\n",
        "$$\n",
        "\n",
        "Solving for $k_k$ we get\n",
        "\n",
        "$$\n",
        "x_k=\\frac{1}{a_{kk}}\\left(b_k-a_{k k+1} x_{k+1}- \\cdots - a_{k n}x_n\\right)= \\frac{1}{ a_{kk}}\\left(b_k-\\sum_{j=k+1}^n a_{kj}x_j\\right)\\,.\n",
        "$$\n",
        "\n",
        "Let's implement this function in Python."
      ]
    },
    {
      "cell_type": "markdown",
      "metadata": {
        "id": "9hbPq4vyvJGz"
      },
      "source": [
        "### 5. Backsubstitution algorithm\n",
        "The following function takes as input a matrix of coefficients in echelon form and the column matrix of the homogeneous part. The output is the solution of the corresponding linear system."
      ]
    },
    {
      "cell_type": "code",
      "execution_count": null,
      "metadata": {
        "id": "smYoA6BTvJGz"
      },
      "outputs": [],
      "source": [
        "def GaussRetro(a,b):\n",
        "    n = len(b)\n",
        "    x=np.zeros(n)\n",
        "    x[n-1]=b[n-1]/a[n-1,n-1]\n",
        "    for k in range(n-1,-1,-1):\n",
        "        x[k] = (b[k] - np.dot(a[k,k+1:n],x[k+1:n]))/a[k,k]\n",
        "    return np.transpose([x])"
      ]
    },
    {
      "cell_type": "markdown",
      "metadata": {
        "id": "L8t_0ODGvJGz"
      },
      "source": [
        "To understand the use of the np.dot command above we should note that for each $k$, both $a[k,k+1:n]$ and $b[k+1:n]$ are computational vectors of length $n-k $. The np.dot command causes the respective components to be multiplied and added, just like in the usual dot product. The command range(n-1,-1,-1) causes the values of $k$ to start at $n-1$ and proceed downwards until reaching $k=0$ (which precedes -1)."
      ]
    },
    {
      "cell_type": "markdown",
      "metadata": {
        "id": "3tkE5awlvJGz"
      },
      "source": [
        " Let's use the example above. Initially we slice the enlarged matrix. The matrix of coefficients is given by"
      ]
    },
    {
      "cell_type": "code",
      "execution_count": null,
      "metadata": {
        "colab": {
          "base_uri": "https://localhost:8080/"
        },
        "id": "ggSeBAywvJGz",
        "outputId": "337e0372-2e7a-446d-9e09-078124b49164"
      },
      "outputs": [
        {
          "output_type": "execute_result",
          "data": {
            "text/plain": [
              "array([[ 6.        ,  1.        ,  2.        ,  4.        ],\n",
              "       [ 0.        , 10.16666667, -4.66666667, -1.33333333],\n",
              "       [ 0.        ,  0.        ,  6.06557377,  7.59016393],\n",
              "       [ 0.        ,  0.        ,  0.        , -8.77567568]])"
            ]
          },
          "metadata": {},
          "execution_count": 9
        }
      ],
      "source": [
        "A1 = M1[:,0:4]\n",
        "A1"
      ]
    },
    {
      "cell_type": "markdown",
      "metadata": {
        "id": "CCmMrUNFvJGz"
      },
      "source": [
        "The non-homogeneous part is given by:"
      ]
    },
    {
      "cell_type": "code",
      "execution_count": null,
      "metadata": {
        "colab": {
          "base_uri": "https://localhost:8080/"
        },
        "id": "2mCiUibgvJGz",
        "outputId": "ccb9ddcf-34ef-4bde-9525-e84d6c282626"
      },
      "outputs": [
        {
          "output_type": "execute_result",
          "data": {
            "text/plain": [
              "array([  2.        ,  -5.66666667,   6.50819672, -15.38648649])"
            ]
          },
          "metadata": {},
          "execution_count": 10
        }
      ],
      "source": [
        "B1= M1[:,4]\n",
        "B1"
      ]
    },
    {
      "cell_type": "markdown",
      "metadata": {
        "id": "utMzBgAkvJG0"
      },
      "source": [
        "Let us now apply the function that performs the backsubstitution:"
      ]
    },
    {
      "cell_type": "code",
      "execution_count": null,
      "metadata": {
        "colab": {
          "base_uri": "https://localhost:8080/"
        },
        "id": "Gwy2JtXOvJG0",
        "outputId": "0bc982fa-3515-4022-f9f7-d086ac98417f"
      },
      "outputs": [
        {
          "output_type": "execute_result",
          "data": {
            "text/plain": [
              "array([[-0.32152756],\n",
              "       [-0.84200801],\n",
              "       [-1.1210348 ],\n",
              "       [ 1.75331075]])"
            ]
          },
          "metadata": {},
          "execution_count": 11
        }
      ],
      "source": [
        "X1 = GaussRetro(A1,B1)\n",
        "X1"
      ]
    },
    {
      "cell_type": "markdown",
      "source": [
        "Let us verify the result:"
      ],
      "metadata": {
        "id": "xj3TNa4FwftR"
      }
    },
    {
      "cell_type": "code",
      "execution_count": null,
      "metadata": {
        "colab": {
          "base_uri": "https://localhost:8080/"
        },
        "id": "P7OKRjW4vJG0",
        "outputId": "b973994d-1fa7-4629-a5db-047873b25788"
      },
      "outputs": [
        {
          "output_type": "execute_result",
          "data": {
            "text/plain": [
              "array([[0.0000000e+00],\n",
              "       [8.8817842e-16],\n",
              "       [0.0000000e+00],\n",
              "       [0.0000000e+00]])"
            ]
          },
          "metadata": {},
          "execution_count": 13
        }
      ],
      "source": [
        "A@X1-B"
      ]
    },
    {
      "cell_type": "markdown",
      "metadata": {
        "id": "czufT4ltvJG0"
      },
      "source": [
        "We can solve linear systems with direct methods using numpy's solve command:"
      ]
    },
    {
      "cell_type": "code",
      "execution_count": null,
      "metadata": {
        "id": "yR07RcqPvJG0"
      },
      "outputs": [],
      "source": [
        "import numpy.linalg as la"
      ]
    },
    {
      "cell_type": "code",
      "execution_count": null,
      "metadata": {
        "colab": {
          "base_uri": "https://localhost:8080/"
        },
        "id": "ZzGHYRA9vJG0",
        "outputId": "4b498263-69fe-435e-f9e1-697e382c6040"
      },
      "outputs": [
        {
          "output_type": "stream",
          "name": "stdout",
          "text": [
            "[[-0.32152756]\n",
            " [-0.84200801]\n",
            " [-1.1210348 ]\n",
            " [ 1.75331075]]\n"
          ]
        }
      ],
      "source": [
        "x = la.solve(A,B)\n",
        "print(x)"
      ]
    },
    {
      "cell_type": "markdown",
      "metadata": {
        "id": "tn_ostTRvJG1"
      },
      "source": [
        "### 6.  Complete Gaussian elimination algorithm"
      ]
    },
    {
      "cell_type": "markdown",
      "metadata": {
        "id": "uVBuHn6LvJG1"
      },
      "source": [
        "Let's merge the two functions into one. The attribution a[i,k]=0 can now be removed because it is irrelevant:"
      ]
    },
    {
      "cell_type": "code",
      "execution_count": null,
      "metadata": {
        "id": "9XtPIzrivJG1"
      },
      "outputs": [],
      "source": [
        "import numpy as np"
      ]
    },
    {
      "cell_type": "code",
      "execution_count": null,
      "metadata": {
        "id": "Qo39WRm-vJG1"
      },
      "outputs": [],
      "source": [
        "def GaussSolve(a,b):\n",
        "    n = len(a)\n",
        "    x=np.zeros(n)\n",
        "    for k in range(0,n-1):\n",
        "        for i in range(k+1,n):\n",
        "            lam = a[i,k]/a[k,k]\n",
        "            a[i,k+1:n] = a[i,k+1:n] - lam*a[k,k+1:n]\n",
        "            b[i] = b[i] - lam*b[k]\n",
        "    x[n-1]=b[n-1]/a[n-1,n-1]\n",
        "    for k in range(n-2,-1,-1):\n",
        "        x[k] = (b[k] - np.dot(a[k,k+1:n],x[k+1:n]))/a[k,k]\n",
        "    return np.transpose([x])"
      ]
    },
    {
      "cell_type": "markdown",
      "metadata": {
        "id": "tz8sq7FovJG1"
      },
      "source": [
        "Let's test the complete algorithm in the previous linear system."
      ]
    },
    {
      "cell_type": "code",
      "execution_count": null,
      "metadata": {
        "id": "k0liGlwMvJG1"
      },
      "outputs": [],
      "source": [
        "A = np.array([[6.,1.,2.,4.],[5.,11.,-3.,2.],[-3.,4.,3.,5.],[5.,2.,8.,3.]])\n",
        "B = np.array([2.,-4.,3.,-7.])"
      ]
    },
    {
      "cell_type": "code",
      "execution_count": null,
      "metadata": {
        "colab": {
          "base_uri": "https://localhost:8080/"
        },
        "id": "uVLrPH8zvJG1",
        "outputId": "74b3ba5c-9897-42e5-c4d3-9113bfbb2b3b"
      },
      "outputs": [
        {
          "output_type": "execute_result",
          "data": {
            "text/plain": [
              "array([[-0.32152756],\n",
              "       [-0.84200801],\n",
              "       [-1.1210348 ],\n",
              "       [ 1.75331075]])"
            ]
          },
          "metadata": {},
          "execution_count": 49
        }
      ],
      "source": [
        "X1=  GaussSolve(A,B)\n",
        "X1"
      ]
    },
    {
      "cell_type": "markdown",
      "metadata": {
        "id": "DoAxXUV1vJG1"
      },
      "source": [
        "which is the same result obtained previously."
      ]
    },
    {
      "cell_type": "markdown",
      "metadata": {
        "id": "O6_oWlJQvJG1"
      },
      "source": [
        "### 7. Example with large systems"
      ]
    },
    {
      "cell_type": "markdown",
      "metadata": {
        "id": "R6fhJ2F9vJG2"
      },
      "source": [
        "Let's test larger random systems"
      ]
    },
    {
      "cell_type": "code",
      "execution_count": null,
      "metadata": {
        "id": "2plbcRN5vJG2"
      },
      "outputs": [],
      "source": [
        "np.random.seed(43453)\n",
        "N = 10\n",
        "A3 = np.random.rand(N,N)\n",
        "B3 = np.random.rand(N)\n",
        "B3a = B3.reshape(N,1)"
      ]
    },
    {
      "cell_type": "markdown",
      "source": [
        "Note that"
      ],
      "metadata": {
        "id": "8G7vKA8e0c8n"
      }
    },
    {
      "cell_type": "code",
      "source": [
        "B3"
      ],
      "metadata": {
        "colab": {
          "base_uri": "https://localhost:8080/"
        },
        "id": "TTyJGnwV0M7-",
        "outputId": "9a6ef05c-8f46-45b9-e852-77e3c328c211"
      },
      "execution_count": null,
      "outputs": [
        {
          "output_type": "execute_result",
          "data": {
            "text/plain": [
              "array([0.79296977, 0.19843862, 0.88683062, 0.02492198, 0.43015755,\n",
              "       0.19245975, 0.47326455, 0.0801523 , 0.45018061, 0.84562416])"
            ]
          },
          "metadata": {},
          "execution_count": 69
        }
      ]
    },
    {
      "cell_type": "code",
      "source": [
        "B3a"
      ],
      "metadata": {
        "colab": {
          "base_uri": "https://localhost:8080/"
        },
        "id": "9-mSSFkd0Pd9",
        "outputId": "0976fe6f-06d7-4be6-da00-fb5ed6c0d5e1"
      },
      "execution_count": null,
      "outputs": [
        {
          "output_type": "execute_result",
          "data": {
            "text/plain": [
              "array([[0.79296977],\n",
              "       [0.19843862],\n",
              "       [0.88683062],\n",
              "       [0.02492198],\n",
              "       [0.43015755],\n",
              "       [0.19245975],\n",
              "       [0.47326455],\n",
              "       [0.0801523 ],\n",
              "       [0.45018061],\n",
              "       [0.84562416]])"
            ]
          },
          "metadata": {},
          "execution_count": 70
        }
      ]
    },
    {
      "cell_type": "code",
      "execution_count": null,
      "metadata": {
        "colab": {
          "base_uri": "https://localhost:8080/"
        },
        "id": "QFOjf7Q-vJG2",
        "outputId": "99ef207d-2859-4d5a-ad6b-7b69990015d9"
      },
      "outputs": [
        {
          "output_type": "execute_result",
          "data": {
            "text/plain": [
              "array([[-0.78014194],\n",
              "       [ 1.64411949],\n",
              "       [-1.13319994],\n",
              "       [-0.72833755],\n",
              "       [-2.02054919],\n",
              "       [ 1.06249775],\n",
              "       [-0.78987105],\n",
              "       [ 2.26036594],\n",
              "       [ 2.07989874],\n",
              "       [-0.4584725 ]])"
            ]
          },
          "metadata": {},
          "execution_count": 62
        }
      ],
      "source": [
        "X3 = GaussSolve(A3,B3)\n",
        "X3"
      ]
    },
    {
      "cell_type": "code",
      "source": [
        "np.random.seed(43453)\n",
        "N = 10\n",
        "A3 = np.random.rand(N,N)"
      ],
      "metadata": {
        "id": "vP7om6IJzgnM"
      },
      "execution_count": null,
      "outputs": []
    },
    {
      "cell_type": "markdown",
      "metadata": {
        "id": "poi0YvXpvJG2"
      },
      "source": [
        "Let's check the answer by calculating the residue:"
      ]
    },
    {
      "cell_type": "code",
      "source": [
        "R = A3@X3-B3a\n",
        "R"
      ],
      "metadata": {
        "colab": {
          "base_uri": "https://localhost:8080/"
        },
        "id": "uh47Kn4pyHtx",
        "outputId": "87fd0046-c2dc-41d7-e444-13622a61ba84"
      },
      "execution_count": null,
      "outputs": [
        {
          "output_type": "execute_result",
          "data": {
            "text/plain": [
              "array([[-4.44089210e-16],\n",
              "       [-3.33066907e-16],\n",
              "       [-5.10702591e-15],\n",
              "       [-7.32747196e-15],\n",
              "       [-2.22044605e-15],\n",
              "       [ 2.10942375e-15],\n",
              "       [-4.44089210e-16],\n",
              "       [-3.21964677e-15],\n",
              "       [-1.99840144e-15],\n",
              "       [ 7.77156117e-16]])"
            ]
          },
          "metadata": {},
          "execution_count": 76
        }
      ]
    },
    {
      "cell_type": "markdown",
      "metadata": {
        "id": "1H5EY7iGvJG2"
      },
      "source": [
        "If the system is too large it is difficult to inspect all the components. In general, we evaluate the residue by calculating a norm of the corresponding vector. The most commonly used standard is the infinite norm, it is defined as being the highest magnitude among the components:  \n",
        "\n",
        "$$\n",
        "|\\mathbf{u}|_{\\infty}=\\max_i\\{{|u_i|},i=1,\\ldots,n\\}.\n",
        "$$\n",
        "\n",
        "In our case,  "
      ]
    },
    {
      "cell_type": "code",
      "execution_count": null,
      "metadata": {
        "id": "IKa-fX00vJG2"
      },
      "outputs": [],
      "source": [
        "import numpy.linalg as la"
      ]
    },
    {
      "cell_type": "code",
      "execution_count": null,
      "metadata": {
        "colab": {
          "base_uri": "https://localhost:8080/"
        },
        "id": "731NnGXgvJG2",
        "outputId": "2266bbb9-62f1-4b80-d6d4-88db1d59256c"
      },
      "outputs": [
        {
          "output_type": "execute_result",
          "data": {
            "text/plain": [
              "7.327471962526033e-15"
            ]
          },
          "metadata": {},
          "execution_count": 78
        }
      ],
      "source": [
        "NR = la.norm(R, np.inf)\n",
        "NR"
      ]
    },
    {
      "cell_type": "markdown",
      "metadata": {
        "id": "DLH-A0C2vJG2"
      },
      "source": [
        "Let's test the performance of the program we write with large systems."
      ]
    },
    {
      "cell_type": "code",
      "execution_count": null,
      "metadata": {
        "id": "RidxqD8jvJG2"
      },
      "outputs": [],
      "source": [
        "np.random.seed(43453)\n",
        "N = 300\n",
        "A4 = np.random.rand(N,N)\n",
        "B4 = np.random.rand(N)"
      ]
    },
    {
      "cell_type": "code",
      "execution_count": null,
      "metadata": {
        "id": "5MVNfIxEvJG3"
      },
      "outputs": [],
      "source": [
        "X4 = GaussSolve(A4,B4)"
      ]
    },
    {
      "cell_type": "markdown",
      "metadata": {
        "id": "OZgaY-plvJG3"
      },
      "source": [
        "Let's calculate the residue:"
      ]
    },
    {
      "cell_type": "code",
      "execution_count": null,
      "metadata": {
        "id": "mLLPNVL8vJG3"
      },
      "outputs": [],
      "source": [
        "np.random.seed(43453)\n",
        "N = 300\n",
        "A4 = np.random.rand(N,N)\n",
        "B4 = np.random.rand(N,1)"
      ]
    },
    {
      "cell_type": "code",
      "execution_count": null,
      "metadata": {
        "colab": {
          "base_uri": "https://localhost:8080/"
        },
        "id": "v7FtFvzovJG3",
        "outputId": "787b890b-3145-47aa-a02f-ba669666f0be"
      },
      "outputs": [
        {
          "output_type": "execute_result",
          "data": {
            "text/plain": [
              "6.478706460200101e-12"
            ]
          },
          "metadata": {},
          "execution_count": 84
        }
      ],
      "source": [
        "NR = la.norm(A4@X4-B4,np.inf)\n",
        "NR"
      ]
    },
    {
      "cell_type": "markdown",
      "metadata": {
        "id": "3qprwkOFvJG3"
      },
      "source": [
        "Let's estimate the CPU time required to solve this system:"
      ]
    },
    {
      "cell_type": "code",
      "execution_count": null,
      "metadata": {
        "id": "NPC1Pa-lvJG3"
      },
      "outputs": [],
      "source": [
        "np.random.seed(43453)\n",
        "N = 300\n",
        "A4 = np.random.rand(N,N)\n",
        "B4 = np.random.rand(N)"
      ]
    },
    {
      "cell_type": "code",
      "execution_count": null,
      "metadata": {
        "colab": {
          "base_uri": "https://localhost:8080/"
        },
        "id": "EqSWIsBXvJG3",
        "outputId": "7dd8dfce-c031-460b-c9c3-83a7c47cfc70"
      },
      "outputs": [
        {
          "output_type": "stream",
          "name": "stdout",
          "text": [
            "249 ms ± 46.4 ms per loop (mean ± std. dev. of 7 runs, 1 loop each)\n"
          ]
        }
      ],
      "source": [
        "%%timeit\n",
        "GaussSolve(A4,B4)"
      ]
    },
    {
      "cell_type": "markdown",
      "metadata": {
        "id": "D2O6aHWFvJG4"
      },
      "source": [
        "The CPU time required using numpy's solve function is given by:"
      ]
    },
    {
      "cell_type": "code",
      "execution_count": null,
      "metadata": {
        "id": "HSkcv-1HvJG4"
      },
      "outputs": [],
      "source": [
        "np.random.seed(43453)\n",
        "N = 300\n",
        "A4 = np.random.rand(N,N)\n",
        "B4 = np.random.rand(N)"
      ]
    },
    {
      "cell_type": "code",
      "execution_count": null,
      "metadata": {
        "colab": {
          "base_uri": "https://localhost:8080/"
        },
        "id": "myE80L8qvJG4",
        "outputId": "bcc5aa37-caa4-4515-e9a3-5a06b0a58ee1"
      },
      "outputs": [
        {
          "output_type": "stream",
          "name": "stdout",
          "text": [
            "6.3 µs ± 1.65 µs per loop (mean ± std. dev. of 7 runs, 100000 loops each)\n"
          ]
        }
      ],
      "source": [
        "%%timeit\n",
        "la.solve(A,B)"
      ]
    },
    {
      "cell_type": "markdown",
      "metadata": {
        "id": "USoKUU8CvJG4"
      },
      "source": [
        "As expected, the solver is much faster than our pedagogical algorithm, by almost four orders of magnitude."
      ]
    },
    {
      "cell_type": "markdown",
      "metadata": {
        "id": "VPlhrYH5vJG4"
      },
      "source": [
        "### 8. Exercises"
      ]
    },
    {
      "cell_type": "markdown",
      "metadata": {
        "id": "XnNsKCHQvJG4"
      },
      "source": [
        "**1.** Solve step by step a random $4 \\times 4$ linear system (use the first 4 digits of your cpf for the seed), describing each step of the GaussElimin and GaussRetro algorithm. Check the answer by calculating the residue.\n",
        "\n",
        "**2.** Solve a random system $500 \\times 500$ using the GaussSolve algorithm (do not show the result). Check the correctness of the result by calculating the residue norm and compare the required CPU time. Repeat the procedure using numpy's solver.  \n",
        "\n",
        "**3** The **condition number** of a matrix $ A $, denoted by $ \\kappa(A) $, measures the sensitivity of the solution of a linear system $ A \\mathbf{x} = \\mathbf{b} $ to such small perturbations in the matrix $ A $ or in the vector $ \\mathbf{b} $. It is defined as:\n",
        "$$\n",
        "\\kappa(A) = \\|A\\| \\cdot \\|A^{-1}\\|,\n",
        "$$\n",
        "where $ \\|A\\| $ is the norm of the matrix (usually the 2-norm). A high condition number indicates that the system is ill-conditioned, i.e., small changes in the data can cause large variations in the solution. An example of an ill-conditioned matrix is ​​the Hilbert matrix $H_n$ of order $n$, defined by\n",
        "$$\n",
        "H_{ij} = \\frac{1}{i + j + 1}, \\quad i, j = 0, 1, \\dots, n.\n",
        "$$\n",
        "\n",
        "We can define Python as follows:"
      ]
    },
    {
      "cell_type": "code",
      "execution_count": null,
      "metadata": {
        "id": "VNftbWmYvJG5"
      },
      "outputs": [],
      "source": [
        "def hilb(n):\n",
        "    return np.array([[1/(i+j+1) for i in range(n)] for j in range(n)])\n",
        "    return np.array([[1/(i+j+1) for i in range(n)] for j in range(n)])"
      ]
    },
    {
      "cell_type": "markdown",
      "metadata": {
        "id": "QuMHM2P8vJG5"
      },
      "source": [
        "For example,"
      ]
    },
    {
      "cell_type": "code",
      "execution_count": null,
      "metadata": {
        "id": "0L-nGisovJG5",
        "outputId": "2255c846-d846-4135-b29f-f3abf0821bcb"
      },
      "outputs": [
        {
          "data": {
            "text/plain": [
              "array([[1.        , 0.5       , 0.33333333, 0.25      ],\n",
              "       [0.5       , 0.33333333, 0.25      , 0.2       ],\n",
              "       [0.33333333, 0.25      , 0.2       , 0.16666667],\n",
              "       [0.25      , 0.2       , 0.16666667, 0.14285714]])"
            ]
          },
          "execution_count": 5,
          "metadata": {},
          "output_type": "execute_result"
        }
      ],
      "source": [
        "hilb(4)"
      ]
    },
    {
      "cell_type": "markdown",
      "metadata": {
        "id": "vRlsNR-rvJG5"
      },
      "source": [
        "(i) Solve the linear system $HX=B$, where $H$ is the Hilbert matrix $H(30)$, $30 \\times 30$ and B is a column matrix with all elements having the value 1. Use the Gaussian elimination algorithm developed earlier to solve the system. Calculate the residual in both cases.\n",
        "\n",
        "(ii) Compare the condition number of $H$ with that of a random matrix $30 \\times 30$. Use the command\n",
        "\n",
        "(iii) Show that a small perturbation in one component of $H(30)$ causes the solution of the system defined in (i) to change drastically.\n"
      ]
    },
    {
      "cell_type": "markdown",
      "metadata": {
        "id": "xVrkt2MMvJG5"
      },
      "source": [
        "**4.** Study system instability with Hilbert matrices $n \\times n$. For example, vary the value of a coefficient of B slightly, or add a small term to the matrix H. Use the solver in Numpy.\n",
        "\n",
        "**5.** Define a system $GX=B$, $n \\times n$, with $G=[g_{ij}]$ and $g_{ij}=1/(1+i+2j)$. Check if such a system is also unstable. Vary $n$. Use the solver in Numpy."
      ]
    },
    {
      "cell_type": "code",
      "execution_count": null,
      "metadata": {
        "id": "fZp7Snh1vJG5"
      },
      "outputs": [],
      "source": [
        "import numpy as np\n",
        "def m5(n):\n",
        "    return np.array([[1/(i+2*j+1) for i in range(n)] for j in range(n)])"
      ]
    },
    {
      "cell_type": "code",
      "execution_count": null,
      "metadata": {
        "id": "WPOC9ZtlvJG5",
        "outputId": "8f4d4d70-a45f-4732-91a9-f057a6254477"
      },
      "outputs": [
        {
          "data": {
            "text/plain": [
              "array([[1.        , 0.5       , 0.33333333, 0.25      , 0.2       ],\n",
              "       [0.33333333, 0.25      , 0.2       , 0.16666667, 0.14285714],\n",
              "       [0.2       , 0.16666667, 0.14285714, 0.125     , 0.11111111],\n",
              "       [0.14285714, 0.125     , 0.11111111, 0.1       , 0.09090909],\n",
              "       [0.11111111, 0.1       , 0.09090909, 0.08333333, 0.07692308]])"
            ]
          },
          "execution_count": 3,
          "metadata": {},
          "output_type": "execute_result"
        }
      ],
      "source": [
        "m5(5)"
      ]
    }
  ],
  "metadata": {
    "kernelspec": {
      "display_name": "Python 3",
      "language": "python",
      "name": "python3"
    },
    "language_info": {
      "codemirror_mode": {
        "name": "ipython",
        "version": 3
      },
      "file_extension": ".py",
      "mimetype": "text/x-python",
      "name": "python",
      "nbconvert_exporter": "python",
      "pygments_lexer": "ipython3",
      "version": "3.11.2"
    },
    "colab": {
      "provenance": [],
      "include_colab_link": true
    }
  },
  "nbformat": 4,
  "nbformat_minor": 0
}