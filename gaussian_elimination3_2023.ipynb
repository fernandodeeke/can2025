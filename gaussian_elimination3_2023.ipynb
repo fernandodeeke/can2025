{
 "cells": [
  {
   "cell_type": "markdown",
   "metadata": {},
   "source": [
    "<center><h1>Numerical Analysis</h1></center>\n",
    "<center><h2>2023/1</h2></center>\n",
    "<center><h3>Fernando Deeke Sasse</h3></center>\n",
    "<center><h3>CCT - UDESC</h3></center>\n",
    "<center><h2>Gaussian Elimination - 3</h2></center>"
   ]
  },
  {
   "cell_type": "markdown",
   "metadata": {},
   "source": [
    "### 1. Partial row pivoting"
   ]
  },
  {
   "cell_type": "markdown",
   "metadata": {},
   "source": [
    "Let's consider the linear system $AX = B$ with\n",
    "\n",
    "$$\n",
    "A = \\begin{bmatrix}\n",
    "10^{-8} & 1 & 4 \\\\\n",
    "1 & 1 & 4 \\\\\n",
    "2 & 4 & 5\n",
    "\\end{bmatrix}\\,,\\,\\,\n",
    "B = \\begin{bmatrix}\n",
    "1 \\\\ 3\\\\ 4\n",
    "\\end{bmatrix}\n",
    "$$\n",
    "\n",
    "Let's solve this system using the GaussSolve algorithm, presented earlier:"
   ]
  },
  {
   "cell_type": "code",
   "execution_count": 1,
   "metadata": {},
   "outputs": [],
   "source": [
    "import numpy as np"
   ]
  },
  {
   "cell_type": "code",
   "execution_count": 2,
   "metadata": {},
   "outputs": [],
   "source": [
    "def GaussSolve(a,b):\n",
    "    n = len(a)\n",
    "    x=np.zeros(n)\n",
    "    for k in range(0,n-1):\n",
    "        for i in range(k+1,n):\n",
    "            lam = a[i,k]/a[k,k]\n",
    "            a[i,k+1:n] = a[i,k+1:n] - lam*a[k,k+1:n]\n",
    "            b[i] = b[i] - lam*b[k]\n",
    "    x[n-1]=b[n-1]/a[n-1,n-1]\n",
    "    for k in range(n-2,-1,-1):\n",
    "        x[k] = (b[k] - np.dot(a[k,k+1:n],x[k+1:n]))/a[k,k]\n",
    "    return np.transpose([x])  "
   ]
  },
  {
   "cell_type": "markdown",
   "metadata": {},
   "source": [
    "We define the matrices:"
   ]
  },
  {
   "cell_type": "code",
   "execution_count": 91,
   "metadata": {},
   "outputs": [],
   "source": [
    "A = np.array([[1.e-8, 1.,4.],[1.e+8, 1.,4.],[2.,4.,5.]])\n",
    "B = np.array([[1.],[3.],[4.]])"
   ]
  },
  {
   "cell_type": "markdown",
   "metadata": {},
   "source": [
    "Let us test the algorithm:"
   ]
  },
  {
   "cell_type": "code",
   "execution_count": 92,
   "metadata": {},
   "outputs": [
    {
     "data": {
      "text/plain": [
       "array([[4.44089210e-08],\n",
       "       [9.99999967e-01],\n",
       "       [8.12790611e-09]])"
      ]
     },
     "execution_count": 92,
     "metadata": {},
     "output_type": "execute_result"
    }
   ],
   "source": [
    "X1 = GaussSolve(A,B)\n",
    "X1"
   ]
  },
  {
   "cell_type": "markdown",
   "metadata": {},
   "source": [
    "We may verify the result calculating the residue:"
   ]
  },
  {
   "cell_type": "code",
   "execution_count": 93,
   "metadata": {},
   "outputs": [],
   "source": [
    "A = np.array([[1.e-8, 1.,4.],[1.e+8, 1.,4.],[2.,4.,5.]])\n",
    "B = np.array([[1.],[3.],[4.]])"
   ]
  },
  {
   "cell_type": "code",
   "execution_count": 94,
   "metadata": {},
   "outputs": [
    {
     "data": {
      "text/plain": [
       "array([[ 0.00000000e+00],\n",
       "       [ 2.44089210e+00],\n",
       "       [-5.89126969e-10]])"
      ]
     },
     "execution_count": 94,
     "metadata": {},
     "output_type": "execute_result"
    }
   ],
   "source": [
    "R1=A@X1-B\n",
    "R1"
   ]
  },
  {
   "cell_type": "markdown",
   "metadata": {},
   "source": [
    "We can note that there is a problem with this solution, as the second component is not close to zero. Such a problem can be solved by an exchange of rows: "
   ]
  },
  {
   "cell_type": "code",
   "execution_count": 95,
   "metadata": {},
   "outputs": [],
   "source": [
    "A2 = np.array([[1.e+8, 1.,4.],[1.e-8, 1.,4.],[2.,4.,5.]])\n",
    "B2 = np.array([[3.],[1.],[4.]])"
   ]
  },
  {
   "cell_type": "markdown",
   "metadata": {},
   "source": [
    "Let us try again:"
   ]
  },
  {
   "cell_type": "code",
   "execution_count": 96,
   "metadata": {},
   "outputs": [
    {
     "data": {
      "text/plain": [
       "array([[2.00000000e-08],\n",
       "       [9.99999985e-01],\n",
       "       [3.63636357e-09]])"
      ]
     },
     "execution_count": 96,
     "metadata": {},
     "output_type": "execute_result"
    }
   ],
   "source": [
    "X2 = GaussSolve(A2,B2)\n",
    "X2"
   ]
  },
  {
   "cell_type": "markdown",
   "metadata": {},
   "source": [
    "Let us calculate the residue:"
   ]
  },
  {
   "cell_type": "code",
   "execution_count": 97,
   "metadata": {},
   "outputs": [],
   "source": [
    "A2 = np.array([[1.e+8, 1.,4.],[1.e-8, 1.,4.],[2.,4.,5.]])\n",
    "B2 = np.array([[3.],[1.],[4.]])"
   ]
  },
  {
   "cell_type": "code",
   "execution_count": 98,
   "metadata": {},
   "outputs": [
    {
     "data": {
      "text/plain": [
       "array([[-4.4408921e-16],\n",
       "       [ 0.0000000e+00],\n",
       "       [ 0.0000000e+00]])"
      ]
     },
     "execution_count": 98,
     "metadata": {},
     "output_type": "execute_result"
    }
   ],
   "source": [
    "R2=A2@X2-B2\n",
    "R2"
   ]
  },
  {
   "cell_type": "markdown",
   "metadata": {},
   "source": [
    "which shows that the solution is correct."
   ]
  },
  {
   "cell_type": "markdown",
   "metadata": {},
   "source": [
    "To explain the problem of the first procedure, let us examine in detail the origin of the problem in the first calculation. Let us form the enlarged matrix and perform the Gaussian elimination step by step"
   ]
  },
  {
   "cell_type": "code",
   "execution_count": 99,
   "metadata": {},
   "outputs": [],
   "source": [
    "A = np.array([[1.e-8, 1.,4.],[1.e+8, 1.,4.],[1.,4.,5.]])\n",
    "B = np.array([[1.],[3.],[4.]])"
   ]
  },
  {
   "cell_type": "code",
   "execution_count": 100,
   "metadata": {},
   "outputs": [
    {
     "name": "stdout",
     "output_type": "stream",
     "text": [
      "[[1.e-08 1.e+00 4.e+00 1.e+00]\n",
      " [1.e+08 1.e+00 4.e+00 3.e+00]\n",
      " [1.e+00 4.e+00 5.e+00 4.e+00]]\n"
     ]
    }
   ],
   "source": [
    "M = np.hstack([A,B])\n",
    "print(M)"
   ]
  },
  {
   "cell_type": "markdown",
   "metadata": {},
   "source": [
    "We use the algorithm that performs elementary row operations:"
   ]
  },
  {
   "cell_type": "code",
   "execution_count": 101,
   "metadata": {},
   "outputs": [],
   "source": [
    "def add_rows(A,k,i,j):\n",
    "    \"Adds k times the row j to row i in the matrix A\"\n",
    "    n=A.shape[0]\n",
    "    E=np.eye(n)\n",
    "    if i == j:\n",
    "        E[i,i] = k+1\n",
    "    else:\n",
    "        E[i,j] = k\n",
    "    return E@A"
   ]
  },
  {
   "cell_type": "markdown",
   "metadata": {},
   "source": [
    "Let's eliminate the term below the pivot of the first row:"
   ]
  },
  {
   "cell_type": "code",
   "execution_count": 102,
   "metadata": {},
   "outputs": [
    {
     "name": "stdout",
     "output_type": "stream",
     "text": [
      "[[ 1.e-08  1.e+00  4.e+00  1.e+00]\n",
      " [ 0.e+00 -1.e+16 -4.e+16 -1.e+16]\n",
      " [ 1.e+00  4.e+00  5.e+00  4.e+00]]\n"
     ]
    }
   ],
   "source": [
    "M1 = add_rows(M,-M[1,0]/M[0,0],1,0)\n",
    "print(M1)"
   ]
  },
  {
   "cell_type": "markdown",
   "metadata": {},
   "source": [
    "Let's examine in detail the multiplier used in this elimination:"
   ]
  },
  {
   "cell_type": "code",
   "execution_count": 103,
   "metadata": {},
   "outputs": [
    {
     "data": {
      "text/plain": [
       "-1e+16"
      ]
     },
     "execution_count": 103,
     "metadata": {},
     "output_type": "execute_result"
    }
   ],
   "source": [
    "-M[1,0]/M[0,0]"
   ]
  },
  {
   "cell_type": "markdown",
   "metadata": {},
   "source": [
    "This big number can bring problems when added to much smaller ones. For example:"
   ]
  },
  {
   "cell_type": "code",
   "execution_count": 104,
   "metadata": {},
   "outputs": [
    {
     "data": {
      "text/plain": [
       "-1e+16"
      ]
     },
     "execution_count": 104,
     "metadata": {},
     "output_type": "execute_result"
    }
   ],
   "source": [
    "-M[1,0]/M[0,0]+1."
   ]
  },
  {
   "cell_type": "markdown",
   "metadata": {},
   "source": [
    "Here the original number wasn't even changed after the addition. In the components that have been updated, the sum with the current component is practically irrelevant. In numerical computing when two numbers of different magnitudes are summed, the smaller number is converted to the base of the larger one, resulting in loss of accuracy."
   ]
  },
  {
   "cell_type": "markdown",
   "metadata": {},
   "source": [
    "Another potential problem of the simple Gaussian elimination procedure is that when the row pivot is zero the algorithm will be stopped by dividing by zero at the time of calculating the multiplier. "
   ]
  },
  {
   "cell_type": "markdown",
   "metadata": {},
   "source": [
    "### 2. Algorithm for partial row pivoting"
   ]
  },
  {
   "cell_type": "markdown",
   "metadata": {},
   "source": [
    "To avoid the problems described above we can proceed systematically during the Gaussian elimination process by always passing up the line with the highest pivot. This is the so-called Gaussian elimination algorithm with partial row pivoting.  Below we describe a pseudo-code that describes this algorithm:"
   ]
  },
  {
   "cell_type": "markdown",
   "metadata": {},
   "source": [
    "| Steps | |\n",
    "| --: | :-- |\n",
    "|  1  | For $i = 1$, ..., $n$ do Steps 2-4\n",
    "|  2  | $\\phantom{--}$ Find $p$, where $p$ is the largest number with $i\\leq p\\leq n$ \n",
    "|  3  | $\\phantom{--}$ If $p \\neq i$, then exchange row $i$ with row $p$ \n",
    "|  4  | $\\phantom{--}$ For $j=i+1, ..., n$ do Steps 5-6\n",
    "|  5  | $\\phantom{----}$ set $m_{ji} = a_{ji}/a_{ii}$\n",
    "|  6  | $\\phantom{----}$ Perform $E_j = ( E_j - m_{ji}E_i)$\n",
    "|  7  | Set $x_n = a_{n,n+1}/a_{nn}$\n",
    "|  8  | For $i = n-1, ..., 1$ do Step 9\n",
    "|  9  | $$ x_i=\\left.\\left(a_{i,n+1}-\\sum_{j=i+1}a_{ij}x_j \\right) \\middle/ a_{ii} \\right.$$"
   ]
  },
  {
   "cell_type": "markdown",
   "metadata": {},
   "source": [
    "The following function performs partial row pivoting:"
   ]
  },
  {
   "cell_type": "code",
   "execution_count": 105,
   "metadata": {},
   "outputs": [],
   "source": [
    "import numpy as np\n",
    "\n",
    "def partial_pivot(A, b):\n",
    "    \"\"\"\n",
    "    Solve a linear system Ax = b using partial row pivoting.\n",
    "    \n",
    "    Parameters:\n",
    "    A: numpy array of shape (n, n)\n",
    "        The coefficient matrix.\n",
    "    b: numpy array of shape (n,)\n",
    "        The right-hand side vector.\n",
    "    \n",
    "    Returns:\n",
    "    x: numpy array of shape (n,)\n",
    "        The solution to the linear system Ax = b.\n",
    "    \"\"\"\n",
    "    n = A.shape[0]\n",
    "    for i in range(n):\n",
    "        # Find the row with the largest absolute value in the ith column\n",
    "        max_row = i\n",
    "        for j in range(i+1, n):\n",
    "            if abs(A[j,i]) > abs(A[max_row,i]):\n",
    "                max_row = j\n",
    "        \n",
    "        # Swap rows i and max_row in A and b\n",
    "        A[[i, max_row], :] = A[[max_row, i], :]\n",
    "        b[[i, max_row]] = b[[max_row, i]]\n",
    "        \n",
    "        # Eliminate the ith variable from the remaining rows\n",
    "        for j in range(i+1, n):\n",
    "            factor = A[j,i] / A[i,i]\n",
    "            A[j,i:] -= factor * A[i,i:]\n",
    "            b[j] -= factor * b[i]\n",
    "    \n",
    "    # Back-substitution\n",
    "    x = np.zeros(n)\n",
    "    for i in range(n-1, -1, -1):\n",
    "        x[i] = (b[i] - np.dot(A[i,i+1:], x[i+1:])) / A[i,i]\n",
    "    \n",
    "    return np.transpose([x]) "
   ]
  },
  {
   "cell_type": "markdown",
   "metadata": {},
   "source": [
    "Let us test the algorithm:"
   ]
  },
  {
   "cell_type": "code",
   "execution_count": 106,
   "metadata": {},
   "outputs": [],
   "source": [
    "A = np.array([[1.e-8, 1.,4.],[1.e+8, 1.,4.],[1.,4.,5.]])\n",
    "B = np.array([[1.],[3.],[4.]])"
   ]
  },
  {
   "cell_type": "code",
   "execution_count": 107,
   "metadata": {},
   "outputs": [
    {
     "data": {
      "text/plain": [
       "array([[[2.00000000e-08],\n",
       "        [9.99999993e-01],\n",
       "        [1.81818168e-09]]])"
      ]
     },
     "execution_count": 107,
     "metadata": {},
     "output_type": "execute_result"
    }
   ],
   "source": [
    "X3 = np.array([partial_pivot(A,B)])\n",
    "X3"
   ]
  },
  {
   "cell_type": "code",
   "execution_count": 108,
   "metadata": {},
   "outputs": [],
   "source": [
    "A = np.array([[1.e-8, 1.,4.],[1.e+8, 1.,4.],[1.,4.,5.]])\n",
    "B = np.array([[1.],[3.],[4.]])"
   ]
  },
  {
   "cell_type": "code",
   "execution_count": 109,
   "metadata": {},
   "outputs": [
    {
     "data": {
      "text/plain": [
       "array([[[-1.11022302e-16],\n",
       "        [ 0.00000000e+00],\n",
       "        [ 0.00000000e+00]]])"
      ]
     },
     "execution_count": 109,
     "metadata": {},
     "output_type": "execute_result"
    }
   ],
   "source": [
    "R3=A@X3-B\n",
    "R3"
   ]
  },
  {
   "cell_type": "markdown",
   "metadata": {},
   "source": [
    "Partial row pivoting is implemented in the numpy solver:"
   ]
  },
  {
   "cell_type": "code",
   "execution_count": 110,
   "metadata": {},
   "outputs": [],
   "source": [
    "A = np.array([[1.e-8, 1.,4.],[1.e+8, 1.,4.],[1.,4.,5.]])\n",
    "B = np.array([[1.],[3.],[4.]])"
   ]
  },
  {
   "cell_type": "code",
   "execution_count": 111,
   "metadata": {
    "scrolled": true
   },
   "outputs": [
    {
     "name": "stdout",
     "output_type": "stream",
     "text": [
      "[[2.00000000e-08]\n",
      " [9.99999993e-01]\n",
      " [1.81818168e-09]]\n"
     ]
    }
   ],
   "source": [
    "X1 = np.linalg.solve(A,B)\n",
    "print(X1)"
   ]
  },
  {
   "cell_type": "markdown",
   "metadata": {},
   "source": [
    "### 3. Exercises"
   ]
  },
  {
   "cell_type": "markdown",
   "metadata": {},
   "source": [
    "**1.** Let be the linear system $AX = B$ with\n",
    "\n",
    "$$\n",
    "A = \\begin{bmatrix}\n",
    "3.45 \\times 10^{-10} & -4.34 & 5.98 \\\\\n",
    "5.34 \\times 10^{6} & 5.23 & 2.96 \\\\\n",
    "4.39 \\times 10^{10} & 4.32 & 15.32\n",
    "\\end{bmatrix}\\,,\\,\\,\n",
    "B = \\begin{bmatrix}\n",
    "1.98 \\\\ -8.39\\\\ 9.97\n",
    "\\end{bmatrix}\n",
    "$$\n",
    "\n",
    "(i) Solve the system step by step, using the Gaussian elimination process with partial row pivoting and calculate the residue. As a tool use the function"
   ]
  },
  {
   "cell_type": "code",
   "execution_count": 112,
   "metadata": {},
   "outputs": [],
   "source": [
    "def add_rows(A,k,i,j):\n",
    "    \"Add k times row j to row i\"\n",
    "    n=A.shape[0]\n",
    "    E=np.eye(n)\n",
    "    if i == j:\n",
    "        E[i,i] = k+1\n",
    "    else:\n",
    "        E[i,j] = k\n",
    "    return E@A"
   ]
  },
  {
   "cell_type": "markdown",
   "metadata": {},
   "source": [
    "<br>\n",
    "(ii) Solve the system using the partial_pivot function defined previously.\n",
    "<br>\n",
    "(iii) Solve the system using the numpy solver."
   ]
  },
  {
   "cell_type": "markdown",
   "metadata": {},
   "source": [
    "**2.** Solve problem 1 now with\n",
    "\n",
    "$$\n",
    "A = \\begin{bmatrix}\n",
    "0 & -4.34 & 5.98 & -4.32 \\\\\n",
    " 3.45 & 333.23 & 2.96& 3.45 \\\\\n",
    "3.97 & 4304.32 & 15.32& 432.203\\\\\n",
    "433.97 & 4304.32 & 15.32& 432.203\n",
    "\\end{bmatrix}\\,,\\,\\,\n",
    "B = \\begin{bmatrix}\n",
    "1.98 \\\\ -8.39\\\\ 9.97 \\\\ 302.34\n",
    "\\end{bmatrix}\n",
    "$$"
   ]
  },
  {
   "cell_type": "markdown",
   "metadata": {},
   "source": [
    "**3.** Define a random 1000 x 1000 linear system. Use %timeit to measure the time necessary to solve this system using both the naîve Gauss elimination function GaussSolve:"
   ]
  },
  {
   "cell_type": "code",
   "execution_count": 113,
   "metadata": {},
   "outputs": [],
   "source": [
    "def GaussSolve(a,b):\n",
    "    n = len(a)\n",
    "    x=np.zeros(n)\n",
    "    for k in range(0,n-1):\n",
    "        for i in range(k+1,n):\n",
    "            lam = a[i,k]/a[k,k]\n",
    "            a[i,k+1:n] = a[i,k+1:n] - lam*a[k,k+1:n]\n",
    "            b[i] = b[i] - lam*b[k]\n",
    "    x[n-1]=b[n-1]/a[n-1,n-1]\n",
    "    for k in range(n-2,-1,-1):\n",
    "        x[k] = (b[k] - np.dot(a[k,k+1:n],x[k+1:n]))/a[k,k]\n",
    "    return np.transpose([x]) "
   ]
  },
  {
   "cell_type": "markdown",
   "metadata": {},
   "source": [
    "and the partial_pivot defined in this notebook. What are your conclusions?"
   ]
  }
 ],
 "metadata": {
  "kernelspec": {
   "display_name": "Python 3 (ipykernel)",
   "language": "python",
   "name": "python3"
  },
  "language_info": {
   "codemirror_mode": {
    "name": "ipython",
    "version": 3
   },
   "file_extension": ".py",
   "mimetype": "text/x-python",
   "name": "python",
   "nbconvert_exporter": "python",
   "pygments_lexer": "ipython3",
   "version": "3.9.13"
  }
 },
 "nbformat": 4,
 "nbformat_minor": 4
}
