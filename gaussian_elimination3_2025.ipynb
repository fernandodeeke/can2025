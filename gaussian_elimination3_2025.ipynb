{
  "cells": [
    {
      "cell_type": "markdown",
      "metadata": {
        "id": "view-in-github",
        "colab_type": "text"
      },
      "source": [
        "<a href=\"https://colab.research.google.com/github/fernandodeeke/can2025/blob/main/gaussian_elimination3_2025.ipynb\" target=\"_parent\"><img src=\"https://colab.research.google.com/assets/colab-badge.svg\" alt=\"Open In Colab\"/></a>"
      ]
    },
    {
      "cell_type": "markdown",
      "metadata": {
        "id": "4V4lXug2unT0"
      },
      "source": [
        "<center><h1> <h2></h2></h1></center>\n",
        "<center><h1>Numerical Analysis</h1></center>\n",
        "<center><h2>2025/1</h2></center>\n",
        "<center><h3>Fernando Deeke Sasse</h3></center>\n",
        "<center><h3>CCT - UDESC</h3></center>\n",
        "<center><h2>Gaussian Elimination - 3</h2></center>"
      ]
    },
    {
      "cell_type": "markdown",
      "metadata": {
        "id": "3-twa4-punT2"
      },
      "source": [
        "### 1. Partial row pivoting"
      ]
    },
    {
      "cell_type": "markdown",
      "metadata": {
        "id": "w9XwSQFqunT2"
      },
      "source": [
        "Let's consider the linear system $AX = B$ with\n",
        "\n",
        "$$\n",
        "A = \\begin{bmatrix}\n",
        "10^{-8} & 1 & 4 \\\\\n",
        "1 & 1 & 4 \\\\\n",
        "2 & 4 & 5\n",
        "\\end{bmatrix}\\,,\\,\\,\n",
        "B = \\begin{bmatrix}\n",
        "1 \\\\ 3\\\\ 4\n",
        "\\end{bmatrix}\n",
        "$$\n",
        "\n",
        "Let's solve this system using the GaussSolve algorithm, presented earlier:"
      ]
    },
    {
      "cell_type": "code",
      "execution_count": 1,
      "metadata": {
        "id": "OmSFKdslunT3"
      },
      "outputs": [],
      "source": [
        "import numpy as np"
      ]
    },
    {
      "cell_type": "code",
      "execution_count": 2,
      "metadata": {
        "id": "I6QFgdaZunT3"
      },
      "outputs": [],
      "source": [
        "def GaussSolve(a,b):\n",
        "    n = len(a)\n",
        "    x=np.zeros(n)\n",
        "    for k in range(0,n-1):\n",
        "        for i in range(k+1,n):\n",
        "            lam = a[i,k]/a[k,k]\n",
        "            a[i,k+1:n] = a[i,k+1:n] - lam*a[k,k+1:n]\n",
        "            b[i] = b[i] - lam*b[k]\n",
        "    x[n-1]=b[n-1]/a[n-1,n-1]\n",
        "    for k in range(n-2,-1,-1):\n",
        "        x[k] = (b[k] - np.dot(a[k,k+1:n],x[k+1:n]))/a[k,k]\n",
        "    return np.transpose([x])"
      ]
    },
    {
      "cell_type": "markdown",
      "metadata": {
        "id": "A5oiRiZounT4"
      },
      "source": [
        "We define the matrices:"
      ]
    },
    {
      "cell_type": "code",
      "execution_count": 6,
      "metadata": {
        "id": "duB8matfunT4"
      },
      "outputs": [],
      "source": [
        "A = np.array([[1.e-8, 1.,4.],[1.e+8, 1.,4.],[2.,4.,5.]])\n",
        "B = np.array([1.,3.,4.])"
      ]
    },
    {
      "cell_type": "markdown",
      "metadata": {
        "id": "kQ6ZE7kUunT4"
      },
      "source": [
        "Let us test the algorithm:"
      ]
    },
    {
      "cell_type": "code",
      "execution_count": 7,
      "metadata": {
        "id": "dBkxKk54unT4",
        "outputId": "f9c900d1-5fae-4e52-870f-4e88fea63acd",
        "colab": {
          "base_uri": "https://localhost:8080/"
        }
      },
      "outputs": [
        {
          "output_type": "execute_result",
          "data": {
            "text/plain": [
              "array([[4.44089210e-08],\n",
              "       [9.99999967e-01],\n",
              "       [8.12790611e-09]])"
            ]
          },
          "metadata": {},
          "execution_count": 7
        }
      ],
      "source": [
        "X1 = GaussSolve(A,B)\n",
        "X1"
      ]
    },
    {
      "cell_type": "markdown",
      "metadata": {
        "id": "gfEACtXRunT5"
      },
      "source": [
        "We may verify the result calculating the residue:"
      ]
    },
    {
      "cell_type": "code",
      "execution_count": 12,
      "metadata": {
        "id": "bnxDgFWjunT5"
      },
      "outputs": [],
      "source": [
        "A = np.array([[1.e-8, 1.,4.],[1.e+8, 1.,4.],[2.,4.,5.]])\n",
        "B = np.array([1.,3.,4.])\n",
        "Bt = B.reshape(3,1)"
      ]
    },
    {
      "cell_type": "code",
      "execution_count": 13,
      "metadata": {
        "id": "qN5LhdlKunT5",
        "outputId": "5f3eca69-eed0-468b-e16e-1e20de8375f7",
        "colab": {
          "base_uri": "https://localhost:8080/"
        }
      },
      "outputs": [
        {
          "output_type": "execute_result",
          "data": {
            "text/plain": [
              "array([[ 0.00000000e+00],\n",
              "       [ 2.44089210e+00],\n",
              "       [-5.89126969e-10]])"
            ]
          },
          "metadata": {},
          "execution_count": 13
        }
      ],
      "source": [
        "R1=A@X1-Bt\n",
        "R1"
      ]
    },
    {
      "cell_type": "markdown",
      "metadata": {
        "id": "bW8ivOtdunT5"
      },
      "source": [
        "We can note that there is a problem with this solution, as the second component is not close to zero. Such a problem can be solved by an exchange of rows:"
      ]
    },
    {
      "cell_type": "code",
      "execution_count": 15,
      "metadata": {
        "id": "1lrS22dVunT5"
      },
      "outputs": [],
      "source": [
        "A2 = np.array([[1.e+8, 1.,4.],[1.e-8, 1.,4.],[2.,4.,5.]])\n",
        "B2 = np.array([3.,1.,4.])\n",
        "B2t = B2.reshape(3,1)"
      ]
    },
    {
      "cell_type": "markdown",
      "metadata": {
        "id": "cZNZ5_oNunT5"
      },
      "source": [
        "Let us try again:"
      ]
    },
    {
      "cell_type": "code",
      "execution_count": 16,
      "metadata": {
        "id": "KjD557oGunT6",
        "outputId": "1a1226fc-93ba-4403-a7a4-f2d2caa6570e",
        "colab": {
          "base_uri": "https://localhost:8080/"
        }
      },
      "outputs": [
        {
          "output_type": "execute_result",
          "data": {
            "text/plain": [
              "array([[2.00000000e-08],\n",
              "       [9.99999985e-01],\n",
              "       [3.63636357e-09]])"
            ]
          },
          "metadata": {},
          "execution_count": 16
        }
      ],
      "source": [
        "X2 = GaussSolve(A2,B2)\n",
        "X2"
      ]
    },
    {
      "cell_type": "markdown",
      "metadata": {
        "id": "_6H9-sDJunT6"
      },
      "source": [
        "Let us calculate the residue:"
      ]
    },
    {
      "cell_type": "code",
      "execution_count": 17,
      "metadata": {
        "id": "dSodia7_unT6"
      },
      "outputs": [],
      "source": [
        "A2 = np.array([[1.e+8, 1.,4.],[1.e-8, 1.,4.],[2.,4.,5.]])\n",
        "B2 = np.array([3.,1.,4.])\n",
        "B2t = B2.reshape(3,1)"
      ]
    },
    {
      "cell_type": "code",
      "execution_count": 18,
      "metadata": {
        "id": "NODjV2mYunT6",
        "outputId": "21449356-a713-4479-e794-7c45baad99ef",
        "colab": {
          "base_uri": "https://localhost:8080/"
        }
      },
      "outputs": [
        {
          "output_type": "execute_result",
          "data": {
            "text/plain": [
              "array([[-4.4408921e-16],\n",
              "       [ 0.0000000e+00],\n",
              "       [ 0.0000000e+00]])"
            ]
          },
          "metadata": {},
          "execution_count": 18
        }
      ],
      "source": [
        "R2=A2@X2-B2t\n",
        "R2"
      ]
    },
    {
      "cell_type": "markdown",
      "metadata": {
        "id": "dhqcGxvvunT6"
      },
      "source": [
        "which shows that the solution is correct."
      ]
    },
    {
      "cell_type": "markdown",
      "metadata": {
        "id": "lSpny8W7unT6"
      },
      "source": [
        "To explain the problem of the first procedure, let us examine in detail the origin of the problem in the first calculation. Let us form the enlarged matrix and perform the Gaussian elimination step by step"
      ]
    },
    {
      "cell_type": "code",
      "execution_count": 19,
      "metadata": {
        "id": "WlDzDXymunT6"
      },
      "outputs": [],
      "source": [
        "A = np.array([[1.e-8, 1.,4.],[1.e+8, 1.,4.],[1.,4.,5.]])\n",
        "B = np.array([1.,3.,4.])\n",
        "Bt = B.reshape(3,1)"
      ]
    },
    {
      "cell_type": "code",
      "execution_count": 20,
      "metadata": {
        "id": "WKlWS2awunT6",
        "outputId": "ee5d8e09-87c8-45e4-ccbf-cc595a21b00c",
        "colab": {
          "base_uri": "https://localhost:8080/"
        }
      },
      "outputs": [
        {
          "output_type": "stream",
          "name": "stdout",
          "text": [
            "[[1.e-08 1.e+00 4.e+00 1.e+00]\n",
            " [1.e+08 1.e+00 4.e+00 3.e+00]\n",
            " [1.e+00 4.e+00 5.e+00 4.e+00]]\n"
          ]
        }
      ],
      "source": [
        "M = np.hstack([A,Bt])\n",
        "print(M)"
      ]
    },
    {
      "cell_type": "markdown",
      "metadata": {
        "id": "waUuflcIunT6"
      },
      "source": [
        "We use the algorithm that performs elementary row operations:"
      ]
    },
    {
      "cell_type": "code",
      "execution_count": 21,
      "metadata": {
        "id": "ZHoKCaZCunT6"
      },
      "outputs": [],
      "source": [
        "def add_rows(A,k,i,j):\n",
        "    \"Adds k times the row j to row i in the matrix A\"\n",
        "    n=A.shape[0]\n",
        "    E=np.eye(n)\n",
        "    if i == j:\n",
        "        E[i,i] = k+1\n",
        "    else:\n",
        "        E[i,j] = k\n",
        "    return E@A"
      ]
    },
    {
      "cell_type": "markdown",
      "metadata": {
        "id": "sB4n8TvqunT6"
      },
      "source": [
        "Let's eliminate the term below the pivot of the first row:"
      ]
    },
    {
      "cell_type": "code",
      "execution_count": 22,
      "metadata": {
        "id": "iTalJesmunT7",
        "outputId": "cb49014d-d4fe-41cb-bd65-ef49c817b236",
        "colab": {
          "base_uri": "https://localhost:8080/"
        }
      },
      "outputs": [
        {
          "output_type": "stream",
          "name": "stdout",
          "text": [
            "[[ 1.e-08  1.e+00  4.e+00  1.e+00]\n",
            " [ 0.e+00 -1.e+16 -4.e+16 -1.e+16]\n",
            " [ 1.e+00  4.e+00  5.e+00  4.e+00]]\n"
          ]
        }
      ],
      "source": [
        "M1 = add_rows(M,-M[1,0]/M[0,0],1,0)\n",
        "print(M1)"
      ]
    },
    {
      "cell_type": "markdown",
      "metadata": {
        "id": "Uws2c5JqunT7"
      },
      "source": [
        "Let's examine in detail the multiplier used in this elimination:"
      ]
    },
    {
      "cell_type": "code",
      "execution_count": 23,
      "metadata": {
        "id": "yrVoaEMyunT7",
        "outputId": "dc4168dc-7be2-483b-d743-11383025896e",
        "colab": {
          "base_uri": "https://localhost:8080/"
        }
      },
      "outputs": [
        {
          "output_type": "execute_result",
          "data": {
            "text/plain": [
              "-1e+16"
            ]
          },
          "metadata": {},
          "execution_count": 23
        }
      ],
      "source": [
        "-M[1,0]/M[0,0]"
      ]
    },
    {
      "cell_type": "markdown",
      "metadata": {
        "id": "cbrOyu3dunT7"
      },
      "source": [
        "This big number can bring problems when added to much smaller ones. For example:"
      ]
    },
    {
      "cell_type": "code",
      "execution_count": 24,
      "metadata": {
        "id": "xDds1BPvunT7",
        "outputId": "ce9851cc-0a25-4d00-af88-c8b83011e9ad",
        "colab": {
          "base_uri": "https://localhost:8080/"
        }
      },
      "outputs": [
        {
          "output_type": "execute_result",
          "data": {
            "text/plain": [
              "-1e+16"
            ]
          },
          "metadata": {},
          "execution_count": 24
        }
      ],
      "source": [
        "-M[1,0]/M[0,0]+1."
      ]
    },
    {
      "cell_type": "markdown",
      "metadata": {
        "id": "yJ5ccU9KunT7"
      },
      "source": [
        "Here the original number wasn't even changed after the addition. In the components that have been updated, the sum with the current component is practically irrelevant. In numerical computing when two numbers of different magnitudes are summed, the smaller number is converted to the base of the larger one, resulting in loss of accuracy."
      ]
    },
    {
      "cell_type": "markdown",
      "metadata": {
        "id": "VbY8GDDMunT7"
      },
      "source": [
        "Another potential problem of the simple Gaussian elimination procedure is that when the row pivot is zero the algorithm will be stopped by dividing by zero at the time of calculating the multiplier."
      ]
    },
    {
      "cell_type": "markdown",
      "metadata": {
        "id": "gCzoIsJ3unT7"
      },
      "source": [
        "### 2. Algorithm for partial row pivoting"
      ]
    },
    {
      "cell_type": "markdown",
      "metadata": {
        "id": "k_pWWXX0unT7"
      },
      "source": [
        "To avoid the problems described above we can proceed systematically during the Gaussian elimination process by always passing up the line with the highest pivot. This is the so-called Gaussian elimination algorithm with partial row pivoting.  Below we describe a pseudo-code that describes this algorithm:"
      ]
    },
    {
      "cell_type": "markdown",
      "metadata": {
        "id": "LlBr97S0unT7"
      },
      "source": [
        "| Steps | |\n",
        "| --: | :-- |\n",
        "|  1  | For $i = 1$, ..., $n$ do Steps 2-4\n",
        "|  2  | $\\phantom{--}$ Find $p$, where $p$ is the largest number with $i\\leq p\\leq n$\n",
        "|  3  | $\\phantom{--}$ If $p \\neq i$, then exchange row $i$ with row $p$\n",
        "|  4  | $\\phantom{--}$ For $j=i+1, ..., n$ do Steps 5-6\n",
        "|  5  | $\\phantom{----}$ set $m_{ji} = a_{ji}/a_{ii}$\n",
        "|  6  | $\\phantom{----}$ Perform $E_j = ( E_j - m_{ji}E_i)$\n",
        "|  7  | Set $x_n = a_{n,n+1}/a_{nn}$\n",
        "|  8  | For $i = n-1, ..., 1$ do Step 9\n",
        "|  9  | $$ x_i=\\left.\\left(a_{i,n+1}-\\sum_{j=i+1}a_{ij}x_j \\right) \\middle/ a_{ii} \\right.$$"
      ]
    },
    {
      "cell_type": "markdown",
      "metadata": {
        "id": "eAfZkKTOunT7"
      },
      "source": [
        "The following function performs partial row pivoting:"
      ]
    },
    {
      "cell_type": "code",
      "execution_count": 25,
      "metadata": {
        "id": "q5ZED9jTunT8"
      },
      "outputs": [],
      "source": [
        "import numpy as np\n",
        "\n",
        "def partial_pivot(A, b):\n",
        "    \"\"\"\n",
        "    Solve a linear system Ax = b using partial row pivoting.\n",
        "\n",
        "    Parameters:\n",
        "    A: numpy array of shape (n, n)\n",
        "        The coefficient matrix.\n",
        "    b: numpy array of shape (n,)\n",
        "        The right-hand side vector.\n",
        "\n",
        "    Returns:\n",
        "    x: numpy array of shape (n,)\n",
        "        The solution to the linear system Ax = b.\n",
        "    \"\"\"\n",
        "    n = A.shape[0]\n",
        "    for i in range(n):\n",
        "        # Find the row with the largest absolute value in the ith column\n",
        "        max_row = i\n",
        "        for j in range(i+1, n):\n",
        "            if abs(A[j,i]) > abs(A[max_row,i]):\n",
        "                max_row = j\n",
        "\n",
        "        # Swap rows i and max_row in A and b\n",
        "        A[[i, max_row], :] = A[[max_row, i], :]\n",
        "        b[[i, max_row]] = b[[max_row, i]]\n",
        "\n",
        "        # Eliminate the ith variable from the remaining rows\n",
        "        for j in range(i+1, n):\n",
        "            factor = A[j,i] / A[i,i]\n",
        "            A[j,i:] -= factor * A[i,i:]\n",
        "            b[j] -= factor * b[i]\n",
        "\n",
        "    # Back-substitution\n",
        "    x = np.zeros(n)\n",
        "    for i in range(n-1, -1, -1):\n",
        "        x[i] = (b[i] - np.dot(A[i,i+1:], x[i+1:])) / A[i,i]\n",
        "\n",
        "    return np.transpose([x])"
      ]
    },
    {
      "cell_type": "markdown",
      "metadata": {
        "id": "Fg454QprunT8"
      },
      "source": [
        "Let us test the algorithm:"
      ]
    },
    {
      "cell_type": "code",
      "execution_count": 28,
      "metadata": {
        "id": "_nG4rnaNunT8"
      },
      "outputs": [],
      "source": [
        "A = np.array([[1.e-8, 1.,4.],[1.e+8, 1.,4.],[1.,4.,5.]])\n",
        "B = np.array([1.,3.,4.])\n",
        "Bt = B.reshape(3,1)"
      ]
    },
    {
      "cell_type": "code",
      "execution_count": 29,
      "metadata": {
        "id": "xbhGWAnYunT8",
        "outputId": "e060a783-b1a2-42dc-c989-23bc03bf538a",
        "colab": {
          "base_uri": "https://localhost:8080/"
        }
      },
      "outputs": [
        {
          "output_type": "execute_result",
          "data": {
            "text/plain": [
              "array([[[2.00000000e-08],\n",
              "        [9.99999993e-01],\n",
              "        [1.81818168e-09]]])"
            ]
          },
          "metadata": {},
          "execution_count": 29
        }
      ],
      "source": [
        "\n",
        "X3 = np.array([partial_pivot(A,B)])\n",
        "X3"
      ]
    },
    {
      "cell_type": "code",
      "execution_count": 30,
      "metadata": {
        "id": "XOuNsS-iunT8"
      },
      "outputs": [],
      "source": [
        "A = np.array([[1.e-8, 1.,4.],[1.e+8, 1.,4.],[1.,4.,5.]])\n",
        "B = np.array([1.,3.,4.])\n",
        "Bt = B.reshape(3,1)"
      ]
    },
    {
      "cell_type": "code",
      "execution_count": 32,
      "metadata": {
        "id": "XI1yRXcsunT8",
        "outputId": "c8d64a16-a900-4511-8e20-dfe10bd75bf4",
        "colab": {
          "base_uri": "https://localhost:8080/"
        }
      },
      "outputs": [
        {
          "output_type": "execute_result",
          "data": {
            "text/plain": [
              "array([[[-1.11022302e-16],\n",
              "        [ 0.00000000e+00],\n",
              "        [ 0.00000000e+00]]])"
            ]
          },
          "metadata": {},
          "execution_count": 32
        }
      ],
      "source": [
        "R3=A@X3-Bt\n",
        "R3"
      ]
    },
    {
      "cell_type": "markdown",
      "metadata": {
        "id": "XHmkXRQ6unT8"
      },
      "source": [
        "Partial row pivoting is implemented in the numpy solver:"
      ]
    },
    {
      "cell_type": "code",
      "execution_count": 33,
      "metadata": {
        "id": "PARasev4unT9"
      },
      "outputs": [],
      "source": [
        "A = np.array([[1.e-8, 1.,4.],[1.e+8, 1.,4.],[1.,4.,5.]])\n",
        "B = np.array([[1.],[3.],[4.]])"
      ]
    },
    {
      "cell_type": "code",
      "execution_count": 34,
      "metadata": {
        "scrolled": true,
        "id": "XSgM10BzunT9",
        "outputId": "b550e95e-4a63-4c8f-dfe6-97650298ce40",
        "colab": {
          "base_uri": "https://localhost:8080/"
        }
      },
      "outputs": [
        {
          "output_type": "stream",
          "name": "stdout",
          "text": [
            "[[2.00000000e-08]\n",
            " [9.99999993e-01]\n",
            " [1.81818176e-09]]\n"
          ]
        }
      ],
      "source": [
        "X1 = np.linalg.solve(A,B)\n",
        "print(X1)"
      ]
    },
    {
      "cell_type": "markdown",
      "metadata": {
        "id": "TEQ-TmfkunT9"
      },
      "source": [
        "### 3. Exercises"
      ]
    },
    {
      "cell_type": "markdown",
      "metadata": {
        "id": "ZIaQiZzfunT9"
      },
      "source": [
        "**1.** Let be the linear system $AX = B$ with\n",
        "\n",
        "$$\n",
        "A = \\begin{bmatrix}\n",
        "3.45 \\times 10^{-10} & -4.34 & 5.98 \\\\\n",
        "5.34 \\times 10^{6} & 5.23 & 2.96 \\\\\n",
        "4.39 \\times 10^{10} & 4.32 & 15.32\n",
        "\\end{bmatrix}\\,,\\,\\,\n",
        "B = \\begin{bmatrix}\n",
        "1.98 \\\\ -8.39\\\\ 9.97\n",
        "\\end{bmatrix}\n",
        "$$\n",
        "\n",
        "(i) Solve the system step by step, using the Gaussian elimination process with partial row pivoting and calculate the residue. As a tool use the function"
      ]
    },
    {
      "cell_type": "code",
      "execution_count": null,
      "metadata": {
        "id": "I41cqGkYunT9"
      },
      "outputs": [],
      "source": [
        "def add_rows(A,k,i,j):\n",
        "    \"Add k times row j to row i\"\n",
        "    n=A.shape[0]\n",
        "    E=np.eye(n)\n",
        "    if i == j:\n",
        "        E[i,i] = k+1\n",
        "    else:\n",
        "        E[i,j] = k\n",
        "    return E@A"
      ]
    },
    {
      "cell_type": "markdown",
      "metadata": {
        "id": "RvIDtAVIunT9"
      },
      "source": [
        "<br>\n",
        "(ii) Solve the system using the partial_pivot function defined previously.\n",
        "<br>\n",
        "(iii) Solve the system using the numpy solver."
      ]
    },
    {
      "cell_type": "markdown",
      "metadata": {
        "id": "ca__9qPgunT9"
      },
      "source": [
        "**2.** Solve problem 1 now with\n",
        "\n",
        "$$\n",
        "A = \\begin{bmatrix}\n",
        "0 & -4.34 & 5.98 & -4.32 \\\\\n",
        " 3.45 & 333.23 & 2.96& 3.45 \\\\\n",
        "3.97 & 4304.32 & 15.32& 432.203\\\\\n",
        "433.97 & 4304.32 & 15.32& 432.203\n",
        "\\end{bmatrix}\\,,\\,\\,\n",
        "B = \\begin{bmatrix}\n",
        "1.98 \\\\ -8.39\\\\ 9.97 \\\\ 302.34\n",
        "\\end{bmatrix}\n",
        "$$"
      ]
    },
    {
      "cell_type": "markdown",
      "metadata": {
        "id": "L5V8U90VunT9"
      },
      "source": [
        "**3.** Define a random 1000 x 1000 linear system. Use %timeit to measure the time necessary to solve this system using both the naîve Gauss elimination function GaussSolve:"
      ]
    },
    {
      "cell_type": "code",
      "execution_count": null,
      "metadata": {
        "id": "Eh2tDZNvunT9"
      },
      "outputs": [],
      "source": [
        "def GaussSolve(a,b):\n",
        "    n = len(a)\n",
        "    x=np.zeros(n)\n",
        "    for k in range(0,n-1):\n",
        "        for i in range(k+1,n):\n",
        "            lam = a[i,k]/a[k,k]\n",
        "            a[i,k+1:n] = a[i,k+1:n] - lam*a[k,k+1:n]\n",
        "            b[i] = b[i] - lam*b[k]\n",
        "    x[n-1]=b[n-1]/a[n-1,n-1]\n",
        "    for k in range(n-2,-1,-1):\n",
        "        x[k] = (b[k] - np.dot(a[k,k+1:n],x[k+1:n]))/a[k,k]\n",
        "    return np.transpose([x])"
      ]
    },
    {
      "cell_type": "markdown",
      "metadata": {
        "id": "jQcWNf35unT-"
      },
      "source": [
        "and the partial_pivot defined in this notebook. What are your conclusions?"
      ]
    }
  ],
  "metadata": {
    "kernelspec": {
      "display_name": "Python 3 (ipykernel)",
      "language": "python",
      "name": "python3"
    },
    "language_info": {
      "codemirror_mode": {
        "name": "ipython",
        "version": 3
      },
      "file_extension": ".py",
      "mimetype": "text/x-python",
      "name": "python",
      "nbconvert_exporter": "python",
      "pygments_lexer": "ipython3",
      "version": "3.9.13"
    },
    "colab": {
      "provenance": [],
      "include_colab_link": true
    }
  },
  "nbformat": 4,
  "nbformat_minor": 0
}