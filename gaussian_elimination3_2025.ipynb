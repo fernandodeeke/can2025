{
  "cells": [
    {
      "cell_type": "markdown",
      "metadata": {
        "id": "view-in-github",
        "colab_type": "text"
      },
      "source": [
        "<a href=\"https://colab.research.google.com/github/fernandodeeke/can2025/blob/main/gaussian_elimination3_2025.ipynb\" target=\"_parent\"><img src=\"https://colab.research.google.com/assets/colab-badge.svg\" alt=\"Open In Colab\"/></a>"
      ]
    },
    {
      "cell_type": "markdown",
      "metadata": {
        "id": "4V4lXug2unT0"
      },
      "source": [
        "<center><h1> <h2></h2></h1></center>\n",
        "<center><h1>Numerical Analysis</h1></center>\n",
        "<center><h2>2025/1</h2></center>\n",
        "<center><h3>Fernando Deeke Sasse</h3></center>\n",
        "<center><h3>CCT - UDESC</h3></center>\n",
        "<center><h2>Gaussian Elimination - 3</h2></center>"
      ]
    },
    {
      "cell_type": "markdown",
      "metadata": {
        "id": "3-twa4-punT2"
      },
      "source": [
        "### 1. Partial row pivoting"
      ]
    },
    {
      "cell_type": "markdown",
      "metadata": {
        "id": "w9XwSQFqunT2"
      },
      "source": [
        "Let's consider the linear system $AX = B$ with\n",
        "\n",
        "$$\n",
        "A = \\begin{bmatrix}\n",
        "10^{-8} & 1 & 4 \\\\\n",
        "1 & 1 & 4 \\\\\n",
        "2 & 4 & 5\n",
        "\\end{bmatrix}\\,,\\,\\,\n",
        "B = \\begin{bmatrix}\n",
        "1 \\\\ 3\\\\ 4\n",
        "\\end{bmatrix}\n",
        "$$\n",
        "\n",
        "Let's solve this system using the GaussSolve algorithm, presented earlier:"
      ]
    },
    {
      "cell_type": "code",
      "execution_count": 18,
      "metadata": {
        "id": "OmSFKdslunT3"
      },
      "outputs": [],
      "source": [
        "import numpy as np"
      ]
    },
    {
      "cell_type": "code",
      "execution_count": 19,
      "metadata": {
        "id": "I6QFgdaZunT3"
      },
      "outputs": [],
      "source": [
        "def GaussSolve(a,b):\n",
        "    a = a.copy() # Preserve the input\n",
        "    b = b.copy()\n",
        "    n = len(a)\n",
        "    x=np.zeros(n)\n",
        "    for k in range(0,n-1):\n",
        "        for i in range(k+1,n):\n",
        "            lam = a[i,k]/a[k,k]\n",
        "            a[i,k+1:n] = a[i,k+1:n] - lam*a[k,k+1:n]\n",
        "            b[i] = b[i] - lam*b[k]\n",
        "    x[n-1]=b[n-1]/a[n-1,n-1]\n",
        "    for k in range(n-2,-1,-1):\n",
        "        x[k] = (b[k] - np.dot(a[k,k+1:n],x[k+1:n]))/a[k,k]\n",
        "    return x"
      ]
    },
    {
      "cell_type": "markdown",
      "metadata": {
        "id": "A5oiRiZounT4"
      },
      "source": [
        "We define the matrices:"
      ]
    },
    {
      "cell_type": "code",
      "execution_count": 156,
      "metadata": {
        "id": "duB8matfunT4"
      },
      "outputs": [],
      "source": [
        "A = np.array([[1.e-15, 1.,4.,6.],[1., 6.,4.,7.],[2.,4.,5.,5.],[3.,5.,-1.,-3]])\n",
        "B = np.array([1.,3.,4.,5.])"
      ]
    },
    {
      "cell_type": "markdown",
      "metadata": {
        "id": "kQ6ZE7kUunT4"
      },
      "source": [
        "Let us test the algorithm:"
      ]
    },
    {
      "cell_type": "code",
      "execution_count": 157,
      "metadata": {
        "id": "dBkxKk54unT4",
        "outputId": "c88fc2be-91f7-433b-a217-caac3b237543",
        "colab": {
          "base_uri": "https://localhost:8080/"
        }
      },
      "outputs": [
        {
          "output_type": "execute_result",
          "data": {
            "text/plain": [
              "array([ 0.66613381,  0.2826087 ,  0.52173913, -0.22826087])"
            ]
          },
          "metadata": {},
          "execution_count": 157
        }
      ],
      "source": [
        "X1 = GaussSolve(A,B)\n",
        "X1"
      ]
    },
    {
      "cell_type": "markdown",
      "metadata": {
        "id": "gfEACtXRunT5"
      },
      "source": [
        "We may verify the result calculating the residue:"
      ]
    },
    {
      "cell_type": "code",
      "execution_count": 158,
      "metadata": {
        "id": "qN5LhdlKunT5",
        "outputId": "245dceb7-977e-461c-f744-f648d3f97bd0",
        "colab": {
          "base_uri": "https://localhost:8080/"
        }
      },
      "outputs": [
        {
          "output_type": "execute_result",
          "data": {
            "text/plain": [
              "array([ 0.        , -0.14908358, -0.06990628, -1.4255116 ])"
            ]
          },
          "metadata": {},
          "execution_count": 158
        }
      ],
      "source": [
        "R1=A@X1-B\n",
        "R1"
      ]
    },
    {
      "cell_type": "markdown",
      "metadata": {
        "id": "bW8ivOtdunT5"
      },
      "source": [
        "We can note that there is a problem with this solution, as not all components are close to zero. Such a problem can be solved by an exchange of rows:"
      ]
    },
    {
      "cell_type": "code",
      "execution_count": 159,
      "metadata": {
        "id": "1lrS22dVunT5"
      },
      "outputs": [],
      "source": [
        "A2 = np.array([[1., 6.,4.,7.],[1.e-15, 1.,4.,6.],[2.,4.,5.,5.],[3.,5.,-1.,-3]])\n",
        "B2 = np.array([3.,1.,4.,5.])"
      ]
    },
    {
      "cell_type": "markdown",
      "metadata": {
        "id": "cZNZ5_oNunT5"
      },
      "source": [
        "Let us try again:"
      ]
    },
    {
      "cell_type": "code",
      "execution_count": 160,
      "metadata": {
        "id": "KjD557oGunT6",
        "outputId": "6f404076-14ea-4b44-fe5c-e46036362a37",
        "colab": {
          "base_uri": "https://localhost:8080/"
        }
      },
      "outputs": [
        {
          "output_type": "execute_result",
          "data": {
            "text/plain": [
              "array([ 2.4, -0.2, -0.6,  0.6])"
            ]
          },
          "metadata": {},
          "execution_count": 160
        }
      ],
      "source": [
        "X2 = GaussSolve(A2,B2)\n",
        "X2"
      ]
    },
    {
      "cell_type": "markdown",
      "metadata": {
        "id": "_6H9-sDJunT6"
      },
      "source": [
        "This is a completely different result.  Let us calculate the residue:"
      ]
    },
    {
      "cell_type": "code",
      "execution_count": 143,
      "metadata": {
        "id": "NODjV2mYunT6",
        "outputId": "81ac4ea5-b1fa-4424-ce61-2e37207919d4",
        "colab": {
          "base_uri": "https://localhost:8080/"
        }
      },
      "outputs": [
        {
          "output_type": "execute_result",
          "data": {
            "text/plain": [
              "array([ 0.00000000e+00, -4.44089210e-16,  1.77635684e-15, -8.88178420e-16])"
            ]
          },
          "metadata": {},
          "execution_count": 143
        }
      ],
      "source": [
        "R2=A2@X2-B2\n",
        "R2"
      ]
    },
    {
      "cell_type": "markdown",
      "metadata": {
        "id": "dhqcGxvvunT6"
      },
      "source": [
        "which shows that the solution is now correct."
      ]
    },
    {
      "cell_type": "markdown",
      "metadata": {
        "id": "waUuflcIunT6"
      },
      "source": [
        "In what follows we may use the algorithm that performs elementary row operations:"
      ]
    },
    {
      "cell_type": "code",
      "execution_count": 75,
      "metadata": {
        "id": "ZHoKCaZCunT6"
      },
      "outputs": [],
      "source": [
        "def add_rows(A,k,i,j):\n",
        "    \"Adds k times the row j to row i in the matrix A\"\n",
        "    n=A.shape[0]\n",
        "    E=np.eye(n)\n",
        "    if i == j:\n",
        "        E[i,i] = k+1\n",
        "    else:\n",
        "        E[i,j] = k\n",
        "    return E@A"
      ]
    },
    {
      "cell_type": "markdown",
      "metadata": {
        "id": "VbY8GDDMunT7"
      },
      "source": [
        "Another potential problem of the simple Gaussian elimination procedure is that when the row pivot is zero the algorithm will be stopped by dividing by zero at the time of calculating the multiplier."
      ]
    },
    {
      "cell_type": "markdown",
      "metadata": {
        "id": "gCzoIsJ3unT7"
      },
      "source": [
        "### 2. Algorithm for partial row pivoting"
      ]
    },
    {
      "cell_type": "markdown",
      "metadata": {
        "id": "k_pWWXX0unT7"
      },
      "source": [
        "To avoid the problems described above we can proceed systematically during the Gaussian elimination process by always passing up the line with the highest pivot. This is the so-called Gaussian elimination algorithm with partial row pivoting.  Below we describe a pseudo-code that describes this algorithm:"
      ]
    },
    {
      "cell_type": "markdown",
      "metadata": {
        "id": "LlBr97S0unT7"
      },
      "source": [
        "| Steps | |\n",
        "| --: | :-- |\n",
        "|  1  | For $i = 1$, ..., $n$ do Steps 2-4\n",
        "|  2  | $\\phantom{--}$ Find $p$, where $p$ is the largest number with $i\\leq p\\leq n$\n",
        "|  3  | $\\phantom{--}$ If $p \\neq i$, then exchange row $i$ with row $p$\n",
        "|  4  | $\\phantom{--}$ For $j=i+1, ..., n$ do Steps 5-6\n",
        "|  5  | $\\phantom{----}$ set $m_{ji} = a_{ji}/a_{ii}$\n",
        "|  6  | $\\phantom{----}$ Perform $E_j = ( E_j - m_{ji}E_i)$\n",
        "|  7  | Set $x_n = a_{n,n+1}/a_{nn}$\n",
        "|  8  | For $i = n-1, ..., 1$ do Step 9\n",
        "|  9  | $$ x_i=\\left.\\left(a_{i,n+1}-\\sum_{j=i+1}a_{ij}x_j \\right) \\middle/ a_{ii} \\right.$$"
      ]
    },
    {
      "cell_type": "markdown",
      "metadata": {
        "id": "eAfZkKTOunT7"
      },
      "source": [
        "The following function performs partial row pivoting:"
      ]
    },
    {
      "cell_type": "code",
      "execution_count": 114,
      "metadata": {
        "id": "q5ZED9jTunT8"
      },
      "outputs": [],
      "source": [
        "import numpy as np\n",
        "\n",
        "def partial_pivot(a, b):\n",
        "    a = a.copy()  # Preserve the input\n",
        "    b = b.copy()\n",
        "    n = a.shape[0]\n",
        "    for i in range(n):\n",
        "        # Find the row with the largest absolute value in the ith column\n",
        "        max_row = i\n",
        "        for j in range(i+1, n):\n",
        "            if abs(a[j,i]) > abs(a[max_row,i]):\n",
        "                max_row = j\n",
        "\n",
        "        # Swap rows i and max_row in a and b\n",
        "        a[[i, max_row], :] = a[[max_row, i], :]\n",
        "        b[[i, max_row]] = b[[max_row, i]]\n",
        "\n",
        "        # Eliminate the ith variable from the remaining rows\n",
        "        for j in range(i+1, n):\n",
        "            factor = a[j,i] / a[i,i]\n",
        "            a[j,i:] -= factor * a[i,i:]\n",
        "            b[j] -= factor * b[i]\n",
        "\n",
        "    # Back-substitution\n",
        "    x = np.zeros(n)  # Creates a 1D array of length n\n",
        "    for i in range(n-1, -1, -1):\n",
        "        x[i] = (b[i] - np.dot(a[i,i+1:], x[i+1:])) / a[i,i]  # Fixed 'A' to 'a'\n",
        "    return x"
      ]
    },
    {
      "cell_type": "code",
      "source": [
        "a = np.array([[2, 1], [5, 3]], dtype=float)  # 2x2 matrix\n",
        "b = np.array([5, 13], dtype=float)           # 1D array of length 2\n",
        "x = partial_pivot(a, b)\n",
        "x"
      ],
      "metadata": {
        "colab": {
          "base_uri": "https://localhost:8080/"
        },
        "id": "mB-lsDiiRyso",
        "outputId": "266ec3f5-c152-4f23-caf1-36b5021e7bd2"
      },
      "execution_count": 115,
      "outputs": [
        {
          "output_type": "execute_result",
          "data": {
            "text/plain": [
              "array([2., 1.])"
            ]
          },
          "metadata": {},
          "execution_count": 115
        }
      ]
    },
    {
      "cell_type": "markdown",
      "metadata": {
        "id": "Fg454QprunT8"
      },
      "source": [
        "Let us test the algorithm:"
      ]
    },
    {
      "cell_type": "code",
      "execution_count": 166,
      "metadata": {
        "id": "_nG4rnaNunT8"
      },
      "outputs": [],
      "source": [
        "A = np.array([[1.e-15, 1.,4.,6.],[1., 6.,4.,7.],[2.,4.,5.,5.],[3.,5.,-1.,-3]])\n",
        "B = np.array([1.,3.,4.,5.])"
      ]
    },
    {
      "cell_type": "code",
      "execution_count": 162,
      "metadata": {
        "id": "xbhGWAnYunT8",
        "outputId": "5e895ba8-78f8-4303-ff34-d71cacf2f16f",
        "colab": {
          "base_uri": "https://localhost:8080/"
        }
      },
      "outputs": [
        {
          "output_type": "execute_result",
          "data": {
            "text/plain": [
              "array([ 2.4, -0.2, -0.6,  0.6])"
            ]
          },
          "metadata": {},
          "execution_count": 162
        }
      ],
      "source": [
        "X3 = np.array(partial_pivot(A,B))\n",
        "X3"
      ]
    },
    {
      "cell_type": "code",
      "execution_count": 163,
      "metadata": {
        "id": "XI1yRXcsunT8",
        "outputId": "6c5105c9-662b-4658-b4e0-252d31e2660a",
        "colab": {
          "base_uri": "https://localhost:8080/"
        }
      },
      "outputs": [
        {
          "output_type": "execute_result",
          "data": {
            "text/plain": [
              "array([ 0.0000000e+00,  0.0000000e+00,  0.0000000e+00, -8.8817842e-16])"
            ]
          },
          "metadata": {},
          "execution_count": 163
        }
      ],
      "source": [
        "R3=A@X3-B\n",
        "R3"
      ]
    },
    {
      "cell_type": "markdown",
      "metadata": {
        "id": "XHmkXRQ6unT8"
      },
      "source": [
        "Partial row pivoting is implemented in the numpy solver:"
      ]
    },
    {
      "cell_type": "code",
      "execution_count": 167,
      "metadata": {
        "scrolled": true,
        "id": "XSgM10BzunT9",
        "outputId": "053a5324-815b-4362-8bf2-94ea7ef518f1",
        "colab": {
          "base_uri": "https://localhost:8080/"
        }
      },
      "outputs": [
        {
          "output_type": "stream",
          "name": "stdout",
          "text": [
            "[ 2.4 -0.2 -0.6  0.6]\n"
          ]
        }
      ],
      "source": [
        "X4 = np.linalg.solve(A,B)\n",
        "print(X4)"
      ]
    },
    {
      "cell_type": "markdown",
      "metadata": {
        "id": "TEQ-TmfkunT9"
      },
      "source": [
        "### 3. Exercises"
      ]
    },
    {
      "cell_type": "markdown",
      "metadata": {
        "id": "ZIaQiZzfunT9"
      },
      "source": [
        "**1.** Let be the linear system $AX = B$ with\n",
        "\n",
        "$$\n",
        "A = \\begin{bmatrix}\n",
        "3.45 \\times 10^{-10} & -4.34 & 5.98 \\\\\n",
        "5.34 \\times 10^{6} & 5.23 & 2.96 \\\\\n",
        "4.39 \\times 10^{10} & 4.32 & 15.32\n",
        "\\end{bmatrix}\\,,\\,\\,\n",
        "B = \\begin{bmatrix}\n",
        "1.98 \\\\ -8.39\\\\ 9.97\n",
        "\\end{bmatrix}\n",
        "$$\n",
        "\n",
        "(i) Try to solve the system step by step, using the Gaussian elimination process with partial row pivoting and calculate the residue. As a tool use the function"
      ]
    },
    {
      "cell_type": "code",
      "execution_count": null,
      "metadata": {
        "id": "I41cqGkYunT9"
      },
      "outputs": [],
      "source": [
        "def add_rows(A,k,i,j):\n",
        "    \"Add k times row j to row i\"\n",
        "    n=A.shape[0]\n",
        "    E=np.eye(n)\n",
        "    if i == j:\n",
        "        E[i,i] = k+1\n",
        "    else:\n",
        "        E[i,j] = k\n",
        "    return E@A"
      ]
    },
    {
      "cell_type": "markdown",
      "metadata": {
        "id": "RvIDtAVIunT9"
      },
      "source": [
        "<br>\n",
        "(ii) Solve the system using the partial_pivot function defined previously.\n",
        "<br>\n",
        "(iii) Solve the system using the numpy solver."
      ]
    },
    {
      "cell_type": "markdown",
      "metadata": {
        "id": "ca__9qPgunT9"
      },
      "source": [
        "**2.** Solve problem 1 now with\n",
        "\n",
        "$$\n",
        "A = \\begin{bmatrix}\n",
        "0 & -4.34 & 5.98 & -4.32 \\\\\n",
        " 3.45 & 333.23 & 2.96& 3.45 \\\\\n",
        "3.97 & 4304.32 & 15.32& 432.203\\\\\n",
        "433.97 & 4304.32 & 15.32& 432.203\n",
        "\\end{bmatrix}\\,,\\,\\,\n",
        "B = \\begin{bmatrix}\n",
        "1.98 \\\\ -8.39\\\\ 9.97 \\\\ 302.34\n",
        "\\end{bmatrix}\n",
        "$$"
      ]
    },
    {
      "cell_type": "markdown",
      "metadata": {
        "id": "L5V8U90VunT9"
      },
      "source": [
        "**3.** Define a random 1000 x 1000 linear system. Use %timeit to measure the time necessary to solve this system using both the naîve Gauss elimination function GaussSolve and the partial_pivot defined in this notebook. What are your conclusions?"
      ]
    },
    {
      "cell_type": "markdown",
      "source": [
        "**4.** Build and implement an agorithm that performs partial row pivoting with scales."
      ],
      "metadata": {
        "id": "Sg3VmBLfIW3b"
      }
    }
  ],
  "metadata": {
    "kernelspec": {
      "display_name": "Python 3 (ipykernel)",
      "language": "python",
      "name": "python3"
    },
    "language_info": {
      "codemirror_mode": {
        "name": "ipython",
        "version": 3
      },
      "file_extension": ".py",
      "mimetype": "text/x-python",
      "name": "python",
      "nbconvert_exporter": "python",
      "pygments_lexer": "ipython3",
      "version": "3.9.13"
    },
    "colab": {
      "provenance": [],
      "include_colab_link": true
    }
  },
  "nbformat": 4,
  "nbformat_minor": 0
}