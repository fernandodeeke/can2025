{
  "cells": [
    {
      "cell_type": "markdown",
      "metadata": {
        "id": "view-in-github",
        "colab_type": "text"
      },
      "source": [
        "<a href=\"https://colab.research.google.com/github/fernandodeeke/can2025/blob/main/interp2025.ipynb\" target=\"_parent\"><img src=\"https://colab.research.google.com/assets/colab-badge.svg\" alt=\"Open In Colab\"/></a>"
      ]
    },
    {
      "cell_type": "markdown",
      "metadata": {
        "id": "dIJfUV4MawF-"
      },
      "source": [
        "<center><h1></h1></center>\n",
        "<center><h1>Cálculo Numérico</h1></center>\n",
        "<center><h2>CAN0001 2025/2</h2></center>\n",
        "<center><h3>Prof. Fernando Deeke Sasse - CCT, UDESC</h3></center>    \n",
        "<center><h2>Interpolação </h2> </center>"
      ]
    },
    {
      "cell_type": "markdown",
      "metadata": {
        "id": "qHXPbs2UawGA"
      },
      "source": [
        "## 1. Interpolação Simples"
      ]
    },
    {
      "cell_type": "markdown",
      "metadata": {
        "id": "dZU2r-kuawGA"
      },
      "source": [
        "Veremos um exemplo de aplicação do método de interpolação polinomial simples (com base monomial). Inicialmente carregamos as biblitecas básicas:"
      ]
    },
    {
      "cell_type": "code",
      "execution_count": null,
      "metadata": {
        "id": "QUOMzxy-awGA"
      },
      "outputs": [],
      "source": [
        "import numpy as np\n",
        "import matplotlib.pyplot as plt"
      ]
    },
    {
      "cell_type": "markdown",
      "metadata": {
        "id": "ilEQzez8awGB"
      },
      "source": [
        "Suponhamos que temos dados $(x,y(x))$ tabelados na seguinte forma:"
      ]
    },
    {
      "cell_type": "code",
      "execution_count": null,
      "metadata": {
        "id": "o4YV-vfbawGB",
        "outputId": "7c6ed63c-03af-4edc-fe0a-599cdaee44ac"
      },
      "outputs": [
        {
          "data": {
            "text/plain": [
              "array([1., 2., 3., 4., 5.])"
            ]
          },
          "execution_count": 15,
          "metadata": {},
          "output_type": "execute_result"
        }
      ],
      "source": [
        "x = np.array([1.,2.,3.,4.,5.])\n",
        "x"
      ]
    },
    {
      "cell_type": "code",
      "execution_count": null,
      "metadata": {
        "id": "q0RC48ucawGC",
        "outputId": "a8892b00-9c81-4ac8-b474-c67dcfc5a8a3"
      },
      "outputs": [
        {
          "data": {
            "text/plain": [
              "array([5.3, 8.2, 7.2, 6.6, 4.3])"
            ]
          },
          "execution_count": 16,
          "metadata": {},
          "output_type": "execute_result"
        }
      ],
      "source": [
        "y = np.array([5.3,8.2,7.2,6.6,4.3])\n",
        "y"
      ]
    },
    {
      "cell_type": "markdown",
      "metadata": {
        "id": "PXMEvTFaawGC"
      },
      "source": [
        "Façamos um gráfico para estes dados:"
      ]
    },
    {
      "cell_type": "code",
      "execution_count": null,
      "metadata": {
        "id": "ncnO9msOawGC",
        "outputId": "381e2a10-91f9-4457-beae-f76ec67655e2"
      },
      "outputs": [
        {
          "data": {
            "text/plain": [
              "[<matplotlib.lines.Line2D at 0x7fe8e47b3e80>]"
            ]
          },
          "execution_count": 17,
          "metadata": {},
          "output_type": "execute_result"
        },
        {
          "data": {
            "image/png": "[encoded data removed]",
            "text/plain": [
              "<Figure size 432x288 with 1 Axes>"
            ]
          },
          "metadata": {
            "needs_background": "light"
          },
          "output_type": "display_data"
        }
      ],
      "source": [
        "plt.plot(x,y,'ro')"
      ]
    },
    {
      "cell_type": "markdown",
      "metadata": {
        "id": "lFLJ8AhgawGC"
      },
      "source": [
        "Como temos 5 dados, o polinômio que interpola estes pontos deve ser de quarta ordem, sendo que seus coeficientes $c$ são dados pela solução da equação matricial $Vc=y$, sendo $V$ a matriz de Vandermonde, definida por meio da seguinte função:"
      ]
    },
    {
      "cell_type": "code",
      "execution_count": null,
      "metadata": {
        "id": "9hvEYGTYawGD"
      },
      "outputs": [],
      "source": [
        "def vandermonde(x):\n",
        "    n = len(x)\n",
        "    a = (n,n)\n",
        "    a = np.zeros(a)\n",
        "    for i in range(n):\n",
        "        for j in range(n):\n",
        "            a[i,j] = x[i]**j\n",
        "    return a"
      ]
    },
    {
      "cell_type": "code",
      "execution_count": null,
      "metadata": {
        "id": "J3MBAnhvawGD",
        "outputId": "8caa7975-ef25-4c7f-d881-60abd0c4e29f"
      },
      "outputs": [
        {
          "data": {
            "text/plain": [
              "array([[  1.,   1.,   1.,   1.,   1.],\n",
              "       [  1.,   2.,   4.,   8.,  16.],\n",
              "       [  1.,   3.,   9.,  27.,  81.],\n",
              "       [  1.,   4.,  16.,  64., 256.],\n",
              "       [  1.,   5.,  25., 125., 625.]])"
            ]
          },
          "execution_count": 19,
          "metadata": {},
          "output_type": "execute_result"
        }
      ],
      "source": [
        "V = vandermonde(x)\n",
        "V"
      ]
    },
    {
      "cell_type": "markdown",
      "metadata": {
        "id": "ql_qZw2MawGD"
      },
      "source": [
        "Resolvamos o sistema:"
      ]
    },
    {
      "cell_type": "code",
      "execution_count": null,
      "metadata": {
        "id": "mo5h7WWFawGD"
      },
      "outputs": [],
      "source": [
        "import numpy.linalg as la"
      ]
    },
    {
      "cell_type": "code",
      "execution_count": null,
      "metadata": {
        "id": "zY-s3j2rawGD",
        "outputId": "f0d2f86d-d42b-48bf-8e0e-d4619ccbf7f1"
      },
      "outputs": [
        {
          "name": "stdout",
          "output_type": "stream",
          "text": [
            "[-12.2         29.96666667 -15.58333333   3.38333333  -0.26666667]\n"
          ]
        }
      ],
      "source": [
        "c = la.solve(V,y)\n",
        "print(c)"
      ]
    },
    {
      "cell_type": "markdown",
      "metadata": {
        "id": "WEe9345ZawGD"
      },
      "source": [
        "Uma vez que temos os coeficientes, podemos determinar o polinômio $p(t)$:"
      ]
    },
    {
      "cell_type": "code",
      "execution_count": null,
      "metadata": {
        "id": "oTBHXX0TawGD"
      },
      "outputs": [],
      "source": [
        "def p(t,c):\n",
        "        n = len(c)\n",
        "        return sum(c[i]*t**i for i in range(n))"
      ]
    },
    {
      "cell_type": "markdown",
      "metadata": {
        "id": "08Yd-HtnawGD"
      },
      "source": [
        "Definimos uma malha de 30 pontos para traçar o polinômio:"
      ]
    },
    {
      "cell_type": "code",
      "execution_count": null,
      "metadata": {
        "id": "22Zr6OTRawGE"
      },
      "outputs": [],
      "source": [
        "t = np.linspace(0.9, 5.1,30)"
      ]
    },
    {
      "cell_type": "markdown",
      "metadata": {
        "id": "gv130fKIawGE"
      },
      "source": [
        "Finalmente, fazemos o gráfico dos pontos juntamente com os polinômios:"
      ]
    },
    {
      "cell_type": "code",
      "execution_count": null,
      "metadata": {
        "id": "dnOGjQkEawGE",
        "outputId": "f275f386-d95c-4ec3-bc01-893357677a6a"
      },
      "outputs": [
        {
          "data": {
            "text/plain": [
              "[<matplotlib.lines.Line2D at 0x7fe8e484e970>,\n",
              " <matplotlib.lines.Line2D at 0x7fe8e484e9a0>]"
            ]
          },
          "execution_count": 24,
          "metadata": {},
          "output_type": "execute_result"
        },
        {
          "data": {
            "image/png": "[encoded data removed]",
            "text/plain": [
              "<Figure size 432x288 with 1 Axes>"
            ]
          },
          "metadata": {
            "needs_background": "light"
          },
          "output_type": "display_data"
        }
      ],
      "source": [
        "plt.plot(x,y,'ro', t, p(t,c), '-')"
      ]
    },
    {
      "cell_type": "markdown",
      "metadata": {
        "id": "ZXgLko6XawGE"
      },
      "source": [
        "O mesmo resultado pode ser obtido diretamente usando o seguinte comando, usando a base polinomial de Lagrange, por exemplo:"
      ]
    },
    {
      "cell_type": "code",
      "execution_count": null,
      "metadata": {
        "id": "DHKaKTPtawGE"
      },
      "outputs": [],
      "source": [
        "from scipy.interpolate import lagrange"
      ]
    },
    {
      "cell_type": "code",
      "execution_count": null,
      "metadata": {
        "id": "SPou0YGxawGE",
        "outputId": "41706429-9eba-4930-da30-12314cfa70ac"
      },
      "outputs": [
        {
          "data": {
            "text/plain": [
              "poly1d([ -0.26666667,   3.38333333, -15.58333333,  29.96666667,\n",
              "       -12.2       ])"
            ]
          },
          "execution_count": 30,
          "metadata": {},
          "output_type": "execute_result"
        }
      ],
      "source": [
        "f = lagrange(x, y)\n",
        "f"
      ]
    },
    {
      "cell_type": "markdown",
      "metadata": {
        "id": "e8s_-v5PawGE"
      },
      "source": [
        "Podemos usar diretamente $f$ para traçar o gráfico:"
      ]
    },
    {
      "cell_type": "code",
      "execution_count": null,
      "metadata": {
        "id": "cT1P69s1awGE",
        "outputId": "c687c32c-bef1-4d67-bee8-4067f276883f"
      },
      "outputs": [
        {
          "data": {
            "text/plain": [
              "[<matplotlib.lines.Line2D at 0x7fe8e4a8b3d0>,\n",
              " <matplotlib.lines.Line2D at 0x7fe8e4a8b400>]"
            ]
          },
          "execution_count": 38,
          "metadata": {},
          "output_type": "execute_result"
        },
        {
          "data": {
            "image/png": "[encoded data removed]",
            "text/plain": [
              "<Figure size 432x288 with 1 Axes>"
            ]
          },
          "metadata": {
            "needs_background": "light"
          },
          "output_type": "display_data"
        }
      ],
      "source": [
        "plt.plot(x,y,'ro', t, f(t), '-')"
      ]
    },
    {
      "cell_type": "markdown",
      "metadata": {
        "id": "eUIz8yu9awGE"
      },
      "source": [
        "## 2. Interpolação não-polinomial"
      ]
    },
    {
      "cell_type": "markdown",
      "metadata": {
        "id": "kuaXSjQIawGE"
      },
      "source": [
        "Para mostrar que podemos ter uma base de funções de interpolação diferente da polinomial, apresentaremos o exemple a seguir. Suponhamos que queremos interpolar os dados:"
      ]
    },
    {
      "cell_type": "code",
      "execution_count": null,
      "metadata": {
        "id": "ATwkwyESawGE"
      },
      "outputs": [],
      "source": [
        "import numpy as np\n",
        "import matplotlib.pyplot as plt"
      ]
    },
    {
      "cell_type": "code",
      "execution_count": null,
      "metadata": {
        "id": "1xfJr1C1awGF"
      },
      "outputs": [],
      "source": [
        "T = np.array([1.,2.,3.,4.])\n",
        "X = np.array([3.4,4.3,6.2,4.6])"
      ]
    },
    {
      "cell_type": "markdown",
      "metadata": {
        "id": "-kg1i69EawGF"
      },
      "source": [
        "Façamos um gráfico dos dados:"
      ]
    },
    {
      "cell_type": "code",
      "execution_count": null,
      "metadata": {
        "id": "6PKIOJfwawGF",
        "outputId": "1192b33b-a186-4bcc-cc6f-745153ec139d"
      },
      "outputs": [
        {
          "data": {
            "text/plain": [
              "[<matplotlib.lines.Line2D at 0x7fcc27e124e0>]"
            ]
          },
          "execution_count": 101,
          "metadata": {},
          "output_type": "execute_result"
        },
        {
          "data": {
            "image/png": "[encoded data removed]",
            "text/plain": [
              "<Figure size 432x288 with 1 Axes>"
            ]
          },
          "metadata": {
            "needs_background": "light"
          },
          "output_type": "display_data"
        }
      ],
      "source": [
        "plt.plot(T,X,'ro')"
      ]
    },
    {
      "cell_type": "markdown",
      "metadata": {
        "id": "m8uo_LaVawGF"
      },
      "source": [
        "Usaremos a base de funções não polinomiais com as 4 funções (pois temos 4 pontos):  $\\{\\exp(t), 1, t, \\exp(-t)\\}$. Definimos uma função que gera a matrix de base:"
      ]
    },
    {
      "cell_type": "code",
      "execution_count": null,
      "metadata": {
        "id": "qQHkuRnIawGF"
      },
      "outputs": [],
      "source": [
        "def basisE(x):\n",
        "    n = len(x)\n",
        "    a = (n,n)\n",
        "    a = np.zeros(a)\n",
        "    for j in range(n):\n",
        "        a[j,0]= np.exp(x[j])\n",
        "        a[j,1]= 1\n",
        "        a[j,2]=x[j]\n",
        "        a[j,3]= np.exp(-x[j])\n",
        "    return a"
      ]
    },
    {
      "cell_type": "markdown",
      "metadata": {
        "id": "buFTKechawGF"
      },
      "source": [
        "No presente caso temos"
      ]
    },
    {
      "cell_type": "code",
      "execution_count": null,
      "metadata": {
        "id": "wIMQ3FytawGF"
      },
      "outputs": [],
      "source": [
        "A=basisE(T)"
      ]
    },
    {
      "cell_type": "markdown",
      "metadata": {
        "id": "cDMLHVlfawGF"
      },
      "source": [
        "Determinemos os coeficientes da combinação linear:"
      ]
    },
    {
      "cell_type": "code",
      "execution_count": null,
      "metadata": {
        "id": "ufrGqo5vawGF"
      },
      "outputs": [],
      "source": [
        "import numpy.linalg as la"
      ]
    },
    {
      "cell_type": "code",
      "execution_count": null,
      "metadata": {
        "id": "ZE6W4QQjawGF",
        "outputId": "d51d2708-a0a2-4d68-b50a-9b96382f92e0"
      },
      "outputs": [
        {
          "data": {
            "text/plain": [
              "array([-0.20504417, -8.70673594,  6.04303117, 17.99794139])"
            ]
          },
          "execution_count": 107,
          "metadata": {},
          "output_type": "execute_result"
        }
      ],
      "source": [
        "x= la.solve(A,X)\n",
        "x"
      ]
    },
    {
      "cell_type": "markdown",
      "metadata": {
        "id": "3o05ssV4awGG"
      },
      "source": [
        "A função interpolante pode ser definida por:"
      ]
    },
    {
      "cell_type": "code",
      "execution_count": null,
      "metadata": {
        "id": "UxAcb1qhawGG"
      },
      "outputs": [],
      "source": [
        "def f(t,c):\n",
        "        return c[0]*np.exp(t)+c[1]+c[2]*t+c[3]*np.exp(-t)"
      ]
    },
    {
      "cell_type": "markdown",
      "metadata": {
        "id": "AMTB1Ba1awGG"
      },
      "source": [
        "Geremos 30 pontos no eixo $t$:"
      ]
    },
    {
      "cell_type": "code",
      "execution_count": null,
      "metadata": {
        "id": "t_ggm4AUawGH",
        "outputId": "7505eb3b-1e96-419b-9866-36a5be49a169"
      },
      "outputs": [
        {
          "data": {
            "text/plain": [
              "array([0.9       , 1.01034483, 1.12068966, 1.23103448, 1.34137931,\n",
              "       1.45172414, 1.56206897, 1.67241379, 1.78275862, 1.89310345,\n",
              "       2.00344828, 2.1137931 , 2.22413793, 2.33448276, 2.44482759,\n",
              "       2.55517241, 2.66551724, 2.77586207, 2.8862069 , 2.99655172,\n",
              "       3.10689655, 3.21724138, 3.32758621, 3.43793103, 3.54827586,\n",
              "       3.65862069, 3.76896552, 3.87931034, 3.98965517, 4.1       ])"
            ]
          },
          "execution_count": 109,
          "metadata": {},
          "output_type": "execute_result"
        }
      ],
      "source": [
        "t = np.linspace(0.9, 4.1,30)\n",
        "t"
      ]
    },
    {
      "cell_type": "markdown",
      "metadata": {
        "id": "4EMqW-YFawGH"
      },
      "source": [
        "Podemos agora visualisar o resultado:"
      ]
    },
    {
      "cell_type": "code",
      "execution_count": null,
      "metadata": {
        "id": "TV2LOTBFawGH",
        "outputId": "7a0a0c88-5826-41a5-8dc6-fe8ce27bcd4d"
      },
      "outputs": [
        {
          "data": {
            "text/plain": [
              "[<matplotlib.lines.Line2D at 0x7fcc27eb1e10>,\n",
              " <matplotlib.lines.Line2D at 0x7fcc27eb1f28>]"
            ]
          },
          "execution_count": 110,
          "metadata": {},
          "output_type": "execute_result"
        },
        {
          "data": {
            "image/png": "[encoded data removed]",
            "text/plain": [
              "<Figure size 432x288 with 1 Axes>"
            ]
          },
          "metadata": {
            "needs_background": "light"
          },
          "output_type": "display_data"
        }
      ],
      "source": [
        "plt.plot(T,X,'ro', t, f(t,x), '-')"
      ]
    },
    {
      "cell_type": "markdown",
      "metadata": {
        "id": "rxdkYVeSawGH"
      },
      "source": [
        "Podemos comparar este resultado com o da interpolação polinomial de base monomial. Aqui a matriz de base é a matriz de Vandermonde:"
      ]
    },
    {
      "cell_type": "code",
      "execution_count": null,
      "metadata": {
        "id": "RaihffrPawGH"
      },
      "outputs": [],
      "source": [
        "def vandermonde(y):\n",
        "    n = len(y)\n",
        "    a = (n,n)\n",
        "    a = np.zeros(a)\n",
        "    for i in range(n):\n",
        "        for j in range(n):\n",
        "            a[i,j] = y[i]**j\n",
        "    return a"
      ]
    },
    {
      "cell_type": "markdown",
      "metadata": {
        "id": "QsYfZSPcawGH"
      },
      "source": [
        "No nosso caso:"
      ]
    },
    {
      "cell_type": "code",
      "execution_count": null,
      "metadata": {
        "id": "KKHtur3-awGH",
        "outputId": "f5aa660f-b492-4f60-888e-3d6540a0b9b1"
      },
      "outputs": [
        {
          "data": {
            "text/plain": [
              "array([[ 1.,  1.,  1.,  1.],\n",
              "       [ 1.,  2.,  4.,  8.],\n",
              "       [ 1.,  3.,  9., 27.],\n",
              "       [ 1.,  4., 16., 64.]])"
            ]
          },
          "execution_count": 116,
          "metadata": {},
          "output_type": "execute_result"
        }
      ],
      "source": [
        "V = vandermonde(T)\n",
        "V"
      ]
    },
    {
      "cell_type": "markdown",
      "metadata": {
        "id": "w4a1_A1oawGH"
      },
      "source": [
        "Os coeficientes de interpolação são:"
      ]
    },
    {
      "cell_type": "code",
      "execution_count": null,
      "metadata": {
        "id": "g3sd3N6EawGH",
        "outputId": "fe789d44-8ce6-4a0a-9e18-6f95f7e42c2c"
      },
      "outputs": [
        {
          "name": "stdout",
          "output_type": "stream",
          "text": [
            "[ 8.   -8.85  5.   -0.75]\n"
          ]
        }
      ],
      "source": [
        "c = la.solve(V,X)\n",
        "print(c)"
      ]
    },
    {
      "cell_type": "markdown",
      "metadata": {
        "id": "Hz75SNkEawGH"
      },
      "source": [
        "Definimos agora o polinômio interpolante:"
      ]
    },
    {
      "cell_type": "code",
      "execution_count": null,
      "metadata": {
        "id": "gIZ-LiOTawGI"
      },
      "outputs": [],
      "source": [
        "def p(t,c):\n",
        "        n = len(c)\n",
        "        return sum(c[i]*t**i for i in range(n))"
      ]
    },
    {
      "cell_type": "markdown",
      "metadata": {
        "id": "ZcCWWVNWawGI"
      },
      "source": [
        "Façamos os gráficos, comparando este resultado com o anterior:"
      ]
    },
    {
      "cell_type": "code",
      "execution_count": null,
      "metadata": {
        "id": "FX3De4HiawGI",
        "outputId": "44ddbc82-891e-43d1-fa43-51090fad1295"
      },
      "outputs": [
        {
          "data": {
            "text/plain": [
              "Text(0, 0.5, 'x(t)')"
            ]
          },
          "execution_count": 119,
          "metadata": {},
          "output_type": "execute_result"
        },
        {
          "data": {
            "image/png": "[encoded data removed]",
            "text/plain": [
              "<Figure size 432x288 with 1 Axes>"
            ]
          },
          "metadata": {
            "needs_background": "light"
          },
          "output_type": "display_data"
        }
      ],
      "source": [
        "plt.plot(T,X,'ro',color = 'black')\n",
        "plt.plot(t, p(t,c),'-', color = 'blue')\n",
        "plt.plot(t, f(t,x),'-', color = 'red')\n",
        "plt.legend([\"dados\", \"base polinomial\", \"base exponencial\"])\n",
        "plt.xlabel(\"t\")\n",
        "plt.ylabel(\"x(t)\")"
      ]
    },
    {
      "cell_type": "markdown",
      "metadata": {
        "id": "BXSt99K4awGI"
      },
      "source": [
        "Os resultados foram bastante similares, embora as bases completemene diferentes."
      ]
    },
    {
      "cell_type": "markdown",
      "metadata": {
        "id": "ahmiux_ZawGI"
      },
      "source": [
        "## 3. Spline cúbico (interpolação por partes)"
      ]
    },
    {
      "cell_type": "markdown",
      "metadata": {
        "id": "aMUcz0wRawGI"
      },
      "source": [
        "Veja este texto sobre interpolação por partes e splines: https://bit.ly/32B3r82 ."
      ]
    },
    {
      "cell_type": "markdown",
      "metadata": {
        "id": "zWckZRUSawGI"
      },
      "source": [
        "Usaremos uma biblioteca do Scipy:"
      ]
    },
    {
      "cell_type": "code",
      "execution_count": null,
      "metadata": {
        "id": "Bp4w7W6OawGI"
      },
      "outputs": [],
      "source": [
        "from scipy.interpolate import CubicSpline\n",
        "import numpy as np"
      ]
    },
    {
      "cell_type": "markdown",
      "metadata": {
        "id": "XeqofC2nawGI"
      },
      "source": [
        "Suponhamos que temos os dados:"
      ]
    },
    {
      "cell_type": "code",
      "execution_count": null,
      "metadata": {
        "id": "To5te8BmawGI"
      },
      "outputs": [],
      "source": [
        "T = np.array([1.,2.,3.,4.])\n",
        "X = np.array([3.4,4.3,6.2,4.6])"
      ]
    },
    {
      "cell_type": "markdown",
      "metadata": {
        "id": "jvX5YcOxawGI"
      },
      "source": [
        "Visualisemos estes dados num gráfico:"
      ]
    },
    {
      "cell_type": "code",
      "execution_count": null,
      "metadata": {
        "id": "yX0paSdJawGJ"
      },
      "outputs": [],
      "source": [
        "import numpy as np\n",
        "import matplotlib.pyplot as plt"
      ]
    },
    {
      "cell_type": "code",
      "execution_count": null,
      "metadata": {
        "id": "Wf_sSZPpawGJ",
        "outputId": "2cae5b3e-3f7b-4da3-b890-653379bd227b"
      },
      "outputs": [
        {
          "data": {
            "text/plain": [
              "[<matplotlib.lines.Line2D at 0x7fe8e460acd0>]"
            ]
          },
          "execution_count": 6,
          "metadata": {},
          "output_type": "execute_result"
        },
        {
          "data": {
            "image/png": "[encoded data removed]",
            "text/plain": [
              "<Figure size 432x288 with 1 Axes>"
            ]
          },
          "metadata": {
            "needs_background": "light"
          },
          "output_type": "display_data"
        }
      ],
      "source": [
        "plt.plot(T,X,'ro')"
      ]
    },
    {
      "cell_type": "markdown",
      "metadata": {
        "id": "YMwFSDUMawGJ"
      },
      "source": [
        "Podemos determinar o spline cúbico para estes pontos, como condições nos extremos de que as derivadas primeiras são 1 e -3, por exemplo:"
      ]
    },
    {
      "cell_type": "code",
      "execution_count": null,
      "metadata": {
        "id": "HqmZ67XtawGJ"
      },
      "outputs": [],
      "source": [
        "cs1 = CubicSpline(T, X, bc_type=((1, 1), (1, -3)))"
      ]
    },
    {
      "cell_type": "markdown",
      "metadata": {
        "id": "J4NVVS8SawGJ"
      },
      "source": [
        "Façamos o gráfico:"
      ]
    },
    {
      "cell_type": "code",
      "execution_count": null,
      "metadata": {
        "id": "1Q3iSiynawGJ",
        "outputId": "9a9f8d9a-d687-4f77-d397-af37ca70f63e"
      },
      "outputs": [
        {
          "data": {
            "text/plain": [
              "Text(0, 0.5, 'x(t)')"
            ]
          },
          "execution_count": 97,
          "metadata": {},
          "output_type": "execute_result"
        },
        {
          "data": {
            "image/png": "[encoded data removed]",
            "text/plain": [
              "<Figure size 468x288 with 1 Axes>"
            ]
          },
          "metadata": {
            "needs_background": "light"
          },
          "output_type": "display_data"
        }
      ],
      "source": [
        "ts = np.linspace(0.9, 4.1, 30)\n",
        "plt.figure(figsize=(6.5, 4))\n",
        "plt.plot(T, X, 'x',color = 'red')\n",
        "plt.plot(ts, cs1(ts),color = 'black')\n",
        "plt.legend([\"dados\", \"spline cúbico\"])\n",
        "plt.xlabel(\"t\")\n",
        "plt.ylabel(\"x(t)\")"
      ]
    },
    {
      "cell_type": "markdown",
      "metadata": {
        "id": "QIG6HZqeawGJ"
      },
      "source": [
        "Se desejamos encontrar o valor da função em um ponto qualquer, tal como $x=2.6$, por exemplo basta digitar:"
      ]
    },
    {
      "cell_type": "code",
      "execution_count": null,
      "metadata": {
        "id": "TY1Zyf6_awGJ",
        "outputId": "5065b4ed-aa98-4924-9ad8-039ad809411a"
      },
      "outputs": [
        {
          "name": "stdout",
          "output_type": "stream",
          "text": [
            "5.616960000000001\n"
          ]
        }
      ],
      "source": [
        "print(cs1(2.6))"
      ]
    },
    {
      "cell_type": "markdown",
      "metadata": {
        "id": "-czFgexFawGJ"
      },
      "source": [
        "Se escolhermos derivadas nulas nos extermos obteremos uma curva um pouco diferente:"
      ]
    },
    {
      "cell_type": "code",
      "execution_count": null,
      "metadata": {
        "id": "Xxqfjp4QawGJ"
      },
      "outputs": [],
      "source": [
        "cs2 = CubicSpline(T, X, bc_type=((1, 0), (1, 0)))"
      ]
    },
    {
      "cell_type": "code",
      "execution_count": null,
      "metadata": {
        "id": "rXm_-wncawGJ",
        "outputId": "83e6ab9a-1873-467d-adfc-3401ce9c5a03"
      },
      "outputs": [
        {
          "data": {
            "text/plain": [
              "Text(0, 0.5, 'x(t)')"
            ]
          },
          "execution_count": 93,
          "metadata": {},
          "output_type": "execute_result"
        },
        {
          "data": {
            "image/png": "[encoded data removed]",
            "text/plain": [
              "<Figure size 468x288 with 1 Axes>"
            ]
          },
          "metadata": {
            "needs_background": "light"
          },
          "output_type": "display_data"
        }
      ],
      "source": [
        "ts = np.linspace(0.9, 4.1, 30)\n",
        "plt.figure(figsize=(6.5, 4))\n",
        "plt.plot(T, X, 'x',color = 'red')\n",
        "plt.plot(ts, cs2(ts),color = 'black')\n",
        "plt.legend([\"dados\", \"spline cúbico\"])\n",
        "plt.xlabel(\"t\")\n",
        "plt.ylabel(\"x(t)\")"
      ]
    },
    {
      "cell_type": "code",
      "execution_count": null,
      "metadata": {
        "id": "UoT0-bXCawGJ"
      },
      "outputs": [],
      "source": [
        "cs3 = CubicSpline(T, X, bc_type='natural')"
      ]
    },
    {
      "cell_type": "markdown",
      "metadata": {
        "id": "2cPRpw3GawGK"
      },
      "source": [
        "Usemos agora o spline natural:"
      ]
    },
    {
      "cell_type": "code",
      "execution_count": null,
      "metadata": {
        "id": "7cMH9uG2awGK",
        "outputId": "d41f9cdb-e306-4adf-a615-b8d0ea54cad2"
      },
      "outputs": [
        {
          "data": {
            "text/plain": [
              "Text(0, 0.5, 'x(t)')"
            ]
          },
          "execution_count": 98,
          "metadata": {},
          "output_type": "execute_result"
        },
        {
          "data": {
            "image/png": "[encoded data removed]",
            "text/plain": [
              "<Figure size 468x288 with 1 Axes>"
            ]
          },
          "metadata": {
            "needs_background": "light"
          },
          "output_type": "display_data"
        }
      ],
      "source": [
        "ts = np.linspace(0.9, 4.1, 30)\n",
        "plt.figure(figsize=(6.5, 4))\n",
        "plt.plot(T, X, 'x',color = 'red')\n",
        "plt.plot(ts, cs3(ts),color = 'black')\n",
        "plt.legend([\"dados\", \"spline cúbico\"])\n",
        "plt.xlabel(\"t\")\n",
        "plt.ylabel(\"x(t)\")"
      ]
    },
    {
      "cell_type": "markdown",
      "metadata": {
        "id": "mpa1jZjPawGK"
      },
      "source": [
        "## 3. Exemplos"
      ]
    },
    {
      "cell_type": "markdown",
      "metadata": {
        "id": "MMIeFG1EawGK"
      },
      "source": [
        "**1.** Implemente a determinação das bases interpolantes de Lagrange usando esta referência: https://pythonnumericalmethods.berkeley.edu/notebooks/chapter17.04-Lagrange-Polynomial-Interpolation.html\n",
        "\n",
        "\n",
        "**2.** Implemente a determinação das bases interpolantes de Newton usando esta referência:\n",
        "https://pythonnumericalmethods.berkeley.edu/notebooks/chapter17.05-Newtons-Polynomial-Interpolation.html\n",
        "\n",
        "**3.** Dados os pontos\n",
        "\n",
        "|||||||\n",
        "|---|---|---|---|---|---|\n",
        "|$x$ |0 |0.1  | 0.2 |0.3|0.4|0.5|\n",
        "|$f(x)$| 1.10 |1.13| 1.16| 1.20| 1.22 |1.26|\n",
        "\n",
        "Determine o spline cúbico e apresente o gráfico. Escolha as condições para $f'(x)$ mais adequadas nos extremos.\n",
        "\n",
        "\n"
      ]
    },
    {
      "cell_type": "code",
      "execution_count": null,
      "metadata": {
        "id": "DJFWXAleawGK"
      },
      "outputs": [],
      "source": [
        "from scipy.interpolate import CubicSpline\n",
        "import numpy as np"
      ]
    },
    {
      "cell_type": "code",
      "execution_count": null,
      "metadata": {
        "id": "2L28O2ZRawGK"
      },
      "outputs": [],
      "source": [
        "X = np.array([0,0.1,0.2,0.3,0.4,0.5])\n",
        "F = np.array([1.1,1.13,1.16,1.20,1.22,1.26])"
      ]
    },
    {
      "cell_type": "code",
      "execution_count": null,
      "metadata": {
        "id": "gSrexGjZawGK"
      },
      "outputs": [],
      "source": [
        "import numpy as np\n",
        "import matplotlib.pyplot as plt"
      ]
    },
    {
      "cell_type": "code",
      "execution_count": null,
      "metadata": {
        "id": "m9Svbk8SawGK",
        "outputId": "b6473376-ffa6-4fae-f139-141e55332021"
      },
      "outputs": [
        {
          "data": {
            "text/plain": [
              "[<matplotlib.lines.Line2D at 0x7ff669db6430>]"
            ]
          },
          "execution_count": 146,
          "metadata": {},
          "output_type": "execute_result"
        },
        {
          "data": {
            "image/png": "[encoded data removed]",
            "text/plain": [
              "<Figure size 640x480 with 1 Axes>"
            ]
          },
          "metadata": {},
          "output_type": "display_data"
        }
      ],
      "source": [
        "plt.plot(X,F,'ro')"
      ]
    },
    {
      "cell_type": "code",
      "execution_count": null,
      "metadata": {
        "id": "m7PlNHLZawGK"
      },
      "outputs": [],
      "source": [
        "cs1 = CubicSpline(X, F, bc_type=((1, 0.3), (1, 0.5)))"
      ]
    },
    {
      "cell_type": "code",
      "execution_count": null,
      "metadata": {
        "id": "QyHOxLfnawGK",
        "outputId": "77eb0d02-b877-48e0-fcef-e728931cea29"
      },
      "outputs": [
        {
          "data": {
            "text/plain": [
              "Text(0, 0.5, 'f(x)')"
            ]
          },
          "execution_count": 156,
          "metadata": {},
          "output_type": "execute_result"
        },
        {
          "data": {
            "image/png": "[encoded data removed]",
            "text/plain": [
              "<Figure size 650x400 with 1 Axes>"
            ]
          },
          "metadata": {},
          "output_type": "display_data"
        }
      ],
      "source": [
        "ts = np.linspace(0., 0.51, 30)\n",
        "plt.figure(figsize=(6.5, 4))\n",
        "plt.plot(X, F, 'x',color = 'red')\n",
        "plt.plot(ts, cs1(ts),color = 'black')\n",
        "plt.legend([\"dados\", \"spline cúbico\"])\n",
        "plt.xlabel(\"x\")\n",
        "plt.ylabel(\"f(x)\")"
      ]
    },
    {
      "cell_type": "markdown",
      "metadata": {
        "id": "NMKnxN8HawGK"
      },
      "source": [
        "\n",
        "**4.** Dados os pontos:\n",
        "\n",
        "|||||||||||\n",
        "|---|---|---|---|---|---|---|---|---|---|\n",
        "|$x$ |0 |0.1  | 0.2 |0.3|0.4|0.5|0.6|0.7|0.8|\n",
        "|$f(x)$ |1.10| 1.13| 1.16 |1.20 |1.22| 1.26| 1.30 |1.35| 1.40 |\n",
        "\n",
        "(a) Escolha os pontos mais próximos de 0.35 e construa o polinômio interpolante com o grau que você achar mais adequado.\n",
        "\n",
        "(b) Estime $f(0.35)$ .\n",
        "\n",
        "Utilize comandos do sistema."
      ]
    },
    {
      "cell_type": "markdown",
      "metadata": {
        "id": "tgkgnPYzawGL"
      },
      "source": [
        "(a) Para termos uma ideia do problema utilizemos inicialmente todos os pontos, o que resultaria num polinômio de grau 8."
      ]
    },
    {
      "cell_type": "code",
      "execution_count": null,
      "metadata": {
        "id": "QD_ch303awGL"
      },
      "outputs": [],
      "source": [
        "import numpy as np\n",
        "import matplotlib.pyplot as plt\n",
        "from scipy.interpolate import lagrange"
      ]
    },
    {
      "cell_type": "code",
      "execution_count": null,
      "metadata": {
        "id": "Hj5GuEfiawGL"
      },
      "outputs": [],
      "source": [
        "x=np.array([0. ,0.1  , 0.2 ,0.3,0.4,0.5,0.6,0.7,0.8])\n",
        "f = np.array([1.10, 1.13, 1.16 ,1.20 ,1.22, 1.26, 1.30 ,1.35, 1.40])"
      ]
    },
    {
      "cell_type": "code",
      "execution_count": null,
      "metadata": {
        "id": "V8GRuRHmawGL",
        "outputId": "59dc8a53-6b51-4694-ecf4-91fe980d862b"
      },
      "outputs": [
        {
          "data": {
            "text/plain": [
              "poly1d([-2.03373016e+03,  6.60714286e+03, -8.79861111e+03,  6.17500000e+03,\n",
              "       -2.43913194e+03,  5.34041667e+02, -5.87267857e+01,  2.73547619e+00,\n",
              "        1.10000000e+00])"
            ]
          },
          "execution_count": 100,
          "metadata": {},
          "output_type": "execute_result"
        }
      ],
      "source": [
        "F = lagrange(x, f)\n",
        "F"
      ]
    },
    {
      "cell_type": "code",
      "execution_count": null,
      "metadata": {
        "id": "ddREJFB0awGL"
      },
      "outputs": [],
      "source": [
        "t = np.linspace(0., 0.81,80)"
      ]
    },
    {
      "cell_type": "code",
      "execution_count": null,
      "metadata": {
        "id": "fv0Bb3T_awGL",
        "outputId": "e9fcb49d-12a2-4d8d-e813-a6c5395d9276"
      },
      "outputs": [
        {
          "data": {
            "text/plain": [
              "[<matplotlib.lines.Line2D at 0x7ff63807fac0>,\n",
              " <matplotlib.lines.Line2D at 0x7ff63807fb80>]"
            ]
          },
          "execution_count": 102,
          "metadata": {},
          "output_type": "execute_result"
        },
        {
          "data": {
            "image/png": "[encoded data removed]",
            "text/plain": [
              "<Figure size 640x480 with 1 Axes>"
            ]
          },
          "metadata": {},
          "output_type": "display_data"
        }
      ],
      "source": [
        "plt.plot(x,f,'ro', t, F(t), '-')"
      ]
    },
    {
      "cell_type": "markdown",
      "metadata": {
        "id": "vfJq7uYCawGL"
      },
      "source": [
        "Certamente os o polinômio não tem comportamento adequado nas extremidades. Tiremos dois pontos, um de cada extremidade, para determinar o polinômio interpolante de grau 6:"
      ]
    },
    {
      "cell_type": "code",
      "execution_count": null,
      "metadata": {
        "id": "lf8DXmL1awGL"
      },
      "outputs": [],
      "source": [
        "x1=np.array([0.1  , 0.2 ,0.3,0.4,0.5,0.6,0.7])\n",
        "f1 = np.array([1.13, 1.16 ,1.20 ,1.22, 1.26, 1.30 ,1.35])"
      ]
    },
    {
      "cell_type": "code",
      "execution_count": null,
      "metadata": {
        "id": "p8zJAj3QawGL",
        "outputId": "b08b73e0-9025-4d12-c59d-a06540b3d591"
      },
      "outputs": [
        {
          "data": {
            "text/plain": [
              "poly1d([ 305.55555556, -750.        ,  726.38888889, -350.83333333,\n",
              "         87.70555556,  -10.21666667,    1.56      ])"
            ]
          },
          "execution_count": 106,
          "metadata": {},
          "output_type": "execute_result"
        }
      ],
      "source": [
        "F1 = lagrange(x1, f1)\n",
        "F1"
      ]
    },
    {
      "cell_type": "code",
      "execution_count": null,
      "metadata": {
        "id": "PuZcR38MawGL"
      },
      "outputs": [],
      "source": [
        "t = np.linspace(0.1, 0.7,80)"
      ]
    },
    {
      "cell_type": "code",
      "execution_count": null,
      "metadata": {
        "id": "lpmG7FiDawGL",
        "outputId": "4562dd18-17b2-40e8-efe3-f940cbb5eb2c"
      },
      "outputs": [
        {
          "data": {
            "text/plain": [
              "[<matplotlib.lines.Line2D at 0x7ff678b47250>,\n",
              " <matplotlib.lines.Line2D at 0x7ff678b47310>]"
            ]
          },
          "execution_count": 110,
          "metadata": {},
          "output_type": "execute_result"
        },
        {
          "data": {
            "image/png": "[encoded data removed]",
            "text/plain": [
              "<Figure size 640x480 with 1 Axes>"
            ]
          },
          "metadata": {},
          "output_type": "display_data"
        }
      ],
      "source": [
        "plt.plot(x1,f1,'ro', t, F(t), '-')"
      ]
    },
    {
      "cell_type": "markdown",
      "metadata": {
        "id": "08qSc8WhawGL"
      },
      "source": [
        "Tiremos um ponto à esquerda e dois à direita:"
      ]
    },
    {
      "cell_type": "code",
      "execution_count": null,
      "metadata": {
        "id": "sCHfoNynawGM"
      },
      "outputs": [],
      "source": [
        "x2=np.array([ 0.2 ,0.3,0.4,0.5])\n",
        "f2 = np.array([1.16 ,1.20 ,1.22, 1.26])"
      ]
    },
    {
      "cell_type": "code",
      "execution_count": null,
      "metadata": {
        "id": "5_mtuGMOawGM",
        "outputId": "32d4caf2-c297-45c9-8b08-5f5a97a8270b"
      },
      "outputs": [
        {
          "data": {
            "text/plain": [
              "poly1d([ 6.66666667, -7.        ,  2.63333333,  0.86      ])"
            ]
          },
          "execution_count": 116,
          "metadata": {},
          "output_type": "execute_result"
        }
      ],
      "source": [
        "F2 = lagrange(x2, f2)\n",
        "F2"
      ]
    },
    {
      "cell_type": "code",
      "execution_count": null,
      "metadata": {
        "id": "mD_LXs-0awGM"
      },
      "outputs": [],
      "source": [
        "t = np.linspace(0.18, 0.52,80)"
      ]
    },
    {
      "cell_type": "code",
      "execution_count": null,
      "metadata": {
        "id": "b19sy-UhawGM",
        "outputId": "f8a67c59-de35-43c7-9614-03723613f10d"
      },
      "outputs": [
        {
          "data": {
            "text/plain": [
              "[<matplotlib.lines.Line2D at 0x7ff669a2e580>,\n",
              " <matplotlib.lines.Line2D at 0x7ff669a2e640>]"
            ]
          },
          "execution_count": 119,
          "metadata": {},
          "output_type": "execute_result"
        },
        {
          "data": {
            "image/png": "[encoded data removed]",
            "text/plain": [
              "<Figure size 640x480 with 1 Axes>"
            ]
          },
          "metadata": {},
          "output_type": "display_data"
        }
      ],
      "source": [
        "plt.plot(x2,f2,'ro', t, F2(t), '-')"
      ]
    },
    {
      "cell_type": "markdown",
      "metadata": {
        "id": "jGcG2cCJawGM"
      },
      "source": [
        "Portanto um polinômio de quarto grau é o que melhor descreve a interpolação próximo a 0.35:\n",
        "\n",
        "$$\n",
        "F2(t) = 6.66666667t^3 -7t^2+ 2.63333333 t+0.86 \\,.\n",
        "$$\n",
        "\n",
        "(b) Neste ponto,"
      ]
    },
    {
      "cell_type": "code",
      "execution_count": null,
      "metadata": {
        "id": "q76gxf1SawGM",
        "outputId": "1b7818da-3d1d-4bf4-871b-6f830915239d"
      },
      "outputs": [
        {
          "data": {
            "text/plain": [
              "1.209999999999984"
            ]
          },
          "execution_count": 121,
          "metadata": {},
          "output_type": "execute_result"
        }
      ],
      "source": [
        "F2(0.35)"
      ]
    },
    {
      "cell_type": "code",
      "execution_count": null,
      "metadata": {
        "id": "BQy2wsHnawGM"
      },
      "outputs": [],
      "source": [
        "x=0.35"
      ]
    },
    {
      "cell_type": "code",
      "execution_count": null,
      "metadata": {
        "id": "DasClSKaawGM",
        "outputId": "19659673-18f9-404e-d79a-cd7771cface3"
      },
      "outputs": [
        {
          "data": {
            "text/plain": [
              "1.20999999897625"
            ]
          },
          "execution_count": 159,
          "metadata": {},
          "output_type": "execute_result"
        }
      ],
      "source": [
        "6.66666667*x**3 -7*x**2+ 2.63333333*x+0.86"
      ]
    },
    {
      "cell_type": "markdown",
      "metadata": {
        "id": "-YDdsN5HawGM"
      },
      "source": [
        "**5.** A seguinte tabela lista a população norte-americana de 1940 a 1990 (em milhares).\n",
        "\n",
        "|||||||\n",
        "|---|---|---|---|---|---|\n",
        "|Ano |1940 |1950 | 1960 |1970|1980|1990|\n",
        "|População| 132165 |151326| 179323| 203302| 226542 |249633|\n",
        "\n",
        "Determine o polinômio que interpola estes dados e use este polinômio para estimar a população nos anos 1930, 1965 e 2010. A população em 1930 era de aproximadamente 123203000. Quão acurada você imagina que são as estimativas para a população em 1965 e 2010? Use comandos do sistema."
      ]
    },
    {
      "cell_type": "code",
      "execution_count": null,
      "metadata": {
        "id": "WKr4ALPsawGM"
      },
      "outputs": [],
      "source": [
        "import numpy as np\n",
        "import matplotlib.pyplot as plt"
      ]
    },
    {
      "cell_type": "code",
      "execution_count": null,
      "metadata": {
        "id": "0Ysdu5hRawGM"
      },
      "outputs": [],
      "source": [
        "a=np.array([1940,1950,1960,1970,1980,1990])\n",
        "p=np.array([132165 ,151326, 179323, 203302, 226542 ,249633])"
      ]
    },
    {
      "cell_type": "markdown",
      "metadata": {
        "id": "d4QTYTI0awGM"
      },
      "source": [
        "Façamos um gráfico destes dados:"
      ]
    },
    {
      "cell_type": "code",
      "execution_count": null,
      "metadata": {
        "id": "bm6KCE16awGN",
        "outputId": "956574e5-3990-4d64-9fa4-b73360ca01e6"
      },
      "outputs": [
        {
          "data": {
            "text/plain": [
              "[<matplotlib.lines.Line2D at 0x7ff648179b50>]"
            ]
          },
          "execution_count": 124,
          "metadata": {},
          "output_type": "execute_result"
        },
        {
          "data": {
            "image/png": "[encoded data removed]",
            "text/plain": [
              "<Figure size 640x480 with 1 Axes>"
            ]
          },
          "metadata": {},
          "output_type": "display_data"
        }
      ],
      "source": [
        "plt.plot(a,p,'ro')"
      ]
    },
    {
      "cell_type": "code",
      "execution_count": null,
      "metadata": {
        "id": "k-K8TTx1awGN"
      },
      "outputs": [],
      "source": [
        "from scipy.interpolate import lagrange"
      ]
    },
    {
      "cell_type": "code",
      "execution_count": null,
      "metadata": {
        "id": "YtxLTH3xawGN",
        "outputId": "41325a72-f48c-4a97-f722-062c9e176f43"
      },
      "outputs": [
        {
          "data": {
            "text/plain": [
              "poly1d([-1.56850000e-03,  1.54385208e+01, -6.07825210e+04,  1.19650239e+08,\n",
              "       -1.17763373e+11,  4.63616253e+13])"
            ]
          },
          "execution_count": 126,
          "metadata": {},
          "output_type": "execute_result"
        }
      ],
      "source": [
        "f = lagrange(a, p)\n",
        "f"
      ]
    },
    {
      "cell_type": "code",
      "execution_count": null,
      "metadata": {
        "id": "jl006feMawGN"
      },
      "outputs": [],
      "source": [
        "t = np.linspace(1938, 1992,80)"
      ]
    },
    {
      "cell_type": "code",
      "execution_count": null,
      "metadata": {
        "id": "Da6a32oQawGN",
        "outputId": "10aacb0e-0256-4d14-921a-2f602fb39924"
      },
      "outputs": [
        {
          "data": {
            "text/plain": [
              "[<matplotlib.lines.Line2D at 0x7ff6380c1dc0>,\n",
              " <matplotlib.lines.Line2D at 0x7ff6380c1e80>]"
            ]
          },
          "execution_count": 129,
          "metadata": {},
          "output_type": "execute_result"
        },
        {
          "data": {
            "image/png": "[encoded data removed]",
            "text/plain": [
              "<Figure size 640x480 with 1 Axes>"
            ]
          },
          "metadata": {},
          "output_type": "display_data"
        }
      ],
      "source": [
        "plt.plot(a,p,'ro', t, f(t), '-')"
      ]
    },
    {
      "cell_type": "markdown",
      "metadata": {
        "id": "5FkK_MSlawGN"
      },
      "source": [
        "Neste modelo, temos em 1965:"
      ]
    },
    {
      "cell_type": "code",
      "execution_count": null,
      "metadata": {
        "id": "JIe43pDgawGN",
        "outputId": "81a40f1b-b330-463d-93c0-fad6a4d45774"
      },
      "outputs": [
        {
          "data": {
            "text/plain": [
              "191765743.0"
            ]
          },
          "execution_count": 38,
          "metadata": {},
          "output_type": "execute_result"
        }
      ],
      "source": [
        "np.ceil(f(1965.)*1000)"
      ]
    },
    {
      "cell_type": "markdown",
      "metadata": {
        "id": "Ogx4CVbJawGN"
      },
      "source": [
        "Portanto, temos uma expectativa de aproximadamente 192 milhões de habitantes em 1965. Em 2010 temos"
      ]
    },
    {
      "cell_type": "code",
      "execution_count": null,
      "metadata": {
        "id": "qFRQEEnxawGN",
        "outputId": "7c0a8298-4356-4f3e-b5d4-0294e524e449"
      },
      "outputs": [
        {
          "data": {
            "text/plain": [
              "171349571.0"
            ]
          },
          "execution_count": 40,
          "metadata": {},
          "output_type": "execute_result"
        }
      ],
      "source": [
        "np.ceil(f(2010.)*1000)"
      ]
    },
    {
      "cell_type": "markdown",
      "metadata": {
        "id": "bGGOfMwcawGN"
      },
      "source": [
        "Obviamente a interpolação não é apropriada para dados que estão  fora do intervalo definido pelos pontos, pois o polinômio começa a oscilar matematicamente (sem relação com a realidade). Portanto, tal polinômio interpolante não é capaz de fornecer uma estimava para a população em 2010."
      ]
    },
    {
      "cell_type": "markdown",
      "source": [
        "## 4. Exercícios"
      ],
      "metadata": {
        "id": "sl4wp9WNbcwA"
      }
    },
    {
      "cell_type": "code",
      "source": [],
      "metadata": {
        "id": "WEIJcWBQbkTC"
      },
      "execution_count": null,
      "outputs": []
    }
  ],
  "metadata": {
    "kernelspec": {
      "display_name": "Python 3 (ipykernel)",
      "language": "python",
      "name": "python3"
    },
    "language_info": {
      "codemirror_mode": {
        "name": "ipython",
        "version": 3
      },
      "file_extension": ".py",
      "mimetype": "text/x-python",
      "name": "python",
      "nbconvert_exporter": "python",
      "pygments_lexer": "ipython3",
      "version": "3.9.13"
    },
    "colab": {
      "provenance": [],
      "include_colab_link": true
    }
  },
  "nbformat": 4,
  "nbformat_minor": 0
}