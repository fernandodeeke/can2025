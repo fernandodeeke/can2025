{
 "cells": [
  {
   "cell_type": "markdown",
   "metadata": {},
   "source": [
    "<center><h1>Análise Numérica</h1></center>\n",
    "<center><h2>2022/1</h2></center> \n",
    "<center><h3>Métodos de segunda ordem</h3></center>\n",
    "<center><h4>Prof. Fernando Deeke Sasse - CCT, UDESC</h4></center>"
   ]
  },
  {
   "cell_type": "markdown",
   "metadata": {},
   "source": [
    "## 1. Esquema geral para métodos de segunda ordem"
   ]
  },
  {
   "cell_type": "markdown",
   "metadata": {},
   "source": [
    "Por ordem do método nos referimos ao grau $n$ do erro global $O(\\Delta t ^n)$ do erro cometido na execução do processo iterativo. O método de Euler é um método de primeira ordem, pois o erro local (numa iteração individual é de ordem $O(\\Delta t^2)$, enquanto que o erro global é de ordem $O(\\Delta t)$. Consideraremos aqui métodos de segunda ordem para problemas de de valor inicial de qualquer ordem. Usaremos a notação vetorial, pois como uma EDO de ordem $k$ pode ser expressa como um sistema de $k$ equações de primeira ordem, nossa abordagem aqui é completamente geral. \n",
    "\n",
    "Seja uma EDO vetorial da forma $Y'(t)=F(t,Y(t))$. Consideremos uma expansão do tipo\n",
    "\n",
    "\\begin{equation}\n",
    "Y(t+\\Delta t)=Y(t)+\\Delta t \\left[A F(t,Y(t))+B F(t+P\\Delta t,Y(t)+Q\\Delta t F(t,Y(t)))\\right]\\,,\\qquad (1)\n",
    "\\end{equation}\n",
    "\n",
    "sendo $A$, $B$ e $P$ constantes arbitrárias. Façamos uma expansão de Taylor do último termo da equação acima:\n",
    "\n",
    "\\begin{align}\n",
    "&F(t+P\\Delta t, Y(t)+Q\\Delta t F(t,Y(t)))=\\\\\n",
    "&=F(t,Y(t))+P\\Delta t \\frac{\\partial F(t,Y(t))}{\\partial t}+Q\\Delta t\n",
    "\\frac{\\partial F(t,Y(t))}{\\partial Y}\\frac{dY}{dt}+O(\\Delta t^2)\\\\\n",
    "&=F(t,Y(t))+P\\Delta t \\frac{\\partial F(t,Y(t))}{\\partial t}+Q\\Delta t\n",
    "\\frac{\\partial F(t,Y(t))}{\\partial Y}F(t,Y(t))+O(\\Delta t^2)\\,\\qquad (2)\n",
    "\\end{align}\n",
    "\n",
    "Substituindo esta equação na expansão inicial temos\n",
    "\n",
    "\\begin{align}\n",
    "Y(t+\\Delta t)&=Y(t)+\\Delta t (A+B)F(t,Y(t))+BP\\Delta t^2\\frac{\\partial F(t,Y(t))}{\\partial t}+\\\\\n",
    "&+BQ \\frac{\\partial F(t,Y(t))}{\\partial Y}F(t,Y(t))\\Delta t^2+O(\\Delta t^3)\\,.\\qquad (3)\n",
    "\\end{align}\n",
    "\n",
    "Expandindo $Y(t+\\Delta t)$ em uma série de Taylor obtemos\n",
    "\n",
    "$$\n",
    "Y(t+\\Delta t)= Y(t) +\\Delta t F(t,Y(t))+\\frac{\\Delta t^2}{2}\\left(\\frac{\\partial F (t,Y(t))}{\\partial t}+\n",
    "\\frac{\\partial F (t,Y(t))}{\\partial Y}F(t,Y(t)\\right)+O(\\Delta t^3)\\,.\\qquad (4)\n",
    "$$\n",
    "\n",
    "Comparando (3) e (4) obtemos\n",
    "\n",
    "$$\n",
    "A+B=1\\,,\\quad BP = \\frac{1}{2}\\,,\\quad BQ=\\frac{1}{2}\\,. \\qquad (5)\n",
    "$$\n",
    "\n",
    "Temos três equações para 4 incógnitas, de modo que há um grau de liberdade. Escolhamos o valor de $A$. Tomando $A=0$ obtemos o chamado *método de Euler modificado* ou *método de Runge-Kutta de segunda ordem*. Temos então\n",
    "\n",
    "$$\n",
    "A=0\\,,\\quad B=1\\,,\\quad P=\\frac{1}{2}\\,,\\quad Q=\\frac{1}{2}\\,.\\qquad (6)\n",
    "$$\n",
    "\n",
    "Portanto, o método iterativo correspondente é dado por\n",
    "$$\n",
    "Y(t+\\Delta t):=Y(t)+\\Delta t F\\left(t+\\frac{\\Delta t}{2},Y(t)+\\frac{\\Delta y}{2}F(t,Y(t)) \\right)\\,,\\qquad (7)\n",
    "$$\n",
    "\n",
    "Outra escolha popular é $A=1/2$, correspondente ao *método de Heun*, ou *método de Euler melhorado*. Neste caso,\n",
    "\n",
    "$$\n",
    "A= B=\\frac{1}{2}\\,,\\quad P= Q=1\\,.\\qquad (8)\n",
    "$$\n",
    "\n",
    "resultando no seguinte processo iterativo: \n",
    "\n",
    "$$\n",
    "Y(t+\\Delta t):=Y(t)+\\frac{\\Delta t}{2} \\left[F(t,Y(t))+F\\left(t+\\Delta t, Y(t) + \\Delta t F(t,Y(t)) \\right)\\right]\\,.\\qquad (9)\n",
    "$$\n",
    "\n",
    "Escolhendo \n",
    "\n",
    "$$\n",
    "A = \\frac{1}{4}\\,,\\quad B=\\frac{3}{4}, \\quad P=Q=\\frac{2}{3}\\,.\n",
    "$$\n",
    "\n",
    "obtemos o chamado *método dos dois terços*. O processo iterativo é dado por\n",
    "\n",
    "$$\n",
    "Y(t+\\Delta t):=Y(t)+\\Delta t \\left(\\frac{1}{4}u_1+\\frac{3}{4}u_2\\right)\\,,\\qquad (10)\n",
    "$$\n",
    "\n",
    "$$\n",
    "u_1=F(t,Y(t))\\,,\\quad u2 = F\\left(t+\\frac{2}{3}\\Delta t ,Y(t)+\\frac{2}{3}u_1 \\Delta t\\right)\\,.\\qquad (11)\n",
    "$$\n",
    "\n",
    "É possível mostrar que neste caso o limite superior para o erro é mínimo [1]. \n",
    "\n",
    "É importante notar que a nomenclatura sobre o nome dos métodos não é única na literatura. Aqui seguimos a nomenclatura utilizada por Holmes [2]. A seguir consideraremos alguns desses métodos em detalhe. "
   ]
  },
  {
   "cell_type": "markdown",
   "metadata": {},
   "source": [
    "## 2. Método de Euler Modificado para EDOs de Primeira Ordem"
   ]
  },
  {
   "cell_type": "markdown",
   "metadata": {},
   "source": [
    "Dado um PVI do tipo\n",
    "\n",
    "$$\n",
    "y'= f(t,y(t))\\,\\qquad y(t_0)=y_0\\,,\\qquad (12)\n",
    "$$\n",
    "\n",
    "fazendo $h=\\Delta t$, o método de Euler modificado, de acordo com (7), é dado pelo seguinte processo iterativo:\n",
    "\n",
    "$$\n",
    "y(t+h)=y(t)+hf\\left(t+\\frac{h}{2},y(t)+\\frac{h}{2}f(t,y(t)) \\right)\\,,\\qquad (13)\n",
    "$$\n"
   ]
  },
  {
   "cell_type": "markdown",
   "metadata": {},
   "source": [
    "Implementemos este processo. "
   ]
  },
  {
   "cell_type": "code",
   "execution_count": 26,
   "metadata": {},
   "outputs": [],
   "source": [
    "import matplotlib.pyplot as plt\n",
    "import numpy as np"
   ]
  },
  {
   "cell_type": "markdown",
   "metadata": {},
   "source": [
    "Basta uma simples modificação no método de Euler simples:"
   ]
  },
  {
   "cell_type": "code",
   "execution_count": 27,
   "metadata": {},
   "outputs": [],
   "source": [
    "def odeEulerM(f,t,y0):\n",
    "    y = np.zeros(len(t))\n",
    "    y[0] = y0\n",
    "    h = t[1]-t[0]\n",
    "    for n in range(0,len(t)-1):\n",
    "        y[n+1] = y[n] + f(t[n]+h/2,y[n]+h/2*f(t[n],y[n]))*h\n",
    "    return y"
   ]
  },
  {
   "cell_type": "markdown",
   "metadata": {},
   "source": [
    "### Exemplo 1.1\n",
    "Verifiquemos o desempenho do método de Euler modificado resolvendo um caso para o qual conhecemos a solução exata. Consideremos o problema de valor inicial\n",
    "\n",
    "$$\n",
    "y' +y-ty^3=0\\,,\\qquad y(0)=1\\,\n",
    "$$\n",
    "\n",
    "e determinemos a solução no intervalo $[0.2]$ com subintervalos $h=0.05$. \n",
    "Esta é uma equação de Bernoulli, e a solução para o PVI é dada por \n",
    "\n",
    "$$\n",
    "y = \\frac{2}{\\sqrt{2+4t+2 \\mbox{e}^{2t}}}\\,.\n",
    "$$"
   ]
  },
  {
   "cell_type": "markdown",
   "metadata": {},
   "source": [
    "Escrevendo a EDO na forma $y'=f(t,y(t))$, temos"
   ]
  },
  {
   "cell_type": "code",
   "execution_count": 28,
   "metadata": {},
   "outputs": [],
   "source": [
    "f = lambda x,y: -y+x*y**3"
   ]
  },
  {
   "cell_type": "markdown",
   "metadata": {},
   "source": [
    "Definimos a malha e o valor inicial:"
   ]
  },
  {
   "cell_type": "code",
   "execution_count": 29,
   "metadata": {},
   "outputs": [],
   "source": [
    "t = np.linspace(0,2,41)\n",
    "y0 = 1"
   ]
  },
  {
   "cell_type": "markdown",
   "metadata": {},
   "source": [
    "Aplicamos o algoritmo do método de Euler modificado:"
   ]
  },
  {
   "cell_type": "code",
   "execution_count": 30,
   "metadata": {},
   "outputs": [],
   "source": [
    "y_eulerM = odeEulerM(f,t,y0)"
   ]
  },
  {
   "cell_type": "markdown",
   "metadata": {},
   "source": [
    "Comparemos o resultado obtido com a solução exata:"
   ]
  },
  {
   "cell_type": "code",
   "execution_count": 31,
   "metadata": {},
   "outputs": [],
   "source": [
    "yexata = lambda t: 2/(2+4*t+2*np.exp(2*t))**(1/2)"
   ]
  },
  {
   "cell_type": "code",
   "execution_count": 32,
   "metadata": {},
   "outputs": [
    {
     "data": {
      "text/plain": [
       "<matplotlib.legend.Legend at 0x7f986a0ff890>"
      ]
     },
     "execution_count": 32,
     "metadata": {},
     "output_type": "execute_result"
    },
    {
     "data": {
      "image/png": "[encoded data removed]",
      "text/plain": [
       "<Figure size 432x288 with 1 Axes>"
      ]
     },
     "metadata": {
      "needs_background": "light"
     },
     "output_type": "display_data"
    }
   ],
   "source": [
    "plt.plot(t,yexata(t),'b-')\n",
    "plt.plot(t,y_eulerM,'r.-')\n",
    "plt.axis([0,2.1,0.,1.1])\n",
    "plt.grid(True)\n",
    "plt.title(\"Solução de $y'=-y+xy^3,\\, y(0)=1$\");\n",
    "plt.xlabel('t')\n",
    "plt.ylabel('y')\n",
    "plt.legend([\"Solução exata\", \"solução numérica\"])"
   ]
  },
  {
   "cell_type": "markdown",
   "metadata": {},
   "source": [
    "A diferença entre as soluções numérica e exata não é visível. Examinemos  o erro: "
   ]
  },
  {
   "cell_type": "code",
   "execution_count": 33,
   "metadata": {},
   "outputs": [
    {
     "data": {
      "text/plain": [
       "Text(0, 0.5, 'erro')"
      ]
     },
     "execution_count": 33,
     "metadata": {},
     "output_type": "execute_result"
    },
    {
     "data": {
      "image/png": "[encoded data removed]",
      "text/plain": [
       "<Figure size 432x288 with 1 Axes>"
      ]
     },
     "metadata": {
      "needs_background": "light"
     },
     "output_type": "display_data"
    }
   ],
   "source": [
    "plt.plot(t,abs(yexata(t)-y_eulerM),'b-')\n",
    "plt.grid(True)\n",
    "plt.title(\"Erro no método de Euler modificado\");\n",
    "plt.xlabel('t')\n",
    "plt.ylabel('erro')"
   ]
  },
  {
   "cell_type": "markdown",
   "metadata": {},
   "source": [
    "O erro máximo agora é da ordem de $10^{-4}$, contrastando com o erro de $10^{-2}$ obtido para este mesmo problema, usando o método de Euler simples. "
   ]
  },
  {
   "cell_type": "markdown",
   "metadata": {},
   "source": [
    "## 3. Método dos dois terços para EDOs de primeira ordem"
   ]
  },
  {
   "cell_type": "markdown",
   "metadata": {},
   "source": [
    "Dado um PVI do tipo\n",
    "\n",
    "$$\n",
    "y'= f(t,y(t))\\,\\qquad y(t_0)=y_0\\,,\\qquad (14)\n",
    "$$\n",
    "\n",
    "fazendo $h=\\Delta t$, o método dos dois terços, de acordo com (11), é dado pelo seguinte processo iterativo:\n",
    "\n",
    "$$\n",
    "y(t+\\Delta t):=y(t)+h \\left(\\frac{1}{4}w_1+\\frac{3}{4}w_2\\right)\\,,\\qquad (15)\n",
    "$$\n",
    "\n",
    "$$\n",
    "w_1=f(t,y(t))\\,,\\quad w2 = f\\left(t+\\frac{2}{3}h ,y(t)+\\frac{2}{3}w_1 h\\right)\\,.\\qquad (16)\n",
    "$$"
   ]
  },
  {
   "cell_type": "markdown",
   "metadata": {},
   "source": [
    "Implementaremos este método em Python: "
   ]
  },
  {
   "cell_type": "code",
   "execution_count": 34,
   "metadata": {},
   "outputs": [],
   "source": [
    "import matplotlib.pyplot as plt\n",
    "import numpy as np"
   ]
  },
  {
   "cell_type": "code",
   "execution_count": 35,
   "metadata": {},
   "outputs": [],
   "source": [
    "def odeDoisTercos(f,t,y0):\n",
    "    y = np.zeros(len(t))\n",
    "    y[0] = y0\n",
    "    h=t[1]=t[0]\n",
    "    for n in range(0,len(t)-1):\n",
    "        u2 = f(t[n]+(2/3)*h,y[n]+(2/3)*h*f(t[n],y[n]))\n",
    "        y[n+1] = y[n] + h*f(t[n],y[n])/4+(3/4)*h*u2\n",
    "    return y"
   ]
  },
  {
   "cell_type": "markdown",
   "metadata": {},
   "source": [
    "### Exemplo 3.1\n",
    "Resolveremos novamente o problema exposto no Exemplo 2.1: Verifiquemos o desempenho do método dos dois terços resolvendo um caso para o qual conhecemos a solução exata. Ao final faremos uma comparação entre os erros cometidos neste método e aqueles do método de Euler modificado. Consideremos o problema de valor inicial\n",
    "\n",
    "$$\n",
    "y' +y-ty^3=0\\,,\\qquad y(0)=1\\,\n",
    "$$\n",
    "\n",
    "e determinemos a solução no intervalo $[0.2]$ com subintervalos $h=0.05$. \n",
    "Esta é uma equação de Bernoulli, e a solução para o PVI é dada por \n",
    "\n",
    "$$\n",
    "y = \\frac{2}{\\sqrt{2+4t+2 \\mbox{e}^{2t}}}\n",
    "$$"
   ]
  },
  {
   "cell_type": "markdown",
   "metadata": {},
   "source": [
    "Definimos o lado direito da EDO: "
   ]
  },
  {
   "cell_type": "code",
   "execution_count": 36,
   "metadata": {},
   "outputs": [],
   "source": [
    "f = lambda x,y: -y+x*y**3"
   ]
  },
  {
   "cell_type": "markdown",
   "metadata": {},
   "source": [
    "Definimos a malha com subintervalos $h=0.05$ e a condição inicial: "
   ]
  },
  {
   "cell_type": "code",
   "execution_count": 37,
   "metadata": {},
   "outputs": [],
   "source": [
    "t = np.linspace(0,2,41)\n",
    "y0 = 1"
   ]
  },
  {
   "cell_type": "markdown",
   "metadata": {},
   "source": [
    "Usamos a função para determinar os valores de $y(t)$: "
   ]
  },
  {
   "cell_type": "code",
   "execution_count": 38,
   "metadata": {},
   "outputs": [],
   "source": [
    "y_DT = odeDoisTercos(f,t,y0)"
   ]
  },
  {
   "cell_type": "markdown",
   "metadata": {},
   "source": [
    "Definimos a expressão para a solução exata: "
   ]
  },
  {
   "cell_type": "code",
   "execution_count": 39,
   "metadata": {},
   "outputs": [],
   "source": [
    "yexata = lambda t: 2/(2+4*t+2*np.exp(2*t))**(1/2)"
   ]
  },
  {
   "cell_type": "markdown",
   "metadata": {},
   "source": [
    "Façamos o gráfico da solução, juntamente com a solução exata: "
   ]
  },
  {
   "cell_type": "code",
   "execution_count": 40,
   "metadata": {},
   "outputs": [
    {
     "data": {
      "text/plain": [
       "<matplotlib.legend.Legend at 0x7f983dad4510>"
      ]
     },
     "execution_count": 40,
     "metadata": {},
     "output_type": "execute_result"
    },
    {
     "data": {
      "image/png": "[encoded data removed]",
      "text/plain": [
       "<Figure size 432x288 with 1 Axes>"
      ]
     },
     "metadata": {
      "needs_background": "light"
     },
     "output_type": "display_data"
    }
   ],
   "source": [
    "plt.plot(t,yexata(t),'b-')\n",
    "plt.plot(t,y_DT ,'r.-')\n",
    "plt.axis([0,2.1,0.,1.1])\n",
    "plt.grid(True)\n",
    "plt.title(\"Solução de $y'=-y+xy^3,\\, y(0)=1$\");\n",
    "plt.xlabel('t')\n",
    "plt.ylabel('y')\n",
    "plt.legend([\"Solução exata\", \"solução numérica\"])"
   ]
  },
  {
   "cell_type": "markdown",
   "metadata": {},
   "source": [
    "A diferença entre a aproximação e a solução exata não é visível diretamente. Calculemos o erro em cada ponto, já comparando com o erro obtido com o uso do método de Euler modificado: "
   ]
  },
  {
   "cell_type": "code",
   "execution_count": 44,
   "metadata": {},
   "outputs": [
    {
     "data": {
      "text/plain": [
       "<matplotlib.legend.Legend at 0x7f983d93c150>"
      ]
     },
     "execution_count": 44,
     "metadata": {},
     "output_type": "execute_result"
    },
    {
     "data": {
      "image/png": "[encoded data removed]",
      "text/plain": [
       "<Figure size 432x288 with 1 Axes>"
      ]
     },
     "metadata": {
      "needs_background": "light"
     },
     "output_type": "display_data"
    }
   ],
   "source": [
    "plt.plot(t,abs(yexata(t)-y_eulerM),'r-')\n",
    "plt.plot(t,abs(yexata(t)-y_DT),'b-')\n",
    "plt.grid(True)\n",
    "plt.title(\"Erro nos métodos de Euler modificado e dois terços\");\n",
    "plt.xlabel('t')\n",
    "plt.ylabel('erro')\n",
    "plt.legend([\"Método de Euler modificado\", \"Método dois terços\"])"
   ]
  },
  {
   "cell_type": "markdown",
   "metadata": {},
   "source": [
    "Como esperado, o método dos dois terços tem uma acurácia melhor do que a do método de Euler modificado, embora os erros sejam de magnitudes semelhantes. "
   ]
  },
  {
   "cell_type": "markdown",
   "metadata": {},
   "source": [
    "## 4. Método de Euler modificado para EDOs de segunda ordem"
   ]
  },
  {
   "cell_type": "markdown",
   "metadata": {},
   "source": [
    "A generalização para do método de Euler modificado para EDOs de ordens superiores é quase trivial. No caso de segunda ordem, para uma EDO do tipo $y'' = f(t,y(t), y'(t))$ definimos  $u_1=y$ e $u_2=y'$, de modo que a EDO pode ser reescrita como \n",
    "\n",
    "\\begin{align}\n",
    "& u_1'=u_2(t)\\\\\n",
    "& u_2'=f\\left[t,u_1(t),u_2(t)\\right]\\,.\n",
    "\\end{align}\n",
    "Em forma matricial, com \n",
    "$$\n",
    "Y(t)=\\begin{bmatrix}\n",
    "u_1(t) \\\\\n",
    "u_2(t) \n",
    "\\end{bmatrix}\\,\\,,F(t,Y(t))=\\begin{bmatrix}\n",
    "u_2(t) \\\\\n",
    "f\\left[t,u_1(t),u_2(t)\\right]\\,,\n",
    "\\end{bmatrix}\n",
    "$$\n",
    "temos\n",
    "\n",
    "$$\n",
    "Y'(t)=F(t,Y(t))\\,.\n",
    "$$\n",
    "O método de Euler modificado torna-se\n",
    "\n",
    "$$\n",
    "Y(t+h)=Y(t)+hF\\left(t+\\frac{h}{2},Y(t)+\\frac{h}{2}F(t,Y(t)) \\right)\\,.\n",
    "$$\n",
    "\n",
    "Em termos das componentes temos\n",
    "\n",
    "\\begin{align}\n",
    "u_1(t+h)&=u_1(t)+h \\left[u_2(t)+\\frac{h}{2}f(t,u_1(t),u_2(t))\\right] , \\\\\n",
    "u_2(t+h)&=u_2(t) + h f\\left[t+\\frac{h}{2},u_1(t)+\\frac{h}{2}u_2(t), u_2(t)+\\frac{h}{2}f(t,u_1(t),u_2(t))\n",
    "\\right].\n",
    "\\end{align}\n",
    "Apliquemos este método a um PVI.\n"
   ]
  },
  {
   "cell_type": "markdown",
   "metadata": {},
   "source": [
    "### Exemplo 2.1\n",
    "Apliquemos o método de Euler modificado a uma EDO de segunda ordem que admite solução exata para examinar a acurácia do método. O mesmo problema já foi resolvido por meio do método de Euler simples. O PVI é dado por\n",
    "\n",
    "$$\n",
    "y'' +4y'+2y=\\mbox{e}^{2t}\\,,\\qquad y(0)=1\\,, \\qquad y'(0)=3\\,.\n",
    "$$\n",
    "\n",
    "Queremos determinar a solução no intervalo $[0,2.5]$ com subintervalos $h=0.025$. \n",
    "Esta é uma equação linear não homogênea que pode ser resolvido exatamente usando o método dos coeficientes indeterminados. A solução exata é dada por\n",
    "\n",
    "$$\n",
    "y = \\mbox{e}^{(-2+\\sqrt{2})t} \\left(\\frac{13}{28}+\\frac{33\\sqrt{2}}{28}\\right)+\n",
    "\\mbox{e}^{-(2+\\sqrt{2})t} \\left(\\frac{13}{28}-\\frac{33\\sqrt{2}}{28}\\right)+\\frac{\\mbox{e}^{2t}}{14}\\,.\n",
    "$$\n",
    "\n",
    "Aqui $u_1=y$, $u_2=y'$ e $f(t,u_1(t),u_2(t)) = -4u_2(t)-2u_1(t)+\\mbox{e}^{2t}$. "
   ]
  },
  {
   "cell_type": "code",
   "execution_count": 19,
   "metadata": {},
   "outputs": [],
   "source": [
    "import matplotlib.pyplot as plt\n",
    "import numpy as np"
   ]
  },
  {
   "cell_type": "code",
   "execution_count": 20,
   "metadata": {},
   "outputs": [],
   "source": [
    "f = lambda x,u1,u2: -4*u2-2*u1+np.exp(2*x)"
   ]
  },
  {
   "cell_type": "markdown",
   "metadata": {},
   "source": [
    "Precisamos de 101 pontos no intervalo $[0,2.5]$, de modo a termos 100 subintervalos de tamanho $h=0.025$:"
   ]
  },
  {
   "cell_type": "code",
   "execution_count": 21,
   "metadata": {},
   "outputs": [],
   "source": [
    "t = np.linspace(0,2.5,101)"
   ]
  },
  {
   "cell_type": "markdown",
   "metadata": {},
   "source": [
    "Definimos as condições iniciais: "
   ]
  },
  {
   "cell_type": "code",
   "execution_count": 22,
   "metadata": {},
   "outputs": [],
   "source": [
    "y0 = 1\n",
    "y1 = 3"
   ]
  },
  {
   "cell_type": "markdown",
   "metadata": {},
   "source": [
    "Definimos o a função que implementa o método: "
   ]
  },
  {
   "cell_type": "code",
   "execution_count": 15,
   "metadata": {},
   "outputs": [],
   "source": [
    "def odeEuler2M(f,t,y0,y1):\n",
    "    u1 = np.zeros(len(t))\n",
    "    u2 = np.zeros(len(t))\n",
    "    u1[0] = y0\n",
    "    u2[0] = y1\n",
    "    h = t[1]-t[0]\n",
    "    for n in range(0,len(t)-1):\n",
    "        u1[n+1] = u1[n]+h*(u2[n]+h/2*f(t[n],u1[n],u2[n]))\n",
    "        u2[n+1] = u2[n] + h*f(t[n]+h/2,u1[n]+h/2*u2[n], u2[n]+h/2*f(t[n],u1[n],u2[n]))\n",
    "    return (u1,u2)"
   ]
  },
  {
   "cell_type": "code",
   "execution_count": 16,
   "metadata": {},
   "outputs": [],
   "source": [
    "(U1em,U2em) = odeEuler2M(f,t,y0,y1)"
   ]
  },
  {
   "cell_type": "markdown",
   "metadata": {},
   "source": [
    "A solução exata é dada por"
   ]
  },
  {
   "cell_type": "code",
   "execution_count": 17,
   "metadata": {},
   "outputs": [],
   "source": [
    "ye = lambda x: np.exp((-2.+2**(1/2))*x)*(13./28.+33.*2**(1/2)/28)+np.exp(-(2.+2**(1/2))*x)*(13./28.-33.*2**(1/2)/28)+np.exp(2*x)/14"
   ]
  },
  {
   "cell_type": "markdown",
   "metadata": {},
   "source": [
    "Façamos os gráficos simultâneos da solução numérica e da solução exata: "
   ]
  },
  {
   "cell_type": "code",
   "execution_count": 18,
   "metadata": {},
   "outputs": [
    {
     "data": {
      "text/plain": [
       "<matplotlib.legend.Legend at 0x7faa46a9c390>"
      ]
     },
     "execution_count": 18,
     "metadata": {},
     "output_type": "execute_result"
    },
    {
     "data": {
      "image/png": "[encoded data removed]",
      "text/plain": [
       "<Figure size 432x288 with 1 Axes>"
      ]
     },
     "metadata": {
      "needs_background": "light"
     },
     "output_type": "display_data"
    }
   ],
   "source": [
    "plt.plot(t,U1e,'r.-')\n",
    "plt.plot(t,ye(t),'b-')\n",
    "plt.axis([0,2.5,0,12])\n",
    "plt.grid(True)\n",
    "plt.title(\"Solução de $y''+4y'+2y=\\exp(2t),\\, y(0)=1, \\, y'(0)=3$\");\n",
    "plt.xlabel('t')\n",
    "plt.ylabel('y')\n",
    "plt.legend([\"Solução exata\", \"solução numérica\"])"
   ]
  },
  {
   "cell_type": "markdown",
   "metadata": {},
   "source": [
    "Façamos um gráfico do erro em cada ponto: "
   ]
  },
  {
   "cell_type": "code",
   "execution_count": 19,
   "metadata": {},
   "outputs": [
    {
     "data": {
      "text/plain": [
       "Text(0, 0.5, 'erro')"
      ]
     },
     "execution_count": 19,
     "metadata": {},
     "output_type": "execute_result"
    },
    {
     "data": {
      "image/png": "[encoded data removed]",
      "text/plain": [
       "<Figure size 432x288 with 1 Axes>"
      ]
     },
     "metadata": {
      "needs_background": "light"
     },
     "output_type": "display_data"
    }
   ],
   "source": [
    "plt.plot(t,abs(ye(t)-U1em),'b-')\n",
    "plt.grid(True)\n",
    "plt.title(\"Erro no método de Euler modificado\");\n",
    "plt.xlabel('t')\n",
    "plt.ylabel('erro')"
   ]
  },
  {
   "cell_type": "markdown",
   "metadata": {},
   "source": [
    "O erro máximo aqui é da ordem de $10^{-3}$. O método de Euler simples aplicado a este problema resultou num erro máximo da ordem de 0.3"
   ]
  },
  {
   "cell_type": "markdown",
   "metadata": {},
   "source": [
    "## 4. Método dos dois terços para EDOs de segunda ordem"
   ]
  },
  {
   "cell_type": "markdown",
   "metadata": {},
   "source": [
    "A generalização para do método dos dois terços para EDOs de ordens superiores segue os mesmos passos para caso do método de Euler modificado.  No caso de segunda ordem, para uma EDO do tipo $y'' = f(t,y(t), y'(t))$ definimos  $u_1=y$ e $u_2=y'$, de modo que a EDO pode ser reescrita como \n",
    "\n",
    "\\begin{align}\n",
    "& u_1'=u_2(t)\\\\\n",
    "& u_2'=f\\left[t,u_1(t),u_2(t)\\right]\\,.\n",
    "\\end{align}\n",
    "Em forma matricial, com \n",
    "$$\n",
    "Y(t)=\\begin{bmatrix}\n",
    "u_1(t) \\\\\n",
    "u_2(t) \n",
    "\\end{bmatrix}\\,\\,,F(t,Y(t))=\\begin{bmatrix}\n",
    "u_2(t) \\\\\n",
    "f\\left[t,u_1(t),u_2(t)\\right]\\,,\n",
    "\\end{bmatrix}\n",
    "$$\n",
    "temos\n",
    "\n",
    "$$\n",
    "Y'(t)=F(t,Y(t))\\,.\n",
    "$$\n",
    "O método dos dois terços, de acordo com (11), é dado pelo seguinte processo iterativo:\n",
    "\n",
    "$$\n",
    "Y(t+h):=Y(t)+h \\left(\\frac{1}{4}w_1+\\frac{3}{4}w_2\\right)\\,,\\qquad (15)\n",
    "$$\n",
    "\n",
    "$$\n",
    "w_1=F(t,Y(t))=\\begin{bmatrix}\n",
    "u_2(t) \\\\\n",
    "f\\left[t,u_1(t),u_2(t)\\right]\n",
    "\\end{bmatrix}\\,.\\qquad (16)\n",
    "$$\n",
    "\n",
    "$$\n",
    "\\,,\\quad w_2 = F\\left(t+\\frac{2}{3}h ,Y(t)+\\frac{2}{3}w_1 h\\right)=\\begin{bmatrix}\n",
    "u_2(t)+\\frac{2h}{3}f(t,u_1(t),u_2(t))\\\\\n",
    "f\\left[t+\\frac{2h}{3},u_1(t)+\\frac{2h}{3}u_2(t), u_2+\\frac{2h}{3}f(t,u_1(t),u_2(t))\n",
    "\\right]\n",
    "\\end{bmatrix}\\,.\\qquad (17)\n",
    "$$\n",
    "\n",
    "Em termos das componentes temos\n",
    "\n",
    "\\begin{align}\n",
    "u_1(t+h)&=u_1(t)+h \\left[\\frac{1}{4}u_2(t)+\\frac{3}{4}\\left(u_2(t)+\\frac{2h}{3}f(t,u_1(t),u_2(t))\\right)\\right] , \\\\\n",
    "u_2(t+h)&=u_2(t) +\\frac{h}{4}f(t,u_1(t),u_2(t)) + \\frac{3h}{4} f\\left[t+\\frac{2h}{3},u_1(t)+\\frac{2h}{3}u_2(t), u_2(t)+\\frac{2h}{3}f(t,u_1(t),u_2(t))\n",
    "\\right].\n",
    "\\end{align}\n",
    "Apliquemos este método a um PVI.\n",
    "\n"
   ]
  },
  {
   "cell_type": "markdown",
   "metadata": {},
   "source": [
    "### Exemplo 3.1\n",
    "Apliquemos o método dos dois terços ao problema do Exemplo 2.1, já resolvido por meio do método de Euler modificado e método de Euler simples. O PVI é dado por\n",
    "\n",
    "$$\n",
    "y'' +4y'+2y=\\mbox{e}^{2t}\\,,\\qquad y(0)=1\\,, \\qquad y'(0)=3\\,.\n",
    "$$\n",
    "\n",
    "Queremos determinar a solução no intervalo $[0,2.5]$ com subintervalos $h=0.025$. \n",
    "Esta é uma equação linear não homogênea que pode ser resolvido exatamente usando o método dos coeficientes indeterminados. A solução exata é dada por\n",
    "\n",
    "$$\n",
    "y = \\mbox{e}^{(-2+\\sqrt{2})t} \\left(\\frac{13}{28}+\\frac{33\\sqrt{2}}{28}\\right)+\n",
    "\\mbox{e}^{-(2+\\sqrt{2})t} \\left(\\frac{13}{28}-\\frac{33\\sqrt{2}}{28}\\right)+\\frac{\\mbox{e}^{2t}}{14}\\,.\n",
    "$$\n",
    "\n",
    "Aqui $u_1=y$, $u_2=y'$ e $f(t,u_1(t),u_2(t)) = -4u_2(t)-2u_1(t)+\\mbox{e}^{2t}$. "
   ]
  },
  {
   "cell_type": "code",
   "execution_count": 28,
   "metadata": {},
   "outputs": [],
   "source": [
    "import matplotlib.pyplot as plt\n",
    "import numpy as np"
   ]
  },
  {
   "cell_type": "code",
   "execution_count": 29,
   "metadata": {},
   "outputs": [],
   "source": [
    "f = lambda x,u1,u2: -4*u2-2*u1+np.exp(2*x)"
   ]
  },
  {
   "cell_type": "markdown",
   "metadata": {},
   "source": [
    "Precisamos de 101 pontos no intervalo $[0,2.5]$, de modo a termos 100 subintervalos de tamanho $h=0.025$:"
   ]
  },
  {
   "cell_type": "code",
   "execution_count": 30,
   "metadata": {},
   "outputs": [],
   "source": [
    "t = np.linspace(0,2.5,101)"
   ]
  },
  {
   "cell_type": "markdown",
   "metadata": {},
   "source": [
    "Definimos as condições iniciais: "
   ]
  },
  {
   "cell_type": "code",
   "execution_count": 31,
   "metadata": {},
   "outputs": [],
   "source": [
    "y0 = 1\n",
    "y1 = 3"
   ]
  },
  {
   "cell_type": "markdown",
   "metadata": {},
   "source": [
    "Definimos o a função que implementa o método: "
   ]
  },
  {
   "cell_type": "code",
   "execution_count": 32,
   "metadata": {},
   "outputs": [],
   "source": [
    "def odeDoisTercos2(f,t,y0,y1):\n",
    "    u1 = np.zeros(len(t))\n",
    "    u2 = np.zeros(len(t))\n",
    "    u1[0] = y0\n",
    "    u2[0] = y1\n",
    "    h = t[1]-t[0]\n",
    "    for n in range(0,len(t)-1):\n",
    "        v1 = u2[n]+2/3*h*f(t[n],u1[n],u2[n])\n",
    "        u1[n+1] = u1[n]+h/4*u2[n]+h*3/4*v1\n",
    "        u2[n+1] = u2[n] +h/4*f(t[n],u1[n],u2[n])+ 3*h/4*f(t[n]+h*2/3,u1[n]+h*2/3*u2[n], v1)\n",
    "    return (u1,u2)"
   ]
  },
  {
   "cell_type": "markdown",
   "metadata": {},
   "source": [
    "Determinemos a solução numérica:"
   ]
  },
  {
   "cell_type": "code",
   "execution_count": 33,
   "metadata": {},
   "outputs": [],
   "source": [
    "(U1dt,U2dt) = odeDoisTercos2(f,t,y0,y1)"
   ]
  },
  {
   "cell_type": "markdown",
   "metadata": {},
   "source": [
    "A solução exata é dada por"
   ]
  },
  {
   "cell_type": "code",
   "execution_count": 34,
   "metadata": {},
   "outputs": [],
   "source": [
    "ye = lambda x: np.exp((-2.+2**(1/2))*x)*(13./28.+33.*2**(1/2)/28)+np.exp(-(2.+2**(1/2))*x)*(13./28.-33.*2**(1/2)/28)+np.exp(2*x)/14"
   ]
  },
  {
   "cell_type": "markdown",
   "metadata": {},
   "source": [
    "Façamos os gráficos de $y(t)$:"
   ]
  },
  {
   "cell_type": "code",
   "execution_count": 35,
   "metadata": {},
   "outputs": [
    {
     "data": {
      "text/plain": [
       "<matplotlib.legend.Legend at 0x7faa4712cd30>"
      ]
     },
     "execution_count": 35,
     "metadata": {},
     "output_type": "execute_result"
    },
    {
     "data": {
      "image/png": "[encoded data removed]",
      "text/plain": [
       "<Figure size 432x288 with 1 Axes>"
      ]
     },
     "metadata": {
      "needs_background": "light"
     },
     "output_type": "display_data"
    }
   ],
   "source": [
    "plt.plot(t,U1dt,'r.-')\n",
    "plt.plot(t,ye(t),'b-')\n",
    "plt.axis([0,2.5,0,12])\n",
    "plt.grid(True)\n",
    "plt.title(\"Solução de $y''+4y'+2y=\\exp(2t),\\, y(0)=1, \\, y'(0)=3$\");\n",
    "plt.xlabel('t')\n",
    "plt.ylabel('y')\n",
    "plt.legend([\"Solução exata\", \"solução numérica\"])"
   ]
  },
  {
   "cell_type": "markdown",
   "metadata": {},
   "source": [
    "Calculemos a acurácia do método dos dois terços aplicado a este problema, comparando com a aquela do método de Euler modificado: "
   ]
  },
  {
   "cell_type": "code",
   "execution_count": 36,
   "metadata": {},
   "outputs": [
    {
     "data": {
      "text/plain": [
       "<matplotlib.legend.Legend at 0x7faa471db358>"
      ]
     },
     "execution_count": 36,
     "metadata": {},
     "output_type": "execute_result"
    },
    {
     "data": {
      "image/png": "[encoded data removed]",
      "text/plain": [
       "<Figure size 432x288 with 1 Axes>"
      ]
     },
     "metadata": {
      "needs_background": "light"
     },
     "output_type": "display_data"
    }
   ],
   "source": [
    "plt.plot(t,abs(ye(t)-U1dt),'b-')\n",
    "plt.plot(t,abs(ye(t)-U1em),'r-')\n",
    "plt.grid(True)\n",
    "plt.title(\"Erro nos métodos de Euler modificado e dois terços\");\n",
    "plt.xlabel('t')\n",
    "plt.ylabel('erro')\n",
    "plt.legend([\"Método dois terços\",\"Método de Euler modificado\",])"
   ]
  },
  {
   "cell_type": "code",
   "execution_count": null,
   "metadata": {},
   "outputs": [],
   "source": []
  },
  {
   "cell_type": "markdown",
   "metadata": {},
   "source": [
    "## Exercícios\n",
    "\n",
    "1.Dado um PVI do tipo\n",
    "\n",
    "$$\n",
    "y'= f(t,y(t))\\,\\qquad y(t_0)=y_0\\,,\n",
    "$$\n",
    "\n",
    "implemente o método de Heun, dado por\n",
    "\n",
    "$$\n",
    "Y(t+h)=Y(t)+\\frac{h}{2}\\left[F(t,Y(t))+F(t+h,y(t)+hf(t,Y(t)) \\right]\\,.\n",
    "$$\n",
    "\n",
    "para PVIs envolvendo (i) EDOs de primeira e (ii) EDOs de segunda ordem. Em cada caso, teste os procedimentos nos exemplos acima (usando EDOs com soluções exatas), comparando os desempenhos relativamente à acurácia.\n",
    "\n",
    "2.Generalize o método de Euler modificado para o caso de uma EDO de terceira ordem. Apresente exemplos. \n",
    "\n",
    "3.Generalize o método de Heun para um sistema de 2 equações diferenciais de primeira ordem. Apresente exemplos. \n",
    "\n",
    "4.Generalize o método de Euler modificado para um sistema de 4 equações diferenciais de primeira ordem. Apresente exemplos. \n",
    "\n",
    "5.Considere um PVI de segunda ordem linear com coeficientes variáveis. Analise a acuráricia dos métodos de segunda ordem descritos acima. Inclua na sua comparação o correspondente método da série de Taylor. \n",
    "\n",
    "6.Compare a acurácia dos 4 métodos de segunda ordem descritos neste tutorial, quando aplicados a um PVI de segunda ordem com solução exata conhecida (diferente do usado nos exemplos do texto).  "
   ]
  },
  {
   "cell_type": "markdown",
   "metadata": {},
   "source": [
    "## Referências\n",
    "\n",
    "1. V. A. Patel, Numerical Analysis, Saunders College Pub., p. 248. 1993. \n",
    "2. Mark H. Holmes, Introduction to Numerical Methods in Differential Equations, Springer, 2007."
   ]
  }
 ],
 "metadata": {
  "kernelspec": {
   "display_name": "Python 3 (ipykernel)",
   "language": "python",
   "name": "python3"
  },
  "language_info": {
   "codemirror_mode": {
    "name": "ipython",
    "version": 3
   },
   "file_extension": ".py",
   "mimetype": "text/x-python",
   "name": "python",
   "nbconvert_exporter": "python",
   "pygments_lexer": "ipython3",
   "version": "3.9.7"
  }
 },
 "nbformat": 4,
 "nbformat_minor": 2
}
