{
  "cells": [
    {
      "cell_type": "markdown",
      "metadata": {
        "id": "view-in-github",
        "colab_type": "text"
      },
      "source": [
        "<a href=\"https://colab.research.google.com/github/fernandodeeke/can2025/blob/main/newton_raphson.ipynb\" target=\"_parent\"><img src=\"https://colab.research.google.com/assets/colab-badge.svg\" alt=\"Open In Colab\"/></a>"
      ]
    },
    {
      "cell_type": "markdown",
      "metadata": {
        "id": "4k_lYZY3J6pE"
      },
      "source": [
        "<center><h1> </h1></center>\n",
        "<center><h1>Cálculo Numérico CAN0001</h1></center>\n",
        "<center><h2>2025/1</h2></center>\n",
        "<center><h3>Fernando Deeke Sasse</h3></center>\n",
        "<center><h3>CCT - UDESC</h3></center>\n",
        "<center><h2>Zeros de Funções: Método de Newton-Raphson</h2></center>"
      ]
    },
    {
      "cell_type": "markdown",
      "metadata": {
        "id": "G0AG4JehJ6pG"
      },
      "source": [
        "### 1. Introdução"
      ]
    },
    {
      "cell_type": "markdown",
      "metadata": {
        "id": "0_S-kCHUJ6pH"
      },
      "source": [
        "Seja $f(x)$ uma função suave e contínua e $x_r$ uma raiz desconhecida de $f(x)$. Suponhamos que $x_0$ é uma tentativa inicial para $x_r$, preferencialmente um ponto próximo a $x_0$. Suponde que  $x_0$ está suficientemente próximo ta $x_r$, veremos como podemos melhorar esse palpite, tomando uma aproximação linear de $f(x)$ na vizinhança de $x_0$. Geometricamente isso corresponde a traçar um reta tangente ao gráfico de $(f(x)$ e determinar a intersecção desta reta com o eixo $x$.  \n",
        "\n",
        "Matematicamente, a aproximação de  $f(x)$ em torno de $x_0$ corresponde à aproximação $f(x) \\approx f(x_0) + f^{\\prime}(x_0)(x-x_0)$. Usando tal aproximação, determinamos $x_1$ tal que $f(x_1) = 0$, ou seja,\n",
        "\n",
        "$$\n",
        "0 = f(x_0) + f^{\\prime}(x_0)(x_1-x_0).\n",
        "$$\n",
        "Resolvendo para  $x_1$ obtemos\n",
        "$$\n",
        "x_1 = x_0 - \\frac{f(x_0)}{f^{\\prime}(x_0)}.\n",
        "$$\n",
        "\n",
        "Uma interpretação geométrica deste processo é mostrada na Figura abaixo.\n",
        "\n",
        "\n",
        "<img src=\"19.04.01-Newton-step.png\" alt=\"Newton Step\" title=\"Illustration of Newton step for a smooth function, g(x).\" width=\"200\"/>\n",
        "\n",
        "O chamado *processo de Newton-Raphson* consiste em utilizar esta aproximação de modo iterativo:\n",
        "\n",
        "$$\n",
        "x_{i+1} = x_{i} - \\frac{g(x_{i})}{g^{\\prime}(x_{i})},\n",
        "$$\n",
        "\n",
        "até que $|x_{i+1}-x_i|<\\epsilon$, sendo $\\epsilon$ uma tolerância previamente especificada.\n",
        "\n",
        "Outras explicações deste método podem ser encontrada no [item da Wikipedia](https://pt.wikipedia.org/wiki/Método_de_Newton–Raphson),  ou [esta página do MIT](https://web.mit.edu/10.001/Web/Course_Notes/NLAE/node6.html)."
      ]
    },
    {
      "cell_type": "markdown",
      "metadata": {
        "id": "x3ckqyNgJ6pH"
      },
      "source": [
        "### 2. Implementação do Método de Newton Raphson"
      ]
    },
    {
      "cell_type": "markdown",
      "metadata": {
        "id": "8GehflmlJ6pI"
      },
      "source": [
        "Inicialmente carregamos as bibliotecas imediatamente necessárias, que são a biblioteca de gráficos e a de matemática simbólica:"
      ]
    },
    {
      "cell_type": "code",
      "execution_count": null,
      "metadata": {
        "id": "aVLaH0WkJ6pI"
      },
      "outputs": [],
      "source": [
        "from matplotlib.pyplot import *\n",
        "from sympy import *\n",
        "init_printing()"
      ]
    },
    {
      "cell_type": "markdown",
      "metadata": {
        "id": "fwhsVcmBJ6pJ"
      },
      "source": [
        "Suponhamos que queremos determinar as raízes reais da equação $x^2-\\sin x-1/2=0$. Definimos inicialmente a variável *x* como sendo simbólica:"
      ]
    },
    {
      "cell_type": "code",
      "execution_count": null,
      "metadata": {
        "id": "y9t1NQJ-J6pJ"
      },
      "outputs": [],
      "source": [
        "x=symbols('x')"
      ]
    },
    {
      "cell_type": "markdown",
      "metadata": {
        "id": "J63rV0neJ6pJ"
      },
      "source": [
        "Podemos agora definir a função:"
      ]
    },
    {
      "cell_type": "code",
      "execution_count": null,
      "metadata": {
        "id": "kCqOQ1bqJ6pJ",
        "outputId": "56d75720-dcc7-4992-efe7-f2679d7cf520"
      },
      "outputs": [
        {
          "data": {
            "image/png": "[encoded data removed]",
            "text/latex": [
              "$\\displaystyle x^{2} - \\sin{\\left(x \\right)} - 0.5$"
            ],
            "text/plain": [
              " 2               \n",
              "x  - sin(x) - 0.5"
            ]
          },
          "execution_count": 4,
          "metadata": {},
          "output_type": "execute_result"
        }
      ],
      "source": [
        "f= Lambda(x, x**2-sin(x)-1/2)\n",
        "f(x)"
      ]
    },
    {
      "cell_type": "markdown",
      "metadata": {
        "id": "RPMBdiMaJ6pK"
      },
      "source": [
        "Agora é simples avaliar a função em qualquer ponto. Por exemplo,"
      ]
    },
    {
      "cell_type": "code",
      "execution_count": null,
      "metadata": {
        "id": "ifou8d_5J6pK",
        "outputId": "2521a619-49ea-48cf-f68a-367b32cd2759"
      },
      "outputs": [
        {
          "data": {
            "image/png": "[encoded data removed]",
            "text/latex": [
              "$$- \\sin{\\left (1 \\right )} + 0.5$$"
            ],
            "text/plain": [
              "-sin(1) + 0.5"
            ]
          },
          "execution_count": 4,
          "metadata": {},
          "output_type": "execute_result"
        }
      ],
      "source": [
        "f(1)"
      ]
    },
    {
      "cell_type": "markdown",
      "metadata": {
        "id": "X467qfI6J6pK"
      },
      "source": [
        "Notemos que a função seno não foi avaliada em ponto flutuante. Para que isso\n",
        "ocorra devemos usar argumentos em ponto flutuante:"
      ]
    },
    {
      "cell_type": "code",
      "execution_count": null,
      "metadata": {
        "id": "NuBjqGuFJ6pK",
        "outputId": "4cfe119d-f15a-456f-dd9e-e82b4d2d6dbf"
      },
      "outputs": [
        {
          "data": {
            "image/png": "[encoded data removed]",
            "text/latex": [
              "$$-0.341470984807897$$"
            ],
            "text/plain": [
              "-0.341470984807897"
            ]
          },
          "execution_count": 5,
          "metadata": {},
          "output_type": "execute_result"
        }
      ],
      "source": [
        "f(1.)"
      ]
    },
    {
      "cell_type": "markdown",
      "metadata": {
        "id": "sit2Dtj3J6pK"
      },
      "source": [
        "Façamos um gráfico desta função para localizar as raízes:"
      ]
    },
    {
      "cell_type": "code",
      "execution_count": null,
      "metadata": {
        "id": "8y0K6etAJ6pK",
        "outputId": "944bba33-eecc-411d-ce55-fd5747b1b609"
      },
      "outputs": [
        {
          "data": {
            "image/png": "[encoded data removed]",
            "text/plain": [
              "<Figure size 432x288 with 1 Axes>"
            ]
          },
          "metadata": {
            "needs_background": "light"
          },
          "output_type": "display_data"
        },
        {
          "data": {
            "text/plain": [
              "<sympy.plotting.plot.Plot at 0x11d4979e8>"
            ]
          },
          "execution_count": 6,
          "metadata": {},
          "output_type": "execute_result"
        }
      ],
      "source": [
        "plot(f(x),(x,-1,2))"
      ]
    },
    {
      "cell_type": "markdown",
      "metadata": {
        "id": "_0BL_DlWJ6pK"
      },
      "source": [
        "Como o termo quadrático é dominante para grandes magnitudes de *x* sabemos que estas são as únicas raízes reais. O [processo iterativo de Newton-Raphson](https://pt.wikipedia.org/wiki/Método_de_Newton–Raphson) tem a forma\n",
        "$$\n",
        "x_{i+1}=x_i-\\frac{f(x_i)}{f'(x_i)}\\,.\n",
        "$$"
      ]
    },
    {
      "cell_type": "markdown",
      "metadata": {
        "id": "up7w1q4oJ6pL"
      },
      "source": [
        "Para definir a função $f'(x)$ procedemos da seguinte forma:"
      ]
    },
    {
      "cell_type": "markdown",
      "metadata": {
        "id": "VacdirGqJ6pL"
      },
      "source": [
        "Inicialmente calculamos a derivada:"
      ]
    },
    {
      "cell_type": "code",
      "execution_count": null,
      "metadata": {
        "id": "bWsBLcbjJ6pL",
        "outputId": "d445cd52-738a-46de-8bf8-7be7882dabb7"
      },
      "outputs": [
        {
          "data": {
            "image/png": "[encoded data removed]",
            "text/latex": [
              "$$2 x - \\cos{\\left (x \\right )}$$"
            ],
            "text/plain": [
              "2⋅x - cos(x)"
            ]
          },
          "execution_count": 7,
          "metadata": {},
          "output_type": "execute_result"
        }
      ],
      "source": [
        "df=diff(f(x),x)\n",
        "df"
      ]
    },
    {
      "cell_type": "markdown",
      "metadata": {
        "id": "BXhLU2vYJ6pL"
      },
      "source": [
        "Notemos que esta ainda não é uma função. Por exemplo, a seguinte entrada gera um erro: df(x)"
      ]
    },
    {
      "cell_type": "markdown",
      "metadata": {
        "id": "njiucM6cJ6pL"
      },
      "source": [
        "Devemos definir a função derivada com o comando Lambda:"
      ]
    },
    {
      "cell_type": "code",
      "execution_count": null,
      "metadata": {
        "id": "bfkIVgSwJ6pL",
        "outputId": "7e1acf86-00d9-493b-e981-e05cd4e4e668"
      },
      "outputs": [
        {
          "data": {
            "image/png": "[encoded data removed]",
            "text/latex": [
              "$$2 x - \\cos{\\left (x \\right )}$$"
            ],
            "text/plain": [
              "2⋅x - cos(x)"
            ]
          },
          "execution_count": 8,
          "metadata": {},
          "output_type": "execute_result"
        }
      ],
      "source": [
        "Df= Lambda(x,df)\n",
        "Df(x)"
      ]
    },
    {
      "cell_type": "markdown",
      "metadata": {
        "id": "Beu44t3AJ6pL"
      },
      "source": [
        "Por exemplo,"
      ]
    },
    {
      "cell_type": "code",
      "execution_count": null,
      "metadata": {
        "id": "x9e71-ChJ6pL",
        "outputId": "3f70b259-8f8d-4906-c0f4-4d04351992f6"
      },
      "outputs": [
        {
          "data": {
            "image/png": "[encoded data removed]",
            "text/latex": [
              "$$1.45969769413186$$"
            ],
            "text/plain": [
              "1.45969769413186"
            ]
          },
          "execution_count": 9,
          "metadata": {},
          "output_type": "execute_result"
        }
      ],
      "source": [
        "Df(1.)"
      ]
    },
    {
      "cell_type": "markdown",
      "metadata": {
        "id": "JHWkR6_jJ6pL"
      },
      "source": [
        "Dado um ponto inicial, digamos $x_0=-0.5$, podemos agora realizar uma iteração:"
      ]
    },
    {
      "cell_type": "code",
      "execution_count": null,
      "metadata": {
        "id": "g7TnSYf5J6pL",
        "outputId": "843c6ba4-92ff-420f-cad6-b46b696484b9"
      },
      "outputs": [
        {
          "data": {
            "image/png": "[encoded data removed]",
            "text/latex": [
              "$$-0.37780801587057$$"
            ],
            "text/plain": [
              "-0.377808015870570"
            ]
          },
          "execution_count": 10,
          "metadata": {},
          "output_type": "execute_result"
        }
      ],
      "source": [
        "x0=-0.5\n",
        "x1=x0-f(x0)/Df(x0)\n",
        "x1"
      ]
    },
    {
      "cell_type": "markdown",
      "metadata": {
        "id": "R9A2kha3J6pM"
      },
      "source": [
        "Podemos repetir o processo 4 vezes:"
      ]
    },
    {
      "cell_type": "code",
      "execution_count": null,
      "metadata": {
        "id": "ho6uk0azJ6pM",
        "outputId": "2bd460f0-de34-413a-ea88-cf196c68b796"
      },
      "outputs": [
        {
          "data": {
            "image/png": "[encoded data removed]",
            "text/latex": [
              "$$-0.370887340375536$$"
            ],
            "text/plain": [
              "-0.370887340375536"
            ]
          },
          "execution_count": 11,
          "metadata": {},
          "output_type": "execute_result"
        }
      ],
      "source": [
        "x0=-0.5\n",
        "for i in range(1,4):\n",
        "    x1=x0-f(x0)/Df(x0)\n",
        "    x0=x1\n",
        "x0"
      ]
    },
    {
      "cell_type": "markdown",
      "metadata": {
        "id": "rT9hvV0GJ6pM"
      },
      "source": [
        "Verifiquemos a acurácia do resultado:"
      ]
    },
    {
      "cell_type": "code",
      "execution_count": null,
      "metadata": {
        "id": "Scb36gFoJ6pM",
        "outputId": "de2f2de6-4af4-4032-a37b-d12766c4192f"
      },
      "outputs": [
        {
          "data": {
            "image/png": "[encoded data removed]",
            "text/latex": [
              "$$4.41114589300184 \\cdot 10^{-10}$$"
            ],
            "text/plain": [
              "4.41114589300184e-10"
            ]
          },
          "execution_count": 12,
          "metadata": {},
          "output_type": "execute_result"
        }
      ],
      "source": [
        "f(x0)"
      ]
    },
    {
      "cell_type": "markdown",
      "metadata": {
        "id": "oSpOvVVJJ6pM"
      },
      "source": [
        "Para encontrar a outra raiz usamos como ponto inicial $x_0=1$:"
      ]
    },
    {
      "cell_type": "code",
      "execution_count": null,
      "metadata": {
        "id": "3T5NoGUFJ6pM",
        "outputId": "f3fccd77-ebe4-4ad9-ce99-c13c0fbaa6dd"
      },
      "outputs": [
        {
          "data": {
            "image/png": "[encoded data removed]",
            "text/latex": [
              "$$1.1960827342846$$"
            ],
            "text/plain": [
              "1.19608273428460"
            ]
          },
          "execution_count": 13,
          "metadata": {},
          "output_type": "execute_result"
        }
      ],
      "source": [
        "x0=1.0\n",
        "for i in range(1,4):\n",
        "    x1=x0-f(x0)/Df(x0)\n",
        "    x0=x1\n",
        "x0"
      ]
    },
    {
      "cell_type": "code",
      "execution_count": null,
      "metadata": {
        "id": "77F8gNGbJ6pM",
        "outputId": "97afba9b-9ce4-498e-9262-dc2c62d65a53"
      },
      "outputs": [
        {
          "data": {
            "image/png": "[encoded data removed]",
            "text/latex": [
              "$$1.42031167049694 \\cdot 10^{-6}$$"
            ],
            "text/plain": [
              "1.42031167049694e-6"
            ]
          },
          "execution_count": 14,
          "metadata": {},
          "output_type": "execute_result"
        }
      ],
      "source": [
        "f(x0)"
      ]
    },
    {
      "cell_type": "markdown",
      "metadata": {
        "id": "bODEvhF2J6pM"
      },
      "source": [
        "Podemos agora construir um procedimento em Python que tem como entrada a função, um ponto inicial e o número de iterações:"
      ]
    },
    {
      "cell_type": "code",
      "execution_count": null,
      "metadata": {
        "id": "K2ye9WQSJ6pM"
      },
      "outputs": [],
      "source": [
        "def newton_raphson1(f,x0,N):\n",
        "    for i in range(1,N):\n",
        "        x1=x0-f(x0)/Df(x0)\n",
        "        x0=x1\n",
        "    return x0"
      ]
    },
    {
      "cell_type": "code",
      "execution_count": null,
      "metadata": {
        "id": "N0Df8PQWJ6pN",
        "outputId": "e19187ac-131f-417e-dc20-5e8748c1a36a"
      },
      "outputs": [
        {
          "data": {
            "image/png": "[encoded data removed]",
            "text/latex": [
              "$$-0.370887340111992$$"
            ],
            "text/plain": [
              "-0.370887340111992"
            ]
          },
          "execution_count": 16,
          "metadata": {},
          "output_type": "execute_result"
        }
      ],
      "source": [
        "r1=newton_raphson1(f,-1.,6)\n",
        "r1"
      ]
    },
    {
      "cell_type": "code",
      "execution_count": null,
      "metadata": {
        "id": "vJW7wbSzJ6pN",
        "outputId": "8367981f-c517-4dd9-d842-3ed230cb7095"
      },
      "outputs": [
        {
          "data": {
            "image/png": "[encoded data removed]",
            "text/latex": [
              "$$-5.55111512312578 \\cdot 10^{-17}$$"
            ],
            "text/plain": [
              "-5.55111512312578e-17"
            ]
          },
          "execution_count": 17,
          "metadata": {},
          "output_type": "execute_result"
        }
      ],
      "source": [
        "f(r1)"
      ]
    },
    {
      "cell_type": "code",
      "execution_count": null,
      "metadata": {
        "id": "DH0xNrBsJ6pN",
        "outputId": "56de0cf3-3339-489a-89c3-52e35d623815"
      },
      "outputs": [
        {
          "data": {
            "image/png": "[encoded data removed]",
            "text/latex": [
              "$$1.19608203329713$$"
            ],
            "text/plain": [
              "1.19608203329713"
            ]
          },
          "execution_count": 18,
          "metadata": {},
          "output_type": "execute_result"
        }
      ],
      "source": [
        "r2=newton_raphson1(f,1.,6)\n",
        "r2"
      ]
    },
    {
      "cell_type": "code",
      "execution_count": null,
      "metadata": {
        "id": "LwCzDvL5J6pN",
        "outputId": "2167e4b9-3838-4f5d-8842-dfd590c7a5eb"
      },
      "outputs": [
        {
          "data": {
            "image/png": "[encoded data removed]",
            "text/latex": [
              "$$-2.22044604925031 \\cdot 10^{-16}$$"
            ],
            "text/plain": [
              "-2.22044604925031e-16"
            ]
          },
          "execution_count": 19,
          "metadata": {},
          "output_type": "execute_result"
        }
      ],
      "source": [
        "f(r2)"
      ]
    },
    {
      "cell_type": "markdown",
      "metadata": {
        "id": "j9i9qr4UJ6pN"
      },
      "source": [
        "Notemos que se o usuário definir um ponto inicial inteiro e não em forma de ponto flutuante, o procedimento executará os cálculos em aritmética racional:"
      ]
    },
    {
      "cell_type": "code",
      "execution_count": null,
      "metadata": {
        "id": "gaHLcHw-J6pN",
        "outputId": "0e613a93-8d04-49ef-f77a-43c646317c15"
      },
      "outputs": [
        {
          "data": {
            "image/png": "[encoded data removed]",
            "text/latex": [
              "$$-1 - \\frac{-0.5 + \\left(-1 - \\frac{0.5 + \\sin{\\left (1 \\right )}}{-2 - \\cos{\\left (1 \\right )}}\\right)^{2} + \\sin{\\left (\\frac{0.5 + \\sin{\\left (1 \\right )}}{-2 - \\cos{\\left (1 \\right )}} + 1 \\right )}}{-2 - \\cos{\\left (\\frac{0.5 + \\sin{\\left (1 \\right )}}{-2 - \\cos{\\left (1 \\right )}} + 1 \\right )} - \\frac{2 \\left(0.5 + \\sin{\\left (1 \\right )}\\right)}{-2 - \\cos{\\left (1 \\right )}}} - \\frac{0.5 + \\sin{\\left (1 \\right )}}{-2 - \\cos{\\left (1 \\right )}}$$"
            ],
            "text/plain": [
              "                               2                                       \n",
              "            ⎛     0.5 + sin(1)⎞       ⎛0.5 + sin(1)    ⎞               \n",
              "     -0.5 + ⎜-1 - ────────────⎟  + sin⎜──────────── + 1⎟               \n",
              "            ⎝     -2 - cos(1) ⎠       ⎝-2 - cos(1)     ⎠   0.5 + sin(1)\n",
              "-1 - ─────────────────────────────────────────────────── - ────────────\n",
              "                ⎛0.5 + sin(1)    ⎞   2⋅(0.5 + sin(1))      -2 - cos(1) \n",
              "        -2 - cos⎜──────────── + 1⎟ - ────────────────                  \n",
              "                ⎝-2 - cos(1)     ⎠     -2 - cos(1)                     "
            ]
          },
          "execution_count": 20,
          "metadata": {},
          "output_type": "execute_result"
        }
      ],
      "source": [
        "r1=newton_raphson1(f,-1,3)\n",
        "r1"
      ]
    },
    {
      "cell_type": "markdown",
      "metadata": {
        "id": "Q8zzN07CJ6pN"
      },
      "source": [
        "Para evitar isso convertemos a entrada para float dentro do procedimento:"
      ]
    },
    {
      "cell_type": "code",
      "execution_count": null,
      "metadata": {
        "id": "hgt-n_IiJ6pO"
      },
      "outputs": [],
      "source": [
        "def newton_raphson2(f,a,N):\n",
        "    x0=float(a)\n",
        "    for i in range(1,N):\n",
        "        x1=x0-f(x0)/Df(x0)\n",
        "        x0=x1\n",
        "    return x0"
      ]
    },
    {
      "cell_type": "code",
      "execution_count": null,
      "metadata": {
        "id": "6r_2QrqpJ6pO",
        "outputId": "1ae023dc-b026-4b7a-e141-df53b8e96ed8"
      },
      "outputs": [
        {
          "data": {
            "image/png": "[encoded data removed]",
            "text/latex": [
              "$$-0.375271614113793$$"
            ],
            "text/plain": [
              "-0.375271614113793"
            ]
          },
          "execution_count": 22,
          "metadata": {},
          "output_type": "execute_result"
        }
      ],
      "source": [
        "r1=newton_raphson2(f,-1,3)\n",
        "r1"
      ]
    },
    {
      "cell_type": "markdown",
      "metadata": {
        "id": "TSV-F7zMJ6pO"
      },
      "source": [
        "O seguinte procedimento tem como entrada um ponto inicial, o ponto inicial $a$, o número máximo de interações *Nmax* e a tolerância para o erro $\\epsilon$. Como saída temos a raiz e o número de interações realizadas:"
      ]
    },
    {
      "cell_type": "code",
      "execution_count": null,
      "metadata": {
        "id": "tmwyYfLPJ6pO"
      },
      "outputs": [],
      "source": [
        "def newton_raphson3(f,a,Nmax, epsilon):\n",
        "    erro=1\n",
        "    n=0\n",
        "    x0=float(a)\n",
        "    df=diff(f(x),x)\n",
        "    Df= Lambda(x,df)\n",
        "    while erro>epsilon and n<Nmax:\n",
        "        x1=x0-f(x0)/Df(x0)\n",
        "        erro=abs(x1-x0)\n",
        "        n=n+1\n",
        "        x0=x1\n",
        "    return x1,n"
      ]
    },
    {
      "cell_type": "code",
      "execution_count": null,
      "metadata": {
        "id": "U2U9cbDeJ6pO",
        "outputId": "f748a568-2fed-4a02-8c08-4f901371e739"
      },
      "outputs": [
        {
          "data": {
            "image/png": "[encoded data removed]",
            "text/latex": [
              "$$\\left ( 1.19608203329713, \\quad 5\\right )$$"
            ],
            "text/plain": [
              "(1.19608203329713, 5)"
            ]
          },
          "execution_count": 24,
          "metadata": {},
          "output_type": "execute_result"
        }
      ],
      "source": [
        "r1=newton_raphson3(f,1,20,10**(-8))\n",
        "r1"
      ]
    },
    {
      "cell_type": "markdown",
      "metadata": {
        "id": "gtbRJMAMJ6pO"
      },
      "source": [
        "Verifiquemos  a acurácia do resultado:"
      ]
    },
    {
      "cell_type": "code",
      "execution_count": null,
      "metadata": {
        "id": "iKUWthrbJ6pO",
        "outputId": "e0666c77-bbe3-415a-ef47-ac8159c348d5"
      },
      "outputs": [
        {
          "data": {
            "image/png": "[encoded data removed]",
            "text/latex": [
              "$$-2.22044604925031 \\cdot 10^{-16}$$"
            ],
            "text/plain": [
              "-2.22044604925031e-16"
            ]
          },
          "execution_count": 25,
          "metadata": {},
          "output_type": "execute_result"
        }
      ],
      "source": [
        "f(r1[0])"
      ]
    },
    {
      "cell_type": "markdown",
      "metadata": {
        "id": "asIvvZREJ6pO"
      },
      "source": [
        "### 3. Exercícios"
      ]
    },
    {
      "cell_type": "markdown",
      "metadata": {
        "id": "c8xlSbvRJ6pO"
      },
      "source": [
        "<bf>1.</bf> Use o método de Newton-Raphson para determinar a raiz real de $f(x)=x-\\sin(x)+2$, com tolerância de intervalo $\\epsilon = 10^{-8}$. Quantas iterações seriam necessárias para obter a  mesma raiz usando o método da bissecção (determine esse número sem aplicar o método).\n",
        "\n",
        "\n",
        "<bf>2.</bf> Seja a função $f(x)=x^2+x\\sin(x^3)+3x-10$. <br>\n",
        "(i) Faça um gráfico desta função. <br>\n",
        "(ii) Determine todas as raízes reais positivas, usando o método de Newton-Raphson, com uma tolerância de intervalo $\\epsilon = 10^{-10}$.<br>\n",
        "(iii) Use o método de Newton-Raphson com tolerância de intervalo $\\epsilon = 10^{-10}$ para determinar os extremos relativos (especificando $x$ e $f(x)$ de $f(x)$ no intervalo $[1.5, 2.2]$."
      ]
    },
    {
      "cell_type": "code",
      "execution_count": null,
      "metadata": {
        "id": "xrB-HJNrJ6pO"
      },
      "outputs": [],
      "source": [
        "from matplotlib.pyplot import *\n",
        "from sympy import *\n",
        "init_printing()"
      ]
    },
    {
      "cell_type": "code",
      "execution_count": null,
      "metadata": {
        "id": "lbdngwW6J6pP",
        "outputId": "31285b55-786b-4b8f-93d1-bf60f916f2e4"
      },
      "outputs": [
        {
          "data": {
            "image/png": "[encoded data removed]",
            "text/latex": [
              "$\\displaystyle x^{2} + x \\sin{\\left(x^{3} \\right)} + 3 x - 10$"
            ],
            "text/plain": [
              " 2        ⎛ 3⎞           \n",
              "x  + x⋅sin⎝x ⎠ + 3⋅x - 10"
            ]
          },
          "execution_count": 2,
          "metadata": {},
          "output_type": "execute_result"
        }
      ],
      "source": [
        "x=symbols('x')\n",
        "f= Lambda(x, x**2+x*sin(x**3)+3*x-10)\n",
        "f(x)"
      ]
    },
    {
      "cell_type": "code",
      "execution_count": null,
      "metadata": {
        "id": "o7HJ1lBRJ6pP",
        "outputId": "397e7a0e-3e60-4c7e-b30f-8a016b876311"
      },
      "outputs": [
        {
          "data": {
            "image/png": "[encoded data removed]",
            "text/plain": [
              "<Figure size 432x288 with 1 Axes>"
            ]
          },
          "metadata": {
            "needs_background": "light"
          },
          "output_type": "display_data"
        },
        {
          "data": {
            "text/plain": [
              "<sympy.plotting.plot.Plot at 0x7fd38a1f4dc0>"
            ]
          },
          "execution_count": 7,
          "metadata": {},
          "output_type": "execute_result"
        }
      ],
      "source": [
        "plot(f(x),(x,0,3))"
      ]
    },
    {
      "cell_type": "code",
      "execution_count": null,
      "metadata": {
        "id": "C1TcgcrgJ6pP"
      },
      "outputs": [],
      "source": []
    }
  ],
  "metadata": {
    "kernelspec": {
      "display_name": "Python 3",
      "language": "python",
      "name": "python3"
    },
    "language_info": {
      "codemirror_mode": {
        "name": "ipython",
        "version": 3
      },
      "file_extension": ".py",
      "mimetype": "text/x-python",
      "name": "python",
      "nbconvert_exporter": "python",
      "pygments_lexer": "ipython3",
      "version": "3.8.5"
    },
    "colab": {
      "provenance": [],
      "include_colab_link": true
    }
  },
  "nbformat": 4,
  "nbformat_minor": 0
}