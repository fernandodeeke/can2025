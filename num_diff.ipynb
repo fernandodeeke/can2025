{
 "cells": [
  {
   "cell_type": "markdown",
   "metadata": {},
   "source": [
    "<center><h1>Cálculo Numérico</h1></center>\n",
    "<center><h2>CAN0001 2025/2</h2></center>\n",
    "<center><h3>Prof. Fernando Deeke Sasse - CCT, UDESC</h3></center>    \n",
    "<center><h2>Diferenciação Numérica</h2> </center>"
   ]
  },
  {
   "cell_type": "markdown",
   "metadata": {},
   "source": [
    "### 1. Diferenças Finitas"
   ]
  },
  {
   "cell_type": "markdown",
   "metadata": {},
   "source": [
    "Nosso problema consiste em calcular a derivada de uma função definida por $f(x)$, denotada por $f'(x)$, para um dado valor específico $x$. Se tivermos uma expressão analítica para $f(x)$ o problema é relativamente simples. Se a expressão é muito complicada podemos usar o módulo simbólico simpy do Python. Por exemplo, suponhamos que \n",
    "\n",
    "$$\n",
    "f(x)= \\exp\\left(\\frac{\\sin(x^2)}{x}\\right) \\qquad (1)\n",
    "$$\n",
    "\n",
    "Então para diferenciar esta função podemos proceder do modo descrito a seguir. "
   ]
  },
  {
   "cell_type": "code",
   "execution_count": 5,
   "metadata": {},
   "outputs": [],
   "source": [
    "from sympy import *\n",
    "init_printing()"
   ]
  },
  {
   "cell_type": "code",
   "execution_count": 7,
   "metadata": {},
   "outputs": [
    {
     "data": {
      "image/png": "[encoded data removed]",
      "text/latex": [
       "$\\displaystyle \\left( x \\mapsto e^{\\frac{\\sin{\\left(x^{2} \\right)}}{x}} \\right)$"
      ],
      "text/plain": [
       "        ⎛ 2⎞\n",
       "     sin⎝x ⎠\n",
       "     ───────\n",
       "        x   \n",
       "x ↦ ℯ       "
      ]
     },
     "execution_count": 7,
     "metadata": {},
     "output_type": "execute_result"
    }
   ],
   "source": [
    "x = symbols('x')\n",
    "f = Lambda(x, exp(sin(x**2)/x))\n",
    "f"
   ]
  },
  {
   "cell_type": "markdown",
   "metadata": {},
   "source": [
    "A derivada pode ser obtida analiticamente do seguinte modo: "
   ]
  },
  {
   "cell_type": "code",
   "execution_count": 10,
   "metadata": {},
   "outputs": [
    {
     "data": {
      "image/png": "[encoded data removed]",
      "text/latex": [
       "$\\displaystyle \\left(2 \\cos{\\left(x^{2} \\right)} - \\frac{\\sin{\\left(x^{2} \\right)}}{x^{2}}\\right) e^{\\frac{\\sin{\\left(x^{2} \\right)}}{x}}$"
      ],
      "text/plain": [
       "                          ⎛ 2⎞\n",
       "                       sin⎝x ⎠\n",
       "⎛               ⎛ 2⎞⎞  ───────\n",
       "⎜     ⎛ 2⎞   sin⎝x ⎠⎟     x   \n",
       "⎜2⋅cos⎝x ⎠ - ───────⎟⋅ℯ       \n",
       "⎜                2  ⎟         \n",
       "⎝               x   ⎠         "
      ]
     },
     "execution_count": 10,
     "metadata": {},
     "output_type": "execute_result"
    }
   ],
   "source": [
    "df=f(x).diff(x)\n",
    "df"
   ]
  },
  {
   "cell_type": "markdown",
   "metadata": {},
   "source": [
    "Em muitos casos, no entanto, temos que diferenciar uma função  que é definida por valores discretos de uma tabela especificando pares $(x_i, f_i)$. Para resolver tal problema poderíamos usar interpolação ou ajustes, de modo a produzir uma função que se ajusta bem aos dados. Sobre esta função poderíamos aplicar então os métodos analíticos. Tal técnica é útil quando temos dados que possuem um alto grau de ruído. Em alguns casos, no entanto, tal função aproximada falha na captura da informação crucial do valor da derivada de uma função num dado ponto e no erro associado a tal estimativa. Neste caso é mais interessante utilizar a técnica que descreveremos aqui, chamada diferenças finitas. Ela também é útil discretização de equações diferenciais. Veja as referências [1] e [2] para um estudo mais aprofundado.  \n",
    "\n",
    "A ideia da aproximação por diferenças finitas consiste em partir de expansões em séries de Taylor avançada e atrasada de uma função $f(x)$ definida no ponto de interesse $x$, para determinar $f(x+h)$ e $f(x-h)$, sendo $h$ uma quantidade pequena:\n",
    "\n",
    "$$\n",
    "f(x+h) = f(x)+ h f'(x)+\\frac{h^2}{2}f''(x)+\\frac{h^3}{3!}f'''(x)+\\frac{h^4}{3!}f^{(4)}(x)+ \\cdots. \\qquad (2)\n",
    "$$\n",
    "\n",
    "Isolando $f'(x)$ em (2) obtemos \n",
    "\n",
    "$$\n",
    "f'(x) = \\frac{f(x+h)-f(x)}{h}- \\frac{1}{h}\\left(\\frac{h^2}{2}f''(x)+\\frac{h^3}{3!}f'''(x)+\\frac{h^4}{3!}f^{(4)}(x)+ \\cdots\\right). \\qquad (3)\n",
    "$$\n",
    " ou \n",
    "$$\n",
    "f'(x) = \\frac{f(x+h)-f(x)}{h}+O(h)\\,, \\qquad (4)\n",
    "$$\n",
    "sendo\n",
    "$$\n",
    "O(h) = -\\left(\\frac{h}{2}f''(x)+\\frac{h^2}{3!}f'''(x)+\\frac{h^2}{3!}f^{(4)}(x)+ \\cdots\\right) . \\qquad (4)\n",
    "$$\n",
    "\n",
    " Quanto menor o valor de $h$ melhor será a aproximação, a não ser que o limite de precisão computacional seja alcançado. A notação $O(h^n)$ será usada daqui em diante para denotar o grau menor grau $n$ da potência de  $h$ entre todos os termos. Este termo é o erro da aproximação e a maior contribuição para o erro vem da menor potência de $h$.  \n",
    "\n",
    "Uma aproximação a partir de (4) é então dada por pela diferença finita avançada: \n",
    "\n",
    "$$\n",
    "f'(x) \\approx \\frac{f(x+h)-f(x)}{h}. \\qquad (6)\n",
    "$$\n",
    "\n",
    "Façamos agora a expansão em série de Taylor atrasada:\n",
    "\n",
    "$$\n",
    "f(x-h) = f(x)- h f'(x)+\\frac{h^2}{2}f''(x)-\\frac{h^3}{3!}f'''(x)+\\frac{h^4}{3!}f^{(4)}(x)+ \\cdots. \\qquad (7)\n",
    "$$\n",
    "\n",
    "A partir desta expressão obtemos a fórmula de diferença finita atrasada:\n",
    "$$\n",
    "f'(x) = \\frac{f(x)-f(x-h)}{h}+O(h)\\,, \\qquad (8)\n",
    "$$\n",
    "\n",
    "$$\n",
    "f'(x) \\approx \\frac{f(x)-f(x-h)}{h}\\,.  \\qquad (9)\n",
    "$$\n",
    "\n",
    "Podemos obter uma outra expressão para f'(x) subtraímos (7) de (2) e obtemos\n",
    "\n",
    "$$\n",
    "f(x+h)-f(x-h) = 2hf'(x)+2\\frac{h^3}{3!}f'''(x)+\\cdots . \\qquad (10)\n",
    "$$\n",
    "\n",
    "Isolando $f'(x)$ obtemos  chamada fórmula de diferença finita central:\n",
    "\n",
    "$$\n",
    "f'(x) = \\frac{f(x+h)-f(x-h)}{2h}+O(h^2)\\,. \\qquad (11)\n",
    "$$\n",
    "\n",
    "Notemos que agora o erro é de ordem $O(h^2)$. Façamos uma implementação destes métodos:\n"
   ]
  },
  {
   "cell_type": "code",
   "execution_count": 13,
   "metadata": {},
   "outputs": [],
   "source": [
    "def derivada(f,a,method='central',h=0.01):\n",
    "    if method == 'central':\n",
    "        return (f(a + h) - f(a - h))/(2*h)\n",
    "    elif method == 'forward':\n",
    "        return (f(a + h) - f(a))/h\n",
    "    elif method == 'backward':\n",
    "        return (f(a) - f(a - h))/h\n",
    "    else:\n",
    "        raise ValueError(\"Método deve ser  'central', 'forward' or 'backward'.\")"
   ]
  },
  {
   "cell_type": "markdown",
   "metadata": {},
   "source": [
    "Neste programa, se não for indicado o método nem $h$, a diferença finita central e $h=0.01$ são automaticamente escolhidos. Façamos um teste calculando a derivada de $f(x)=x^3+x$ em $x=1$. É fácil verificar que $f'(x) = 3x^2+1$ e $f'(1)=4$."
   ]
  },
  {
   "cell_type": "code",
   "execution_count": 16,
   "metadata": {},
   "outputs": [],
   "source": [
    " def f(x):\n",
    "        return x**3+x"
   ]
  },
  {
   "cell_type": "code",
   "execution_count": 18,
   "metadata": {},
   "outputs": [
    {
     "data": {
      "image/png": "[encoded data removed]",
      "text/latex": [
       "$\\displaystyle 4.00300099999962$"
      ],
      "text/plain": [
       "4.0030009999996174"
      ]
     },
     "execution_count": 18,
     "metadata": {},
     "output_type": "execute_result"
    }
   ],
   "source": [
    "derivada(f,1,method='forward',h=0.001)"
   ]
  },
  {
   "cell_type": "markdown",
   "metadata": {},
   "source": [
    "Examinemos o erro cometido:"
   ]
  },
  {
   "cell_type": "code",
   "execution_count": 21,
   "metadata": {},
   "outputs": [
    {
     "data": {
      "image/png": "[encoded data removed]",
      "text/latex": [
       "$\\displaystyle 0.00300099999961745$"
      ],
      "text/plain": [
       "0.0030009999996174486"
      ]
     },
     "execution_count": 21,
     "metadata": {},
     "output_type": "execute_result"
    }
   ],
   "source": [
    "erro1= abs(4 - derivada(f,1,method='forward',h=0.001))\n",
    "erro1"
   ]
  },
  {
   "cell_type": "markdown",
   "metadata": {},
   "source": [
    "Usemos agora a fórmula para o método central, de ordem $O(h^2)$:"
   ]
  },
  {
   "cell_type": "code",
   "execution_count": 24,
   "metadata": {},
   "outputs": [
    {
     "data": {
      "image/png": "[encoded data removed]",
      "text/latex": [
       "$\\displaystyle 4.00000099999986$"
      ],
      "text/plain": [
       "4.000000999999864"
      ]
     },
     "execution_count": 24,
     "metadata": {},
     "output_type": "execute_result"
    }
   ],
   "source": [
    "derivada(f,1,method='central',h=0.001)"
   ]
  },
  {
   "cell_type": "markdown",
   "metadata": {},
   "source": [
    "O erro cometido é agora dado por:"
   ]
  },
  {
   "cell_type": "code",
   "execution_count": 27,
   "metadata": {},
   "outputs": [
    {
     "data": {
      "image/png": "[encoded data removed]",
      "text/latex": [
       "$\\displaystyle 9.9999986424848 \\cdot 10^{-7}$"
      ],
      "text/plain": [
       "9.999998642484798e-07"
      ]
     },
     "execution_count": 27,
     "metadata": {},
     "output_type": "execute_result"
    }
   ],
   "source": [
    "erro2= abs(4 - derivada(f,1,method='central',h=0.001))\n",
    "erro2"
   ]
  },
  {
   "cell_type": "markdown",
   "metadata": {},
   "source": [
    "Para que o método da diferença finita avançada tenha a mesma acurácia que o método central, devemos usar $h^2=(0.001)^2=10^{-6}$. De fato,"
   ]
  },
  {
   "cell_type": "code",
   "execution_count": 30,
   "metadata": {},
   "outputs": [
    {
     "data": {
      "image/png": "[encoded data removed]",
      "text/latex": [
       "$\\displaystyle 2.99993763519524 \\cdot 10^{-6}$"
      ],
      "text/plain": [
       "2.999937635195238e-06"
      ]
     },
     "execution_count": 30,
     "metadata": {},
     "output_type": "execute_result"
    }
   ],
   "source": [
    "erro3= abs(4 - derivada(f,1,method='forward',h=0.001**2))\n",
    "erro3"
   ]
  },
  {
   "cell_type": "markdown",
   "metadata": {},
   "source": [
    "Usando a fórmula de diferença finita atrasada temos "
   ]
  },
  {
   "cell_type": "code",
   "execution_count": 37,
   "metadata": {},
   "outputs": [
    {
     "data": {
      "image/png": "[encoded data removed]",
      "text/latex": [
       "$\\displaystyle 2.99992963448403 \\cdot 10^{-6}$"
      ],
      "text/plain": [
       "2.999929634484033e-06"
      ]
     },
     "execution_count": 37,
     "metadata": {},
     "output_type": "execute_result"
    }
   ],
   "source": [
    "erro4= abs(4 - derivada(f,1,method='backward',h=0.001**2))\n",
    "erro4"
   ]
  },
  {
   "cell_type": "markdown",
   "metadata": {},
   "source": [
    "Somando (2) e (7) e isolando $f''(x)$ obtemos diferença finita central para a segunda derivada:\n",
    "\n",
    "$$\n",
    "f''(x) = \\frac{f(x+h)-2f(x)+f(x-h)}{h^2}+O(h^2)\\,. \\qquad (12)\n",
    "$$\n",
    "\n",
    "Implementemos este método: "
   ]
  },
  {
   "cell_type": "code",
   "execution_count": 40,
   "metadata": {},
   "outputs": [],
   "source": [
    "def derivada2(f,a,h=0.01):\n",
    "        return (f(a+h) -2*f(a)+ f(a-h))/h**2"
   ]
  },
  {
   "cell_type": "markdown",
   "metadata": {},
   "source": [
    "Testemos esta função em $f(x)=x^3+3x$ avaliado em $x=1$. O resultado exato é $f''(1)=6$. "
   ]
  },
  {
   "cell_type": "code",
   "execution_count": 43,
   "metadata": {},
   "outputs": [],
   "source": [
    " def f(x):\n",
    "        return x**3+x"
   ]
  },
  {
   "cell_type": "code",
   "execution_count": 45,
   "metadata": {},
   "outputs": [
    {
     "data": {
      "image/png": "[encoded data removed]",
      "text/latex": [
       "$\\displaystyle 5.9999999995064$"
      ],
      "text/plain": [
       "5.9999999995064"
      ]
     },
     "execution_count": 45,
     "metadata": {},
     "output_type": "execute_result"
    }
   ],
   "source": [
    "derivada2(f,1,h=0.001)"
   ]
  },
  {
   "cell_type": "markdown",
   "metadata": {},
   "source": [
    "Mostramos na tabelas abaixo os coeficiente da aproximações de diferenças finitas de vários tipos: "
   ]
  },
  {
   "cell_type": "markdown",
   "metadata": {},
   "source": [
    "1. Diferenças finitas centrais de  ordem $O(h^2)$:\n",
    "| Termo               | $f(x - 2h)$ | $f(x - h)$ | $f(x)$ | $f(x + h)$ | $f(x + 2h)$ |\n",
    "|----------------------|--------------|-------------|---------|-------------|--------------|\n",
    "| $2h f'(x)$           |              | −1          | 0       | 1           |              |\n",
    "| $h^2 f''(x)$         |              | 1           | −2      | 1           |              |\n",
    "| $2h^3 f'''(x)$       | −1           | 2           | 0       | −2          | 1            |\n",
    "| $h^4 f^{(4)}(x)$     | 1            | −4          | 6       | −4          | 1            |\n"
   ]
  },
  {
   "cell_type": "markdown",
   "metadata": {},
   "source": [
    "2. Diferenças finitas avançadas de  ordem $O(h^2)$:\n",
    " | Termo              | $f(x)$ | $f(x + h)$ | $f(x + 2h)$ | $f(x + 3h)$ | $f(x + 4h)$ |\n",
    "|--------------------|---------|-------------|--------------|--------------|--------------|\n",
    "| $h f'(x)$          | −1      | 1           |              |              |              |\n",
    "| $h^2 f''(x)$       | 1       | −2          | 1            |              |              |\n",
    "| $h^3 f'''(x)$      | −1      | 3           | −3           | 1            |              |\n",
    "| $h^4 f^{(4)}(x)$   | 1       | −4          | 6            | −4           | 1            |\n"
   ]
  },
  {
   "cell_type": "markdown",
   "metadata": {},
   "source": [
    "3. Diferenças finitas atrasadas de  ordem $O(h^2)$:\n",
    "\n",
    "| Termo                | $f(x−5h)$ | $f(x−4h)$ | $f(x−3h)$ | $f(x−2h)$ | $f(x−h)$ | $f(x)$ |\n",
    "|----------------------|----------|----------|----------|----------|---------|-------|\n",
    "| $2hf'(x)$            |          |          |          | 1        | −4      | 3     |\n",
    "| $h^2f''(x)$          |          |          | −1       | 4        | −5      | 2     |\n",
    "| $2h^3f'''(x)$        |          | 3        | −14      | 24       | −18     | 5     |\n",
    "| $h^4f^{(4)}(x)$      | −2       | 11       | −24      | 26       | −14     | 3     |\n"
   ]
  },
  {
   "cell_type": "markdown",
   "metadata": {},
   "source": [
    "### Exemplos"
   ]
  },
  {
   "cell_type": "markdown",
   "metadata": {},
   "source": [
    "1. Consideremos o seguinte conjunto de dados que definem $f(t)$: "
   ]
  },
  {
   "cell_type": "code",
   "execution_count": 56,
   "metadata": {},
   "outputs": [],
   "source": [
    "import numpy as np"
   ]
  },
  {
   "cell_type": "code",
   "execution_count": 58,
   "metadata": {},
   "outputs": [],
   "source": [
    "t = np.array([0.,0.1,0.2,0.3,0.4])\n",
    "f = np.array([0.0000, 0.0819, 0.1341, 0.1646, 0.1797])"
   ]
  },
  {
   "cell_type": "markdown",
   "metadata": {},
   "source": [
    "(i) Determinemos  $f''(0)$ usando diferenças finitas.  Para isso devemos usar a fórmula dada na tabela para diferenças finitas avançadas:\n",
    "\n",
    "$$\n",
    "f''(x)= \\frac{1}{h^2}\\left[2f(x)-5f(x+h)+4f(x+2h)-f(x+3h)\\right]\\,. \\qquad (13)\n",
    "$$"
   ]
  },
  {
   "cell_type": "markdown",
   "metadata": {},
   "source": [
    "Aqui, de acordo com os dados, devemos usar $h=0.1$. Portanto, "
   ]
  },
  {
   "cell_type": "code",
   "execution_count": 62,
   "metadata": {},
   "outputs": [
    {
     "data": {
      "image/png": "[encoded data removed]",
      "text/latex": [
       "$\\displaystyle -3.77$"
      ],
      "text/plain": [
       "-3.769999999999998"
      ]
     },
     "execution_count": 62,
     "metadata": {},
     "output_type": "execute_result"
    }
   ],
   "source": [
    "h = 0.1\n",
    "df2 = (2*f[0]-5*f[1]+4*f[2]-f[3])/h**2\n",
    "df2"
   ]
  },
  {
   "cell_type": "markdown",
   "metadata": {},
   "source": [
    "(ii) Determinemos $f''(0)$ usando ajuste por mínimos quadrados. Visualizemos os dados num gráfico: "
   ]
  },
  {
   "cell_type": "code",
   "execution_count": 65,
   "metadata": {},
   "outputs": [],
   "source": [
    "import matplotlib.pyplot as plt"
   ]
  },
  {
   "cell_type": "code",
   "execution_count": 66,
   "metadata": {},
   "outputs": [
    {
     "data": {
      "text/plain": [
       "Text(0, 0.5, 'f')"
      ]
     },
     "execution_count": 66,
     "metadata": {},
     "output_type": "execute_result"
    },
    {
     "data": {
      "image/png": "[encoded data removed]",
      "text/plain": [
       "<Figure size 640x480 with 1 Axes>"
      ]
     },
     "metadata": {},
     "output_type": "display_data"
    }
   ],
   "source": [
    "plt.plot(t,f,'ro')\n",
    "plt.xlabel('t')\n",
    "plt.ylabel('f')"
   ]
  },
  {
   "cell_type": "code",
   "execution_count": 68,
   "metadata": {},
   "outputs": [],
   "source": [
    "from scipy.optimize import curve_fit"
   ]
  },
  {
   "cell_type": "code",
   "execution_count": 70,
   "metadata": {},
   "outputs": [],
   "source": [
    "def g(t, a, b,c,d):\n",
    "    return a + b*t+c*t**2+d*t**3"
   ]
  },
  {
   "cell_type": "code",
   "execution_count": 71,
   "metadata": {},
   "outputs": [],
   "source": [
    "c, pcov = curve_fit(g, t, f)"
   ]
  },
  {
   "cell_type": "markdown",
   "metadata": {},
   "source": [
    "Portanto, os coeficientes do polinômio ajustado são (em ordem crescente de grau):"
   ]
  },
  {
   "cell_type": "code",
   "execution_count": 73,
   "metadata": {},
   "outputs": [
    {
     "data": {
      "text/plain": [
       "array([ 2.42825032e-05,  9.88297668e-01, -1.82428593e+00,  1.19166694e+00])"
      ]
     },
     "execution_count": 73,
     "metadata": {},
     "output_type": "execute_result"
    }
   ],
   "source": [
    "c"
   ]
  },
  {
   "cell_type": "markdown",
   "metadata": {},
   "source": [
    "É interessante confirmar visualmente o sucesso do ajuste:"
   ]
  },
  {
   "cell_type": "code",
   "execution_count": 79,
   "metadata": {},
   "outputs": [],
   "source": [
    "T = np.linspace(-0.02, 0.41,30)"
   ]
  },
  {
   "cell_type": "code",
   "execution_count": 81,
   "metadata": {},
   "outputs": [
    {
     "data": {
      "text/plain": [
       "Text(0, 0.5, 'f')"
      ]
     },
     "execution_count": 81,
     "metadata": {},
     "output_type": "execute_result"
    },
    {
     "data": {
      "image/png": "[encoded data removed]",
      "text/plain": [
       "<Figure size 640x480 with 1 Axes>"
      ]
     },
     "metadata": {},
     "output_type": "display_data"
    }
   ],
   "source": [
    "plt.plot(t,f,'ro', T, g(T, *c), 'g-')\n",
    "plt.xlabel('t')\n",
    "plt.ylabel('f')"
   ]
  },
  {
   "cell_type": "markdown",
   "metadata": {},
   "source": [
    "Temos agora a função que ajusta os dados, que pode ser diferenciada analiticamente: "
   ]
  },
  {
   "cell_type": "code",
   "execution_count": 84,
   "metadata": {},
   "outputs": [],
   "source": [
    "from sympy import *\n",
    "x = symbols('x')\n",
    "init_printing(use_unicode=True)"
   ]
  },
  {
   "cell_type": "code",
   "execution_count": 86,
   "metadata": {},
   "outputs": [
    {
     "data": {
      "image/png": "[encoded data removed]",
      "text/latex": [
       "$\\displaystyle 1.19166694433452 x^{3} - 1.82428592731028 x^{2} + 0.988297667994999 x + 2.4282503186154 \\cdot 10^{-5}$"
      ],
      "text/plain": [
       "                  3                     2                                     \n",
       "1.19166694433452⋅x  - 1.82428592731028⋅x  + 0.988297667994999⋅x + 2.4282503186\n",
       "\n",
       "      \n",
       "154e-5"
      ]
     },
     "execution_count": 86,
     "metadata": {},
     "output_type": "execute_result"
    }
   ],
   "source": [
    "p = c[0]+c[1]*x+c[2]*x**2+c[3]*x**3\n",
    "p"
   ]
  },
  {
   "cell_type": "code",
   "execution_count": 87,
   "metadata": {},
   "outputs": [
    {
     "data": {
      "image/png": "[encoded data removed]",
      "text/latex": [
       "$\\displaystyle 7.15000166600712 x - 3.64857185462057$"
      ],
      "text/plain": [
       "7.15000166600712⋅x - 3.64857185462057"
      ]
     },
     "execution_count": 87,
     "metadata": {},
     "output_type": "execute_result"
    }
   ],
   "source": [
    "dp = diff(p,x,x)\n",
    "dp"
   ]
  },
  {
   "cell_type": "code",
   "execution_count": 89,
   "metadata": {},
   "outputs": [
    {
     "data": {
      "image/png": "[encoded data removed]",
      "text/latex": [
       "$\\displaystyle -3.64857185462057$"
      ],
      "text/plain": [
       "-3.64857185462057"
      ]
     },
     "execution_count": 89,
     "metadata": {},
     "output_type": "execute_result"
    }
   ],
   "source": [
    "dp.subs(x,0)"
   ]
  },
  {
   "cell_type": "markdown",
   "metadata": {},
   "source": [
    "O valor é numericamente um pouco diferente daquele obtido usando diferenças finitas chama atenção para o fato de que cuidado na avaliação dos resultados é necessária. De qualquer modo, este exemplo tem como objetivo, mais do que outra coisa, estabelecer uma metodologia para a resolução de outros problemas mais realistas. "
   ]
  },
  {
   "cell_type": "markdown",
   "metadata": {},
   "source": [
    "2. Podemos tentar resolver o problema anterior usando interpolação polinomial simples: "
   ]
  },
  {
   "cell_type": "code",
   "execution_count": 94,
   "metadata": {},
   "outputs": [],
   "source": [
    "from scipy.interpolate import lagrange"
   ]
  },
  {
   "cell_type": "code",
   "execution_count": 96,
   "metadata": {},
   "outputs": [
    {
     "data": {
      "text/plain": [
       "poly1d([-0.70833333,  1.75833333, -1.96291667,  0.99841667,  0.        ])"
      ]
     },
     "execution_count": 96,
     "metadata": {},
     "output_type": "execute_result"
    }
   ],
   "source": [
    "F = lagrange(t, f)\n",
    "F"
   ]
  },
  {
   "cell_type": "markdown",
   "metadata": {},
   "source": [
    "Visualizemos graficamente: "
   ]
  },
  {
   "cell_type": "code",
   "execution_count": 99,
   "metadata": {},
   "outputs": [],
   "source": [
    "T = np.linspace(-0.02, 0.41,30)"
   ]
  },
  {
   "cell_type": "code",
   "execution_count": 101,
   "metadata": {},
   "outputs": [
    {
     "data": {
      "text/plain": [
       "[<matplotlib.lines.Line2D at 0x1676aab10>,\n",
       " <matplotlib.lines.Line2D at 0x167999970>]"
      ]
     },
     "execution_count": 101,
     "metadata": {},
     "output_type": "execute_result"
    },
    {
     "data": {
      "image/png": "[encoded data removed]",
      "text/plain": [
       "<Figure size 640x480 with 1 Axes>"
      ]
     },
     "metadata": {},
     "output_type": "display_data"
    }
   ],
   "source": [
    "plt.plot(t,f,'ro', T, F(T), '-')"
   ]
  },
  {
   "cell_type": "markdown",
   "metadata": {},
   "source": [
    "Usando a aproximação de diferença finita (12) obtemos: "
   ]
  },
  {
   "cell_type": "code",
   "execution_count": 104,
   "metadata": {},
   "outputs": [],
   "source": [
    "def derivada2(f,a,h=0.01):\n",
    "        return (F(a+h) -2*F(a)+ F(a-h))/h**2"
   ]
  },
  {
   "cell_type": "code",
   "execution_count": 106,
   "metadata": {},
   "outputs": [
    {
     "data": {
      "image/png": "[encoded data removed]",
      "text/latex": [
       "$\\displaystyle -3.92597499999998$"
      ],
      "text/plain": [
       "-3.925974999999977"
      ]
     },
     "execution_count": 106,
     "metadata": {},
     "output_type": "execute_result"
    }
   ],
   "source": [
    "derivada2(F,0,h=0.01)"
   ]
  },
  {
   "cell_type": "markdown",
   "metadata": {},
   "source": [
    "Podemos também diferenciar analiticamente o polinômio: "
   ]
  },
  {
   "cell_type": "code",
   "execution_count": 109,
   "metadata": {},
   "outputs": [
    {
     "data": {
      "image/png": "[encoded data removed]",
      "text/latex": [
       "$\\displaystyle 1.75833333333327 x^{3} - 1.96291666666666 x^{2} + 0.998416666666666 x$"
      ],
      "text/plain": [
       "                  3                     2                      \n",
       "1.75833333333327⋅x  - 1.96291666666666⋅x  + 0.998416666666666⋅x"
      ]
     },
     "execution_count": 109,
     "metadata": {},
     "output_type": "execute_result"
    }
   ],
   "source": [
    "pL = F[0]+F[1]*x+F[2]*x**2+F[3]*x**3\n",
    "pL"
   ]
  },
  {
   "cell_type": "code",
   "execution_count": 110,
   "metadata": {},
   "outputs": [
    {
     "data": {
      "image/png": "[encoded data removed]",
      "text/latex": [
       "$\\displaystyle 10.5499999999996 x - 3.92583333333332$"
      ],
      "text/plain": [
       "10.5499999999996⋅x - 3.92583333333332"
      ]
     },
     "execution_count": 110,
     "metadata": {},
     "output_type": "execute_result"
    }
   ],
   "source": [
    "dpL = diff(pL,x,x)\n",
    "dpL"
   ]
  },
  {
   "cell_type": "code",
   "execution_count": 113,
   "metadata": {},
   "outputs": [
    {
     "data": {
      "image/png": "[encoded data removed]",
      "text/latex": [
       "$\\displaystyle -3.92583333333332$"
      ],
      "text/plain": [
       "-3.92583333333332"
      ]
     },
     "execution_count": 113,
     "metadata": {},
     "output_type": "execute_result"
    }
   ],
   "source": [
    "dpL.subs(x,0)"
   ]
  },
  {
   "cell_type": "markdown",
   "metadata": {},
   "source": [
    "### 2. Extrapolação de Richardson"
   ]
  },
  {
   "cell_type": "markdown",
   "metadata": {},
   "source": [
    "O método de extrapolação de Richardson permite melhorar a acurácia de certos processos numéricos e acelerar a computação de séries numéricas de convergência lenta. Suponhamos que temos um meio aproximado para computar uma quantidade $G$. Além disso, vamos supor que o resultado da aproximação depende um parâmetro $h$ (tal como acontece nas aproximações por diferenças finitas). Denotemos a aproximação por $g(h)$, de modo que \n",
    "\n",
    "$$\n",
    "G=g(h)+E(h)\\,,\\qquad (14)\n",
    "$$\n",
    "\n",
    "sendo $E(h)$ o erro. A extrapolação de Richardson consegue remover o erro, contanto que ele seja da forma $E=ch^p$, sendo $c$ e $p$ constantes, ou seja, \n",
    "\n",
    "$$\n",
    "G=g(h)+c h^p\\,.\n",
    "$$\n",
    "\n",
    "Notemos que a suposição é a de que o erro é proporcional a um termo com fator dominante $h^p$, sendo a constante de proporcionalidade $c$ em princípio desconhecida.  Os outros termos de grau superior a $p$ não estão contabilizados. Eliminar o erro de orderm $O(h^p)$ significa determinar $c$ em termos de quantidades conhecidas, ou seja, incorporar este termo ao cálculo de $G$. Para isso, começamos computando $g(h)$ com algum valor de $h$, digamos, $h=h_1$. Temos então\n",
    "\n",
    "$$\n",
    "G= g(h_1)+ch_1^p\\,.\\qquad (15)\n",
    "$$\n",
    "\n",
    "\n",
    "Repetimos agora o cálculo com $h=h_2$, de modo que \n",
    "\n",
    "$$\n",
    "G = g(h_2)+ch_2^p\\,.\\qquad (16)\n",
    "$$\n",
    "\n",
    "Eliminando $c$ de (16) temos\n",
    "\n",
    "$$\n",
    "c = \\frac{G-g(h_2)}{h_2^p}\\,.\\qquad (17)\n",
    "$$\n",
    "\n",
    "Substituindo esta expressão em (15) obtemos\n",
    "\n",
    "$$\n",
    "G = g(h_1)+\\frac{G-g(h_2)}{h_2^p}h_1^p\\,,\\qquad (18)\n",
    "$$\n",
    "\n",
    "ou\n",
    "\n",
    "$$\n",
    "G\\left[1-\\left(\\frac{h_1}{h_2}\\right)^p\\right]=g(h_1)-g(h_2)\\left(\\frac{h_1}{h_2}\\right)^p\\,,\\qquad (19)\n",
    "$$\n",
    "\n",
    "de modo que \n",
    "\n",
    "$$\n",
    "G= \\frac{(h_1/h_2)^p g(h_2)-g(h_1)}{(h_1/h_2)^p-1}\\,,\\qquad (20)\n",
    "$$\n",
    "\n",
    "que é a fórmula de extrapolação de Richardson. É comum usarmos $h_2= h_1/2$, de modo que\n",
    "\n",
    "$$\n",
    "G= \\frac{2^p g(h_1/2)-g(h_1)}{2^p-1}\\,.\\qquad (21)\n",
    "$$\n",
    "\n",
    "O erro ainda existe mas agora é de ordem $O(h^{p+1})$ ou superior. Consideremos novamente o exemplo dado anteriormente: "
   ]
  },
  {
   "cell_type": "code",
   "execution_count": 117,
   "metadata": {},
   "outputs": [],
   "source": [
    "t = np.array([0.,0.1,0.2,0.3,0.4])\n",
    "f = np.array([0.0000, 0.0819, 0.1341, 0.1646, 0.1797])"
   ]
  },
  {
   "cell_type": "markdown",
   "metadata": {},
   "source": [
    "Calculemos $f'(0.2)$ usando a aproximação de diferença finita central com $O(h^2)$, ou seja, \n",
    "\n",
    "$$\n",
    "f'(x) = \\frac{f(x+h)-f(x-h)}{2h}+O(h^2)\\,. \\qquad (22)\n",
    "$$\n",
    "\n",
    "ou "
   ]
  },
  {
   "cell_type": "code",
   "execution_count": 120,
   "metadata": {},
   "outputs": [
    {
     "data": {
      "image/png": "[encoded data removed]",
      "text/latex": [
       "$\\displaystyle 0.4135$"
      ],
      "text/plain": [
       "0.4135"
      ]
     },
     "execution_count": 120,
     "metadata": {},
     "output_type": "execute_result"
    }
   ],
   "source": [
    "h = 0.1\n",
    "df1 = (f[3]-f[1])/(2*h)\n",
    "df1"
   ]
  },
  {
   "cell_type": "markdown",
   "metadata": {},
   "source": [
    "Utilizemos agora a extrapolação de Richardson:"
   ]
  },
  {
   "cell_type": "code",
   "execution_count": 123,
   "metadata": {},
   "outputs": [
    {
     "data": {
      "image/png": "[encoded data removed]",
      "text/latex": [
       "$\\displaystyle 0.44925$"
      ],
      "text/plain": [
       "0.44925"
      ]
     },
     "execution_count": 123,
     "metadata": {},
     "output_type": "execute_result"
    }
   ],
   "source": [
    "h = 0.2\n",
    "g1 = (f[4]-f[0])/(2*h)\n",
    "g1"
   ]
  },
  {
   "cell_type": "code",
   "execution_count": 124,
   "metadata": {},
   "outputs": [
    {
     "data": {
      "image/png": "[encoded data removed]",
      "text/latex": [
       "$\\displaystyle 0.4135$"
      ],
      "text/plain": [
       "0.4135"
      ]
     },
     "execution_count": 124,
     "metadata": {},
     "output_type": "execute_result"
    }
   ],
   "source": [
    "h = 0.1\n",
    "g2 = (f[3]-f[1])/(2*h)\n",
    "g2"
   ]
  },
  {
   "cell_type": "markdown",
   "metadata": {},
   "source": [
    "Lembremos que nestas aproximações o erro é da forma $E(h)=c_1h^2+c_2h^4+\\cdots$. A extrapolação elimina o termo dominante de erro, proporcional a $h^2$. "
   ]
  },
  {
   "cell_type": "code",
   "execution_count": 128,
   "metadata": {},
   "outputs": [
    {
     "data": {
      "image/png": "[encoded data removed]",
      "text/latex": [
       "$\\displaystyle 0.401583333333333$"
      ],
      "text/plain": [
       "0.40158333333333335"
      ]
     },
     "execution_count": 128,
     "metadata": {},
     "output_type": "execute_result"
    }
   ],
   "source": [
    "p=2\n",
    "G= (2**p*g2-g1)/(2**p-1)\n",
    "G"
   ]
  },
  {
   "cell_type": "markdown",
   "metadata": {},
   "source": [
    "que é a aproximação  diferença finita de ordem $O(h^4)$. "
   ]
  },
  {
   "cell_type": "markdown",
   "metadata": {},
   "source": [
    "### Exercícios"
   ]
  },
  {
   "cell_type": "markdown",
   "metadata": {},
   "source": [
    "**1.** Sejam os dados mostrados na seguinte tabela:\n",
    "\n",
    "<table>\n",
    "  <tr>\n",
    "    <td><i>$t$</i></td>\n",
    "    <td>0.0</td>\n",
    "    <td>0.1</td>\n",
    "    <td>0.2</td>\n",
    "    <td>0.3</td>\n",
    "    <td>0.4</td>\n",
    "  </tr>\n",
    "  <tr>\n",
    "    <td><i>$f(t)$</i></td>\n",
    "    <td>0.0000</td>\n",
    "    <td>0.0819</td>\n",
    "    <td>0.1341</td>\n",
    "    <td>0.1646</td>\n",
    "    <td>0.1797</td>\n",
    "  </tr>\n",
    "</table>"
   ]
  },
  {
   "cell_type": "markdown",
   "metadata": {},
   "source": [
    "determine $f'(0.25)$ usando interpolação polinomial. "
   ]
  },
  {
   "cell_type": "markdown",
   "metadata": {},
   "source": [
    "**2.** Use interpolação polinomial para determinar  $f'(0)$ e $f''(0)$ usando os dados:\n",
    "\n",
    "<table style=\"border-collapse: collapse; text-align: center;\">\n",
    "  <tr>\n",
    "    <td><i>$x$</i></td>\n",
    "    <td>-2.2</td>\n",
    "    <td>-0.3</td>\n",
    "    <td>0.8</td>\n",
    "    <td>1.9</td>\n",
    "  </tr>\n",
    "  <tr>\n",
    "    <td><i>$f(x)$</i></td>\n",
    "    <td>15.180</td>\n",
    "    <td>10.962</td>\n",
    "    <td>1.920</td>\n",
    "    <td>-2.040</td>\n",
    "  </tr>\n",
    "</table>"
   ]
  },
  {
   "cell_type": "markdown",
   "metadata": {},
   "source": [
    "**3.** Repita o problema anterior usando ajuste (determine uma função de ajuste conveniente)."
   ]
  },
  {
   "cell_type": "markdown",
   "metadata": {},
   "source": [
    "**4.** \n",
    "Use aproximações por diferenças finitas de ordem $O(h^2)$ para calcular $f'(2{,}36)$ e $f''(2{,}36)$ a partir dos seguintes dados:\n",
    "\n",
    "| $x$   | 2,36   | 2,37   | 2,38   | 2,39   |\n",
    "|-------|--------|--------|--------|--------|\n",
    "| $f(x)$ | 0,85866 | 0,86289 | 0,86710 | 0,87129 |\n",
    "\n",
    "**5.**\n",
    "Estime $f'(1)$ e $f''(1)$ a partir dos seguintes dados:\n",
    "\n",
    "| $x$   | 0,97   | 1,00   | 1,05   |\n",
    "|-------|--------|--------|--------|\n",
    "| $f(x)$ | 0,85040 | 0,84147 | 0,82612 |\n",
    "\n",
    "**6.**\n",
    "Dados os valores:\n",
    "\n",
    "| $x$   | 0,84   | 0,92   | 1,00   | 1,08   | 1,16   |\n",
    "|-------|--------|--------|--------|--------|--------|\n",
    "| $f(x)$ | 0,431711 | 0,398519 | 0,367879 | 0,339596 | 0,313486 |\n",
    "\n",
    "calcule $f''(1)$ da forma mais precisa possível.\n",
    "\n",
    "**7.**\n",
    "Use os dados da tabela para calcular $f'(0{,}2)$ da forma mais precisa possível:\n",
    "\n",
    "| $x$   | 0,0   | 0,1   | 0,2   | 0,3   | 0,4   |\n",
    "|-------|-------|-------|-------|-------|-------|\n",
    "| $f(x)$ | 0,000000 | 0,078348 | 0,138910 | 0,192916 | 0,244981 |\n",
    "\n",
    "**8.**\n",
    "Use interpolação polinomial para calcular $f'(0)$ e $f''(0)$, utilizando os seguintes dados:\n",
    "\n",
    "| $x$   | −2.2   | −0.3   | 0.8   | 1.9   |\n",
    "|-------|--------|--------|--------|--------|\n",
    "| $f(x)$ | 15.180 | 10.962 | 1.920 | −2.040 |\n"
   ]
  },
  {
   "cell_type": "markdown",
   "metadata": {},
   "source": [
    "**9.** Rastreamento por radar. As estações de radar **A** e **B**, separadas por uma distância $a = 500\\,\\text{m}$, rastreiam o avião **C** registrando os ângulos $\\alpha$ e $\\beta$ em intervalos de um segundo. Um diagrama esquemático do problema é mostrado na Figura  1 ([1], p.197). \n",
    "\n",
    "<figure style=\"text-align:center;\">\n",
    "  <img src=\"radar.png\" alt=\"Radar diagram\" width=\"250\">\n",
    "  <figcaption>Figura 1 –  Geometria do radar mostrando os ângulos $\\alpha$, $\\beta$ e $\\gamma$.</figcaption>\n",
    "</figure>\n",
    "\n",
    "Se três leituras sucessivas são dadas por:\n",
    "\n",
    "| $t$ (s) | 9 | 10 | 11 |\n",
    "|----------|----|----|----|\n",
    "| $\\alpha$ | 54.80° | 54.06° | 53.34° |\n",
    "| $\\beta$  | 65.59° | 64.59° | 63.62° |\n",
    "\n",
    "Calcule a *velocidade* $v$ do avião e o *ângulo de subida* $\\gamma$ no instante $t = 10\\,\\text{s}$.\n",
    "\n",
    "As coordenadas do avião podem ser expressas por:\n",
    "\n",
    "$$\n",
    "x = a \\, \\frac{\\tan \\beta}{\\tan \\beta - \\tan \\alpha}, \\qquad\n",
    "y = a \\, \\frac{\\tan \\alpha \\, \\tan \\beta}{\\tan \\beta - \\tan \\alpha}.\n",
    "$$"
   ]
  },
  {
   "cell_type": "markdown",
   "metadata": {},
   "source": [
    "**10.**\n",
    "A relação entre a tensão $\\sigma$ e a deformação $\\varepsilon$ em tração uniaxial é\n",
    "\n",
    "$$\n",
    "\\frac{d\\sigma}{d\\varepsilon} = a + b\\,\\sigma\\,,\n",
    "$$\n",
    "\n",
    "sendo $a$ e $b$  constantes ( $\\frac{d\\sigma}{d\\varepsilon}$ é o *módulo tangente* ).\n",
    "\n",
    "A tabela a seguir apresenta os resultados de um ensaio de tração nesse material:\n",
    "\n",
    "| Deformação $\\varepsilon$ | Tensão $\\sigma$ (MPa) |\n",
    "|--------------------------|------------------------|\n",
    "| 0.00 | 0.000 |\n",
    "| 0.05 | 0.252 |\n",
    "| 0.10 | 0.531 |\n",
    "| 0.15 | 0.840 |\n",
    "| 0.20 | 1.184 |\n",
    "| 0.25 | 1.558 |\n",
    "| 0.30 | 1.975 |\n",
    "| 0.35 | 2.444 |\n",
    "| 0.40 | 2.943 |\n",
    "| 0.45 | 3.500 |\n",
    "| 0.50 | 4.115 |\n",
    "\n",
    "Determine os parâmetros $a$ e $b$ por regressão linear.\n"
   ]
  },
  {
   "cell_type": "markdown",
   "metadata": {},
   "source": []
  },
  {
   "cell_type": "markdown",
   "metadata": {},
   "source": [
    "### Referências\n",
    "\n",
    "1. Jaan Kiusalaas, Numerical Methods in Engineering with Python 3, Cambridge University Press, 2013.\n",
    "2. Alex, Gezerlis, Numerical Methods in Physics with Python, Cambridge University Press, 2020. "
   ]
  },
  {
   "cell_type": "code",
   "execution_count": null,
   "metadata": {},
   "outputs": [],
   "source": []
  }
 ],
 "metadata": {
  "kernelspec": {
   "display_name": "Python 3 (ipykernel)",
   "language": "python",
   "name": "python3"
  },
  "language_info": {
   "codemirror_mode": {
    "name": "ipython",
    "version": 3
   },
   "file_extension": ".py",
   "mimetype": "text/x-python",
   "name": "python",
   "nbconvert_exporter": "python",
   "pygments_lexer": "ipython3",
   "version": "3.12.4"
  },
  "panel-cell-order": [
   "d34a7dd0",
   "d1845216",
   "9e9ae685",
   "dfbcf1c8",
   "fe8bc313",
   "719c454f",
   "57466670",
   "c39285b9",
   "1d4862bf",
   "db85e637",
   "d35fb223",
   "ad1ff488",
   "763efcf2",
   "e2372891",
   "68470c6a",
   "b63e8a30",
   "cb9d7c5d",
   "b4da4846",
   "af2463de",
   "c078645a",
   "1d5c0ca4",
   "ffb03a2d",
   "81021da3",
   "cdac5259",
   "97bada7e",
   "54abdc00",
   "44392c50",
   "8c0ced31",
   "64c8694b",
   "2829a826",
   "2adf5116",
   "b8fe025a",
   "d2a346fe",
   "4493b85e",
   "784cd721",
   "fc361a81",
   "cc2e3a16",
   "d8e4cebd",
   "1d283572",
   "90018c38",
   "0b7fe47f",
   "cade0a5d",
   "a76b13ec",
   "c7908f52",
   "e78f83c1",
   "7477dafa",
   "e3d652b0",
   "7ce4bc16",
   "7de1446e",
   "dcd02459",
   "c439cdb8",
   "b50cb750",
   "30fc955b",
   "011137e8",
   "d28998ce",
   "60c52201",
   "a7f6c15e",
   "999af2db",
   "5286e037",
   "4ec727b7",
   "7812d26b",
   "0a9a9421",
   "5ebe837f",
   "ba13c0d5",
   "afff08b2",
   "7335d91c",
   "e80be863",
   "f762829e",
   "2cea6019",
   "94d7eca6",
   "e9687418",
   "c5bc1748",
   "443e9c59",
   "2c2a0a29",
   "b098b7a1"
  ]
 },
 "nbformat": 4,
 "nbformat_minor": 4
}
