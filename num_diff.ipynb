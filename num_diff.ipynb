{
 "cells": [
  {
   "cell_type": "markdown",
   "id": "612bc199",
   "metadata": {
    "papermill": {
     "duration": 0.011186,
     "end_time": "2025-10-09T16:59:28.497911",
     "exception": false,
     "start_time": "2025-10-09T16:59:28.486725",
     "status": "completed"
    },
    "tags": []
   },
   "source": [
    "<center><h1>Cálculo Numérico</h1></center>\n",
    "<center><h2>ANN0001 2025/2</h2></center>\n",
    "<center><h3>Prof. Fernando Deeke Sasse - CCT, UDESC</h3></center>    \n",
    "<center><h2>Diferenciação Numérica</h2> </center>"
   ]
  },
  {
   "cell_type": "markdown",
   "id": "97fc950c",
   "metadata": {
    "papermill": {
     "duration": 0.009627,
     "end_time": "2025-10-09T16:59:28.517761",
     "exception": false,
     "start_time": "2025-10-09T16:59:28.508134",
     "status": "completed"
    },
    "tags": []
   },
   "source": [
    "### 1. Diferenças Finitas"
   ]
  },
  {
   "cell_type": "markdown",
   "id": "10702e20",
   "metadata": {
    "papermill": {
     "duration": 0.009446,
     "end_time": "2025-10-09T16:59:28.537167",
     "exception": false,
     "start_time": "2025-10-09T16:59:28.527721",
     "status": "completed"
    },
    "tags": []
   },
   "source": [
    "Nosso problema consiste em calcular a derivada de uma função definida por $f(x)$, denotada por $f'(x)$, para um dado valor específico $x$. Se tivermos uma expressão analítica para $f(x)$ o problema é relativamente simples. Se a expressão é muito complicada podemos usar o módulo simbólico simpy do Python. Por exemplo, suponhamos que \n",
    "\n",
    "$$\n",
    "f(x)= \\exp\\left(\\frac{\\sin(x^2)}{x}\\right) \\qquad (1)\n",
    "$$\n",
    "\n",
    "Então para diferenciar esta função podemos proceder do modo descrito a seguir. "
   ]
  },
  {
   "cell_type": "code",
   "execution_count": 1,
   "id": "80a70646",
   "metadata": {
    "execution": {
     "iopub.execute_input": "2025-10-09T16:59:28.558720Z",
     "iopub.status.busy": "2025-10-09T16:59:28.557947Z",
     "iopub.status.idle": "2025-10-09T16:59:31.579503Z",
     "shell.execute_reply": "2025-10-09T16:59:31.578487Z"
    },
    "papermill": {
     "duration": 3.034403,
     "end_time": "2025-10-09T16:59:31.581412",
     "exception": false,
     "start_time": "2025-10-09T16:59:28.547009",
     "status": "completed"
    },
    "tags": []
   },
   "outputs": [],
   "source": [
    "from sympy import *\n",
    "init_printing()"
   ]
  },
  {
   "cell_type": "code",
   "execution_count": 2,
   "id": "de92cac5",
   "metadata": {
    "execution": {
     "iopub.execute_input": "2025-10-09T16:59:31.603053Z",
     "iopub.status.busy": "2025-10-09T16:59:31.602584Z",
     "iopub.status.idle": "2025-10-09T16:59:31.985551Z",
     "shell.execute_reply": "2025-10-09T16:59:31.984536Z"
    },
    "papermill": {
     "duration": 0.395605,
     "end_time": "2025-10-09T16:59:31.987257",
     "exception": false,
     "start_time": "2025-10-09T16:59:31.591652",
     "status": "completed"
    },
    "tags": []
   },
   "outputs": [
    {
     "data": {
      "text/latex": [
       "$\\displaystyle \\left( x \\mapsto e^{\\frac{\\sin{\\left(x^{2} \\right)}}{x}} \\right)$"
      ],
      "text/plain": [
       "        ⎛ 2⎞\n",
       "     sin⎝x ⎠\n",
       "     ───────\n",
       "        x   \n",
       "x ↦ ℯ       "
      ]
     },
     "execution_count": 2,
     "metadata": {},
     "output_type": "execute_result"
    }
   ],
   "source": [
    "x = symbols('x')\n",
    "f = Lambda(x, exp(sin(x**2)/x))\n",
    "f"
   ]
  },
  {
   "cell_type": "markdown",
   "id": "f90ca0d2",
   "metadata": {
    "papermill": {
     "duration": 0.009979,
     "end_time": "2025-10-09T16:59:32.007869",
     "exception": false,
     "start_time": "2025-10-09T16:59:31.997890",
     "status": "completed"
    },
    "tags": []
   },
   "source": [
    "A derivada pode ser obtida analiticamente do seguinte modo: "
   ]
  },
  {
   "cell_type": "code",
   "execution_count": 3,
   "id": "c5376648",
   "metadata": {
    "execution": {
     "iopub.execute_input": "2025-10-09T16:59:32.029636Z",
     "iopub.status.busy": "2025-10-09T16:59:32.029280Z",
     "iopub.status.idle": "2025-10-09T16:59:32.055081Z",
     "shell.execute_reply": "2025-10-09T16:59:32.054154Z"
    },
    "papermill": {
     "duration": 0.038664,
     "end_time": "2025-10-09T16:59:32.056752",
     "exception": false,
     "start_time": "2025-10-09T16:59:32.018088",
     "status": "completed"
    },
    "tags": []
   },
   "outputs": [
    {
     "data": {
      "text/latex": [
       "$\\displaystyle \\left(2 \\cos{\\left(x^{2} \\right)} - \\frac{\\sin{\\left(x^{2} \\right)}}{x^{2}}\\right) e^{\\frac{\\sin{\\left(x^{2} \\right)}}{x}}$"
      ],
      "text/plain": [
       "                          ⎛ 2⎞\n",
       "                       sin⎝x ⎠\n",
       "⎛               ⎛ 2⎞⎞  ───────\n",
       "⎜     ⎛ 2⎞   sin⎝x ⎠⎟     x   \n",
       "⎜2⋅cos⎝x ⎠ - ───────⎟⋅ℯ       \n",
       "⎜               2   ⎟         \n",
       "⎝              x    ⎠         "
      ]
     },
     "execution_count": 3,
     "metadata": {},
     "output_type": "execute_result"
    }
   ],
   "source": [
    "df=f(x).diff(x)\n",
    "df"
   ]
  },
  {
   "cell_type": "markdown",
   "id": "45db85b0",
   "metadata": {
    "papermill": {
     "duration": 0.00996,
     "end_time": "2025-10-09T16:59:32.077175",
     "exception": false,
     "start_time": "2025-10-09T16:59:32.067215",
     "status": "completed"
    },
    "tags": []
   },
   "source": [
    "Em muitos casos, no entanto, temos que diferenciar uma função  que é definida por valores discretos de uma tabela especificando pares $(x_i, f_i)$. Para resolver tal problema poderíamos usar interpolação ou ajustes, de modo a produzir uma função que se ajusta bem aos dados. Sobre esta função poderíamos aplicar então os métodos analíticos. Tal técnica é útil quando temos dados que possuem um alto grau de ruído. Em alguns casos, no entanto, tal função aproximada falha na captura da informação crucial do valor da derivada de uma função num dado ponto e no erro associado a tal estimativa. Neste caso é mais interessante utilizar a técnica que descreveremos aqui, chamada diferenças finitas. Ela também é útil discretização de equações diferenciais. Veja as referências [1] e [2] para um estudo mais aprofundado.  \n",
    "\n",
    "A ideia da aproximação por diferenças finitas consiste em partir de expansões em séries de Taylor avançada e atrasada de uma função $f(x)$ definida no ponto de interesse $x$, para determinar $f(x+h)$ e $f(x-h)$, sendo $h$ uma quantidade pequena:\n",
    "\n",
    "$$\n",
    "f(x+h) = f(x)+ h f'(x)+\\frac{h^2}{2}f''(x)+\\frac{h^3}{3!}f'''(x)+\\frac{h^4}{3!}f^{(4)}(x)+ \\cdots. \\qquad (2)\n",
    "$$\n",
    "\n",
    "Isolando $f'(x)$ em (2) obtemos \n",
    "\n",
    "$$\n",
    "f'(x) = \\frac{f(x+h)-f(x)}{h}- \\frac{1}{h}\\left(\\frac{h^2}{2}f''(x)+\\frac{h^3}{3!}f'''(x)+\\frac{h^4}{3!}f^{(4)}(x)+ \\cdots\\right). \\qquad (3)\n",
    "$$\n",
    " ou \n",
    "$$\n",
    "f'(x) = \\frac{f(x+h)-f(x)}{h}+O(h)\\,, \\qquad (4)\n",
    "$$\n",
    "sendo\n",
    "$$\n",
    "O(h) = -\\left(\\frac{h}{2}f''(x)+\\frac{h^2}{3!}f'''(x)+\\frac{h^2}{3!}f^{(4)}(x)+ \\cdots\\right) . \\qquad (4)\n",
    "$$\n",
    "\n",
    " Quanto menor o valor de $h$ melhor será a aproximação, a não ser que o limite de precisão computacional seja alcançado. A notação $O(h^n)$ será usada daqui em diante para denotar o grau menor grau $n$ da potência de  $h$ entre todos os termos. Este termo é o erro da aproximação e a maior contribuição para o erro vem da menor potência de $h$.  \n",
    "\n",
    "Uma aproximação a partir de (4) é então dada por pela diferença finita avançada: \n",
    "\n",
    "$$\n",
    "f'(x) \\approx \\frac{f(x+h)-f(x)}{h}. \\qquad (6)\n",
    "$$\n",
    "\n",
    "Façamos agora a expansão em série de Taylor atrasada:\n",
    "\n",
    "$$\n",
    "f(x-h) = f(x)- h f'(x)+\\frac{h^2}{2}f''(x)-\\frac{h^3}{3!}f'''(x)+\\frac{h^4}{3!}f^{(4)}(x)+ \\cdots. \\qquad (7)\n",
    "$$\n",
    "\n",
    "A partir desta expressão obtemos a fórmula de diferença finita atrasada:\n",
    "$$\n",
    "f'(x) = \\frac{f(x)-f(x-h)}{h}+O(h)\\,, \\qquad (8)\n",
    "$$\n",
    "\n",
    "$$\n",
    "f'(x) \\approx \\frac{f(x)-f(x-h)}{h}\\,.  \\qquad (9)\n",
    "$$\n",
    "\n",
    "Podemos obter uma outra expressão para f'(x) subtraímos (7) de (2) e obtemos\n",
    "\n",
    "$$\n",
    "f(x+h)-f(x-h) = 2hf'(x)+2\\frac{h^3}{3!}f'''(x)+\\cdots . \\qquad (10)\n",
    "$$\n",
    "\n",
    "Isolando $f'(x)$ obtemos  chamada fórmula de diferença finita central:\n",
    "\n",
    "$$\n",
    "f'(x) = \\frac{f(x+h)-f(x-h)}{2h}+O(h^2)\\,. \\qquad (11)\n",
    "$$\n",
    "\n",
    "Notemos que agora o erro é de ordem $O(h^2)$. Façamos uma implementação destes métodos:\n"
   ]
  },
  {
   "cell_type": "code",
   "execution_count": 4,
   "id": "28fefc0f",
   "metadata": {
    "execution": {
     "iopub.execute_input": "2025-10-09T16:59:32.099640Z",
     "iopub.status.busy": "2025-10-09T16:59:32.099230Z",
     "iopub.status.idle": "2025-10-09T16:59:32.105544Z",
     "shell.execute_reply": "2025-10-09T16:59:32.104489Z"
    },
    "papermill": {
     "duration": 0.019531,
     "end_time": "2025-10-09T16:59:32.107267",
     "exception": false,
     "start_time": "2025-10-09T16:59:32.087736",
     "status": "completed"
    },
    "tags": []
   },
   "outputs": [],
   "source": [
    "def derivada(f,a,method='central',h=0.01):\n",
    "    if method == 'central':\n",
    "        return (f(a + h) - f(a - h))/(2*h)\n",
    "    elif method == 'forward':\n",
    "        return (f(a + h) - f(a))/h\n",
    "    elif method == 'backward':\n",
    "        return (f(a) - f(a - h))/h\n",
    "    else:\n",
    "        raise ValueError(\"Método deve ser  'central', 'forward' or 'backward'.\")"
   ]
  },
  {
   "cell_type": "markdown",
   "id": "906af30b",
   "metadata": {
    "papermill": {
     "duration": 0.010082,
     "end_time": "2025-10-09T16:59:32.127765",
     "exception": false,
     "start_time": "2025-10-09T16:59:32.117683",
     "status": "completed"
    },
    "tags": []
   },
   "source": [
    "Neste programa, se não for indicado o método nem $h$, a diferença finita central e $h=0.01$ são automaticamente escolhidos. Façamos um teste calculando a derivada de $f(x)=x^3+x$ em $x=1$. É fácil verificar que $f'(x) = 3x^2+1$ e $f'(1)=4$."
   ]
  },
  {
   "cell_type": "code",
   "execution_count": 5,
   "id": "1f637678",
   "metadata": {
    "execution": {
     "iopub.execute_input": "2025-10-09T16:59:32.149840Z",
     "iopub.status.busy": "2025-10-09T16:59:32.149444Z",
     "iopub.status.idle": "2025-10-09T16:59:32.154570Z",
     "shell.execute_reply": "2025-10-09T16:59:32.153653Z"
    },
    "papermill": {
     "duration": 0.018268,
     "end_time": "2025-10-09T16:59:32.156409",
     "exception": false,
     "start_time": "2025-10-09T16:59:32.138141",
     "status": "completed"
    },
    "tags": []
   },
   "outputs": [],
   "source": [
    " def f(x):\n",
    "        return x**3+x"
   ]
  },
  {
   "cell_type": "code",
   "execution_count": 6,
   "id": "c15d340d",
   "metadata": {
    "execution": {
     "iopub.execute_input": "2025-10-09T16:59:32.178996Z",
     "iopub.status.busy": "2025-10-09T16:59:32.178671Z",
     "iopub.status.idle": "2025-10-09T16:59:32.186604Z",
     "shell.execute_reply": "2025-10-09T16:59:32.185556Z"
    },
    "papermill": {
     "duration": 0.021019,
     "end_time": "2025-10-09T16:59:32.188167",
     "exception": false,
     "start_time": "2025-10-09T16:59:32.167148",
     "status": "completed"
    },
    "tags": []
   },
   "outputs": [
    {
     "data": {
      "text/latex": [
       "$\\displaystyle 4.00300099999962$"
      ],
      "text/plain": [
       "4.0030009999996174"
      ]
     },
     "execution_count": 6,
     "metadata": {},
     "output_type": "execute_result"
    }
   ],
   "source": [
    "derivada(f,1,method='forward',h=0.001)"
   ]
  },
  {
   "cell_type": "markdown",
   "id": "b9133485",
   "metadata": {
    "papermill": {
     "duration": 0.010185,
     "end_time": "2025-10-09T16:59:32.208946",
     "exception": false,
     "start_time": "2025-10-09T16:59:32.198761",
     "status": "completed"
    },
    "tags": []
   },
   "source": [
    "Examinemos o erro cometido:"
   ]
  },
  {
   "cell_type": "code",
   "execution_count": 7,
   "id": "76426fb3",
   "metadata": {
    "execution": {
     "iopub.execute_input": "2025-10-09T16:59:32.231240Z",
     "iopub.status.busy": "2025-10-09T16:59:32.230924Z",
     "iopub.status.idle": "2025-10-09T16:59:32.238591Z",
     "shell.execute_reply": "2025-10-09T16:59:32.237685Z"
    },
    "papermill": {
     "duration": 0.020847,
     "end_time": "2025-10-09T16:59:32.240084",
     "exception": false,
     "start_time": "2025-10-09T16:59:32.219237",
     "status": "completed"
    },
    "tags": []
   },
   "outputs": [
    {
     "data": {
      "text/latex": [
       "$\\displaystyle 0.00300099999961745$"
      ],
      "text/plain": [
       "0.0030009999996174486"
      ]
     },
     "execution_count": 7,
     "metadata": {},
     "output_type": "execute_result"
    }
   ],
   "source": [
    "erro1= abs(4 - derivada(f,1,method='forward',h=0.001))\n",
    "erro1"
   ]
  },
  {
   "cell_type": "markdown",
   "id": "b00e9578",
   "metadata": {
    "papermill": {
     "duration": 0.010265,
     "end_time": "2025-10-09T16:59:32.261169",
     "exception": false,
     "start_time": "2025-10-09T16:59:32.250904",
     "status": "completed"
    },
    "tags": []
   },
   "source": [
    "Usemos agora a fórmula para o método central, de ordem $O(h^2)$:"
   ]
  },
  {
   "cell_type": "code",
   "execution_count": 8,
   "id": "70a8f600",
   "metadata": {
    "execution": {
     "iopub.execute_input": "2025-10-09T16:59:32.283996Z",
     "iopub.status.busy": "2025-10-09T16:59:32.283664Z",
     "iopub.status.idle": "2025-10-09T16:59:32.292031Z",
     "shell.execute_reply": "2025-10-09T16:59:32.291114Z"
    },
    "papermill": {
     "duration": 0.021714,
     "end_time": "2025-10-09T16:59:32.293604",
     "exception": false,
     "start_time": "2025-10-09T16:59:32.271890",
     "status": "completed"
    },
    "tags": []
   },
   "outputs": [
    {
     "data": {
      "text/latex": [
       "$\\displaystyle 4.00000099999986$"
      ],
      "text/plain": [
       "4.000000999999864"
      ]
     },
     "execution_count": 8,
     "metadata": {},
     "output_type": "execute_result"
    }
   ],
   "source": [
    "derivada(f,1,method='central',h=0.001)"
   ]
  },
  {
   "cell_type": "markdown",
   "id": "7ceeb46c",
   "metadata": {
    "papermill": {
     "duration": 0.010293,
     "end_time": "2025-10-09T16:59:32.314734",
     "exception": false,
     "start_time": "2025-10-09T16:59:32.304441",
     "status": "completed"
    },
    "tags": []
   },
   "source": [
    "O erro cometido é agora dado por:"
   ]
  },
  {
   "cell_type": "code",
   "execution_count": 9,
   "id": "053c7b6e",
   "metadata": {
    "execution": {
     "iopub.execute_input": "2025-10-09T16:59:32.336989Z",
     "iopub.status.busy": "2025-10-09T16:59:32.336707Z",
     "iopub.status.idle": "2025-10-09T16:59:32.343680Z",
     "shell.execute_reply": "2025-10-09T16:59:32.342690Z"
    },
    "papermill": {
     "duration": 0.019971,
     "end_time": "2025-10-09T16:59:32.345290",
     "exception": false,
     "start_time": "2025-10-09T16:59:32.325319",
     "status": "completed"
    },
    "tags": []
   },
   "outputs": [
    {
     "data": {
      "text/latex": [
       "$\\displaystyle 9.9999986424848 \\cdot 10^{-7}$"
      ],
      "text/plain": [
       "9.999998642484798e-07"
      ]
     },
     "execution_count": 9,
     "metadata": {},
     "output_type": "execute_result"
    }
   ],
   "source": [
    "erro2= abs(4 - derivada(f,1,method='central',h=0.001))\n",
    "erro2"
   ]
  },
  {
   "cell_type": "markdown",
   "id": "9ebab758",
   "metadata": {
    "papermill": {
     "duration": 0.010358,
     "end_time": "2025-10-09T16:59:32.366611",
     "exception": false,
     "start_time": "2025-10-09T16:59:32.356253",
     "status": "completed"
    },
    "tags": []
   },
   "source": [
    "Para que o método da diferença finita avançada tenha a mesma acurácia que o método central, devemos usar $h^2=(0.001)^2=10^{-6}$. De fato,"
   ]
  },
  {
   "cell_type": "code",
   "execution_count": 10,
   "id": "a76677cc",
   "metadata": {
    "execution": {
     "iopub.execute_input": "2025-10-09T16:59:32.389125Z",
     "iopub.status.busy": "2025-10-09T16:59:32.388819Z",
     "iopub.status.idle": "2025-10-09T16:59:32.396347Z",
     "shell.execute_reply": "2025-10-09T16:59:32.395431Z"
    },
    "papermill": {
     "duration": 0.020622,
     "end_time": "2025-10-09T16:59:32.397905",
     "exception": false,
     "start_time": "2025-10-09T16:59:32.377283",
     "status": "completed"
    },
    "tags": []
   },
   "outputs": [
    {
     "data": {
      "text/latex": [
       "$\\displaystyle 2.99993763519524 \\cdot 10^{-6}$"
      ],
      "text/plain": [
       "2.999937635195238e-06"
      ]
     },
     "execution_count": 10,
     "metadata": {},
     "output_type": "execute_result"
    }
   ],
   "source": [
    "erro3= abs(4 - derivada(f,1,method='forward',h=0.001**2))\n",
    "erro3"
   ]
  },
  {
   "cell_type": "markdown",
   "id": "cde10c78",
   "metadata": {
    "papermill": {
     "duration": 0.010734,
     "end_time": "2025-10-09T16:59:32.419835",
     "exception": false,
     "start_time": "2025-10-09T16:59:32.409101",
     "status": "completed"
    },
    "tags": []
   },
   "source": [
    "Usando a fórmula de diferença finita atrasada temos "
   ]
  },
  {
   "cell_type": "code",
   "execution_count": 11,
   "id": "402e6f27",
   "metadata": {
    "execution": {
     "iopub.execute_input": "2025-10-09T16:59:32.443039Z",
     "iopub.status.busy": "2025-10-09T16:59:32.442713Z",
     "iopub.status.idle": "2025-10-09T16:59:32.449927Z",
     "shell.execute_reply": "2025-10-09T16:59:32.448991Z"
    },
    "papermill": {
     "duration": 0.020772,
     "end_time": "2025-10-09T16:59:32.451564",
     "exception": false,
     "start_time": "2025-10-09T16:59:32.430792",
     "status": "completed"
    },
    "tags": []
   },
   "outputs": [
    {
     "data": {
      "text/latex": [
       "$\\displaystyle 2.99992963448403 \\cdot 10^{-6}$"
      ],
      "text/plain": [
       "2.999929634484033e-06"
      ]
     },
     "execution_count": 11,
     "metadata": {},
     "output_type": "execute_result"
    }
   ],
   "source": [
    "erro4= abs(4 - derivada(f,1,method='backward',h=0.001**2))\n",
    "erro4"
   ]
  },
  {
   "cell_type": "markdown",
   "id": "e45421f2",
   "metadata": {
    "papermill": {
     "duration": 0.010514,
     "end_time": "2025-10-09T16:59:32.473254",
     "exception": false,
     "start_time": "2025-10-09T16:59:32.462740",
     "status": "completed"
    },
    "tags": []
   },
   "source": [
    "Somando (2) e (7) e isolando $f''(x)$ obtemos diferença finita central para a segunda derivada:\n",
    "\n",
    "$$\n",
    "f''(x) = \\frac{f(x+h)-2f(x)+f(x-h)}{h^2}+O(h^2)\\,. \\qquad (12)\n",
    "$$\n",
    "\n",
    "Implementemos este método: "
   ]
  },
  {
   "cell_type": "code",
   "execution_count": 12,
   "id": "5fafe458",
   "metadata": {
    "execution": {
     "iopub.execute_input": "2025-10-09T16:59:32.496822Z",
     "iopub.status.busy": "2025-10-09T16:59:32.495999Z",
     "iopub.status.idle": "2025-10-09T16:59:32.500814Z",
     "shell.execute_reply": "2025-10-09T16:59:32.499850Z"
    },
    "papermill": {
     "duration": 0.018192,
     "end_time": "2025-10-09T16:59:32.502322",
     "exception": false,
     "start_time": "2025-10-09T16:59:32.484130",
     "status": "completed"
    },
    "tags": []
   },
   "outputs": [],
   "source": [
    "def derivada2(f,a,h=0.01):\n",
    "        return (f(a+h) -2*f(a)+ f(a-h))/h**2"
   ]
  },
  {
   "cell_type": "markdown",
   "id": "9ccd56a0",
   "metadata": {
    "papermill": {
     "duration": 0.010526,
     "end_time": "2025-10-09T16:59:32.524071",
     "exception": false,
     "start_time": "2025-10-09T16:59:32.513545",
     "status": "completed"
    },
    "tags": []
   },
   "source": [
    "Testemos esta função em $f(x)=x^3+3x$ avaliado em $x=1$. O resultado exato é $f''(1)=6$. "
   ]
  },
  {
   "cell_type": "code",
   "execution_count": 13,
   "id": "0922a1e0",
   "metadata": {
    "execution": {
     "iopub.execute_input": "2025-10-09T16:59:32.547196Z",
     "iopub.status.busy": "2025-10-09T16:59:32.546854Z",
     "iopub.status.idle": "2025-10-09T16:59:32.551517Z",
     "shell.execute_reply": "2025-10-09T16:59:32.550561Z"
    },
    "papermill": {
     "duration": 0.018202,
     "end_time": "2025-10-09T16:59:32.553158",
     "exception": false,
     "start_time": "2025-10-09T16:59:32.534956",
     "status": "completed"
    },
    "tags": []
   },
   "outputs": [],
   "source": [
    " def f(x):\n",
    "        return x**3+x"
   ]
  },
  {
   "cell_type": "code",
   "execution_count": 14,
   "id": "89c15982",
   "metadata": {
    "execution": {
     "iopub.execute_input": "2025-10-09T16:59:32.577027Z",
     "iopub.status.busy": "2025-10-09T16:59:32.576722Z",
     "iopub.status.idle": "2025-10-09T16:59:32.584395Z",
     "shell.execute_reply": "2025-10-09T16:59:32.583149Z"
    },
    "papermill": {
     "duration": 0.021805,
     "end_time": "2025-10-09T16:59:32.586044",
     "exception": false,
     "start_time": "2025-10-09T16:59:32.564239",
     "status": "completed"
    },
    "tags": []
   },
   "outputs": [
    {
     "data": {
      "text/latex": [
       "$\\displaystyle 5.9999999995064$"
      ],
      "text/plain": [
       "5.9999999995064"
      ]
     },
     "execution_count": 14,
     "metadata": {},
     "output_type": "execute_result"
    }
   ],
   "source": [
    "derivada2(f,1,h=0.001)"
   ]
  },
  {
   "cell_type": "markdown",
   "id": "83c9e688",
   "metadata": {
    "papermill": {
     "duration": 0.010938,
     "end_time": "2025-10-09T16:59:32.608134",
     "exception": false,
     "start_time": "2025-10-09T16:59:32.597196",
     "status": "completed"
    },
    "tags": []
   },
   "source": [
    "Mostramos na tabelas abaixo os coeficiente da aproximações de diferenças finitas de vários tipos: "
   ]
  },
  {
   "cell_type": "markdown",
   "id": "40d19c42",
   "metadata": {
    "papermill": {
     "duration": 0.010963,
     "end_time": "2025-10-09T16:59:32.630264",
     "exception": false,
     "start_time": "2025-10-09T16:59:32.619301",
     "status": "completed"
    },
    "tags": []
   },
   "source": [
    "1. Diferenças finitas centrais de  ordem $O(h^2)$:\n",
    "\n",
    "<div style=\"width:100%; overflow-x:auto;\">\n",
    "<table style=\"border-collapse: collapse; text-align: center; width:100%;\">\n",
    "  <tr>\n",
    "    <th>Termo</th>\n",
    "    <th>$f(x - 2h)$</th>\n",
    "    <th>$f(x - h)$</th>\n",
    "    <th>$f(x)$</th>\n",
    "    <th>$f(x + h)$</th>\n",
    "    <th>$f(x + 2h)$</th>\n",
    "  </tr>\n",
    "  <tr>\n",
    "    <td>$2h f'(x)$</td>\n",
    "    <td></td><td>−1</td><td>0</td><td>1</td><td></td>\n",
    "  </tr>\n",
    "  <tr>\n",
    "    <td>$h^2 f''(x)$</td>\n",
    "    <td></td><td>1</td><td>−2</td><td>1</td><td></td>\n",
    "  </tr>\n",
    "  <tr>\n",
    "    <td>$2h^3 f'''(x)$</td>\n",
    "    <td>−1</td><td>2</td><td>0</td><td>−2</td><td>1</td>\n",
    "  </tr>\n",
    "  <tr>\n",
    "    <td>$h^4 f^{(4)}(x)$</td>\n",
    "    <td>1</td><td>−4</td><td>6</td><td>−4</td><td>1</td>\n",
    "  </tr>\n",
    "</table>\n",
    "</div>\n"
   ]
  },
  {
   "cell_type": "markdown",
   "id": "616c037f",
   "metadata": {
    "papermill": {
     "duration": 0.010886,
     "end_time": "2025-10-09T16:59:32.652236",
     "exception": false,
     "start_time": "2025-10-09T16:59:32.641350",
     "status": "completed"
    },
    "tags": []
   },
   "source": [
    "2. Diferenças finitas avançadas de  ordem $O(h^2)$:\n",
    "\n",
    "<div style=\"width:100%; overflow-x:auto;\">\n",
    "<table style=\"border-collapse: collapse; text-align: center; width:100%;\">\n",
    "  <tr>\n",
    "    <th>Termo</th>\n",
    "    <th>$f(x)$</th>\n",
    "    <th>$f(x + h)$</th>\n",
    "    <th>$f(x + 2h)$</th>\n",
    "    <th>$f(x + 3h)$</th>\n",
    "    <th>$f(x + 4h)$</th>\n",
    "  </tr>\n",
    "  <tr>\n",
    "    <td>$h f'(x)$</td>\n",
    "    <td>−1</td><td>1</td><td></td><td></td><td></td>\n",
    "  </tr>\n",
    "  <tr>\n",
    "    <td>$h^2 f''(x)$</td>\n",
    "    <td>1</td><td>−2</td><td>1</td><td></td><td></td>\n",
    "  </tr>\n",
    "  <tr>\n",
    "    <td>$h^3 f'''(x)$</td>\n",
    "    <td>−1</td><td>3</td><td>−3</td><td>1</td><td></td>\n",
    "  </tr>\n",
    "  <tr>\n",
    "    <td>$h^4 f^{(4)}(x)$</td>\n",
    "    <td>1</td><td>−4</td><td>6</td><td>−4</td><td>1</td>\n",
    "  </tr>\n",
    "</table>\n",
    "</div>\n"
   ]
  },
  {
   "cell_type": "markdown",
   "id": "48dd16fd",
   "metadata": {
    "papermill": {
     "duration": 0.011193,
     "end_time": "2025-10-09T16:59:32.674495",
     "exception": false,
     "start_time": "2025-10-09T16:59:32.663302",
     "status": "completed"
    },
    "tags": []
   },
   "source": [
    "3. Diferenças finitas atrasadas de  ordem $O(h^2)$:\n",
    "\n",
    "<div style=\"width:100%; overflow-x:auto;\">\n",
    "<table style=\"border-collapse:collapse; text-align:center; width:100%;\">\n",
    "  <tr>\n",
    "    <th>Termo</th>\n",
    "    <th>$f(x−5h)$</th>\n",
    "    <th>$f(x−4h)$</th>\n",
    "    <th>$f(x−3h)$</th>\n",
    "    <th>$f(x−2h)$</th>\n",
    "    <th>$f(x−h)$</th>\n",
    "    <th>$f(x)$</th>\n",
    "  </tr>\n",
    "  <tr>\n",
    "    <td>$2h f'(x)$</td>\n",
    "    <td></td><td></td><td></td><td>1</td><td>−4</td><td>3</td>\n",
    "  </tr>\n",
    "  <tr>\n",
    "    <td>$h^2 f''(x)$</td>\n",
    "    <td></td><td></td><td>−1</td><td>4</td><td>−5</td><td>2</td>\n",
    "  </tr>\n",
    "  <tr>\n",
    "    <td>$2h^3 f'''(x)$</td>\n",
    "    <td></td><td>3</td><td>−14</td><td>24</td><td>−18</td><td>5</td>\n",
    "  </tr>\n",
    "  <tr>\n",
    "    <td>$h^4 f^{(4)}(x)$</td>\n",
    "    <td>−2</td><td>11</td><td>−24</td><td>26</td><td>−14</td><td>3</td>\n",
    "  </tr>\n",
    "</table>\n",
    "</div>\n"
   ]
  },
  {
   "cell_type": "markdown",
   "id": "8eb598ef",
   "metadata": {
    "papermill": {
     "duration": 0.010987,
     "end_time": "2025-10-09T16:59:32.696641",
     "exception": false,
     "start_time": "2025-10-09T16:59:32.685654",
     "status": "completed"
    },
    "tags": []
   },
   "source": [
    "### Exemplos"
   ]
  },
  {
   "cell_type": "markdown",
   "id": "2fadf284",
   "metadata": {
    "papermill": {
     "duration": 0.010994,
     "end_time": "2025-10-09T16:59:32.718754",
     "exception": false,
     "start_time": "2025-10-09T16:59:32.707760",
     "status": "completed"
    },
    "tags": []
   },
   "source": [
    "1. Consideremos o seguinte conjunto de dados que definem $f(t)$: "
   ]
  },
  {
   "cell_type": "code",
   "execution_count": 15,
   "id": "f4c03b26",
   "metadata": {
    "execution": {
     "iopub.execute_input": "2025-10-09T16:59:32.742386Z",
     "iopub.status.busy": "2025-10-09T16:59:32.742090Z",
     "iopub.status.idle": "2025-10-09T16:59:32.746674Z",
     "shell.execute_reply": "2025-10-09T16:59:32.745717Z"
    },
    "papermill": {
     "duration": 0.018451,
     "end_time": "2025-10-09T16:59:32.748339",
     "exception": false,
     "start_time": "2025-10-09T16:59:32.729888",
     "status": "completed"
    },
    "tags": []
   },
   "outputs": [],
   "source": [
    "import numpy as np"
   ]
  },
  {
   "cell_type": "code",
   "execution_count": 16,
   "id": "c404be74",
   "metadata": {
    "execution": {
     "iopub.execute_input": "2025-10-09T16:59:32.772335Z",
     "iopub.status.busy": "2025-10-09T16:59:32.771897Z",
     "iopub.status.idle": "2025-10-09T16:59:32.776881Z",
     "shell.execute_reply": "2025-10-09T16:59:32.775970Z"
    },
    "papermill": {
     "duration": 0.018743,
     "end_time": "2025-10-09T16:59:32.778436",
     "exception": false,
     "start_time": "2025-10-09T16:59:32.759693",
     "status": "completed"
    },
    "tags": []
   },
   "outputs": [],
   "source": [
    "t = np.array([0.,0.1,0.2,0.3,0.4])\n",
    "f = np.array([0.0000, 0.0819, 0.1341, 0.1646, 0.1797])"
   ]
  },
  {
   "cell_type": "markdown",
   "id": "238bc27f",
   "metadata": {
    "papermill": {
     "duration": 0.010926,
     "end_time": "2025-10-09T16:59:32.800788",
     "exception": false,
     "start_time": "2025-10-09T16:59:32.789862",
     "status": "completed"
    },
    "tags": []
   },
   "source": [
    "(i) Determinemos  $f''(0)$ usando diferenças finitas.  Para isso devemos usar a fórmula dada na tabela para diferenças finitas avançadas:\n",
    "\n",
    "$$\n",
    "f''(x)= \\frac{1}{h^2}\\left[2f(x)-5f(x+h)+4f(x+2h)-f(x+3h)\\right]\\,. \\qquad (13)\n",
    "$$"
   ]
  },
  {
   "cell_type": "markdown",
   "id": "cd76a79a",
   "metadata": {
    "papermill": {
     "duration": 0.010966,
     "end_time": "2025-10-09T16:59:32.822948",
     "exception": false,
     "start_time": "2025-10-09T16:59:32.811982",
     "status": "completed"
    },
    "tags": []
   },
   "source": [
    "Aqui, de acordo com os dados, devemos usar $h=0.1$. Portanto, "
   ]
  },
  {
   "cell_type": "code",
   "execution_count": 17,
   "id": "301efd36",
   "metadata": {
    "execution": {
     "iopub.execute_input": "2025-10-09T16:59:32.848073Z",
     "iopub.status.busy": "2025-10-09T16:59:32.847778Z",
     "iopub.status.idle": "2025-10-09T16:59:32.856601Z",
     "shell.execute_reply": "2025-10-09T16:59:32.855480Z"
    },
    "papermill": {
     "duration": 0.023969,
     "end_time": "2025-10-09T16:59:32.858802",
     "exception": false,
     "start_time": "2025-10-09T16:59:32.834833",
     "status": "completed"
    },
    "tags": []
   },
   "outputs": [
    {
     "data": {
      "text/latex": [
       "$\\displaystyle -3.77$"
      ],
      "text/plain": [
       "-3.769999999999998"
      ]
     },
     "execution_count": 17,
     "metadata": {},
     "output_type": "execute_result"
    }
   ],
   "source": [
    "h = 0.1\n",
    "df2 = (2*f[0]-5*f[1]+4*f[2]-f[3])/h**2\n",
    "df2"
   ]
  },
  {
   "cell_type": "markdown",
   "id": "48259aa2",
   "metadata": {
    "papermill": {
     "duration": 0.011862,
     "end_time": "2025-10-09T16:59:32.882275",
     "exception": false,
     "start_time": "2025-10-09T16:59:32.870413",
     "status": "completed"
    },
    "tags": []
   },
   "source": [
    "(ii) Determinemos $f''(0)$ usando ajuste por mínimos quadrados. Visualizemos os dados num gráfico: "
   ]
  },
  {
   "cell_type": "code",
   "execution_count": 18,
   "id": "b0a213c3",
   "metadata": {
    "execution": {
     "iopub.execute_input": "2025-10-09T16:59:32.908178Z",
     "iopub.status.busy": "2025-10-09T16:59:32.907893Z",
     "iopub.status.idle": "2025-10-09T16:59:32.912643Z",
     "shell.execute_reply": "2025-10-09T16:59:32.911562Z"
    },
    "papermill": {
     "duration": 0.02038,
     "end_time": "2025-10-09T16:59:32.914195",
     "exception": false,
     "start_time": "2025-10-09T16:59:32.893815",
     "status": "completed"
    },
    "tags": []
   },
   "outputs": [],
   "source": [
    "import matplotlib.pyplot as plt"
   ]
  },
  {
   "cell_type": "code",
   "execution_count": 19,
   "id": "2f4a2f35",
   "metadata": {
    "execution": {
     "iopub.execute_input": "2025-10-09T16:59:32.938955Z",
     "iopub.status.busy": "2025-10-09T16:59:32.938646Z",
     "iopub.status.idle": "2025-10-09T16:59:33.228126Z",
     "shell.execute_reply": "2025-10-09T16:59:33.227135Z"
    },
    "papermill": {
     "duration": 0.303903,
     "end_time": "2025-10-09T16:59:33.229816",
     "exception": false,
     "start_time": "2025-10-09T16:59:32.925913",
     "status": "completed"
    },
    "tags": []
   },
   "outputs": [
    {
     "data": {
      "text/plain": [
       "Text(0, 0.5, 'f')"
      ]
     },
     "execution_count": 19,
     "metadata": {},
     "output_type": "execute_result"
    },
    {
     "data": {
      "image/png": "[encoded data removed]",
      "text/plain": [
       "<Figure size 640x480 with 1 Axes>"
      ]
     },
     "metadata": {},
     "output_type": "display_data"
    }
   ],
   "source": [
    "plt.plot(t,f,'ro')\n",
    "plt.xlabel('t')\n",
    "plt.ylabel('f')"
   ]
  },
  {
   "cell_type": "code",
   "execution_count": 20,
   "id": "ade5fee5",
   "metadata": {
    "execution": {
     "iopub.execute_input": "2025-10-09T16:59:33.255976Z",
     "iopub.status.busy": "2025-10-09T16:59:33.255688Z",
     "iopub.status.idle": "2025-10-09T16:59:34.109553Z",
     "shell.execute_reply": "2025-10-09T16:59:34.108641Z"
    },
    "papermill": {
     "duration": 0.868727,
     "end_time": "2025-10-09T16:59:34.111254",
     "exception": false,
     "start_time": "2025-10-09T16:59:33.242527",
     "status": "completed"
    },
    "tags": []
   },
   "outputs": [],
   "source": [
    "from scipy.optimize import curve_fit"
   ]
  },
  {
   "cell_type": "code",
   "execution_count": 21,
   "id": "1e5a5cf7",
   "metadata": {
    "execution": {
     "iopub.execute_input": "2025-10-09T16:59:34.137088Z",
     "iopub.status.busy": "2025-10-09T16:59:34.136690Z",
     "iopub.status.idle": "2025-10-09T16:59:34.141482Z",
     "shell.execute_reply": "2025-10-09T16:59:34.140553Z"
    },
    "papermill": {
     "duration": 0.019345,
     "end_time": "2025-10-09T16:59:34.142904",
     "exception": false,
     "start_time": "2025-10-09T16:59:34.123559",
     "status": "completed"
    },
    "tags": []
   },
   "outputs": [],
   "source": [
    "def g(t, a, b,c,d):\n",
    "    return a + b*t+c*t**2+d*t**3"
   ]
  },
  {
   "cell_type": "code",
   "execution_count": 22,
   "id": "c4fdc866",
   "metadata": {
    "execution": {
     "iopub.execute_input": "2025-10-09T16:59:34.168036Z",
     "iopub.status.busy": "2025-10-09T16:59:34.167751Z",
     "iopub.status.idle": "2025-10-09T16:59:34.180119Z",
     "shell.execute_reply": "2025-10-09T16:59:34.179057Z"
    },
    "papermill": {
     "duration": 0.026949,
     "end_time": "2025-10-09T16:59:34.181826",
     "exception": false,
     "start_time": "2025-10-09T16:59:34.154877",
     "status": "completed"
    },
    "tags": []
   },
   "outputs": [],
   "source": [
    "c, pcov = curve_fit(g, t, f)"
   ]
  },
  {
   "cell_type": "markdown",
   "id": "1f9a6883",
   "metadata": {
    "papermill": {
     "duration": 0.01156,
     "end_time": "2025-10-09T16:59:34.205644",
     "exception": false,
     "start_time": "2025-10-09T16:59:34.194084",
     "status": "completed"
    },
    "tags": []
   },
   "source": [
    "Portanto, os coeficientes do polinômio ajustado são (em ordem crescente de grau):"
   ]
  },
  {
   "cell_type": "code",
   "execution_count": 23,
   "id": "35b4a0cb",
   "metadata": {
    "execution": {
     "iopub.execute_input": "2025-10-09T16:59:34.230977Z",
     "iopub.status.busy": "2025-10-09T16:59:34.230686Z",
     "iopub.status.idle": "2025-10-09T16:59:34.237397Z",
     "shell.execute_reply": "2025-10-09T16:59:34.236440Z"
    },
    "papermill": {
     "duration": 0.021372,
     "end_time": "2025-10-09T16:59:34.239008",
     "exception": false,
     "start_time": "2025-10-09T16:59:34.217636",
     "status": "completed"
    },
    "tags": []
   },
   "outputs": [
    {
     "data": {
      "text/plain": [
       "array([ 2.42772177e-05,  9.88297748e-01, -1.82428628e+00,  1.19166740e+00])"
      ]
     },
     "execution_count": 23,
     "metadata": {},
     "output_type": "execute_result"
    }
   ],
   "source": [
    "c"
   ]
  },
  {
   "cell_type": "markdown",
   "id": "93bbf2f5",
   "metadata": {
    "papermill": {
     "duration": 0.011714,
     "end_time": "2025-10-09T16:59:34.262996",
     "exception": false,
     "start_time": "2025-10-09T16:59:34.251282",
     "status": "completed"
    },
    "tags": []
   },
   "source": [
    "É interessante confirmar visualmente o sucesso do ajuste:"
   ]
  },
  {
   "cell_type": "code",
   "execution_count": 24,
   "id": "0bb93032",
   "metadata": {
    "execution": {
     "iopub.execute_input": "2025-10-09T16:59:34.288592Z",
     "iopub.status.busy": "2025-10-09T16:59:34.288245Z",
     "iopub.status.idle": "2025-10-09T16:59:34.292895Z",
     "shell.execute_reply": "2025-10-09T16:59:34.291998Z"
    },
    "papermill": {
     "duration": 0.019246,
     "end_time": "2025-10-09T16:59:34.294408",
     "exception": false,
     "start_time": "2025-10-09T16:59:34.275162",
     "status": "completed"
    },
    "tags": []
   },
   "outputs": [],
   "source": [
    "T = np.linspace(-0.02, 0.41,30)"
   ]
  },
  {
   "cell_type": "code",
   "execution_count": 25,
   "id": "63acb809",
   "metadata": {
    "execution": {
     "iopub.execute_input": "2025-10-09T16:59:34.321184Z",
     "iopub.status.busy": "2025-10-09T16:59:34.320890Z",
     "iopub.status.idle": "2025-10-09T16:59:34.517379Z",
     "shell.execute_reply": "2025-10-09T16:59:34.516485Z"
    },
    "papermill": {
     "duration": 0.211678,
     "end_time": "2025-10-09T16:59:34.519107",
     "exception": false,
     "start_time": "2025-10-09T16:59:34.307429",
     "status": "completed"
    },
    "tags": []
   },
   "outputs": [
    {
     "data": {
      "text/plain": [
       "Text(0, 0.5, 'f')"
      ]
     },
     "execution_count": 25,
     "metadata": {},
     "output_type": "execute_result"
    },
    {
     "data": {
      "image/png": "[encoded data removed]",
      "text/plain": [
       "<Figure size 640x480 with 1 Axes>"
      ]
     },
     "metadata": {},
     "output_type": "display_data"
    }
   ],
   "source": [
    "plt.plot(t,f,'ro', T, g(T, *c), 'g-')\n",
    "plt.xlabel('t')\n",
    "plt.ylabel('f')"
   ]
  },
  {
   "cell_type": "markdown",
   "id": "8ceb60c2",
   "metadata": {
    "papermill": {
     "duration": 0.014279,
     "end_time": "2025-10-09T16:59:34.546967",
     "exception": false,
     "start_time": "2025-10-09T16:59:34.532688",
     "status": "completed"
    },
    "tags": []
   },
   "source": [
    "Temos agora a função que ajusta os dados, que pode ser diferenciada analiticamente: "
   ]
  },
  {
   "cell_type": "code",
   "execution_count": 26,
   "id": "f350c64b",
   "metadata": {
    "execution": {
     "iopub.execute_input": "2025-10-09T16:59:34.575140Z",
     "iopub.status.busy": "2025-10-09T16:59:34.574839Z",
     "iopub.status.idle": "2025-10-09T16:59:34.580850Z",
     "shell.execute_reply": "2025-10-09T16:59:34.579838Z"
    },
    "papermill": {
     "duration": 0.022388,
     "end_time": "2025-10-09T16:59:34.582816",
     "exception": false,
     "start_time": "2025-10-09T16:59:34.560428",
     "status": "completed"
    },
    "tags": []
   },
   "outputs": [],
   "source": [
    "from sympy import *\n",
    "x = symbols('x')\n",
    "init_printing(use_unicode=True)"
   ]
  },
  {
   "cell_type": "code",
   "execution_count": 27,
   "id": "7c09b797",
   "metadata": {
    "execution": {
     "iopub.execute_input": "2025-10-09T16:59:34.610185Z",
     "iopub.status.busy": "2025-10-09T16:59:34.609845Z",
     "iopub.status.idle": "2025-10-09T16:59:34.623995Z",
     "shell.execute_reply": "2025-10-09T16:59:34.623034Z"
    },
    "papermill": {
     "duration": 0.02983,
     "end_time": "2025-10-09T16:59:34.625601",
     "exception": false,
     "start_time": "2025-10-09T16:59:34.595771",
     "status": "completed"
    },
    "tags": []
   },
   "outputs": [
    {
     "data": {
      "text/latex": [
       "$\\displaystyle 1.19166739877843 x^{3} - 1.82428627641613 x^{2} + 0.988297748356107 x + 2.42772176753685 \\cdot 10^{-5}$"
      ],
      "text/plain": [
       "                  3                     2                                      ↪\n",
       "1.19166739877843⋅x  - 1.82428627641613⋅x  + 0.988297748356107⋅x + 2.4277217675 ↪\n",
       "\n",
       "↪        \n",
       "↪ 3685e-5"
      ]
     },
     "execution_count": 27,
     "metadata": {},
     "output_type": "execute_result"
    }
   ],
   "source": [
    "p = c[0]+c[1]*x+c[2]*x**2+c[3]*x**3\n",
    "p"
   ]
  },
  {
   "cell_type": "code",
   "execution_count": 28,
   "id": "4d48d13f",
   "metadata": {
    "execution": {
     "iopub.execute_input": "2025-10-09T16:59:34.653921Z",
     "iopub.status.busy": "2025-10-09T16:59:34.653117Z",
     "iopub.status.idle": "2025-10-09T16:59:34.675112Z",
     "shell.execute_reply": "2025-10-09T16:59:34.674169Z"
    },
    "papermill": {
     "duration": 0.037944,
     "end_time": "2025-10-09T16:59:34.676766",
     "exception": false,
     "start_time": "2025-10-09T16:59:34.638822",
     "status": "completed"
    },
    "tags": []
   },
   "outputs": [
    {
     "data": {
      "text/latex": [
       "$\\displaystyle 7.15000439267061 x - 3.64857255283226$"
      ],
      "text/plain": [
       "7.15000439267061⋅x - 3.64857255283226"
      ]
     },
     "execution_count": 28,
     "metadata": {},
     "output_type": "execute_result"
    }
   ],
   "source": [
    "dp = diff(p,x,x)\n",
    "dp"
   ]
  },
  {
   "cell_type": "code",
   "execution_count": 29,
   "id": "907574f0",
   "metadata": {
    "execution": {
     "iopub.execute_input": "2025-10-09T16:59:34.705374Z",
     "iopub.status.busy": "2025-10-09T16:59:34.704712Z",
     "iopub.status.idle": "2025-10-09T16:59:34.712391Z",
     "shell.execute_reply": "2025-10-09T16:59:34.711305Z"
    },
    "papermill": {
     "duration": 0.023743,
     "end_time": "2025-10-09T16:59:34.714402",
     "exception": false,
     "start_time": "2025-10-09T16:59:34.690659",
     "status": "completed"
    },
    "tags": []
   },
   "outputs": [
    {
     "data": {
      "text/latex": [
       "$\\displaystyle -3.64857255283226$"
      ],
      "text/plain": [
       "-3.64857255283226"
      ]
     },
     "execution_count": 29,
     "metadata": {},
     "output_type": "execute_result"
    }
   ],
   "source": [
    "dp.subs(x,0)"
   ]
  },
  {
   "cell_type": "markdown",
   "id": "813aeabc",
   "metadata": {
    "papermill": {
     "duration": 0.013509,
     "end_time": "2025-10-09T16:59:34.741414",
     "exception": false,
     "start_time": "2025-10-09T16:59:34.727905",
     "status": "completed"
    },
    "tags": []
   },
   "source": [
    "O valor é numericamente um pouco diferente daquele obtido usando diferenças finitas chama atenção para o fato de que cuidado na avaliação dos resultados é necessária. De qualquer modo, este exemplo tem como objetivo, mais do que outra coisa, estabelecer uma metodologia para a resolução de outros problemas mais realistas. "
   ]
  },
  {
   "cell_type": "markdown",
   "id": "79f278a6",
   "metadata": {
    "papermill": {
     "duration": 0.012836,
     "end_time": "2025-10-09T16:59:34.767811",
     "exception": false,
     "start_time": "2025-10-09T16:59:34.754975",
     "status": "completed"
    },
    "tags": []
   },
   "source": [
    "2. Podemos tentar resolver o problema anterior usando interpolação polinomial simples: "
   ]
  },
  {
   "cell_type": "code",
   "execution_count": 30,
   "id": "52248ef6",
   "metadata": {
    "execution": {
     "iopub.execute_input": "2025-10-09T16:59:34.798123Z",
     "iopub.status.busy": "2025-10-09T16:59:34.797681Z",
     "iopub.status.idle": "2025-10-09T16:59:34.870207Z",
     "shell.execute_reply": "2025-10-09T16:59:34.869255Z"
    },
    "papermill": {
     "duration": 0.090511,
     "end_time": "2025-10-09T16:59:34.871923",
     "exception": false,
     "start_time": "2025-10-09T16:59:34.781412",
     "status": "completed"
    },
    "tags": []
   },
   "outputs": [],
   "source": [
    "from scipy.interpolate import lagrange"
   ]
  },
  {
   "cell_type": "code",
   "execution_count": 31,
   "id": "a3d3089a",
   "metadata": {
    "execution": {
     "iopub.execute_input": "2025-10-09T16:59:34.900641Z",
     "iopub.status.busy": "2025-10-09T16:59:34.900165Z",
     "iopub.status.idle": "2025-10-09T16:59:34.909767Z",
     "shell.execute_reply": "2025-10-09T16:59:34.908822Z"
    },
    "papermill": {
     "duration": 0.025875,
     "end_time": "2025-10-09T16:59:34.911386",
     "exception": false,
     "start_time": "2025-10-09T16:59:34.885511",
     "status": "completed"
    },
    "tags": []
   },
   "outputs": [
    {
     "data": {
      "text/plain": [
       "poly1d([-0.70833333,  1.75833333, -1.96291667,  0.99841667,  0.        ])"
      ]
     },
     "execution_count": 31,
     "metadata": {},
     "output_type": "execute_result"
    }
   ],
   "source": [
    "F = lagrange(t, f)\n",
    "F"
   ]
  },
  {
   "cell_type": "markdown",
   "id": "f55b99e5",
   "metadata": {
    "papermill": {
     "duration": 0.013178,
     "end_time": "2025-10-09T16:59:34.937920",
     "exception": false,
     "start_time": "2025-10-09T16:59:34.924742",
     "status": "completed"
    },
    "tags": []
   },
   "source": [
    "Visualizemos graficamente: "
   ]
  },
  {
   "cell_type": "code",
   "execution_count": 32,
   "id": "c3a4e19b",
   "metadata": {
    "execution": {
     "iopub.execute_input": "2025-10-09T16:59:34.965590Z",
     "iopub.status.busy": "2025-10-09T16:59:34.965240Z",
     "iopub.status.idle": "2025-10-09T16:59:34.969876Z",
     "shell.execute_reply": "2025-10-09T16:59:34.968927Z"
    },
    "papermill": {
     "duration": 0.020329,
     "end_time": "2025-10-09T16:59:34.971524",
     "exception": false,
     "start_time": "2025-10-09T16:59:34.951195",
     "status": "completed"
    },
    "tags": []
   },
   "outputs": [],
   "source": [
    "T = np.linspace(-0.02, 0.41,30)"
   ]
  },
  {
   "cell_type": "code",
   "execution_count": 33,
   "id": "2dac90ad",
   "metadata": {
    "execution": {
     "iopub.execute_input": "2025-10-09T16:59:34.999281Z",
     "iopub.status.busy": "2025-10-09T16:59:34.998972Z",
     "iopub.status.idle": "2025-10-09T16:59:35.178491Z",
     "shell.execute_reply": "2025-10-09T16:59:35.177529Z"
    },
    "papermill": {
     "duration": 0.195257,
     "end_time": "2025-10-09T16:59:35.180052",
     "exception": false,
     "start_time": "2025-10-09T16:59:34.984795",
     "status": "completed"
    },
    "tags": []
   },
   "outputs": [
    {
     "data": {
      "text/plain": [
       "[<matplotlib.lines.Line2D at 0x79395de8fe90>,\n",
       " <matplotlib.lines.Line2D at 0x79395b9792d0>]"
      ]
     },
     "execution_count": 33,
     "metadata": {},
     "output_type": "execute_result"
    },
    {
     "data": {
      "image/png": "[encoded data removed]",
      "text/plain": [
       "<Figure size 640x480 with 1 Axes>"
      ]
     },
     "metadata": {},
     "output_type": "display_data"
    }
   ],
   "source": [
    "plt.plot(t,f,'ro', T, F(T), '-')"
   ]
  },
  {
   "cell_type": "markdown",
   "id": "7b972ad3",
   "metadata": {
    "papermill": {
     "duration": 0.01428,
     "end_time": "2025-10-09T16:59:35.209274",
     "exception": false,
     "start_time": "2025-10-09T16:59:35.194994",
     "status": "completed"
    },
    "tags": []
   },
   "source": [
    "Usando a aproximação de diferença finita (12) obtemos: "
   ]
  },
  {
   "cell_type": "code",
   "execution_count": 34,
   "id": "275173eb",
   "metadata": {
    "execution": {
     "iopub.execute_input": "2025-10-09T16:59:35.238860Z",
     "iopub.status.busy": "2025-10-09T16:59:35.238529Z",
     "iopub.status.idle": "2025-10-09T16:59:35.243410Z",
     "shell.execute_reply": "2025-10-09T16:59:35.242604Z"
    },
    "papermill": {
     "duration": 0.02162,
     "end_time": "2025-10-09T16:59:35.244949",
     "exception": false,
     "start_time": "2025-10-09T16:59:35.223329",
     "status": "completed"
    },
    "tags": []
   },
   "outputs": [],
   "source": [
    "def derivada2(f,a,h=0.01):\n",
    "        return (F(a+h) -2*F(a)+ F(a-h))/h**2"
   ]
  },
  {
   "cell_type": "code",
   "execution_count": 35,
   "id": "1a491286",
   "metadata": {
    "execution": {
     "iopub.execute_input": "2025-10-09T16:59:35.274240Z",
     "iopub.status.busy": "2025-10-09T16:59:35.273937Z",
     "iopub.status.idle": "2025-10-09T16:59:35.281550Z",
     "shell.execute_reply": "2025-10-09T16:59:35.280705Z"
    },
    "papermill": {
     "duration": 0.024026,
     "end_time": "2025-10-09T16:59:35.282977",
     "exception": false,
     "start_time": "2025-10-09T16:59:35.258951",
     "status": "completed"
    },
    "tags": []
   },
   "outputs": [
    {
     "data": {
      "text/latex": [
       "$\\displaystyle -3.92597499999998$"
      ],
      "text/plain": [
       "-3.925974999999977"
      ]
     },
     "execution_count": 35,
     "metadata": {},
     "output_type": "execute_result"
    }
   ],
   "source": [
    "derivada2(F,0,h=0.01)"
   ]
  },
  {
   "cell_type": "markdown",
   "id": "43fa3872",
   "metadata": {
    "papermill": {
     "duration": 0.014993,
     "end_time": "2025-10-09T16:59:35.313346",
     "exception": false,
     "start_time": "2025-10-09T16:59:35.298353",
     "status": "completed"
    },
    "tags": []
   },
   "source": [
    "Podemos também diferenciar analiticamente o polinômio: "
   ]
  },
  {
   "cell_type": "code",
   "execution_count": 36,
   "id": "89c350a1",
   "metadata": {
    "execution": {
     "iopub.execute_input": "2025-10-09T16:59:35.343603Z",
     "iopub.status.busy": "2025-10-09T16:59:35.343261Z",
     "iopub.status.idle": "2025-10-09T16:59:35.357070Z",
     "shell.execute_reply": "2025-10-09T16:59:35.356037Z"
    },
    "papermill": {
     "duration": 0.03063,
     "end_time": "2025-10-09T16:59:35.358689",
     "exception": false,
     "start_time": "2025-10-09T16:59:35.328059",
     "status": "completed"
    },
    "tags": []
   },
   "outputs": [
    {
     "data": {
      "text/latex": [
       "$\\displaystyle 1.75833333333327 x^{3} - 1.96291666666666 x^{2} + 0.998416666666666 x$"
      ],
      "text/plain": [
       "                  3                     2                      \n",
       "1.75833333333327⋅x  - 1.96291666666666⋅x  + 0.998416666666666⋅x"
      ]
     },
     "execution_count": 36,
     "metadata": {},
     "output_type": "execute_result"
    }
   ],
   "source": [
    "pL = F[0]+F[1]*x+F[2]*x**2+F[3]*x**3\n",
    "pL"
   ]
  },
  {
   "cell_type": "code",
   "execution_count": 37,
   "id": "3cd82934",
   "metadata": {
    "execution": {
     "iopub.execute_input": "2025-10-09T16:59:35.389039Z",
     "iopub.status.busy": "2025-10-09T16:59:35.388705Z",
     "iopub.status.idle": "2025-10-09T16:59:35.408330Z",
     "shell.execute_reply": "2025-10-09T16:59:35.407332Z"
    },
    "papermill": {
     "duration": 0.036738,
     "end_time": "2025-10-09T16:59:35.410051",
     "exception": false,
     "start_time": "2025-10-09T16:59:35.373313",
     "status": "completed"
    },
    "tags": []
   },
   "outputs": [
    {
     "data": {
      "text/latex": [
       "$\\displaystyle 10.5499999999996 x - 3.92583333333332$"
      ],
      "text/plain": [
       "10.5499999999996⋅x - 3.92583333333332"
      ]
     },
     "execution_count": 37,
     "metadata": {},
     "output_type": "execute_result"
    }
   ],
   "source": [
    "dpL = diff(pL,x,x)\n",
    "dpL"
   ]
  },
  {
   "cell_type": "code",
   "execution_count": 38,
   "id": "659abe0e",
   "metadata": {
    "execution": {
     "iopub.execute_input": "2025-10-09T16:59:35.440426Z",
     "iopub.status.busy": "2025-10-09T16:59:35.440034Z",
     "iopub.status.idle": "2025-10-09T16:59:35.448288Z",
     "shell.execute_reply": "2025-10-09T16:59:35.447308Z"
    },
    "papermill": {
     "duration": 0.025626,
     "end_time": "2025-10-09T16:59:35.450266",
     "exception": false,
     "start_time": "2025-10-09T16:59:35.424640",
     "status": "completed"
    },
    "tags": []
   },
   "outputs": [
    {
     "data": {
      "text/latex": [
       "$\\displaystyle -3.92583333333332$"
      ],
      "text/plain": [
       "-3.92583333333332"
      ]
     },
     "execution_count": 38,
     "metadata": {},
     "output_type": "execute_result"
    }
   ],
   "source": [
    "dpL.subs(x,0)"
   ]
  },
  {
   "cell_type": "markdown",
   "id": "d347ea7e",
   "metadata": {
    "papermill": {
     "duration": 0.014454,
     "end_time": "2025-10-09T16:59:35.479495",
     "exception": false,
     "start_time": "2025-10-09T16:59:35.465041",
     "status": "completed"
    },
    "tags": []
   },
   "source": [
    "### 2. Extrapolação de Richardson"
   ]
  },
  {
   "cell_type": "markdown",
   "id": "9c6af19b",
   "metadata": {
    "papermill": {
     "duration": 0.01405,
     "end_time": "2025-10-09T16:59:35.508694",
     "exception": false,
     "start_time": "2025-10-09T16:59:35.494644",
     "status": "completed"
    },
    "tags": []
   },
   "source": [
    "O método de extrapolação de Richardson permite melhorar a acurácia de certos processos numéricos e acelerar a computação de séries numéricas de convergência lenta. Suponhamos que temos um meio aproximado para computar uma quantidade $G$. Além disso, vamos supor que o resultado da aproximação depende um parâmetro $h$ (tal como acontece nas aproximações por diferenças finitas). Denotemos a aproximação por $g(h)$, de modo que \n",
    "\n",
    "$$\n",
    "G=g(h)+E(h)\\,,\\qquad (14)\n",
    "$$\n",
    "\n",
    "sendo $E(h)$ o erro. A extrapolação de Richardson consegue remover o erro, contanto que ele seja da forma $E=ch^p$, sendo $c$ e $p$ constantes, ou seja, \n",
    "\n",
    "$$\n",
    "G=g(h)+c h^p\\,.\n",
    "$$\n",
    "\n",
    "Notemos que a suposição é a de que o erro é proporcional a um termo com fator dominante $h^p$, sendo a constante de proporcionalidade $c$ em princípio desconhecida.  Os outros termos de grau superior a $p$ não estão contabilizados. Eliminar o erro de orderm $O(h^p)$ significa determinar $c$ em termos de quantidades conhecidas, ou seja, incorporar este termo ao cálculo de $G$. Para isso, começamos computando $g(h)$ com algum valor de $h$, digamos, $h=h_1$. Temos então\n",
    "\n",
    "$$\n",
    "G= g(h_1)+ch_1^p\\,.\\qquad (15)\n",
    "$$\n",
    "\n",
    "\n",
    "Repetimos agora o cálculo com $h=h_2$, de modo que \n",
    "\n",
    "$$\n",
    "G = g(h_2)+ch_2^p\\,.\\qquad (16)\n",
    "$$\n",
    "\n",
    "Eliminando $c$ de (16) temos\n",
    "\n",
    "$$\n",
    "c = \\frac{G-g(h_2)}{h_2^p}\\,.\\qquad (17)\n",
    "$$\n",
    "\n",
    "Substituindo esta expressão em (15) obtemos\n",
    "\n",
    "$$\n",
    "G = g(h_1)+\\frac{G-g(h_2)}{h_2^p}h_1^p\\,,\\qquad (18)\n",
    "$$\n",
    "\n",
    "ou\n",
    "\n",
    "$$\n",
    "G\\left[1-\\left(\\frac{h_1}{h_2}\\right)^p\\right]=g(h_1)-g(h_2)\\left(\\frac{h_1}{h_2}\\right)^p\\,,\\qquad (19)\n",
    "$$\n",
    "\n",
    "de modo que \n",
    "\n",
    "$$\n",
    "G= \\frac{(h_1/h_2)^p g(h_2)-g(h_1)}{(h_1/h_2)^p-1}\\,,\\qquad (20)\n",
    "$$\n",
    "\n",
    "que é a fórmula de extrapolação de Richardson. É comum usarmos $h_2= h_1/2$, de modo que\n",
    "\n",
    "$$\n",
    "G= \\frac{2^p g(h_1/2)-g(h_1)}{2^p-1}\\,.\\qquad (21)\n",
    "$$\n",
    "\n",
    "O erro ainda existe mas agora é de ordem $O(h^{p+1})$ ou superior. Consideremos novamente o exemplo dado anteriormente: "
   ]
  },
  {
   "cell_type": "code",
   "execution_count": 39,
   "id": "09801c5b",
   "metadata": {
    "execution": {
     "iopub.execute_input": "2025-10-09T16:59:35.539826Z",
     "iopub.status.busy": "2025-10-09T16:59:35.539411Z",
     "iopub.status.idle": "2025-10-09T16:59:35.544427Z",
     "shell.execute_reply": "2025-10-09T16:59:35.543573Z"
    },
    "papermill": {
     "duration": 0.022703,
     "end_time": "2025-10-09T16:59:35.546130",
     "exception": false,
     "start_time": "2025-10-09T16:59:35.523427",
     "status": "completed"
    },
    "tags": []
   },
   "outputs": [],
   "source": [
    "t = np.array([0.,0.1,0.2,0.3,0.4])\n",
    "f = np.array([0.0000, 0.0819, 0.1341, 0.1646, 0.1797])"
   ]
  },
  {
   "cell_type": "markdown",
   "id": "e01298c1",
   "metadata": {
    "papermill": {
     "duration": 0.01468,
     "end_time": "2025-10-09T16:59:35.575805",
     "exception": false,
     "start_time": "2025-10-09T16:59:35.561125",
     "status": "completed"
    },
    "tags": []
   },
   "source": [
    "Calculemos $f'(0.2)$ usando a aproximação de diferença finita central com $O(h^2)$, ou seja, \n",
    "\n",
    "$$\n",
    "f'(x) = \\frac{f(x+h)-f(x-h)}{2h}+O(h^2)\\,. \\qquad (22)\n",
    "$$\n",
    "\n",
    "ou "
   ]
  },
  {
   "cell_type": "code",
   "execution_count": 40,
   "id": "0fa84b5e",
   "metadata": {
    "execution": {
     "iopub.execute_input": "2025-10-09T16:59:35.607446Z",
     "iopub.status.busy": "2025-10-09T16:59:35.607105Z",
     "iopub.status.idle": "2025-10-09T16:59:35.615320Z",
     "shell.execute_reply": "2025-10-09T16:59:35.614286Z"
    },
    "papermill": {
     "duration": 0.025382,
     "end_time": "2025-10-09T16:59:35.616943",
     "exception": false,
     "start_time": "2025-10-09T16:59:35.591561",
     "status": "completed"
    },
    "tags": []
   },
   "outputs": [
    {
     "data": {
      "text/latex": [
       "$\\displaystyle 0.4135$"
      ],
      "text/plain": [
       "0.4135"
      ]
     },
     "execution_count": 40,
     "metadata": {},
     "output_type": "execute_result"
    }
   ],
   "source": [
    "h = 0.1\n",
    "df1 = (f[3]-f[1])/(2*h)\n",
    "df1"
   ]
  },
  {
   "cell_type": "markdown",
   "id": "4aa28053",
   "metadata": {
    "papermill": {
     "duration": 0.014405,
     "end_time": "2025-10-09T16:59:35.646253",
     "exception": false,
     "start_time": "2025-10-09T16:59:35.631848",
     "status": "completed"
    },
    "tags": []
   },
   "source": [
    "Utilizemos agora a extrapolação de Richardson:"
   ]
  },
  {
   "cell_type": "code",
   "execution_count": 41,
   "id": "8cfa06c4",
   "metadata": {
    "execution": {
     "iopub.execute_input": "2025-10-09T16:59:35.677534Z",
     "iopub.status.busy": "2025-10-09T16:59:35.677157Z",
     "iopub.status.idle": "2025-10-09T16:59:35.685268Z",
     "shell.execute_reply": "2025-10-09T16:59:35.684238Z"
    },
    "papermill": {
     "duration": 0.025955,
     "end_time": "2025-10-09T16:59:35.687108",
     "exception": false,
     "start_time": "2025-10-09T16:59:35.661153",
     "status": "completed"
    },
    "tags": []
   },
   "outputs": [
    {
     "data": {
      "text/latex": [
       "$\\displaystyle 0.44925$"
      ],
      "text/plain": [
       "0.44925"
      ]
     },
     "execution_count": 41,
     "metadata": {},
     "output_type": "execute_result"
    }
   ],
   "source": [
    "h = 0.2\n",
    "g1 = (f[4]-f[0])/(2*h)\n",
    "g1"
   ]
  },
  {
   "cell_type": "code",
   "execution_count": 42,
   "id": "310e163c",
   "metadata": {
    "execution": {
     "iopub.execute_input": "2025-10-09T16:59:35.717921Z",
     "iopub.status.busy": "2025-10-09T16:59:35.717578Z",
     "iopub.status.idle": "2025-10-09T16:59:35.725971Z",
     "shell.execute_reply": "2025-10-09T16:59:35.724809Z"
    },
    "papermill": {
     "duration": 0.025987,
     "end_time": "2025-10-09T16:59:35.727947",
     "exception": false,
     "start_time": "2025-10-09T16:59:35.701960",
     "status": "completed"
    },
    "tags": []
   },
   "outputs": [
    {
     "data": {
      "text/latex": [
       "$\\displaystyle 0.4135$"
      ],
      "text/plain": [
       "0.4135"
      ]
     },
     "execution_count": 42,
     "metadata": {},
     "output_type": "execute_result"
    }
   ],
   "source": [
    "h = 0.1\n",
    "g2 = (f[3]-f[1])/(2*h)\n",
    "g2"
   ]
  },
  {
   "cell_type": "markdown",
   "id": "2e259f8c",
   "metadata": {
    "papermill": {
     "duration": 0.014735,
     "end_time": "2025-10-09T16:59:35.757741",
     "exception": false,
     "start_time": "2025-10-09T16:59:35.743006",
     "status": "completed"
    },
    "tags": []
   },
   "source": [
    "Lembremos que nestas aproximações o erro é da forma $E(h)=c_1h^2+c_2h^4+\\cdots$. A extrapolação elimina o termo dominante de erro, proporcional a $h^2$. "
   ]
  },
  {
   "cell_type": "code",
   "execution_count": 43,
   "id": "c3402889",
   "metadata": {
    "execution": {
     "iopub.execute_input": "2025-10-09T16:59:35.790431Z",
     "iopub.status.busy": "2025-10-09T16:59:35.790130Z",
     "iopub.status.idle": "2025-10-09T16:59:35.797512Z",
     "shell.execute_reply": "2025-10-09T16:59:35.796534Z"
    },
    "papermill": {
     "duration": 0.025852,
     "end_time": "2025-10-09T16:59:35.799090",
     "exception": false,
     "start_time": "2025-10-09T16:59:35.773238",
     "status": "completed"
    },
    "tags": []
   },
   "outputs": [
    {
     "data": {
      "text/latex": [
       "$\\displaystyle 0.401583333333333$"
      ],
      "text/plain": [
       "0.40158333333333335"
      ]
     },
     "execution_count": 43,
     "metadata": {},
     "output_type": "execute_result"
    }
   ],
   "source": [
    "p=2\n",
    "G= (2**p*g2-g1)/(2**p-1)\n",
    "G"
   ]
  },
  {
   "cell_type": "markdown",
   "id": "17dafbca",
   "metadata": {
    "papermill": {
     "duration": 0.014862,
     "end_time": "2025-10-09T16:59:35.829176",
     "exception": false,
     "start_time": "2025-10-09T16:59:35.814314",
     "status": "completed"
    },
    "tags": []
   },
   "source": [
    "que é a aproximação  diferença finita de ordem $O(h^4)$. "
   ]
  },
  {
   "cell_type": "markdown",
   "id": "27d8472e",
   "metadata": {
    "papermill": {
     "duration": 0.01469,
     "end_time": "2025-10-09T16:59:35.859448",
     "exception": false,
     "start_time": "2025-10-09T16:59:35.844758",
     "status": "completed"
    },
    "tags": []
   },
   "source": [
    "### Exercícios"
   ]
  },
  {
   "cell_type": "markdown",
   "id": "fe7be241",
   "metadata": {
    "papermill": {
     "duration": 0.015454,
     "end_time": "2025-10-09T16:59:35.889887",
     "exception": false,
     "start_time": "2025-10-09T16:59:35.874433",
     "status": "completed"
    },
    "tags": []
   },
   "source": [
    "**1.** Sejam os dados mostrados na seguinte tabela:\n",
    "\n",
    "<table>\n",
    "  <tr>\n",
    "    <td><i>$t$</i></td>\n",
    "    <td>0.0</td>\n",
    "    <td>0.1</td>\n",
    "    <td>0.2</td>\n",
    "    <td>0.3</td>\n",
    "    <td>0.4</td>\n",
    "  </tr>\n",
    "  <tr>\n",
    "    <td><i>$f(t)$</i></td>\n",
    "    <td>0.0000</td>\n",
    "    <td>0.0819</td>\n",
    "    <td>0.1341</td>\n",
    "    <td>0.1646</td>\n",
    "    <td>0.1797</td>\n",
    "  </tr>\n",
    "</table>"
   ]
  },
  {
   "cell_type": "markdown",
   "id": "3f1b2429",
   "metadata": {
    "papermill": {
     "duration": 0.022236,
     "end_time": "2025-10-09T16:59:35.929645",
     "exception": false,
     "start_time": "2025-10-09T16:59:35.907409",
     "status": "completed"
    },
    "tags": []
   },
   "source": [
    "determine $f'(0.25)$ usando interpolação polinomial. "
   ]
  },
  {
   "cell_type": "markdown",
   "id": "c0608df6",
   "metadata": {
    "papermill": {
     "duration": 0.014666,
     "end_time": "2025-10-09T16:59:35.959194",
     "exception": false,
     "start_time": "2025-10-09T16:59:35.944528",
     "status": "completed"
    },
    "tags": []
   },
   "source": [
    "**2.** Use interpolação polinomial para determinar  $f'(0)$ e $f''(0)$ usando os dados:\n",
    "\n",
    "<table style=\"border-collapse: collapse; text-align: center;\">\n",
    "  <tr>\n",
    "    <td><i>$x$</i></td>\n",
    "    <td>-2.2</td>\n",
    "    <td>-0.3</td>\n",
    "    <td>0.8</td>\n",
    "    <td>1.9</td>\n",
    "  </tr>\n",
    "  <tr>\n",
    "    <td><i>$f(x)$</i></td>\n",
    "    <td>15.180</td>\n",
    "    <td>10.962</td>\n",
    "    <td>1.920</td>\n",
    "    <td>-2.040</td>\n",
    "  </tr>\n",
    "</table>"
   ]
  },
  {
   "cell_type": "markdown",
   "id": "2f049d18",
   "metadata": {
    "papermill": {
     "duration": 0.015314,
     "end_time": "2025-10-09T16:59:35.989967",
     "exception": false,
     "start_time": "2025-10-09T16:59:35.974653",
     "status": "completed"
    },
    "tags": []
   },
   "source": [
    "**3.** Repita o problema anterior usando ajuste (determine uma função de ajuste conveniente)."
   ]
  },
  {
   "cell_type": "markdown",
   "id": "7421bc81",
   "metadata": {
    "papermill": {
     "duration": 0.015058,
     "end_time": "2025-10-09T16:59:36.020245",
     "exception": false,
     "start_time": "2025-10-09T16:59:36.005187",
     "status": "completed"
    },
    "tags": []
   },
   "source": [
    "**4.** \n",
    "Use aproximações por diferenças finitas de ordem $O(h^2)$ para calcular $f'(2{,}36)$ e $f''(2{,}36)$ a partir dos seguintes dados:\n",
    "\n",
    "<table style=\"border-collapse: collapse; text-align: center;\">\n",
    "  <tr>\n",
    "    <td><i>$x$</i></td>\n",
    "    <td>2,36</td>\n",
    "    <td>2,37</td>\n",
    "    <td>2,38</td>\n",
    "    <td>2,39</td>\n",
    "  </tr>\n",
    "  <tr>\n",
    "    <td><i>$f(x)$</i></td>\n",
    "    <td>0,85866</td>\n",
    "    <td>0,86289</td>\n",
    "    <td>0,86710</td>\n",
    "    <td>0,87129</td>\n",
    "  </tr>\n",
    "</table>\n",
    "\n",
    "\n",
    "**5.**\n",
    "Estime $f'(1)$ e $f''(1)$ a partir dos seguintes dados:\n",
    "\n",
    "<table style=\"border-collapse: collapse; text-align: center;\">\n",
    "  <tr>\n",
    "    <td><i>$x$</i></td>\n",
    "    <td>0,97</td>\n",
    "    <td>1,00</td>\n",
    "    <td>1,05</td>\n",
    "  </tr>\n",
    "  <tr>\n",
    "    <td><i>$f(x)$</i></td>\n",
    "    <td>0,85040</td>\n",
    "    <td>0,84147</td>\n",
    "    <td>0,82612</td>\n",
    "  </tr>\n",
    "</table>\n",
    "\n",
    "**6.**\n",
    "Dados os valores:\n",
    "\n",
    "<table style=\"border-collapse: collapse; text-align: center;\">\n",
    "  <tr>\n",
    "    <td><i>$x$</i></td>\n",
    "    <td>0,84</td>\n",
    "    <td>0,92</td>\n",
    "    <td>1,00</td>\n",
    "    <td>1,08</td>\n",
    "    <td>1,16</td>\n",
    "  </tr>\n",
    "  <tr>\n",
    "    <td><i>$f(x)$</i></td>\n",
    "    <td>0,431711</td>\n",
    "    <td>0,398519</td>\n",
    "    <td>0,367879</td>\n",
    "    <td>0,339596</td>\n",
    "    <td>0,313486</td>\n",
    "  </tr>\n",
    "</table>\n",
    "\n",
    "\n",
    "calcule $f''(1)$ da forma mais precisa possível.\n",
    "\n",
    "**7.**\n",
    "Use os dados da tabela para calcular $f'(0{,}2)$ da forma mais precisa possível:\n",
    "\n",
    "<table style=\"border-collapse: collapse; text-align: center;\">\n",
    "  <tr>\n",
    "    <td><i>$x$</i></td>\n",
    "    <td>0,0</td>\n",
    "    <td>0,1</td>\n",
    "    <td>0,2</td>\n",
    "    <td>0,3</td>\n",
    "    <td>0,4</td>\n",
    "  </tr>\n",
    "  <tr>\n",
    "    <td><i>$f(x)$</i></td>\n",
    "    <td>0,000000</td>\n",
    "    <td>0,078348</td>\n",
    "    <td>0,138910</td>\n",
    "    <td>0,192916</td>\n",
    "    <td>0,244981</td>\n",
    "  </tr>\n",
    "</table>\n",
    "\n",
    "\n",
    "**8.**\n",
    "Use interpolação polinomial para calcular $f'(0)$ e $f''(0)$, utilizando os seguintes dados:\n",
    "\n",
    "<table style=\"border-collapse: collapse; text-align: center;\">\n",
    "  <tr>\n",
    "    <td><i>$x$</i></td>\n",
    "    <td>−2.2</td>\n",
    "    <td>−0.3</td>\n",
    "    <td>0.8</td>\n",
    "    <td>1.9</td>\n",
    "  </tr>\n",
    "  <tr>\n",
    "    <td><i>$f(x)$</i></td>\n",
    "    <td>15.180</td>\n",
    "    <td>10.962</td>\n",
    "    <td>1.920</td>\n",
    "    <td>−2.040</td>\n",
    "  </tr>\n",
    "</table>\n",
    "\n"
   ]
  },
  {
   "cell_type": "markdown",
   "id": "68a65388",
   "metadata": {
    "papermill": {
     "duration": 0.015043,
     "end_time": "2025-10-09T16:59:36.051133",
     "exception": false,
     "start_time": "2025-10-09T16:59:36.036090",
     "status": "completed"
    },
    "tags": []
   },
   "source": [
    "**9.** Rastreamento por radar. As estações de radar $A$e $B$, separadas por uma distância $a = 500\\,\\text{m}$, rastreiam o avião $C$ registrando os ângulos $\\alpha$ e $\\beta$ em intervalos de um segundo. Um diagrama esquemático do problema é mostrado na Figura  1 ([1], p.197). \n",
    "\n",
    "<p align=\"center\">\n",
    "  <img src=\"https://raw.githubusercontent.com/fernandodeeke/can2025/5a01b5f5564201fe9237f9ced2e0cb6815b22afb/radar.png\" alt=\"Radar diagram\" width=\"250\"><br>\n",
    "  Figura 1 – Geometria do radar mostrando os ângulos $\\alpha$, $\\beta$ e $\\gamma$.\n",
    "</p>\n",
    "\n",
    "Se três leituras sucessivas são dadas por:\n",
    "\n",
    " <table style=\"border-collapse: collapse; text-align: center;\">\n",
    "  <tr>\n",
    "    <td><i>$t$ (s)</i></td>\n",
    "    <td>9</td>\n",
    "    <td>10</td>\n",
    "    <td>11</td>\n",
    "  </tr>\n",
    "  <tr>\n",
    "    <td><i>$\\alpha$</i></td>\n",
    "    <td>54.80°</td>\n",
    "    <td>54.06°</td>\n",
    "    <td>53.34°</td>\n",
    "  </tr>\n",
    "  <tr>\n",
    "    <td><i>$\\beta$</i></td>\n",
    "    <td>65.59°</td>\n",
    "    <td>64.59°</td>\n",
    "    <td>63.62°</td>\n",
    "  </tr>\n",
    "</table>\n",
    "\n",
    "\n",
    "Calcule a *magnitude da velocidade* $v$ do avião e o *ângulo de subida* $\\gamma$ no instante $t = 10\\,\\text{s}$.\n",
    "\n",
    "As coordenadas do avião podem ser expressas por:\n",
    "\n",
    "$$\n",
    "x = a \\, \\frac{\\tan \\beta}{\\tan \\beta - \\tan \\alpha}, \\qquad\n",
    "y = a \\, \\frac{\\tan \\alpha \\, \\tan \\beta}{\\tan \\beta - \\tan \\alpha}.\n",
    "$$"
   ]
  },
  {
   "cell_type": "markdown",
   "id": "fbebfd5f",
   "metadata": {
    "papermill": {
     "duration": 0.015426,
     "end_time": "2025-10-09T16:59:36.083098",
     "exception": false,
     "start_time": "2025-10-09T16:59:36.067672",
     "status": "completed"
    },
    "tags": []
   },
   "source": [
    "**10.**\n",
    "A relação entre a tensão $\\sigma$ e a deformação $\\varepsilon$ em tração uniaxial é\n",
    "\n",
    "$$\n",
    "\\frac{d\\sigma}{d\\varepsilon} = a + b\\,\\sigma\\,,\n",
    "$$\n",
    "\n",
    "sendo $a$ e $b$  constantes ( $\\frac{d\\sigma}{d\\varepsilon}$ é o *módulo tangente* ).\n",
    "\n",
    "A tabela a seguir apresenta os resultados de um ensaio de tração nesse material:\n",
    "\n",
    "| Deformação $\\varepsilon$ | Tensão $\\sigma$ (MPa) |\n",
    "|--------------------------|------------------------|\n",
    "| 0.00 | 0.000 |\n",
    "| 0.05 | 0.252 |\n",
    "| 0.10 | 0.531 |\n",
    "| 0.15 | 0.840 |\n",
    "| 0.20 | 1.184 |\n",
    "| 0.25 | 1.558 |\n",
    "| 0.30 | 1.975 |\n",
    "| 0.35 | 2.444 |\n",
    "| 0.40 | 2.943 |\n",
    "| 0.45 | 3.500 |\n",
    "| 0.50 | 4.115 |\n",
    "\n",
    "Determine os parâmetros $a$ e $b$ por regressão linear.\n"
   ]
  },
  {
   "cell_type": "markdown",
   "id": "7f18fd86",
   "metadata": {
    "papermill": {
     "duration": 0.014582,
     "end_time": "2025-10-09T16:59:36.112957",
     "exception": false,
     "start_time": "2025-10-09T16:59:36.098375",
     "status": "completed"
    },
    "tags": []
   },
   "source": [
    "### Referências\n",
    "\n",
    "1. Jaan Kiusalaas, Numerical Methods in Engineering with Python 3, Cambridge University Press, 2013.\n",
    "2. Alex, Gezerlis, Numerical Methods in Physics with Python, Cambridge University Press, 2020. "
   ]
  }
 ],
 "metadata": {
  "kaggle": {
   "accelerator": "none",
   "dataSources": [],
   "dockerImageVersionId": 31153,
   "isGpuEnabled": false,
   "isInternetEnabled": false,
   "language": "python",
   "sourceType": "notebook"
  },
  "kernelspec": {
   "display_name": "Python 3",
   "language": "python",
   "name": "python3"
  },
  "language_info": {
   "codemirror_mode": {
    "name": "ipython",
    "version": 3
   },
   "file_extension": ".py",
   "mimetype": "text/x-python",
   "name": "python",
   "nbconvert_exporter": "python",
   "pygments_lexer": "ipython3",
   "version": "3.11.13"
  },
  "panel-cell-order": [
   "d34a7dd0",
   "d1845216",
   "9e9ae685",
   "dfbcf1c8",
   "fe8bc313",
   "719c454f",
   "57466670",
   "c39285b9",
   "1d4862bf",
   "db85e637",
   "d35fb223",
   "ad1ff488",
   "763efcf2",
   "e2372891",
   "68470c6a",
   "b63e8a30",
   "cb9d7c5d",
   "b4da4846",
   "af2463de",
   "c078645a",
   "1d5c0ca4",
   "ffb03a2d",
   "81021da3",
   "cdac5259",
   "97bada7e",
   "54abdc00",
   "44392c50",
   "8c0ced31",
   "64c8694b",
   "2829a826",
   "2adf5116",
   "b8fe025a",
   "d2a346fe",
   "4493b85e",
   "784cd721",
   "fc361a81",
   "cc2e3a16",
   "d8e4cebd",
   "1d283572",
   "90018c38",
   "0b7fe47f",
   "cade0a5d",
   "a76b13ec",
   "c7908f52",
   "e78f83c1",
   "7477dafa",
   "e3d652b0",
   "7ce4bc16",
   "7de1446e",
   "dcd02459",
   "c439cdb8",
   "b50cb750",
   "30fc955b",
   "011137e8",
   "d28998ce",
   "60c52201",
   "a7f6c15e",
   "999af2db",
   "5286e037",
   "4ec727b7",
   "7812d26b",
   "0a9a9421",
   "5ebe837f",
   "ba13c0d5",
   "afff08b2",
   "7335d91c",
   "e80be863",
   "f762829e",
   "2cea6019",
   "94d7eca6",
   "e9687418",
   "c5bc1748",
   "443e9c59",
   "2c2a0a29",
   "b098b7a1"
  ],
  "papermill": {
   "default_parameters": {},
   "duration": 13.451943,
   "end_time": "2025-10-09T16:59:36.848830",
   "environment_variables": {},
   "exception": null,
   "input_path": "__notebook__.ipynb",
   "output_path": "__notebook__.ipynb",
   "parameters": {},
   "start_time": "2025-10-09T16:59:23.396887",
   "version": "2.6.0"
  }
 },
 "nbformat": 4,
 "nbformat_minor": 5
}
