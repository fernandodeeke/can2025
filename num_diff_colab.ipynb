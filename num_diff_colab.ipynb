{
  "cells": [
    {
      "cell_type": "markdown",
      "metadata": {
        "id": "view-in-github",
        "colab_type": "text"
      },
      "source": [
        "<a href=\"https://colab.research.google.com/github/fernandodeeke/can2025/blob/main/num_diff_colab.ipynb\" target=\"_parent\"><img src=\"https://colab.research.google.com/assets/colab-badge.svg\" alt=\"Open In Colab\"/></a>"
      ]
    },
    {
      "cell_type": "markdown",
      "id": "225fa3d1",
      "metadata": {
        "papermill": {
          "duration": 0.01559,
          "end_time": "2025-10-09T19:18:39.625017",
          "exception": false,
          "start_time": "2025-10-09T19:18:39.609427",
          "status": "completed"
        },
        "tags": [],
        "id": "225fa3d1"
      },
      "source": [
        "<center><h3></h3></center>\n",
        "<center><h1>Análise Numérica</h1></center>\n",
        "<center><h2>ANN0001 2025/2</h2></center>\n",
        "<center><h3>Prof. Fernando Deeke Sasse - CCT, UDESC</h3></center>    \n",
        "<center><h2>Diferenciação Numérica</h2> </center>"
      ]
    },
    {
      "cell_type": "markdown",
      "id": "b78e013d",
      "metadata": {
        "papermill": {
          "duration": 0.011092,
          "end_time": "2025-10-09T19:18:39.650344",
          "exception": false,
          "start_time": "2025-10-09T19:18:39.639252",
          "status": "completed"
        },
        "tags": [],
        "id": "b78e013d"
      },
      "source": [
        "### 1. Diferenças Finitas"
      ]
    },
    {
      "cell_type": "markdown",
      "id": "885a584a",
      "metadata": {
        "papermill": {
          "duration": 0.011588,
          "end_time": "2025-10-09T19:18:39.672096",
          "exception": false,
          "start_time": "2025-10-09T19:18:39.660508",
          "status": "completed"
        },
        "tags": [],
        "id": "885a584a"
      },
      "source": [
        "Nosso problema consiste em calcular a derivada de uma função definida por $f(x)$, denotada por $f'(x)$, para um dado valor específico $x$. Se tivermos uma expressão analítica para $f(x)$ o problema é relativamente simples. Se a expressão é muito complicada podemos usar o módulo simbólico simpy do Python. Por exemplo, suponhamos que\n",
        "\n",
        "$$\n",
        "f(x)= \\exp\\left(\\frac{\\sin(x^2)}{x}\\right) \\qquad (1)\n",
        "$$\n",
        "\n",
        "Então para diferenciar esta função podemos proceder do modo descrito a seguir."
      ]
    },
    {
      "cell_type": "code",
      "execution_count": null,
      "id": "c371ebf5",
      "metadata": {
        "execution": {
          "iopub.execute_input": "2025-10-09T19:18:39.692914Z",
          "iopub.status.busy": "2025-10-09T19:18:39.692619Z",
          "iopub.status.idle": "2025-10-09T19:18:42.324559Z",
          "shell.execute_reply": "2025-10-09T19:18:42.323725Z"
        },
        "papermill": {
          "duration": 2.644282,
          "end_time": "2025-10-09T19:18:42.326196",
          "exception": false,
          "start_time": "2025-10-09T19:18:39.681914",
          "status": "completed"
        },
        "tags": [],
        "id": "c371ebf5"
      },
      "outputs": [],
      "source": [
        "from sympy import *\n",
        "init_printing()"
      ]
    },
    {
      "cell_type": "code",
      "execution_count": null,
      "id": "62985ccf",
      "metadata": {
        "execution": {
          "iopub.execute_input": "2025-10-09T19:18:42.349660Z",
          "iopub.status.busy": "2025-10-09T19:18:42.348403Z",
          "iopub.status.idle": "2025-10-09T19:18:42.686289Z",
          "shell.execute_reply": "2025-10-09T19:18:42.685472Z"
        },
        "papermill": {
          "duration": 0.350383,
          "end_time": "2025-10-09T19:18:42.687800",
          "exception": false,
          "start_time": "2025-10-09T19:18:42.337417",
          "status": "completed"
        },
        "tags": [],
        "id": "62985ccf",
        "outputId": "123df85a-f8e1-43c7-b7cc-0ae53ec5da06"
      },
      "outputs": [
        {
          "data": {
            "text/latex": [
              "$\\displaystyle \\left( x \\mapsto e^{\\frac{\\sin{\\left(x^{2} \\right)}}{x}} \\right)$"
            ],
            "text/plain": [
              "        ⎛ 2⎞\n",
              "     sin⎝x ⎠\n",
              "     ───────\n",
              "        x   \n",
              "x ↦ ℯ       "
            ]
          },
          "execution_count": 2,
          "metadata": {},
          "output_type": "execute_result"
        }
      ],
      "source": [
        "x = symbols('x')\n",
        "f = Lambda(x, exp(sin(x**2)/x))\n",
        "f"
      ]
    },
    {
      "cell_type": "markdown",
      "id": "1ea22e26",
      "metadata": {
        "papermill": {
          "duration": 0.009425,
          "end_time": "2025-10-09T19:18:42.707370",
          "exception": false,
          "start_time": "2025-10-09T19:18:42.697945",
          "status": "completed"
        },
        "tags": [],
        "id": "1ea22e26"
      },
      "source": [
        "A derivada pode ser obtida analiticamente do seguinte modo:"
      ]
    },
    {
      "cell_type": "code",
      "execution_count": null,
      "id": "a3e6b8b6",
      "metadata": {
        "execution": {
          "iopub.execute_input": "2025-10-09T19:18:42.727738Z",
          "iopub.status.busy": "2025-10-09T19:18:42.727469Z",
          "iopub.status.idle": "2025-10-09T19:18:42.751840Z",
          "shell.execute_reply": "2025-10-09T19:18:42.751049Z"
        },
        "papermill": {
          "duration": 0.036332,
          "end_time": "2025-10-09T19:18:42.753280",
          "exception": false,
          "start_time": "2025-10-09T19:18:42.716948",
          "status": "completed"
        },
        "tags": [],
        "id": "a3e6b8b6",
        "outputId": "4df100c8-c2af-4415-ab6d-fe10fb2be43f"
      },
      "outputs": [
        {
          "data": {
            "text/latex": [
              "$\\displaystyle \\left(2 \\cos{\\left(x^{2} \\right)} - \\frac{\\sin{\\left(x^{2} \\right)}}{x^{2}}\\right) e^{\\frac{\\sin{\\left(x^{2} \\right)}}{x}}$"
            ],
            "text/plain": [
              "                          ⎛ 2⎞\n",
              "                       sin⎝x ⎠\n",
              "⎛               ⎛ 2⎞⎞  ───────\n",
              "⎜     ⎛ 2⎞   sin⎝x ⎠⎟     x   \n",
              "⎜2⋅cos⎝x ⎠ - ───────⎟⋅ℯ       \n",
              "⎜               2   ⎟         \n",
              "⎝              x    ⎠         "
            ]
          },
          "execution_count": 3,
          "metadata": {},
          "output_type": "execute_result"
        }
      ],
      "source": [
        "df=f(x).diff(x)\n",
        "df"
      ]
    },
    {
      "cell_type": "markdown",
      "id": "45b60ca4",
      "metadata": {
        "papermill": {
          "duration": 0.009725,
          "end_time": "2025-10-09T19:18:42.773244",
          "exception": false,
          "start_time": "2025-10-09T19:18:42.763519",
          "status": "completed"
        },
        "tags": [],
        "id": "45b60ca4"
      },
      "source": [
        "Em muitos casos, no entanto, temos que diferenciar uma função  que é definida por valores discretos de uma tabela especificando pares $(x_i, f_i)$. Para resolver tal problema poderíamos usar interpolação ou ajustes, de modo a produzir uma função que se ajusta bem aos dados. Sobre esta função poderíamos aplicar então os métodos analíticos. Tal técnica é útil quando temos dados que possuem um alto grau de ruído. Em alguns casos, no entanto, tal função aproximada falha na captura da informação crucial do valor da derivada de uma função num dado ponto e no erro associado a tal estimativa. Neste caso é mais interessante utilizar a técnica que descreveremos aqui, chamada diferenças finitas. Ela também é útil discretização de equações diferenciais. Veja as referências [1] e [2] para um estudo mais aprofundado.  \n",
        "\n",
        "A ideia da aproximação por diferenças finitas consiste em partir de expansões em séries de Taylor avançada e atrasada de uma função $f(x)$ definida no ponto de interesse $x$, para determinar $f(x+h)$ e $f(x-h)$, sendo $h$ uma quantidade pequena:\n",
        "\n",
        "$$\n",
        "f(x+h) = f(x)+ h f'(x)+\\frac{h^2}{2}f''(x)+\\frac{h^3}{3!}f'''(x)+\\frac{h^4}{3!}f^{(4)}(x)+ \\cdots. \\qquad (2)\n",
        "$$\n",
        "\n",
        "Isolando $f'(x)$ em (2) obtemos\n",
        "\n",
        "$$\n",
        "f'(x) = \\frac{f(x+h)-f(x)}{h}- \\frac{1}{h}\\left(\\frac{h^2}{2}f''(x)+\\frac{h^3}{3!}f'''(x)+\\frac{h^4}{3!}f^{(4)}(x)+ \\cdots\\right). \\qquad (3)\n",
        "$$\n",
        " ou\n",
        "$$\n",
        "f'(x) = \\frac{f(x+h)-f(x)}{h}+O(h)\\,, \\qquad (4)\n",
        "$$\n",
        "sendo\n",
        "$$\n",
        "O(h) = -\\left(\\frac{h}{2}f''(x)+\\frac{h^2}{3!}f'''(x)+\\frac{h^2}{3!}f^{(4)}(x)+ \\cdots\\right) . \\qquad (4)\n",
        "$$\n",
        "\n",
        " Quanto menor o valor de $h$ melhor será a aproximação, a não ser que o limite de precisão computacional seja alcançado. A notação $O(h^n)$ será usada daqui em diante para denotar o grau menor grau $n$ da potência de  $h$ entre todos os termos. Este termo é o erro da aproximação e a maior contribuição para o erro vem da menor potência de $h$.  \n",
        "\n",
        "Uma aproximação a partir de (4) é então dada por pela diferença finita avançada:\n",
        "\n",
        "$$\n",
        "f'(x) \\approx \\frac{f(x+h)-f(x)}{h}. \\qquad (6)\n",
        "$$\n",
        "\n",
        "Façamos agora a expansão em série de Taylor atrasada:\n",
        "\n",
        "$$\n",
        "f(x-h) = f(x)- h f'(x)+\\frac{h^2}{2}f''(x)-\\frac{h^3}{3!}f'''(x)+\\frac{h^4}{3!}f^{(4)}(x)+ \\cdots. \\qquad (7)\n",
        "$$\n",
        "\n",
        "A partir desta expressão obtemos a fórmula de diferença finita atrasada:\n",
        "$$\n",
        "f'(x) = \\frac{f(x)-f(x-h)}{h}+O(h)\\,, \\qquad (8)\n",
        "$$\n",
        "\n",
        "$$\n",
        "f'(x) \\approx \\frac{f(x)-f(x-h)}{h}\\,.  \\qquad (9)\n",
        "$$\n",
        "\n",
        "Podemos obter uma outra expressão para f'(x) subtraímos (7) de (2) e obtemos\n",
        "\n",
        "$$\n",
        "f(x+h)-f(x-h) = 2hf'(x)+2\\frac{h^3}{3!}f'''(x)+\\cdots . \\qquad (10)\n",
        "$$\n",
        "\n",
        "Isolando $f'(x)$ obtemos  chamada fórmula de diferença finita central:\n",
        "\n",
        "$$\n",
        "f'(x) = \\frac{f(x+h)-f(x-h)}{2h}+O(h^2)\\,. \\qquad (11)\n",
        "$$\n",
        "\n",
        "Notemos que agora o erro é de ordem $O(h^2)$. Façamos uma implementação destes métodos:\n"
      ]
    },
    {
      "cell_type": "code",
      "execution_count": null,
      "id": "4545681d",
      "metadata": {
        "execution": {
          "iopub.execute_input": "2025-10-09T19:18:42.794512Z",
          "iopub.status.busy": "2025-10-09T19:18:42.793737Z",
          "iopub.status.idle": "2025-10-09T19:18:42.799338Z",
          "shell.execute_reply": "2025-10-09T19:18:42.798558Z"
        },
        "papermill": {
          "duration": 0.017816,
          "end_time": "2025-10-09T19:18:42.800928",
          "exception": false,
          "start_time": "2025-10-09T19:18:42.783112",
          "status": "completed"
        },
        "tags": [],
        "id": "4545681d"
      },
      "outputs": [],
      "source": [
        "def derivada(f,a,method='central',h=0.01):\n",
        "    if method == 'central':\n",
        "        return (f(a + h) - f(a - h))/(2*h)\n",
        "    elif method == 'forward':\n",
        "        return (f(a + h) - f(a))/h\n",
        "    elif method == 'backward':\n",
        "        return (f(a) - f(a - h))/h\n",
        "    else:\n",
        "        raise ValueError(\"Método deve ser  'central', 'forward' or 'backward'.\")"
      ]
    },
    {
      "cell_type": "markdown",
      "id": "e443c49c",
      "metadata": {
        "papermill": {
          "duration": 0.010237,
          "end_time": "2025-10-09T19:18:42.821100",
          "exception": false,
          "start_time": "2025-10-09T19:18:42.810863",
          "status": "completed"
        },
        "tags": [],
        "id": "e443c49c"
      },
      "source": [
        "Neste programa, se não for indicado o método nem $h$, a diferença finita central e $h=0.01$ são automaticamente escolhidos. Façamos um teste calculando a derivada de $f(x)=x^3+x$ em $x=1$. É fácil verificar que $f'(x) = 3x^2+1$ e $f'(1)=4$."
      ]
    },
    {
      "cell_type": "code",
      "execution_count": null,
      "id": "01c8de78",
      "metadata": {
        "execution": {
          "iopub.execute_input": "2025-10-09T19:18:42.841586Z",
          "iopub.status.busy": "2025-10-09T19:18:42.841264Z",
          "iopub.status.idle": "2025-10-09T19:18:42.845587Z",
          "shell.execute_reply": "2025-10-09T19:18:42.844785Z"
        },
        "papermill": {
          "duration": 0.016279,
          "end_time": "2025-10-09T19:18:42.846794",
          "exception": false,
          "start_time": "2025-10-09T19:18:42.830515",
          "status": "completed"
        },
        "tags": [],
        "id": "01c8de78"
      },
      "outputs": [],
      "source": [
        " def f(x):\n",
        "        return x**3+x"
      ]
    },
    {
      "cell_type": "code",
      "execution_count": null,
      "id": "0f53a6d2",
      "metadata": {
        "execution": {
          "iopub.execute_input": "2025-10-09T19:18:42.867808Z",
          "iopub.status.busy": "2025-10-09T19:18:42.866887Z",
          "iopub.status.idle": "2025-10-09T19:18:42.873823Z",
          "shell.execute_reply": "2025-10-09T19:18:42.873064Z"
        },
        "papermill": {
          "duration": 0.018865,
          "end_time": "2025-10-09T19:18:42.875201",
          "exception": false,
          "start_time": "2025-10-09T19:18:42.856336",
          "status": "completed"
        },
        "tags": [],
        "id": "0f53a6d2",
        "outputId": "5e763fcd-da08-4d85-9ac4-cd28ee897d8b"
      },
      "outputs": [
        {
          "data": {
            "text/latex": [
              "$\\displaystyle 4.00300099999962$"
            ],
            "text/plain": [
              "4.0030009999996174"
            ]
          },
          "execution_count": 6,
          "metadata": {},
          "output_type": "execute_result"
        }
      ],
      "source": [
        "derivada(f,1,method='forward',h=0.001)"
      ]
    },
    {
      "cell_type": "markdown",
      "id": "3f4a3a1a",
      "metadata": {
        "papermill": {
          "duration": 0.009659,
          "end_time": "2025-10-09T19:18:42.894592",
          "exception": false,
          "start_time": "2025-10-09T19:18:42.884933",
          "status": "completed"
        },
        "tags": [],
        "id": "3f4a3a1a"
      },
      "source": [
        "Examinemos o erro cometido:"
      ]
    },
    {
      "cell_type": "code",
      "execution_count": null,
      "id": "7eaeedab",
      "metadata": {
        "execution": {
          "iopub.execute_input": "2025-10-09T19:18:42.915576Z",
          "iopub.status.busy": "2025-10-09T19:18:42.915269Z",
          "iopub.status.idle": "2025-10-09T19:18:42.922516Z",
          "shell.execute_reply": "2025-10-09T19:18:42.921534Z"
        },
        "papermill": {
          "duration": 0.019354,
          "end_time": "2025-10-09T19:18:42.923867",
          "exception": false,
          "start_time": "2025-10-09T19:18:42.904513",
          "status": "completed"
        },
        "tags": [],
        "id": "7eaeedab",
        "outputId": "20af1567-002b-4c79-9042-aa9770e56092"
      },
      "outputs": [
        {
          "data": {
            "text/latex": [
              "$\\displaystyle 0.00300099999961745$"
            ],
            "text/plain": [
              "0.0030009999996174486"
            ]
          },
          "execution_count": 7,
          "metadata": {},
          "output_type": "execute_result"
        }
      ],
      "source": [
        "erro1= abs(4 - derivada(f,1,method='forward',h=0.001))\n",
        "erro1"
      ]
    },
    {
      "cell_type": "markdown",
      "id": "3cb74671",
      "metadata": {
        "papermill": {
          "duration": 0.009432,
          "end_time": "2025-10-09T19:18:42.943525",
          "exception": false,
          "start_time": "2025-10-09T19:18:42.934093",
          "status": "completed"
        },
        "tags": [],
        "id": "3cb74671"
      },
      "source": [
        "Usemos agora a fórmula para o método central, de ordem $O(h^2)$:"
      ]
    },
    {
      "cell_type": "code",
      "execution_count": null,
      "id": "a1994c61",
      "metadata": {
        "execution": {
          "iopub.execute_input": "2025-10-09T19:18:42.964570Z",
          "iopub.status.busy": "2025-10-09T19:18:42.964273Z",
          "iopub.status.idle": "2025-10-09T19:18:42.971088Z",
          "shell.execute_reply": "2025-10-09T19:18:42.970356Z"
        },
        "papermill": {
          "duration": 0.018881,
          "end_time": "2025-10-09T19:18:42.972339",
          "exception": false,
          "start_time": "2025-10-09T19:18:42.953458",
          "status": "completed"
        },
        "tags": [],
        "id": "a1994c61",
        "outputId": "5b99dd00-de3b-43dc-e8ee-2a3277f2d294"
      },
      "outputs": [
        {
          "data": {
            "text/latex": [
              "$\\displaystyle 4.00000099999986$"
            ],
            "text/plain": [
              "4.000000999999864"
            ]
          },
          "execution_count": 8,
          "metadata": {},
          "output_type": "execute_result"
        }
      ],
      "source": [
        "derivada(f,1,method='central',h=0.001)"
      ]
    },
    {
      "cell_type": "markdown",
      "id": "b53a8c9a",
      "metadata": {
        "papermill": {
          "duration": 0.010078,
          "end_time": "2025-10-09T19:18:42.992767",
          "exception": false,
          "start_time": "2025-10-09T19:18:42.982689",
          "status": "completed"
        },
        "tags": [],
        "id": "b53a8c9a"
      },
      "source": [
        "O erro cometido é agora dado por:"
      ]
    },
    {
      "cell_type": "code",
      "execution_count": null,
      "id": "ece56f62",
      "metadata": {
        "execution": {
          "iopub.execute_input": "2025-10-09T19:18:43.014653Z",
          "iopub.status.busy": "2025-10-09T19:18:43.014332Z",
          "iopub.status.idle": "2025-10-09T19:18:43.021473Z",
          "shell.execute_reply": "2025-10-09T19:18:43.020606Z"
        },
        "papermill": {
          "duration": 0.020071,
          "end_time": "2025-10-09T19:18:43.023069",
          "exception": false,
          "start_time": "2025-10-09T19:18:43.002998",
          "status": "completed"
        },
        "tags": [],
        "id": "ece56f62",
        "outputId": "e4670bde-c87e-4ef7-d364-d7e0f66412bf"
      },
      "outputs": [
        {
          "data": {
            "text/latex": [
              "$\\displaystyle 9.9999986424848 \\cdot 10^{-7}$"
            ],
            "text/plain": [
              "9.999998642484798e-07"
            ]
          },
          "execution_count": 9,
          "metadata": {},
          "output_type": "execute_result"
        }
      ],
      "source": [
        "erro2= abs(4 - derivada(f,1,method='central',h=0.001))\n",
        "erro2"
      ]
    },
    {
      "cell_type": "markdown",
      "id": "9cc78c12",
      "metadata": {
        "papermill": {
          "duration": 0.010509,
          "end_time": "2025-10-09T19:18:43.044916",
          "exception": false,
          "start_time": "2025-10-09T19:18:43.034407",
          "status": "completed"
        },
        "tags": [],
        "id": "9cc78c12"
      },
      "source": [
        "Para que o método da diferença finita avançada tenha a mesma acurácia que o método central, devemos usar $h^2=(0.001)^2=10^{-6}$. De fato,"
      ]
    },
    {
      "cell_type": "code",
      "execution_count": null,
      "id": "67a05ecb",
      "metadata": {
        "execution": {
          "iopub.execute_input": "2025-10-09T19:18:43.067527Z",
          "iopub.status.busy": "2025-10-09T19:18:43.067231Z",
          "iopub.status.idle": "2025-10-09T19:18:43.074499Z",
          "shell.execute_reply": "2025-10-09T19:18:43.073674Z"
        },
        "papermill": {
          "duration": 0.020293,
          "end_time": "2025-10-09T19:18:43.075812",
          "exception": false,
          "start_time": "2025-10-09T19:18:43.055519",
          "status": "completed"
        },
        "tags": [],
        "id": "67a05ecb",
        "outputId": "cec4e997-8888-4031-f465-14941b19e07e"
      },
      "outputs": [
        {
          "data": {
            "text/latex": [
              "$\\displaystyle 2.99993763519524 \\cdot 10^{-6}$"
            ],
            "text/plain": [
              "2.999937635195238e-06"
            ]
          },
          "execution_count": 10,
          "metadata": {},
          "output_type": "execute_result"
        }
      ],
      "source": [
        "erro3= abs(4 - derivada(f,1,method='forward',h=0.001**2))\n",
        "erro3"
      ]
    },
    {
      "cell_type": "markdown",
      "id": "46224d5a",
      "metadata": {
        "papermill": {
          "duration": 0.01031,
          "end_time": "2025-10-09T19:18:43.096773",
          "exception": false,
          "start_time": "2025-10-09T19:18:43.086463",
          "status": "completed"
        },
        "tags": [],
        "id": "46224d5a"
      },
      "source": [
        "Usando a fórmula de diferença finita atrasada temos"
      ]
    },
    {
      "cell_type": "code",
      "execution_count": null,
      "id": "b3464b38",
      "metadata": {
        "execution": {
          "iopub.execute_input": "2025-10-09T19:18:43.118456Z",
          "iopub.status.busy": "2025-10-09T19:18:43.118147Z",
          "iopub.status.idle": "2025-10-09T19:18:43.124576Z",
          "shell.execute_reply": "2025-10-09T19:18:43.123849Z"
        },
        "papermill": {
          "duration": 0.018719,
          "end_time": "2025-10-09T19:18:43.125810",
          "exception": false,
          "start_time": "2025-10-09T19:18:43.107091",
          "status": "completed"
        },
        "tags": [],
        "id": "b3464b38",
        "outputId": "4615c324-c46c-4abc-cb7a-37ba90d78e8e"
      },
      "outputs": [
        {
          "data": {
            "text/latex": [
              "$\\displaystyle 2.99992963448403 \\cdot 10^{-6}$"
            ],
            "text/plain": [
              "2.999929634484033e-06"
            ]
          },
          "execution_count": 11,
          "metadata": {},
          "output_type": "execute_result"
        }
      ],
      "source": [
        "erro4= abs(4 - derivada(f,1,method='backward',h=0.001**2))\n",
        "erro4"
      ]
    },
    {
      "cell_type": "markdown",
      "id": "3896a4a7",
      "metadata": {
        "papermill": {
          "duration": 0.009741,
          "end_time": "2025-10-09T19:18:43.146265",
          "exception": false,
          "start_time": "2025-10-09T19:18:43.136524",
          "status": "completed"
        },
        "tags": [],
        "id": "3896a4a7"
      },
      "source": [
        "Somando (2) e (7) e isolando $f''(x)$ obtemos diferença finita central para a segunda derivada:\n",
        "\n",
        "$$\n",
        "f''(x) = \\frac{f(x+h)-2f(x)+f(x-h)}{h^2}+O(h^2)\\,. \\qquad (12)\n",
        "$$\n",
        "\n",
        "Implementemos este método:"
      ]
    },
    {
      "cell_type": "code",
      "execution_count": null,
      "id": "f09b2fdb",
      "metadata": {
        "execution": {
          "iopub.execute_input": "2025-10-09T19:18:43.168455Z",
          "iopub.status.busy": "2025-10-09T19:18:43.167695Z",
          "iopub.status.idle": "2025-10-09T19:18:43.172363Z",
          "shell.execute_reply": "2025-10-09T19:18:43.171450Z"
        },
        "papermill": {
          "duration": 0.017129,
          "end_time": "2025-10-09T19:18:43.173699",
          "exception": false,
          "start_time": "2025-10-09T19:18:43.156570",
          "status": "completed"
        },
        "tags": [],
        "id": "f09b2fdb"
      },
      "outputs": [],
      "source": [
        "def derivada2(f,a,h=0.01):\n",
        "        return (f(a+h) -2*f(a)+ f(a-h))/h**2"
      ]
    },
    {
      "cell_type": "markdown",
      "id": "34b98167",
      "metadata": {
        "papermill": {
          "duration": 0.010378,
          "end_time": "2025-10-09T19:18:43.194354",
          "exception": false,
          "start_time": "2025-10-09T19:18:43.183976",
          "status": "completed"
        },
        "tags": [],
        "id": "34b98167"
      },
      "source": [
        "Testemos esta função em $f(x)=x^3+3x$ avaliado em $x=1$. O resultado exato é $f''(1)=6$."
      ]
    },
    {
      "cell_type": "code",
      "execution_count": null,
      "id": "9dd66da5",
      "metadata": {
        "execution": {
          "iopub.execute_input": "2025-10-09T19:18:43.216354Z",
          "iopub.status.busy": "2025-10-09T19:18:43.216066Z",
          "iopub.status.idle": "2025-10-09T19:18:43.219748Z",
          "shell.execute_reply": "2025-10-09T19:18:43.219142Z"
        },
        "papermill": {
          "duration": 0.016289,
          "end_time": "2025-10-09T19:18:43.221046",
          "exception": false,
          "start_time": "2025-10-09T19:18:43.204757",
          "status": "completed"
        },
        "tags": [],
        "id": "9dd66da5"
      },
      "outputs": [],
      "source": [
        " def f(x):\n",
        "        return x**3+x"
      ]
    },
    {
      "cell_type": "code",
      "execution_count": null,
      "id": "b8fb0bb6",
      "metadata": {
        "execution": {
          "iopub.execute_input": "2025-10-09T19:18:43.243121Z",
          "iopub.status.busy": "2025-10-09T19:18:43.242783Z",
          "iopub.status.idle": "2025-10-09T19:18:43.249263Z",
          "shell.execute_reply": "2025-10-09T19:18:43.248428Z"
        },
        "papermill": {
          "duration": 0.019105,
          "end_time": "2025-10-09T19:18:43.250605",
          "exception": false,
          "start_time": "2025-10-09T19:18:43.231500",
          "status": "completed"
        },
        "tags": [],
        "id": "b8fb0bb6",
        "outputId": "c469b96b-9529-41f7-f822-f8f8533693ce"
      },
      "outputs": [
        {
          "data": {
            "text/latex": [
              "$\\displaystyle 5.9999999995064$"
            ],
            "text/plain": [
              "5.9999999995064"
            ]
          },
          "execution_count": 14,
          "metadata": {},
          "output_type": "execute_result"
        }
      ],
      "source": [
        "derivada2(f,1,h=0.001)"
      ]
    },
    {
      "cell_type": "markdown",
      "id": "fb2e168c",
      "metadata": {
        "papermill": {
          "duration": 0.010598,
          "end_time": "2025-10-09T19:18:43.272147",
          "exception": false,
          "start_time": "2025-10-09T19:18:43.261549",
          "status": "completed"
        },
        "tags": [],
        "id": "fb2e168c"
      },
      "source": [
        "Diversas outras fórmulas de diferenças finitas podem ser obtidas de forma similar. Mostramos na tabelas abaixo os coeficientes das aproximações de diferenças finitas de vários tipos de ordem $O(h^2)$:"
      ]
    },
    {
      "cell_type": "markdown",
      "id": "50019570",
      "metadata": {
        "papermill": {
          "duration": 0.010768,
          "end_time": "2025-10-09T19:18:43.294095",
          "exception": false,
          "start_time": "2025-10-09T19:18:43.283327",
          "status": "completed"
        },
        "tags": [],
        "id": "50019570"
      },
      "source": [
        "1. Diferenças finitas centrais de  ordem $O(h^2)$:\n",
        "\n",
        "<p align=\"center\">\n",
        "  <img src=\"https://raw.githubusercontent.com/fernandodeeke/can2025/main/centrais.png\" alt=\"centrais\" width=\"750\"><br>\n",
        "</p>"
      ]
    },
    {
      "cell_type": "markdown",
      "id": "a8d3303f",
      "metadata": {
        "papermill": {
          "duration": 0.010165,
          "end_time": "2025-10-09T19:18:43.314812",
          "exception": false,
          "start_time": "2025-10-09T19:18:43.304647",
          "status": "completed"
        },
        "tags": [],
        "id": "a8d3303f"
      },
      "source": [
        "2. Diferenças finitas avançadas de  ordem $O(h^2)$:\n",
        "<p align=\"center\">\n",
        "  <img src=\"https://raw.githubusercontent.com/fernandodeeke/can2025/main/avancadas.png\" alt=\"centrais\" width=\"750\"><br>\n",
        "</p>"
      ]
    },
    {
      "cell_type": "markdown",
      "id": "d079420a",
      "metadata": {
        "papermill": {
          "duration": 0.012257,
          "end_time": "2025-10-09T19:18:43.337736",
          "exception": false,
          "start_time": "2025-10-09T19:18:43.325479",
          "status": "completed"
        },
        "tags": [],
        "id": "d079420a"
      },
      "source": [
        "3. Diferenças finitas atrasadas de  ordem $O(h^2)$:\n",
        "\n",
        "<p align=\"center\">\n",
        "  <img src=\"https://raw.githubusercontent.com/fernandodeeke/can2025/main/centrais.png\" alt=\"atrasadas\" width=\"750\"><br>\n",
        "</p>"
      ]
    },
    {
      "cell_type": "markdown",
      "id": "b8049465",
      "metadata": {
        "papermill": {
          "duration": 0.010515,
          "end_time": "2025-10-09T19:18:43.359277",
          "exception": false,
          "start_time": "2025-10-09T19:18:43.348762",
          "status": "completed"
        },
        "tags": [],
        "id": "b8049465"
      },
      "source": [
        "### Exemplos"
      ]
    },
    {
      "cell_type": "markdown",
      "id": "749e94c5",
      "metadata": {
        "papermill": {
          "duration": 0.010785,
          "end_time": "2025-10-09T19:18:43.380657",
          "exception": false,
          "start_time": "2025-10-09T19:18:43.369872",
          "status": "completed"
        },
        "tags": [],
        "id": "749e94c5"
      },
      "source": [
        "1. Consideremos o seguinte conjunto de dados que definem $f(t)$:"
      ]
    },
    {
      "cell_type": "code",
      "execution_count": null,
      "id": "89172911",
      "metadata": {
        "execution": {
          "iopub.execute_input": "2025-10-09T19:18:43.403316Z",
          "iopub.status.busy": "2025-10-09T19:18:43.402983Z",
          "iopub.status.idle": "2025-10-09T19:18:43.407037Z",
          "shell.execute_reply": "2025-10-09T19:18:43.406332Z"
        },
        "papermill": {
          "duration": 0.01711,
          "end_time": "2025-10-09T19:18:43.408313",
          "exception": false,
          "start_time": "2025-10-09T19:18:43.391203",
          "status": "completed"
        },
        "tags": [],
        "id": "89172911"
      },
      "outputs": [],
      "source": [
        "import numpy as np"
      ]
    },
    {
      "cell_type": "code",
      "execution_count": null,
      "id": "33e6ce5a",
      "metadata": {
        "execution": {
          "iopub.execute_input": "2025-10-09T19:18:43.431375Z",
          "iopub.status.busy": "2025-10-09T19:18:43.431102Z",
          "iopub.status.idle": "2025-10-09T19:18:43.435520Z",
          "shell.execute_reply": "2025-10-09T19:18:43.434704Z"
        },
        "papermill": {
          "duration": 0.017163,
          "end_time": "2025-10-09T19:18:43.436782",
          "exception": false,
          "start_time": "2025-10-09T19:18:43.419619",
          "status": "completed"
        },
        "tags": [],
        "id": "33e6ce5a"
      },
      "outputs": [],
      "source": [
        "t = np.array([0.,0.1,0.2,0.3,0.4])\n",
        "f = np.array([0.0000, 0.0819, 0.1341, 0.1646, 0.1797])"
      ]
    },
    {
      "cell_type": "markdown",
      "id": "489024dc",
      "metadata": {
        "papermill": {
          "duration": 0.011003,
          "end_time": "2025-10-09T19:18:43.458912",
          "exception": false,
          "start_time": "2025-10-09T19:18:43.447909",
          "status": "completed"
        },
        "tags": [],
        "id": "489024dc"
      },
      "source": [
        "(i) Determinemos  $f''(0)$ usando diferenças finitas.  Para isso devemos usar a fórmula dada na tabela para diferenças finitas avançadas:\n",
        "\n",
        "$$\n",
        "f''(x)= \\frac{1}{h^2}\\left[2f(x)-5f(x+h)+4f(x+2h)-f(x+3h)\\right]\\,. \\qquad (13)\n",
        "$$"
      ]
    },
    {
      "cell_type": "markdown",
      "id": "850130ab",
      "metadata": {
        "papermill": {
          "duration": 0.01065,
          "end_time": "2025-10-09T19:18:43.480684",
          "exception": false,
          "start_time": "2025-10-09T19:18:43.470034",
          "status": "completed"
        },
        "tags": [],
        "id": "850130ab"
      },
      "source": [
        "Aqui, de acordo com os dados, devemos usar $h=0.1$. Portanto,"
      ]
    },
    {
      "cell_type": "code",
      "execution_count": null,
      "id": "1015e2ff",
      "metadata": {
        "execution": {
          "iopub.execute_input": "2025-10-09T19:18:43.503568Z",
          "iopub.status.busy": "2025-10-09T19:18:43.503304Z",
          "iopub.status.idle": "2025-10-09T19:18:43.510413Z",
          "shell.execute_reply": "2025-10-09T19:18:43.509497Z"
        },
        "papermill": {
          "duration": 0.020185,
          "end_time": "2025-10-09T19:18:43.511730",
          "exception": false,
          "start_time": "2025-10-09T19:18:43.491545",
          "status": "completed"
        },
        "tags": [],
        "id": "1015e2ff",
        "outputId": "1d059900-472d-44f3-d2b4-8a99a110e205"
      },
      "outputs": [
        {
          "data": {
            "text/latex": [
              "$\\displaystyle -3.77$"
            ],
            "text/plain": [
              "-3.769999999999998"
            ]
          },
          "execution_count": 17,
          "metadata": {},
          "output_type": "execute_result"
        }
      ],
      "source": [
        "h = 0.1\n",
        "df2 = (2*f[0]-5*f[1]+4*f[2]-f[3])/h**2\n",
        "df2"
      ]
    },
    {
      "cell_type": "markdown",
      "id": "c3d21022",
      "metadata": {
        "papermill": {
          "duration": 0.010839,
          "end_time": "2025-10-09T19:18:43.533690",
          "exception": false,
          "start_time": "2025-10-09T19:18:43.522851",
          "status": "completed"
        },
        "tags": [],
        "id": "c3d21022"
      },
      "source": [
        "(ii) Determinemos $f''(0)$ usando ajuste por mínimos quadrados. Visualizemos os dados num gráfico:"
      ]
    },
    {
      "cell_type": "code",
      "execution_count": null,
      "id": "fd2b0577",
      "metadata": {
        "execution": {
          "iopub.execute_input": "2025-10-09T19:18:43.556920Z",
          "iopub.status.busy": "2025-10-09T19:18:43.556613Z",
          "iopub.status.idle": "2025-10-09T19:18:43.560489Z",
          "shell.execute_reply": "2025-10-09T19:18:43.559855Z"
        },
        "papermill": {
          "duration": 0.017372,
          "end_time": "2025-10-09T19:18:43.561874",
          "exception": false,
          "start_time": "2025-10-09T19:18:43.544502",
          "status": "completed"
        },
        "tags": [],
        "id": "fd2b0577"
      },
      "outputs": [],
      "source": [
        "import matplotlib.pyplot as plt"
      ]
    },
    {
      "cell_type": "code",
      "execution_count": null,
      "id": "47660680",
      "metadata": {
        "execution": {
          "iopub.execute_input": "2025-10-09T19:18:43.584698Z",
          "iopub.status.busy": "2025-10-09T19:18:43.584443Z",
          "iopub.status.idle": "2025-10-09T19:18:43.830640Z",
          "shell.execute_reply": "2025-10-09T19:18:43.829778Z"
        },
        "papermill": {
          "duration": 0.259323,
          "end_time": "2025-10-09T19:18:43.831981",
          "exception": false,
          "start_time": "2025-10-09T19:18:43.572658",
          "status": "completed"
        },
        "tags": [],
        "id": "47660680",
        "outputId": "da7f9647-e606-4fd8-d6a3-7c9aa9c68a31"
      },
      "outputs": [
        {
          "data": {
            "text/plain": [
              "Text(0, 0.5, 'f')"
            ]
          },
          "execution_count": 19,
          "metadata": {},
          "output_type": "execute_result"
        },
        {
          "data": {
            "image/png": "[encoded data removed]",
            "text/plain": [
              "<Figure size 640x480 with 1 Axes>"
            ]
          },
          "metadata": {},
          "output_type": "display_data"
        }
      ],
      "source": [
        "plt.plot(t,f,'ro')\n",
        "plt.xlabel('t')\n",
        "plt.ylabel('f')"
      ]
    },
    {
      "cell_type": "code",
      "execution_count": null,
      "id": "bf2376c0",
      "metadata": {
        "execution": {
          "iopub.execute_input": "2025-10-09T19:18:43.855636Z",
          "iopub.status.busy": "2025-10-09T19:18:43.854986Z",
          "iopub.status.idle": "2025-10-09T19:18:44.510703Z",
          "shell.execute_reply": "2025-10-09T19:18:44.509593Z"
        },
        "papermill": {
          "duration": 0.669208,
          "end_time": "2025-10-09T19:18:44.512490",
          "exception": false,
          "start_time": "2025-10-09T19:18:43.843282",
          "status": "completed"
        },
        "tags": [],
        "id": "bf2376c0"
      },
      "outputs": [],
      "source": [
        "from scipy.optimize import curve_fit"
      ]
    },
    {
      "cell_type": "code",
      "execution_count": null,
      "id": "b474890f",
      "metadata": {
        "execution": {
          "iopub.execute_input": "2025-10-09T19:18:44.537068Z",
          "iopub.status.busy": "2025-10-09T19:18:44.536211Z",
          "iopub.status.idle": "2025-10-09T19:18:44.540750Z",
          "shell.execute_reply": "2025-10-09T19:18:44.539887Z"
        },
        "papermill": {
          "duration": 0.018159,
          "end_time": "2025-10-09T19:18:44.542290",
          "exception": false,
          "start_time": "2025-10-09T19:18:44.524131",
          "status": "completed"
        },
        "tags": [],
        "id": "b474890f"
      },
      "outputs": [],
      "source": [
        "def g(t, a, b,c,d):\n",
        "    return a + b*t+c*t**2+d*t**3"
      ]
    },
    {
      "cell_type": "code",
      "execution_count": null,
      "id": "c0850c2b",
      "metadata": {
        "execution": {
          "iopub.execute_input": "2025-10-09T19:18:44.568015Z",
          "iopub.status.busy": "2025-10-09T19:18:44.567159Z",
          "iopub.status.idle": "2025-10-09T19:18:44.577610Z",
          "shell.execute_reply": "2025-10-09T19:18:44.576598Z"
        },
        "papermill": {
          "duration": 0.024748,
          "end_time": "2025-10-09T19:18:44.579091",
          "exception": false,
          "start_time": "2025-10-09T19:18:44.554343",
          "status": "completed"
        },
        "tags": [],
        "id": "c0850c2b"
      },
      "outputs": [],
      "source": [
        "c, pcov = curve_fit(g, t, f)"
      ]
    },
    {
      "cell_type": "markdown",
      "id": "7602eb49",
      "metadata": {
        "papermill": {
          "duration": 0.011306,
          "end_time": "2025-10-09T19:18:44.601783",
          "exception": false,
          "start_time": "2025-10-09T19:18:44.590477",
          "status": "completed"
        },
        "tags": [],
        "id": "7602eb49"
      },
      "source": [
        "Portanto, os coeficientes do polinômio ajustado são (em ordem crescente de grau):"
      ]
    },
    {
      "cell_type": "code",
      "execution_count": null,
      "id": "a98b4332",
      "metadata": {
        "execution": {
          "iopub.execute_input": "2025-10-09T19:18:44.625543Z",
          "iopub.status.busy": "2025-10-09T19:18:44.625253Z",
          "iopub.status.idle": "2025-10-09T19:18:44.631131Z",
          "shell.execute_reply": "2025-10-09T19:18:44.630451Z"
        },
        "papermill": {
          "duration": 0.01937,
          "end_time": "2025-10-09T19:18:44.632412",
          "exception": false,
          "start_time": "2025-10-09T19:18:44.613042",
          "status": "completed"
        },
        "tags": [],
        "id": "a98b4332",
        "outputId": "11bc76ab-9f52-4bc0-a361-19b113f55793"
      },
      "outputs": [
        {
          "data": {
            "text/plain": [
              "array([ 2.42772177e-05,  9.88297748e-01, -1.82428628e+00,  1.19166740e+00])"
            ]
          },
          "execution_count": 23,
          "metadata": {},
          "output_type": "execute_result"
        }
      ],
      "source": [
        "c"
      ]
    },
    {
      "cell_type": "markdown",
      "id": "81a14b5b",
      "metadata": {
        "papermill": {
          "duration": 0.011531,
          "end_time": "2025-10-09T19:18:44.655434",
          "exception": false,
          "start_time": "2025-10-09T19:18:44.643903",
          "status": "completed"
        },
        "tags": [],
        "id": "81a14b5b"
      },
      "source": [
        "É interessante confirmar visualmente o sucesso do ajuste:"
      ]
    },
    {
      "cell_type": "code",
      "execution_count": null,
      "id": "6217e034",
      "metadata": {
        "execution": {
          "iopub.execute_input": "2025-10-09T19:18:44.680580Z",
          "iopub.status.busy": "2025-10-09T19:18:44.679785Z",
          "iopub.status.idle": "2025-10-09T19:18:44.684252Z",
          "shell.execute_reply": "2025-10-09T19:18:44.683551Z"
        },
        "papermill": {
          "duration": 0.018441,
          "end_time": "2025-10-09T19:18:44.685739",
          "exception": false,
          "start_time": "2025-10-09T19:18:44.667298",
          "status": "completed"
        },
        "tags": [],
        "id": "6217e034"
      },
      "outputs": [],
      "source": [
        "T = np.linspace(-0.02, 0.41,30)"
      ]
    },
    {
      "cell_type": "code",
      "execution_count": null,
      "id": "0ce9f16a",
      "metadata": {
        "execution": {
          "iopub.execute_input": "2025-10-09T19:18:44.710713Z",
          "iopub.status.busy": "2025-10-09T19:18:44.709902Z",
          "iopub.status.idle": "2025-10-09T19:18:44.891444Z",
          "shell.execute_reply": "2025-10-09T19:18:44.890493Z"
        },
        "papermill": {
          "duration": 0.195589,
          "end_time": "2025-10-09T19:18:44.893166",
          "exception": false,
          "start_time": "2025-10-09T19:18:44.697577",
          "status": "completed"
        },
        "tags": [],
        "id": "0ce9f16a",
        "outputId": "03cc911b-b46b-4a37-d225-2ea61c8cf2da"
      },
      "outputs": [
        {
          "data": {
            "text/plain": [
              "Text(0, 0.5, 'f')"
            ]
          },
          "execution_count": 25,
          "metadata": {},
          "output_type": "execute_result"
        },
        {
          "data": {
            "image/png": "[encoded data removed]",
            "text/plain": [
              "<Figure size 640x480 with 1 Axes>"
            ]
          },
          "metadata": {},
          "output_type": "display_data"
        }
      ],
      "source": [
        "plt.plot(t,f,'ro', T, g(T, *c), 'g-')\n",
        "plt.xlabel('t')\n",
        "plt.ylabel('f')"
      ]
    },
    {
      "cell_type": "markdown",
      "id": "1f1d232f",
      "metadata": {
        "papermill": {
          "duration": 0.012132,
          "end_time": "2025-10-09T19:18:44.917978",
          "exception": false,
          "start_time": "2025-10-09T19:18:44.905846",
          "status": "completed"
        },
        "tags": [],
        "id": "1f1d232f"
      },
      "source": [
        "Temos agora a função que ajusta os dados, que pode ser diferenciada analiticamente:"
      ]
    },
    {
      "cell_type": "code",
      "execution_count": null,
      "id": "77e484ba",
      "metadata": {
        "execution": {
          "iopub.execute_input": "2025-10-09T19:18:44.944060Z",
          "iopub.status.busy": "2025-10-09T19:18:44.943684Z",
          "iopub.status.idle": "2025-10-09T19:18:44.949387Z",
          "shell.execute_reply": "2025-10-09T19:18:44.948431Z"
        },
        "papermill": {
          "duration": 0.02058,
          "end_time": "2025-10-09T19:18:44.950760",
          "exception": false,
          "start_time": "2025-10-09T19:18:44.930180",
          "status": "completed"
        },
        "tags": [],
        "id": "77e484ba"
      },
      "outputs": [],
      "source": [
        "from sympy import *\n",
        "x = symbols('x')\n",
        "init_printing(use_unicode=True)"
      ]
    },
    {
      "cell_type": "code",
      "execution_count": null,
      "id": "36511ffe",
      "metadata": {
        "execution": {
          "iopub.execute_input": "2025-10-09T19:18:44.976826Z",
          "iopub.status.busy": "2025-10-09T19:18:44.976533Z",
          "iopub.status.idle": "2025-10-09T19:18:44.989228Z",
          "shell.execute_reply": "2025-10-09T19:18:44.988357Z"
        },
        "papermill": {
          "duration": 0.027334,
          "end_time": "2025-10-09T19:18:44.990628",
          "exception": false,
          "start_time": "2025-10-09T19:18:44.963294",
          "status": "completed"
        },
        "tags": [],
        "id": "36511ffe",
        "outputId": "f72d4155-a12a-4de7-abbd-50f1b2b69e2e"
      },
      "outputs": [
        {
          "data": {
            "text/latex": [
              "$\\displaystyle 1.19166739877843 x^{3} - 1.82428627641613 x^{2} + 0.988297748356107 x + 2.42772176753685 \\cdot 10^{-5}$"
            ],
            "text/plain": [
              "                  3                     2                                      ↪\n",
              "1.19166739877843⋅x  - 1.82428627641613⋅x  + 0.988297748356107⋅x + 2.4277217675 ↪\n",
              "\n",
              "↪        \n",
              "↪ 3685e-5"
            ]
          },
          "execution_count": 27,
          "metadata": {},
          "output_type": "execute_result"
        }
      ],
      "source": [
        "p = c[0]+c[1]*x+c[2]*x**2+c[3]*x**3\n",
        "p"
      ]
    },
    {
      "cell_type": "code",
      "execution_count": null,
      "id": "8ff75378",
      "metadata": {
        "execution": {
          "iopub.execute_input": "2025-10-09T19:18:45.016983Z",
          "iopub.status.busy": "2025-10-09T19:18:45.016689Z",
          "iopub.status.idle": "2025-10-09T19:18:45.035617Z",
          "shell.execute_reply": "2025-10-09T19:18:45.034878Z"
        },
        "papermill": {
          "duration": 0.033299,
          "end_time": "2025-10-09T19:18:45.036809",
          "exception": false,
          "start_time": "2025-10-09T19:18:45.003510",
          "status": "completed"
        },
        "tags": [],
        "id": "8ff75378",
        "outputId": "d6dc2f44-b264-4c88-9d81-53fb813c62b1"
      },
      "outputs": [
        {
          "data": {
            "text/latex": [
              "$\\displaystyle 7.15000439267061 x - 3.64857255283226$"
            ],
            "text/plain": [
              "7.15000439267061⋅x - 3.64857255283226"
            ]
          },
          "execution_count": 28,
          "metadata": {},
          "output_type": "execute_result"
        }
      ],
      "source": [
        "dp = diff(p,x,x)\n",
        "dp"
      ]
    },
    {
      "cell_type": "code",
      "execution_count": null,
      "id": "e657a174",
      "metadata": {
        "execution": {
          "iopub.execute_input": "2025-10-09T19:18:45.063410Z",
          "iopub.status.busy": "2025-10-09T19:18:45.063050Z",
          "iopub.status.idle": "2025-10-09T19:18:45.069751Z",
          "shell.execute_reply": "2025-10-09T19:18:45.069058Z"
        },
        "papermill": {
          "duration": 0.021512,
          "end_time": "2025-10-09T19:18:45.070982",
          "exception": false,
          "start_time": "2025-10-09T19:18:45.049470",
          "status": "completed"
        },
        "tags": [],
        "id": "e657a174",
        "outputId": "9675b1fe-795c-4d09-fa7d-f38acada72da"
      },
      "outputs": [
        {
          "data": {
            "text/latex": [
              "$\\displaystyle -3.64857255283226$"
            ],
            "text/plain": [
              "-3.64857255283226"
            ]
          },
          "execution_count": 29,
          "metadata": {},
          "output_type": "execute_result"
        }
      ],
      "source": [
        "dp.subs(x,0)"
      ]
    },
    {
      "cell_type": "markdown",
      "id": "9c4043e5",
      "metadata": {
        "papermill": {
          "duration": 0.012314,
          "end_time": "2025-10-09T19:18:45.096153",
          "exception": false,
          "start_time": "2025-10-09T19:18:45.083839",
          "status": "completed"
        },
        "tags": [],
        "id": "9c4043e5"
      },
      "source": [
        "O valor é numericamente um pouco diferente daquele obtido usando diferenças finitas chama atenção para o fato de que cuidado na avaliação dos resultados é necessária. De qualquer modo, este exemplo tem como objetivo, mais do que outra coisa, estabelecer uma metodologia para a resolução de outros problemas mais realistas."
      ]
    },
    {
      "cell_type": "markdown",
      "id": "c2beb4b1",
      "metadata": {
        "papermill": {
          "duration": 0.012374,
          "end_time": "2025-10-09T19:18:45.121122",
          "exception": false,
          "start_time": "2025-10-09T19:18:45.108748",
          "status": "completed"
        },
        "tags": [],
        "id": "c2beb4b1"
      },
      "source": [
        "2. Podemos tentar resolver o problema anterior usando interpolação polinomial simples:"
      ]
    },
    {
      "cell_type": "code",
      "execution_count": null,
      "id": "7ed04599",
      "metadata": {
        "execution": {
          "iopub.execute_input": "2025-10-09T19:18:45.147662Z",
          "iopub.status.busy": "2025-10-09T19:18:45.146961Z",
          "iopub.status.idle": "2025-10-09T19:18:45.198499Z",
          "shell.execute_reply": "2025-10-09T19:18:45.197663Z"
        },
        "papermill": {
          "duration": 0.066503,
          "end_time": "2025-10-09T19:18:45.200216",
          "exception": false,
          "start_time": "2025-10-09T19:18:45.133713",
          "status": "completed"
        },
        "tags": [],
        "id": "7ed04599"
      },
      "outputs": [],
      "source": [
        "from scipy.interpolate import lagrange"
      ]
    },
    {
      "cell_type": "code",
      "execution_count": null,
      "id": "809d96d6",
      "metadata": {
        "execution": {
          "iopub.execute_input": "2025-10-09T19:18:45.227309Z",
          "iopub.status.busy": "2025-10-09T19:18:45.226785Z",
          "iopub.status.idle": "2025-10-09T19:18:45.235720Z",
          "shell.execute_reply": "2025-10-09T19:18:45.234853Z"
        },
        "papermill": {
          "duration": 0.023775,
          "end_time": "2025-10-09T19:18:45.237119",
          "exception": false,
          "start_time": "2025-10-09T19:18:45.213344",
          "status": "completed"
        },
        "tags": [],
        "id": "809d96d6",
        "outputId": "220815be-7586-437c-d125-defc2a185cf7"
      },
      "outputs": [
        {
          "data": {
            "text/plain": [
              "poly1d([-0.70833333,  1.75833333, -1.96291667,  0.99841667,  0.        ])"
            ]
          },
          "execution_count": 31,
          "metadata": {},
          "output_type": "execute_result"
        }
      ],
      "source": [
        "F = lagrange(t, f)\n",
        "F"
      ]
    },
    {
      "cell_type": "markdown",
      "id": "503bdcd3",
      "metadata": {
        "papermill": {
          "duration": 0.012533,
          "end_time": "2025-10-09T19:18:45.262267",
          "exception": false,
          "start_time": "2025-10-09T19:18:45.249734",
          "status": "completed"
        },
        "tags": [],
        "id": "503bdcd3"
      },
      "source": [
        "Visualizemos graficamente:"
      ]
    },
    {
      "cell_type": "code",
      "execution_count": null,
      "id": "28a0d52d",
      "metadata": {
        "execution": {
          "iopub.execute_input": "2025-10-09T19:18:45.289408Z",
          "iopub.status.busy": "2025-10-09T19:18:45.289096Z",
          "iopub.status.idle": "2025-10-09T19:18:45.293334Z",
          "shell.execute_reply": "2025-10-09T19:18:45.292497Z"
        },
        "papermill": {
          "duration": 0.019382,
          "end_time": "2025-10-09T19:18:45.294639",
          "exception": false,
          "start_time": "2025-10-09T19:18:45.275257",
          "status": "completed"
        },
        "tags": [],
        "id": "28a0d52d"
      },
      "outputs": [],
      "source": [
        "T = np.linspace(-0.02, 0.41,30)"
      ]
    },
    {
      "cell_type": "code",
      "execution_count": null,
      "id": "fca4b10c",
      "metadata": {
        "execution": {
          "iopub.execute_input": "2025-10-09T19:18:45.322195Z",
          "iopub.status.busy": "2025-10-09T19:18:45.321780Z",
          "iopub.status.idle": "2025-10-09T19:18:45.485720Z",
          "shell.execute_reply": "2025-10-09T19:18:45.484868Z"
        },
        "papermill": {
          "duration": 0.179705,
          "end_time": "2025-10-09T19:18:45.487097",
          "exception": false,
          "start_time": "2025-10-09T19:18:45.307392",
          "status": "completed"
        },
        "tags": [],
        "id": "fca4b10c",
        "outputId": "a7463a93-8ff6-4f8e-9947-6325ad201f46"
      },
      "outputs": [
        {
          "data": {
            "text/plain": [
              "[<matplotlib.lines.Line2D at 0x7c42dd46cdd0>,\n",
              " <matplotlib.lines.Line2D at 0x7c42dc071210>]"
            ]
          },
          "execution_count": 33,
          "metadata": {},
          "output_type": "execute_result"
        },
        {
          "data": {
            "image/png": "[encoded data removed]",
            "text/plain": [
              "<Figure size 640x480 with 1 Axes>"
            ]
          },
          "metadata": {},
          "output_type": "display_data"
        }
      ],
      "source": [
        "plt.plot(t,f,'ro', T, F(T), '-')"
      ]
    },
    {
      "cell_type": "markdown",
      "id": "130c1337",
      "metadata": {
        "papermill": {
          "duration": 0.013056,
          "end_time": "2025-10-09T19:18:45.513782",
          "exception": false,
          "start_time": "2025-10-09T19:18:45.500726",
          "status": "completed"
        },
        "tags": [],
        "id": "130c1337"
      },
      "source": [
        "Usando a aproximação de diferença finita (12) obtemos:"
      ]
    },
    {
      "cell_type": "code",
      "execution_count": null,
      "id": "86f0ba09",
      "metadata": {
        "execution": {
          "iopub.execute_input": "2025-10-09T19:18:45.541569Z",
          "iopub.status.busy": "2025-10-09T19:18:45.541261Z",
          "iopub.status.idle": "2025-10-09T19:18:45.545586Z",
          "shell.execute_reply": "2025-10-09T19:18:45.544904Z"
        },
        "papermill": {
          "duration": 0.01974,
          "end_time": "2025-10-09T19:18:45.546789",
          "exception": false,
          "start_time": "2025-10-09T19:18:45.527049",
          "status": "completed"
        },
        "tags": [],
        "id": "86f0ba09"
      },
      "outputs": [],
      "source": [
        "def derivada2(f,a,h=0.01):\n",
        "        return (F(a+h) -2*F(a)+ F(a-h))/h**2"
      ]
    },
    {
      "cell_type": "code",
      "execution_count": null,
      "id": "0b34bc7d",
      "metadata": {
        "execution": {
          "iopub.execute_input": "2025-10-09T19:18:45.574544Z",
          "iopub.status.busy": "2025-10-09T19:18:45.574248Z",
          "iopub.status.idle": "2025-10-09T19:18:45.581317Z",
          "shell.execute_reply": "2025-10-09T19:18:45.580555Z"
        },
        "papermill": {
          "duration": 0.022438,
          "end_time": "2025-10-09T19:18:45.582561",
          "exception": false,
          "start_time": "2025-10-09T19:18:45.560123",
          "status": "completed"
        },
        "tags": [],
        "id": "0b34bc7d",
        "outputId": "35413437-a6b1-45aa-d57d-fd060a4ab832"
      },
      "outputs": [
        {
          "data": {
            "text/latex": [
              "$\\displaystyle -3.92597499999998$"
            ],
            "text/plain": [
              "-3.925974999999977"
            ]
          },
          "execution_count": 35,
          "metadata": {},
          "output_type": "execute_result"
        }
      ],
      "source": [
        "derivada2(F,0,h=0.01)"
      ]
    },
    {
      "cell_type": "markdown",
      "id": "427fbf83",
      "metadata": {
        "papermill": {
          "duration": 0.013084,
          "end_time": "2025-10-09T19:18:45.609584",
          "exception": false,
          "start_time": "2025-10-09T19:18:45.596500",
          "status": "completed"
        },
        "tags": [],
        "id": "427fbf83"
      },
      "source": [
        "Podemos também diferenciar analiticamente o polinômio:"
      ]
    },
    {
      "cell_type": "code",
      "execution_count": null,
      "id": "b841a97b",
      "metadata": {
        "execution": {
          "iopub.execute_input": "2025-10-09T19:18:45.637323Z",
          "iopub.status.busy": "2025-10-09T19:18:45.636916Z",
          "iopub.status.idle": "2025-10-09T19:18:45.648439Z",
          "shell.execute_reply": "2025-10-09T19:18:45.647676Z"
        },
        "papermill": {
          "duration": 0.027108,
          "end_time": "2025-10-09T19:18:45.649790",
          "exception": false,
          "start_time": "2025-10-09T19:18:45.622682",
          "status": "completed"
        },
        "tags": [],
        "id": "b841a97b",
        "outputId": "e52c2db1-76c9-4b59-d201-2788f6b3b46a"
      },
      "outputs": [
        {
          "data": {
            "text/latex": [
              "$\\displaystyle 1.75833333333327 x^{3} - 1.96291666666666 x^{2} + 0.998416666666666 x$"
            ],
            "text/plain": [
              "                  3                     2                      \n",
              "1.75833333333327⋅x  - 1.96291666666666⋅x  + 0.998416666666666⋅x"
            ]
          },
          "execution_count": 36,
          "metadata": {},
          "output_type": "execute_result"
        }
      ],
      "source": [
        "pL = F[0]+F[1]*x+F[2]*x**2+F[3]*x**3\n",
        "pL"
      ]
    },
    {
      "cell_type": "code",
      "execution_count": null,
      "id": "3d376b72",
      "metadata": {
        "execution": {
          "iopub.execute_input": "2025-10-09T19:18:45.678414Z",
          "iopub.status.busy": "2025-10-09T19:18:45.678108Z",
          "iopub.status.idle": "2025-10-09T19:18:45.695112Z",
          "shell.execute_reply": "2025-10-09T19:18:45.694302Z"
        },
        "papermill": {
          "duration": 0.032893,
          "end_time": "2025-10-09T19:18:45.696409",
          "exception": false,
          "start_time": "2025-10-09T19:18:45.663516",
          "status": "completed"
        },
        "tags": [],
        "id": "3d376b72",
        "outputId": "8cf3dcef-a159-44fb-9547-f219c49717dd"
      },
      "outputs": [
        {
          "data": {
            "text/latex": [
              "$\\displaystyle 10.5499999999996 x - 3.92583333333332$"
            ],
            "text/plain": [
              "10.5499999999996⋅x - 3.92583333333332"
            ]
          },
          "execution_count": 37,
          "metadata": {},
          "output_type": "execute_result"
        }
      ],
      "source": [
        "dpL = diff(pL,x,x)\n",
        "dpL"
      ]
    },
    {
      "cell_type": "code",
      "execution_count": null,
      "id": "95a899c8",
      "metadata": {
        "execution": {
          "iopub.execute_input": "2025-10-09T19:18:45.724745Z",
          "iopub.status.busy": "2025-10-09T19:18:45.724460Z",
          "iopub.status.idle": "2025-10-09T19:18:45.730694Z",
          "shell.execute_reply": "2025-10-09T19:18:45.729982Z"
        },
        "papermill": {
          "duration": 0.022191,
          "end_time": "2025-10-09T19:18:45.732118",
          "exception": false,
          "start_time": "2025-10-09T19:18:45.709927",
          "status": "completed"
        },
        "tags": [],
        "id": "95a899c8",
        "outputId": "06dc1c1a-347b-48ca-ea17-181db2902b45"
      },
      "outputs": [
        {
          "data": {
            "text/latex": [
              "$\\displaystyle -3.92583333333332$"
            ],
            "text/plain": [
              "-3.92583333333332"
            ]
          },
          "execution_count": 38,
          "metadata": {},
          "output_type": "execute_result"
        }
      ],
      "source": [
        "dpL.subs(x,0)"
      ]
    },
    {
      "cell_type": "markdown",
      "id": "22e9cdeb",
      "metadata": {
        "papermill": {
          "duration": 0.014004,
          "end_time": "2025-10-09T19:18:45.760266",
          "exception": false,
          "start_time": "2025-10-09T19:18:45.746262",
          "status": "completed"
        },
        "tags": [],
        "id": "22e9cdeb"
      },
      "source": [
        "### 2. Extrapolação de Richardson"
      ]
    },
    {
      "cell_type": "markdown",
      "id": "be186540",
      "metadata": {
        "papermill": {
          "duration": 0.013656,
          "end_time": "2025-10-09T19:18:45.787573",
          "exception": false,
          "start_time": "2025-10-09T19:18:45.773917",
          "status": "completed"
        },
        "tags": [],
        "id": "be186540"
      },
      "source": [
        "O método de extrapolação de Richardson permite melhorar a acurácia de certos processos numéricos e acelerar a computação de séries numéricas de convergência lenta. Suponhamos que temos um meio aproximado para computar uma quantidade $G$. Além disso, vamos supor que o resultado da aproximação depende um parâmetro $h$ (tal como acontece nas aproximações por diferenças finitas). Denotemos a aproximação por $g(h)$, de modo que\n",
        "\n",
        "$$\n",
        "G=g(h)+E(h)\\,,\\qquad (14)\n",
        "$$\n",
        "\n",
        "sendo $E(h)$ o erro. A extrapolação de Richardson consegue remover o erro, contanto que ele seja da forma $E=ch^p$, sendo $c$ e $p$ constantes, ou seja,\n",
        "\n",
        "$$\n",
        "G=g(h)+c h^p\\,.\n",
        "$$\n",
        "\n",
        "Notemos que a suposição é a de que o erro é proporcional a um termo com fator dominante $h^p$, sendo a constante de proporcionalidade $c$ em princípio desconhecida.  Os outros termos de grau superior a $p$ não estão contabilizados. Eliminar o erro de orderm $O(h^p)$ significa determinar $c$ em termos de quantidades conhecidas, ou seja, incorporar este termo ao cálculo de $G$. Para isso, começamos computando $g(h)$ com algum valor de $h$, digamos, $h=h_1$. Temos então\n",
        "\n",
        "$$\n",
        "G= g(h_1)+ch_1^p\\,.\\qquad (15)\n",
        "$$\n",
        "\n",
        "\n",
        "Repetimos agora o cálculo com $h=h_2$, de modo que\n",
        "\n",
        "$$\n",
        "G = g(h_2)+ch_2^p\\,.\\qquad (16)\n",
        "$$\n",
        "\n",
        "Eliminando $c$ de (16) temos\n",
        "\n",
        "$$\n",
        "c = \\frac{G-g(h_2)}{h_2^p}\\,.\\qquad (17)\n",
        "$$\n",
        "\n",
        "Substituindo esta expressão em (15) obtemos\n",
        "\n",
        "$$\n",
        "G = g(h_1)+\\frac{G-g(h_2)}{h_2^p}h_1^p\\,,\\qquad (18)\n",
        "$$\n",
        "\n",
        "ou\n",
        "\n",
        "$$\n",
        "G\\left[1-\\left(\\frac{h_1}{h_2}\\right)^p\\right]=g(h_1)-g(h_2)\\left(\\frac{h_1}{h_2}\\right)^p\\,,\\qquad (19)\n",
        "$$\n",
        "\n",
        "de modo que\n",
        "\n",
        "$$\n",
        "G= \\frac{(h_1/h_2)^p g(h_2)-g(h_1)}{(h_1/h_2)^p-1}\\,,\\qquad (20)\n",
        "$$\n",
        "\n",
        "que é a fórmula de extrapolação de Richardson. É comum usarmos $h_2= h_1/2$, de modo que\n",
        "\n",
        "$$\n",
        "G= \\frac{2^p g(h_1/2)-g(h_1)}{2^p-1}\\,.\\qquad (21)\n",
        "$$\n",
        "\n",
        "O erro ainda existe mas agora é de ordem $O(h^{p+1})$ ou superior. Consideremos novamente o exemplo dado anteriormente:"
      ]
    },
    {
      "cell_type": "code",
      "execution_count": null,
      "id": "469b48d5",
      "metadata": {
        "execution": {
          "iopub.execute_input": "2025-10-09T19:18:45.816452Z",
          "iopub.status.busy": "2025-10-09T19:18:45.816129Z",
          "iopub.status.idle": "2025-10-09T19:18:45.820965Z",
          "shell.execute_reply": "2025-10-09T19:18:45.819958Z"
        },
        "papermill": {
          "duration": 0.021179,
          "end_time": "2025-10-09T19:18:45.822497",
          "exception": false,
          "start_time": "2025-10-09T19:18:45.801318",
          "status": "completed"
        },
        "tags": [],
        "id": "469b48d5"
      },
      "outputs": [],
      "source": [
        "t = np.array([0.,0.1,0.2,0.3,0.4])\n",
        "f = np.array([0.0000, 0.0819, 0.1341, 0.1646, 0.1797])"
      ]
    },
    {
      "cell_type": "markdown",
      "id": "ab3deb7c",
      "metadata": {
        "papermill": {
          "duration": 0.013808,
          "end_time": "2025-10-09T19:18:45.851078",
          "exception": false,
          "start_time": "2025-10-09T19:18:45.837270",
          "status": "completed"
        },
        "tags": [],
        "id": "ab3deb7c"
      },
      "source": [
        "Calculemos $f'(0.2)$ usando a aproximação de diferença finita central com $O(h^2)$, ou seja,\n",
        "\n",
        "$$\n",
        "f'(x) = \\frac{f(x+h)-f(x-h)}{2h}+O(h^2)\\,. \\qquad (22)\n",
        "$$\n",
        "\n",
        "ou"
      ]
    },
    {
      "cell_type": "code",
      "execution_count": null,
      "id": "05494d9a",
      "metadata": {
        "execution": {
          "iopub.execute_input": "2025-10-09T19:18:45.882088Z",
          "iopub.status.busy": "2025-10-09T19:18:45.881753Z",
          "iopub.status.idle": "2025-10-09T19:18:45.888632Z",
          "shell.execute_reply": "2025-10-09T19:18:45.887866Z"
        },
        "papermill": {
          "duration": 0.024355,
          "end_time": "2025-10-09T19:18:45.889963",
          "exception": false,
          "start_time": "2025-10-09T19:18:45.865608",
          "status": "completed"
        },
        "tags": [],
        "id": "05494d9a",
        "outputId": "e51c01ef-e99f-4ff4-fce4-17bfdfeb4f33"
      },
      "outputs": [
        {
          "data": {
            "text/latex": [
              "$\\displaystyle 0.4135$"
            ],
            "text/plain": [
              "0.4135"
            ]
          },
          "execution_count": 40,
          "metadata": {},
          "output_type": "execute_result"
        }
      ],
      "source": [
        "h = 0.1\n",
        "df1 = (f[3]-f[1])/(2*h)\n",
        "df1"
      ]
    },
    {
      "cell_type": "markdown",
      "id": "54e26425",
      "metadata": {
        "papermill": {
          "duration": 0.013546,
          "end_time": "2025-10-09T19:18:45.917898",
          "exception": false,
          "start_time": "2025-10-09T19:18:45.904352",
          "status": "completed"
        },
        "tags": [],
        "id": "54e26425"
      },
      "source": [
        "Utilizemos agora a extrapolação de Richardson:"
      ]
    },
    {
      "cell_type": "code",
      "execution_count": null,
      "id": "9679bfa4",
      "metadata": {
        "execution": {
          "iopub.execute_input": "2025-10-09T19:18:45.946153Z",
          "iopub.status.busy": "2025-10-09T19:18:45.945813Z",
          "iopub.status.idle": "2025-10-09T19:18:45.952337Z",
          "shell.execute_reply": "2025-10-09T19:18:45.951615Z"
        },
        "papermill": {
          "duration": 0.0221,
          "end_time": "2025-10-09T19:18:45.953616",
          "exception": false,
          "start_time": "2025-10-09T19:18:45.931516",
          "status": "completed"
        },
        "tags": [],
        "id": "9679bfa4",
        "outputId": "dd004a83-9958-479a-9d2e-6dbde7dfdd35"
      },
      "outputs": [
        {
          "data": {
            "text/latex": [
              "$\\displaystyle 0.44925$"
            ],
            "text/plain": [
              "0.44925"
            ]
          },
          "execution_count": 41,
          "metadata": {},
          "output_type": "execute_result"
        }
      ],
      "source": [
        "h = 0.2\n",
        "g1 = (f[4]-f[0])/(2*h)\n",
        "g1"
      ]
    },
    {
      "cell_type": "code",
      "execution_count": null,
      "id": "c9b7a37a",
      "metadata": {
        "execution": {
          "iopub.execute_input": "2025-10-09T19:18:45.982845Z",
          "iopub.status.busy": "2025-10-09T19:18:45.982565Z",
          "iopub.status.idle": "2025-10-09T19:18:45.988837Z",
          "shell.execute_reply": "2025-10-09T19:18:45.988026Z"
        },
        "papermill": {
          "duration": 0.022888,
          "end_time": "2025-10-09T19:18:45.990372",
          "exception": false,
          "start_time": "2025-10-09T19:18:45.967484",
          "status": "completed"
        },
        "tags": [],
        "id": "c9b7a37a",
        "outputId": "a886527d-d41b-4a91-ccdc-5af2e368048d"
      },
      "outputs": [
        {
          "data": {
            "text/latex": [
              "$\\displaystyle 0.4135$"
            ],
            "text/plain": [
              "0.4135"
            ]
          },
          "execution_count": 42,
          "metadata": {},
          "output_type": "execute_result"
        }
      ],
      "source": [
        "h = 0.1\n",
        "g2 = (f[3]-f[1])/(2*h)\n",
        "g2"
      ]
    },
    {
      "cell_type": "markdown",
      "id": "9242107c",
      "metadata": {
        "papermill": {
          "duration": 0.014438,
          "end_time": "2025-10-09T19:18:46.019592",
          "exception": false,
          "start_time": "2025-10-09T19:18:46.005154",
          "status": "completed"
        },
        "tags": [],
        "id": "9242107c"
      },
      "source": [
        "Lembremos que nestas aproximações o erro é da forma $E(h)=c_1h^2+c_2h^4+\\cdots$. A extrapolação elimina o termo dominante de erro, proporcional a $h^2$."
      ]
    },
    {
      "cell_type": "code",
      "execution_count": null,
      "id": "d20ad642",
      "metadata": {
        "execution": {
          "iopub.execute_input": "2025-10-09T19:18:46.049861Z",
          "iopub.status.busy": "2025-10-09T19:18:46.049546Z",
          "iopub.status.idle": "2025-10-09T19:18:46.056489Z",
          "shell.execute_reply": "2025-10-09T19:18:46.055755Z"
        },
        "papermill": {
          "duration": 0.023531,
          "end_time": "2025-10-09T19:18:46.057709",
          "exception": false,
          "start_time": "2025-10-09T19:18:46.034178",
          "status": "completed"
        },
        "tags": [],
        "id": "d20ad642",
        "outputId": "25e4be7e-f57f-4c32-9a57-13538052f8f2"
      },
      "outputs": [
        {
          "data": {
            "text/latex": [
              "$\\displaystyle 0.401583333333333$"
            ],
            "text/plain": [
              "0.40158333333333335"
            ]
          },
          "execution_count": 43,
          "metadata": {},
          "output_type": "execute_result"
        }
      ],
      "source": [
        "p=2\n",
        "G= (2**p*g2-g1)/(2**p-1)\n",
        "G"
      ]
    },
    {
      "cell_type": "markdown",
      "id": "5b21685b",
      "metadata": {
        "papermill": {
          "duration": 0.014452,
          "end_time": "2025-10-09T19:18:46.086984",
          "exception": false,
          "start_time": "2025-10-09T19:18:46.072532",
          "status": "completed"
        },
        "tags": [],
        "id": "5b21685b"
      },
      "source": [
        "que é a aproximação  diferença finita de ordem $O(h^4)$."
      ]
    },
    {
      "cell_type": "markdown",
      "id": "1e599661",
      "metadata": {
        "papermill": {
          "duration": 0.014857,
          "end_time": "2025-10-09T19:18:46.116451",
          "exception": false,
          "start_time": "2025-10-09T19:18:46.101594",
          "status": "completed"
        },
        "tags": [],
        "id": "1e599661"
      },
      "source": [
        "### Exercícios"
      ]
    },
    {
      "cell_type": "markdown",
      "id": "6e906256",
      "metadata": {
        "papermill": {
          "duration": 0.014314,
          "end_time": "2025-10-09T19:18:46.145915",
          "exception": false,
          "start_time": "2025-10-09T19:18:46.131601",
          "status": "completed"
        },
        "tags": [],
        "id": "6e906256"
      },
      "source": [
        "Os exercícios a seguir são baseados em [1] (p.197)."
      ]
    },
    {
      "cell_type": "markdown",
      "id": "feed87fd",
      "metadata": {
        "papermill": {
          "duration": 0.014044,
          "end_time": "2025-10-09T19:18:46.174502",
          "exception": false,
          "start_time": "2025-10-09T19:18:46.160458",
          "status": "completed"
        },
        "tags": [],
        "id": "feed87fd"
      },
      "source": [
        "**1.** Sejam os dados mostrados na seguinte tabela:\n",
        "\n",
        "<table>\n",
        "  <tr>\n",
        "    <td><i>$t$</i></td>\n",
        "    <td>0.0</td>\n",
        "    <td>0.1</td>\n",
        "    <td>0.2</td>\n",
        "    <td>0.3</td>\n",
        "    <td>0.4</td>\n",
        "  </tr>\n",
        "  <tr>\n",
        "    <td><i>$f(t)$</i></td>\n",
        "    <td>0.0000</td>\n",
        "    <td>0.0819</td>\n",
        "    <td>0.1341</td>\n",
        "    <td>0.1646</td>\n",
        "    <td>0.1797</td>\n",
        "  </tr>\n",
        "</table>"
      ]
    },
    {
      "cell_type": "markdown",
      "id": "35d00a22",
      "metadata": {
        "papermill": {
          "duration": 0.013886,
          "end_time": "2025-10-09T19:18:46.202353",
          "exception": false,
          "start_time": "2025-10-09T19:18:46.188467",
          "status": "completed"
        },
        "tags": [],
        "id": "35d00a22"
      },
      "source": [
        "determine $f'(0.25)$ usando interpolação polinomial."
      ]
    },
    {
      "cell_type": "markdown",
      "id": "a4327ae4",
      "metadata": {
        "papermill": {
          "duration": 0.01395,
          "end_time": "2025-10-09T19:18:46.230565",
          "exception": false,
          "start_time": "2025-10-09T19:18:46.216615",
          "status": "completed"
        },
        "tags": [],
        "id": "a4327ae4"
      },
      "source": [
        "**2.** Use interpolação polinomial para determinar  $f'(0)$ e $f''(0)$ usando os dados:\n",
        "\n",
        "<table style=\"border-collapse: collapse; text-align: center;\">\n",
        "  <tr>\n",
        "    <td><i>$x$</i></td>\n",
        "    <td>-2.2</td>\n",
        "    <td>-0.3</td>\n",
        "    <td>0.8</td>\n",
        "    <td>1.9</td>\n",
        "  </tr>\n",
        "  <tr>\n",
        "    <td><i>$f(x)$</i></td>\n",
        "    <td>15.180</td>\n",
        "    <td>10.962</td>\n",
        "    <td>1.920</td>\n",
        "    <td>-2.040</td>\n",
        "  </tr>\n",
        "</table>"
      ]
    },
    {
      "cell_type": "markdown",
      "id": "978a5775",
      "metadata": {
        "papermill": {
          "duration": 0.013982,
          "end_time": "2025-10-09T19:18:46.258959",
          "exception": false,
          "start_time": "2025-10-09T19:18:46.244977",
          "status": "completed"
        },
        "tags": [],
        "id": "978a5775"
      },
      "source": [
        "**3.** Repita o problema anterior usando ajuste (determine uma função de ajuste conveniente)."
      ]
    },
    {
      "cell_type": "markdown",
      "id": "c76fb279",
      "metadata": {
        "papermill": {
          "duration": 0.014102,
          "end_time": "2025-10-09T19:18:46.287232",
          "exception": false,
          "start_time": "2025-10-09T19:18:46.273130",
          "status": "completed"
        },
        "tags": [],
        "id": "c76fb279"
      },
      "source": [
        "**4.**\n",
        "Use aproximações por diferenças finitas de ordem $O(h^2)$ para calcular $f'(2{,}36)$ e $f''(2{,}36)$ a partir dos seguintes dados:\n",
        "\n",
        "<table style=\"border-collapse: collapse; text-align: center;\">\n",
        "  <tr>\n",
        "    <td><i>$x$</i></td>\n",
        "    <td>2,36</td>\n",
        "    <td>2,37</td>\n",
        "    <td>2,38</td>\n",
        "    <td>2,39</td>\n",
        "  </tr>\n",
        "  <tr>\n",
        "    <td><i>$f(x)$</i></td>\n",
        "    <td>0,85866</td>\n",
        "    <td>0,86289</td>\n",
        "    <td>0,86710</td>\n",
        "    <td>0,87129</td>\n",
        "  </tr>\n",
        "</table>\n",
        "\n",
        "\n",
        "**5.**\n",
        "Estime $f'(1)$ e $f''(1)$ a partir dos seguintes dados:\n",
        "\n",
        "<table style=\"border-collapse: collapse; text-align: center;\">\n",
        "  <tr>\n",
        "    <td><i>$x$</i></td>\n",
        "    <td>0,97</td>\n",
        "    <td>1,00</td>\n",
        "    <td>1,05</td>\n",
        "  </tr>\n",
        "  <tr>\n",
        "    <td><i>$f(x)$</i></td>\n",
        "    <td>0,85040</td>\n",
        "    <td>0,84147</td>\n",
        "    <td>0,82612</td>\n",
        "  </tr>\n",
        "</table>\n",
        "\n",
        "**6.**\n",
        "Dados os valores:\n",
        "\n",
        "<table style=\"border-collapse: collapse; text-align: center;\">\n",
        "  <tr>\n",
        "    <td><i>$x$</i></td>\n",
        "    <td>0,84</td>\n",
        "    <td>0,92</td>\n",
        "    <td>1,00</td>\n",
        "    <td>1,08</td>\n",
        "    <td>1,16</td>\n",
        "  </tr>\n",
        "  <tr>\n",
        "    <td><i>$f(x)$</i></td>\n",
        "    <td>0,431711</td>\n",
        "    <td>0,398519</td>\n",
        "    <td>0,367879</td>\n",
        "    <td>0,339596</td>\n",
        "    <td>0,313486</td>\n",
        "  </tr>\n",
        "</table>\n",
        "\n",
        "\n",
        "calcule $f''(1)$ da forma mais precisa possível.\n",
        "\n",
        "**7.**\n",
        "Use os dados da tabela para calcular $f'(0{,}2)$ da forma mais precisa possível:\n",
        "\n",
        "<table style=\"border-collapse: collapse; text-align: center;\">\n",
        "  <tr>\n",
        "    <td><i>$x$</i></td>\n",
        "    <td>0,0</td>\n",
        "    <td>0,1</td>\n",
        "    <td>0,2</td>\n",
        "    <td>0,3</td>\n",
        "    <td>0,4</td>\n",
        "  </tr>\n",
        "  <tr>\n",
        "    <td><i>$f(x)$</i></td>\n",
        "    <td>0,000000</td>\n",
        "    <td>0,078348</td>\n",
        "    <td>0,138910</td>\n",
        "    <td>0,192916</td>\n",
        "    <td>0,244981</td>\n",
        "  </tr>\n",
        "</table>\n",
        "\n",
        "\n",
        "**8.**\n",
        "Use interpolação polinomial para calcular $f'(0)$ e $f''(0)$, utilizando os seguintes dados:\n",
        "\n",
        "<table style=\"border-collapse: collapse; text-align: center;\">\n",
        "  <tr>\n",
        "    <td><i>$x$</i></td>\n",
        "    <td>−2.2</td>\n",
        "    <td>−0.3</td>\n",
        "    <td>0.8</td>\n",
        "    <td>1.9</td>\n",
        "  </tr>\n",
        "  <tr>\n",
        "    <td><i>$f(x)$</i></td>\n",
        "    <td>15.180</td>\n",
        "    <td>10.962</td>\n",
        "    <td>1.920</td>\n",
        "    <td>−2.040</td>\n",
        "  </tr>\n",
        "</table>\n",
        "\n"
      ]
    },
    {
      "cell_type": "markdown",
      "id": "076969c9",
      "metadata": {
        "papermill": {
          "duration": 0.014244,
          "end_time": "2025-10-09T19:18:46.316804",
          "exception": false,
          "start_time": "2025-10-09T19:18:46.302560",
          "status": "completed"
        },
        "tags": [],
        "id": "076969c9"
      },
      "source": [
        "**9.** Rastreamento por radar. As estações de radar $A$e $B$, separadas por uma distância $a = 500\\,\\text{m}$, rastreiam o avião $C$ registrando os ângulos $\\alpha$ e $\\beta$ em intervalos de um segundo. Um diagrama esquemático do problema é mostrado na Figura  1.\n",
        "\n",
        "<p align=\"center\">\n",
        "  <img src=\"https://raw.githubusercontent.com/fernandodeeke/can2025/5a01b5f5564201fe9237f9ced2e0cb6815b22afb/radar.png\" alt=\"Radar diagram\" width=\"250\"><br>\n",
        "  Figura 1 – Geometria do radar mostrando os ângulos $\\alpha$, $\\beta$ e $\\gamma$.\n",
        "</p>\n",
        "\n",
        "Se três leituras sucessivas são dadas por:\n",
        "\n",
        " <table style=\"border-collapse: collapse; text-align: center;\">\n",
        "  <tr>\n",
        "    <td><i>$t$ (s)</i></td>\n",
        "    <td>9</td>\n",
        "    <td>10</td>\n",
        "    <td>11</td>\n",
        "  </tr>\n",
        "  <tr>\n",
        "    <td><i>$\\alpha$</i></td>\n",
        "    <td>54.80°</td>\n",
        "    <td>54.06°</td>\n",
        "    <td>53.34°</td>\n",
        "  </tr>\n",
        "  <tr>\n",
        "    <td><i>$\\beta$</i></td>\n",
        "    <td>65.59°</td>\n",
        "    <td>64.59°</td>\n",
        "    <td>63.62°</td>\n",
        "  </tr>\n",
        "</table>\n",
        "\n",
        "\n",
        "Calcule a *magnitude da velocidade* $v$ do avião e o *ângulo de subida* $\\gamma$ no instante $t = 10\\,\\text{s}$.\n",
        "\n",
        "As coordenadas do avião podem ser expressas por:\n",
        "\n",
        "$$\n",
        "x = a \\, \\frac{\\tan \\beta}{\\tan \\beta - \\tan \\alpha}, \\qquad\n",
        "y = a \\, \\frac{\\tan \\alpha \\, \\tan \\beta}{\\tan \\beta - \\tan \\alpha}.\n",
        "$$"
      ]
    },
    {
      "cell_type": "markdown",
      "id": "0af22e6a",
      "metadata": {
        "papermill": {
          "duration": 0.015562,
          "end_time": "2025-10-09T19:18:46.346707",
          "exception": false,
          "start_time": "2025-10-09T19:18:46.331145",
          "status": "completed"
        },
        "tags": [],
        "id": "0af22e6a"
      },
      "source": [
        "**10.**\n",
        "A relação entre a tensão $\\sigma$ e a deformação $\\varepsilon$ em tração uniaxial é\n",
        "\n",
        "$$\n",
        "\\frac{d\\sigma}{d\\varepsilon} = a + b\\,\\sigma\\,,\n",
        "$$\n",
        "\n",
        "sendo $a$ e $b$  constantes ( $\\frac{d\\sigma}{d\\varepsilon}$ é o *módulo tangente* ).\n",
        "\n",
        "A tabela a seguir apresenta os resultados de um ensaio de tração nesse material:\n",
        "\n",
        "| Deformação $\\varepsilon$ | Tensão $\\sigma$ (MPa) |\n",
        "|--------------------------|------------------------|\n",
        "| 0.00 | 0.000 |\n",
        "| 0.05 | 0.252 |\n",
        "| 0.10 | 0.531 |\n",
        "| 0.15 | 0.840 |\n",
        "| 0.20 | 1.184 |\n",
        "| 0.25 | 1.558 |\n",
        "| 0.30 | 1.975 |\n",
        "| 0.35 | 2.444 |\n",
        "| 0.40 | 2.943 |\n",
        "| 0.45 | 3.500 |\n",
        "| 0.50 | 4.115 |\n",
        "\n",
        "Determine os parâmetros $a$ e $b$ por regressão linear.\n"
      ]
    },
    {
      "cell_type": "markdown",
      "id": "53523c0d",
      "metadata": {
        "papermill": {
          "duration": 0.014602,
          "end_time": "2025-10-09T19:18:46.375848",
          "exception": false,
          "start_time": "2025-10-09T19:18:46.361246",
          "status": "completed"
        },
        "tags": [],
        "id": "53523c0d"
      },
      "source": [
        "### Referências\n",
        "\n",
        "1. Jaan Kiusalaas, Numerical Methods in Engineering with Python 3, Cambridge University Press, 2013.\n",
        "2. Alex, Gezerlis, Numerical Methods in Physics with Python, Cambridge University Press, 2020."
      ]
    }
  ],
  "metadata": {
    "kaggle": {
      "accelerator": "none",
      "dataSources": [],
      "dockerImageVersionId": 31153,
      "isGpuEnabled": false,
      "isInternetEnabled": false,
      "language": "python",
      "sourceType": "notebook"
    },
    "kernelspec": {
      "display_name": "Python 3",
      "language": "python",
      "name": "python3"
    },
    "language_info": {
      "codemirror_mode": {
        "name": "ipython",
        "version": 3
      },
      "file_extension": ".py",
      "mimetype": "text/x-python",
      "name": "python",
      "nbconvert_exporter": "python",
      "pygments_lexer": "ipython3",
      "version": "3.11.13"
    },
    "panel-cell-order": [
      "d34a7dd0",
      "d1845216",
      "9e9ae685",
      "dfbcf1c8",
      "fe8bc313",
      "719c454f",
      "57466670",
      "c39285b9",
      "1d4862bf",
      "db85e637",
      "d35fb223",
      "ad1ff488",
      "763efcf2",
      "e2372891",
      "68470c6a",
      "b63e8a30",
      "cb9d7c5d",
      "b4da4846",
      "af2463de",
      "c078645a",
      "1d5c0ca4",
      "ffb03a2d",
      "81021da3",
      "cdac5259",
      "97bada7e",
      "54abdc00",
      "44392c50",
      "8c0ced31",
      "64c8694b",
      "2829a826",
      "2adf5116",
      "b8fe025a",
      "d2a346fe",
      "4493b85e",
      "784cd721",
      "fc361a81",
      "cc2e3a16",
      "d8e4cebd",
      "1d283572",
      "90018c38",
      "0b7fe47f",
      "cade0a5d",
      "a76b13ec",
      "c7908f52",
      "e78f83c1",
      "7477dafa",
      "e3d652b0",
      "7ce4bc16",
      "7de1446e",
      "dcd02459",
      "c439cdb8",
      "b50cb750",
      "30fc955b",
      "011137e8",
      "d28998ce",
      "60c52201",
      "a7f6c15e",
      "999af2db",
      "5286e037",
      "4ec727b7",
      "7812d26b",
      "0a9a9421",
      "5ebe837f",
      "ba13c0d5",
      "afff08b2",
      "7335d91c",
      "e80be863",
      "f762829e",
      "2cea6019",
      "94d7eca6",
      "e9687418",
      "c5bc1748",
      "443e9c59",
      "2c2a0a29",
      "b098b7a1"
    ],
    "papermill": {
      "default_parameters": {},
      "duration": 11.752788,
      "end_time": "2025-10-09T19:18:47.010900",
      "environment_variables": {},
      "exception": null,
      "input_path": "__notebook__.ipynb",
      "output_path": "__notebook__.ipynb",
      "parameters": {},
      "start_time": "2025-10-09T19:18:35.258112",
      "version": "2.6.0"
    },
    "colab": {
      "provenance": [],
      "include_colab_link": true
    }
  },
  "nbformat": 4,
  "nbformat_minor": 5
}