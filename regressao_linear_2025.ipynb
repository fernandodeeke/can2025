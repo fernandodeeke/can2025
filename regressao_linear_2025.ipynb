{
  "cells": [
    {
      "cell_type": "markdown",
      "metadata": {
        "id": "view-in-github",
        "colab_type": "text"
      },
      "source": [
        "<a href=\"https://colab.research.google.com/github/fernandodeeke/can2025/blob/main/regressao_linear_2025.ipynb\" target=\"_parent\"><img src=\"https://colab.research.google.com/assets/colab-badge.svg\" alt=\"Open In Colab\"/></a>"
      ]
    },
    {
      "cell_type": "markdown",
      "metadata": {
        "id": "sRjYZb4E5_2t"
      },
      "source": [
        "<center><h1><center></h1>\n",
        "<center><h1>Análise Numérica<center></h1>\n",
        "<center><h2>2025/1</h2></center>\n",
        "<center><h3>Técnicas de Regressão</h3></center>\n",
        "<center><h4>Prof. Fernando Deeke Sasse - CCT, UDESC</h4></center>"
      ]
    },
    {
      "cell_type": "markdown",
      "metadata": {
        "id": "1VKRrspW5_2u"
      },
      "source": [
        "###  Ajuste de retas pelo método de mínimos quadrados"
      ]
    },
    {
      "cell_type": "markdown",
      "metadata": {
        "id": "5iMid8Kh5_2u"
      },
      "source": [
        "Usaremos a biblioteca opimize do scypy:"
      ]
    },
    {
      "cell_type": "code",
      "execution_count": null,
      "metadata": {
        "id": "TyrMwZI55_2v"
      },
      "outputs": [],
      "source": [
        "import matplotlib.pyplot as plt\n",
        "import numpy as np\n",
        "import matplotlib.pyplot as plt"
      ]
    },
    {
      "cell_type": "markdown",
      "metadata": {
        "id": "pKhYndLu5_2v"
      },
      "source": [
        "#### Exemplo 1"
      ]
    },
    {
      "cell_type": "markdown",
      "metadata": {
        "id": "lM4rKaVM5_2v"
      },
      "source": [
        "Suponhamos que um experimento que descreve uma relação $x=x(t)$ produz os resultados mostrados na tabela abaixo:"
      ]
    },
    {
      "cell_type": "code",
      "execution_count": null,
      "metadata": {
        "id": "ZEp8cUXU5_2v"
      },
      "outputs": [],
      "source": [
        "T = np.array([1.3,3.3,4.1,6.4,7.3,9.2])\n",
        "X = np.array([2.5,3.8,4.2,5.2,6.5,7.3])"
      ]
    },
    {
      "cell_type": "markdown",
      "metadata": {
        "id": "CcuIUm-n5_2w"
      },
      "source": [
        "Façamos um gráfico destes pontos:"
      ]
    },
    {
      "cell_type": "code",
      "execution_count": null,
      "metadata": {
        "id": "po6kqyBu5_2w",
        "outputId": "b7913111-cd63-417c-add5-62fdf9938396",
        "colab": {
          "base_uri": "https://localhost:8080/",
          "height": 466
        }
      },
      "outputs": [
        {
          "output_type": "execute_result",
          "data": {
            "text/plain": [
              "Text(0, 0.5, 'X')"
            ]
          },
          "metadata": {},
          "execution_count": 3
        },
        {
          "output_type": "display_data",
          "data": {
            "text/plain": [
              "<Figure size 640x480 with 1 Axes>"
            ],
            "image/png": "[encoded data removed]"
          },
          "metadata": {}
        }
      ],
      "source": [
        "plt.plot(T,X,'ro')\n",
        "plt.xlabel('T')\n",
        "plt.ylabel('X')"
      ]
    },
    {
      "cell_type": "markdown",
      "metadata": {
        "id": "5DEzhqfv5_2w"
      },
      "source": [
        "Dados podem fornecer uma  informação razoável de que a função $x(t)$ é linear e que o fato dos pontos não estarem exatamente sobre uma linha reta é devido a erros experimentais. Um vez feita tal suposição podemos nos perguntar como podemos determinar os coeficientes $a$ e $b$ reta\n",
        "$$\n",
        "                           x = at + b\n",
        "$$  \n",
        "que melhor se ajusta a esses dados.\n"
      ]
    },
    {
      "cell_type": "markdown",
      "metadata": {
        "id": "xu0ymLjL5_2x"
      },
      "source": [
        "Suponhamos que uma suposição é feita sobre os valores de $a$ e $b$. Em geral,um ponto $(T_k,X_k)$ não estará exatamente sobre a reta, ou seja,\n",
        "\n",
        "$$\n",
        "aT_k+b-X_k \\neq 0\n",
        "$$\n",
        "\n",
        "Podemos definir um erro absoluto associado a este ponto, que depende de $a$ e $b$, dado por\n",
        "\n",
        "$$\n",
        "                 E_k(a,b)=|aT_k+b-X_k|\n",
        "$$\n",
        "\n",
        "Supondo que, em geral, temos $n$ pontos, o erro total $E(a,b)$ é a soma dos erros associados a todos os $n$ pontos:\n",
        "\n",
        "$$\n",
        "               E(a,b)=\\sum_{i=1}^{n} |aT_k+b-X_k|\n",
        "$$\n",
        "\n",
        "A próxima tarefa consiste em encontrar o ponto $(a,b)$ que minimiza esta função.\n",
        "\n",
        "Este problema é um exemplo de uma  aproximação $L_1$ e que pode ser resolvido por meio de técnicas de programação linear. Dependendo do número de pontos a complexidade deste problema em termos de número de operações pode ser muito custosa. O métodos do cálculo diferencial não podem ser aplicados, pois esta função não é diferenciável.\n"
      ]
    },
    {
      "cell_type": "markdown",
      "metadata": {
        "id": "R0w2G-uw5_2x"
      },
      "source": [
        "Na prática, é mais conveniente minimizar a seguinte função de erro de $a$ e $b$:\n",
        "\n",
        "$$\n",
        "\\phi(a,b)=\\sum_{i=1}^{n} (aT_k+b-X_k)^2,\n",
        "$$\n",
        "\n",
        "que pode ser minimizada por meio de técnicas de cálculo. ALém disso, é possível mostrar que se os erros têm uma distribuição normal, então a minimização de $\\phi(a,b)$ produz o melhor estimador de $a$ e $b$. Esta é a chamada aproximação $L_2$.\n",
        "\n",
        "As condições necessárias para que um ponto $(a,b)$ seja um mínimo de $\\phi$ são\n",
        "\n",
        "$$\n",
        "\\frac{\\partial \\phi}{\\partial a}=0\\,,\\qquad \\frac{\\partial \\phi}{\\partial b}=0\\,.\n",
        "$$"
      ]
    },
    {
      "cell_type": "markdown",
      "metadata": {
        "id": "4EsxWZJ_5_2x"
      },
      "source": [
        "Em particular,\n",
        "\n",
        "$$\n",
        "\\frac{\\partial \\phi}{\\partial a}=\\sum_{i=1}^{n} 2T_k(aT_k+b-X_k)=0\n",
        "$$\n",
        "\n",
        "e\n",
        "\n",
        "$$\n",
        "\\frac{\\partial \\phi}{\\partial b}=\\sum_{i=1}^{n} 2(aT_k+b-X_k)=0\\,.\n",
        "$$\n",
        "\n",
        "Estas equações, chamadas *normais* podem ser também escritas como\n",
        "\n"
      ]
    },
    {
      "cell_type": "markdown",
      "metadata": {
        "id": "6z5aCV2E5_2x"
      },
      "source": [
        "$$\n",
        "\\left(\\sum_{k=1}^n T_k^2\\right)a+\\left(\\sum_{k=1}^n T_k\\right)b= \\sum_{k=1}^n T_k X_k,\n",
        "$$"
      ]
    },
    {
      "cell_type": "markdown",
      "metadata": {
        "id": "FLNpWVi-5_2x"
      },
      "source": [
        "$$\n",
        "\\left(\\sum_{k=1}^n T_k\\right)a+nb=\\sum_{k=1}^n X_k.\n",
        "$$"
      ]
    },
    {
      "cell_type": "markdown",
      "metadata": {
        "id": "jzt_XOWL5_2x"
      },
      "source": [
        "Definindo\n",
        "\n",
        "$$\n",
        "p = \\sum_{k=1}^n T_k\\,,\\quad q=\\sum_{k=1}^n X_k\\,,\\quad\n",
        "r=\\sum_{k=1}^n T_k X_k\\,,\\quad s=\\sum_{k=1}^n T_k^2\\,,\n",
        "$$\n",
        "\n",
        "temos, de forma matricial,"
      ]
    },
    {
      "cell_type": "markdown",
      "metadata": {
        "id": "wNXCvNVh5_2x"
      },
      "source": [
        "$$\n",
        "\\begin{bmatrix}\n",
        "s&p\\\\p&n\n",
        "\\end{bmatrix}=\n",
        "\\begin{bmatrix}\n",
        "a\\\\b\n",
        "\\end{bmatrix}=\\begin{bmatrix}\n",
        "r\\\\q\n",
        "\\end{bmatrix}\\,.\n",
        "$$"
      ]
    },
    {
      "cell_type": "markdown",
      "metadata": {
        "id": "OrU2nclO5_2x"
      },
      "source": [
        "Definindo\n",
        "\n",
        "$$\n",
        "\\Delta = det \\begin{bmatrix}\n",
        "s&p\\\\p&n\n",
        "\\end{bmatrix} = ns-p^2\\,,\n",
        "$$\n",
        "\n",
        "temos, usando a regra de Cramer,\n",
        "\n",
        "$$\n",
        "a = \\frac{1}{\\Delta}det\\begin{bmatrix}\n",
        "r&p\\\\q&n\n",
        "\\end{bmatrix}=\\frac{1}{d}(rn-pq)\\,,\n",
        "$$\n",
        "\n",
        "$$\n",
        "b = \\frac{1}{\\Delta}det\\begin{bmatrix}\n",
        "s&r\\\\p&q\n",
        "\\end{bmatrix}=\\frac{1}{d}(sq-pr)\\,.\n",
        "$$"
      ]
    },
    {
      "cell_type": "markdown",
      "metadata": {
        "id": "XpE-0UHA5_2x"
      },
      "source": [
        "Voltemos ao nosso problema. Temos aqui"
      ]
    },
    {
      "cell_type": "code",
      "execution_count": null,
      "metadata": {
        "id": "5aLz6iaq5_2x"
      },
      "outputs": [],
      "source": [
        "p = np.sum(T)\n",
        "q = np.sum(X)\n",
        "r = np.sum(T*X)\n",
        "s = np.sum(T**2)\n",
        "n = np.size(T)"
      ]
    },
    {
      "cell_type": "code",
      "execution_count": null,
      "metadata": {
        "id": "TDFIx7oC5_2x"
      },
      "outputs": [],
      "source": [
        "d = n*s-p**2"
      ]
    },
    {
      "cell_type": "markdown",
      "metadata": {
        "id": "vNdrCNw75_2x"
      },
      "source": [
        "O coeficiente angular da reta é dado por"
      ]
    },
    {
      "cell_type": "code",
      "execution_count": null,
      "metadata": {
        "id": "VSDfHaR15_2x",
        "outputId": "c7951aa6-dcdd-4ccf-acd9-9c9ff74a5b2d",
        "colab": {
          "base_uri": "https://localhost:8080/"
        }
      },
      "outputs": [
        {
          "output_type": "execute_result",
          "data": {
            "text/plain": [
              "np.float64(0.6100669002867147)"
            ]
          },
          "metadata": {},
          "execution_count": 6
        }
      ],
      "source": [
        "a = 1/d*(r*n-p*q)\n",
        "a"
      ]
    },
    {
      "cell_type": "markdown",
      "metadata": {
        "id": "wExH2bl05_2y"
      },
      "source": [
        "O coeficiente linear é:"
      ]
    },
    {
      "cell_type": "code",
      "execution_count": null,
      "metadata": {
        "id": "MmRQtF-Q5_2y",
        "outputId": "d127442f-9fea-438f-ebe5-4a027033f849",
        "colab": {
          "base_uri": "https://localhost:8080/"
        }
      },
      "outputs": [
        {
          "output_type": "execute_result",
          "data": {
            "text/plain": [
              "np.float64(1.7036476584899696)"
            ]
          },
          "metadata": {},
          "execution_count": 7
        }
      ],
      "source": [
        "b = 1/d*(s*q-p*r)\n",
        "b"
      ]
    },
    {
      "cell_type": "markdown",
      "metadata": {
        "id": "4ZvlBgyW5_2y"
      },
      "source": [
        "Façamos o gráfico da reta:"
      ]
    },
    {
      "cell_type": "code",
      "execution_count": null,
      "metadata": {
        "id": "Z_8KJgmn5_2y",
        "colab": {
          "base_uri": "https://localhost:8080/"
        },
        "outputId": "06da966c-c086-4b73-9fe2-6d4eb672e76b"
      },
      "outputs": [
        {
          "output_type": "execute_result",
          "data": {
            "text/plain": [
              "array([ 0.        ,  0.1010101 ,  0.2020202 ,  0.3030303 ,  0.4040404 ,\n",
              "        0.50505051,  0.60606061,  0.70707071,  0.80808081,  0.90909091,\n",
              "        1.01010101,  1.11111111,  1.21212121,  1.31313131,  1.41414141,\n",
              "        1.51515152,  1.61616162,  1.71717172,  1.81818182,  1.91919192,\n",
              "        2.02020202,  2.12121212,  2.22222222,  2.32323232,  2.42424242,\n",
              "        2.52525253,  2.62626263,  2.72727273,  2.82828283,  2.92929293,\n",
              "        3.03030303,  3.13131313,  3.23232323,  3.33333333,  3.43434343,\n",
              "        3.53535354,  3.63636364,  3.73737374,  3.83838384,  3.93939394,\n",
              "        4.04040404,  4.14141414,  4.24242424,  4.34343434,  4.44444444,\n",
              "        4.54545455,  4.64646465,  4.74747475,  4.84848485,  4.94949495,\n",
              "        5.05050505,  5.15151515,  5.25252525,  5.35353535,  5.45454545,\n",
              "        5.55555556,  5.65656566,  5.75757576,  5.85858586,  5.95959596,\n",
              "        6.06060606,  6.16161616,  6.26262626,  6.36363636,  6.46464646,\n",
              "        6.56565657,  6.66666667,  6.76767677,  6.86868687,  6.96969697,\n",
              "        7.07070707,  7.17171717,  7.27272727,  7.37373737,  7.47474747,\n",
              "        7.57575758,  7.67676768,  7.77777778,  7.87878788,  7.97979798,\n",
              "        8.08080808,  8.18181818,  8.28282828,  8.38383838,  8.48484848,\n",
              "        8.58585859,  8.68686869,  8.78787879,  8.88888889,  8.98989899,\n",
              "        9.09090909,  9.19191919,  9.29292929,  9.39393939,  9.49494949,\n",
              "        9.5959596 ,  9.6969697 ,  9.7979798 ,  9.8989899 , 10.        ])"
            ]
          },
          "metadata": {},
          "execution_count": 9
        }
      ],
      "source": [
        "t = np.linspace(0, 10,100)\n",
        "t"
      ]
    },
    {
      "cell_type": "code",
      "execution_count": null,
      "metadata": {
        "id": "3ozSBN0x5_2y",
        "outputId": "90211d9f-a8b1-4b59-b0ee-5ca62cba98e5",
        "colab": {
          "base_uri": "https://localhost:8080/",
          "height": 466
        }
      },
      "outputs": [
        {
          "output_type": "execute_result",
          "data": {
            "text/plain": [
              "Text(0, 0.5, 'x')"
            ]
          },
          "metadata": {},
          "execution_count": 10
        },
        {
          "output_type": "display_data",
          "data": {
            "text/plain": [
              "<Figure size 640x480 with 1 Axes>"
            ],
            "image/png": "[encoded data removed]"
          },
          "metadata": {}
        }
      ],
      "source": [
        "plt.plot(t,a*t+b)\n",
        "plt.plot(T,X,'ro')\n",
        "plt.xlabel('t')\n",
        "plt.ylabel('x')"
      ]
    },
    {
      "cell_type": "markdown",
      "metadata": {
        "id": "hcFOEskb5_2y"
      },
      "source": [
        "Visualmente o ajuste parece bem feito. Podemos agora determinar $x(t)$ para valores não tabelados. Por exemplo determinemos $x(4.5)$. A função que define a reta é dada por"
      ]
    },
    {
      "cell_type": "code",
      "execution_count": null,
      "metadata": {
        "id": "8DmvVbrT5_2y"
      },
      "outputs": [],
      "source": [
        "def f(t, a, b):\n",
        "    return a*t + b"
      ]
    },
    {
      "cell_type": "markdown",
      "metadata": {
        "id": "muHqA3tZ5_2y"
      },
      "source": [
        "Portanto,"
      ]
    },
    {
      "cell_type": "code",
      "execution_count": null,
      "metadata": {
        "id": "de2AWh7s5_2y",
        "outputId": "36e91be3-f6ae-4dbc-92ee-e8f12d94ce39",
        "colab": {
          "base_uri": "https://localhost:8080/"
        }
      },
      "outputs": [
        {
          "output_type": "execute_result",
          "data": {
            "text/plain": [
              "np.float64(4.45)"
            ]
          },
          "metadata": {},
          "execution_count": 12
        }
      ],
      "source": [
        "round(f(4.5,a,b),2)"
      ]
    },
    {
      "cell_type": "markdown",
      "metadata": {
        "id": "bc3fkFfA5_2y"
      },
      "source": [
        "Podemos resolver este problema diretamente, usando o comando curve_fit do scipy:"
      ]
    },
    {
      "cell_type": "code",
      "execution_count": null,
      "metadata": {
        "id": "IIM40u7p5_2y"
      },
      "outputs": [],
      "source": [
        "from scipy.optimize import curve_fit"
      ]
    },
    {
      "cell_type": "code",
      "execution_count": null,
      "metadata": {
        "id": "E8Rs9EDH5_2y"
      },
      "outputs": [],
      "source": [
        "def g(t, a, b):\n",
        "    return a*t+b"
      ]
    },
    {
      "cell_type": "markdown",
      "metadata": {
        "id": "ybApsRCz5_2y"
      },
      "source": [
        "O comando que realiza o ajuste pelo método de mínimos quadrados é o seguinte:"
      ]
    },
    {
      "cell_type": "code",
      "execution_count": null,
      "metadata": {
        "id": "pNST1eiQ5_2y"
      },
      "outputs": [],
      "source": [
        "param, pcov = curve_fit(g, T, X)"
      ]
    },
    {
      "cell_type": "markdown",
      "metadata": {
        "id": "h-Dt_MB-5_2y"
      },
      "source": [
        "O primeiro argumento é o array com os valores dos parâmetros (o segundo é a matriz de covariância, que não nos interessa neste momento):"
      ]
    },
    {
      "cell_type": "code",
      "execution_count": null,
      "metadata": {
        "id": "PvgL4smf5_2y",
        "outputId": "fb241ae7-1ae8-43b6-e3c3-27765e1db31b",
        "colab": {
          "base_uri": "https://localhost:8080/"
        }
      },
      "outputs": [
        {
          "output_type": "execute_result",
          "data": {
            "text/plain": [
              "array([0.6100669 , 1.70364766])"
            ]
          },
          "metadata": {},
          "execution_count": 16
        }
      ],
      "source": [
        "param"
      ]
    },
    {
      "cell_type": "markdown",
      "metadata": {
        "id": "uCxwWuFc5_2z"
      },
      "source": [
        "que são os mesmos valores encontrados anteriormente. Façamos o gráfico correspondente:"
      ]
    },
    {
      "cell_type": "code",
      "execution_count": null,
      "metadata": {
        "id": "v8z-PvrJ5_2z",
        "outputId": "ccc0ca7e-dab5-4750-df17-42737e0befba",
        "colab": {
          "base_uri": "https://localhost:8080/",
          "height": 466
        }
      },
      "outputs": [
        {
          "output_type": "execute_result",
          "data": {
            "text/plain": [
              "Text(0, 0.5, 'x')"
            ]
          },
          "metadata": {},
          "execution_count": 17
        },
        {
          "output_type": "display_data",
          "data": {
            "text/plain": [
              "<Figure size 640x480 with 1 Axes>"
            ],
            "image/png": "[encoded data removed]"
          },
          "metadata": {}
        }
      ],
      "source": [
        "plt.plot(T,X,'ro', t, g(t, *param), 'g-')\n",
        "plt.xlabel('t')\n",
        "plt.ylabel('x')"
      ]
    },
    {
      "cell_type": "markdown",
      "metadata": {
        "id": "IeAQVsxt5_2z"
      },
      "source": [
        "Podemos quantificar o erro no ajuste calculando o erro quadrático médio. Definimos o array que calcula o valor da função $g(t)$, agora com os parâmetros determinados, em cada componente do array $T$:"
      ]
    },
    {
      "cell_type": "code",
      "execution_count": null,
      "metadata": {
        "id": "7BjYF5-Q5_2z",
        "outputId": "62724d1c-d460-4f4c-a838-fab49a864b77",
        "colab": {
          "base_uri": "https://localhost:8080/"
        }
      },
      "outputs": [
        {
          "output_type": "execute_result",
          "data": {
            "text/plain": [
              "array([2.49673463, 3.71686843, 4.20492195, 5.60807582, 6.15713603,\n",
              "       7.31626314])"
            ]
          },
          "metadata": {},
          "execution_count": 18
        }
      ],
      "source": [
        "F = g(T,*param)\n",
        "F"
      ]
    },
    {
      "cell_type": "markdown",
      "metadata": {
        "id": "ZrlP7Vmy5_2z"
      },
      "source": [
        "Podemos agora calcular o erro quadrático médio:"
      ]
    },
    {
      "cell_type": "code",
      "execution_count": null,
      "metadata": {
        "id": "CEEo6a9j5_2z",
        "outputId": "c90ace6a-8150-4b6b-a37b-598f91382bb5",
        "colab": {
          "base_uri": "https://localhost:8080/"
        }
      },
      "outputs": [
        {
          "output_type": "execute_result",
          "data": {
            "text/plain": [
              "np.float64(5.437925012953547e-22)"
            ]
          },
          "metadata": {},
          "execution_count": 19
        }
      ],
      "source": [
        "n=len(F)\n",
        "np.sum(F-X)**2/n"
      ]
    },
    {
      "cell_type": "markdown",
      "metadata": {
        "id": "H07aJLce5_2z"
      },
      "source": [
        "### Ajuste de funções quaisquer pelo método de mínimos quadrados"
      ]
    },
    {
      "cell_type": "markdown",
      "metadata": {
        "id": "GPMFft6I5_2z"
      },
      "source": [
        "#### Exemplo 2.\n",
        "A técnica acima pode ser generalizada para ajustar qualquer função a um conjunto de dados. Por exemplo, suponhamos que temos os dados:"
      ]
    },
    {
      "cell_type": "code",
      "execution_count": null,
      "metadata": {
        "id": "Mpm58PHS5_20"
      },
      "outputs": [],
      "source": [
        "x = np.array([1., 1.5,2.,3.,4.,5.])\n",
        "y = np.array([5.3,6.4,8.2,7.2,6.6,4.3])"
      ]
    },
    {
      "cell_type": "markdown",
      "metadata": {
        "id": "pBudgcJA5_20"
      },
      "source": [
        "Façamos um gráfico destes pontos:"
      ]
    },
    {
      "cell_type": "code",
      "execution_count": null,
      "metadata": {
        "id": "MgTQqZHj5_20",
        "outputId": "f99a807a-bf6a-4416-d648-dcdf789ff6e0",
        "colab": {
          "base_uri": "https://localhost:8080/",
          "height": 466
        }
      },
      "outputs": [
        {
          "output_type": "execute_result",
          "data": {
            "text/plain": [
              "Text(0, 0.5, 'y')"
            ]
          },
          "metadata": {},
          "execution_count": 32
        },
        {
          "output_type": "display_data",
          "data": {
            "text/plain": [
              "<Figure size 640x480 with 1 Axes>"
            ],
            "image/png": "[encoded data removed]"
          },
          "metadata": {}
        }
      ],
      "source": [
        "plt.plot(x,y,'ro')\n",
        "plt.xlabel('x')\n",
        "plt.ylabel('y')"
      ]
    },
    {
      "cell_type": "markdown",
      "metadata": {
        "id": "be_ZS0_15_20"
      },
      "source": [
        "Se quisermos, por exemplo ajustar a função $f(x) = a+bx+cx^2+d\\mbox{e}^{-x}$ a estes dados, devemos minimizar o erro:\n",
        "\n",
        "$$\n",
        "\\phi(a,b,c,d)=\\sum_{k=1..n}(a+bx_k+cx_k^2+d\\mbox{e}^{-x_k}-y_k)^2\n",
        "$$"
      ]
    },
    {
      "cell_type": "markdown",
      "metadata": {
        "id": "pSawSzTl5_20"
      },
      "source": [
        "O ponto de mínimo deve satisfazer:\n",
        "\n",
        "$$\n",
        "\\frac{\\partial \\phi}{\\partial a}=0\\,,\\quad \\frac{\\partial \\phi}{\\partial b}=0\\,,\\quad\n",
        "\\frac{\\partial \\phi}{\\partial c}=0\\,,\\quad\n",
        "\\frac{\\partial \\phi}{\\partial d}=0\\,.\n",
        "$$"
      ]
    },
    {
      "cell_type": "markdown",
      "metadata": {
        "id": "qH5Vq01p5_20"
      },
      "source": [
        "Como os parâmetros a serem determinados aparecem linearmente, estas 4 condições geram 4 equações lineares que determinam os valores dos parâmetros que minimizam o erro. Note que se os parâmetros aparecerem de forma não linear na função de ajuste, a correspondente equação para os parâmetros será não-linear e sua solução pode ser difícil de ser encontrada.\n",
        "\n",
        "Façamos o ajuste diretamente, usando comandos do Python:"
      ]
    },
    {
      "cell_type": "code",
      "execution_count": null,
      "metadata": {
        "id": "YaLvYK9Z5_20"
      },
      "outputs": [],
      "source": [
        "def h(t, a, b,c,d):\n",
        "    return a + b*t+c*t**2 +d*np.exp(-t)"
      ]
    },
    {
      "cell_type": "code",
      "execution_count": null,
      "metadata": {
        "id": "5nVLoDox5_20"
      },
      "outputs": [],
      "source": [
        "param, pcov = curve_fit(h, x, y)"
      ]
    },
    {
      "cell_type": "code",
      "execution_count": null,
      "metadata": {
        "id": "N__vnD_p5_20",
        "outputId": "a288bbb9-0539-444b-bb50-6a61bbaca884",
        "colab": {
          "base_uri": "https://localhost:8080/"
        }
      },
      "outputs": [
        {
          "output_type": "execute_result",
          "data": {
            "text/plain": [
              "array([  9.94130347,   0.24101929,  -0.26833019, -12.80943743])"
            ]
          },
          "metadata": {},
          "execution_count": 35
        }
      ],
      "source": [
        "param"
      ]
    },
    {
      "cell_type": "markdown",
      "metadata": {
        "id": "naElq3Az5_20"
      },
      "source": [
        "Façamos o gráfico correspondente:"
      ]
    },
    {
      "cell_type": "code",
      "execution_count": null,
      "metadata": {
        "id": "gXuSTwoA5_20"
      },
      "outputs": [],
      "source": [
        "t = np.linspace(0.9, 5.1,30)"
      ]
    },
    {
      "cell_type": "code",
      "execution_count": null,
      "metadata": {
        "id": "Jxa5Xpv_5_20",
        "outputId": "a2755dcb-093b-44ee-9bc1-64032405032a",
        "colab": {
          "base_uri": "https://localhost:8080/",
          "height": 466
        }
      },
      "outputs": [
        {
          "output_type": "execute_result",
          "data": {
            "text/plain": [
              "Text(0, 0.5, 'y')"
            ]
          },
          "metadata": {},
          "execution_count": 37
        },
        {
          "output_type": "display_data",
          "data": {
            "text/plain": [
              "<Figure size 640x480 with 1 Axes>"
            ],
            "image/png": "[encoded data removed]"
          },
          "metadata": {}
        }
      ],
      "source": [
        "plt.plot(x,y,'ro', t, h(t, *param), 'g-')\n",
        "plt.xlabel('x')\n",
        "plt.ylabel('y')"
      ]
    },
    {
      "cell_type": "markdown",
      "metadata": {
        "id": "-6k6YGEg5_20"
      },
      "source": [
        "Podemos quantificar o erro no ajuste calculando o erro quadrático médio. Definimos o array que calcula o valor da função $f$, agora com os parâmetros determinados, em cada componente do array $x$:"
      ]
    },
    {
      "cell_type": "code",
      "execution_count": null,
      "metadata": {
        "id": "tBrhitwK5_20",
        "outputId": "b7c63cbd-abac-4dd6-e4df-67b4ab866b61",
        "colab": {
          "base_uri": "https://localhost:8080/"
        }
      },
      "outputs": [
        {
          "output_type": "execute_result",
          "data": {
            "text/plain": [
              "array([5.2016639 , 6.84091767, 7.61645247, 7.61164534, 6.37748464,\n",
              "       4.35183597])"
            ]
          },
          "metadata": {},
          "execution_count": 38
        }
      ],
      "source": [
        "H = h(x,*param)\n",
        "H"
      ]
    },
    {
      "cell_type": "markdown",
      "metadata": {
        "id": "L53LJLze5_20"
      },
      "source": [
        "Lembremos que os valores das ordenadas (valores observados de $y$) são dados por:"
      ]
    },
    {
      "cell_type": "code",
      "execution_count": null,
      "metadata": {
        "id": "eWjcIsuh5_21",
        "outputId": "18ce9c54-1255-44f6-904b-b3dd77d530c1",
        "colab": {
          "base_uri": "https://localhost:8080/"
        }
      },
      "outputs": [
        {
          "output_type": "execute_result",
          "data": {
            "text/plain": [
              "array([5.3, 6.4, 8.2, 7.2, 6.6, 4.3])"
            ]
          },
          "metadata": {},
          "execution_count": 39
        }
      ],
      "source": [
        "y"
      ]
    },
    {
      "cell_type": "markdown",
      "metadata": {
        "id": "B4nPZQev5_21"
      },
      "source": [
        "Podemos agora calcular o erro quadrático médio:"
      ]
    },
    {
      "cell_type": "code",
      "execution_count": null,
      "metadata": {
        "id": "k6S2Iw8h5_21",
        "outputId": "1b89bde4-f435-4aac-e847-878d6e60f628",
        "colab": {
          "base_uri": "https://localhost:8080/"
        }
      },
      "outputs": [
        {
          "output_type": "execute_result",
          "data": {
            "text/plain": [
              "np.float64(2.612037485647759e-17)"
            ]
          },
          "metadata": {},
          "execution_count": 40
        }
      ],
      "source": [
        "n=len(y)\n",
        "np.sum(H-y)**2/n"
      ]
    },
    {
      "cell_type": "markdown",
      "metadata": {
        "id": "aDkXu5vw5_21"
      },
      "source": [
        "Suponhamos que queremos inferir o valor de $y(4.5)$ e $y(4.7)$:"
      ]
    },
    {
      "cell_type": "code",
      "execution_count": null,
      "metadata": {
        "id": "x9UkF82v5_21",
        "outputId": "b264ccc9-3351-4555-a83b-fea3bc33b45e",
        "colab": {
          "base_uri": "https://localhost:8080/"
        }
      },
      "outputs": [
        {
          "output_type": "execute_result",
          "data": {
            "text/plain": [
              "array([5.45, 5.03])"
            ]
          },
          "metadata": {},
          "execution_count": 41
        }
      ],
      "source": [
        "np.round(h(np.array([4.5,4.7]),*param),2)"
      ]
    },
    {
      "cell_type": "markdown",
      "metadata": {
        "id": "pU0ahoAi5_21"
      },
      "source": [
        "### Coeficiente de determinação e coeficiente de correlação"
      ]
    },
    {
      "cell_type": "markdown",
      "metadata": {
        "id": "kUr6MBYb5_21"
      },
      "source": [
        "Na regressão linear, o objetivo é encontrar um modelo que explique a relação entre uma variável dependente $y$ e uma ou mais variáveis ​​independentes $x$. O **método dos mínimos quadrados** é uma abordagem padrão que minimiza a soma dos quadrados dos resíduos:\n",
        "\n",
        "$$\n",
        "\\text{SSE} = \\sum_{i=1}^n(\\hat{y}_i-y_i)^2\n",
        "$$\n",
        "\n",
        "sendo $\\hat{y}_i$  os valores previstos pelo modelo  e $y_i$  os valores observados (tabelados).\n",
        "\n",
        "O **coeficiente de determinação**, denotado por $r^2$, é uma medida de quão bem o modelo de regressão explica a variabilidade dos dados de resposta em torno de sua média. É definido como:\n",
        "\n",
        "$$\n",
        "r^2 = 1 - \\frac{\\text{SSE}}{\\text{SST}}\n",
        "$$\n",
        "\n",
        "Significado das siglas:\n",
        "\n",
        "- $\\text{SSE}$ (*sum of squared estimate of errors*)  é a **soma dos erros quadrados** $\\sum (y_i - \\hat{y}_i)^2$\n",
        "- $\\text{SST}$ (*sum of squares total*) é a **soma total dos quadrados**: $\\sum (\\hat{y}_i - \\bar{y})^2$\n",
        "\n",
        "\n",
        "Alternativamente, $r^2$ pode ser expresso como:\n",
        "\n",
        "$$\n",
        "r^2 = \\frac{\\text{SSR}}{\\text{SST}}\n",
        "$$\n",
        "\n",
        "onde $\\text{SSR}$ é a **soma dos quadrados da regressão**, medindo a variância explicada pelo modelo:\n",
        "\n",
        "$$\n",
        "\\text{SSR} = \\sum (\\hat{y}_i - \\bar{y})^2\n",
        "$$\n",
        "\n",
        "Notemos que:\n",
        "\n",
        "- $r^2 = 1$: o modelo explica toda a variabilidade nos dados de resposta.\n",
        "- $r^2 = 0$: o modelo não explica nenhuma variabilidade; não é melhor do que prever a média.\n",
        "- $0 < r^2 < 1$: a proporção da variabilidade explicada pelo modelo.\n",
        "\n",
        "\n",
        "Na regressão linear simples (um preditor), $r^2$ também é o quadrado do coeficiente de correlação de Pearson entre $x$ e $y$. A quantidade $r$ é denominada *coefficiente de correlação*."
      ]
    },
    {
      "cell_type": "markdown",
      "metadata": {
        "id": "Crk4LV-s5_21"
      },
      "source": [
        "#### Exemplo 3.\n",
        "Façamos ajuste e determinemos o coeficiente de determinação para os seguintes dados."
      ]
    },
    {
      "cell_type": "code",
      "execution_count": null,
      "metadata": {
        "id": "pOIhl_eo5_21"
      },
      "outputs": [],
      "source": [
        "import numpy as np\n",
        "from scipy.optimize import curve_fit\n",
        "import matplotlib.pyplot as plt\n",
        "\n",
        "# Dados\n",
        "x = np.array([1., 2., 3., 4., 5. ,6. , 7., 8.])\n",
        "y = np.array([2.3, 6.4, 8.2, 7.2, 6.6, 4.3, 2.3, 1.4])\n",
        "\n",
        "# Modelo\n",
        "def h(t, a, b, c, d):\n",
        "    return a + b*t + c*t**2 + d*np.exp(-t)\n",
        "\n",
        "# Ajuste da curva\n",
        "param, pcov = curve_fit(h, x, y)"
      ]
    },
    {
      "cell_type": "markdown",
      "metadata": {
        "id": "qIb0Uyw25_21"
      },
      "source": [
        "Façamos o gráfico:"
      ]
    },
    {
      "cell_type": "code",
      "execution_count": null,
      "metadata": {
        "id": "bSnhLu1X5_21",
        "outputId": "e9fae67b-4d36-4458-c9d0-e833761b6b93",
        "colab": {
          "base_uri": "https://localhost:8080/",
          "height": 466
        }
      },
      "outputs": [
        {
          "output_type": "execute_result",
          "data": {
            "text/plain": [
              "Text(0, 0.5, 'y')"
            ]
          },
          "metadata": {},
          "execution_count": 43
        },
        {
          "output_type": "display_data",
          "data": {
            "text/plain": [
              "<Figure size 640x480 with 1 Axes>"
            ],
            "image/png": "[encoded data removed]"
          },
          "metadata": {}
        }
      ],
      "source": [
        "t = np.linspace(0.9, 8.1,30)\n",
        "plt.plot(x,y,'ro', t, h(t, *param), 'g-')\n",
        "plt.xlabel('x')\n",
        "plt.ylabel('y')"
      ]
    },
    {
      "cell_type": "markdown",
      "metadata": {
        "id": "R4uBYGUA5_21"
      },
      "source": [
        "Calculemos o coeficiente de determinação:"
      ]
    },
    {
      "cell_type": "code",
      "execution_count": null,
      "metadata": {
        "id": "i9lMXoW15_21",
        "outputId": "d9314c0e-f8b9-4816-dd0b-8220d9fca711",
        "colab": {
          "base_uri": "https://localhost:8080/"
        }
      },
      "outputs": [
        {
          "output_type": "stream",
          "name": "stdout",
          "text": [
            "r²= 0.9739\n"
          ]
        }
      ],
      "source": [
        "y_pred = h(x, *param)\n",
        "y_mean = np.mean(y)\n",
        "ss_total = np.sum((y - y_mean)**2)\n",
        "ss_res = np.sum((y - y_pred)**2)\n",
        "\n",
        "r2 = 1 - ss_res / ss_total\n",
        "\n",
        "print(f\"r²= {r2:.4f}\")"
      ]
    },
    {
      "cell_type": "markdown",
      "metadata": {
        "id": "s3eMuPwP5_22"
      },
      "source": [
        "Os resultados indicam que 97,39% da incerteza original foi explicada por esse modelo. Esse resultado confirma a conclusão de que a equação proposta representa um bom ajuste, como também é evidente a partir do gráfico.\n"
      ]
    },
    {
      "cell_type": "markdown",
      "metadata": {
        "id": "Z0aMMVId5_22"
      },
      "source": [
        "Façamos a predição em $x=4.5$:"
      ]
    },
    {
      "cell_type": "code",
      "execution_count": null,
      "metadata": {
        "id": "V2J_ts0u5_22",
        "outputId": "8735733a-cebd-4e9f-dad5-da70dfe2fffe",
        "colab": {
          "base_uri": "https://localhost:8080/"
        }
      },
      "outputs": [
        {
          "output_type": "execute_result",
          "data": {
            "text/plain": [
              "np.float64(6.73)"
            ]
          },
          "metadata": {},
          "execution_count": 45
        }
      ],
      "source": [
        "round(h(4.5,*param),2)"
      ]
    },
    {
      "cell_type": "markdown",
      "metadata": {
        "id": "kL7cXZQx5_22"
      },
      "source": [
        "### Método dos gradientes descendentes\n",
        "\n",
        "O método descrito anteriormente funciona bem para funções de uma variável e quando o número de pontos não é muito grande. Descreveremos agora um método mais apropriado para lidar com ajuste de funções de uma ou mais variável, que funciona bem com um número muito grande de pontos. Nosso objetivo é modelar a relação entre uma variável dependente escalar $y$ e uma variável independente $x$ como:\n",
        "\n",
        "$$\n",
        "y \\approx \\hat{y} = \\theta_0 + \\theta_1 x\\,.\n",
        "$$\n",
        "\n",
        "Devemos encontrar os parâmetros $\\theta_0$ e $\\theta_1$ que minimizem a discrepância entre os valores previstos $\\hat{y}$ e os valores observados $y$. Essa discrepância é quantificada pela função de custo (Erro Quadrático Médio):\n",
        "\n",
        "$$\n",
        "J(\\theta_0, \\theta_1) = \\frac{1}{2m} \\sum_{i=1}^{m} \\left( \\hat{y}^{(i)} - y^{(i)} \\right)^2 = \\frac{1}{2m} \\sum_{i=1}^{m} \\left( \\theta_0 + \\theta_1 x^{(i)} - y^{(i)} \\right)^2\n",
        "$$"
      ]
    },
    {
      "cell_type": "markdown",
      "metadata": {
        "id": "j2al8dud5_22"
      },
      "source": [
        "O método dos gradientes descendentes é um algoritmo de otimização iterativa para minimizar a função de custo $J(\\theta_0, \\theta_1)$. Os parâmetros são atualizados da seguinte forma:\n",
        "\n",
        "$$\n",
        "\\theta_j := \\theta_j - \\alpha \\frac{\\partial J}{\\partial \\theta_j}\n",
        "$$\n",
        "\n",
        "para $j = 0, 1$, onde $\\alpha$ é a taxa de aprendizado (tomando como positivo, pois buscamos um mínimo).\n",
        "\n",
        "As derivadas parciais são:\n",
        "\n",
        "$$\n",
        "\\frac{\\partial J}{\\partial \\theta_0} = \\frac{1}{m} \\sum_{i=1}^{m} \\left( \\hat{y}^{(i)} - y^{(i)} \\right)\n",
        "$$\n",
        "\n",
        "$$\n",
        "\\frac{\\partial J}{\\partial \\theta_1} = \\frac{1}{m} \\sum_{i=1}^{m} \\left( \\hat{y}^{(i)} - y^{(i)} \\right)x^{(i)}\n",
        "$$"
      ]
    },
    {
      "cell_type": "markdown",
      "metadata": {
        "id": "B-kzNBRT5_22"
      },
      "source": [
        "De modo mais compacto, para fins computacionais,  podemos reescrever:\n",
        "\n",
        "$$J(\\theta) = \\frac{1}{2m} \\sum_{i=1}^m (h_\\theta(x^{(i)}) - y^{(i)} )^2$$\n",
        "\n",
        "onde $y^{(i)}$ são os valores observados e $h_{\\theta}(x)$ é a hipótese, dada pelo modelo linear.\n",
        "\n",
        "$$h_{\\theta}(x) = \\theta^T\\mathbf{x} = \\theta_0 + \\theta_1x_1$$\n",
        "\n",
        "sendo\n",
        "\n",
        "$$\n",
        "\\theta^T = [\\theta_0 \\,\\,\\theta_1]\\,,\\qquad \\mathbf{x}^T = [ 1,x_1]\\,.\n",
        "$$"
      ]
    },
    {
      "cell_type": "markdown",
      "metadata": {
        "id": "mxXRIIe_5_22"
      },
      "source": [
        "#### Exemplo 4\n",
        "Antes de usar o método em um problema prático, validaremos o método em um exemplo artificial, usando dados sintéticos."
      ]
    },
    {
      "cell_type": "code",
      "execution_count": null,
      "metadata": {
        "id": "WHyI_mYI5_22"
      },
      "outputs": [],
      "source": [
        "import numpy as np\n",
        "import matplotlib.pyplot as plt"
      ]
    },
    {
      "cell_type": "code",
      "execution_count": null,
      "metadata": {
        "id": "506n0Ch95_22"
      },
      "outputs": [],
      "source": [
        "# Gera dados sintéticos\n",
        "np.random.seed(0)\n",
        "x = 2 * np.random.rand(100, 1)\n",
        "y = 4 + 3 * x + np.random.randn(100, 1)"
      ]
    },
    {
      "cell_type": "code",
      "execution_count": null,
      "metadata": {
        "id": "wj8zkPsG5_22"
      },
      "outputs": [],
      "source": [
        "plt.plot(x,y,'ro')\n",
        "plt.xlabel('x')\n",
        "plt.ylabel('y')\n",
        "plt.grid(True)\n",
        "plt.show()"
      ]
    },
    {
      "cell_type": "markdown",
      "metadata": {
        "id": "T3z0KPNl5_22"
      },
      "source": [
        "Definimos o vetor de dados $\\mathbf{x}^T = [ 1,x_1]$:"
      ]
    },
    {
      "cell_type": "code",
      "execution_count": null,
      "metadata": {
        "id": "fQLKums15_22"
      },
      "outputs": [],
      "source": [
        "X = np.c_[np.ones((100, 1)), x]\n",
        "X[0:5]"
      ]
    },
    {
      "cell_type": "markdown",
      "metadata": {
        "id": "dSH1jA0F5_22"
      },
      "source": [
        "Note que"
      ]
    },
    {
      "cell_type": "code",
      "execution_count": null,
      "metadata": {
        "id": "ZfLESizL5_22"
      },
      "outputs": [],
      "source": [
        "np.shape(X)"
      ]
    },
    {
      "cell_type": "markdown",
      "metadata": {
        "id": "jJAqRy9b5_22"
      },
      "source": [
        "Visualisemos alguns valores de X:"
      ]
    },
    {
      "cell_type": "code",
      "execution_count": null,
      "metadata": {
        "id": "ec8W50Ba5_22"
      },
      "outputs": [],
      "source": [
        "X[0:5]"
      ]
    },
    {
      "cell_type": "markdown",
      "metadata": {
        "id": "mGxCVD0T5_22"
      },
      "source": [
        "Definimos agora os parâmetros. O vetor de parâmetros $\\theta=[\\theta_0,\\theta_1]^T$ terá valor inicial nulo:"
      ]
    },
    {
      "cell_type": "code",
      "execution_count": null,
      "metadata": {
        "id": "pC8x1-LO5_23"
      },
      "outputs": [],
      "source": [
        "# Parâmetros\n",
        "alpha = 0.1\n",
        "n_it = 1000\n",
        "m = len(x)\n",
        "theta = np.zeros((2,1))"
      ]
    },
    {
      "cell_type": "markdown",
      "metadata": {
        "id": "mJ2ccpfb5_23"
      },
      "source": [
        "Façamos os cálculos:"
      ]
    },
    {
      "cell_type": "code",
      "execution_count": null,
      "metadata": {
        "id": "vQ1K9ifn5_23"
      },
      "outputs": [],
      "source": [
        "for _ in range(n_it):\n",
        "    gradJ = 1/m * X.T @ (X @ theta - y)\n",
        "    theta = theta - alpha * gradJ\n",
        "\n",
        "print(f\"Theta encontrado: {theta.ravel()}\")"
      ]
    },
    {
      "cell_type": "code",
      "execution_count": null,
      "metadata": {
        "id": "aRjH_44G5_23"
      },
      "outputs": [],
      "source": [
        "J = (1/(2*m)) * np.sum((X @ theta - y)**2)\n",
        "J"
      ]
    },
    {
      "cell_type": "markdown",
      "metadata": {
        "id": "LOBfhXQM5_23"
      },
      "source": [
        "Podemos agora mostrar os gráficos:"
      ]
    },
    {
      "cell_type": "code",
      "execution_count": null,
      "metadata": {
        "id": "S7H2kXrT5_23"
      },
      "outputs": [],
      "source": [
        "# Regression line\n",
        "plt.figure(figsize=(6, 4),dpi=100)\n",
        "plt.scatter(x, y, label=\"Dados\")\n",
        "plt.plot(x, X @ theta, color='red', label=\"Regressão\")\n",
        "plt.xlabel(\"$x$\")\n",
        "plt.ylabel(\"$y$\")\n",
        "plt.legend()\n",
        "plt.title(\"Regressão linear com gradientes descendentes\")\n",
        "plt.grid(True)\n",
        "plt.show()"
      ]
    },
    {
      "cell_type": "markdown",
      "metadata": {
        "id": "y9QaLWby5_23"
      },
      "source": [
        "Para encontrar um determinado valor sobre a reta, por exemplo, $y(1.5)$, podemos calcular:"
      ]
    },
    {
      "cell_type": "code",
      "execution_count": null,
      "metadata": {
        "id": "OQruX2-m5_23"
      },
      "outputs": [],
      "source": [
        "x = np.array([1,1.5])"
      ]
    },
    {
      "cell_type": "markdown",
      "metadata": {
        "id": "6APM782c5_23"
      },
      "source": [
        "de modo que"
      ]
    },
    {
      "cell_type": "code",
      "execution_count": null,
      "metadata": {
        "id": "oD4YV2lr5_23"
      },
      "outputs": [],
      "source": [
        "x@theta"
      ]
    },
    {
      "cell_type": "markdown",
      "metadata": {
        "id": "7W13CJdG5_23"
      },
      "source": [
        "ou"
      ]
    },
    {
      "cell_type": "code",
      "execution_count": null,
      "metadata": {
        "id": "6KMRxzLW5_23"
      },
      "outputs": [],
      "source": [
        "def predict(x,theta):\n",
        "    xx = np.array([1,x])\n",
        "    y_pred = xx @ theta\n",
        "    return round(y_pred.item(),4)"
      ]
    },
    {
      "cell_type": "code",
      "execution_count": null,
      "metadata": {
        "id": "m-gcAcPn5_23"
      },
      "outputs": [],
      "source": [
        "predict(1.5,theta)"
      ]
    },
    {
      "cell_type": "markdown",
      "metadata": {
        "id": "_gSum5QD5_23"
      },
      "source": [
        "#### Exemplo 5.\n",
        "Utilizemos agora uma função que determina a reta de regressão:"
      ]
    },
    {
      "cell_type": "code",
      "execution_count": null,
      "metadata": {
        "id": "VtxvIoU55_23"
      },
      "outputs": [],
      "source": [
        "def grad(x,y):\n",
        "    alpha = 0.01\n",
        "    n_it = 1000\n",
        "    m = len(x)\n",
        "    theta = np.zeros((2,1))\n",
        "    X = np.c_[np.ones((m, 1)), x]\n",
        "    for _ in range(n_it):\n",
        "        gradJ = 1/m * X.T @ (X @ theta - y)\n",
        "        theta = theta - alpha * gradJ\n",
        "    return theta"
      ]
    },
    {
      "cell_type": "code",
      "execution_count": null,
      "metadata": {
        "id": "QwuUweCI5_23"
      },
      "outputs": [],
      "source": [
        "# Gera dados sintéticos\n",
        "np.random.seed(0)\n",
        "x = 3 * np.random.rand(10, 1)\n",
        "y = 2 + 3.5 * x + np.random.randn(10, 1)"
      ]
    },
    {
      "cell_type": "code",
      "execution_count": null,
      "metadata": {
        "id": "yfhELRrx5_23"
      },
      "outputs": [],
      "source": [
        "np.shape(x)"
      ]
    },
    {
      "cell_type": "code",
      "execution_count": null,
      "metadata": {
        "id": "W1tXxqiY5_23"
      },
      "outputs": [],
      "source": [
        "np.shape(y)"
      ]
    },
    {
      "cell_type": "code",
      "execution_count": null,
      "metadata": {
        "id": "n0X0eigN5_24"
      },
      "outputs": [],
      "source": [
        "plt.plot(x,y,'ro')\n",
        "plt.xlabel('x')\n",
        "plt.ylabel('y')\n",
        "plt.grid(True)\n",
        "plt.show()"
      ]
    },
    {
      "cell_type": "markdown",
      "metadata": {
        "id": "6lCbSuHj5_24"
      },
      "source": [
        "Os coeficientes da reta de regressão são:"
      ]
    },
    {
      "cell_type": "code",
      "execution_count": null,
      "metadata": {
        "id": "4vG5caKW5_24"
      },
      "outputs": [],
      "source": [
        "theta = grad(x,y)\n",
        "theta"
      ]
    },
    {
      "cell_type": "code",
      "execution_count": null,
      "metadata": {
        "id": "R_R8_H9b5_24"
      },
      "outputs": [],
      "source": [
        "# Regression line\n",
        "m = len(x)\n",
        "X = np.c_[np.ones((m, 1)), x]\n",
        "plt.figure(figsize=(6, 4),dpi=140)\n",
        "plt.scatter(x, y, label=\"Dados\")\n",
        "plt.plot(x, X @ theta, color='red', label=\"Regressão\")\n",
        "plt.xlabel(\"$x$\")\n",
        "plt.ylabel(\"$y$\")\n",
        "plt.legend()\n",
        "plt.title(\"Regressão linear com gradientes descendentes\")\n",
        "plt.grid(True)\n",
        "plt.show()"
      ]
    },
    {
      "cell_type": "markdown",
      "metadata": {
        "id": "DGyE9HuG5_24"
      },
      "source": [
        "#### Exemplo 6.\n",
        "Vejamos um exemplo [1] que envolve a relação dos lucros de uma companhia que faz compartilhamento de bicicletas e a população da cidade na qual esta companhia oferece o serviço. Importaremos os dados do arquivo bike_sharing_data.txt. Usaremos a biblioteca pandas para melhor visualização dos dados:"
      ]
    },
    {
      "cell_type": "code",
      "execution_count": null,
      "metadata": {
        "id": "jCkcz5Xm5_24"
      },
      "outputs": [],
      "source": [
        "import pandas as pd"
      ]
    },
    {
      "cell_type": "code",
      "execution_count": null,
      "metadata": {
        "id": "VSKSXS_A5_24"
      },
      "outputs": [],
      "source": [
        "data = pd.read_csv('bike_sharing_data.txt')"
      ]
    },
    {
      "cell_type": "markdown",
      "metadata": {
        "id": "WteorbpY5_24"
      },
      "source": [
        "Podemos visulizar as primeiras linhas do arquivo:"
      ]
    },
    {
      "cell_type": "code",
      "execution_count": null,
      "metadata": {
        "id": "KNndx21d5_24"
      },
      "outputs": [],
      "source": [
        "data.head()"
      ]
    },
    {
      "cell_type": "markdown",
      "metadata": {
        "id": "WJROT1m75_24"
      },
      "source": [
        "Os dados das duas colunas estão em unidades de 10000. Outras informações podem ser obtidas por meio do atributo:"
      ]
    },
    {
      "cell_type": "code",
      "execution_count": null,
      "metadata": {
        "id": "9lSptVGG5_24"
      },
      "outputs": [],
      "source": [
        "data.info()"
      ]
    },
    {
      "cell_type": "markdown",
      "metadata": {
        "id": "EDyblKBv5_24"
      },
      "source": [
        "Ou seja, temos dados de 97 cidades. Façamos um gráfico:"
      ]
    },
    {
      "cell_type": "code",
      "execution_count": null,
      "metadata": {
        "id": "Gx38q_6v5_24"
      },
      "outputs": [],
      "source": [
        "import matplotlib.pyplot as plt\n",
        "import seaborn as sns"
      ]
    },
    {
      "cell_type": "code",
      "execution_count": null,
      "metadata": {
        "id": "pXDAhcgP5_24"
      },
      "outputs": [],
      "source": [
        "ax = sns.scatterplot(x= \"Population\", y=\"Profit\", data=data)\n",
        "ax.set_title(\"Lucro em US$10000 vs  População em 10000\");"
      ]
    },
    {
      "cell_type": "markdown",
      "metadata": {
        "id": "waTqHBhG5_24"
      },
      "source": [
        "Usando ggplot, temos um estilo mais elegante de gráfico:"
      ]
    },
    {
      "cell_type": "code",
      "execution_count": null,
      "metadata": {
        "id": "ZMGR_wY95_24"
      },
      "outputs": [],
      "source": [
        "plt.style.use('ggplot')\n",
        "ax = sns.scatterplot(x= \"Population\", y=\"Profit\", data=data)\n",
        "ax.set_title(\"Lucro em US$10000 vs  População em 10000\");"
      ]
    },
    {
      "cell_type": "markdown",
      "metadata": {
        "id": "sY9rpWOO5_25"
      },
      "source": [
        "Este gráfico indica que um ajuste linear é, aparentemente,  apropriado."
      ]
    },
    {
      "cell_type": "code",
      "execution_count": null,
      "metadata": {
        "id": "nKMygQLA5_25"
      },
      "outputs": [],
      "source": [
        "m = data.Population.values.size\n",
        "m"
      ]
    },
    {
      "cell_type": "code",
      "execution_count": null,
      "metadata": {
        "id": "Gnf30txJ5_25"
      },
      "outputs": [],
      "source": [
        "x = data.Population.values\n",
        "x"
      ]
    },
    {
      "cell_type": "code",
      "execution_count": null,
      "metadata": {
        "id": "1jVYczNu5_25"
      },
      "outputs": [],
      "source": [
        "y = data.Profit.values\n",
        "y"
      ]
    },
    {
      "cell_type": "markdown",
      "metadata": {
        "id": "WRW8FhZK5_25"
      },
      "source": [
        "Note que"
      ]
    },
    {
      "cell_type": "code",
      "execution_count": null,
      "metadata": {
        "id": "o9UuqdeS5_25"
      },
      "outputs": [],
      "source": [
        "np.shape(y)"
      ]
    },
    {
      "cell_type": "markdown",
      "metadata": {
        "id": "MjZeNTeK5_25"
      },
      "source": [
        "ou seja, x e y são objetos do tipo 1-array. Eles devem ser transformados em vetores 2D da forma (m, 1). Tal conversão e feita dentro da função abaixo:"
      ]
    },
    {
      "cell_type": "code",
      "execution_count": null,
      "metadata": {
        "id": "WHlNxbPO5_25"
      },
      "outputs": [],
      "source": [
        "def grad2(x, y):\n",
        "    x = x.reshape(-1, 1)\n",
        "    y = y.reshape(-1, 1)\n",
        "    alpha = 0.01\n",
        "    n_it = 1000\n",
        "    m = len(x)\n",
        "    theta = np.zeros((2,1))\n",
        "    X = np.c_[np.ones((m, 1)), x]\n",
        "    for _ in range(n_it):\n",
        "        gradJ = 1/m * X.T @ (X @ theta - y)\n",
        "        theta = theta - alpha * gradJ\n",
        "    return theta"
      ]
    },
    {
      "cell_type": "code",
      "execution_count": null,
      "metadata": {
        "id": "CeB2WKA35_25"
      },
      "outputs": [],
      "source": [
        "theta = grad2(x,y)\n",
        "theta"
      ]
    },
    {
      "cell_type": "markdown",
      "metadata": {
        "id": "YLg_I4Zv5_25"
      },
      "source": [
        "Para fazer o gráfico da reta resultante, transformemos $\\theta$ em um array 1D:"
      ]
    },
    {
      "cell_type": "code",
      "execution_count": null,
      "metadata": {
        "id": "7nJgqnbG5_25"
      },
      "outputs": [],
      "source": [
        "np.shape(theta)"
      ]
    },
    {
      "cell_type": "code",
      "execution_count": null,
      "metadata": {
        "id": "vgBXWGjR5_25"
      },
      "outputs": [],
      "source": [
        "theta = np.squeeze(theta)\n",
        "theta"
      ]
    },
    {
      "cell_type": "code",
      "execution_count": null,
      "metadata": {
        "id": "SSY2AEI05_25"
      },
      "outputs": [],
      "source": [
        "np.shape(theta)"
      ]
    },
    {
      "cell_type": "markdown",
      "metadata": {
        "id": "MNxDpBeq5_25"
      },
      "source": [
        "Façamos o gráfico:"
      ]
    },
    {
      "cell_type": "code",
      "execution_count": null,
      "metadata": {
        "id": "M6zqrIJG5_25"
      },
      "outputs": [],
      "source": [
        "sns.scatterplot(x=\"Population\", y=\"Profit\", data=data)\n",
        "x_value = [x for x in range(5,25)]\n",
        "y_value = [(x*theta[1]+theta[0]) for x in x_value]\n",
        "plt.plot(x_value,y_value,'b-')\n",
        "plt.xlabel(\"Population in 10000\")\n",
        "plt.ylabel(\"Profit in $10,000.00\")\n",
        "plt.title(\"Linear Regression\")"
      ]
    },
    {
      "cell_type": "markdown",
      "metadata": {
        "id": "WyTgAhCp5_25"
      },
      "source": [
        "Usaremos a função:"
      ]
    },
    {
      "cell_type": "code",
      "execution_count": null,
      "metadata": {
        "id": "Xg70S2RQ5_25"
      },
      "outputs": [],
      "source": [
        "def predict(x,theta):\n",
        "    xx = np.array([1,x])\n",
        "    y_pred = xx @ theta\n",
        "    return round(y_pred.item(),4)"
      ]
    },
    {
      "cell_type": "markdown",
      "metadata": {
        "id": "jsQ8qnxr5_25"
      },
      "source": [
        "Com $\\theta$ já calculado podemos definir a função que faz as predições para o lucro\n",
        "\n",
        "$$\n",
        "h_{\\theta}(x) = \\theta^T x\n",
        "$$"
      ]
    },
    {
      "cell_type": "markdown",
      "metadata": {
        "id": "yeT-uydh5_25"
      },
      "source": [
        "Por exemplo,"
      ]
    },
    {
      "cell_type": "code",
      "execution_count": null,
      "metadata": {
        "id": "_YGln_yt5_25"
      },
      "outputs": [],
      "source": [
        "y_pred1 = predict(20,theta)*10000\n",
        "\n",
        "print(\"Predição de lucro para uma população de 200 mil habitantes: US$\" +str(round(y_pred1,2)))"
      ]
    },
    {
      "cell_type": "code",
      "execution_count": null,
      "metadata": {
        "id": "TdGbvBnj5_25"
      },
      "outputs": [],
      "source": [
        "y_pred2 = predict(8.4,theta)*10000\n",
        "print(\"Predição de lucro para uma população de 84000 habitantes: US$\" +str(round(y_pred2,2)))"
      ]
    },
    {
      "cell_type": "markdown",
      "metadata": {
        "id": "oyXrJbz55_26"
      },
      "source": [
        "#### Exemplo 7\n",
        "Usaremos o módulo sklearn. Uma empresa de energia deseja prever a demanda de eletricidade (em megawatts, MW) com base na temperatura externa (em °C). Ela coletou dados de uma rede elétrica durante vários dias.\n",
        "\n",
        "Espera-se que a relação seja não linear em geral (por exemplo, temperaturas muito altas ou muito baixas aumentam a demanda devido ao aquecimento/resfriamento), mas para uma faixa moderada, uma aproximação linear é razoável."
      ]
    },
    {
      "cell_type": "code",
      "execution_count": null,
      "metadata": {
        "id": "tgA7g9OJ5_26"
      },
      "outputs": [],
      "source": [
        "import numpy as np\n",
        "import pandas as pd\n",
        "import matplotlib.pyplot as plt\n",
        "from sklearn.linear_model import LinearRegression\n",
        "from sklearn.metrics import r2_score\n",
        "\n",
        "# Dados temperatura (°C) vs demanda de energia elétrica (MW)\n",
        "temperature = np.array([10, 12, 15, 17, 20, 22, 24, 25, 26, 27, 29, 30]).reshape(-1, 1)\n",
        "demand = np.array([520, 510, 490, 480, 460, 455, 450, 448, 447, 446, 445, 444])  # MW"
      ]
    },
    {
      "cell_type": "markdown",
      "metadata": {
        "id": "t5aZHoso5_26"
      },
      "source": [
        "Façamos o gráfico dos dados:"
      ]
    },
    {
      "cell_type": "code",
      "execution_count": null,
      "metadata": {
        "id": "wpi873yg5_26"
      },
      "outputs": [],
      "source": [
        "plt.plot(temperature,demand,'ro')\n",
        "plt.xlabel('Temperatura (C)')\n",
        "plt.ylabel('Demanda (MW)')\n",
        "plt.grid(True)\n",
        "plt.show()"
      ]
    },
    {
      "cell_type": "markdown",
      "metadata": {
        "id": "gXfJBhtI5_26"
      },
      "source": [
        "Usaremos o comando do módulo para fazer o ajuste:"
      ]
    },
    {
      "cell_type": "code",
      "execution_count": null,
      "metadata": {
        "id": "pj1X2D9x5_26"
      },
      "outputs": [],
      "source": [
        "# Fit linear regression model\n",
        "model = LinearRegression()\n",
        "model.fit(temperature, demand)\n",
        "pred = model.predict(temperature)\n",
        "r2 = r2_score(demand, pred)"
      ]
    },
    {
      "cell_type": "code",
      "execution_count": null,
      "metadata": {
        "id": "vQ0Hh9A-5_26"
      },
      "outputs": [],
      "source": [
        "# Output coefficients\n",
        "print(f'Intercept (base demand): {model.intercept_:.2f} MW')\n",
        "print(f'Slope (change per °C): {model.coef_[0]:.2f} MW/°C')\n",
        "print(f'r²: {r2:.4f}')"
      ]
    },
    {
      "cell_type": "markdown",
      "metadata": {
        "id": "4jZwPyEN5_26"
      },
      "source": [
        "Os resultados indicam que 92,25% da incerteza original foi explicada por esse modelo. Esse resultado confirma a conclusão de que a equação quadrática representa um bom ajuste, como também é evidente a partir do gráfico."
      ]
    },
    {
      "cell_type": "code",
      "execution_count": null,
      "metadata": {
        "id": "ycSTNywh5_26"
      },
      "outputs": [],
      "source": [
        "plt.scatter(temperature, demand, label='Demanda medida')\n",
        "plt.plot(temperature, pred, color='red', label='Ajuste linear')\n",
        "plt.xlabel('Temperature (°C)')\n",
        "plt.ylabel('Demanda (MW)')\n",
        "plt.title(f'Demanda vs Temperatura\\nAjuste Linear (R² = {r2:.3f})')\n",
        "plt.legend()\n",
        "plt.grid(True)\n",
        "plt.show()"
      ]
    },
    {
      "cell_type": "markdown",
      "metadata": {
        "id": "vrQKK59z5_26"
      },
      "source": [
        "Façamos um predição de demanda quando a temperatura é de 16°C."
      ]
    },
    {
      "cell_type": "code",
      "execution_count": null,
      "metadata": {
        "id": "l4Qio5rs5_26"
      },
      "outputs": [],
      "source": [
        "# T_new = pd.DataFrame({'Temperature': [16]})\n",
        "demand_pred = model.predict([[16]])\n",
        "print(f'Demanda prevista a 16°C: {demand_pred[0]:.2f} MW')"
      ]
    },
    {
      "cell_type": "markdown",
      "metadata": {
        "id": "oFFwx6c15_26"
      },
      "source": [
        "Façamos um ajuste quadrático usando mínimos quadrados."
      ]
    },
    {
      "cell_type": "code",
      "execution_count": null,
      "metadata": {
        "id": "S21Zqhm55_26"
      },
      "outputs": [],
      "source": [
        "import numpy as np\n",
        "from scipy.optimize import curve_fit\n",
        "\n",
        "# Dados\n",
        "x = np.array([10, 12, 15, 17, 20, 22, 24, 25, 26, 27, 29, 30])\n",
        "y = np.array([520, 510, 490, 480, 460, 455, 450, 448, 447, 446, 445, 444])  # MW\n",
        "\n",
        "# Modelo\n",
        "def h(t, a, b, c):\n",
        "    return a + b*t + c*t**2\n",
        "\n",
        "# Ajuste da curva\n",
        "param, pcov = curve_fit(h, x, y)"
      ]
    },
    {
      "cell_type": "code",
      "execution_count": null,
      "metadata": {
        "id": "YesC0R-b5_26"
      },
      "outputs": [],
      "source": [
        "t = np.linspace(10, 31,50)\n",
        "plt.plot(x,y,'ro', t, h(t, *param), 'g-')\n",
        "plt.xlabel('Temperatura (°C) ')\n",
        "plt.ylabel('Demanda (MW)')"
      ]
    },
    {
      "cell_type": "markdown",
      "metadata": {
        "id": "0azZ72yd5_26"
      },
      "source": [
        "O coeficiente de determinação é dado por:"
      ]
    },
    {
      "cell_type": "code",
      "execution_count": null,
      "metadata": {
        "id": "QIk59NDS5_26"
      },
      "outputs": [],
      "source": [
        "y_pred = h(x, *param)\n",
        "y_mean = np.mean(y)\n",
        "ss_total = np.sum((y - y_mean)**2)\n",
        "ss_res = np.sum((y - y_pred)**2)\n",
        "\n",
        "r2 = 1 - ss_res / ss_total\n",
        "\n",
        "print(f\"r²= {r2:.4f}\")"
      ]
    },
    {
      "cell_type": "markdown",
      "metadata": {
        "id": "NFm0tKfO5_26"
      },
      "source": [
        "Os resultados indicam que 99,49% da incerteza original foi explicada por esse modelo. Esse resultado confirma a conclusão de que a equação quadrática representa um ajuste melhor do que o linear, como também é evidente a partir do gráfico."
      ]
    },
    {
      "cell_type": "markdown",
      "metadata": {
        "id": "wRVKXB9J5_26"
      },
      "source": [
        "Os coeficientes do polinômio são:"
      ]
    },
    {
      "cell_type": "code",
      "execution_count": null,
      "metadata": {
        "id": "-xvZpQBu5_27"
      },
      "outputs": [],
      "source": [
        "param"
      ]
    },
    {
      "cell_type": "markdown",
      "metadata": {
        "id": "u0JlnXOR5_27"
      },
      "source": [
        "Podemos imprimir o polinômio resultante:"
      ]
    },
    {
      "cell_type": "code",
      "execution_count": null,
      "metadata": {
        "id": "Gh6wptuh5_27"
      },
      "outputs": [],
      "source": [
        "a, b, c = param\n",
        "\n",
        "print(f\"Função ajustada:\")\n",
        "print(f\"h(t) = {a:.4f} + {b:.4f}t + {c:.4f}t²\")"
      ]
    },
    {
      "cell_type": "markdown",
      "metadata": {
        "id": "R54YKi0j5_27"
      },
      "source": [
        "#### Exemplo 8\n",
        "Tomemos agora um conjunto de dados com diversas variáveis. O California Housing Dataset é um conjunto de dados amplamente utilizado em projetos de aprendizado de máquina, especialmente para tarefas de regressão. Ele foi derivado do Censo dos Estados Unidos de 1990 e contém informações sobre características demográficas e habitacionais de diferentes regiões da Califórnia. Temos:\n",
        "\n",
        "- Número de amostras: 20.640\n",
        "\n",
        "- Número de atributos: 8 variáveis preditoras numéricas e 1 variável alvo\n",
        "\n",
        "- Variável alvo: MedHouseVal – Valor mediano das casas em unidades de US$100.000\n",
        "\n",
        "Descrição das Variáveis:\n",
        "\n",
        "- MedInc: Renda mediana dos habitantes no grupo de blocos (em dezenas de milhares de dólares).\n",
        "\n",
        "- HouseAge: Idade mediana das casas no grupo de blocos.\n",
        "\n",
        "- AveRooms: Média do número de cômodos por residência.\n",
        "\n",
        "- AveBedrms: Média do número de quartos por residência.\n",
        "\n",
        "- Population: População total do grupo de blocos.\n",
        "\n",
        "- AveOccup: Média de ocupantes por residência.\n",
        "\n",
        "- Latitude: Latitude geográfica do grupo de blocos.\n",
        "\n",
        "- Longitude: Longitude geográfica do grupo de blocos.\n",
        "\n",
        "- MedHouseVal: Valor mediano das casas no grupo de blocos (em centenas de milhares de dólares).\n",
        "\n",
        "Nosso objetivo aqui é utilizar regressão linear  para prever o valor médio das casas (MedHouseVal) com base na **mediana de renda** (MedInc). Como o número de dados é muito grande (2640 para cada variável), usaremos gradientes descendentes."
      ]
    },
    {
      "cell_type": "markdown",
      "metadata": {
        "id": "Fm7xuIRb5_27"
      },
      "source": [
        "Usaremos a função que introduzimos previamente:"
      ]
    },
    {
      "cell_type": "code",
      "execution_count": null,
      "metadata": {
        "id": "j0E9q2b45_27"
      },
      "outputs": [],
      "source": [
        "def grad2(x, y):\n",
        "    x = x.reshape(-1, 1)\n",
        "    y = y.reshape(-1, 1)\n",
        "    alpha = 0.04\n",
        "    n_it = 10000\n",
        "    m = len(x)\n",
        "    theta = np.zeros((2,1))\n",
        "    X = np.c_[np.ones((m, 1)), x]\n",
        "    for _ in range(n_it):\n",
        "        gradJ = 1/m * X.T @ (X @ theta - y)\n",
        "        theta = theta - alpha * gradJ\n",
        "    return theta"
      ]
    },
    {
      "cell_type": "code",
      "execution_count": null,
      "metadata": {
        "id": "6Ey-qy7f5_27"
      },
      "outputs": [],
      "source": [
        "import numpy as np\n",
        "import pandas as pd\n",
        "import matplotlib.pyplot as plt\n",
        "from sklearn.datasets import fetch_california_housing\n",
        "from sklearn.linear_model import LinearRegression\n",
        "from sklearn.metrics import r2_score"
      ]
    },
    {
      "cell_type": "code",
      "execution_count": null,
      "metadata": {
        "id": "bCF_kgwM5_27"
      },
      "outputs": [],
      "source": [
        "# Carregar o California Housing Dataset\n",
        "housing = fetch_california_housing()\n",
        "df = pd.DataFrame(housing.data, columns=housing.feature_names)\n",
        "df['MedHouseVal'] = housing.target"
      ]
    },
    {
      "cell_type": "markdown",
      "metadata": {
        "id": "776ITqLP5_27"
      },
      "source": [
        "Podemos fazer obter um sumário de todo o dataset:"
      ]
    },
    {
      "cell_type": "code",
      "execution_count": null,
      "metadata": {
        "id": "TagEvqfN5_27"
      },
      "outputs": [],
      "source": [
        "# Summary statistics\n",
        "summary = df.describe()\n",
        "print(summary)"
      ]
    },
    {
      "cell_type": "code",
      "execution_count": null,
      "metadata": {
        "id": "aCWLiYGF5_27"
      },
      "outputs": [],
      "source": [
        "df.head()"
      ]
    },
    {
      "cell_type": "markdown",
      "metadata": {
        "id": "bVdm-X_y5_27"
      },
      "source": [
        "Definimos os valores de interesse:"
      ]
    },
    {
      "cell_type": "code",
      "execution_count": null,
      "metadata": {
        "id": "KperlVj_5_27"
      },
      "outputs": [],
      "source": [
        "X = df[['MedInc']].values\n",
        "y = df['MedHouseVal'].values"
      ]
    },
    {
      "cell_type": "markdown",
      "metadata": {
        "id": "3ukJRMOj5_27"
      },
      "source": [
        "Note que, de acordo com a definição acima,"
      ]
    },
    {
      "cell_type": "code",
      "execution_count": null,
      "metadata": {
        "id": "lL7LzVLr5_28"
      },
      "outputs": [],
      "source": [
        "np.shape(X)"
      ]
    },
    {
      "cell_type": "code",
      "execution_count": null,
      "metadata": {
        "id": "BLyadvME5_28"
      },
      "outputs": [],
      "source": [
        "np.shape(y)"
      ]
    },
    {
      "cell_type": "markdown",
      "metadata": {
        "id": "qIAuiJHm5_28"
      },
      "source": [
        "Examinemos os dados graficamente:"
      ]
    },
    {
      "cell_type": "code",
      "execution_count": null,
      "metadata": {
        "scrolled": true,
        "id": "KYm9kWQM5_28"
      },
      "outputs": [],
      "source": [
        "plt.scatter(X, y, alpha=0.5)\n",
        "plt.xlabel('Mediana de Renda (MedInc)')\n",
        "plt.ylabel('Valor Médio das Casas (MedHouseVal)')\n",
        "plt.title('Relação entre MedInc e MedHouseVal')\n",
        "plt.show()"
      ]
    },
    {
      "cell_type": "markdown",
      "metadata": {
        "id": "ZlwftnRo5_28"
      },
      "source": [
        "Inicialmente usemos nossa função:"
      ]
    },
    {
      "cell_type": "code",
      "execution_count": null,
      "metadata": {
        "id": "ozXE3fFE5_28"
      },
      "outputs": [],
      "source": [
        "theta = grad2(X,y)\n",
        "theta"
      ]
    },
    {
      "cell_type": "code",
      "execution_count": null,
      "metadata": {
        "id": "6fzwv1rd5_28"
      },
      "outputs": [],
      "source": [
        "theta = np.squeeze(theta)"
      ]
    },
    {
      "cell_type": "markdown",
      "metadata": {
        "id": "HXMoGHYv5_28"
      },
      "source": [
        "Façamos o gráfico da reta de regressão:"
      ]
    },
    {
      "cell_type": "code",
      "execution_count": null,
      "metadata": {
        "id": "hb96nHDa5_28"
      },
      "outputs": [],
      "source": [
        "x_value = [x for x in range(0,15)]\n",
        "y_value = [(x*theta[1]+theta[0]) for x in x_value]\n",
        "plt.plot(x_value,y_value,'b-')\n",
        "plt.scatter(X, y, alpha=0.5)\n",
        "plt.xlabel('Mediana de Renda (MedInc)')\n",
        "plt.ylabel('Valor Médio das Casas (MedHouseVal)')\n",
        "plt.title('Relação entre MedInc e MedHouseVal')\n",
        "plt.title(\"Linear Regression\")"
      ]
    },
    {
      "cell_type": "markdown",
      "metadata": {
        "id": "8AsYV3ER5_28"
      },
      "source": [
        "Usemos agora os comandos do módulo sklearn:"
      ]
    },
    {
      "cell_type": "code",
      "execution_count": null,
      "metadata": {
        "id": "LQOuZjpU5_28"
      },
      "outputs": [],
      "source": [
        "model = LinearRegression()\n",
        "model.fit(X, y)\n",
        "y_pred = model.predict(X)"
      ]
    },
    {
      "cell_type": "code",
      "execution_count": null,
      "metadata": {
        "scrolled": true,
        "id": "JIWDyDSU5_28"
      },
      "outputs": [],
      "source": [
        "plt.scatter(X, y, alpha=0.5, label='Dados reais')\n",
        "plt.plot(X, y_pred, color='black', label='Linha de regressão')\n",
        "plt.xlabel('Mediana de Renda (MedInc)')\n",
        "plt.ylabel('Valor Médio das Casas (MedHouseVal)')\n",
        "plt.title('Regressão Linear: MedInc vs MedHouseVal')\n",
        "plt.legend()\n",
        "plt.show()"
      ]
    },
    {
      "cell_type": "markdown",
      "metadata": {
        "id": "y1E85-UL5_28"
      },
      "source": [
        "Podemos ver que os coeficientes da reta de regressão são similares àqueles que obtivemos anteriormente:"
      ]
    },
    {
      "cell_type": "code",
      "execution_count": null,
      "metadata": {
        "id": "BuaVuRmv5_28"
      },
      "outputs": [],
      "source": [
        "# Coeficiente angular (inclinação)\n",
        "b = model.coef_[0]\n",
        "print(b)\n",
        "# Coeficiente linear (intercept)\n",
        "a = model.intercept_\n",
        "print(a)"
      ]
    },
    {
      "cell_type": "code",
      "execution_count": null,
      "metadata": {
        "id": "L1VWwZRX5_28"
      },
      "outputs": [],
      "source": [
        "r2 = r2_score(y, y_pred)\n",
        "print(f\"Coeficiente de determinação (r²): {r2:.4f}\")"
      ]
    },
    {
      "cell_type": "markdown",
      "metadata": {
        "id": "LzG937xh5_28"
      },
      "source": [
        "Podemos concluir que temos:\n",
        "\n",
        "- Moderado poder explicativo: O modelo consegue explicar cerca de metade da variabilidade observada nos dados, o que pode ser considerado um ajuste moderado.\n",
        "\n",
        "- Variabilidade não explicada: Cerca de 47.34% da variabilidade permanece não explicada pelo modelo, sugerindo que outros fatores influenciam significativamente a variável dependente."
      ]
    },
    {
      "cell_type": "markdown",
      "metadata": {
        "id": "YmevVO_t5_28"
      },
      "source": [
        "#### Exemplo 9\n",
        "Mostraremos agora como usar o módulo sklearn (scikit-learn), num exemplo que envolve a previsão do número de seguidores com base em horas na rede social. Inicialmente importamos as bibliotecas:"
      ]
    },
    {
      "cell_type": "code",
      "execution_count": null,
      "metadata": {
        "id": "SLWTy5f95_28"
      },
      "outputs": [],
      "source": [
        "import numpy as np\n",
        "import matplotlib.pyplot as plt\n",
        "from sklearn.linear_model import LinearRegression\n",
        "from sklearn.metrics import r2_score"
      ]
    },
    {
      "cell_type": "markdown",
      "metadata": {
        "id": "J1gfJsl85_28"
      },
      "source": [
        "Suponha que temos os seguintes dados de usuários:"
      ]
    },
    {
      "cell_type": "code",
      "execution_count": null,
      "metadata": {
        "id": "d6yQiVYR5_29"
      },
      "outputs": [],
      "source": [
        "X = np.array([1, 2, 3, 4, 5, 6, 7, 8, 9, 10]).reshape(-1, 1)\n",
        "\n",
        "# Número de seguidores (variável dependente)\n",
        "y = np.array([100, 130, 200, 250, 310, 350, 430, 430, 509, 520])"
      ]
    },
    {
      "cell_type": "markdown",
      "metadata": {
        "id": "qgC_0yNE5_29"
      },
      "source": [
        "Notemos acima que ao usar essa  biblioteca, a variável independente sempre deverá convertida para uma matriz coluna (que denotaremos por um letra maiúscula), enquanto que a variável dependente permanece um 1-array (letra minúscula):"
      ]
    },
    {
      "cell_type": "code",
      "execution_count": null,
      "metadata": {
        "id": "9BCUKIgR5_29"
      },
      "outputs": [],
      "source": [
        "np.shape(X)"
      ]
    },
    {
      "cell_type": "code",
      "execution_count": null,
      "metadata": {
        "id": "A3Z4JNbY5_29"
      },
      "outputs": [],
      "source": [
        "np.shape(y)"
      ]
    },
    {
      "cell_type": "markdown",
      "metadata": {
        "id": "R3ejvc905_29"
      },
      "source": [
        "O jargão comum na regressão linear deriva de sua já clássica aplicação, que é aprendizado de máquina. Falamos em criar e treinar o modelo:"
      ]
    },
    {
      "cell_type": "code",
      "execution_count": null,
      "metadata": {
        "id": "HceLpks85_29"
      },
      "outputs": [],
      "source": [
        "# Criar o modelo de regressão linear\n",
        "modelo = LinearRegression()\n",
        "\n",
        "# Treinar o modelo com os dados\n",
        "modelo.fit(X, y)"
      ]
    },
    {
      "cell_type": "markdown",
      "metadata": {
        "id": "Lh5rrW9i5_29"
      },
      "source": [
        "Podemos agora obter os coeficientes da reta de regressão"
      ]
    },
    {
      "cell_type": "code",
      "execution_count": null,
      "metadata": {
        "id": "JYx-0Wg-5_29"
      },
      "outputs": [],
      "source": [
        "# Coeficiente angular (inclinação da reta)\n",
        "coef_angular = modelo.coef_[0]\n",
        "\n",
        "# Coeficiente linear (intercepto)\n",
        "coef_linear = modelo.intercept_\n",
        "\n",
        "# Coeficiente de determinação\n",
        "y_pred = modelo.predict(X)\n",
        "r2 = r2_score(y, y_pred)\n",
        "\n",
        "print(f'Coeficiente angular (inclinação): {coef_angular:.2f}')\n",
        "print(f'Coeficiente linear (intercepto): {coef_linear:.2f}')\n",
        "print(f\"Coeficiente de determinação (r²): {r2:.4f}\")"
      ]
    },
    {
      "cell_type": "markdown",
      "metadata": {
        "id": "yRO3i3Ni5_29"
      },
      "source": [
        "Os resultados indicam que 98,67% da incerteza original foi explicada por esse modelo. Esse resultado confirma a conclusão de que a equação quadrática representa um bom ajuste, como também é evidente a partir do gráfico. Visualizemos os resultados:"
      ]
    },
    {
      "cell_type": "code",
      "execution_count": null,
      "metadata": {
        "id": "S4zZrmwS5_29"
      },
      "outputs": [],
      "source": [
        "# Plotar os dados e a linha de regressão\n",
        "plt.scatter(X, y, color='blue', label='Dados reais')\n",
        "plt.plot(X, y_pred, color='red', label='Reta de regressão')\n",
        "plt.xlabel('Horas na Rede Social')\n",
        "plt.ylabel('Número de Seguidores')\n",
        "plt.title('Regressão Linear: Horas vs Seguidores')\n",
        "plt.legend()\n",
        "plt.grid(True)\n",
        "plt.show()"
      ]
    },
    {
      "cell_type": "markdown",
      "metadata": {
        "id": "-G50zKra5_29"
      },
      "source": [
        "Façamos previsões para alguns casos:"
      ]
    },
    {
      "cell_type": "code",
      "execution_count": null,
      "metadata": {
        "id": "R1_C9VuN5_29"
      },
      "outputs": [],
      "source": [
        "# Prever o número de seguidores para 11 horas\n",
        "horas = np.array([[11], [15]])\n",
        "seguidores_previstos = modelo.predict(horas)\n",
        "\n",
        "print(f'Número previsto de seguidores para 11 horas: {seguidores_previstos[0]:.0f}')\n",
        "print(f'Número previsto de seguidores para 15 horas: {seguidores_previstos[1]:.0f}')"
      ]
    },
    {
      "cell_type": "code",
      "source": [
        "np.shape(horas)"
      ],
      "metadata": {
        "id": "VzPElpR89Dz2"
      },
      "execution_count": null,
      "outputs": []
    },
    {
      "cell_type": "markdown",
      "metadata": {
        "id": "4WL6b8i95_29"
      },
      "source": [
        "#### Exemplo 10\n",
        "O arquivo Advertising.csv contém um conjunto de dados clássico usado para ilustrar modelos de regressão linear em problemas de previsão de vendas com base em investimentos publicitários. Ele aparece, em [2]. O Advertising Dataset contém informações sobre os investimentos em publicidade em três canais de mídia — TV, Rádio e Jornal — e as respectivas vendas de um produto em diferentes mercados. Cada linha representa dados de um mercado específico.\n",
        "\n",
        "- TV: Investimento em publicidade na TV (em milhares de dólares).\n",
        "\n",
        "- Radio: Investimento em publicidade no rádio (em milhares de dólares).\n",
        "\n",
        "- Newspaper: Investimento em publicidade em jornais (em milhares de dólares).\n",
        "\n",
        "- Sales: Vendas do produto (em milhares de unidades)."
      ]
    },
    {
      "cell_type": "code",
      "execution_count": null,
      "metadata": {
        "id": "pxp_Udh15_29"
      },
      "outputs": [],
      "source": []
    },
    {
      "cell_type": "code",
      "execution_count": null,
      "metadata": {
        "id": "mCiD0hqT5_29"
      },
      "outputs": [],
      "source": [
        "import pandas as pd\n",
        "import matplotlib.pyplot as plt\n",
        "from sklearn.linear_model import LinearRegression\n",
        "from sklearn.metrics import r2_score"
      ]
    },
    {
      "cell_type": "code",
      "execution_count": null,
      "metadata": {
        "id": "wZxp6M9a5_29"
      },
      "outputs": [],
      "source": [
        "# Carregar o dataset\n",
        "url = 'https://raw.githubusercontent.com/selva86/datasets/master/Advertising.csv'\n",
        "df = pd.read_csv(url)"
      ]
    },
    {
      "cell_type": "markdown",
      "metadata": {
        "id": "OYxAL7dd5_29"
      },
      "source": [
        "Examinemos os dados desse dataset:"
      ]
    },
    {
      "cell_type": "code",
      "execution_count": null,
      "metadata": {
        "id": "UMapXumL5_29"
      },
      "outputs": [],
      "source": [
        "df.head()"
      ]
    },
    {
      "cell_type": "markdown",
      "metadata": {
        "id": "zDmAiz-b5_29"
      },
      "source": [
        "Aqui está o sumário estatístico desse dataset:"
      ]
    },
    {
      "cell_type": "code",
      "execution_count": null,
      "metadata": {
        "id": "xhjWX2gj5_2-"
      },
      "outputs": [],
      "source": [
        "df.describe()"
      ]
    },
    {
      "cell_type": "code",
      "execution_count": null,
      "metadata": {
        "id": "FHX35rp45_2-"
      },
      "outputs": [],
      "source": [
        "# Selecionar as variáveis\n",
        "X = df[['TV']]  # Variável independente\n",
        "y = df['sales']  # Variável dependente\n"
      ]
    },
    {
      "cell_type": "code",
      "execution_count": null,
      "metadata": {
        "id": "gktF_HYz5_2-"
      },
      "outputs": [],
      "source": [
        "# Criar e ajustar o modelo de regressão linear\n",
        "modelo = LinearRegression()\n",
        "modelo.fit(X, y)\n",
        "# Fazer previsões\n",
        "y_pred = modelo.predict(X)\n",
        "\n",
        "# Coeficientes do modelo\n",
        "coef_angular = modelo.coef_[0]\n",
        "coef_linear = modelo.intercept_"
      ]
    },
    {
      "cell_type": "code",
      "execution_count": null,
      "metadata": {
        "id": "3SxnNZ9t5_2-"
      },
      "outputs": [],
      "source": [
        "# Exibir os resultados\n",
        "print(f'Coeficiente angular (inclinação): {coef_angular:.4f}')\n",
        "print(f'Coeficiente linear (intercepto): {coef_linear:.4f}')\n",
        "print(f'Coeficiente de determinação (r²): {r2:.4f}')"
      ]
    },
    {
      "cell_type": "code",
      "execution_count": null,
      "metadata": {
        "id": "VcKKx_-N5_2-"
      },
      "outputs": [],
      "source": [
        "# Visualizar os dados e a linha de regressão\n",
        "plt.scatter(X, y, color='blue', label='Dados reais')\n",
        "plt.plot(X, y_pred, color='red', label='Linha de regressão')\n",
        "plt.xlabel('Investimento em TV (milhares de dólares)')\n",
        "plt.ylabel('Vendas (milhares de unidades)')\n",
        "plt.title('Regressão Linear: Investimento em TV vs Vendas')\n",
        "plt.legend()\n",
        "plt.show()"
      ]
    },
    {
      "cell_type": "code",
      "execution_count": null,
      "metadata": {
        "id": "36vwHqfz5_2-"
      },
      "outputs": [],
      "source": [
        "# Prever o valor de vendas para um investimento de 180 mil em TV\n",
        "x_novo = pd.DataFrame({'TV': [180,120]})\n",
        "y_novo = modelo.predict(x_novo)\n",
        "\n",
        "print(f'Previsão de vendas para investimento de 180 mil: {y_novo[0]:.2f} mil unidades')\n",
        "print(f'Previsão de vendas para investimento de 120 mil: {y_novo[1]:.2f} mil unidades')"
      ]
    },
    {
      "cell_type": "code",
      "source": [
        "x_novo"
      ],
      "metadata": {
        "id": "3yKMxtJe-UVR"
      },
      "execution_count": null,
      "outputs": []
    },
    {
      "cell_type": "markdown",
      "metadata": {
        "id": "fBtN-tg25_2-"
      },
      "source": [
        "### Regressão linear múltipla"
      ]
    },
    {
      "cell_type": "markdown",
      "metadata": {
        "id": "eSMNmyfl5_2-"
      },
      "source": [
        "#### Exemplo 11\n",
        "Vamos realizar uma regressão linear múltipla utilizando o Advertising Dataset para prever as vendas com base nos investimentos em publicidade em TV, Rádio e Jornal. Primeiro, carregamos o dataset e verificamos suas primeiras entradas para entender sua estrutura."
      ]
    },
    {
      "cell_type": "code",
      "execution_count": 14,
      "metadata": {
        "id": "g5RllDTl5_2-",
        "outputId": "e7e82686-61fd-40c4-b460-de1d79cf8867",
        "colab": {
          "base_uri": "https://localhost:8080/"
        }
      },
      "outputs": [
        {
          "output_type": "stream",
          "name": "stdout",
          "text": [
            "   Unnamed: 0     TV  radio  newspaper  sales\n",
            "0           1  230.1   37.8       69.2   22.1\n",
            "1           2   44.5   39.3       45.1   10.4\n",
            "2           3   17.2   45.9       69.3    9.3\n",
            "3           4  151.5   41.3       58.5   18.5\n",
            "4           5  180.8   10.8       58.4   12.9\n"
          ]
        }
      ],
      "source": [
        "import pandas as pd\n",
        "\n",
        "# Carregar o dataset\n",
        "url = 'https://raw.githubusercontent.com/selva86/datasets/master/Advertising.csv'\n",
        "df = pd.read_csv(url)\n",
        "\n",
        "# Exibir as primeiras linhas do dataset\n",
        "print(df.head())"
      ]
    },
    {
      "cell_type": "markdown",
      "metadata": {
        "id": "s1b6OwtC5_2-"
      },
      "source": [
        "Note que a coluna 'Unnamed: 0' é apenas um índice e pode ser descartada. Selecionamos as variáveis independentes (investimentos em publicidade) e a variável dependente (vendas)."
      ]
    },
    {
      "cell_type": "code",
      "execution_count": 15,
      "metadata": {
        "id": "oZIGGqTT5_2-"
      },
      "outputs": [],
      "source": [
        "from sklearn.linear_model import LinearRegression\n",
        "from sklearn.metrics import r2_score\n",
        "\n",
        "# Definir variáveis independentes e dependente\n",
        "X = df[['TV', 'radio', 'newspaper']]\n",
        "y = df['sales']"
      ]
    },
    {
      "cell_type": "markdown",
      "metadata": {
        "id": "ucQKtkDK5_2-"
      },
      "source": [
        "Criamos e ajustamos o modelo aos dados."
      ]
    },
    {
      "cell_type": "code",
      "execution_count": 16,
      "metadata": {
        "id": "ZqgSd1f75_2-",
        "outputId": "c9239013-e124-4026-848a-1eed33f4d16b",
        "colab": {
          "base_uri": "https://localhost:8080/",
          "height": 80
        }
      },
      "outputs": [
        {
          "output_type": "execute_result",
          "data": {
            "text/plain": [
              "LinearRegression()"
            ],
            "text/html": [
              "<style>#sk-container-id-2 {\n",
              "  /* Definition of color scheme common for light and dark mode */\n",
              "  --sklearn-color-text: #000;\n",
              "  --sklearn-color-text-muted: #666;\n",
              "  --sklearn-color-line: gray;\n",
              "  /* Definition of color scheme for unfitted estimators */\n",
              "  --sklearn-color-unfitted-level-0: #fff5e6;\n",
              "  --sklearn-color-unfitted-level-1: #f6e4d2;\n",
              "  --sklearn-color-unfitted-level-2: #ffe0b3;\n",
              "  --sklearn-color-unfitted-level-3: chocolate;\n",
              "  /* Definition of color scheme for fitted estimators */\n",
              "  --sklearn-color-fitted-level-0: #f0f8ff;\n",
              "  --sklearn-color-fitted-level-1: #d4ebff;\n",
              "  --sklearn-color-fitted-level-2: #b3dbfd;\n",
              "  --sklearn-color-fitted-level-3: cornflowerblue;\n",
              "\n",
              "  /* Specific color for light theme */\n",
              "  --sklearn-color-text-on-default-background: var(--sg-text-color, var(--theme-code-foreground, var(--jp-content-font-color1, black)));\n",
              "  --sklearn-color-background: var(--sg-background-color, var(--theme-background, var(--jp-layout-color0, white)));\n",
              "  --sklearn-color-border-box: var(--sg-text-color, var(--theme-code-foreground, var(--jp-content-font-color1, black)));\n",
              "  --sklearn-color-icon: #696969;\n",
              "\n",
              "  @media (prefers-color-scheme: dark) {\n",
              "    /* Redefinition of color scheme for dark theme */\n",
              "    --sklearn-color-text-on-default-background: var(--sg-text-color, var(--theme-code-foreground, var(--jp-content-font-color1, white)));\n",
              "    --sklearn-color-background: var(--sg-background-color, var(--theme-background, var(--jp-layout-color0, #111)));\n",
              "    --sklearn-color-border-box: var(--sg-text-color, var(--theme-code-foreground, var(--jp-content-font-color1, white)));\n",
              "    --sklearn-color-icon: #878787;\n",
              "  }\n",
              "}\n",
              "\n",
              "#sk-container-id-2 {\n",
              "  color: var(--sklearn-color-text);\n",
              "}\n",
              "\n",
              "#sk-container-id-2 pre {\n",
              "  padding: 0;\n",
              "}\n",
              "\n",
              "#sk-container-id-2 input.sk-hidden--visually {\n",
              "  border: 0;\n",
              "  clip: rect(1px 1px 1px 1px);\n",
              "  clip: rect(1px, 1px, 1px, 1px);\n",
              "  height: 1px;\n",
              "  margin: -1px;\n",
              "  overflow: hidden;\n",
              "  padding: 0;\n",
              "  position: absolute;\n",
              "  width: 1px;\n",
              "}\n",
              "\n",
              "#sk-container-id-2 div.sk-dashed-wrapped {\n",
              "  border: 1px dashed var(--sklearn-color-line);\n",
              "  margin: 0 0.4em 0.5em 0.4em;\n",
              "  box-sizing: border-box;\n",
              "  padding-bottom: 0.4em;\n",
              "  background-color: var(--sklearn-color-background);\n",
              "}\n",
              "\n",
              "#sk-container-id-2 div.sk-container {\n",
              "  /* jupyter's `normalize.less` sets `[hidden] { display: none; }`\n",
              "     but bootstrap.min.css set `[hidden] { display: none !important; }`\n",
              "     so we also need the `!important` here to be able to override the\n",
              "     default hidden behavior on the sphinx rendered scikit-learn.org.\n",
              "     See: https://github.com/scikit-learn/scikit-learn/issues/21755 */\n",
              "  display: inline-block !important;\n",
              "  position: relative;\n",
              "}\n",
              "\n",
              "#sk-container-id-2 div.sk-text-repr-fallback {\n",
              "  display: none;\n",
              "}\n",
              "\n",
              "div.sk-parallel-item,\n",
              "div.sk-serial,\n",
              "div.sk-item {\n",
              "  /* draw centered vertical line to link estimators */\n",
              "  background-image: linear-gradient(var(--sklearn-color-text-on-default-background), var(--sklearn-color-text-on-default-background));\n",
              "  background-size: 2px 100%;\n",
              "  background-repeat: no-repeat;\n",
              "  background-position: center center;\n",
              "}\n",
              "\n",
              "/* Parallel-specific style estimator block */\n",
              "\n",
              "#sk-container-id-2 div.sk-parallel-item::after {\n",
              "  content: \"\";\n",
              "  width: 100%;\n",
              "  border-bottom: 2px solid var(--sklearn-color-text-on-default-background);\n",
              "  flex-grow: 1;\n",
              "}\n",
              "\n",
              "#sk-container-id-2 div.sk-parallel {\n",
              "  display: flex;\n",
              "  align-items: stretch;\n",
              "  justify-content: center;\n",
              "  background-color: var(--sklearn-color-background);\n",
              "  position: relative;\n",
              "}\n",
              "\n",
              "#sk-container-id-2 div.sk-parallel-item {\n",
              "  display: flex;\n",
              "  flex-direction: column;\n",
              "}\n",
              "\n",
              "#sk-container-id-2 div.sk-parallel-item:first-child::after {\n",
              "  align-self: flex-end;\n",
              "  width: 50%;\n",
              "}\n",
              "\n",
              "#sk-container-id-2 div.sk-parallel-item:last-child::after {\n",
              "  align-self: flex-start;\n",
              "  width: 50%;\n",
              "}\n",
              "\n",
              "#sk-container-id-2 div.sk-parallel-item:only-child::after {\n",
              "  width: 0;\n",
              "}\n",
              "\n",
              "/* Serial-specific style estimator block */\n",
              "\n",
              "#sk-container-id-2 div.sk-serial {\n",
              "  display: flex;\n",
              "  flex-direction: column;\n",
              "  align-items: center;\n",
              "  background-color: var(--sklearn-color-background);\n",
              "  padding-right: 1em;\n",
              "  padding-left: 1em;\n",
              "}\n",
              "\n",
              "\n",
              "/* Toggleable style: style used for estimator/Pipeline/ColumnTransformer box that is\n",
              "clickable and can be expanded/collapsed.\n",
              "- Pipeline and ColumnTransformer use this feature and define the default style\n",
              "- Estimators will overwrite some part of the style using the `sk-estimator` class\n",
              "*/\n",
              "\n",
              "/* Pipeline and ColumnTransformer style (default) */\n",
              "\n",
              "#sk-container-id-2 div.sk-toggleable {\n",
              "  /* Default theme specific background. It is overwritten whether we have a\n",
              "  specific estimator or a Pipeline/ColumnTransformer */\n",
              "  background-color: var(--sklearn-color-background);\n",
              "}\n",
              "\n",
              "/* Toggleable label */\n",
              "#sk-container-id-2 label.sk-toggleable__label {\n",
              "  cursor: pointer;\n",
              "  display: flex;\n",
              "  width: 100%;\n",
              "  margin-bottom: 0;\n",
              "  padding: 0.5em;\n",
              "  box-sizing: border-box;\n",
              "  text-align: center;\n",
              "  align-items: start;\n",
              "  justify-content: space-between;\n",
              "  gap: 0.5em;\n",
              "}\n",
              "\n",
              "#sk-container-id-2 label.sk-toggleable__label .caption {\n",
              "  font-size: 0.6rem;\n",
              "  font-weight: lighter;\n",
              "  color: var(--sklearn-color-text-muted);\n",
              "}\n",
              "\n",
              "#sk-container-id-2 label.sk-toggleable__label-arrow:before {\n",
              "  /* Arrow on the left of the label */\n",
              "  content: \"▸\";\n",
              "  float: left;\n",
              "  margin-right: 0.25em;\n",
              "  color: var(--sklearn-color-icon);\n",
              "}\n",
              "\n",
              "#sk-container-id-2 label.sk-toggleable__label-arrow:hover:before {\n",
              "  color: var(--sklearn-color-text);\n",
              "}\n",
              "\n",
              "/* Toggleable content - dropdown */\n",
              "\n",
              "#sk-container-id-2 div.sk-toggleable__content {\n",
              "  max-height: 0;\n",
              "  max-width: 0;\n",
              "  overflow: hidden;\n",
              "  text-align: left;\n",
              "  /* unfitted */\n",
              "  background-color: var(--sklearn-color-unfitted-level-0);\n",
              "}\n",
              "\n",
              "#sk-container-id-2 div.sk-toggleable__content.fitted {\n",
              "  /* fitted */\n",
              "  background-color: var(--sklearn-color-fitted-level-0);\n",
              "}\n",
              "\n",
              "#sk-container-id-2 div.sk-toggleable__content pre {\n",
              "  margin: 0.2em;\n",
              "  border-radius: 0.25em;\n",
              "  color: var(--sklearn-color-text);\n",
              "  /* unfitted */\n",
              "  background-color: var(--sklearn-color-unfitted-level-0);\n",
              "}\n",
              "\n",
              "#sk-container-id-2 div.sk-toggleable__content.fitted pre {\n",
              "  /* unfitted */\n",
              "  background-color: var(--sklearn-color-fitted-level-0);\n",
              "}\n",
              "\n",
              "#sk-container-id-2 input.sk-toggleable__control:checked~div.sk-toggleable__content {\n",
              "  /* Expand drop-down */\n",
              "  max-height: 200px;\n",
              "  max-width: 100%;\n",
              "  overflow: auto;\n",
              "}\n",
              "\n",
              "#sk-container-id-2 input.sk-toggleable__control:checked~label.sk-toggleable__label-arrow:before {\n",
              "  content: \"▾\";\n",
              "}\n",
              "\n",
              "/* Pipeline/ColumnTransformer-specific style */\n",
              "\n",
              "#sk-container-id-2 div.sk-label input.sk-toggleable__control:checked~label.sk-toggleable__label {\n",
              "  color: var(--sklearn-color-text);\n",
              "  background-color: var(--sklearn-color-unfitted-level-2);\n",
              "}\n",
              "\n",
              "#sk-container-id-2 div.sk-label.fitted input.sk-toggleable__control:checked~label.sk-toggleable__label {\n",
              "  background-color: var(--sklearn-color-fitted-level-2);\n",
              "}\n",
              "\n",
              "/* Estimator-specific style */\n",
              "\n",
              "/* Colorize estimator box */\n",
              "#sk-container-id-2 div.sk-estimator input.sk-toggleable__control:checked~label.sk-toggleable__label {\n",
              "  /* unfitted */\n",
              "  background-color: var(--sklearn-color-unfitted-level-2);\n",
              "}\n",
              "\n",
              "#sk-container-id-2 div.sk-estimator.fitted input.sk-toggleable__control:checked~label.sk-toggleable__label {\n",
              "  /* fitted */\n",
              "  background-color: var(--sklearn-color-fitted-level-2);\n",
              "}\n",
              "\n",
              "#sk-container-id-2 div.sk-label label.sk-toggleable__label,\n",
              "#sk-container-id-2 div.sk-label label {\n",
              "  /* The background is the default theme color */\n",
              "  color: var(--sklearn-color-text-on-default-background);\n",
              "}\n",
              "\n",
              "/* On hover, darken the color of the background */\n",
              "#sk-container-id-2 div.sk-label:hover label.sk-toggleable__label {\n",
              "  color: var(--sklearn-color-text);\n",
              "  background-color: var(--sklearn-color-unfitted-level-2);\n",
              "}\n",
              "\n",
              "/* Label box, darken color on hover, fitted */\n",
              "#sk-container-id-2 div.sk-label.fitted:hover label.sk-toggleable__label.fitted {\n",
              "  color: var(--sklearn-color-text);\n",
              "  background-color: var(--sklearn-color-fitted-level-2);\n",
              "}\n",
              "\n",
              "/* Estimator label */\n",
              "\n",
              "#sk-container-id-2 div.sk-label label {\n",
              "  font-family: monospace;\n",
              "  font-weight: bold;\n",
              "  display: inline-block;\n",
              "  line-height: 1.2em;\n",
              "}\n",
              "\n",
              "#sk-container-id-2 div.sk-label-container {\n",
              "  text-align: center;\n",
              "}\n",
              "\n",
              "/* Estimator-specific */\n",
              "#sk-container-id-2 div.sk-estimator {\n",
              "  font-family: monospace;\n",
              "  border: 1px dotted var(--sklearn-color-border-box);\n",
              "  border-radius: 0.25em;\n",
              "  box-sizing: border-box;\n",
              "  margin-bottom: 0.5em;\n",
              "  /* unfitted */\n",
              "  background-color: var(--sklearn-color-unfitted-level-0);\n",
              "}\n",
              "\n",
              "#sk-container-id-2 div.sk-estimator.fitted {\n",
              "  /* fitted */\n",
              "  background-color: var(--sklearn-color-fitted-level-0);\n",
              "}\n",
              "\n",
              "/* on hover */\n",
              "#sk-container-id-2 div.sk-estimator:hover {\n",
              "  /* unfitted */\n",
              "  background-color: var(--sklearn-color-unfitted-level-2);\n",
              "}\n",
              "\n",
              "#sk-container-id-2 div.sk-estimator.fitted:hover {\n",
              "  /* fitted */\n",
              "  background-color: var(--sklearn-color-fitted-level-2);\n",
              "}\n",
              "\n",
              "/* Specification for estimator info (e.g. \"i\" and \"?\") */\n",
              "\n",
              "/* Common style for \"i\" and \"?\" */\n",
              "\n",
              ".sk-estimator-doc-link,\n",
              "a:link.sk-estimator-doc-link,\n",
              "a:visited.sk-estimator-doc-link {\n",
              "  float: right;\n",
              "  font-size: smaller;\n",
              "  line-height: 1em;\n",
              "  font-family: monospace;\n",
              "  background-color: var(--sklearn-color-background);\n",
              "  border-radius: 1em;\n",
              "  height: 1em;\n",
              "  width: 1em;\n",
              "  text-decoration: none !important;\n",
              "  margin-left: 0.5em;\n",
              "  text-align: center;\n",
              "  /* unfitted */\n",
              "  border: var(--sklearn-color-unfitted-level-1) 1pt solid;\n",
              "  color: var(--sklearn-color-unfitted-level-1);\n",
              "}\n",
              "\n",
              ".sk-estimator-doc-link.fitted,\n",
              "a:link.sk-estimator-doc-link.fitted,\n",
              "a:visited.sk-estimator-doc-link.fitted {\n",
              "  /* fitted */\n",
              "  border: var(--sklearn-color-fitted-level-1) 1pt solid;\n",
              "  color: var(--sklearn-color-fitted-level-1);\n",
              "}\n",
              "\n",
              "/* On hover */\n",
              "div.sk-estimator:hover .sk-estimator-doc-link:hover,\n",
              ".sk-estimator-doc-link:hover,\n",
              "div.sk-label-container:hover .sk-estimator-doc-link:hover,\n",
              ".sk-estimator-doc-link:hover {\n",
              "  /* unfitted */\n",
              "  background-color: var(--sklearn-color-unfitted-level-3);\n",
              "  color: var(--sklearn-color-background);\n",
              "  text-decoration: none;\n",
              "}\n",
              "\n",
              "div.sk-estimator.fitted:hover .sk-estimator-doc-link.fitted:hover,\n",
              ".sk-estimator-doc-link.fitted:hover,\n",
              "div.sk-label-container:hover .sk-estimator-doc-link.fitted:hover,\n",
              ".sk-estimator-doc-link.fitted:hover {\n",
              "  /* fitted */\n",
              "  background-color: var(--sklearn-color-fitted-level-3);\n",
              "  color: var(--sklearn-color-background);\n",
              "  text-decoration: none;\n",
              "}\n",
              "\n",
              "/* Span, style for the box shown on hovering the info icon */\n",
              ".sk-estimator-doc-link span {\n",
              "  display: none;\n",
              "  z-index: 9999;\n",
              "  position: relative;\n",
              "  font-weight: normal;\n",
              "  right: .2ex;\n",
              "  padding: .5ex;\n",
              "  margin: .5ex;\n",
              "  width: min-content;\n",
              "  min-width: 20ex;\n",
              "  max-width: 50ex;\n",
              "  color: var(--sklearn-color-text);\n",
              "  box-shadow: 2pt 2pt 4pt #999;\n",
              "  /* unfitted */\n",
              "  background: var(--sklearn-color-unfitted-level-0);\n",
              "  border: .5pt solid var(--sklearn-color-unfitted-level-3);\n",
              "}\n",
              "\n",
              ".sk-estimator-doc-link.fitted span {\n",
              "  /* fitted */\n",
              "  background: var(--sklearn-color-fitted-level-0);\n",
              "  border: var(--sklearn-color-fitted-level-3);\n",
              "}\n",
              "\n",
              ".sk-estimator-doc-link:hover span {\n",
              "  display: block;\n",
              "}\n",
              "\n",
              "/* \"?\"-specific style due to the `<a>` HTML tag */\n",
              "\n",
              "#sk-container-id-2 a.estimator_doc_link {\n",
              "  float: right;\n",
              "  font-size: 1rem;\n",
              "  line-height: 1em;\n",
              "  font-family: monospace;\n",
              "  background-color: var(--sklearn-color-background);\n",
              "  border-radius: 1rem;\n",
              "  height: 1rem;\n",
              "  width: 1rem;\n",
              "  text-decoration: none;\n",
              "  /* unfitted */\n",
              "  color: var(--sklearn-color-unfitted-level-1);\n",
              "  border: var(--sklearn-color-unfitted-level-1) 1pt solid;\n",
              "}\n",
              "\n",
              "#sk-container-id-2 a.estimator_doc_link.fitted {\n",
              "  /* fitted */\n",
              "  border: var(--sklearn-color-fitted-level-1) 1pt solid;\n",
              "  color: var(--sklearn-color-fitted-level-1);\n",
              "}\n",
              "\n",
              "/* On hover */\n",
              "#sk-container-id-2 a.estimator_doc_link:hover {\n",
              "  /* unfitted */\n",
              "  background-color: var(--sklearn-color-unfitted-level-3);\n",
              "  color: var(--sklearn-color-background);\n",
              "  text-decoration: none;\n",
              "}\n",
              "\n",
              "#sk-container-id-2 a.estimator_doc_link.fitted:hover {\n",
              "  /* fitted */\n",
              "  background-color: var(--sklearn-color-fitted-level-3);\n",
              "}\n",
              "</style><div id=\"sk-container-id-2\" class=\"sk-top-container\"><div class=\"sk-text-repr-fallback\"><pre>LinearRegression()</pre><b>In a Jupyter environment, please rerun this cell to show the HTML representation or trust the notebook. <br />On GitHub, the HTML representation is unable to render, please try loading this page with nbviewer.org.</b></div><div class=\"sk-container\" hidden><div class=\"sk-item\"><div class=\"sk-estimator fitted sk-toggleable\"><input class=\"sk-toggleable__control sk-hidden--visually\" id=\"sk-estimator-id-2\" type=\"checkbox\" checked><label for=\"sk-estimator-id-2\" class=\"sk-toggleable__label fitted sk-toggleable__label-arrow\"><div><div>LinearRegression</div></div><div><a class=\"sk-estimator-doc-link fitted\" rel=\"noreferrer\" target=\"_blank\" href=\"https://scikit-learn.org/1.6/modules/generated/sklearn.linear_model.LinearRegression.html\">?<span>Documentation for LinearRegression</span></a><span class=\"sk-estimator-doc-link fitted\">i<span>Fitted</span></span></div></label><div class=\"sk-toggleable__content fitted\"><pre>LinearRegression()</pre></div> </div></div></div></div>"
            ]
          },
          "metadata": {},
          "execution_count": 16
        }
      ],
      "source": [
        "# Criar o modelo de regressão linear\n",
        "modelo = LinearRegression()\n",
        "\n",
        "# Ajustar o modelo aos dados\n",
        "modelo.fit(X, y)"
      ]
    },
    {
      "cell_type": "markdown",
      "metadata": {
        "id": "HAtTTZjv5_2-"
      },
      "source": [
        "Após o treinamento, avaliamos o desempenho do modelo utilizando o coeficiente de determinação"
      ]
    },
    {
      "cell_type": "code",
      "execution_count": 17,
      "metadata": {
        "id": "_qLUVQJp5_2-",
        "outputId": "e2fc2c2b-d395-494c-e9b1-bf219d2b8c6d",
        "colab": {
          "base_uri": "https://localhost:8080/"
        }
      },
      "outputs": [
        {
          "output_type": "stream",
          "name": "stdout",
          "text": [
            "Intercepto: 2.9389\n",
            "Coeficientes: [ 0.04576465  0.18853002 -0.00103749]\n",
            "Coeficiente de determinação (R²): 0.8972\n"
          ]
        }
      ],
      "source": [
        "# Fazer previsões\n",
        "y_pred = modelo.predict(X)\n",
        "\n",
        "# Coeficientes do modelo\n",
        "coeficientes = modelo.coef_\n",
        "intercepto = modelo.intercept_\n",
        "\n",
        "# Coeficiente de determinação R²\n",
        "r2 = r2_score(y, y_pred)\n",
        "\n",
        "# Exibir os resultados\n",
        "print(f'Intercepto: {intercepto:.4f}')\n",
        "print(f'Coeficientes: {coeficientes}')\n",
        "print(f'Coeficiente de determinação (R²): {r2:.4f}')"
      ]
    },
    {
      "cell_type": "markdown",
      "metadata": {
        "id": "OVSpK-l95_2-"
      },
      "source": [
        "Portanto, aproximadamente 89.72% da variabilidade nas vendas é explicada pelos investimentos em publicidade nos três canais.\n",
        "\n",
        "Suponhamos que queremos prever as vendas para os seguintes investimentos:\n",
        "\n",
        "- TV: 150 mil dólares\n",
        "- Rádio: 22 mil dólares\n",
        "- Jornal: 12 mil dólares"
      ]
    },
    {
      "cell_type": "code",
      "execution_count": 18,
      "metadata": {
        "id": "Y8HQgyKd5_2-",
        "outputId": "78bcb525-368e-483d-80d5-1d0d5a754ac6",
        "colab": {
          "base_uri": "https://localhost:8080/"
        }
      },
      "outputs": [
        {
          "output_type": "stream",
          "name": "stdout",
          "text": [
            "Vendas previstas: 13.94 mil unidades\n"
          ]
        }
      ],
      "source": [
        "# Novo conjunto de dados para previsão (como DataFrame com nomes de colunas)\n",
        "novo_investimento = pd.DataFrame([[150, 22, 12]], columns=['TV', 'radio', 'newspaper'])\n",
        "\n",
        "# Previsão de vendas\n",
        "venda_prevista = modelo.predict(novo_investimento)\n",
        "\n",
        "print(f\"Vendas previstas: {venda_prevista[0]:.2f} mil unidades\")"
      ]
    },
    {
      "cell_type": "markdown",
      "metadata": {
        "id": "ErN0XhJt5_2-"
      },
      "source": [
        "Podemos testar múltiplos conjuntos de dados de investimento:"
      ]
    },
    {
      "cell_type": "code",
      "execution_count": 19,
      "metadata": {
        "id": "PowgbHfN5_2-",
        "outputId": "02b1db7e-ad71-4cd8-82d8-cadbc6262c65",
        "colab": {
          "base_uri": "https://localhost:8080/"
        }
      },
      "outputs": [
        {
          "output_type": "stream",
          "name": "stdout",
          "text": [
            "Conjunto 1: Vendas previstas = 13.94 mil unidades\n",
            "Conjunto 2: Vendas previstas = 17.73 mil unidades\n",
            "Conjunto 3: Vendas previstas = 10.33 mil unidades\n"
          ]
        }
      ],
      "source": [
        "# Múltiplos conjuntos de dados para previsão (com nomes de colunas)\n",
        "novos_investimentos = pd.DataFrame([\n",
        "    [150, 22, 12],\n",
        "    [200, 30, 20],\n",
        "    [100, 15, 10]\n",
        "], columns=['TV', 'radio', 'newspaper'])\n",
        "\n",
        "# Previsões de vendas\n",
        "vendas_previstas = modelo.predict(novos_investimentos)\n",
        "\n",
        "for i, pred in enumerate(vendas_previstas):\n",
        "    print(f\"Conjunto {i+1}: Vendas previstas = {pred:.2f} mil unidades\")\n"
      ]
    },
    {
      "cell_type": "markdown",
      "metadata": {
        "id": "XdFDPQhk5_2-"
      },
      "source": [
        "Podemos visualizar a relação entre as variáveis independentes e a variável dependente utilizando gráficos de dispersão:"
      ]
    },
    {
      "cell_type": "code",
      "execution_count": 20,
      "metadata": {
        "id": "pMzC1m4d5_2-",
        "outputId": "349240f7-65ac-4924-dae8-8edc83a18746",
        "colab": {
          "base_uri": "https://localhost:8080/",
          "height": 501
        }
      },
      "outputs": [
        {
          "output_type": "display_data",
          "data": {
            "text/plain": [
              "<Figure size 1800x500 with 3 Axes>"
            ],
            "image/png": "[encoded data removed]"
          },
          "metadata": {}
        }
      ],
      "source": [
        "import matplotlib.pyplot as plt\n",
        "import seaborn as sns\n",
        "\n",
        "# Configurar o estilo dos gráficos\n",
        "sns.set(style=\"whitegrid\")\n",
        "\n",
        "# Criar gráficos de dispersão para cada variável independente\n",
        "fig, axs = plt.subplots(1, 3, figsize=(18, 5))\n",
        "\n",
        "sns.scatterplot(x='TV', y='sales', data=df, ax=axs[0])\n",
        "axs[0].set_title('Investimento em TV vs Vendas')\n",
        "\n",
        "sns.scatterplot(x='radio', y='sales', data=df, ax=axs[1])\n",
        "axs[1].set_title('Investimento em Rádio vs Vendas')\n",
        "\n",
        "sns.scatterplot(x='newspaper', y='sales', data=df, ax=axs[2])\n",
        "axs[2].set_title('Investimento em Jornal vs Vendas')\n",
        "\n",
        "plt.tight_layout()\n",
        "plt.show()"
      ]
    },
    {
      "cell_type": "markdown",
      "metadata": {
        "id": "VpnaKlTU5_2_"
      },
      "source": [
        "Vemos que investimentos em TV e Rádio têm impactos significativos nas vendas, enquanto o investimento em Jornal não apresenta uma contribuição relevante."
      ]
    },
    {
      "cell_type": "markdown",
      "metadata": {
        "id": "cpNSlpD55_2_"
      },
      "source": [
        "#### Exemplo 12\n",
        "\n",
        "O conjunto de dados Auto MPG é um recurso clássico amplamente utilizado em projetos de aprendizado de máquina, especialmente para tarefas de regressão. Ele está disponível no UCI Machine Learning Repository e contém especificações técnicas de automóveis fabricados entre 1970 e 1982.\n",
        "\n",
        "*Descrição do Conjunto de Dados*\n",
        "\n",
        "Objetivo: Prever o consumo de combustível de um carro, medido em milhas por galão (MPG), com base em suas características técnicas.\n",
        "\n",
        "**Tamanho:**  398 registros.\n",
        "\n",
        "**Atributos:**\n",
        "\n",
        "- mpg: Consumo de combustível (milhas por galão) — variável alvo contínua.\n",
        "\n",
        "- cylinders: Número de cilindros do motor — variável discreta.\n",
        "\n",
        "- displacement: Deslocamento do motor (polegadas cúbicas) — contínua.\n",
        "\n",
        "- horsepower: Potência do motor — contínua (contém valores ausentes representados por '?').\n",
        "\n",
        "- weight: Peso do veículo (libras) — contínua.\n",
        "\n",
        "- acceleration: Tempo para acelerar de 0 a 60 mph (segundos) — contínua.\n",
        "\n",
        "- model_year: Ano do modelo do carro (70 para 1970, etc.) — discreta.\n",
        "\n",
        "- origin: Origem do carro (1: EUA, 2: Europa, 3: Japão) — categórica.\n",
        "\n",
        "- car_name: Nome do modelo do carro — cadeia de caracteres única para cada instância."
      ]
    },
    {
      "cell_type": "markdown",
      "metadata": {
        "id": "zNJTLKu55_2_"
      },
      "source": [
        "Faremos um regressão linear multivariada para descrever o consumo (mpg) em termos das 5 variáveis numéricas cylinders,\tdisplacement,\thorsepower,\tweight,\tacceleration. Para isso usaremos o módulo sklearn."
      ]
    },
    {
      "cell_type": "code",
      "execution_count": 1,
      "metadata": {
        "id": "Cm0jxbf05_2_"
      },
      "outputs": [],
      "source": [
        "import numpy as np\n",
        "import pandas as pd\n",
        "from sklearn.linear_model import LinearRegression\n",
        "from sklearn.metrics import mean_squared_error, r2_score\n",
        "from sklearn.preprocessing import StandardScaler\n",
        "import matplotlib.pyplot as plt"
      ]
    },
    {
      "cell_type": "markdown",
      "metadata": {
        "id": "9l3XdO9X5_2_"
      },
      "source": [
        "Os dados podem ser carregados a partir de um domíno público:"
      ]
    },
    {
      "cell_type": "code",
      "execution_count": 2,
      "metadata": {
        "id": "7NDqCEAX5_2_"
      },
      "outputs": [],
      "source": [
        "# Dataset: Auto MPG dataset\n",
        "# Link: https://archive.ics.uci.edu/ml/datasets/auto+mpg\n",
        "url = \"https://archive.ics.uci.edu/ml/machine-learning-databases/auto-mpg/auto-mpg.data\"\n",
        "columns = ['mpg', 'cylinders', 'displacement', 'horsepower', 'weight', 'acceleration', 'model_year', 'origin', 'car_name']\n",
        "df = pd.read_csv(url, sep=r'\\s+', names=columns, na_values='?')"
      ]
    },
    {
      "cell_type": "markdown",
      "metadata": {
        "id": "fblHD74T5_2_"
      },
      "source": [
        "Façamos um breve exame do dataset:"
      ]
    },
    {
      "cell_type": "code",
      "execution_count": 3,
      "metadata": {
        "id": "NmamjYUS5_2_",
        "outputId": "5da008fd-ac64-4d96-fb71-0d8302c9587e",
        "colab": {
          "base_uri": "https://localhost:8080/",
          "height": 206
        }
      },
      "outputs": [
        {
          "output_type": "execute_result",
          "data": {
            "text/plain": [
              "    mpg  cylinders  displacement  horsepower  weight  acceleration  \\\n",
              "0  18.0          8         307.0       130.0  3504.0          12.0   \n",
              "1  15.0          8         350.0       165.0  3693.0          11.5   \n",
              "2  18.0          8         318.0       150.0  3436.0          11.0   \n",
              "3  16.0          8         304.0       150.0  3433.0          12.0   \n",
              "4  17.0          8         302.0       140.0  3449.0          10.5   \n",
              "\n",
              "   model_year  origin                   car_name  \n",
              "0          70       1  chevrolet chevelle malibu  \n",
              "1          70       1          buick skylark 320  \n",
              "2          70       1         plymouth satellite  \n",
              "3          70       1              amc rebel sst  \n",
              "4          70       1                ford torino  "
            ],
            "text/html": [
              "\n",
              "  <div id=\"df-f8aa51c2-b7d8-496a-b1a9-f1de6bf7a961\" class=\"colab-df-container\">\n",
              "    <div>\n",
              "<style scoped>\n",
              "    .dataframe tbody tr th:only-of-type {\n",
              "        vertical-align: middle;\n",
              "    }\n",
              "\n",
              "    .dataframe tbody tr th {\n",
              "        vertical-align: top;\n",
              "    }\n",
              "\n",
              "    .dataframe thead th {\n",
              "        text-align: right;\n",
              "    }\n",
              "</style>\n",
              "<table border=\"1\" class=\"dataframe\">\n",
              "  <thead>\n",
              "    <tr style=\"text-align: right;\">\n",
              "      <th></th>\n",
              "      <th>mpg</th>\n",
              "      <th>cylinders</th>\n",
              "      <th>displacement</th>\n",
              "      <th>horsepower</th>\n",
              "      <th>weight</th>\n",
              "      <th>acceleration</th>\n",
              "      <th>model_year</th>\n",
              "      <th>origin</th>\n",
              "      <th>car_name</th>\n",
              "    </tr>\n",
              "  </thead>\n",
              "  <tbody>\n",
              "    <tr>\n",
              "      <th>0</th>\n",
              "      <td>18.0</td>\n",
              "      <td>8</td>\n",
              "      <td>307.0</td>\n",
              "      <td>130.0</td>\n",
              "      <td>3504.0</td>\n",
              "      <td>12.0</td>\n",
              "      <td>70</td>\n",
              "      <td>1</td>\n",
              "      <td>chevrolet chevelle malibu</td>\n",
              "    </tr>\n",
              "    <tr>\n",
              "      <th>1</th>\n",
              "      <td>15.0</td>\n",
              "      <td>8</td>\n",
              "      <td>350.0</td>\n",
              "      <td>165.0</td>\n",
              "      <td>3693.0</td>\n",
              "      <td>11.5</td>\n",
              "      <td>70</td>\n",
              "      <td>1</td>\n",
              "      <td>buick skylark 320</td>\n",
              "    </tr>\n",
              "    <tr>\n",
              "      <th>2</th>\n",
              "      <td>18.0</td>\n",
              "      <td>8</td>\n",
              "      <td>318.0</td>\n",
              "      <td>150.0</td>\n",
              "      <td>3436.0</td>\n",
              "      <td>11.0</td>\n",
              "      <td>70</td>\n",
              "      <td>1</td>\n",
              "      <td>plymouth satellite</td>\n",
              "    </tr>\n",
              "    <tr>\n",
              "      <th>3</th>\n",
              "      <td>16.0</td>\n",
              "      <td>8</td>\n",
              "      <td>304.0</td>\n",
              "      <td>150.0</td>\n",
              "      <td>3433.0</td>\n",
              "      <td>12.0</td>\n",
              "      <td>70</td>\n",
              "      <td>1</td>\n",
              "      <td>amc rebel sst</td>\n",
              "    </tr>\n",
              "    <tr>\n",
              "      <th>4</th>\n",
              "      <td>17.0</td>\n",
              "      <td>8</td>\n",
              "      <td>302.0</td>\n",
              "      <td>140.0</td>\n",
              "      <td>3449.0</td>\n",
              "      <td>10.5</td>\n",
              "      <td>70</td>\n",
              "      <td>1</td>\n",
              "      <td>ford torino</td>\n",
              "    </tr>\n",
              "  </tbody>\n",
              "</table>\n",
              "</div>\n",
              "    <div class=\"colab-df-buttons\">\n",
              "\n",
              "  <div class=\"colab-df-container\">\n",
              "    <button class=\"colab-df-convert\" onclick=\"convertToInteractive('df-f8aa51c2-b7d8-496a-b1a9-f1de6bf7a961')\"\n",
              "            title=\"Convert this dataframe to an interactive table.\"\n",
              "            style=\"display:none;\">\n",
              "\n",
              "  <svg xmlns=\"http://www.w3.org/2000/svg\" height=\"24px\" viewBox=\"0 -960 960 960\">\n",
              "    <path d=\"M120-120v-720h720v720H120Zm60-500h600v-160H180v160Zm220 220h160v-160H400v160Zm0 220h160v-160H400v160ZM180-400h160v-160H180v160Zm440 0h160v-160H620v160ZM180-180h160v-160H180v160Zm440 0h160v-160H620v160Z\"/>\n",
              "  </svg>\n",
              "    </button>\n",
              "\n",
              "  <style>\n",
              "    .colab-df-container {\n",
              "      display:flex;\n",
              "      gap: 12px;\n",
              "    }\n",
              "\n",
              "    .colab-df-convert {\n",
              "      background-color: #E8F0FE;\n",
              "      border: none;\n",
              "      border-radius: 50%;\n",
              "      cursor: pointer;\n",
              "      display: none;\n",
              "      fill: #1967D2;\n",
              "      height: 32px;\n",
              "      padding: 0 0 0 0;\n",
              "      width: 32px;\n",
              "    }\n",
              "\n",
              "    .colab-df-convert:hover {\n",
              "      background-color: #E2EBFA;\n",
              "      box-shadow: 0px 1px 2px rgba(60, 64, 67, 0.3), 0px 1px 3px 1px rgba(60, 64, 67, 0.15);\n",
              "      fill: #174EA6;\n",
              "    }\n",
              "\n",
              "    .colab-df-buttons div {\n",
              "      margin-bottom: 4px;\n",
              "    }\n",
              "\n",
              "    [theme=dark] .colab-df-convert {\n",
              "      background-color: #3B4455;\n",
              "      fill: #D2E3FC;\n",
              "    }\n",
              "\n",
              "    [theme=dark] .colab-df-convert:hover {\n",
              "      background-color: #434B5C;\n",
              "      box-shadow: 0px 1px 3px 1px rgba(0, 0, 0, 0.15);\n",
              "      filter: drop-shadow(0px 1px 2px rgba(0, 0, 0, 0.3));\n",
              "      fill: #FFFFFF;\n",
              "    }\n",
              "  </style>\n",
              "\n",
              "    <script>\n",
              "      const buttonEl =\n",
              "        document.querySelector('#df-f8aa51c2-b7d8-496a-b1a9-f1de6bf7a961 button.colab-df-convert');\n",
              "      buttonEl.style.display =\n",
              "        google.colab.kernel.accessAllowed ? 'block' : 'none';\n",
              "\n",
              "      async function convertToInteractive(key) {\n",
              "        const element = document.querySelector('#df-f8aa51c2-b7d8-496a-b1a9-f1de6bf7a961');\n",
              "        const dataTable =\n",
              "          await google.colab.kernel.invokeFunction('convertToInteractive',\n",
              "                                                    [key], {});\n",
              "        if (!dataTable) return;\n",
              "\n",
              "        const docLinkHtml = 'Like what you see? Visit the ' +\n",
              "          '<a target=\"_blank\" href=https://colab.research.google.com/notebooks/data_table.ipynb>data table notebook</a>'\n",
              "          + ' to learn more about interactive tables.';\n",
              "        element.innerHTML = '';\n",
              "        dataTable['output_type'] = 'display_data';\n",
              "        await google.colab.output.renderOutput(dataTable, element);\n",
              "        const docLink = document.createElement('div');\n",
              "        docLink.innerHTML = docLinkHtml;\n",
              "        element.appendChild(docLink);\n",
              "      }\n",
              "    </script>\n",
              "  </div>\n",
              "\n",
              "\n",
              "    <div id=\"df-2f5b29ad-b64a-45c2-b0e0-42ad5df8b839\">\n",
              "      <button class=\"colab-df-quickchart\" onclick=\"quickchart('df-2f5b29ad-b64a-45c2-b0e0-42ad5df8b839')\"\n",
              "                title=\"Suggest charts\"\n",
              "                style=\"display:none;\">\n",
              "\n",
              "<svg xmlns=\"http://www.w3.org/2000/svg\" height=\"24px\"viewBox=\"0 0 24 24\"\n",
              "     width=\"24px\">\n",
              "    <g>\n",
              "        <path d=\"M19 3H5c-1.1 0-2 .9-2 2v14c0 1.1.9 2 2 2h14c1.1 0 2-.9 2-2V5c0-1.1-.9-2-2-2zM9 17H7v-7h2v7zm4 0h-2V7h2v10zm4 0h-2v-4h2v4z\"/>\n",
              "    </g>\n",
              "</svg>\n",
              "      </button>\n",
              "\n",
              "<style>\n",
              "  .colab-df-quickchart {\n",
              "      --bg-color: #E8F0FE;\n",
              "      --fill-color: #1967D2;\n",
              "      --hover-bg-color: #E2EBFA;\n",
              "      --hover-fill-color: #174EA6;\n",
              "      --disabled-fill-color: #AAA;\n",
              "      --disabled-bg-color: #DDD;\n",
              "  }\n",
              "\n",
              "  [theme=dark] .colab-df-quickchart {\n",
              "      --bg-color: #3B4455;\n",
              "      --fill-color: #D2E3FC;\n",
              "      --hover-bg-color: #434B5C;\n",
              "      --hover-fill-color: #FFFFFF;\n",
              "      --disabled-bg-color: #3B4455;\n",
              "      --disabled-fill-color: #666;\n",
              "  }\n",
              "\n",
              "  .colab-df-quickchart {\n",
              "    background-color: var(--bg-color);\n",
              "    border: none;\n",
              "    border-radius: 50%;\n",
              "    cursor: pointer;\n",
              "    display: none;\n",
              "    fill: var(--fill-color);\n",
              "    height: 32px;\n",
              "    padding: 0;\n",
              "    width: 32px;\n",
              "  }\n",
              "\n",
              "  .colab-df-quickchart:hover {\n",
              "    background-color: var(--hover-bg-color);\n",
              "    box-shadow: 0 1px 2px rgba(60, 64, 67, 0.3), 0 1px 3px 1px rgba(60, 64, 67, 0.15);\n",
              "    fill: var(--button-hover-fill-color);\n",
              "  }\n",
              "\n",
              "  .colab-df-quickchart-complete:disabled,\n",
              "  .colab-df-quickchart-complete:disabled:hover {\n",
              "    background-color: var(--disabled-bg-color);\n",
              "    fill: var(--disabled-fill-color);\n",
              "    box-shadow: none;\n",
              "  }\n",
              "\n",
              "  .colab-df-spinner {\n",
              "    border: 2px solid var(--fill-color);\n",
              "    border-color: transparent;\n",
              "    border-bottom-color: var(--fill-color);\n",
              "    animation:\n",
              "      spin 1s steps(1) infinite;\n",
              "  }\n",
              "\n",
              "  @keyframes spin {\n",
              "    0% {\n",
              "      border-color: transparent;\n",
              "      border-bottom-color: var(--fill-color);\n",
              "      border-left-color: var(--fill-color);\n",
              "    }\n",
              "    20% {\n",
              "      border-color: transparent;\n",
              "      border-left-color: var(--fill-color);\n",
              "      border-top-color: var(--fill-color);\n",
              "    }\n",
              "    30% {\n",
              "      border-color: transparent;\n",
              "      border-left-color: var(--fill-color);\n",
              "      border-top-color: var(--fill-color);\n",
              "      border-right-color: var(--fill-color);\n",
              "    }\n",
              "    40% {\n",
              "      border-color: transparent;\n",
              "      border-right-color: var(--fill-color);\n",
              "      border-top-color: var(--fill-color);\n",
              "    }\n",
              "    60% {\n",
              "      border-color: transparent;\n",
              "      border-right-color: var(--fill-color);\n",
              "    }\n",
              "    80% {\n",
              "      border-color: transparent;\n",
              "      border-right-color: var(--fill-color);\n",
              "      border-bottom-color: var(--fill-color);\n",
              "    }\n",
              "    90% {\n",
              "      border-color: transparent;\n",
              "      border-bottom-color: var(--fill-color);\n",
              "    }\n",
              "  }\n",
              "</style>\n",
              "\n",
              "      <script>\n",
              "        async function quickchart(key) {\n",
              "          const quickchartButtonEl =\n",
              "            document.querySelector('#' + key + ' button');\n",
              "          quickchartButtonEl.disabled = true;  // To prevent multiple clicks.\n",
              "          quickchartButtonEl.classList.add('colab-df-spinner');\n",
              "          try {\n",
              "            const charts = await google.colab.kernel.invokeFunction(\n",
              "                'suggestCharts', [key], {});\n",
              "          } catch (error) {\n",
              "            console.error('Error during call to suggestCharts:', error);\n",
              "          }\n",
              "          quickchartButtonEl.classList.remove('colab-df-spinner');\n",
              "          quickchartButtonEl.classList.add('colab-df-quickchart-complete');\n",
              "        }\n",
              "        (() => {\n",
              "          let quickchartButtonEl =\n",
              "            document.querySelector('#df-2f5b29ad-b64a-45c2-b0e0-42ad5df8b839 button');\n",
              "          quickchartButtonEl.style.display =\n",
              "            google.colab.kernel.accessAllowed ? 'block' : 'none';\n",
              "        })();\n",
              "      </script>\n",
              "    </div>\n",
              "\n",
              "    </div>\n",
              "  </div>\n"
            ],
            "application/vnd.google.colaboratory.intrinsic+json": {
              "type": "dataframe",
              "variable_name": "df",
              "summary": "{\n  \"name\": \"df\",\n  \"rows\": 398,\n  \"fields\": [\n    {\n      \"column\": \"mpg\",\n      \"properties\": {\n        \"dtype\": \"number\",\n        \"std\": 7.815984312565782,\n        \"min\": 9.0,\n        \"max\": 46.6,\n        \"num_unique_values\": 129,\n        \"samples\": [\n          17.7,\n          30.5,\n          30.0\n        ],\n        \"semantic_type\": \"\",\n        \"description\": \"\"\n      }\n    },\n    {\n      \"column\": \"cylinders\",\n      \"properties\": {\n        \"dtype\": \"number\",\n        \"std\": 1,\n        \"min\": 3,\n        \"max\": 8,\n        \"num_unique_values\": 5,\n        \"samples\": [\n          4,\n          5,\n          6\n        ],\n        \"semantic_type\": \"\",\n        \"description\": \"\"\n      }\n    },\n    {\n      \"column\": \"displacement\",\n      \"properties\": {\n        \"dtype\": \"number\",\n        \"std\": 104.26983817119581,\n        \"min\": 68.0,\n        \"max\": 455.0,\n        \"num_unique_values\": 82,\n        \"samples\": [\n          122.0,\n          307.0,\n          360.0\n        ],\n        \"semantic_type\": \"\",\n        \"description\": \"\"\n      }\n    },\n    {\n      \"column\": \"horsepower\",\n      \"properties\": {\n        \"dtype\": \"number\",\n        \"std\": 38.49115993282855,\n        \"min\": 46.0,\n        \"max\": 230.0,\n        \"num_unique_values\": 93,\n        \"samples\": [\n          92.0,\n          100.0,\n          52.0\n        ],\n        \"semantic_type\": \"\",\n        \"description\": \"\"\n      }\n    },\n    {\n      \"column\": \"weight\",\n      \"properties\": {\n        \"dtype\": \"number\",\n        \"std\": 846.8417741973271,\n        \"min\": 1613.0,\n        \"max\": 5140.0,\n        \"num_unique_values\": 351,\n        \"samples\": [\n          3730.0,\n          1995.0,\n          2215.0\n        ],\n        \"semantic_type\": \"\",\n        \"description\": \"\"\n      }\n    },\n    {\n      \"column\": \"acceleration\",\n      \"properties\": {\n        \"dtype\": \"number\",\n        \"std\": 2.7576889298126757,\n        \"min\": 8.0,\n        \"max\": 24.8,\n        \"num_unique_values\": 95,\n        \"samples\": [\n          14.7,\n          18.0,\n          14.3\n        ],\n        \"semantic_type\": \"\",\n        \"description\": \"\"\n      }\n    },\n    {\n      \"column\": \"model_year\",\n      \"properties\": {\n        \"dtype\": \"number\",\n        \"std\": 3,\n        \"min\": 70,\n        \"max\": 82,\n        \"num_unique_values\": 13,\n        \"samples\": [\n          81,\n          79,\n          70\n        ],\n        \"semantic_type\": \"\",\n        \"description\": \"\"\n      }\n    },\n    {\n      \"column\": \"origin\",\n      \"properties\": {\n        \"dtype\": \"number\",\n        \"std\": 0,\n        \"min\": 1,\n        \"max\": 3,\n        \"num_unique_values\": 3,\n        \"samples\": [\n          1,\n          3,\n          2\n        ],\n        \"semantic_type\": \"\",\n        \"description\": \"\"\n      }\n    },\n    {\n      \"column\": \"car_name\",\n      \"properties\": {\n        \"dtype\": \"string\",\n        \"num_unique_values\": 305,\n        \"samples\": [\n          \"mazda rx-4\",\n          \"ford f108\",\n          \"buick century luxus (sw)\"\n        ],\n        \"semantic_type\": \"\",\n        \"description\": \"\"\n      }\n    }\n  ]\n}"
            }
          },
          "metadata": {},
          "execution_count": 3
        }
      ],
      "source": [
        "df.head()"
      ]
    },
    {
      "cell_type": "markdown",
      "metadata": {
        "id": "MaNFv3yI5_2_"
      },
      "source": [
        "Façamos agora o processamento dos dados a serem usados"
      ]
    },
    {
      "cell_type": "code",
      "execution_count": 4,
      "metadata": {
        "id": "cCq-H3do5_2_"
      },
      "outputs": [],
      "source": [
        "# Processamento de dados\n",
        "# Ignora linhas com valores ausentes\n",
        "df = df.dropna()\n",
        "\n",
        "# Retira a coluna 'car_name' por não ser numérica\n",
        "df = df.drop('car_name', axis=1)\n",
        "\n",
        "# Define as características e o objetivo\n",
        "features = ['cylinders', 'displacement', 'horsepower', 'weight', 'acceleration']\n",
        "X = df[features].values\n",
        "y = df['mpg'].values"
      ]
    },
    {
      "cell_type": "code",
      "execution_count": 5,
      "metadata": {
        "id": "pUvI4QTe5_2_"
      },
      "outputs": [],
      "source": [
        "# Padroniza variáveis (importante para regressão com variáveis em escalas diferentes)\n",
        "scaler = StandardScaler()\n",
        "X_scaled = scaler.fit_transform(X)"
      ]
    },
    {
      "cell_type": "code",
      "execution_count": 6,
      "metadata": {
        "id": "SvJo6v3Z5_2_",
        "outputId": "7520074e-d883-4164-862c-8517c9c2a9aa",
        "colab": {
          "base_uri": "https://localhost:8080/",
          "height": 80
        }
      },
      "outputs": [
        {
          "output_type": "execute_result",
          "data": {
            "text/plain": [
              "LinearRegression()"
            ],
            "text/html": [
              "<style>#sk-container-id-1 {\n",
              "  /* Definition of color scheme common for light and dark mode */\n",
              "  --sklearn-color-text: #000;\n",
              "  --sklearn-color-text-muted: #666;\n",
              "  --sklearn-color-line: gray;\n",
              "  /* Definition of color scheme for unfitted estimators */\n",
              "  --sklearn-color-unfitted-level-0: #fff5e6;\n",
              "  --sklearn-color-unfitted-level-1: #f6e4d2;\n",
              "  --sklearn-color-unfitted-level-2: #ffe0b3;\n",
              "  --sklearn-color-unfitted-level-3: chocolate;\n",
              "  /* Definition of color scheme for fitted estimators */\n",
              "  --sklearn-color-fitted-level-0: #f0f8ff;\n",
              "  --sklearn-color-fitted-level-1: #d4ebff;\n",
              "  --sklearn-color-fitted-level-2: #b3dbfd;\n",
              "  --sklearn-color-fitted-level-3: cornflowerblue;\n",
              "\n",
              "  /* Specific color for light theme */\n",
              "  --sklearn-color-text-on-default-background: var(--sg-text-color, var(--theme-code-foreground, var(--jp-content-font-color1, black)));\n",
              "  --sklearn-color-background: var(--sg-background-color, var(--theme-background, var(--jp-layout-color0, white)));\n",
              "  --sklearn-color-border-box: var(--sg-text-color, var(--theme-code-foreground, var(--jp-content-font-color1, black)));\n",
              "  --sklearn-color-icon: #696969;\n",
              "\n",
              "  @media (prefers-color-scheme: dark) {\n",
              "    /* Redefinition of color scheme for dark theme */\n",
              "    --sklearn-color-text-on-default-background: var(--sg-text-color, var(--theme-code-foreground, var(--jp-content-font-color1, white)));\n",
              "    --sklearn-color-background: var(--sg-background-color, var(--theme-background, var(--jp-layout-color0, #111)));\n",
              "    --sklearn-color-border-box: var(--sg-text-color, var(--theme-code-foreground, var(--jp-content-font-color1, white)));\n",
              "    --sklearn-color-icon: #878787;\n",
              "  }\n",
              "}\n",
              "\n",
              "#sk-container-id-1 {\n",
              "  color: var(--sklearn-color-text);\n",
              "}\n",
              "\n",
              "#sk-container-id-1 pre {\n",
              "  padding: 0;\n",
              "}\n",
              "\n",
              "#sk-container-id-1 input.sk-hidden--visually {\n",
              "  border: 0;\n",
              "  clip: rect(1px 1px 1px 1px);\n",
              "  clip: rect(1px, 1px, 1px, 1px);\n",
              "  height: 1px;\n",
              "  margin: -1px;\n",
              "  overflow: hidden;\n",
              "  padding: 0;\n",
              "  position: absolute;\n",
              "  width: 1px;\n",
              "}\n",
              "\n",
              "#sk-container-id-1 div.sk-dashed-wrapped {\n",
              "  border: 1px dashed var(--sklearn-color-line);\n",
              "  margin: 0 0.4em 0.5em 0.4em;\n",
              "  box-sizing: border-box;\n",
              "  padding-bottom: 0.4em;\n",
              "  background-color: var(--sklearn-color-background);\n",
              "}\n",
              "\n",
              "#sk-container-id-1 div.sk-container {\n",
              "  /* jupyter's `normalize.less` sets `[hidden] { display: none; }`\n",
              "     but bootstrap.min.css set `[hidden] { display: none !important; }`\n",
              "     so we also need the `!important` here to be able to override the\n",
              "     default hidden behavior on the sphinx rendered scikit-learn.org.\n",
              "     See: https://github.com/scikit-learn/scikit-learn/issues/21755 */\n",
              "  display: inline-block !important;\n",
              "  position: relative;\n",
              "}\n",
              "\n",
              "#sk-container-id-1 div.sk-text-repr-fallback {\n",
              "  display: none;\n",
              "}\n",
              "\n",
              "div.sk-parallel-item,\n",
              "div.sk-serial,\n",
              "div.sk-item {\n",
              "  /* draw centered vertical line to link estimators */\n",
              "  background-image: linear-gradient(var(--sklearn-color-text-on-default-background), var(--sklearn-color-text-on-default-background));\n",
              "  background-size: 2px 100%;\n",
              "  background-repeat: no-repeat;\n",
              "  background-position: center center;\n",
              "}\n",
              "\n",
              "/* Parallel-specific style estimator block */\n",
              "\n",
              "#sk-container-id-1 div.sk-parallel-item::after {\n",
              "  content: \"\";\n",
              "  width: 100%;\n",
              "  border-bottom: 2px solid var(--sklearn-color-text-on-default-background);\n",
              "  flex-grow: 1;\n",
              "}\n",
              "\n",
              "#sk-container-id-1 div.sk-parallel {\n",
              "  display: flex;\n",
              "  align-items: stretch;\n",
              "  justify-content: center;\n",
              "  background-color: var(--sklearn-color-background);\n",
              "  position: relative;\n",
              "}\n",
              "\n",
              "#sk-container-id-1 div.sk-parallel-item {\n",
              "  display: flex;\n",
              "  flex-direction: column;\n",
              "}\n",
              "\n",
              "#sk-container-id-1 div.sk-parallel-item:first-child::after {\n",
              "  align-self: flex-end;\n",
              "  width: 50%;\n",
              "}\n",
              "\n",
              "#sk-container-id-1 div.sk-parallel-item:last-child::after {\n",
              "  align-self: flex-start;\n",
              "  width: 50%;\n",
              "}\n",
              "\n",
              "#sk-container-id-1 div.sk-parallel-item:only-child::after {\n",
              "  width: 0;\n",
              "}\n",
              "\n",
              "/* Serial-specific style estimator block */\n",
              "\n",
              "#sk-container-id-1 div.sk-serial {\n",
              "  display: flex;\n",
              "  flex-direction: column;\n",
              "  align-items: center;\n",
              "  background-color: var(--sklearn-color-background);\n",
              "  padding-right: 1em;\n",
              "  padding-left: 1em;\n",
              "}\n",
              "\n",
              "\n",
              "/* Toggleable style: style used for estimator/Pipeline/ColumnTransformer box that is\n",
              "clickable and can be expanded/collapsed.\n",
              "- Pipeline and ColumnTransformer use this feature and define the default style\n",
              "- Estimators will overwrite some part of the style using the `sk-estimator` class\n",
              "*/\n",
              "\n",
              "/* Pipeline and ColumnTransformer style (default) */\n",
              "\n",
              "#sk-container-id-1 div.sk-toggleable {\n",
              "  /* Default theme specific background. It is overwritten whether we have a\n",
              "  specific estimator or a Pipeline/ColumnTransformer */\n",
              "  background-color: var(--sklearn-color-background);\n",
              "}\n",
              "\n",
              "/* Toggleable label */\n",
              "#sk-container-id-1 label.sk-toggleable__label {\n",
              "  cursor: pointer;\n",
              "  display: flex;\n",
              "  width: 100%;\n",
              "  margin-bottom: 0;\n",
              "  padding: 0.5em;\n",
              "  box-sizing: border-box;\n",
              "  text-align: center;\n",
              "  align-items: start;\n",
              "  justify-content: space-between;\n",
              "  gap: 0.5em;\n",
              "}\n",
              "\n",
              "#sk-container-id-1 label.sk-toggleable__label .caption {\n",
              "  font-size: 0.6rem;\n",
              "  font-weight: lighter;\n",
              "  color: var(--sklearn-color-text-muted);\n",
              "}\n",
              "\n",
              "#sk-container-id-1 label.sk-toggleable__label-arrow:before {\n",
              "  /* Arrow on the left of the label */\n",
              "  content: \"▸\";\n",
              "  float: left;\n",
              "  margin-right: 0.25em;\n",
              "  color: var(--sklearn-color-icon);\n",
              "}\n",
              "\n",
              "#sk-container-id-1 label.sk-toggleable__label-arrow:hover:before {\n",
              "  color: var(--sklearn-color-text);\n",
              "}\n",
              "\n",
              "/* Toggleable content - dropdown */\n",
              "\n",
              "#sk-container-id-1 div.sk-toggleable__content {\n",
              "  max-height: 0;\n",
              "  max-width: 0;\n",
              "  overflow: hidden;\n",
              "  text-align: left;\n",
              "  /* unfitted */\n",
              "  background-color: var(--sklearn-color-unfitted-level-0);\n",
              "}\n",
              "\n",
              "#sk-container-id-1 div.sk-toggleable__content.fitted {\n",
              "  /* fitted */\n",
              "  background-color: var(--sklearn-color-fitted-level-0);\n",
              "}\n",
              "\n",
              "#sk-container-id-1 div.sk-toggleable__content pre {\n",
              "  margin: 0.2em;\n",
              "  border-radius: 0.25em;\n",
              "  color: var(--sklearn-color-text);\n",
              "  /* unfitted */\n",
              "  background-color: var(--sklearn-color-unfitted-level-0);\n",
              "}\n",
              "\n",
              "#sk-container-id-1 div.sk-toggleable__content.fitted pre {\n",
              "  /* unfitted */\n",
              "  background-color: var(--sklearn-color-fitted-level-0);\n",
              "}\n",
              "\n",
              "#sk-container-id-1 input.sk-toggleable__control:checked~div.sk-toggleable__content {\n",
              "  /* Expand drop-down */\n",
              "  max-height: 200px;\n",
              "  max-width: 100%;\n",
              "  overflow: auto;\n",
              "}\n",
              "\n",
              "#sk-container-id-1 input.sk-toggleable__control:checked~label.sk-toggleable__label-arrow:before {\n",
              "  content: \"▾\";\n",
              "}\n",
              "\n",
              "/* Pipeline/ColumnTransformer-specific style */\n",
              "\n",
              "#sk-container-id-1 div.sk-label input.sk-toggleable__control:checked~label.sk-toggleable__label {\n",
              "  color: var(--sklearn-color-text);\n",
              "  background-color: var(--sklearn-color-unfitted-level-2);\n",
              "}\n",
              "\n",
              "#sk-container-id-1 div.sk-label.fitted input.sk-toggleable__control:checked~label.sk-toggleable__label {\n",
              "  background-color: var(--sklearn-color-fitted-level-2);\n",
              "}\n",
              "\n",
              "/* Estimator-specific style */\n",
              "\n",
              "/* Colorize estimator box */\n",
              "#sk-container-id-1 div.sk-estimator input.sk-toggleable__control:checked~label.sk-toggleable__label {\n",
              "  /* unfitted */\n",
              "  background-color: var(--sklearn-color-unfitted-level-2);\n",
              "}\n",
              "\n",
              "#sk-container-id-1 div.sk-estimator.fitted input.sk-toggleable__control:checked~label.sk-toggleable__label {\n",
              "  /* fitted */\n",
              "  background-color: var(--sklearn-color-fitted-level-2);\n",
              "}\n",
              "\n",
              "#sk-container-id-1 div.sk-label label.sk-toggleable__label,\n",
              "#sk-container-id-1 div.sk-label label {\n",
              "  /* The background is the default theme color */\n",
              "  color: var(--sklearn-color-text-on-default-background);\n",
              "}\n",
              "\n",
              "/* On hover, darken the color of the background */\n",
              "#sk-container-id-1 div.sk-label:hover label.sk-toggleable__label {\n",
              "  color: var(--sklearn-color-text);\n",
              "  background-color: var(--sklearn-color-unfitted-level-2);\n",
              "}\n",
              "\n",
              "/* Label box, darken color on hover, fitted */\n",
              "#sk-container-id-1 div.sk-label.fitted:hover label.sk-toggleable__label.fitted {\n",
              "  color: var(--sklearn-color-text);\n",
              "  background-color: var(--sklearn-color-fitted-level-2);\n",
              "}\n",
              "\n",
              "/* Estimator label */\n",
              "\n",
              "#sk-container-id-1 div.sk-label label {\n",
              "  font-family: monospace;\n",
              "  font-weight: bold;\n",
              "  display: inline-block;\n",
              "  line-height: 1.2em;\n",
              "}\n",
              "\n",
              "#sk-container-id-1 div.sk-label-container {\n",
              "  text-align: center;\n",
              "}\n",
              "\n",
              "/* Estimator-specific */\n",
              "#sk-container-id-1 div.sk-estimator {\n",
              "  font-family: monospace;\n",
              "  border: 1px dotted var(--sklearn-color-border-box);\n",
              "  border-radius: 0.25em;\n",
              "  box-sizing: border-box;\n",
              "  margin-bottom: 0.5em;\n",
              "  /* unfitted */\n",
              "  background-color: var(--sklearn-color-unfitted-level-0);\n",
              "}\n",
              "\n",
              "#sk-container-id-1 div.sk-estimator.fitted {\n",
              "  /* fitted */\n",
              "  background-color: var(--sklearn-color-fitted-level-0);\n",
              "}\n",
              "\n",
              "/* on hover */\n",
              "#sk-container-id-1 div.sk-estimator:hover {\n",
              "  /* unfitted */\n",
              "  background-color: var(--sklearn-color-unfitted-level-2);\n",
              "}\n",
              "\n",
              "#sk-container-id-1 div.sk-estimator.fitted:hover {\n",
              "  /* fitted */\n",
              "  background-color: var(--sklearn-color-fitted-level-2);\n",
              "}\n",
              "\n",
              "/* Specification for estimator info (e.g. \"i\" and \"?\") */\n",
              "\n",
              "/* Common style for \"i\" and \"?\" */\n",
              "\n",
              ".sk-estimator-doc-link,\n",
              "a:link.sk-estimator-doc-link,\n",
              "a:visited.sk-estimator-doc-link {\n",
              "  float: right;\n",
              "  font-size: smaller;\n",
              "  line-height: 1em;\n",
              "  font-family: monospace;\n",
              "  background-color: var(--sklearn-color-background);\n",
              "  border-radius: 1em;\n",
              "  height: 1em;\n",
              "  width: 1em;\n",
              "  text-decoration: none !important;\n",
              "  margin-left: 0.5em;\n",
              "  text-align: center;\n",
              "  /* unfitted */\n",
              "  border: var(--sklearn-color-unfitted-level-1) 1pt solid;\n",
              "  color: var(--sklearn-color-unfitted-level-1);\n",
              "}\n",
              "\n",
              ".sk-estimator-doc-link.fitted,\n",
              "a:link.sk-estimator-doc-link.fitted,\n",
              "a:visited.sk-estimator-doc-link.fitted {\n",
              "  /* fitted */\n",
              "  border: var(--sklearn-color-fitted-level-1) 1pt solid;\n",
              "  color: var(--sklearn-color-fitted-level-1);\n",
              "}\n",
              "\n",
              "/* On hover */\n",
              "div.sk-estimator:hover .sk-estimator-doc-link:hover,\n",
              ".sk-estimator-doc-link:hover,\n",
              "div.sk-label-container:hover .sk-estimator-doc-link:hover,\n",
              ".sk-estimator-doc-link:hover {\n",
              "  /* unfitted */\n",
              "  background-color: var(--sklearn-color-unfitted-level-3);\n",
              "  color: var(--sklearn-color-background);\n",
              "  text-decoration: none;\n",
              "}\n",
              "\n",
              "div.sk-estimator.fitted:hover .sk-estimator-doc-link.fitted:hover,\n",
              ".sk-estimator-doc-link.fitted:hover,\n",
              "div.sk-label-container:hover .sk-estimator-doc-link.fitted:hover,\n",
              ".sk-estimator-doc-link.fitted:hover {\n",
              "  /* fitted */\n",
              "  background-color: var(--sklearn-color-fitted-level-3);\n",
              "  color: var(--sklearn-color-background);\n",
              "  text-decoration: none;\n",
              "}\n",
              "\n",
              "/* Span, style for the box shown on hovering the info icon */\n",
              ".sk-estimator-doc-link span {\n",
              "  display: none;\n",
              "  z-index: 9999;\n",
              "  position: relative;\n",
              "  font-weight: normal;\n",
              "  right: .2ex;\n",
              "  padding: .5ex;\n",
              "  margin: .5ex;\n",
              "  width: min-content;\n",
              "  min-width: 20ex;\n",
              "  max-width: 50ex;\n",
              "  color: var(--sklearn-color-text);\n",
              "  box-shadow: 2pt 2pt 4pt #999;\n",
              "  /* unfitted */\n",
              "  background: var(--sklearn-color-unfitted-level-0);\n",
              "  border: .5pt solid var(--sklearn-color-unfitted-level-3);\n",
              "}\n",
              "\n",
              ".sk-estimator-doc-link.fitted span {\n",
              "  /* fitted */\n",
              "  background: var(--sklearn-color-fitted-level-0);\n",
              "  border: var(--sklearn-color-fitted-level-3);\n",
              "}\n",
              "\n",
              ".sk-estimator-doc-link:hover span {\n",
              "  display: block;\n",
              "}\n",
              "\n",
              "/* \"?\"-specific style due to the `<a>` HTML tag */\n",
              "\n",
              "#sk-container-id-1 a.estimator_doc_link {\n",
              "  float: right;\n",
              "  font-size: 1rem;\n",
              "  line-height: 1em;\n",
              "  font-family: monospace;\n",
              "  background-color: var(--sklearn-color-background);\n",
              "  border-radius: 1rem;\n",
              "  height: 1rem;\n",
              "  width: 1rem;\n",
              "  text-decoration: none;\n",
              "  /* unfitted */\n",
              "  color: var(--sklearn-color-unfitted-level-1);\n",
              "  border: var(--sklearn-color-unfitted-level-1) 1pt solid;\n",
              "}\n",
              "\n",
              "#sk-container-id-1 a.estimator_doc_link.fitted {\n",
              "  /* fitted */\n",
              "  border: var(--sklearn-color-fitted-level-1) 1pt solid;\n",
              "  color: var(--sklearn-color-fitted-level-1);\n",
              "}\n",
              "\n",
              "/* On hover */\n",
              "#sk-container-id-1 a.estimator_doc_link:hover {\n",
              "  /* unfitted */\n",
              "  background-color: var(--sklearn-color-unfitted-level-3);\n",
              "  color: var(--sklearn-color-background);\n",
              "  text-decoration: none;\n",
              "}\n",
              "\n",
              "#sk-container-id-1 a.estimator_doc_link.fitted:hover {\n",
              "  /* fitted */\n",
              "  background-color: var(--sklearn-color-fitted-level-3);\n",
              "}\n",
              "</style><div id=\"sk-container-id-1\" class=\"sk-top-container\"><div class=\"sk-text-repr-fallback\"><pre>LinearRegression()</pre><b>In a Jupyter environment, please rerun this cell to show the HTML representation or trust the notebook. <br />On GitHub, the HTML representation is unable to render, please try loading this page with nbviewer.org.</b></div><div class=\"sk-container\" hidden><div class=\"sk-item\"><div class=\"sk-estimator fitted sk-toggleable\"><input class=\"sk-toggleable__control sk-hidden--visually\" id=\"sk-estimator-id-1\" type=\"checkbox\" checked><label for=\"sk-estimator-id-1\" class=\"sk-toggleable__label fitted sk-toggleable__label-arrow\"><div><div>LinearRegression</div></div><div><a class=\"sk-estimator-doc-link fitted\" rel=\"noreferrer\" target=\"_blank\" href=\"https://scikit-learn.org/1.6/modules/generated/sklearn.linear_model.LinearRegression.html\">?<span>Documentation for LinearRegression</span></a><span class=\"sk-estimator-doc-link fitted\">i<span>Fitted</span></span></div></label><div class=\"sk-toggleable__content fitted\"><pre>LinearRegression()</pre></div> </div></div></div></div>"
            ]
          },
          "metadata": {},
          "execution_count": 6
        }
      ],
      "source": [
        "# Inicializa e ajusta o modelo de regressão linear\n",
        "model = LinearRegression()\n",
        "model.fit(X_scaled, y)"
      ]
    },
    {
      "cell_type": "code",
      "execution_count": 7,
      "metadata": {
        "id": "MOm4_m6y5_2_"
      },
      "outputs": [],
      "source": [
        "# Previsões\n",
        "y_pred = model.predict(X_scaled)"
      ]
    },
    {
      "cell_type": "code",
      "execution_count": 8,
      "metadata": {
        "id": "24vJameY5_2_",
        "outputId": "24a06cab-f613-4499-8077-f8d1ef750504",
        "colab": {
          "base_uri": "https://localhost:8080/"
        }
      },
      "outputs": [
        {
          "output_type": "execute_result",
          "data": {
            "text/plain": [
              "0.7076926326770515"
            ]
          },
          "metadata": {},
          "execution_count": 8
        }
      ],
      "source": [
        "# Coeficiente de determinação\n",
        "mse = mean_squared_error(y, y_pred)\n",
        "r2 = r2_score(y, y_pred)\n",
        "r2"
      ]
    },
    {
      "cell_type": "code",
      "execution_count": 9,
      "metadata": {
        "id": "z8lR8mYU5_2_",
        "outputId": "371f5679-2674-4438-c217-ff3be1eca0ca",
        "colab": {
          "base_uri": "https://localhost:8080/"
        }
      },
      "outputs": [
        {
          "output_type": "stream",
          "name": "stdout",
          "text": [
            "Coefficients: [-0.67791319 -0.00868797 -1.73977416 -4.40015767 -0.08019347]\n",
            "Intercept: 23.445918367346938\n",
            "Mean Squared Error: 17.76139610540622\n",
            "R-squared: 0.7076926326770515\n"
          ]
        }
      ],
      "source": [
        "# Resultados\n",
        "print(\"Coefficients:\", model.coef_)\n",
        "print(\"Intercept:\", model.intercept_)\n",
        "print(\"Mean Squared Error:\", mse)\n",
        "print(\"R-squared:\", r2)"
      ]
    },
    {
      "cell_type": "markdown",
      "metadata": {
        "id": "a8xxeZ8U5_2_"
      },
      "source": [
        "Façamos um gráfico que mostra os valores observados e previstos de consumo (MPG):"
      ]
    },
    {
      "cell_type": "code",
      "execution_count": 10,
      "metadata": {
        "id": "5DgpUs415_2_",
        "outputId": "c14e02aa-a0a6-4a8c-a066-9b67e0de5b81",
        "colab": {
          "base_uri": "https://localhost:8080/",
          "height": 564
        }
      },
      "outputs": [
        {
          "output_type": "display_data",
          "data": {
            "text/plain": [
              "<Figure size 1000x600 with 1 Axes>"
            ],
            "image/png": "[encoded data removed]"
          },
          "metadata": {}
        }
      ],
      "source": [
        "# Visualiza MPG observado e previsto\n",
        "plt.figure(figsize=(10, 6))\n",
        "plt.scatter(y, y_pred, color='purple', alpha=0.5)\n",
        "plt.plot([y.min(), y.max()], [y.min(), y.max()], 'r--', lw=2)\n",
        "plt.xlabel('MPG observado')\n",
        "plt.ylabel('MPG previsto')\n",
        "plt.title('MPG Observado e Previsto')\n",
        "plt.savefig('auto_mpg_plot.png')"
      ]
    },
    {
      "cell_type": "markdown",
      "metadata": {
        "id": "JNIOsTq-5_2_"
      },
      "source": [
        "Notemos que:\n",
        "\n",
        "- Pontos próximos à linha vermelha indicam previsões precisas do modelo.\n",
        "- Pontos distantes da linha sugerem erros maiores na previsão.\n",
        "- A dispersão dos pontos ao redor da linha pode indicar a variabilidade dos erros e possíveis padrões não capturados pelo modelo."
      ]
    },
    {
      "cell_type": "markdown",
      "metadata": {
        "id": "aYdy_HHe5_3A"
      },
      "source": [
        "Podemos examinar a equação do hiperplano ajustado:"
      ]
    },
    {
      "cell_type": "code",
      "execution_count": 11,
      "metadata": {
        "id": "jEnvUkHf5_3A",
        "outputId": "98d91c8b-2a6b-4e39-9d39-e23042653bb8",
        "colab": {
          "base_uri": "https://localhost:8080/"
        }
      },
      "outputs": [
        {
          "output_type": "stream",
          "name": "stdout",
          "text": [
            "\n",
            "Equação do hiperplano:\n",
            "MPG = 23.4459 + (-0.6779)(standardized cylinders) + (-0.0087)(standardized displacement) + (-1.7398)(standardized horsepower) + (-4.4002)(standardized weight) + (-0.0802)(standardized acceleration)\n"
          ]
        }
      ],
      "source": [
        "# Equação do hiperplano\n",
        "print(\"\\nEquação do hiperplano:\")\n",
        "equation = f\"MPG = {model.intercept_:.4f}\"\n",
        "for i, (coef, feature) in enumerate(zip(model.coef_, features)):\n",
        "    equation += f\" + ({coef:.4f})(standardized {feature})\"\n",
        "print(equation)"
      ]
    },
    {
      "cell_type": "code",
      "execution_count": 12,
      "metadata": {
        "id": "WP3aG1KZ5_3A",
        "outputId": "619fa27f-4e5a-4649-fc23-9232b095ee68",
        "colab": {
          "base_uri": "https://localhost:8080/"
        }
      },
      "outputs": [
        {
          "output_type": "stream",
          "name": "stdout",
          "text": [
            "\n",
            "Exemplos de predições:\n",
            "\n",
            "Car 1:\n",
            "  cylinders: 4.0\n",
            "  displacement: 120.0\n",
            "  horsepower: 80.0\n",
            "  weight: 2000.0\n",
            "  acceleration: 18.0\n",
            "  MPG previsto: 30.14\n",
            "\n",
            "Car 2:\n",
            "  cylinders: 6.0\n",
            "  displacement: 200.0\n",
            "  horsepower: 100.0\n",
            "  weight: 3000.0\n",
            "  acceleration: 15.0\n",
            "  MPG previsto: 23.34\n",
            "\n",
            "Car 3:\n",
            "  cylinders: 8.0\n",
            "  displacement: 350.0\n",
            "  horsepower: 150.0\n",
            "  weight: 4000.0\n",
            "  acceleration: 12.0\n",
            "  MPG previsto: 15.17\n"
          ]
        }
      ],
      "source": [
        "# Aplicações\n",
        "# Formato: [cylinders, displacement, horsepower, weight, acceleration]\n",
        "example_cars = [\n",
        "    [4, 120.0, 80.0, 2000.0, 18.0],  # Small efficient car\n",
        "    [6, 200.0, 100.0, 3000.0, 15.0],  # Mid-range car\n",
        "    [8, 350.0, 150.0, 4000.0, 12.0]   # Heavy less-efficient car\n",
        "]\n",
        "\n",
        "# Converta para 1-array\n",
        "example_cars = np.array(example_cars)\n",
        "\n",
        "# Padronize os valores dos recursos de exemplo usando o mesmo escalador\n",
        "example_cars_scaled = scaler.transform(example_cars)\n",
        "\n",
        "# Prever MPG para os conjuntos de exemplo\n",
        "predictions = model.predict(example_cars_scaled)\n",
        "\n",
        "# Imprima as previsões\n",
        "print(\"\\nExemplos de predições:\")\n",
        "for i, (car, pred) in enumerate(zip(example_cars, predictions)):\n",
        "    print(f\"\\nCar {i+1}:\")\n",
        "    for feature, value in zip(features, car):\n",
        "        print(f\"  {feature}: {value}\")\n",
        "    print(f\"  MPG previsto: {pred:.2f}\")"
      ]
    },
    {
      "cell_type": "markdown",
      "metadata": {
        "id": "ff1upsaS5_3A"
      },
      "source": [
        "Façamos um estudo de correlação entre MPG e cada uma das variáveis, calculando o coeficiente de correlação entre cada par:"
      ]
    },
    {
      "cell_type": "code",
      "execution_count": 21,
      "metadata": {
        "id": "HQHyKmSt5_3A",
        "outputId": "17cba235-c1da-4df3-c82e-c18971d91b67",
        "colab": {
          "base_uri": "https://localhost:8080/",
          "height": 391
        }
      },
      "outputs": [
        {
          "output_type": "stream",
          "name": "stdout",
          "text": [
            "\n",
            "Coeficientes de correlação de Pearson entre MPG e Features:\n"
          ]
        },
        {
          "output_type": "error",
          "ename": "KeyError",
          "evalue": "\"None of [Index(['cylinders', 'displacement', 'horsepower', 'weight', 'acceleration',\\n       'mpg'],\\n      dtype='object')] are in the [columns]\"",
          "traceback": [
            "\u001b[0;31m---------------------------------------------------------------------------\u001b[0m",
            "\u001b[0;31mKeyError\u001b[0m                                  Traceback (most recent call last)",
            "\u001b[0;32m/tmp/ipython-input-245999228.py\u001b[0m in \u001b[0;36m<cell line: 0>\u001b[0;34m()\u001b[0m\n\u001b[1;32m      1\u001b[0m \u001b[0;31m# Coeficientes de correlação de Pearson\u001b[0m\u001b[0;34m\u001b[0m\u001b[0;34m\u001b[0m\u001b[0m\n\u001b[1;32m      2\u001b[0m \u001b[0mprint\u001b[0m\u001b[0;34m(\u001b[0m\u001b[0;34m\"\\nCoeficientes de correlação de Pearson entre MPG e Features:\"\u001b[0m\u001b[0;34m)\u001b[0m\u001b[0;34m\u001b[0m\u001b[0;34m\u001b[0m\u001b[0m\n\u001b[0;32m----> 3\u001b[0;31m \u001b[0mcorrelations\u001b[0m \u001b[0;34m=\u001b[0m \u001b[0mdf\u001b[0m\u001b[0;34m[\u001b[0m\u001b[0mfeatures\u001b[0m \u001b[0;34m+\u001b[0m \u001b[0;34m[\u001b[0m\u001b[0;34m'mpg'\u001b[0m\u001b[0;34m]\u001b[0m\u001b[0;34m]\u001b[0m\u001b[0;34m.\u001b[0m\u001b[0mcorr\u001b[0m\u001b[0;34m(\u001b[0m\u001b[0;34m)\u001b[0m\u001b[0;34m[\u001b[0m\u001b[0;34m'mpg'\u001b[0m\u001b[0;34m]\u001b[0m\u001b[0;34m.\u001b[0m\u001b[0mdrop\u001b[0m\u001b[0;34m(\u001b[0m\u001b[0;34m'mpg'\u001b[0m\u001b[0;34m)\u001b[0m\u001b[0;34m\u001b[0m\u001b[0;34m\u001b[0m\u001b[0m\n\u001b[0m\u001b[1;32m      4\u001b[0m \u001b[0;32mfor\u001b[0m \u001b[0mfeature\u001b[0m\u001b[0;34m,\u001b[0m \u001b[0mcorr\u001b[0m \u001b[0;32min\u001b[0m \u001b[0mcorrelations\u001b[0m\u001b[0;34m.\u001b[0m\u001b[0mitems\u001b[0m\u001b[0;34m(\u001b[0m\u001b[0;34m)\u001b[0m\u001b[0;34m:\u001b[0m\u001b[0;34m\u001b[0m\u001b[0;34m\u001b[0m\u001b[0m\n\u001b[1;32m      5\u001b[0m     \u001b[0mprint\u001b[0m\u001b[0;34m(\u001b[0m\u001b[0;34mf\"{feature}: {corr:.4f}\"\u001b[0m\u001b[0;34m)\u001b[0m\u001b[0;34m\u001b[0m\u001b[0;34m\u001b[0m\u001b[0m\n",
            "\u001b[0;32m/usr/local/lib/python3.12/dist-packages/pandas/core/frame.py\u001b[0m in \u001b[0;36m__getitem__\u001b[0;34m(self, key)\u001b[0m\n\u001b[1;32m   4106\u001b[0m             \u001b[0;32mif\u001b[0m \u001b[0mis_iterator\u001b[0m\u001b[0;34m(\u001b[0m\u001b[0mkey\u001b[0m\u001b[0;34m)\u001b[0m\u001b[0;34m:\u001b[0m\u001b[0;34m\u001b[0m\u001b[0;34m\u001b[0m\u001b[0m\n\u001b[1;32m   4107\u001b[0m                 \u001b[0mkey\u001b[0m \u001b[0;34m=\u001b[0m \u001b[0mlist\u001b[0m\u001b[0;34m(\u001b[0m\u001b[0mkey\u001b[0m\u001b[0;34m)\u001b[0m\u001b[0;34m\u001b[0m\u001b[0;34m\u001b[0m\u001b[0m\n\u001b[0;32m-> 4108\u001b[0;31m             \u001b[0mindexer\u001b[0m \u001b[0;34m=\u001b[0m \u001b[0mself\u001b[0m\u001b[0;34m.\u001b[0m\u001b[0mcolumns\u001b[0m\u001b[0;34m.\u001b[0m\u001b[0m_get_indexer_strict\u001b[0m\u001b[0;34m(\u001b[0m\u001b[0mkey\u001b[0m\u001b[0;34m,\u001b[0m \u001b[0;34m\"columns\"\u001b[0m\u001b[0;34m)\u001b[0m\u001b[0;34m[\u001b[0m\u001b[0;36m1\u001b[0m\u001b[0;34m]\u001b[0m\u001b[0;34m\u001b[0m\u001b[0;34m\u001b[0m\u001b[0m\n\u001b[0m\u001b[1;32m   4109\u001b[0m \u001b[0;34m\u001b[0m\u001b[0m\n\u001b[1;32m   4110\u001b[0m         \u001b[0;31m# take() does not accept boolean indexers\u001b[0m\u001b[0;34m\u001b[0m\u001b[0;34m\u001b[0m\u001b[0m\n",
            "\u001b[0;32m/usr/local/lib/python3.12/dist-packages/pandas/core/indexes/base.py\u001b[0m in \u001b[0;36m_get_indexer_strict\u001b[0;34m(self, key, axis_name)\u001b[0m\n\u001b[1;32m   6198\u001b[0m             \u001b[0mkeyarr\u001b[0m\u001b[0;34m,\u001b[0m \u001b[0mindexer\u001b[0m\u001b[0;34m,\u001b[0m \u001b[0mnew_indexer\u001b[0m \u001b[0;34m=\u001b[0m \u001b[0mself\u001b[0m\u001b[0;34m.\u001b[0m\u001b[0m_reindex_non_unique\u001b[0m\u001b[0;34m(\u001b[0m\u001b[0mkeyarr\u001b[0m\u001b[0;34m)\u001b[0m\u001b[0;34m\u001b[0m\u001b[0;34m\u001b[0m\u001b[0m\n\u001b[1;32m   6199\u001b[0m \u001b[0;34m\u001b[0m\u001b[0m\n\u001b[0;32m-> 6200\u001b[0;31m         \u001b[0mself\u001b[0m\u001b[0;34m.\u001b[0m\u001b[0m_raise_if_missing\u001b[0m\u001b[0;34m(\u001b[0m\u001b[0mkeyarr\u001b[0m\u001b[0;34m,\u001b[0m \u001b[0mindexer\u001b[0m\u001b[0;34m,\u001b[0m \u001b[0maxis_name\u001b[0m\u001b[0;34m)\u001b[0m\u001b[0;34m\u001b[0m\u001b[0;34m\u001b[0m\u001b[0m\n\u001b[0m\u001b[1;32m   6201\u001b[0m \u001b[0;34m\u001b[0m\u001b[0m\n\u001b[1;32m   6202\u001b[0m         \u001b[0mkeyarr\u001b[0m \u001b[0;34m=\u001b[0m \u001b[0mself\u001b[0m\u001b[0;34m.\u001b[0m\u001b[0mtake\u001b[0m\u001b[0;34m(\u001b[0m\u001b[0mindexer\u001b[0m\u001b[0;34m)\u001b[0m\u001b[0;34m\u001b[0m\u001b[0;34m\u001b[0m\u001b[0m\n",
            "\u001b[0;32m/usr/local/lib/python3.12/dist-packages/pandas/core/indexes/base.py\u001b[0m in \u001b[0;36m_raise_if_missing\u001b[0;34m(self, key, indexer, axis_name)\u001b[0m\n\u001b[1;32m   6247\u001b[0m         \u001b[0;32mif\u001b[0m \u001b[0mnmissing\u001b[0m\u001b[0;34m:\u001b[0m\u001b[0;34m\u001b[0m\u001b[0;34m\u001b[0m\u001b[0m\n\u001b[1;32m   6248\u001b[0m             \u001b[0;32mif\u001b[0m \u001b[0mnmissing\u001b[0m \u001b[0;34m==\u001b[0m \u001b[0mlen\u001b[0m\u001b[0;34m(\u001b[0m\u001b[0mindexer\u001b[0m\u001b[0;34m)\u001b[0m\u001b[0;34m:\u001b[0m\u001b[0;34m\u001b[0m\u001b[0;34m\u001b[0m\u001b[0m\n\u001b[0;32m-> 6249\u001b[0;31m                 \u001b[0;32mraise\u001b[0m \u001b[0mKeyError\u001b[0m\u001b[0;34m(\u001b[0m\u001b[0;34mf\"None of [{key}] are in the [{axis_name}]\"\u001b[0m\u001b[0;34m)\u001b[0m\u001b[0;34m\u001b[0m\u001b[0;34m\u001b[0m\u001b[0m\n\u001b[0m\u001b[1;32m   6250\u001b[0m \u001b[0;34m\u001b[0m\u001b[0m\n\u001b[1;32m   6251\u001b[0m             \u001b[0mnot_found\u001b[0m \u001b[0;34m=\u001b[0m \u001b[0mlist\u001b[0m\u001b[0;34m(\u001b[0m\u001b[0mensure_index\u001b[0m\u001b[0;34m(\u001b[0m\u001b[0mkey\u001b[0m\u001b[0;34m)\u001b[0m\u001b[0;34m[\u001b[0m\u001b[0mmissing_mask\u001b[0m\u001b[0;34m.\u001b[0m\u001b[0mnonzero\u001b[0m\u001b[0;34m(\u001b[0m\u001b[0;34m)\u001b[0m\u001b[0;34m[\u001b[0m\u001b[0;36m0\u001b[0m\u001b[0;34m]\u001b[0m\u001b[0;34m]\u001b[0m\u001b[0;34m.\u001b[0m\u001b[0munique\u001b[0m\u001b[0;34m(\u001b[0m\u001b[0;34m)\u001b[0m\u001b[0;34m)\u001b[0m\u001b[0;34m\u001b[0m\u001b[0;34m\u001b[0m\u001b[0m\n",
            "\u001b[0;31mKeyError\u001b[0m: \"None of [Index(['cylinders', 'displacement', 'horsepower', 'weight', 'acceleration',\\n       'mpg'],\\n      dtype='object')] are in the [columns]\""
          ]
        }
      ],
      "source": [
        "# Coeficientes de correlação de Pearson\n",
        "print(\"\\nCoeficientes de correlação de Pearson entre MPG e Features:\")\n",
        "correlations = df[features + ['mpg']].corr()['mpg'].drop('mpg')\n",
        "for feature, corr in correlations.items():\n",
        "    print(f\"{feature}: {corr:.4f}\")"
      ]
    },
    {
      "cell_type": "markdown",
      "metadata": {
        "id": "BC7_0K2R5_3A"
      },
      "source": [
        "Visualisemos graficamente:"
      ]
    },
    {
      "cell_type": "code",
      "execution_count": 13,
      "metadata": {
        "id": "sU1C_2zb5_3A"
      },
      "outputs": [],
      "source": []
    },
    {
      "cell_type": "markdown",
      "metadata": {
        "id": "E1_yjley5_3A"
      },
      "source": [
        "#### Teoria da Divisão Treino/Teste em Aprendizado de Máquina\n",
        "\n",
        "No aprendizado de máquina, a divisão dos dados em conjuntos de **treino** e **teste** é uma prática fundamental para avaliar o desempenho de um modelo preditivo. O objetivo é garantir que o modelo não apenas se ajuste bem aos dados usados para seu treinamento, mas também generalize para dados novos e não vistos. Esta seção explica a teoria por trás dessa divisão, destacando sua importância e considerações práticas.\n",
        "\n",
        "A divisão treino/teste consiste em separar o conjunto de dados disponível em duas partes:\n",
        "\n",
        "- **Conjunto de treino**: Usado para ajustar o modelo, ou seja, para estimar os parâmetros do modelo (por exemplo, coeficientes em uma regressão linear).\n",
        "- **Conjunto de teste**: Usado para avaliar o desempenho do modelo em dados não utilizados durante o treinamento, simulando sua performance em aplicações reais.\n",
        "\n",
        "Seja $ D = \\{(x_i, y_i)\\}_{i=1}^N $ o conjunto de dados com $  N $ amostras, onde $ x_i $ são as variáveis preditoras e $ y_i $ é a variável alvo. A divisão treino/teste particiona $ D $ em:\n",
        "\n",
        "- $ D_{\\text{treino}}$, com $ N_{\\text{treino}} $ amostras (geralmente 70%–80% de $ N $).\n",
        "- $ D_{\\text{teste}}$, com $ N_{\\text{teste}} $ amostras (geralmente 20%–30% de $ N $).\n",
        "\n",
        "A divisão é feita de forma aleatória, mas pode ser estratificada para manter a proporção de classes (em problemas de classificação) ou valores (em regressão).\n",
        "\n",
        "O objetivo principal da divisão é avaliar a **generalização** do modelo. Um modelo que apresenta bom desempenho no conjunto de treino, mas desempenho ruim no conjunto de teste, sofre de *overfitting* (sobreajuste), ou seja, ele memorizou os dados de treino em vez de aprender padrões gerais. Por outro lado, um modelo com desempenho ruim em ambos os conjuntos pode estar subajustado (*underfitting*), indicando que é muito simples ou mal configurado.\n",
        "\n",
        "O desempenho do modelo é medido usando métricas como:\n",
        "\n",
        "- **Erro Quadrático Médio (MSE)** para regressão:\n",
        "  $$\n",
        "  \\text{MSE} = \\frac{1}{n} \\sum_{i=1}^n (y_i - \\hat{y}_i)^2,\n",
        "  $$\n",
        "  onde $ \\hat{y}_i $ é a previsão do modelo.\n",
        "  \n",
        "- **Coeficiente de Determinação ($ r^2 $)**: Mede a proporção da variância explicada pelo modelo.\n",
        "\n",
        "Comparamos essas métricas no conjunto de treino e no conjunto de teste. Idealmente, o MSE no teste deve ser próximo ao do treino, e o$r^2 $ deve ser alto em ambos.\n",
        "\n",
        "Notas:\n",
        "\n",
        "- **Tamanho da divisão**: Uma proporção comum é 80% treino e 20% teste, mas isso depende do tamanho do conjunto de dados. Conjuntos pequenos podem exigir validação cruzada em vez de uma única divisão.\n",
        "- **Aleatoriedade**: A divisão deve ser aleatória para evitar viés, mas fixar uma semente (*random seed*) garante reprodutibilidade.\n",
        "- **Vazamento de dados**: O conjunto de teste deve ser completamente isolado durante o treinamento. Por exemplo, a padronização de dados deve usar apenas as estatísticas (média e desvio padrão) do conjunto de treino.\n"
      ]
    },
    {
      "cell_type": "markdown",
      "metadata": {
        "id": "4hOlJeh75_3A"
      },
      "source": [
        "#### Exemplo 13\n",
        "Consideremos um exemplo puramente numérico."
      ]
    },
    {
      "cell_type": "code",
      "execution_count": null,
      "metadata": {
        "id": "6zXVK9v85_3A"
      },
      "outputs": [],
      "source": [
        "import numpy as np\n",
        "import pandas as pd\n",
        "from sklearn.linear_model import LinearRegression\n",
        "from sklearn.metrics import mean_squared_error, r2_score\n",
        "from sklearn.model_selection import train_test_split"
      ]
    },
    {
      "cell_type": "code",
      "execution_count": null,
      "metadata": {
        "id": "ucVgVeuT5_3A"
      },
      "outputs": [],
      "source": [
        "# Definir semente aleatória para reprodutibilidade\n",
        "np.random.seed(42)"
      ]
    },
    {
      "cell_type": "code",
      "execution_count": null,
      "metadata": {
        "id": "jmYs26EK5_3A"
      },
      "outputs": [],
      "source": [
        "# Gerar dados simulados\n",
        "n_samples = 100\n",
        "X1 = np.random.uniform(0, 10, n_samples)  # Variável 1\n",
        "X2 = np.random.uniform(0, 10, n_samples)  # Variável 2\n",
        "X3 = np.random.uniform(0, 10, n_samples)  # Variável 3"
      ]
    },
    {
      "cell_type": "code",
      "source": [
        "X1"
      ],
      "metadata": {
        "id": "jlXn2ZgmGZXf"
      },
      "execution_count": null,
      "outputs": []
    },
    {
      "cell_type": "code",
      "execution_count": null,
      "metadata": {
        "id": "uYmmjM7p5_3A"
      },
      "outputs": [],
      "source": [
        "# Relação verdadeira: y = 2 + 3*X1 - 2*X2 + 1.5*X3 + ruído\n",
        "noise = np.random.normal(0, 1, n_samples)\n",
        "y = 2 + 3 * X1 - 2 * X2 + 1.5 * X3 + noise"
      ]
    },
    {
      "cell_type": "code",
      "execution_count": null,
      "metadata": {
        "id": "KEgOYEvf5_3A"
      },
      "outputs": [],
      "source": [
        "# Criar matriz de variáveis preditoras\n",
        "X = np.column_stack((X1, X2, X3))"
      ]
    },
    {
      "cell_type": "code",
      "source": [
        "np.shape(X1)"
      ],
      "metadata": {
        "id": "fMFGDDvuG40R"
      },
      "execution_count": null,
      "outputs": []
    },
    {
      "cell_type": "code",
      "source": [
        "np.shape(X)"
      ],
      "metadata": {
        "id": "JFVa6yLfGw12"
      },
      "execution_count": null,
      "outputs": []
    },
    {
      "cell_type": "code",
      "execution_count": null,
      "metadata": {
        "id": "D65Nhj5m5_3A"
      },
      "outputs": [],
      "source": [
        "# Dividir dados em conjuntos de treino (80%) e teste (20%)\n",
        "X_train, X_test, y_train, y_test = train_test_split(X, y, test_size=0.2, random_state=42)"
      ]
    },
    {
      "cell_type": "code",
      "execution_count": null,
      "metadata": {
        "id": "Jy8kxgT85_3A"
      },
      "outputs": [],
      "source": [
        "# Inicializar e ajustar o modelo de regressão linear nos dados de treino\n",
        "model = LinearRegression()\n",
        "model.fit(X_train, y_train)"
      ]
    },
    {
      "cell_type": "code",
      "execution_count": null,
      "metadata": {
        "id": "3bFzifOA5_3A"
      },
      "outputs": [],
      "source": [
        "# Fazer previsões nos dados de treino e teste\n",
        "y_train_pred = model.predict(X_train)\n",
        "y_test_pred = model.predict(X_test)"
      ]
    },
    {
      "cell_type": "code",
      "execution_count": null,
      "metadata": {
        "id": "QNvd7IRE5_3A"
      },
      "outputs": [],
      "source": [
        "# Calcular métricas de desempenho\n",
        "train_mse = mean_squared_error(y_train, y_train_pred)\n",
        "train_r2 = r2_score(y_train, y_train_pred)\n",
        "test_mse = mean_squared_error(y_test, y_test_pred)\n",
        "test_r2 = r2_score(y_test, y_test_pred)"
      ]
    },
    {
      "cell_type": "code",
      "execution_count": null,
      "metadata": {
        "id": "ZpgqIPAu5_3A"
      },
      "outputs": [],
      "source": [
        "# Imprimir resultados\n",
        "print(\"Equação Verdadeira: y = 2 + 3*X1 - 2*X2 + 1.5*X3 + ruído\")\n",
        "print(\"\\nModelo Aprendido:\")\n",
        "print(f\"Intercepto: {model.intercept_:.4f}\")\n",
        "print(f\"Coeficientes: X1={model.coef_[0]:.4f}, X2={model.coef_[1]:.4f}, X3={model.coef_[2]:.4f}\")\n",
        "print(\"\\nDesempenho no Conjunto de Treino:\")\n",
        "print(f\"Erro Quadrático Médio: {train_mse:.4f}\")\n",
        "print(f\"Coeficiente de determinação: {train_r2:.4f}\")\n",
        "print(\"\\nDesempenho no Conjunto de Teste:\")\n",
        "print(f\"Erro Quadrático Médio: {test_mse:.4f}\")\n",
        "print(f\"Coeficiente de determinação: {test_r2:.4f}\")"
      ]
    },
    {
      "cell_type": "code",
      "execution_count": null,
      "metadata": {
        "id": "iSgih1eV5_3B"
      },
      "outputs": [],
      "source": [
        "# Criar gráficos de dispersão para cada variável preditora versus y\n",
        "plt.figure(figsize=(15, 5))\n",
        "features = ['X1', 'X2', 'X3']\n",
        "for i, feature in enumerate(features):\n",
        "    plt.subplot(1, 3, i+1)\n",
        "    plt.scatter(X[:, i], y, color='blue', alpha=0.5)\n",
        "    plt.xlabel(feature)\n",
        "    plt.ylabel('y')\n",
        "    plt.title(f'y vs {feature}')\n",
        "plt.tight_layout()\n",
        "plt.savefig('variaveis_vs_y.png')"
      ]
    },
    {
      "cell_type": "code",
      "execution_count": null,
      "metadata": {
        "id": "mwQ-AaF55_3B"
      },
      "outputs": [],
      "source": [
        "# Criar gráfico de valores reais versus previstos (treino e teste)\n",
        "plt.figure(figsize=(10, 5))\n",
        "# Conjunto de treino\n",
        "plt.subplot(1, 2, 1)\n",
        "plt.scatter(y_train, y_train_pred, color='green', alpha=0.5, label='Treino')\n",
        "plt.plot([y.min(), y.max()], [y.min(), y.max()], 'r--', lw=2)\n",
        "plt.xlabel('y Real (Treino)')\n",
        "plt.ylabel('y Previsto (Treino)')\n",
        "plt.title('Reais vs Previstos (Treino)')\n",
        "plt.legend()\n",
        "# Conjunto de teste\n",
        "plt.subplot(1, 2, 2)\n",
        "plt.scatter(y_test, y_test_pred, color='purple', alpha=0.5, label='Teste')\n",
        "plt.plot([y.min(), y.max()], [y.min(), y.max()], 'r--', lw=2)\n",
        "plt.xlabel('y Real (Teste)')\n",
        "plt.ylabel('y Previsto (Teste)')\n",
        "plt.title('Reais vs Previstos (Teste)')\n",
        "plt.legend()\n",
        "plt.tight_layout()\n",
        "plt.savefig('reais_vs_previstos.png')"
      ]
    },
    {
      "cell_type": "code",
      "execution_count": null,
      "metadata": {
        "id": "tyIPNvi_5_3B"
      },
      "outputs": [],
      "source": [
        "# Criar gráfico de resíduos (treino e teste)\n",
        "plt.figure(figsize=(10, 5))\n",
        "# Resíduos do conjunto de treino\n",
        "plt.subplot(1, 2, 1)\n",
        "train_residuals = y_train - y_train_pred\n",
        "plt.scatter(y_train_pred, train_residuals, color='green', alpha=0.5, label='Treino')\n",
        "plt.axhline(y=0, color='r', linestyle='--', lw=2)\n",
        "plt.xlabel('y Previsto (Treino)')\n",
        "plt.ylabel('Resíduos (Treino)')\n",
        "plt.title('Resíduos vs Previstos (Treino)')\n",
        "plt.legend()\n",
        "# Resíduos do conjunto de teste\n",
        "plt.subplot(1, 2, 2)\n",
        "test_residuals = y_test - y_test_pred\n",
        "plt.scatter(y_test_pred, test_residuals, color='purple', alpha=0.5, label='Teste')\n",
        "plt.axhline(y=0, color='r', linestyle='--', lw=2)\n",
        "plt.xlabel('y Previsto (Teste)')\n",
        "plt.ylabel('Resíduos (Teste)')\n",
        "plt.title('Resíduos vs Previstos (Teste)')\n",
        "plt.legend()\n",
        "plt.tight_layout()\n",
        "plt.savefig('residuos.png')"
      ]
    },
    {
      "cell_type": "markdown",
      "metadata": {
        "id": "QAk5ed0e5_3B"
      },
      "source": [
        "#### Exemplo 14\n",
        "\n",
        "O conjunto de dados `Credit.csv`, que pode ser encontrado em [2], contém informações simuladas sobre 400 clientes de cartões de crédito. Nosso objetivo é prever o saldo médio do cartão de crédito (`Balance`) com base em variáveis demográficas e financeiras.\n",
        "\n",
        "**Variáveis:**\n",
        "\n",
        "* `Income`: Renda anual em milhares de dólares.\n",
        "* `Limit`: Limite total de crédito concedido.\n",
        "* `Rating`: Avaliação de crédito do cliente.\n",
        "* `Cards`: Número de cartões de crédito possuídos.\n",
        "* `Age`: Idade do cliente.\n",
        "* `Education`: Anos de educação formal.\n",
        "* `Gender`: Gênero do cliente (`Male` ou `Female`).\n",
        "* `Student`: Indica se o cliente é estudante (`Yes` ou `No`).\n",
        "* `Married`: Indica se o cliente é casado (`Yes` ou `No`).\n",
        "* `Ethnicity`: Etnia do cliente (`Caucasian`, `Asian`, `African American`).\n",
        "* `Balance`: Saldo médio do cartão de crédito em dólares (variável alvo)."
      ]
    },
    {
      "cell_type": "code",
      "execution_count": null,
      "metadata": {
        "id": "za4wqxph5_3B"
      },
      "outputs": [],
      "source": [
        "# Importar bibliotecas\n",
        "\n",
        "import pandas as pd\n",
        "import numpy as np\n",
        "import matplotlib.pyplot as plt\n",
        "import seaborn as sns\n",
        "\n",
        "from sklearn.linear_model import LinearRegression\n",
        "from sklearn.model_selection import train_test_split\n",
        "from sklearn.metrics import mean_squared_error, r2_score"
      ]
    },
    {
      "cell_type": "code",
      "execution_count": null,
      "metadata": {
        "id": "IL44w4tx5_3B"
      },
      "outputs": [],
      "source": [
        "# Carregar o conjunto de dados\n",
        "url = 'https://www.statlearning.com/s/Credit.csv'\n",
        "df = pd.read_csv(url)\n",
        "\n",
        "# Exibir as primeiras linhas\n",
        "df.head()"
      ]
    },
    {
      "cell_type": "code",
      "execution_count": null,
      "metadata": {
        "id": "hy3Be9UI5_3B"
      },
      "outputs": [],
      "source": [
        "# Verificar as colunas presentes no DataFrame\n",
        "print(\"\\nColunas do DataFrame:\")\n",
        "print(df.columns)"
      ]
    },
    {
      "cell_type": "code",
      "execution_count": null,
      "metadata": {
        "id": "hRxE2Joi5_3B"
      },
      "outputs": [],
      "source": [
        "# Converter variáveis categóricas em variáveis dummy\n",
        "df = pd.get_dummies(df, drop_first=True)\n",
        "\n",
        "# Exibir as primeiras linhas após o pré-processamento\n",
        "df.head()"
      ]
    },
    {
      "cell_type": "code",
      "execution_count": null,
      "metadata": {
        "id": "-Bswxiql5_3B"
      },
      "outputs": [],
      "source": [
        "# Definir variáveis independentes (X) e dependente (y)\n",
        "X = df.drop('Balance', axis=1)\n",
        "y = df['Balance']"
      ]
    },
    {
      "cell_type": "markdown",
      "metadata": {
        "id": "GVN84QVJ5_3B"
      },
      "source": [
        "Note que"
      ]
    },
    {
      "cell_type": "code",
      "execution_count": null,
      "metadata": {
        "id": "6pf48j9H5_3B"
      },
      "outputs": [],
      "source": [
        "np.shape(X)"
      ]
    },
    {
      "cell_type": "code",
      "execution_count": null,
      "metadata": {
        "id": "mkYliGmQ5_3B"
      },
      "outputs": [],
      "source": [
        "np.shape(y)"
      ]
    },
    {
      "cell_type": "code",
      "execution_count": null,
      "metadata": {
        "id": "dm1msU315_3B"
      },
      "outputs": [],
      "source": [
        "# Salvar os nomes das colunas para uso posterior\n",
        "colunas_treinamento = X.columns"
      ]
    },
    {
      "cell_type": "code",
      "execution_count": null,
      "metadata": {
        "id": "5UTb1UUx5_3B"
      },
      "outputs": [],
      "source": [
        "# Dividir os dados em conjuntos de treinamento e teste (80% treino, 20% teste)\n",
        "X_train, X_test, y_train, y_test = train_test_split(X, y, test_size=0.2, random_state=42)"
      ]
    },
    {
      "cell_type": "code",
      "execution_count": null,
      "metadata": {
        "id": "KtmHj41f5_3B"
      },
      "outputs": [],
      "source": [
        "# Criar o modelo de regressão linear\n",
        "modelo = LinearRegression()\n",
        "\n",
        "# Treinar o modelo com os dados de treinamento\n",
        "modelo.fit(X_train, y_train)"
      ]
    },
    {
      "cell_type": "code",
      "execution_count": null,
      "metadata": {
        "id": "dEm5KB9K5_3B"
      },
      "outputs": [],
      "source": [
        "# Fazer previsões com os dados de teste\n",
        "y_pred = modelo.predict(X_test)"
      ]
    },
    {
      "cell_type": "code",
      "execution_count": null,
      "metadata": {
        "id": "Z0PPZ5He5_3B"
      },
      "outputs": [],
      "source": [
        "# Calcular o erro quadrático médio (MSE) e o coeficiente de determinação (R²)\n",
        "mse = mean_squared_error(y_test, y_pred)\n",
        "r2 = r2_score(y_test, y_pred)\n",
        "\n",
        "print(f'Erro Quadrático Médio (MSE): {mse:.2f}')\n",
        "print(f'Coeficiente de Determinação (R²): {r2:.2f}')"
      ]
    },
    {
      "cell_type": "markdown",
      "metadata": {
        "id": "Ktc4g_rH5_3B"
      },
      "source": [
        "Façamos agora os cálculos sem teste/treinamento:"
      ]
    },
    {
      "cell_type": "code",
      "execution_count": null,
      "metadata": {
        "id": "tiRMzAr_5_3B"
      },
      "outputs": [],
      "source": [
        "modelo2 = LinearRegression()\n",
        "modelo2.fit(X, y)"
      ]
    },
    {
      "cell_type": "code",
      "execution_count": null,
      "metadata": {
        "id": "4NVGwwzs5_3B"
      },
      "outputs": [],
      "source": [
        "y_pred2 = modelo2.predict(X)"
      ]
    },
    {
      "cell_type": "code",
      "execution_count": null,
      "metadata": {
        "id": "ATdUj7wW5_3C"
      },
      "outputs": [],
      "source": [
        "mse2 = mean_squared_error(y, y_pred2)\n",
        "rr2 = r2_score(y, y_pred2)\n",
        "print(f'Erro Quadrático Médio (MSE): {mse2:.2f}')\n",
        "print(f'Coeficiente de Determinação (R²): {rr2:.2f}')"
      ]
    },
    {
      "cell_type": "code",
      "execution_count": null,
      "metadata": {
        "id": "l55fHVFp5_3C"
      },
      "outputs": [],
      "source": [
        "# Exibir os coeficientes do modelo\n",
        "coeficientes = pd.DataFrame({'Variável': X.columns, 'Coeficiente': modelo.coef_})\n",
        "print(coeficientes)"
      ]
    },
    {
      "cell_type": "code",
      "execution_count": null,
      "metadata": {
        "id": "HJRI4d1u5_3C"
      },
      "outputs": [],
      "source": [
        "# Configurar estilo dos gráficos\n",
        "sns.set(style=\"whitegrid\")"
      ]
    },
    {
      "cell_type": "code",
      "execution_count": null,
      "metadata": {
        "scrolled": true,
        "id": "k_QU1RLv5_3C"
      },
      "outputs": [],
      "source": [
        "# Plotar a relação entre renda e saldo do cartão de crédito\n",
        "sns.scatterplot(x='Income', y='Balance', data=df)\n",
        "plt.title('Relação entre Renda e Saldo do Cartão de Crédito')\n",
        "plt.xlabel('Renda Anual (milhares de dólares)')\n",
        "plt.ylabel('Saldo Médio do Cartão de Crédito')\n",
        "plt.show()"
      ]
    },
    {
      "cell_type": "code",
      "execution_count": null,
      "metadata": {
        "id": "SlyqLfIn5_3C"
      },
      "outputs": [],
      "source": [
        "from pandas.plotting import scatter_matrix\n",
        "# Selecionar apenas as colunas numéricas\n",
        "df_numerico = df.select_dtypes(include=['float64', 'int64'])\n",
        "\n",
        "# Gerar a matriz de scatter plots\n",
        "scatter_matrix(df_numerico, figsize=(12, 12), diagonal='hist', alpha=0.7)\n",
        "\n",
        "# Exibir os gráficos\n",
        "plt.suptitle('Scatter Plots das Variáveis Numéricas', fontsize=16)\n",
        "plt.show()"
      ]
    },
    {
      "cell_type": "code",
      "execution_count": null,
      "metadata": {
        "id": "AFBxZc8n5_3C"
      },
      "outputs": [],
      "source": [
        "from scipy.stats import pearsonr\n",
        "# Função para calcular o coeficiente de correlação de Pearson\n",
        "def corrfunc(x, y, **kws):\n",
        "    r, _ = pearsonr(x, y)\n",
        "    ax = plt.gca()\n",
        "    ax.annotate(f'r = {r:.2f}', xy=(.1, .9), xycoords=ax.transAxes)\n",
        "\n",
        "# Criar a matriz de gráficos de dispersão com os coeficientes de correlação\n",
        "sns.set(style='white')\n",
        "g = sns.PairGrid(df_numerico)\n",
        "g.map_lower(sns.scatterplot)\n",
        "g.map_diag(sns.histplot, kde=True)\n",
        "g.map_upper(corrfunc)\n",
        "\n",
        "plt.suptitle('Matriz de Correlação com Coeficientes de Pearson', y=1.02)\n",
        "plt.show()"
      ]
    },
    {
      "cell_type": "code",
      "execution_count": null,
      "metadata": {
        "id": "oE0htCLr5_3C"
      },
      "outputs": [],
      "source": [
        "# Selecionar apenas as colunas numéricas\n",
        "df_numerico = df.select_dtypes(include=['float64', 'int64'])\n",
        "\n",
        "# Identificar a variável alvo\n",
        "target = 'Balance'\n",
        "\n",
        "# Criar gráficos de dispersão de Balance em relação às outras variáveis numéricas\n",
        "for column in df_numerico.columns:\n",
        "    if column != target:\n",
        "        plt.figure(figsize=(8, 6))\n",
        "        sns.scatterplot(x=df_numerico[column], y=df_numerico[target])\n",
        "        plt.title(f'{target} vs {column}')\n",
        "        plt.xlabel(column)\n",
        "        plt.ylabel(target)\n",
        "        plt.tight_layout()\n",
        "        plt.show()"
      ]
    },
    {
      "cell_type": "code",
      "execution_count": null,
      "metadata": {
        "id": "VRFDzBMA5_3C"
      },
      "outputs": [],
      "source": [
        "# Criar novos exemplos para previsão\n",
        "novos_clientes = pd.DataFrame({\n",
        "    'Income': [30, 60, 90],\n",
        "    'Limit': [3000, 6000, 9000],\n",
        "    'Rating': [200, 400, 600],\n",
        "    'Cards': [2, 4, 6],\n",
        "    'Age': [25, 45, 65],\n",
        "    'Education': [12, 16, 20],\n",
        "    'Gender_Male': [1, 0, 1],\n",
        "    'Student_Yes': [0, 1, 0],\n",
        "    'Married_Yes': [1, 0, 1],\n",
        "    'Ethnicity_Asian': [0, 1, 0],\n",
        "    'Ethnicity_Caucasian': [1, 0, 1]\n",
        "})\n",
        "\n",
        "# Reindexar para garantir correspondência de colunas\n",
        "novos_clientes = novos_clientes.reindex(columns=colunas_treinamento, fill_value=0)\n",
        "\n",
        "# Prever o saldo do cartão de crédito para os novos clientes\n",
        "saldos_previstos = modelo.predict(novos_clientes)\n",
        "\n",
        "# Exibir as previsões\n",
        "print(\"\\nPrevisões de saldo do cartão de crédito para novos clientes:\")\n",
        "for i, saldo in enumerate(saldos_previstos):\n",
        "    print(f\"Cliente {i+1}: Saldo previsto = ${saldo:.2f}\")"
      ]
    },
    {
      "cell_type": "code",
      "execution_count": null,
      "metadata": {
        "id": "5ySVP_GP5_3C"
      },
      "outputs": [],
      "source": [
        "# Gerar o gráfico: Balance Observado vs. Balance Previsto\n",
        "plt.figure(figsize=(8, 6))\n",
        "sns.scatterplot(x=y_test, y=y_pred, alpha=0.6)\n",
        "plt.plot([y_test.min(), y_test.max()], [y_test.min(), y_test.max()], color='red', linestyle='--')\n",
        "plt.xlabel('Balanço Observado')\n",
        "plt.ylabel('Balanço Previsto')\n",
        "plt.title('Balanço Observado vs. Balance Previsto')\n",
        "plt.grid(True)\n",
        "plt.tight_layout()\n",
        "plt.show()"
      ]
    },
    {
      "cell_type": "markdown",
      "metadata": {
        "id": "E4x32_rR5_3C"
      },
      "source": [
        "Notemos que para o gráfico acima:\n",
        "\n",
        "- Pontos próximos à linha vermelha tracejada: Indicam que o modelo previu corretamente o saldo ou balanço (Balance) para essas observações.\n",
        "- Pontos distantes da linha: Sugerem que o modelo teve dificuldade em prever corretamente o saldo ou balanço para essas observações, podendo indicar outliers ou variáveis importantes não incluídas no modelo."
      ]
    },
    {
      "cell_type": "markdown",
      "metadata": {
        "id": "09A3tgDi5_3C"
      },
      "source": [
        "### <h3>Exercícios</h3>"
      ]
    },
    {
      "cell_type": "markdown",
      "metadata": {
        "id": "QLRpV5iB5_3C"
      },
      "source": [
        "**1.**  Use regressão não-linear para ajustar uma parábola aos seguintes dados:\n",
        "\n",
        "$ X = [0.2, 0.5, 0.8, 1.2, 1.7, 2.0, 2.3]$\n",
        "\n",
        "$ Y = [500, 700, 1000, 1200, 2200, 2650, 3750] $\n"
      ]
    },
    {
      "cell_type": "markdown",
      "metadata": {
        "id": "rJo30dAu5_3C"
      },
      "source": [
        "**2.** Considere a funções $f(t) = a+bt+ct^2+dt^3+f\\mbox{e}^{-t}$ e $f(t) = a+bt+ct^2+dt^3+f t^4$ e verifique, usando curve_fit, se cada ajuste é melhor ou pior do que o do exemplo para os dados  "
      ]
    },
    {
      "cell_type": "code",
      "execution_count": null,
      "metadata": {
        "id": "M82itqyc5_3C"
      },
      "outputs": [],
      "source": [
        "import numpy as np"
      ]
    },
    {
      "cell_type": "code",
      "execution_count": null,
      "metadata": {
        "id": "cPRCAS9n5_3C"
      },
      "outputs": [],
      "source": [
        "x = np.array([1., 1.5,2.,3.,4.,5.])\n",
        "y = np.array([5.3,6.4,8.2,7.2,6.6,4.3])"
      ]
    },
    {
      "cell_type": "markdown",
      "metadata": {
        "id": "stp9Yu-O5_3C"
      },
      "source": [
        "**3.** Sejam os pontos:"
      ]
    },
    {
      "cell_type": "code",
      "execution_count": null,
      "metadata": {
        "id": "e-Kx_q4k5_3C"
      },
      "outputs": [],
      "source": [
        "x = np.array([1.1,1.5,2.6, 2.8,3.3,4.3,5.4,6.8,7.3])\n",
        "y = np.array([4.3,5.3,6.4,7.2,7.1,6.3,5.4, 3.5,3.2])"
      ]
    },
    {
      "cell_type": "markdown",
      "metadata": {
        "id": "Pn5YdZxO5_3C"
      },
      "source": [
        "Determine uma função (escolha a forma), linear em 4 parâmetros, que se ajuste a estes dados, usando o método dos mínimos quadrados. Use curve_fit."
      ]
    },
    {
      "cell_type": "markdown",
      "metadata": {
        "id": "WNoD_dkm5_3D"
      },
      "source": [
        "**4.** Use os dados de advertising.csv [2] e use o método de gradientes descendentes para determinar os ajustes lineares univariados de vendas por propaganda em (i) TV, (ii) rádio e (iii) jornal."
      ]
    },
    {
      "cell_type": "markdown",
      "metadata": {
        "id": "PY7LzmmS5_3D"
      },
      "source": [
        "**5.** No exemplo envolvendo o dataset Auto MPG, determine  polinômios de regressão para ajustar as curvas mpg vs horsepower e mpg x weight.  Faça algumas predições."
      ]
    },
    {
      "cell_type": "markdown",
      "source": [
        "**6.** No exemplo 8 refaça os cálculos usando treino e teste."
      ],
      "metadata": {
        "id": "bK9twyzHMUN1"
      }
    },
    {
      "cell_type": "markdown",
      "metadata": {
        "id": "aDmSKT165_3D"
      },
      "source": [
        "### Bibliografia\n",
        "\n",
        "**1.** Snehan Kekre, Linear Regression with NumPy and Python, Coursera Project Network, https://www.coursera.org/projects/linear-regression-numpy-python\n",
        "\n",
        "**2.** Gareth James, Daniela Witten, Trevor Hastie, Robert Tibshirani. An Introduction to Statistical Learning, 2nd ed., Springer, 2021.  https://www.statlearning.com/resources-second-edition"
      ]
    },
    {
      "cell_type": "code",
      "execution_count": null,
      "metadata": {
        "id": "sqO2ri4H5_3D"
      },
      "outputs": [],
      "source": []
    }
  ],
  "metadata": {
    "kernelspec": {
      "display_name": "Python 3 (ipykernel)",
      "language": "python",
      "name": "python3"
    },
    "language_info": {
      "codemirror_mode": {
        "name": "ipython",
        "version": 3
      },
      "file_extension": ".py",
      "mimetype": "text/x-python",
      "name": "python",
      "nbconvert_exporter": "python",
      "pygments_lexer": "ipython3",
      "version": "3.12.4"
    },
    "colab": {
      "provenance": [],
      "include_colab_link": true
    }
  },
  "nbformat": 4,
  "nbformat_minor": 0
}