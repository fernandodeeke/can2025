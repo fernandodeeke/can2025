{
 "cells": [
  {
   "cell_type": "markdown",
   "metadata": {},
   "source": [
    "<h1><center>Cálculo Numérico<br> 2025/1</center></h1>\n",
    "<center>Prof. Fernando Deeke Sasse - CCT, UDESC</center>"
   ]
  },
  {
   "cell_type": "markdown",
   "metadata": {},
   "source": [
    "<h2><center>Raízes de Equações Algébricas</center></h2>"
   ]
  },
  {
   "cell_type": "markdown",
   "metadata": {},
   "source": [
    "## 3. Método da Secante"
   ]
  },
  {
   "cell_type": "markdown",
   "metadata": {},
   "source": [
    "Para seguir o conteúdo deste notebook é necessário que o estudante tenha estudado previamente a teoria do método de Newton-Raphson. Veja o [item da Wikipedia](https://pt.wikipedia.org/wiki/Método_das_secantes), por exemplo, ou [esta página (UFRGS)](https://www.ufrgs.br/reamat/CalculoNumerico/livro-py/sdeduv-metodo_das_secantes.html). "
   ]
  },
  {
   "cell_type": "markdown",
   "metadata": {},
   "source": [
    "Inicialmente carregamos as bibliotecas imediatamente necessárias, que são a biblioteca de gráficos e a de matemática simbólica:"
   ]
  },
  {
   "cell_type": "code",
   "execution_count": 1,
   "metadata": {},
   "outputs": [],
   "source": [
    "from matplotlib.pyplot import *\n",
    "from sympy import *\n",
    "init_printing()"
   ]
  },
  {
   "cell_type": "markdown",
   "metadata": {},
   "source": [
    "Suponhamos que queremos determinar as raízes reais da equação $x^2-\\sin x-1/2=0$. Definimos inicialmente a variável *x* como sendo simbólica:"
   ]
  },
  {
   "cell_type": "code",
   "execution_count": 2,
   "metadata": {},
   "outputs": [],
   "source": [
    "x=symbols('x')"
   ]
  },
  {
   "cell_type": "markdown",
   "metadata": {},
   "source": [
    "Podemos agora definir a função:"
   ]
  },
  {
   "cell_type": "code",
   "execution_count": 13,
   "metadata": {},
   "outputs": [
    {
     "data": {
      "image/png": "[encoded data removed]",
      "text/latex": [
       "$\\displaystyle - x^{2} + x - 3 \\sin{\\left(x \\right)} + 2$"
      ],
      "text/plain": [
       "   2                   \n",
       "- x  + x - 3⋅sin(x) + 2"
      ]
     },
     "execution_count": 13,
     "metadata": {},
     "output_type": "execute_result"
    }
   ],
   "source": [
    "f= Lambda(x, -x**2-3*sin(x)+x+2)\n",
    "f(x)"
   ]
  },
  {
   "cell_type": "markdown",
   "metadata": {},
   "source": [
    "Agora é simples avaliar a função em qualquer ponto. Por exemplo, "
   ]
  },
  {
   "cell_type": "code",
   "execution_count": 14,
   "metadata": {},
   "outputs": [
    {
     "data": {
      "image/png": "[encoded data removed]",
      "text/latex": [
       "$\\displaystyle 2$"
      ],
      "text/plain": [
       "2"
      ]
     },
     "execution_count": 14,
     "metadata": {},
     "output_type": "execute_result"
    }
   ],
   "source": [
    "f(0)"
   ]
  },
  {
   "cell_type": "markdown",
   "metadata": {},
   "source": [
    "Façamos um gráfico desta função para localizar as raízes:"
   ]
  },
  {
   "cell_type": "code",
   "execution_count": 15,
   "metadata": {},
   "outputs": [
    {
     "data": {
      "image/png": "[encoded data removed]",
      "text/plain": [
       "<Figure size 432x288 with 1 Axes>"
      ]
     },
     "metadata": {
      "needs_background": "light"
     },
     "output_type": "display_data"
    },
    {
     "data": {
      "text/plain": [
       "<sympy.plotting.plot.Plot at 0x1d3e116cd30>"
      ]
     },
     "execution_count": 15,
     "metadata": {},
     "output_type": "execute_result"
    }
   ],
   "source": [
    "plot(f(x),(x,-3,3))"
   ]
  },
  {
   "cell_type": "markdown",
   "metadata": {},
   "source": [
    "Como o termo quadrático é dominante para grandes magnitudes de *x* sabemos que estas são as únicas raízes reais. O método das secantes tem a forma\n",
    "$$\n",
    "x_{i+2}=x_{i+1}-\\frac{f(x_{i+1})}{f(x_{i+1})-f(x_i)}(x_{i+1}-x_i)\\,.\n",
    "$$"
   ]
  },
  {
   "cell_type": "markdown",
   "metadata": {},
   "source": [
    "Dados dois pontos iniciais, digamos $x_0=1$ e $x_1=2$, podemos agora realizar uma iteração:"
   ]
  },
  {
   "cell_type": "code",
   "execution_count": 16,
   "metadata": {},
   "outputs": [
    {
     "data": {
      "image/png": "[encoded data removed]",
      "text/latex": [
       "$\\displaystyle 0.762006864224606$"
      ],
      "text/plain": [
       "0.762006864224606"
      ]
     },
     "execution_count": 16,
     "metadata": {},
     "output_type": "execute_result"
    }
   ],
   "source": [
    "x0=1.0\n",
    "x1=2.0\n",
    "x2=x1-f(x1)/(f(x1)-f(x0))*(x1-x0)\n",
    "x2"
   ]
  },
  {
   "cell_type": "markdown",
   "metadata": {},
   "source": [
    "Podemos repetir o processo 8 vezes:"
   ]
  },
  {
   "cell_type": "code",
   "execution_count": 17,
   "metadata": {},
   "outputs": [
    {
     "data": {
      "image/png": "[encoded data removed]",
      "text/latex": [
       "$\\displaystyle 0.8029487149120376$"
      ],
      "text/plain": [
       "0.8029487149120376"
      ]
     },
     "execution_count": 17,
     "metadata": {},
     "output_type": "execute_result"
    }
   ],
   "source": [
    "x0=1.0\n",
    "x1=2.0\n",
    "for i in range(1,8):\n",
    "    x2=float(x1-f(x1)/(f(x1)-f(x0))*(x1-x0))\n",
    "    x0=x1\n",
    "    x1=x2\n",
    "x2"
   ]
  },
  {
   "cell_type": "markdown",
   "metadata": {},
   "source": [
    "Verifiquemos a acurácia do resultado:"
   ]
  },
  {
   "cell_type": "code",
   "execution_count": 18,
   "metadata": {},
   "outputs": [
    {
     "data": {
      "image/png": "[encoded data removed]",
      "text/latex": [
       "$\\displaystyle 8.88178419700125 \\cdot 10^{-16}$"
      ],
      "text/plain": [
       "8.88178419700125e-16"
      ]
     },
     "execution_count": 18,
     "metadata": {},
     "output_type": "execute_result"
    }
   ],
   "source": [
    "f(x2)"
   ]
  },
  {
   "cell_type": "markdown",
   "metadata": {},
   "source": [
    "Para encontrar a outra raiz usamos como pontos iniciais $x_0=-2$ e $x_1=-1$:"
   ]
  },
  {
   "cell_type": "code",
   "execution_count": 19,
   "metadata": {},
   "outputs": [
    {
     "data": {
      "image/png": "[encoded data removed]",
      "text/latex": [
       "$\\displaystyle -1.7773321188495295$"
      ],
      "text/plain": [
       "-1.7773321188495295"
      ]
     },
     "execution_count": 19,
     "metadata": {},
     "output_type": "execute_result"
    }
   ],
   "source": [
    "x0=-2.0\n",
    "x1=-1.0\n",
    "for i in range(1,8):\n",
    "    x2=float(x1-f(x1)/(f(x1)-f(x0))*(x1-x0))\n",
    "    x0=x1\n",
    "    x1=x2\n",
    "x2"
   ]
  },
  {
   "cell_type": "code",
   "execution_count": 20,
   "metadata": {},
   "outputs": [
    {
     "data": {
      "image/png": "[encoded data removed]",
      "text/latex": [
       "$\\displaystyle 0$"
      ],
      "text/plain": [
       "0"
      ]
     },
     "execution_count": 20,
     "metadata": {},
     "output_type": "execute_result"
    }
   ],
   "source": [
    "f(x2)"
   ]
  },
  {
   "cell_type": "markdown",
   "metadata": {},
   "source": [
    "Podemos agora construir um procedimento em Python que tem como entrada a função, um ponto inicial e o número de iterações:"
   ]
  },
  {
   "cell_type": "code",
   "execution_count": 32,
   "metadata": {},
   "outputs": [],
   "source": [
    "def secante1(f,a,b,N):\n",
    "    x0=float(a)\n",
    "    x1=float(b)\n",
    "    for i in range(1,N):\n",
    "        x2=x1-f(x1)/(f(x1)-f(x0))*(x1-x0)\n",
    "        x0=x1\n",
    "        x1=x2\n",
    "    return x1"
   ]
  },
  {
   "cell_type": "code",
   "execution_count": 33,
   "metadata": {},
   "outputs": [
    {
     "data": {
      "image/png": "[encoded data removed]",
      "text/latex": [
       "$\\displaystyle 0.802948714912038$"
      ],
      "text/plain": [
       "0.802948714912038"
      ]
     },
     "execution_count": 33,
     "metadata": {},
     "output_type": "execute_result"
    }
   ],
   "source": [
    "r1=secante1(f,1.,2.,8)\n",
    "r1"
   ]
  },
  {
   "cell_type": "code",
   "execution_count": 34,
   "metadata": {},
   "outputs": [
    {
     "data": {
      "image/png": "[encoded data removed]",
      "text/latex": [
       "$\\displaystyle 8.88178419700125 \\cdot 10^{-16}$"
      ],
      "text/plain": [
       "8.88178419700125e-16"
      ]
     },
     "execution_count": 34,
     "metadata": {},
     "output_type": "execute_result"
    }
   ],
   "source": [
    "f(r1)"
   ]
  },
  {
   "cell_type": "code",
   "execution_count": 36,
   "metadata": {},
   "outputs": [
    {
     "data": {
      "image/png": "[encoded data removed]",
      "text/latex": [
       "$\\displaystyle -1.77733211884953$"
      ],
      "text/plain": [
       "-1.77733211884953"
      ]
     },
     "execution_count": 36,
     "metadata": {},
     "output_type": "execute_result"
    }
   ],
   "source": [
    "r2=secante1(f,-2,-1,8)\n",
    "r2"
   ]
  },
  {
   "cell_type": "code",
   "execution_count": 37,
   "metadata": {},
   "outputs": [
    {
     "data": {
      "image/png": "[encoded data removed]",
      "text/latex": [
       "$\\displaystyle 0$"
      ],
      "text/plain": [
       "0"
      ]
     },
     "execution_count": 37,
     "metadata": {},
     "output_type": "execute_result"
    }
   ],
   "source": [
    "f(r2)"
   ]
  },
  {
   "cell_type": "markdown",
   "metadata": {},
   "source": [
    "O seguinte procedimento tem como entrada um ponto inicial, o ponto inicial $a$, o número máximo de interações *Nmax* e a tolerância para o erro $\\epsilon$. Como saída temos a raiz e o número de interações realizadas:"
   ]
  },
  {
   "cell_type": "code",
   "execution_count": 38,
   "metadata": {},
   "outputs": [],
   "source": [
    "def secante3(f,a,b,Nmax, epsilon):\n",
    "    erro=1\n",
    "    n=0\n",
    "    x0=float(a)\n",
    "    x1=float(b)\n",
    "    while erro>epsilon and n<Nmax:\n",
    "            x2=float(x1-f(x1)/(f(x1)-f(x0))*(x1-x0))\n",
    "            x0=x1\n",
    "            x1=x2\n",
    "            erro=abs(x1-x0)\n",
    "            n=n+1 \n",
    "    return x1,n"
   ]
  },
  {
   "cell_type": "code",
   "execution_count": 39,
   "metadata": {},
   "outputs": [
    {
     "data": {
      "image/png": "[encoded data removed]",
      "text/latex": [
       "$\\displaystyle \\left( 0.8029487149120382, \\  5\\right)$"
      ],
      "text/plain": [
       "(0.8029487149120382, 5)"
      ]
     },
     "execution_count": 39,
     "metadata": {},
     "output_type": "execute_result"
    }
   ],
   "source": [
    "r1=secante3(f,1,2,20,10**(-8))\n",
    "r1"
   ]
  },
  {
   "cell_type": "markdown",
   "metadata": {},
   "source": [
    "Verifiquemos  a acurácia do resultado:"
   ]
  },
  {
   "cell_type": "code",
   "execution_count": 40,
   "metadata": {},
   "outputs": [
    {
     "data": {
      "image/png": "[encoded data removed]",
      "text/latex": [
       "$\\displaystyle -8.88178419700125 \\cdot 10^{-16}$"
      ],
      "text/plain": [
       "-8.88178419700125e-16"
      ]
     },
     "execution_count": 40,
     "metadata": {},
     "output_type": "execute_result"
    }
   ],
   "source": [
    "f(r1[0])"
   ]
  }
 ],
 "metadata": {
  "kernelspec": {
   "display_name": "Python 3 (ipykernel)",
   "language": "python",
   "name": "python3"
  },
  "language_info": {
   "codemirror_mode": {
    "name": "ipython",
    "version": 3
   },
   "file_extension": ".py",
   "mimetype": "text/x-python",
   "name": "python",
   "nbconvert_exporter": "python",
   "pygments_lexer": "ipython3",
   "version": "3.9.7"
  }
 },
 "nbformat": 4,
 "nbformat_minor": 2
}
