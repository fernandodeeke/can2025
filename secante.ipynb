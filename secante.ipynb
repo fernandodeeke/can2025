{
  "cells": [
    {
      "cell_type": "markdown",
      "metadata": {
        "id": "view-in-github",
        "colab_type": "text"
      },
      "source": [
        "<a href=\"https://colab.research.google.com/github/fernandodeeke/can2025/blob/main/secante.ipynb\" target=\"_parent\"><img src=\"https://colab.research.google.com/assets/colab-badge.svg\" alt=\"Open In Colab\"/></a>"
      ]
    },
    {
      "cell_type": "markdown",
      "metadata": {
        "id": "wZXtM1TeMKgV"
      },
      "source": [
        "<h1> </h1>\n",
        "<center><h1>Cálculo Numérico CAN0001</h1></center>\n",
        "<center><h2>2025/1</h2></center>\n",
        "<center><h3>Fernando Deeke Sasse</h3></center>\n",
        "<center><h3>CCT - UDESC</h3></center>\n",
        "<center><h2>Zeros de Funções: Método das Secantes</h2></center>"
      ]
    },
    {
      "cell_type": "markdown",
      "metadata": {
        "id": "kYYDoRMJMKgX"
      },
      "source": [
        "### 1. Implementação do método"
      ]
    },
    {
      "cell_type": "markdown",
      "metadata": {
        "id": "epXAdJNRMKgY"
      },
      "source": [
        "Para seguir o conteúdo deste notebook é necessário que o estudante tenha aprendido previamente sobre a teoria do método das secantes na aula. Para relembrar, veja o [item da Wikipedia](https://pt.wikipedia.org/wiki/Método_das_secantes), por exemplo, ou [esta página (UFRGS)](https://www.ufrgs.br/reamat/CalculoNumerico/livro-py/sdeduv-metodo_das_secantes.html)."
      ]
    },
    {
      "cell_type": "markdown",
      "metadata": {
        "id": "HBKQH1m9MKgY"
      },
      "source": [
        "Inicialmente carregamos as bibliotecas imediatamente necessárias, que são a biblioteca de gráficos e a de matemática simbólica:"
      ]
    },
    {
      "cell_type": "code",
      "execution_count": null,
      "metadata": {
        "id": "fxDR5HwKMKgZ"
      },
      "outputs": [],
      "source": [
        "from matplotlib.pyplot import *\n",
        "from sympy import *\n",
        "init_printing()"
      ]
    },
    {
      "cell_type": "markdown",
      "metadata": {
        "id": "vpqUB5BgMKgZ"
      },
      "source": [
        "Suponhamos que queremos determinar as raízes reais da equação $-x^2-3\\sin x+x+2=0$. Definimos inicialmente a variável *x* como sendo simbólica:"
      ]
    },
    {
      "cell_type": "code",
      "execution_count": null,
      "metadata": {
        "id": "lI5viOS-MKgZ"
      },
      "outputs": [],
      "source": [
        "x=symbols('x')"
      ]
    },
    {
      "cell_type": "markdown",
      "metadata": {
        "id": "8aXDjuQmMKgZ"
      },
      "source": [
        "Podemos agora definir a função:"
      ]
    },
    {
      "cell_type": "code",
      "execution_count": null,
      "metadata": {
        "id": "fHZr33lZMKga",
        "outputId": "6f202c1e-245a-4f33-eb00-9aa41b199059"
      },
      "outputs": [
        {
          "data": {
            "image/png": "[encoded data removed]",
            "text/latex": [
              "$\\displaystyle - x^{2} + x - 3 \\sin{\\left(x \\right)} + 2$"
            ],
            "text/plain": [
              "   2                   \n",
              "- x  + x - 3⋅sin(x) + 2"
            ]
          },
          "execution_count": 3,
          "metadata": {},
          "output_type": "execute_result"
        }
      ],
      "source": [
        "f= Lambda(x, -x**2-3*sin(x)+x+2)\n",
        "f(x)"
      ]
    },
    {
      "cell_type": "markdown",
      "metadata": {
        "id": "aRWc-lR-MKga"
      },
      "source": [
        "Agora é simples avaliar a função em qualquer ponto. Por exemplo,"
      ]
    },
    {
      "cell_type": "code",
      "execution_count": null,
      "metadata": {
        "id": "YH_FDHWsMKgb",
        "outputId": "f74b3aaa-893b-473d-e3f6-71a568ded95f"
      },
      "outputs": [
        {
          "data": {
            "image/png": "[encoded data removed]",
            "text/latex": [
              "$\\displaystyle 2$"
            ],
            "text/plain": [
              "2"
            ]
          },
          "execution_count": 4,
          "metadata": {},
          "output_type": "execute_result"
        }
      ],
      "source": [
        "f(0)"
      ]
    },
    {
      "cell_type": "markdown",
      "metadata": {
        "id": "bsNTaEngMKgb"
      },
      "source": [
        "Façamos um gráfico desta função para localizar as raízes:"
      ]
    },
    {
      "cell_type": "code",
      "execution_count": null,
      "metadata": {
        "id": "8QznB35UMKgb",
        "outputId": "75d3e121-8107-4230-fc77-d23d3b74154f"
      },
      "outputs": [
        {
          "data": {
            "image/png": "[encoded data removed]",
            "text/plain": [
              "<Figure size 432x288 with 1 Axes>"
            ]
          },
          "metadata": {
            "needs_background": "light"
          },
          "output_type": "display_data"
        },
        {
          "data": {
            "text/plain": [
              "<sympy.plotting.plot.Plot at 0x7fee3bf7a6d0>"
            ]
          },
          "execution_count": 5,
          "metadata": {},
          "output_type": "execute_result"
        }
      ],
      "source": [
        "plot(f(x),(x,-3,3))"
      ]
    },
    {
      "cell_type": "markdown",
      "metadata": {
        "id": "O7Dj3WGxMKgb"
      },
      "source": [
        "Como o termo quadrático é dominante para grandes magnitudes de *x* sabemos que estas são as únicas raízes reais. O método das secantes tem a forma\n",
        "$$\n",
        "x_{i+2}=x_{i+1}-\\frac{f(x_{i+1})}{f(x_{i+1})-f(x_i)}(x_{i+1}-x_i)\\,.\n",
        "$$"
      ]
    },
    {
      "cell_type": "markdown",
      "metadata": {
        "id": "87RRuyxTMKgb"
      },
      "source": [
        "Dados dois pontos iniciais, digamos $x_0=1$ e $x_1=2$, podemos agora realizar uma iteração:"
      ]
    },
    {
      "cell_type": "code",
      "execution_count": null,
      "metadata": {
        "id": "4UgHvXabMKgb",
        "outputId": "6a637f4d-b5a7-4ab8-c3b8-42ec17772174"
      },
      "outputs": [
        {
          "data": {
            "image/png": "[encoded data removed]",
            "text/latex": [
              "$\\displaystyle 0.762006864224606$"
            ],
            "text/plain": [
              "0.762006864224606"
            ]
          },
          "execution_count": 6,
          "metadata": {},
          "output_type": "execute_result"
        }
      ],
      "source": [
        "x0=1.0\n",
        "x1=2.0\n",
        "x2=x1-f(x1)/(f(x1)-f(x0))*(x1-x0)\n",
        "x2"
      ]
    },
    {
      "cell_type": "markdown",
      "metadata": {
        "id": "p-kiuvK5MKgb"
      },
      "source": [
        "Podemos repetir o processo 8 vezes:"
      ]
    },
    {
      "cell_type": "code",
      "execution_count": null,
      "metadata": {
        "id": "qT5sDL3qMKgb",
        "outputId": "1bb53c16-511b-4965-df21-a482b1c7c48a"
      },
      "outputs": [
        {
          "data": {
            "image/png": "[encoded data removed]",
            "text/latex": [
              "$\\displaystyle 0.8029487149120376$"
            ],
            "text/plain": [
              "0.8029487149120376"
            ]
          },
          "execution_count": 7,
          "metadata": {},
          "output_type": "execute_result"
        }
      ],
      "source": [
        "x0=1.0\n",
        "x1=2.0\n",
        "for i in range(1,8):\n",
        "    x2=float(x1-f(x1)/(f(x1)-f(x0))*(x1-x0))\n",
        "    x0=x1\n",
        "    x1=x2\n",
        "x2"
      ]
    },
    {
      "cell_type": "markdown",
      "metadata": {
        "id": "N0w_-oLJMKgc"
      },
      "source": [
        "Verifiquemos a acurácia do resultado:"
      ]
    },
    {
      "cell_type": "code",
      "execution_count": null,
      "metadata": {
        "id": "Wy6ZdaYjMKgc",
        "outputId": "6675e8c8-4ca0-4552-95e2-3c3bdefd823f"
      },
      "outputs": [
        {
          "data": {
            "image/png": "[encoded data removed]",
            "text/latex": [
              "$\\displaystyle 8.88178419700125 \\cdot 10^{-16}$"
            ],
            "text/plain": [
              "8.88178419700125e-16"
            ]
          },
          "execution_count": 11,
          "metadata": {},
          "output_type": "execute_result"
        }
      ],
      "source": [
        "f(x2)"
      ]
    },
    {
      "cell_type": "markdown",
      "metadata": {
        "id": "Zbgz4rE_MKgc"
      },
      "source": [
        "Para encontrar a outra raiz usamos como pontos iniciais $x_0=-2$ e $x_1=-1$:"
      ]
    },
    {
      "cell_type": "code",
      "execution_count": null,
      "metadata": {
        "id": "SMVKEJ98MKgc",
        "outputId": "9f6a3d78-422f-4500-da85-a17ef9500cf6"
      },
      "outputs": [
        {
          "data": {
            "image/png": "[encoded data removed]",
            "text/latex": [
              "$\\displaystyle -1.7773321188495295$"
            ],
            "text/plain": [
              "-1.7773321188495295"
            ]
          },
          "execution_count": 8,
          "metadata": {},
          "output_type": "execute_result"
        }
      ],
      "source": [
        "x0=-2.0\n",
        "x1=-1.0\n",
        "for i in range(1,8):\n",
        "    x2=float(x1-f(x1)/(f(x1)-f(x0))*(x1-x0))\n",
        "    x0=x1\n",
        "    x1=x2\n",
        "x2"
      ]
    },
    {
      "cell_type": "code",
      "execution_count": null,
      "metadata": {
        "id": "s6g4R6TsMKgc",
        "outputId": "e9f4e4a5-2295-4ae7-e492-c77d9c1c1bcb"
      },
      "outputs": [
        {
          "data": {
            "image/png": "[encoded data removed]",
            "text/latex": [
              "$\\displaystyle 0$"
            ],
            "text/plain": [
              "0"
            ]
          },
          "execution_count": 9,
          "metadata": {},
          "output_type": "execute_result"
        }
      ],
      "source": [
        "f(x2)"
      ]
    },
    {
      "cell_type": "markdown",
      "metadata": {
        "id": "-sB6weEXMKgc"
      },
      "source": [
        "Podemos agora construir um procedimento em Python que tem como entrada a função, um ponto inicial e o número de iterações:"
      ]
    },
    {
      "cell_type": "code",
      "execution_count": null,
      "metadata": {
        "id": "1fODgMoLMKgc"
      },
      "outputs": [],
      "source": [
        "def secante1(f,a,b,N):\n",
        "    x0=float(a)\n",
        "    x1=float(b)\n",
        "    for i in range(1,N):\n",
        "        x2=x1-f(x1)/(f(x1)-f(x0))*(x1-x0)\n",
        "        x0=x1\n",
        "        x1=x2\n",
        "    return x1"
      ]
    },
    {
      "cell_type": "code",
      "execution_count": null,
      "metadata": {
        "id": "CxAtZB_1MKgc",
        "outputId": "c3989d32-8ec2-445a-d67f-87dd976dfff1"
      },
      "outputs": [
        {
          "data": {
            "image/png": "[encoded data removed]",
            "text/latex": [
              "$\\displaystyle 0.802948714912038$"
            ],
            "text/plain": [
              "0.802948714912038"
            ]
          },
          "execution_count": 15,
          "metadata": {},
          "output_type": "execute_result"
        }
      ],
      "source": [
        "r1=secante1(f,1.,2.,8)\n",
        "r1"
      ]
    },
    {
      "cell_type": "code",
      "execution_count": null,
      "metadata": {
        "id": "iJ4ScsNfMKgd",
        "outputId": "81d54eeb-7762-46ec-a6d6-c27c60de609e"
      },
      "outputs": [
        {
          "data": {
            "image/png": "[encoded data removed]",
            "text/latex": [
              "$\\displaystyle 8.88178419700125 \\cdot 10^{-16}$"
            ],
            "text/plain": [
              "8.88178419700125e-16"
            ]
          },
          "execution_count": 16,
          "metadata": {},
          "output_type": "execute_result"
        }
      ],
      "source": [
        "f(r1)"
      ]
    },
    {
      "cell_type": "code",
      "execution_count": null,
      "metadata": {
        "id": "GhYeX93kMKgd",
        "outputId": "bbdcc03c-89ef-447d-c53f-76380bf305aa"
      },
      "outputs": [
        {
          "data": {
            "image/png": "[encoded data removed]",
            "text/latex": [
              "$\\displaystyle -1.77733211884953$"
            ],
            "text/plain": [
              "-1.77733211884953"
            ]
          },
          "execution_count": 17,
          "metadata": {},
          "output_type": "execute_result"
        }
      ],
      "source": [
        "r2=secante1(f,-2,-1,8)\n",
        "r2"
      ]
    },
    {
      "cell_type": "code",
      "execution_count": null,
      "metadata": {
        "id": "u2_PIcW9MKgd",
        "outputId": "93673b61-5af6-4171-96cc-89f3a17ac0a6"
      },
      "outputs": [
        {
          "data": {
            "image/png": "[encoded data removed]",
            "text/latex": [
              "$\\displaystyle 0$"
            ],
            "text/plain": [
              "0"
            ]
          },
          "execution_count": 18,
          "metadata": {},
          "output_type": "execute_result"
        }
      ],
      "source": [
        "f(r2)"
      ]
    },
    {
      "cell_type": "markdown",
      "metadata": {
        "id": "URSrV5IPMKgd"
      },
      "source": [
        "O seguinte procedimento tem como entrada um ponto inicial, o ponto inicial $a$, o número máximo de interações *Nmax* e a tolerância para o erro $\\epsilon$. Como saída temos a raiz e o número de interações realizadas:"
      ]
    },
    {
      "cell_type": "code",
      "execution_count": null,
      "metadata": {
        "id": "Biy4UkPsMKgd"
      },
      "outputs": [],
      "source": [
        "def secante3(f,a,b,Nmax, epsilon):\n",
        "    erro=1\n",
        "    n=0\n",
        "    x0=float(a)\n",
        "    x1=float(b)\n",
        "    while erro>epsilon and n<Nmax:\n",
        "            x2=float(x1-f(x1)/(f(x1)-f(x0))*(x1-x0))\n",
        "            x0=x1\n",
        "            x1=x2\n",
        "            erro=abs(x1-x0)\n",
        "            n=n+1\n",
        "    return x1,n"
      ]
    },
    {
      "cell_type": "code",
      "execution_count": null,
      "metadata": {
        "id": "emuS3Bc9MKgd",
        "outputId": "eb799a50-8ca9-45a4-f13b-90bb160a1d10"
      },
      "outputs": [
        {
          "data": {
            "image/png": "[encoded data removed]",
            "text/latex": [
              "$\\displaystyle \\left( 0.802948714912038, \\  5\\right)$"
            ],
            "text/plain": [
              "(0.8029487149120382, 5)"
            ]
          },
          "execution_count": 20,
          "metadata": {},
          "output_type": "execute_result"
        }
      ],
      "source": [
        "r1=secante3(f,1,2,20,10**(-8))\n",
        "r1"
      ]
    },
    {
      "cell_type": "markdown",
      "metadata": {
        "id": "U0s7ZOIDMKgd"
      },
      "source": [
        "Verifiquemos  a acurácia do resultado:"
      ]
    },
    {
      "cell_type": "code",
      "execution_count": null,
      "metadata": {
        "scrolled": true,
        "id": "oMr7vK6eMKgd",
        "outputId": "14905533-33d3-4861-a553-c33e2ab4d640"
      },
      "outputs": [
        {
          "data": {
            "image/png": "[encoded data removed]",
            "text/latex": [
              "$\\displaystyle -8.88178419700125 \\cdot 10^{-16}$"
            ],
            "text/plain": [
              "-8.88178419700125e-16"
            ]
          },
          "execution_count": 21,
          "metadata": {},
          "output_type": "execute_result"
        }
      ],
      "source": [
        "f(r1[0])"
      ]
    },
    {
      "cell_type": "markdown",
      "metadata": {
        "id": "q6o93_S9MKge"
      },
      "source": [
        "### 2. Exercícios"
      ]
    },
    {
      "cell_type": "markdown",
      "metadata": {
        "id": "v8P-aksqMKge"
      },
      "source": [
        "\n",
        "<bf>1.</bf> Seja a função $f(x)=x^2+x\\cos x +x-1$. <br>\n",
        "(i) Faça um gráfico desta função. <br>\n",
        "(ii) Determine todas as raízes reais, usando o método das secantes, com uma tolerância de intervalo $\\epsilon = 10^{-10}$.<br>\n",
        "(iii) Resolva o mesmo problema usando o método de Newton-Raphson e compare com o método das secantes.<br>"
      ]
    }
  ],
  "metadata": {
    "kernelspec": {
      "display_name": "Python 3",
      "language": "python",
      "name": "python3"
    },
    "language_info": {
      "codemirror_mode": {
        "name": "ipython",
        "version": 3
      },
      "file_extension": ".py",
      "mimetype": "text/x-python",
      "name": "python",
      "nbconvert_exporter": "python",
      "pygments_lexer": "ipython3",
      "version": "3.8.5"
    },
    "colab": {
      "provenance": [],
      "include_colab_link": true
    }
  },
  "nbformat": 4,
  "nbformat_minor": 0
}