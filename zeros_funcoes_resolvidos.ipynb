{
  "cells": [
    {
      "cell_type": "markdown",
      "metadata": {
        "id": "view-in-github",
        "colab_type": "text"
      },
      "source": [
        "<a href=\"https://colab.research.google.com/github/fernandodeeke/can2025/blob/main/zeros_funcoes_resolvidos.ipynb\" target=\"_parent\"><img src=\"https://colab.research.google.com/assets/colab-badge.svg\" alt=\"Open In Colab\"/></a>"
      ]
    },
    {
      "cell_type": "markdown",
      "metadata": {
        "id": "quusyMjWN8Ya"
      },
      "source": [
        "<h1></h1>\n",
        "<center><h1>Cálculo Numérico CAN0001</h1></center>\n",
        "<center><h2>2025/1</h2></center>\n",
        "<center><h3>Fernando Deeke Sasse</h3></center>\n",
        "<center><h3>CCT - UDESC</h3></center>\n",
        "<center><h2>Zeros de Funções: Problemas Resolvidos</h2></center>"
      ]
    },
    {
      "cell_type": "markdown",
      "metadata": {
        "id": "vhqgzdBTN8Yc"
      },
      "source": [
        "**1**.   Seja $f(x) = \\cos(x^2)+\\sin x+1$. Use o método da bissecção para encontrar a menor raiz positiva. Use o número de iterações mínimo para garantir uma acurácia maior que $10^{-8}$ para o intervalo que contém a raiz. Apresente gráficos.\n"
      ]
    },
    {
      "cell_type": "markdown",
      "metadata": {
        "id": "JM_exl-rN8Yd"
      },
      "source": [
        "Usaremos a biblioteca simpy."
      ]
    },
    {
      "cell_type": "code",
      "execution_count": null,
      "metadata": {
        "id": "omYBfFdPN8Yd"
      },
      "outputs": [],
      "source": [
        "from matplotlib.pyplot import *\n",
        "from sympy import *\n",
        "init_printing()"
      ]
    },
    {
      "cell_type": "code",
      "execution_count": null,
      "metadata": {
        "id": "uDNv4DyhN8Ye",
        "outputId": "700089db-8dec-4b84-9b18-89d5b7e215da"
      },
      "outputs": [
        {
          "data": {
            "image/png": "[encoded data removed]",
            "text/latex": [
              "$\\displaystyle \\sin{\\left(x \\right)} + \\cos{\\left(x^{2} \\right)} + 1$"
            ],
            "text/plain": [
              "            ⎛ 2⎞    \n",
              "sin(x) + cos⎝x ⎠ + 1"
            ]
          },
          "execution_count": 2,
          "metadata": {},
          "output_type": "execute_result"
        }
      ],
      "source": [
        "x=symbols('x')\n",
        "f= Lambda(x, cos(x**2)+sin(x)+1)\n",
        "f(x)"
      ]
    },
    {
      "cell_type": "markdown",
      "metadata": {
        "id": "xlPRYn_ON8Ye"
      },
      "source": [
        "Façamos o gráfico para localizar as raízes reais:"
      ]
    },
    {
      "cell_type": "code",
      "execution_count": null,
      "metadata": {
        "id": "tIMJaUeIN8Yf",
        "outputId": "76c0621f-c23a-40e4-e76a-aa3a129d2ada"
      },
      "outputs": [
        {
          "data": {
            "image/png": "[encoded data removed]",
            "text/plain": [
              "<Figure size 432x288 with 1 Axes>"
            ]
          },
          "metadata": {
            "needs_background": "light"
          },
          "output_type": "display_data"
        },
        {
          "data": {
            "text/plain": [
              "<sympy.plotting.plot.Plot at 0x7fba0c836eb0>"
            ]
          },
          "execution_count": 4,
          "metadata": {},
          "output_type": "execute_result"
        }
      ],
      "source": [
        "plot(f(x),(x,0,6))"
      ]
    },
    {
      "cell_type": "markdown",
      "metadata": {
        "id": "OQs_vrRaN8Yf"
      },
      "source": [
        "A menor raiz positiva está entre 3 e 4.  Podemos usar a seguinte função que implementa o método da bissecção:"
      ]
    },
    {
      "cell_type": "code",
      "execution_count": null,
      "metadata": {
        "id": "nC_trvUbN8Yf"
      },
      "outputs": [],
      "source": [
        "def bisseccao2(f,A,B,Nmax, epsilon):\n",
        "    a=A\n",
        "    b=B\n",
        "    erro=1\n",
        "    n=0\n",
        "    while erro>epsilon and n<Nmax:\n",
        "        if f(a)*f(b)>=0:\n",
        "            print('O metodo falhou')\n",
        "            return None\n",
        "        m=(a+b)/2\n",
        "        if f(a)*f(m)<0:\n",
        "            b=m\n",
        "        else:\n",
        "            a=m\n",
        "        erro=abs(a-b)\n",
        "        n=n+1\n",
        "    return (a+b)/2,n"
      ]
    },
    {
      "cell_type": "code",
      "execution_count": null,
      "metadata": {
        "id": "Tf15qG5FN8Yf",
        "outputId": "b065fa24-40f0-4733-9524-4899bf7d30e5"
      },
      "outputs": [
        {
          "data": {
            "image/png": "[encoded data removed]",
            "text/latex": [
              "$\\displaystyle \\left( 3.8113162629306316, \\  27\\right)$"
            ],
            "text/plain": [
              "(3.8113162629306316, 27)"
            ]
          },
          "execution_count": 12,
          "metadata": {},
          "output_type": "execute_result"
        }
      ],
      "source": [
        "r = bisseccao2(f,3.,4.,60, 10**(-8))\n",
        "r"
      ]
    },
    {
      "cell_type": "markdown",
      "metadata": {
        "id": "gN_pjLQxN8Yf"
      },
      "source": [
        "Portanto tivemos que usar 27 iterações para obter a raiz."
      ]
    },
    {
      "cell_type": "code",
      "execution_count": null,
      "metadata": {
        "id": "IspDqiCVN8Yg",
        "outputId": "edd0f238-0b24-4b3f-d9ce-dc1a3f49ef1d"
      },
      "outputs": [
        {
          "data": {
            "image/png": "[encoded data removed]",
            "text/latex": [
              "$\\displaystyle 3.8113162629306316$"
            ],
            "text/plain": [
              "3.8113162629306316"
            ]
          },
          "execution_count": 14,
          "metadata": {},
          "output_type": "execute_result"
        }
      ],
      "source": [
        "r[0]"
      ]
    },
    {
      "cell_type": "markdown",
      "metadata": {
        "id": "mFQukpLdN8Yg"
      },
      "source": [
        "**2**.  Usando a função definida no problema anterior, use o método de Newton-Raphson para determinar o extremo relativo $(z, f(z))$, $z>0$, mais próximo da origem. Use um número de iterações mínimo para para garantir uma acurácia maior que $10^{-10}$ para o intervalo que contém $z$. Apresente gráficos."
      ]
    },
    {
      "cell_type": "markdown",
      "metadata": {
        "id": "RopC3XJvN8Yg"
      },
      "source": [
        "Devemos calcular procurar a primeira raiz real de $df/dx=0$:"
      ]
    },
    {
      "cell_type": "code",
      "execution_count": null,
      "metadata": {
        "id": "T3noiZqGN8Yg",
        "outputId": "123aeb08-6c07-4031-a89f-7f45d126c66d"
      },
      "outputs": [
        {
          "data": {
            "image/png": "[encoded data removed]",
            "text/latex": [
              "$\\displaystyle - 2 x \\sin{\\left(x^{2} \\right)} + \\cos{\\left(x \\right)}$"
            ],
            "text/plain": [
              "         ⎛ 2⎞         \n",
              "- 2⋅x⋅sin⎝x ⎠ + cos(x)"
            ]
          },
          "execution_count": 85,
          "metadata": {},
          "output_type": "execute_result"
        }
      ],
      "source": [
        "F=diff(f(x),x)\n",
        "F"
      ]
    },
    {
      "cell_type": "code",
      "execution_count": null,
      "metadata": {
        "id": "1_s3xcWVN8Yg",
        "outputId": "acf6d31f-d1e8-46ed-8515-7904cc9a69f3"
      },
      "outputs": [
        {
          "data": {
            "image/png": "[encoded data removed]",
            "text/latex": [
              "$\\displaystyle \\left( x \\mapsto - 2 x \\sin{\\left(x^{2} \\right)} + \\cos{\\left(x \\right)} \\right)$"
            ],
            "text/plain": [
              "             ⎛ 2⎞         \n",
              "x ↦ - 2⋅x⋅sin⎝x ⎠ + cos(x)"
            ]
          },
          "execution_count": 86,
          "metadata": {},
          "output_type": "execute_result"
        }
      ],
      "source": [
        "G = Lambda(x, F)\n",
        "G"
      ]
    },
    {
      "cell_type": "markdown",
      "metadata": {
        "id": "1AdUfmHcN8Yg"
      },
      "source": [
        "Façamos um gráfico:"
      ]
    },
    {
      "cell_type": "code",
      "execution_count": null,
      "metadata": {
        "id": "3TmMgl-1N8Yg",
        "outputId": "ea960b21-0f53-4df4-e61d-40a79b8f3fa0"
      },
      "outputs": [
        {
          "data": {
            "image/png": "[encoded data removed]",
            "text/plain": [
              "<Figure size 432x288 with 1 Axes>"
            ]
          },
          "metadata": {
            "needs_background": "light"
          },
          "output_type": "display_data"
        },
        {
          "data": {
            "text/plain": [
              "<sympy.plotting.plot.Plot at 0x7fba0ceaf430>"
            ]
          },
          "execution_count": 87,
          "metadata": {},
          "output_type": "execute_result"
        }
      ],
      "source": [
        "plot(G(x),(x,0,1))"
      ]
    },
    {
      "cell_type": "markdown",
      "metadata": {
        "id": "Stq-YiDxN8Yg"
      },
      "source": [
        "As iterações de Newton-Raphson são da forma:\n",
        "\n",
        "$$\n",
        "x_{i+1}=x_i-\\frac{G(x_i)}{G'(x_i)}\\,.\n",
        "$$"
      ]
    },
    {
      "cell_type": "markdown",
      "metadata": {
        "id": "P0aE3CjXN8Yg"
      },
      "source": [
        "Usaremos a seguinte função que implenta o método de Newton-Raphson:"
      ]
    },
    {
      "cell_type": "code",
      "execution_count": null,
      "metadata": {
        "id": "hJh4IiM-N8Yh"
      },
      "outputs": [],
      "source": [
        "def newton_raphson3(f,a,Nmax, epsilon):\n",
        "    erro=1\n",
        "    n=0\n",
        "    x0=float(a)\n",
        "    df=diff(f(x),x)\n",
        "    Df= Lambda(x,df)\n",
        "    while erro>epsilon and n<Nmax:\n",
        "        x1=x0-f(x0)/Df(x0)\n",
        "        erro=abs(x1-x0)\n",
        "        n=n+1\n",
        "        x0=x1\n",
        "    return x1,n"
      ]
    },
    {
      "cell_type": "code",
      "execution_count": null,
      "metadata": {
        "id": "dcS1PD1EN8Yh"
      },
      "outputs": [],
      "source": [
        "epsilon = 10**(-10)\n",
        "Nmax = 40\n",
        "a = 0.6"
      ]
    },
    {
      "cell_type": "markdown",
      "metadata": {
        "id": "nwxtbYHzN8Yh"
      },
      "source": [
        "O valor de $x=z$ que dá o primeiro extremo relativo mostrado no gráfico é dado por"
      ]
    },
    {
      "cell_type": "code",
      "execution_count": null,
      "metadata": {
        "id": "JhnKsMwhN8Yh",
        "outputId": "3f8324e5-44fb-40e4-ad37-9f00a080a928"
      },
      "outputs": [
        {
          "data": {
            "image/png": "[encoded data removed]",
            "text/latex": [
              "$\\displaystyle \\left( 0.730978270667906, \\  5\\right)$"
            ],
            "text/plain": [
              "(0.730978270667906, 5)"
            ]
          },
          "execution_count": 92,
          "metadata": {},
          "output_type": "execute_result"
        }
      ],
      "source": [
        "z = newton_raphson3(G,a,Nmax,epsilon)\n",
        "z"
      ]
    },
    {
      "cell_type": "markdown",
      "metadata": {
        "id": "qWWq5O00N8Yh"
      },
      "source": [
        "Neste ponto a função $f$ tem o valor"
      ]
    },
    {
      "cell_type": "code",
      "execution_count": null,
      "metadata": {
        "id": "eVEVq6mMN8Yh",
        "outputId": "745eac63-8885-428c-899d-2842eb53d70d"
      },
      "outputs": [
        {
          "data": {
            "image/png": "[encoded data removed]",
            "text/latex": [
              "$\\displaystyle 2.52820871872329$"
            ],
            "text/plain": [
              "2.52820871872329"
            ]
          },
          "execution_count": 94,
          "metadata": {},
          "output_type": "execute_result"
        }
      ],
      "source": [
        "f(z[0])"
      ]
    },
    {
      "cell_type": "markdown",
      "metadata": {
        "id": "9DA0ft6hN8Yh"
      },
      "source": [
        "Tal valor está de acordo com o gráfico."
      ]
    },
    {
      "cell_type": "markdown",
      "metadata": {
        "id": "7B4bwv_nN8Yh"
      },
      "source": [
        "**3**. Seja $f(x) = \\ln(1/x)+1/x^2+1$. Use o método das secantes para encontrar a raiz real. Use o número de iterações mínimo para garantir uma acurácia maior que $10^{-8}$ para o intervalo que contém a raiz. Apresente gráficos."
      ]
    },
    {
      "cell_type": "code",
      "execution_count": null,
      "metadata": {
        "id": "p72t9UmHN8Yh"
      },
      "outputs": [],
      "source": [
        "from matplotlib.pyplot import *\n",
        "from sympy import *\n",
        "init_printing()"
      ]
    },
    {
      "cell_type": "code",
      "execution_count": null,
      "metadata": {
        "id": "sn0maAMHN8Yh",
        "outputId": "76aab198-105c-436f-905e-350efc13e581"
      },
      "outputs": [
        {
          "data": {
            "image/png": "[encoded data removed]",
            "text/latex": [
              "$\\displaystyle \\log{\\left(\\frac{1}{x} \\right)} + 1 + \\frac{1}{x^{2}}$"
            ],
            "text/plain": [
              "   ⎛1⎞       1 \n",
              "log⎜─⎟ + 1 + ──\n",
              "   ⎝x⎠        2\n",
              "             x "
            ]
          },
          "execution_count": 97,
          "metadata": {},
          "output_type": "execute_result"
        }
      ],
      "source": [
        "x=symbols('x')\n",
        "f= Lambda(x, ln(1/x)+1/x**2+1)\n",
        "f(x)"
      ]
    },
    {
      "cell_type": "code",
      "execution_count": null,
      "metadata": {
        "id": "VciiSKZdN8Yi",
        "outputId": "7d4e98b6-11fb-4579-d504-0fac5d65812b"
      },
      "outputs": [
        {
          "data": {
            "image/png": "[encoded data removed]",
            "text/plain": [
              "<Figure size 432x288 with 1 Axes>"
            ]
          },
          "metadata": {
            "needs_background": "light"
          },
          "output_type": "display_data"
        },
        {
          "data": {
            "text/plain": [
              "<sympy.plotting.plot.Plot at 0x7fba0ca25880>"
            ]
          },
          "execution_count": 100,
          "metadata": {},
          "output_type": "execute_result"
        }
      ],
      "source": [
        "plot(f(x),(x,1,4))"
      ]
    },
    {
      "cell_type": "markdown",
      "metadata": {
        "id": "dHRuvJLyN8Yi"
      },
      "source": [
        "Temos uma raiz próxima a $x=3$. Utilizaremos a seguinte função para o método das secantes:"
      ]
    },
    {
      "cell_type": "code",
      "execution_count": null,
      "metadata": {
        "id": "5q68IY1eN8Yi"
      },
      "outputs": [],
      "source": [
        "def secante3(f,a,b,Nmax, epsilon):\n",
        "    erro=1\n",
        "    n=0\n",
        "    x0=float(a)\n",
        "    x1=float(b)\n",
        "    while erro>epsilon and n<Nmax:\n",
        "            x2=float(x1-f(x1)/(f(x1)-f(x0))*(x1-x0))\n",
        "            x0=x1\n",
        "            x1=x2\n",
        "            erro=abs(x1-x0)\n",
        "            n=n+1\n",
        "    return x1,n"
      ]
    },
    {
      "cell_type": "code",
      "execution_count": null,
      "metadata": {
        "id": "QjDrKbiJN8Yi"
      },
      "outputs": [],
      "source": [
        "a=3\n",
        "b=3.3\n",
        "Nmax=40\n",
        "epsilon=10**(-8)"
      ]
    },
    {
      "cell_type": "code",
      "execution_count": null,
      "metadata": {
        "id": "haB5dLihN8Yi",
        "outputId": "598e300a-9a92-460b-c62c-376ad6b18a12"
      },
      "outputs": [
        {
          "data": {
            "image/png": "[encoded data removed]",
            "text/latex": [
              "$\\displaystyle \\left( 3.03089377986879, \\  5\\right)$"
            ],
            "text/plain": [
              "(3.03089377986879, 5)"
            ]
          },
          "execution_count": 107,
          "metadata": {},
          "output_type": "execute_result"
        }
      ],
      "source": [
        "r3 = secante3(f,a,b,Nmax, epsilon)\n",
        "r3"
      ]
    },
    {
      "cell_type": "markdown",
      "metadata": {
        "id": "mE5_oP68N8Yi"
      },
      "source": [
        "Tal valor está de acordo com o gráfico."
      ]
    },
    {
      "cell_type": "markdown",
      "metadata": {
        "id": "7dhA54MHN8Yi"
      },
      "source": [
        "**4**. Determine todas as raízes reais de $f(x)=\\sin x-\\sin(x^3)-1$ no intervalo [0,4], usando o solver do sistema. Verfique a acurácia dos resultados para as raízes , calculando para cada caso. Apresente gráficos."
      ]
    },
    {
      "cell_type": "markdown",
      "metadata": {
        "id": "wjvt06M_N8Yi"
      },
      "source": [
        "Usaremos numpy e scipy.optimize:"
      ]
    },
    {
      "cell_type": "code",
      "execution_count": null,
      "metadata": {
        "id": "u2gcmE6_N8Yi"
      },
      "outputs": [],
      "source": [
        "from matplotlib.pyplot import *\n",
        "from numpy import *\n",
        "from scipy.optimize import *"
      ]
    },
    {
      "cell_type": "markdown",
      "metadata": {
        "id": "Lxr74H8JN8Yj"
      },
      "source": [
        "Definimos a função:"
      ]
    },
    {
      "cell_type": "code",
      "execution_count": null,
      "metadata": {
        "id": "QleOUMATN8Yj"
      },
      "outputs": [],
      "source": [
        " def f(x):\n",
        "        return sin(x)-sin(x**3)-1"
      ]
    },
    {
      "cell_type": "code",
      "execution_count": null,
      "metadata": {
        "id": "g7XXFTlbN8Yj",
        "outputId": "d7c257a3-a15e-424c-d7a9-4b80e9a04ced"
      },
      "outputs": [
        {
          "data": {
            "text/plain": [
              "<matplotlib.lines.Line2D at 0x7f84728de7f0>"
            ]
          },
          "execution_count": 11,
          "metadata": {},
          "output_type": "execute_result"
        },
        {
          "data": {
            "image/png": "[encoded data removed]",
            "text/plain": [
              "<Figure size 432x288 with 1 Axes>"
            ]
          },
          "metadata": {
            "needs_background": "light"
          },
          "output_type": "display_data"
        }
      ],
      "source": [
        "x=linspace(0,4,100)\n",
        "fig, ax = subplots()\n",
        "ax.grid(True, which='both')\n",
        "ax.plot(x, f(x))\n",
        "ax.axhline(y=0, color='k')\n",
        "ax.axvline(x=0, color='k')"
      ]
    },
    {
      "cell_type": "markdown",
      "metadata": {
        "id": "jH90ScZBN8Yj"
      },
      "source": [
        "Temos possivelmente 10 raízes. Examinemos com mais cuidado o ponto em que a curva aparentemente toca o eixo $x$:"
      ]
    },
    {
      "cell_type": "code",
      "execution_count": null,
      "metadata": {
        "id": "uGiL-DrXN8Yj",
        "outputId": "5d907a13-75a1-470d-be43-fc3578ff8dcf"
      },
      "outputs": [
        {
          "data": {
            "text/plain": [
              "<matplotlib.lines.Line2D at 0x7f84729af8b0>"
            ]
          },
          "execution_count": 12,
          "metadata": {},
          "output_type": "execute_result"
        },
        {
          "data": {
            "image/png": "[encoded data removed]",
            "text/plain": [
              "<Figure size 432x288 with 1 Axes>"
            ]
          },
          "metadata": {
            "needs_background": "light"
          },
          "output_type": "display_data"
        }
      ],
      "source": [
        "x=linspace(3,3.3,100)\n",
        "fig, ax = subplots()\n",
        "ax.grid(True, which='both')\n",
        "ax.plot(x, f(x))\n",
        "ax.axhline(y=0, color='k')\n",
        "ax.axvline(x=3, color='k')"
      ]
    },
    {
      "cell_type": "markdown",
      "metadata": {
        "id": "iSg3E9jbN8Yj"
      },
      "source": [
        "Tal gráfico confirma que temos realmente 10 raízes reais no intervalo [0,4]."
      ]
    },
    {
      "cell_type": "markdown",
      "metadata": {
        "id": "R8B7qnCIN8Yj"
      },
      "source": [
        "Tal gráfico confirma que temos realmente 10 raízes reais no intervalo [0,4]. Busquemos as 10 raízes selecionando cada ponto inicial separadamente, usando um gráfico mais detalhado, quando necessário. Usaremos o comando fsolve."
      ]
    },
    {
      "cell_type": "code",
      "execution_count": null,
      "metadata": {
        "id": "-4h1U9pxN8Yj",
        "outputId": "e71a36ff-d272-4516-a231-5bbb6b263b52"
      },
      "outputs": [
        {
          "data": {
            "text/plain": [
              "array([1.46545283])"
            ]
          },
          "execution_count": 157,
          "metadata": {},
          "output_type": "execute_result"
        }
      ],
      "source": [
        "r1 = fsolve(f, [1.43])\n",
        "r1"
      ]
    },
    {
      "cell_type": "code",
      "execution_count": null,
      "metadata": {
        "id": "DXo0lNLuN8Yj",
        "outputId": "871b24e3-739a-44ca-f3d0-93b10af96338"
      },
      "outputs": [
        {
          "data": {
            "text/plain": [
              "array([1.84169236])"
            ]
          },
          "execution_count": 161,
          "metadata": {},
          "output_type": "execute_result"
        }
      ],
      "source": [
        "r2 = fsolve(f, [1.8])\n",
        "r2"
      ]
    },
    {
      "cell_type": "code",
      "execution_count": null,
      "metadata": {
        "id": "e_xuT3SCN8Yk",
        "outputId": "32b3b5db-8af1-41b6-9a56-18e4279717d8"
      },
      "outputs": [
        {
          "data": {
            "text/plain": [
              "<matplotlib.lines.Line2D at 0x7f8472f276d0>"
            ]
          },
          "execution_count": 81,
          "metadata": {},
          "output_type": "execute_result"
        },
        {
          "data": {
            "image/png": "[encoded data removed]",
            "text/plain": [
              "<Figure size 432x288 with 1 Axes>"
            ]
          },
          "metadata": {
            "needs_background": "light"
          },
          "output_type": "display_data"
        }
      ],
      "source": [
        "x=linspace(2,3,100)\n",
        "fig, ax = subplots()\n",
        "ax.grid(True, which='both')\n",
        "ax.plot(x, f(x))\n",
        "ax.axhline(y=0, color='k')\n",
        "ax.axvline(x=2, color='k')"
      ]
    },
    {
      "cell_type": "code",
      "execution_count": null,
      "metadata": {
        "id": "PPNW1YPvN8Yk",
        "outputId": "a99038a1-4fb0-407a-955c-40da9f35bc84"
      },
      "outputs": [
        {
          "data": {
            "text/plain": [
              "array([2.12340984])"
            ]
          },
          "execution_count": 162,
          "metadata": {},
          "output_type": "execute_result"
        }
      ],
      "source": [
        "r3 = fsolve(f, [2.124])\n",
        "r3"
      ]
    },
    {
      "cell_type": "code",
      "execution_count": null,
      "metadata": {
        "id": "GcLVn2ilN8Yk",
        "outputId": "9229fd36-e147-4a8f-fe1e-0ccce2e03ceb"
      },
      "outputs": [
        {
          "data": {
            "text/plain": [
              "array([2.30855813])"
            ]
          },
          "execution_count": 155,
          "metadata": {},
          "output_type": "execute_result"
        }
      ],
      "source": [
        "r4 = fsolve(f, [2.25])\n",
        "r4"
      ]
    },
    {
      "cell_type": "code",
      "execution_count": null,
      "metadata": {
        "id": "1pRKptT1N8Yk",
        "outputId": "89449515-4665-4809-cb94-6d482684f20e"
      },
      "outputs": [
        {
          "data": {
            "text/plain": [
              "array([2.52745966])"
            ]
          },
          "execution_count": 153,
          "metadata": {},
          "output_type": "execute_result"
        }
      ],
      "source": [
        "r5 = fsolve(f, [2.56])\n",
        "r5"
      ]
    },
    {
      "cell_type": "code",
      "execution_count": null,
      "metadata": {
        "id": "atAdxL9xN8Yk",
        "outputId": "4a171ad1-38d8-458d-a1e0-9afda6100cdb"
      },
      "outputs": [
        {
          "data": {
            "text/plain": [
              "array([2.63561243])"
            ]
          },
          "execution_count": 154,
          "metadata": {},
          "output_type": "execute_result"
        }
      ],
      "source": [
        "r6 = fsolve(f, [2.6])\n",
        "r6"
      ]
    },
    {
      "cell_type": "code",
      "execution_count": null,
      "metadata": {
        "id": "WjrHkADBN8Yk",
        "outputId": "c9583a1d-bdce-40ef-90b5-ac661820240d"
      },
      "outputs": [
        {
          "data": {
            "text/plain": [
              "<matplotlib.lines.Line2D at 0x7f84737015b0>"
            ]
          },
          "execution_count": 152,
          "metadata": {},
          "output_type": "execute_result"
        },
        {
          "data": {
            "image/png": "[encoded data removed]",
            "text/plain": [
              "<Figure size 432x288 with 1 Axes>"
            ]
          },
          "metadata": {
            "needs_background": "light"
          },
          "output_type": "display_data"
        }
      ],
      "source": [
        "x=linspace(2.830,2.9,100)\n",
        "fig, ax = subplots()\n",
        "ax.grid(True, which='both')\n",
        "ax.plot(x, f(x))\n",
        "ax.axhline(y=0, color='k')\n",
        "ax.axvline(x=2.830, color='k')"
      ]
    },
    {
      "cell_type": "code",
      "execution_count": null,
      "metadata": {
        "id": "5pOQgrdRN8Yk",
        "outputId": "14a96756-de30-462e-971d-979279855e7c"
      },
      "outputs": [
        {
          "data": {
            "text/plain": [
              "array([2.83405498])"
            ]
          },
          "execution_count": 149,
          "metadata": {},
          "output_type": "execute_result"
        }
      ],
      "source": [
        "r7 = fsolve(f, [2.8350])\n",
        "r7"
      ]
    },
    {
      "cell_type": "code",
      "execution_count": null,
      "metadata": {
        "id": "v-Pya7bGN8Yk"
      },
      "outputs": [],
      "source": []
    },
    {
      "cell_type": "code",
      "execution_count": null,
      "metadata": {
        "id": "y2uBsHghN8Yl",
        "outputId": "87cb427f-6804-49af-c169-a28c5294d7ce"
      },
      "outputs": [
        {
          "data": {
            "text/plain": [
              "array([2.89547496])"
            ]
          },
          "execution_count": 151,
          "metadata": {},
          "output_type": "execute_result"
        }
      ],
      "source": [
        "r8 = fsolve(f, [2.9])\n",
        "r8"
      ]
    },
    {
      "cell_type": "code",
      "execution_count": null,
      "metadata": {
        "id": "Ko8doXUmN8Yl",
        "outputId": "a0090d55-7476-4490-c253-0c6b2d1c766d"
      },
      "outputs": [
        {
          "data": {
            "text/plain": [
              "<matplotlib.lines.Line2D at 0x7f847382e640>"
            ]
          },
          "execution_count": 164,
          "metadata": {},
          "output_type": "execute_result"
        },
        {
          "data": {
            "image/png": "[encoded data removed]",
            "text/plain": [
              "<Figure size 432x288 with 1 Axes>"
            ]
          },
          "metadata": {
            "needs_background": "light"
          },
          "output_type": "display_data"
        }
      ],
      "source": [
        "x=linspace(3.05,3.15,100)\n",
        "fig, ax = subplots()\n",
        "ax.grid(True, which='both')\n",
        "ax.plot(x, f(x))\n",
        "ax.axhline(y=0, color='k')\n",
        "ax.axvline(x=3.05, color='k')"
      ]
    },
    {
      "cell_type": "code",
      "execution_count": null,
      "metadata": {
        "id": "pnrY-zyoN8Yl",
        "outputId": "ba991877-5858-4386-bc53-0faa4344df80"
      },
      "outputs": [
        {
          "data": {
            "text/plain": [
              "array([3.0907435])"
            ]
          },
          "execution_count": 168,
          "metadata": {},
          "output_type": "execute_result"
        }
      ],
      "source": [
        "r9 = fsolve(f, [3.08])\n",
        "r9"
      ]
    },
    {
      "cell_type": "code",
      "execution_count": null,
      "metadata": {
        "id": "B0q4b21LN8Yl",
        "outputId": "4f6db80f-6552-4e91-e91a-5d16c3e8b340"
      },
      "outputs": [
        {
          "data": {
            "text/plain": [
              "array([3.11051176])"
            ]
          },
          "execution_count": 167,
          "metadata": {},
          "output_type": "execute_result"
        }
      ],
      "source": [
        "r10 = fsolve(f, [3.12])\n",
        "r10"
      ]
    },
    {
      "cell_type": "markdown",
      "metadata": {
        "id": "_9zK7QrPN8Yl"
      },
      "source": [
        "Portanto, as raízes são:"
      ]
    },
    {
      "cell_type": "code",
      "execution_count": null,
      "metadata": {
        "id": "6kzIWZ4BN8Yl",
        "outputId": "29f359cd-1021-4684-999e-e07030cdbe0a"
      },
      "outputs": [
        {
          "name": "stdout",
          "output_type": "stream",
          "text": [
            "[1.46545283] [1.84169236] [2.12340984] [2.30855813] [2.52745966] [2.63561243] [2.83405498] [2.89547496] [3.0907435] [3.11051176]\n"
          ]
        }
      ],
      "source": [
        "print(r1,r2,r3,r4,r5,r6,r7,r8,r9,r10)"
      ]
    }
  ],
  "metadata": {
    "kernelspec": {
      "display_name": "Python 3",
      "language": "python",
      "name": "python3"
    },
    "language_info": {
      "codemirror_mode": {
        "name": "ipython",
        "version": 3
      },
      "file_extension": ".py",
      "mimetype": "text/x-python",
      "name": "python",
      "nbconvert_exporter": "python",
      "pygments_lexer": "ipython3",
      "version": "3.8.5"
    },
    "colab": {
      "provenance": [],
      "include_colab_link": true
    }
  },
  "nbformat": 4,
  "nbformat_minor": 0
}